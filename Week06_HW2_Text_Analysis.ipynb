{
  "nbformat": 4,
  "nbformat_minor": 0,
  "metadata": {
    "colab": {
      "provenance": [],
      "collapsed_sections": [
        "J-8XtbQh5t6s"
      ],
      "authorship_tag": "ABX9TyNVU6kjj4aZ5TaDZbsu+o1G",
      "include_colab_link": true
    },
    "kernelspec": {
      "name": "python3",
      "display_name": "Python 3"
    },
    "language_info": {
      "name": "python"
    }
  },
  "cells": [
    {
      "cell_type": "markdown",
      "metadata": {
        "id": "view-in-github",
        "colab_type": "text"
      },
      "source": [
        "<a href=\"https://colab.research.google.com/github/hida0/ESAA-2022-2/blob/HW/Week06_HW2_Text_Analysis.ipynb\" target=\"_parent\"><img src=\"https://colab.research.google.com/assets/colab-badge.svg\" alt=\"Open In Colab\"/></a>"
      ]
    },
    {
      "cell_type": "markdown",
      "source": [
        "### 개념 필사\n",
        "(파이썬 머신러닝 완벽 가이드 ch8.1-3 pg. 466~486)"
      ],
      "metadata": {
        "id": "J-8XtbQh5t6s"
      }
    },
    {
      "cell_type": "markdown",
      "source": [
        "### 8. 텍스트 분석\n",
        "- 텍스트 분석은 머신러닝, 언어 이해, 통계 등을 활용하여 모델을 수립하고 정보를 추출하여 비즈니스 인텔리전스(BI)나 예측 분석 등의 분석 작업을 주로 수행한다.\n",
        "- 머신러닝 기술에 힘입어 텍스트 분석은 크게 발전하고 있으며 주로 다음과 같은 기술 영역에 집중했다.\n",
        " - **텍스트 분류**(Text Classification): 문서가 특정 분류 또는 카테고리에 속하는 것을 예측하는 기법을 통칭한다.특정 신문 기사 내용이 연예/정치/사회/문화 중 어떤 카테고리에 속하는지 자동으로 분류하거나, 스팸 메일 검출 같은 프로그램이 이에 속한다. 지도학습을 적용한다.\n",
        " - **감성 분석**(Sentiment Analysis): 텍스트에서 나타나는 감정/판단/믿음/의견/기분 등의 주관적인 요소를 분석하는 기법을 총칭한다. 소셜 미디어 감정 분석, 영화나 제품에 대한 긍정 또는 리뷰, 여론조사 의견 분석 등의 다양한 영역에서 활용된다. 지도학습 방법 뿐만 아니라 비지도학습을 이용해 적용할 수 있다. \n",
        " - **텍스트 요약**(Summarization): 텍스트 내에서 중요한 주제나 중심 사상을 추출하는 기법이다. 대표적으로 토픽 모델링이 있다.\n",
        " - **텍스트 군집화**(Clustering)와 **유사도 측정**: 비슷한 유형의 문서에 대해 군집화를 수행하는 기법이다. 텍스트 분류를 비지도학습으로 수행하는 방법의 일환으로 사용된다. 유사도 측정 역시 문서들간의 유사도를 측정하여 비슷한 문서끼리 모을 수 있는 방법이다."
      ],
      "metadata": {
        "id": "iUd8zwr8KZvK"
      }
    },
    {
      "cell_type": "markdown",
      "source": [
        "### 8-1. 텍스트 분석 이해\n",
        "- 텍스트 분석은 비정형 데이터인 텍스트를 분석하는 것이다.\n",
        "- 지금까지 ML 모델은 주어진 정형 데이터 기반에서 모델을 수립하고 예측을 수행했다. ML 알고리즘은 숫자형의 피처 기반 데이터만 입력받을 수 있기 때문에 텍스트를 머신러닝에 적용하기 위해서는 **비정형 텍스트 데이터를 어떻게 피처 형태로 추출**하고 **추출된 피처에 의미있는 값을 부여하는가** 하는 것이 매우 중요하다.\n",
        "- 텍스트를 **word 기반의 다수의 피처로 추출**하고, 이 피처에 **단어 빈도수와 같은 숫자 값을 부여**하면 **텍스트는 단어의 조합인 벡터값**으로 표현될 수 있다. 이렇게 텍스트를 변환하는 것을 **피처 벡터화**(Feature Vectorization) 또는 **피처 추출**(Feature Extraction)이라고 한다.\n",
        "- 대표적으로 텍스트를 피처 벡터화해서 변환하는 방법에는 **BOW**(Bag of Words)가 있다."
      ],
      "metadata": {
        "id": "EpH81UB9Mqax"
      }
    },
    {
      "cell_type": "markdown",
      "source": [
        "### 8-1. 텍스트 분석 이해\n",
        "#### 1) 텍스트 분석 수행 프로세스\n",
        "머신러닝 기반의 텍스트 분석 프로세스는 다음과 같은 프로세스 순서로 수행한다.\n",
        "1. **텍스트 사전 준비작업(텍스트 전처리**): 텍스트를 피처로 만들기 전에 대/소문자 변경, 특수문자 삭제 등의 **클렌징 작업**, 단어 등의 **토큰화 작업**, 의미없는 단어 **제거 작업**, 어근 추출 등의 **텍스트 정규화 작업**을 수행하는 것을 통칭한다.\n",
        "2. **피처 벡터화/피처 추출**: 사전 준비 작업으로 가공된 텍스트에서 피처를 추출하고 여기에 벡터 값을 할당한다. 대표적인 방법으로 **BOW**가 있으며, BOW는 **Count 기반과 TF-IDF 기반 벡터화**가 있다.\n",
        "3. **ML 모델 수립 및 학습/예측/평**가: 피처 벡터화된 데이터 세트에 ML 모델을 적용하여 학습/예측 및 평가를 수행한다."
      ],
      "metadata": {
        "id": "aGyNQSjSNoIL"
      }
    },
    {
      "cell_type": "markdown",
      "source": [
        "### 8-1. 텍스트 분석 이해\n",
        "#### 2) 파이썬 기반의 NLP, 텍스트 분석 패키지\n",
        "- 대표적인 파이썬 기반의 NLP와 텍스트 분석 패키지를 소개한다.\n",
        "- NTLK(Natural Language Toolkit for Python): 파이썬의 가장 대표적인 NLP 패키지이다. 방대한 데이터 세트와 서브 모듈을 가지고 있으며 NLP의 거의 모든 영역을 커버한다. 많은 NLP 패키지가 NLTK의 영향을 받아 작성되고 있다. 수행 속도 측면에서 아쉬운 부분이 있어 실제 대량의 데이터 기반에서는 제대로 활용되지 못하고 있다.\n",
        "- SpaCy: 뛰어난 수행 성능으로 최근 가장 주목을 받는 NLP 패키지이다. 많은 NLP 애플리케이션에서 SpaCy를 사용하는 사례가 증가하고 있다.\n",
        "- Gensim: 토픽 모델링 분야에서 가장 두각을 나타내는 패키지이다. 오래 전부터 토픽 모델링을 쉽게 구현할 수 있는 기능을 제공해왔으며, Word2Vec 구현 드으이 다양한 신기능을 제공한다. SpaCy와 함께 가장 많이 사용되는 NLP 패키지이다."
      ],
      "metadata": {
        "id": "sYjcJBjiOkwE"
      }
    },
    {
      "cell_type": "markdown",
      "source": [
        "### 8-2. 텍스트 사전 준비 작업(텍스트 전처리) - **텍스트 정규화**\n",
        "- 텍스트 자체를 바로 피처로 만들 수 없으므로, 이를 위해 **사전에 텍스트를 가공**하는 준비 작업이 필요하다. \n",
        "- 이러한 작업을 **텍스트 정규화**라고 하며, 텍스트 분석에서 매우 중요하다.\n",
        "- 텍스트 정규화는 텍스트를 머신러닝 알고리즘이나 NLP 애플리케이션에 입력 데이터로 사용하기 위해 **클렌징, 정제, 토큰화, 어근화** 등의 다양한 텍스트 데이터의 사전 작업을 수행하는 것을 의미한다.\n",
        " - **클렌징(Cleansing)**\n",
        " - **토큰화(Tokenization)**\n",
        " - **필터링/스톱 워드 제거/철자 수정**\n",
        " - **Stemming**\n",
        " - **Lemmatization**"
      ],
      "metadata": {
        "id": "HAKjY3jmPmyp"
      }
    },
    {
      "cell_type": "markdown",
      "source": [
        "### 8-2. 텍스트 사전 준비 작업(텍스트 전처리) - 텍스트 정규화\n",
        "#### 1) 클렌징\n",
        "- 텍스트에서 **분석에 오히려 방해가 되는 불필요한 문자, 기호 등을 사전에 제거**하는 작업이다.\n",
        "- 예를 들어 HTML, XML, 태그나 특정 기호 등을 사전에 제거한다."
      ],
      "metadata": {
        "id": "g7FYR95sQTbi"
      }
    },
    {
      "cell_type": "markdown",
      "source": [
        "### 8-2. 텍스트 사전 준비 작업(텍스트 전처리) - 텍스트 정규화\n",
        "#### 2) 텍스트 토큰화\n",
        "- 토큰화의 유형은 **문서에서 문장을 분리하는 문장 토근화**와 **문장에서 단어를 토큰으로 분리하는 단어 토근화**로 나눌 수 있다.\n",
        "- NLTK는 이를 위한 다양한 API를 제공한다.\n",
        "\n",
        "> **문장 토큰화**\n",
        "- 문장 토근화는 **문장의 마침표(.), 개행문자(\\n)** 등 **문장의 마지막을 뜻하는 기호에 따라 분리**하는 것이 일반적이다.\n",
        "- 또한 정규 표현식에 따른 문장 토큰화도 가능하다.\n",
        "- 일반적으로 문장 토큰화는 각 문장이 가지는 시맨틱적인 의미가 중요한 요소로 사용될 때 사용한다.\n",
        "- NLTK에서 기본으로 제공하는 **`sent_tokenize( )`**를 이용하여 토큰화를 수행한다.\n",
        "- 다음은 3개의 문장으로 이루어진 텍스트 문서를 문장으로 각각 분리하는 예제이다. \n",
        "- NLTK의 경우 단어 사전과 같이 참조가 필요한 데이터 세트의 경우 인터넷으로 다운로드 받을 수 있다. `nltk.download('punkt')는 마침표, 개행문자 등의 데이터 세트를 다운로드 받는다.\n",
        "- **`sent_tokenize( )`**가 반환하는 것은 각각의 문장으로 구성된 list 객체이다. 변환된 list 객체가 3개의 문장으로 된 문자열을 가지고 있는 것을 알 수 있다."
      ],
      "metadata": {
        "id": "jsm7cfpfQigQ"
      }
    },
    {
      "cell_type": "code",
      "source": [
        "from nltk import sent_tokenize\n",
        "import nltk\n",
        "nltk.download('punkt')"
      ],
      "metadata": {
        "colab": {
          "base_uri": "https://localhost:8080/"
        },
        "id": "jctDZsq8RfyP",
        "outputId": "215ba587-48ca-48a6-ff32-7c6f0839dc37"
      },
      "execution_count": null,
      "outputs": [
        {
          "output_type": "stream",
          "name": "stderr",
          "text": [
            "[nltk_data] Downloading package punkt to /root/nltk_data...\n",
            "[nltk_data]   Unzipping tokenizers/punkt.zip.\n"
          ]
        },
        {
          "output_type": "execute_result",
          "data": {
            "text/plain": [
              "True"
            ]
          },
          "metadata": {},
          "execution_count": 1
        }
      ]
    },
    {
      "cell_type": "code",
      "source": [
        "text_sample = \"The Matrix is everywhere its all around us, here even in this room. \\\n",
        "You can see it out your window or on your television. \\\n",
        "You feel it when you go to work, or go to church or pay your taxes.\"\n",
        "\n",
        "sentences = sent_tokenize(text=text_sample)\n",
        "\n",
        "print(type(sentences))\n",
        "print(len(sentences))\n",
        "print(sentences)"
      ],
      "metadata": {
        "colab": {
          "base_uri": "https://localhost:8080/"
        },
        "id": "AQV4Xdq0RrGu",
        "outputId": "40bfa926-b24e-4190-fdcc-c1e67993318f"
      },
      "execution_count": null,
      "outputs": [
        {
          "output_type": "stream",
          "name": "stdout",
          "text": [
            "<class 'list'>\n",
            "3\n",
            "['The Matrix is everywhere its all around us, here even in this room.', 'You can see it out your window or on your television.', 'You feel it when you go to work, or go to church or pay your taxes.']\n"
          ]
        }
      ]
    },
    {
      "cell_type": "markdown",
      "source": [
        "### 8-2. 텍스트 사전 준비 작업(텍스트 전처리) - 텍스트 정규화\n",
        "#### 2) 텍스트 토큰화\n",
        "> **단어 토큰화**\n",
        "- 단어 토큰화는 문장을 단어로 토큰화하는 것이다. \n",
        "- 기본적으로 **공백, 콤마(,), 마침표(.), 개행문자(\\n)** 등으로 **단어를 분리**하지만, 정규 표현식을 이용하여 다양한 유형으로 토큰화를 수행할 수 있다.\n",
        "- 마침표나 개행문자와 같이 문장을 분리하는 구분자를 이용하여 단어를 토큰화할 수 있으므로, **Bags of Word와 같이 단어의 순서가 중요하지 않은 경우** 문장 토큰화를 사용하지 않고 **단어 토큰화만 사용해도 충분**하다.\n",
        "- NLTK에서  **`word_tokenize( )`**를 이용하여 단어로 토큰화를 수행한다."
      ],
      "metadata": {
        "id": "_vzcAWD9SiBE"
      }
    },
    {
      "cell_type": "code",
      "source": [
        "from nltk import word_tokenize\n",
        "sentence = \"The Matrix is everywhere its all around us, here even in this room.\"\n",
        "words = word_tokenize(sentence)\n",
        "print(type(words))\n",
        "print(len(words))\n",
        "print(words)"
      ],
      "metadata": {
        "colab": {
          "base_uri": "https://localhost:8080/"
        },
        "id": "m9PzU7EfSS7D",
        "outputId": "3f9d1487-2cee-4621-a9d6-3539d420988d"
      },
      "execution_count": null,
      "outputs": [
        {
          "output_type": "stream",
          "name": "stdout",
          "text": [
            "<class 'list'>\n",
            "15\n",
            "['The', 'Matrix', 'is', 'everywhere', 'its', 'all', 'around', 'us', ',', 'here', 'even', 'in', 'this', 'room', '.']\n"
          ]
        }
      ]
    },
    {
      "cell_type": "markdown",
      "source": [
        "### 8-2. 텍스트 사전 준비 작업(텍스트 전처리) - 텍스트 정규화\n",
        "#### 2) 텍스트 토큰화\n",
        "- **`sent_tokenize`**와 **`word_tokenize`**를 조합하여 문서에 대해 모든 단어를 토큰화한다. \n",
        "- 이전 예제에서 선언된 3개의 문장으로 된 text_sample을 문장별로 단어 토큰화를 적용한다. \n",
        "- 이를 위해 문서를 먼저 문장으로 나누고, 개별 문장을 다시 단어로 토큰화하는 **tokenize_text( )** 함수를 생성한다.\n",
        "---\n",
        "- 3개의 문장을 문장별로 먼저 토큰화했으므로 word_tokens 변수는 3개의 리스트 객체를 내포하는 리스트이다. 그리고 내포된 개별 리스트 객체는 각각 문장별로 토큰화된 단어를 요소로 가지고 있다.\n"
      ],
      "metadata": {
        "id": "D7QMKliHYPeo"
      }
    },
    {
      "cell_type": "code",
      "source": [
        "from nltk import sent_tokenize, word_tokenize\n",
        "\n",
        "# 여러 개의 문장으로 된 입력 데이터를 문장별로 단어 토큰화하게 만드는 함수 생성\n",
        "def tokenize_text(text):\n",
        "    # 문장별로 분리 토큰\n",
        "    sentences = sent_tokenize(text)\n",
        "    # 분리된 문장별 단어 토큰화\n",
        "    word_tokens = [word_tokenize(sentence) for sentence in sentences]\n",
        "    return word_tokens"
      ],
      "metadata": {
        "id": "jPZwuvHLYIQo"
      },
      "execution_count": null,
      "outputs": []
    },
    {
      "cell_type": "code",
      "source": [
        "# 여러 문장에 대해 문장별 단어 토큰화 수행\n",
        "word_tokens = tokenize_text(text_sample)\n",
        "print(type(word_tokens))\n",
        "print(len(word_tokens))\n",
        "print(word_tokens)"
      ],
      "metadata": {
        "colab": {
          "base_uri": "https://localhost:8080/"
        },
        "id": "qpyPF6VvZH4F",
        "outputId": "f1d052e4-c564-4db2-9577-f75e6834ebdc"
      },
      "execution_count": null,
      "outputs": [
        {
          "output_type": "stream",
          "name": "stdout",
          "text": [
            "<class 'list'>\n",
            "3\n",
            "[['The', 'Matrix', 'is', 'everywhere', 'its', 'all', 'around', 'us', ',', 'here', 'even', 'in', 'this', 'room', '.'], ['You', 'can', 'see', 'it', 'out', 'your', 'window', 'or', 'on', 'your', 'television', '.'], ['You', 'feel', 'it', 'when', 'you', 'go', 'to', 'work', ',', 'or', 'go', 'to', 'church', 'or', 'pay', 'your', 'taxes', '.']]\n"
          ]
        }
      ]
    },
    {
      "cell_type": "markdown",
      "source": [
        "### 8-2. 텍스트 사전 준비 작업(텍스트 전처리) - 텍스트 정규화\n",
        "#### 2) 텍스트 토큰화\n",
        "- 문장을 단어별로 하나씩 토큰화할 경우 문맥적인 의미는 무시될 수밖에 없다. \n",
        "- 이러한 문제를 조금이라도 해결해 보고자 도입된 것이 **n-gram**으로, **연속된 n개의 단어를 하나의 토큰화 단위로 분리**해내는 것이다.\n",
        "- n개 단어 크기 윈도우를 만들어 문장의 처음부터 오른쪽으로 움직이면서 토큰화를 수행한다.\n",
        "- 예를 들어 \"Agent Smith knocks the door\"를 2-gram으로 만들면 (Agent, Smith), (Smith, knocks), (knocks, the), (the, door)와 같이 연속적으로 2개의 단어들을 순차적으로 이동하면서 단어들을 토큰화한다."
      ],
      "metadata": {
        "id": "59nHyzlpZnII"
      }
    },
    {
      "cell_type": "markdown",
      "source": [
        "### 8-2. 텍스트 사전 준비 작업(텍스트 전처리) - 텍스트 정규화\n",
        "#### 3) 스톱 워드 제거\n",
        "- **스톱 워드**(stop word)는 **분석에 큰 의미가 없는 단어**를 지칭한다.\n",
        "- 가령 영어에서 is, the, a, will 등은 문장을 구성하는 필수 문법 요소지만 문백적으로 큰 의미가 없는 단어이다. \n",
        "- 이 단어의 경우 문법적인 특성으로 인해 특히 빈번하게 텍스트에 나타나므로 이것들을 **사전에 제거하지 않으면 그 빈번함으로 인해 오히려 중요한 단어로 인지될 수 있다**. 따라서 이 의미없는 단어를 제거하는 것이 중요한 전처리 작업이다.\n",
        "- 언어별로 이러한 스톱 워드가 목록화되어 있다. NLTK의 경우 가장 다양한 언어의 스톱 워드를 제공한다. \n",
        "---\n",
        "-  **`nltk`**로부터 **stopwords** 목록을 다운로드 받아 NLTK의 스톱 워드에는 어떤 것이 있는지 확인한다.\n",
        "- **NLTK의 English의 경우 몇 개의 stopwords가 있는지** 알아보고, 그 중에 20개만 출력하여 확인한다.\n"
      ],
      "metadata": {
        "id": "Hx0dZXWoaHQn"
      }
    },
    {
      "cell_type": "code",
      "source": [
        "import nltk\n",
        "nltk.download('stopwords')"
      ],
      "metadata": {
        "colab": {
          "base_uri": "https://localhost:8080/"
        },
        "id": "6vlUSpB2ZR9N",
        "outputId": "07e08982-326f-4208-af07-674c99d007ce"
      },
      "execution_count": null,
      "outputs": [
        {
          "output_type": "stream",
          "name": "stderr",
          "text": [
            "[nltk_data] Downloading package stopwords to /root/nltk_data...\n",
            "[nltk_data]   Unzipping corpora/stopwords.zip.\n"
          ]
        },
        {
          "output_type": "execute_result",
          "data": {
            "text/plain": [
              "True"
            ]
          },
          "metadata": {},
          "execution_count": 6
        }
      ]
    },
    {
      "cell_type": "code",
      "source": [
        "print(\"영어 stop words 개수: \", len(nltk.corpus.stopwords.words('english')))\n",
        "print(nltk.corpus.stopwords.words('english')[:20])"
      ],
      "metadata": {
        "colab": {
          "base_uri": "https://localhost:8080/"
        },
        "id": "gO5_Y_Flcvgx",
        "outputId": "e04eb784-b946-4ace-febb-80f348bf1297"
      },
      "execution_count": null,
      "outputs": [
        {
          "output_type": "stream",
          "name": "stdout",
          "text": [
            "영어 stop words 개수:  179\n",
            "['i', 'me', 'my', 'myself', 'we', 'our', 'ours', 'ourselves', 'you', \"you're\", \"you've\", \"you'll\", \"you'd\", 'your', 'yours', 'yourself', 'yourselves', 'he', 'him', 'his']\n"
          ]
        }
      ]
    },
    {
      "cell_type": "markdown",
      "source": [
        "### 8-2. 텍스트 사전 준비 작업(텍스트 전처리) - 텍스트 정규화\n",
        "#### 3) 스톱 워드 제거\n",
        "- 영어의 경우 스톱 워드의 개수가 179개이며, 그 중 20개만 살펴보면 다음과 같다. \n",
        "- 바로 위 예제에서 **3개의 문장별로 단어를 토큰화하여 생성된 word_tokens 리스트**에 대해서, **stopwords를 필터링으로 제거**하여 **분석을 위한 의미있는 단어만 추출**한다.\n",
        "- is, this와 같은 스톱 워드가 필터링을 통해 제거되었음을 알 수 있다."
      ],
      "metadata": {
        "id": "wmM6EAiIdlWf"
      }
    },
    {
      "cell_type": "code",
      "source": [
        "word_tokens[0]"
      ],
      "metadata": {
        "colab": {
          "base_uri": "https://localhost:8080/"
        },
        "id": "ZCH0Ra-Rd4a9",
        "outputId": "6c577a80-d880-4afa-9adf-09a7b5c07209"
      },
      "execution_count": null,
      "outputs": [
        {
          "output_type": "execute_result",
          "data": {
            "text/plain": [
              "['The',\n",
              " 'Matrix',\n",
              " 'is',\n",
              " 'everywhere',\n",
              " 'its',\n",
              " 'all',\n",
              " 'around',\n",
              " 'us',\n",
              " ',',\n",
              " 'here',\n",
              " 'even',\n",
              " 'in',\n",
              " 'this',\n",
              " 'room',\n",
              " '.']"
            ]
          },
          "metadata": {},
          "execution_count": 12
        }
      ]
    },
    {
      "cell_type": "code",
      "source": [
        "stopwords = nltk.corpus.stopwords.words('english')\n",
        "all_tokens = []\n",
        "\n",
        "# 위의 예제에서 3개의 문장별로 얻은 word_token 리스트에 대해서 스톱 워드를 제거하는 반복문\n",
        "for sentence in word_tokens:\n",
        "    filtered_words = []\n",
        "    \n",
        "    # 개별 문장별로 토큰화된 문장 리스트에 대해 스톱 워드를 제거하는 반복문\n",
        "    for word in sentence:\n",
        "        # 소문자로 모두 변환\n",
        "        word = word.lower()\n",
        "        # 토큰화된 개별 단어가 스톱 워드의 단어에 포함되지 않으면 filtered_tokens에 추가\n",
        "        if word not in stopwords:\n",
        "            filtered_words.append(word)\n",
        "    \n",
        "    all_tokens.append(filtered_words)\n",
        "\n",
        "print(all_tokens)"
      ],
      "metadata": {
        "colab": {
          "base_uri": "https://localhost:8080/"
        },
        "id": "dKkhh8g_c7rx",
        "outputId": "96e4d383-5c9a-4dbc-e4b5-45dfdd4bb4d4"
      },
      "execution_count": null,
      "outputs": [
        {
          "output_type": "stream",
          "name": "stdout",
          "text": [
            "[['matrix', 'everywhere', 'around', 'us', ',', 'even', 'room', '.'], ['see', 'window', 'television', '.'], ['feel', 'go', 'work', ',', 'go', 'church', 'pay', 'taxes', '.']]\n"
          ]
        }
      ]
    },
    {
      "cell_type": "markdown",
      "source": [
        "### 8-2. 텍스트 사전 준비 작업(텍스트 전처리) - 텍스트 정규화\n",
        "#### 4) Stemming과 Lemmatization\n",
        "- 많은 언어에서 문법적인 요소에 따라 단어가 다양하게 변한다. 영어의 경우 과거/현재, 3인칭 단수 여부, 진행형 등 매우 많은 조건에 따라 원래 단어가 변화한다.\n",
        "- **Stemming과 Lemmatization**은 **문법적 또는 의미적으로 변화하는 단어의 원형을 찾는 것**이다.\n",
        "- 두 기능 모두 원형 단어를 찾는다는 목적에서 유사하지만, Lemmatization이 Stemming보다 정교하며 의미론적인 기반에서 단어의 원형을 찾는다.\n",
        " - **Stemming**은 원형 단어로 변환시 **일반적인 방법을 적용하거나 더 단순화된 방법**을 적용하여 **원래 단어에서 일부 철자가 훼손된 어근 단어를 추출**하는 경향이 있다.\n",
        " - **Lemmatization**은 **품사와 같은 문법적인 요소와 더 의미적인 부분을 감안**하여 **정확한 철자로 된 어근 단어를 찾아준다**. 그렇기 때문에 **변환에 더 오랜 시간**을 필요로 한다.\n",
        "- NLTK는 다양한 Stemmer를 제공한다. 대표적으로 Porter, Lancaster, Snowball Stemmer가 있다. \n",
        "- Lemmatization을 위해서는 WordNetLemmatizer를 제공한다. \n",
        "---\n",
        "- 이 클래스들을 이용하여 Stemming과 Lemmatization를 비교한다. \n",
        "- 먼저 **`nltk.stem`**으로부터 **`LancasterStemmer`**을 임포트하여 사용한다. \n",
        "- **진행형, 3인칭 단수, 과거형에 따른 동사, 그리고 비교, 최상**에 따른 형용사의 변화에 따라 Stemming은 더 단순하게 **원형 단어**를 찾아준다. \n",
        "- NLTK에서는 **`LancasterStemmer( )`**와 같이 필요한 Stemmer 객체를 생성한 뒤, 이 객체의 stem('단어') 메서드를 호출하면 원하는 '단어'의 Stemming이 가능하다.\n",
        "- work의 경우 진행형(working), 3인칭 단수(works), 과거형(worked) 모두 기본 단어인 work에 ing, s, ed가 붙는 단순한 변화이므로 원형 단어로 work를 제대로 인식한다.\n",
        "- 하지만 amuse의 경우 각 변화가 amus에 ing, s, ed가 붙으므로 정확한 단어인 amuse가 아닌 amus를 원형 단어로 인식한다.\n",
        "- 형용사인 happy, fancy의 경우도 비교형, 최상급형으로 변형된 단어의 정확한 원형을 찾지 못하고 원형 단어에서 철자가 다른 어근 단어로 인식하는 경우가 발생한다."
      ],
      "metadata": {
        "id": "FRVEc3wzex40"
      }
    },
    {
      "cell_type": "code",
      "source": [
        "from nltk.stem import LancasterStemmer\n",
        "stemmer = LancasterStemmer()\n",
        "\n",
        "print(stemmer.stem('working'), stemmer.stem('works'), stemmer.stem('worked'))\n",
        "print(stemmer.stem('amusing'), stemmer.stem('amuses'), stemmer.stem('amused'))\n",
        "print(stemmer.stem('happier'), stemmer.stem('happiest'))\n",
        "print(stemmer.stem('fancier'), stemmer.stem('fanciest'))"
      ],
      "metadata": {
        "colab": {
          "base_uri": "https://localhost:8080/"
        },
        "id": "gogpmA0regBm",
        "outputId": "65223649-153b-4b06-f405-cf272d2a90eb"
      },
      "execution_count": null,
      "outputs": [
        {
          "output_type": "stream",
          "name": "stdout",
          "text": [
            "work work work\n",
            "amus amus amus\n",
            "happy happiest\n",
            "fant fanciest\n"
          ]
        }
      ]
    },
    {
      "cell_type": "markdown",
      "source": [
        "### 8-2. 텍스트 사전 준비 작업(텍스트 전처리) - 텍스트 정규화\n",
        "#### 4) Stemming과 Lemmatization\n",
        "- 이번에는 **`nltk.stem`**으로부터 임포트한 **`WordNetLemmatizer`**를 이용하여 Lemmatization을 수행한다.\n",
        "- 일반적으로 Lemmatization은 **보다 정확한 원형 단어 추출을 위해** 객체를 생성하고 **lemmatize`** 메서드에 **'단어'와 함께  '단어의 품사'를 입력**해야 한다.\n",
        "- 다음 예제에서 볼 수 있듯이 파라미터로 **동사의 경우 'v'**를, **형용사의 경우 'a'**를 입력해야 한다.\n",
        "- 앞선 Stemmer를 이용했을 때보다 정확하게 원형 단어를 추출했음을 알 수 있다."
      ],
      "metadata": {
        "id": "pU2OCUeCsqHe"
      }
    },
    {
      "cell_type": "code",
      "source": [
        "from nltk.stem import WordNetLemmatizer\n",
        "import nltk\n",
        "nltk.download('wordnet')\n",
        "nltk.download('omw-1.4')"
      ],
      "metadata": {
        "colab": {
          "base_uri": "https://localhost:8080/"
        },
        "id": "xw3IGMvAr_vk",
        "outputId": "8226b050-0232-4bf1-c479-87ac8bb899d3"
      },
      "execution_count": null,
      "outputs": [
        {
          "output_type": "stream",
          "name": "stderr",
          "text": [
            "[nltk_data] Downloading package wordnet to /root/nltk_data...\n",
            "[nltk_data]   Package wordnet is already up-to-date!\n",
            "[nltk_data] Downloading package omw-1.4 to /root/nltk_data...\n"
          ]
        },
        {
          "output_type": "execute_result",
          "data": {
            "text/plain": [
              "True"
            ]
          },
          "metadata": {},
          "execution_count": 18
        }
      ]
    },
    {
      "cell_type": "code",
      "source": [
        "lemma = WordNetLemmatizer()\n",
        "\n",
        "print(lemma.lemmatize('amusing', 'v'), lemma.lemmatize('amuses', 'v'), lemma.lemmatize('amused', 'v'))\n",
        "print(lemma.lemmatize('happier', 'a'), lemma.lemmatize('happiest', 'a'))\n",
        "print(lemma.lemmatize('fancier', 'a'), lemma.lemmatize('fanciest', 'a'))"
      ],
      "metadata": {
        "colab": {
          "base_uri": "https://localhost:8080/"
        },
        "id": "a4xsBN9Fvbm-",
        "outputId": "ed44c7b5-bb3f-41ca-9315-df50101682c8"
      },
      "execution_count": null,
      "outputs": [
        {
          "output_type": "stream",
          "name": "stdout",
          "text": [
            "amuse amuse amuse\n",
            "happy happy\n",
            "fancy fancy\n"
          ]
        }
      ]
    },
    {
      "cell_type": "markdown",
      "source": [
        "### 8-3. BOW - Bag Of Words\n",
        "- Bag Of Words 모델은 문서가 가지는 **모든 단어를 문맥이나 순서를 무시**하고 일괄적으로 **단어에 대해 빈도 값을 부여하여 피처 값을 추출**하는 모델이다.\n",
        "- 문서 내 모든 단어를 한꺼번에 봉투(Bag) 안에 넣어 흔들어서 섞는다는 의미로 BOW 모델이라고 한다.\n",
        "- 다음과 같은 2개의 문장이 있다고 가정하고, 이 문장을 Bag OF Words의 단어 수(word count) 기반으로 피처를 추출한다.\n",
        "\n",
        "> - 문장1: \"My wife likes to watch baseball games and my daughter likes to watch baseball games too\"\n",
        "- 문장2: \"My wife likes to play baseball\"\n",
        "\n",
        " 1. 문장1과 문장2에 있는 모든 단어에서 중복을 제거하고, 각 단어를 칼럼 형태로 나열한다. 그리고 각 단어에 고유의 인덱스를 다음과 같이 부여한다.\n",
        "  - 'and':0, 'baseball':1, 'daughter':2, 'games':3, 'likes':4, 'my':5, 'play':6, 'to':7, 'too':8, 'watch':9, 'wife':10\n",
        " 2. 개별 문장에서 해당 단어가 나타나는 횟수를 각 단어에 기재한다. 예를 들어 'baseball'은 문장1에서 2번, 문장2에서 1번 나타나며, 'daughter'은 문장1에서만 1번 나타난다.\n",
        "\n",
        "- BOW 모델의 장점은 쉽고 빠른 모델 구축에 있다. 단순히 단어의 발생 횟수에 기반하고 있지만, 예상보다 문서의 특징을 잘 나타낼 수 있는 모델이어서 전통적으로 여러 분야에서 활용도가 높다.\n",
        "- 하지만 BOW 기반의 NLP 연구는 여러가지 제약에 부딪히고 있는데, 대표적인 단점은 다음과 같다.\n",
        " - **문맥 의미 반영 부족**: BOW는 단어의 순서를 고려하지 않기 때문에 문장 내에서 단어의 문맥적인 의미가 무시된다. 물론 이를 보완하기 위해 n_gram 기법을 활용할 수는 있지만, 제한적인 부분에 그치므로 **언어의 많은 부분을 차지하는 문맥적인 해석을 처리하지 못한다**는 단점이 있다.\n",
        " - **희소 행렬 문제**: BOW로 피처 벡터화를 수행하면 희소 행렬 형태의 데이터 세트가 만들어지기 쉽다. 많은 문서에서 단어를 추출하면 매우 많은 단어가 칼럼으로 만들어진다. 문서마다 서로 다른 단어로 구성되기 때문에 단어가 문서마다 나타나지 않는 경우가 더 많다. 즉 **매우 많은 문서에서 추출된 단어의 총 개수는 수만~수십만개**가 될 수 있는데, **하나의 문서에 있는 단어는 이중 극히 일부분**이므로 **대부분의 데이터 값이 0으로 채워지게 된다**. 이처럼 **대규모의 칼럼으로 구성된 행렬에서 대부분의 값이 0으로 채워지는 행렬을 희소 행렬**이라고 한다. 희소 행렬은 일반적으로 **ML 알고리즘의 수행 시간과 예측 성능을 떨어뜨리**기 때문에 희소 행렬을 위한 특별한 기법이 마련되어 있다."
      ],
      "metadata": {
        "id": "MupN2hHfvkdb"
      }
    },
    {
      "cell_type": "markdown",
      "source": [
        "### 8-3. BOW - Bag Of Words\n",
        "#### 1) BOW 피처 벡터화\n",
        "- 머신러닝 알고리즘은 일반적으로 숫자형 피처를 데이터로 입력받아 동작하기 때문에 텍스트와 같은 데이터는 머신러닝 알고리즘에 바로 입력할 수가 없다.\n",
        "- 따라서 **텍스트는 특정 의미를 가지는 숫자형 값인 벡터 값으로 변환**해야 하는데, 이러한 변환을 **피처 벡터화**라고 한다.\n",
        "- 예를 들어 각 문서의 텍스트를 단어로 추출해 피처로 할당하고 각 단어의 발생 빈도와 같은 값을 이 피처에 값으로 부여하여, 각 문서를 이 단어 발생 빈도 값으로 구성된 벡터로 만드는 기법이다.\n",
        "- 피처 벡터화는 기존 텍스트 데이터를 또 다른 형태의 피처의 조합으로 변경하기 때문에 넓은 범위의 피처 추출에 포함된다.\n",
        "- **BOW 모델에서 피처 벡터화**를 수행한다는 것은 **모든 문서에서 모은 단어를 칼럼 형태로 나열**하고, **각 문서에서 해당 단어의 횟수나 정규화된 빈도를 값으로 부여하는 데이터 세트 모델로 변경**하는 것이다.\n",
        "- 예를 들어 M개의 텍스트 문서가 있고 이 문서에서 모든 단어를 추출하여 나열했을 때 N개의 단어가 있다고 가정하면, 문서의 피처 벡터화를 수행하면 M개의 문서는 각각 N개의 값이 할당된 피처의 벡터 세트가 된다. 결과적으로 M x N개의 단어 피처로 이뤄진 행렬을 구성한다."
      ],
      "metadata": {
        "id": "e1Nhg4q_yOwg"
      }
    },
    {
      "cell_type": "markdown",
      "source": [
        "### 8-3. BOW - Bag Of Words\n",
        "#### 1) BOW 피처 벡터화\n",
        "- 일반적으로 BOW의 피처 벡터화는 두가지 방식이 있다.\n",
        "1. **카운트 기반의 벡터화**\n",
        "  - 단어 피처에 값을 부여할 때 **각 문서에서 해당 단어가 나타나는 횟수, 즉 count를 부여**하는 경우이다.\n",
        "  - 카운트 벡터화에서는 **카운트 값이 높을수록 중요한 단어**로 인식한다.\n",
        "  - 카운트만 부여할 경우 그 문서의 특징을 나타내기보다 언어의 특성상 문장에서 자주 사용될 수박에 없는 단어까지 높은 값을 부여한다는 단점이 있다.\n",
        "2. **TF-IDF 기반의 벡터화**\n",
        " - TF-IDF 기반 벡터화는 카운트 벡터화의 문제점을 보완하기 위해 사용한다.\n",
        " - TF-IDF는 개별 문서에서 **자주 나타나는 단어에 높은 가중치를 주되**, 모든 문서에서 **전반적으로 자주 나타나는 단어에 대해서는 페널티를 주는 방식으로 값을 부여**한다.\n",
        " - 문서마다 텍스트가 길고 문서의 개수가 많은 경우 카운트 방식보다는 TF-IDF 방식을 사용하는 것이 더 좋은 예측 성능을 보장할 수 있다."
      ],
      "metadata": {
        "id": "XjVRmjRLzWvh"
      }
    },
    {
      "cell_type": "markdown",
      "source": [
        "### 8-3. BOW - Bag Of Words\n",
        "#### 2) 사이킷런의 Count 및 TF-IDF 벡터화 구현: **CountVectorizer, TfidfVectorizer**\n",
        "- 사이킷런의 **`CountVectorizer`** 클래스는 **카운트 기반의 벡터화를 구현**한 클래스이다. \n",
        "- 이 클래스는 단지 피처 벡터화만 수행하지는 않으며 소문자 일괄 변환, 토큰화, 스톱 워드 필터링 등의 **텍스트 전처리도 함께 수행**한다. 이러한 텍스트 전처리 및 피처 벡터화를 위한 입력 파라미터를 객체에 설정한다.\n",
        "- **`CountVectorizer`**는 사이킷런의 다른 피처 변환 클래스와 마찬가지로 **`fit( )`**과 **`transform( )`**을 통해 피처 벡터화된 객체를 반환한다.\n",
        "\n",
        "> **`CountVectorizer`**의 입력 파라미터\n",
        " - **`max_df`**: 전체 문서에 걸쳐서 너무 높은 빈도수를 가지는 단어 피처를 제외하기 위한 파라미터이다. 정수 값을 설정하면 전체 문서에 걸쳐 설정한 값 이하로 나타나는 단어만 피처로 추출한다. 소수점 값을 설정하면 전체 문서에 걸쳐 빈도수의 해당 퍼센트만큼의 단어만 피처로 추출한다.\n",
        " - **`min_df`**: 전체 문서에 걸쳐서 너무 낮은 빈도수를 가지는 단어 피처를 제외하기 위한 파라미터이다. 정수 값을 설정하면 전체 문서에 걸쳐 설정한 값 이하로 나타나는 단어는 피처로 추출하지 않는다. 소수점 값을 설정하면 전체 문서에 걸쳐 해당  하위 퍼센트의 빈도수를 가지는 단어만 피처로 추출하지 않는다.\n",
        " - **`max_features`**:  추출하는 피처의 개수를 제한하며, 정수로 값을 제한한다. 가장 높은 빈도를 가지는 단어 순으로 정렬하여 해당 값 개수만큼까지만 피처로 추출한다.\n",
        " - **`stop_words`**: 'english'로 지정하면 영어의 스톱 워드로 지정된 단어는 추출에서 제외한다.\n",
        " - **`n_gram_range`**: Bag Of Words 모델의 단어 순서를 어느 정도 보강하기 위한 n_gram 범위를 설정한다. 튜플 형태로 (범위 최솟값, 범위 최댓값)을 지정한다. \n",
        " - **`ananlyzer`**: 피처 추출을 수행한 단위를 지정한다. 디폴트는 'word'이다.\n",
        " - **`token_pattern`**: 토큰화를 수행하는 정규 표현식 패턴을 지정한다. 디폴트 값은 '\\b\\w\\w+\\b'로, 공백 또는 개행문자 등으로 구분된 단어 분리자(\\b) 사이의 2문자 이상의 단어를 토큰으로 분리한다.\n",
        " - **`tokenizer`**: 토큰화를 별도의 커스텀 함수로 이용시 적용한다."
      ],
      "metadata": {
        "id": "YhXl_G5d4BJq"
      }
    },
    {
      "cell_type": "markdown",
      "source": [
        "### 8-3. BOW - Bag Of Words\n",
        "#### 2) 사이킷런의 Count 및 TF-IDF 벡터화 구현: CountVectorizer, TfidfVectorizer\n",
        "- 보통 사이킷런의 **`CountVectorizer`** 클래스를 이용해 카운트 기반의 피처 여러 개의 문서로 구성된 텍스트의 피처 벡터화 방법은 다음과 같다.\n",
        "1. 영어의 경우 모든 문자를 소문자로 변경하는 등의 **전처리 작업**을 수행한다. \n",
        "2. 둘째는 디폴트로 단어 기준으로 n_gram_range를 반영해 **각 단어를 토큰화**한다.\n",
        "3. **텍스트 정규화**를 수행한다.\n",
        " - 단 stop_words='english'와 같은 파라미터가 주어진 경우 스톱 워드 필터링만 가능하다.\n",
        " - Stemming과 Lemmatization 같은 어근 변환은 CountVectorizer에서 직접 지원하지는 않으나 `tokenizer` 파라미터에 커스텀 어근 변환 함수를 적용하여 어근 변환을 수행할 수 있다.\n",
        "4. 마지막으로 `max_df, min_df, max_features` 등의 파라미터를 이용하여 **토큰화된 단어를 피처로 추출하고 단어 빈도수 벡터 값을 적용**하는 **피처 벡터화**를 수행한다.\n",
        "---\n",
        "- 사이킷런에서 TF-IDF 벡터화는 **`TfidfVectorizer`** 클래스를 이용한다."
      ],
      "metadata": {
        "id": "mOCxtWWT6uNx"
      }
    },
    {
      "cell_type": "markdown",
      "source": [
        "### 8-3. BOW - Bag Of Words\n",
        "#### 3) BOW 벡터화를 위한 희소 행렬\n",
        "- 사이킷런의 **`CountVectorizer/TfidfVectorizer`**를 이용하여 텍스트를 피처 단위로 벡터화해 변환하고 CSR 형태의 희소 행렬을 반환한다. \n",
        "- **희소 행렬**은 다음과 같은 원리에서 생성된다.\n",
        " - 모든 문서에 있는 단어를 추출하여 이를 피처로 벡터화하는 방법은 필연적으로 많은 피처 칼럼을 만들 수밖에 없다. 모든 문서에 있는 단어를 중복을 제거하고 피처를 만들면 일반적으로 수만개에서 수십만개의 단어가 만들어진다. n-gram을 (1,2)나 (1,3)으로 증가시키면 칼럼 수는 더욱 증가한다.\n",
        " - 그러나 이렇게 대규모의 행렬이 생성되더라도 레코드의 각 문서가 가지는 단어의 수는 제한적이기 때문에 이 행렬의 값은 대부분 0이 차지할 수밖에 없다.\n",
        " - 이처럼 **대규모 행렬의 대부분의 값이 0을 차지하는 행렬**을 희소 행렬이라고 한다.\n",
        "- **BOW 형태를 가진 언어 모델의 피처 벡터화는 대부분 희소 행렬**이다.\n",
        "- 이 희소 행렬은 너무 많은 불필요한 0 값이 메모리 공간에 할당되어 메모리 공간이 많이 필요하며, 행렬의 크기가 커서 연산 시에도 데이터 엑세스를 위한 시간이 많이 소모된다.\n",
        "- 따라서 이러한 희소 행렬을 물리적으로 적은 메모리 공간을 차지할 수 있도록 변환해야 하는데, 대표적인 방법으로 **COO 형식**과 **CSR 형식**이 있다.\n",
        "- 일반적으로 큰 희소 행렬을 저장하고 계산을 수행하는 능력이 CSR 형식이 더 뛰어나므로 이를 많이 사용한다."
      ],
      "metadata": {
        "id": "HrYjvedb7zeD"
      }
    },
    {
      "cell_type": "markdown",
      "source": [
        "### 8-3. BOW - Bag Of Words\n",
        "#### 4) 희소 행렬 변환 - **COO 형식**\n",
        "- COO(COOrdinate:좌표) 형식은 **0이 아닌 데이터만 별도의 데이터 배열에 저장**하고, **그 데이터가 가리키는 행과 열의 위치를 별도의 배열로 저장**하는 방식이다.\n",
        "- 예를 들어 [ [3, 0, 1], [0, 2, 0] ]과 같은 2차원 데이터가 있다고 가정할 때, 0이 아닌 데이터는 [3, 1, 2]이다. 0이 아닌 데이터가 있는 위치를 (row, col)로 표시하면 (0, 0), (0, 2), (1, 1)이다. row와 col을 별도의 배열로 저장하면 row는 [0, 0, 1], col은 [0, 2, 1]이다.\n",
        "- 파이썬에서는 **희소 행렬 변환을 위해서 주로 사이파이(Scipy)를 이용**한다. 사이파이의 **`sparse`** 패키지는 희소 행렬 변환을 위한 다양한 모듈을 제공한다.\n",
        "- 먼저  [ [3, 0, 1], [0, 2, 0] ]을 넘파이의 객체로 만들고, **`sparse`** 를 이용하여 **COO 형식의 희소 행렬로 변환**한다.\n",
        "- **0이 아닌 데이터 배열과 행 위치 배열과 열 위치 배열**을 각각 만든 후 **`sparse`**의 **`coo_matrix( )`** 내에 생성 파라미터로 입력한다.\n",
        "- 이렇게 생성한 변수는 COO 형식의 희소 행렬 객체 변수이다. **`toarray( )`** 메서드를 이용하면 다시 밀집 형태의 행렬로 출력할 수 있다."
      ],
      "metadata": {
        "id": "RsUVKOxA9ERi"
      }
    },
    {
      "cell_type": "code",
      "source": [
        "import numpy as np\n",
        "dense = np.array([ [3, 0, 1], [0, 2, 0] ])"
      ],
      "metadata": {
        "id": "5OUf8HCdu9kh"
      },
      "execution_count": null,
      "outputs": []
    },
    {
      "cell_type": "code",
      "source": [
        "from scipy import sparse\n",
        "# 0이 아닌 데이터 추출\n",
        "data = np.array([3, 1, 2])\n",
        "\n",
        "# 행 위치와 열 위치를 각각 배열로 생성\n",
        "row_pos = np.array([0, 0, 1])\n",
        "col_pos = np.array([0, 2, 1])\n",
        "\n",
        "# sparse 패키지의 coo_matrix를 이용하여 COO 형식으로 희소 행렬 생성\n",
        "sparse_coo = sparse.coo_matrix((data, (row_pos, col_pos)))"
      ],
      "metadata": {
        "id": "AsCvxUMZ-wNL"
      },
      "execution_count": null,
      "outputs": []
    },
    {
      "cell_type": "code",
      "source": [
        "sparse_coo.toarray()"
      ],
      "metadata": {
        "colab": {
          "base_uri": "https://localhost:8080/"
        },
        "id": "k3iRwZKs_IJe",
        "outputId": "fb76e0ae-f6f6-4904-fe40-be35e33048d0"
      },
      "execution_count": null,
      "outputs": [
        {
          "output_type": "execute_result",
          "data": {
            "text/plain": [
              "array([[3, 0, 1],\n",
              "       [0, 2, 0]])"
            ]
          },
          "metadata": {},
          "execution_count": 23
        }
      ]
    },
    {
      "cell_type": "markdown",
      "source": [
        "### 8-3. BOW - Bag Of Words\n",
        "#### 5) 희소 행렬 변환 - **CSR 형식**\n",
        "- CSR(Compressed Sparse Row) 형식은 COO 형식이 행과 열의 위치를 나타내기 위해서 반복적인 위치 데이터를 사용해야 하는 문제점을 해결한 방식이다.\n",
        "- 먼저 COO 변환 형식의 문제점을 알아보기 위해 다음과 같은 2차원 배열을 COO 형식으로 변환한다. \n",
        "- [ [0, 0, 1, 0, 0, 5], [1, 4, 0, 3, 2, 5], [0, 6, 0, 3, 0, 0], [2, 0, 0, 0, 0, 0], [0, 0, 0, 7, 0, 8], [1, 0, 0, 0, 0, 0] ]\n",
        "- 데이터 배열은 [1, 5, 1, 4, 3, 2, 5, 6, 3, 2, 7, 8, 1]이며, 행 위치 배열은 [0, 0, 1, 1, 1, 1, 1, 2, 2, 3, 4, 4, 5], 열 위치 배열은 [2, 5, 0, 1, 3, 4, 5, 1, 3, 0, 3, 5, 0]이다.\n",
        "- 행 위치 배열인 [0, 0, 1, 1, 1, 1, 1, 2, 2, 3, 4, 4, 5]을 보면 순차적인 값이 반복적으로 나타남을 알 수 있다. 행 위치 배열이 0부터 순차적으로 증가하는 값으로 이뤄졌다는 특성을 고려하면 행 위치 배열의 고유한 값의 시작 위치만 표기하는 방법으로 이러한 반복을 제거할 수 있다.\n",
        "- 행 위치 배열의 첫번째(인덱스 0)는 0, 두번째(인덱스 1)는 0, 세번째(인덱스 2)는 1, ... 여덟번째는 2라면 행 위치 배열의 고유값의 시작 위치는 첫번째와 세번째와 여덟번째이고 인덱스 기준으로는 [0, 2, 7]이다.\n",
        "- CSR은 이처럼 **행 위치 배열 내에 있는 고유한 값의 시작 위치만 다시 별도의 위치 배열로 가지는 변환 방식**을 의미한다.\n",
        "- 이렇게 고유 값의 시작 위치만 알고 있으면 얼마든지 행 위치 배열을 다시 만들 수 있으므로 COO 방식보다 메모리가 적게 들고 빠른 연산이 가능하다."
      ],
      "metadata": {
        "id": "h3VAnhmb_iW5"
      }
    },
    {
      "cell_type": "markdown",
      "source": [
        "### 8-3. BOW - Bag Of Words\n",
        "#### 5) 희소 행렬 변환 - CSR 형식\n",
        "- CSR 방식의 변환은 사이파이의 **`csr_matrix`** 클래스를 이용한다.\n",
        "-  **0이 아닌 데이터 배열과 열 위치 배열, 그리고 행 위치 배열의 고유한 값 시작 위치 배열**을 **`sparse`**의 **`csr_matrix( )`** 내에 생성 파라미터로 입력한다.\n",
        "- 마찬가지로 **`toarray( )`** 메서드를 이용하면 다시 밀집 형태의 행렬로 출력할 수 있다."
      ],
      "metadata": {
        "id": "6bm-fsybBekw"
      }
    },
    {
      "cell_type": "code",
      "source": [
        "from scipy import sparse\n",
        "dense2 = np.array([[0, 0, 1, 0, 0 ,5],\n",
        "                                   [1, 4, 0, 3, 2, 5],\n",
        "                                   [0, 6, 0, 3, 0, 0],\n",
        "                                   [2, 0, 0, 0, 0, 0],\n",
        "                                   [0, 0, 0, 7, 0, 8],\n",
        "                                   [1, 0, 0, 0, 0, 0]])\n",
        "\n",
        "# 0이 아닌 데이터 추출\n",
        "data2 = np.array([1, 5, 1, 4, 3, 2, 5, 6, 3, 2, 7, 8, 1])\n",
        "\n",
        "# 행 위치와 열 위치를 각각 배열로 생성\n",
        "row_pos = np.array([0, 0, 1, 1, 1, 1, 1, 2, 2, 3, 4, 4, 5])\n",
        "col_pos = np.array([2, 5, 0, 1, 3, 4, 5, 1, 3, 0, 3, 5, 0])\n",
        "\n",
        "# COO 형식으로 변환\n",
        "sparse_coo = sparse.coo_matrix( (data2, (row_pos, col_pos)) )\n",
        "\n",
        "# 행 위치 배열의 고유한 값의 시작 위치 인덱스를 배열로 생성\n",
        "row_pos_ind = np.array([0, 2, 7, 9, 10, 12, 13])\n",
        "\n",
        "# CSR 형식으로 변환\n",
        "sparse_csr = sparse.csr_matrix( (data2, col_pos, row_pos_ind) )"
      ],
      "metadata": {
        "id": "DwArwXZw_Nuz"
      },
      "execution_count": null,
      "outputs": []
    },
    {
      "cell_type": "code",
      "source": [
        "print(\"COO 변환된 데이터가 제대로 되었는지 다시 Dense로 출력 확인\")\n",
        "print(sparse_coo.toarray())\n",
        "print(\"CSR 변환된 데이터가 제대로 되었는지 다시 Dense로 출력 확인\")\n",
        "print(sparse_csr.toarray())"
      ],
      "metadata": {
        "colab": {
          "base_uri": "https://localhost:8080/"
        },
        "id": "tDko-zClDGNn",
        "outputId": "9f48f273-088b-4912-a252-72753f8b1f9f"
      },
      "execution_count": null,
      "outputs": [
        {
          "output_type": "stream",
          "name": "stdout",
          "text": [
            "COO 변환된 데이터가 제대로 되었는지 다시 Dense로 출력 확인\n",
            "[[0 0 1 0 0 5]\n",
            " [1 4 0 3 2 5]\n",
            " [0 6 0 3 0 0]\n",
            " [2 0 0 0 0 0]\n",
            " [0 0 0 7 0 8]\n",
            " [1 0 0 0 0 0]]\n",
            "CSR 변환된 데이터가 제대로 되었는지 다시 Dense로 출력 확인\n",
            "[[0 0 1 0 0 5]\n",
            " [1 4 0 3 2 5]\n",
            " [0 6 0 3 0 0]\n",
            " [2 0 0 0 0 0]\n",
            " [0 0 0 7 0 8]\n",
            " [1 0 0 0 0 0]]\n"
          ]
        }
      ]
    }
  ]
}