{
  "nbformat": 4,
  "nbformat_minor": 0,
  "metadata": {
    "colab": {
      "provenance": [],
      "authorship_tag": "ABX9TyPpzUSr09wh94rWkl9B2l4m",
      "include_colab_link": true
    },
    "kernelspec": {
      "name": "python3",
      "display_name": "Python 3"
    },
    "language_info": {
      "name": "python"
    }
  },
  "cells": [
    {
      "cell_type": "markdown",
      "metadata": {
        "id": "view-in-github",
        "colab_type": "text"
      },
      "source": [
        "<a href=\"https://colab.research.google.com/github/hida0/ESAA-2022-2/blob/HW/Week13_HW2_%EC%BC%80%EB%9D%BC%EC%8A%A4.ipynb\" target=\"_parent\"><img src=\"https://colab.research.google.com/assets/colab-badge.svg\" alt=\"Open In Colab\"/></a>"
      ]
    },
    {
      "cell_type": "markdown",
      "source": [
        "## 교재필사\n",
        "(파이썬 딥러닝 텐서플로 ch3. 1-4 pg. 50~95)"
      ],
      "metadata": {
        "id": "0S6TutHrcwTB"
      }
    },
    {
      "cell_type": "markdown",
      "source": [
        "## 1. 딥러닝 준비"
      ],
      "metadata": {
        "id": "i1G0JYo9lLw1"
      }
    },
    {
      "cell_type": "markdown",
      "source": [
        "\n",
        "## 1-1. 주요 용어\n",
        "### 1-1-1. 하이퍼파라미터\n",
        "- 하이퍼 파라미터는 딥러닝 뿐만 아니라 머신러닝 모델을 훈련할 때 사용자가 직접 설정해주는 설정 값을 의미한다.\n",
        "- 모델이 훈련하면서 자동 업데이트하고 조정하는 가중치와 편향과는 다르게 학습 속도나 반복 훈련 횟수 등 사용자가 직접 설정해야 하는 값들이다.\n",
        "- 모델의 예측 성능을 높이기 위해 하이퍼파라미터 값들을 조절하는데 많은 시간을 투자하는 것이 일반적이다. 이처럼 하이퍼파라미터의 값을 조절하는 행위를 하이퍼파라미터 튜닝이라고 한다."
      ],
      "metadata": {
        "id": "KQ1xhcXVdBMJ"
      }
    },
    {
      "cell_type": "markdown",
      "source": [
        "### 1-1-2. 과소적합 vs 과대적합\n",
        "- 데이터는 머신러닝이 모델이 학습할 데이터인 훈련용 데이터 train set과 정답 레이블이 없는 머신러닝 모델이 예측해야하는 대상 데이터인 예측용 데이터 test set으로 나뉜다.\n",
        "- 머신러닝은 주어진 훈련 데이터에서 패턴 학습을 통해 모델을 완성해나간다. 하지만 예측할 데이터가 모델이 학습한 데이터와 다른 분포를 갖거나, 혹은 학습한 데이터가 특정 레이블에 편향된 데이터로 이루어져 있다면 모델이 학습한 후 예측 성능이 현저히 떨어진다.\n",
        "- **모델이 충분히 학습되지 않은 경우**에 예측 성능이 떨어지며 이 상태를 **과소적합**되었다고 한다.\n",
        "- 반대로 **학습 데이터를 지나치게 반복 학습**하여 과하게 적합된 상태를 **과대적합**되었다고 한다. 이 상태에서는 훈련 데이터의 불필요한 노이즈까지 과도하게 모델에 반영되어 주어진 훈련 데이터에서는 예측 성능이 좋지만, 정작 예측 데이터에 대한 예측 오차가 발생할 확률이 커진다.\n",
        "- 모델을 학습시킬 때는 과소적합과 과대적합 문제를 최소화하면서 정확도를 가장 높일 수 있도록 해야 한다. 훈련 데이터를 예측 데이터와 분포가 동일하게 구성해야 하고, 불필요한 노이즈는 전처리를 통해 해소해야 한다.\n",
        "- 또한 훈련 데이터의 일부를 검증 데이터로 활용하여 검증 성능이 가장 좋은 구간을 모델의 가장 이상적으로 학습된 지점이라 판단하는 방법으로 최종 모델을 결정한다."
      ],
      "metadata": {
        "id": "8OBX_LFHdpoZ"
      }
    },
    {
      "cell_type": "markdown",
      "source": [
        "### 1-1-3. 에포크(epoch)\n",
        "- 딥러닝은 데이터셋을 학습하는 과정을 여러번 반복(iteration)하면서 최적의 모델 가중치를 찾는 과정이다. \n",
        "- 딥러닝 모델이 **반복 훈련을 할 때 데이터셋을 전부 학습에 사용하는 1회의 훈련 루프**를 **1 에포크(epoch)**라고 한다.\n",
        "- 훈련 데이터셋을 빠짐없이 모두 1번 모델 훈련에 사용하면 1 epoch의 훈련 과정을 마치고 다음 epoch로 넘어간다. 이때 사전에 설정된 최대 epoch 횟수까지 반복적으로 진행하고 종료된다."
      ],
      "metadata": {
        "id": "NU0P09J2fHGi"
      }
    },
    {
      "cell_type": "markdown",
      "source": [
        "### 1-1-4. 손실함수(loss function)\n",
        "- **손실함수는 예측 값과 정답 값의 차이 또는 오차**라고 할 수 있다. 오차는 딥러닝 모델의 출력 값과 실제 값과의 차이를 말한다.\n",
        "- 딥러닝 모델에 적용하는 손실함수는 사용자가 정의하며, 분류나 회귀 모델에 따라 손실함수를 다르게 적용하는 일반적이다.\n",
        "- 지도학습의 분류 문제는 이진분류와 다중분류로 구분할 수 있다. \n",
        " - 이진분류는 `binary_crossentropy` 손실함수를 사용하며, 출력층의 활성화 함수로`sigmoid`를 사용한다.\n",
        " - 다중분류는 `categorical_crossentropy` 손실함수를 사용하며, 다중분류의 대상이 되는 클래스가 원핫 벡터인 경우 사용한다. 만약 정답 클래스가 레이블 값으로 표현되어  서로 다른 숫자로 구분되어 있으면 `sparse_crossentropy` 손실함수를 사용한다. 출력층의 활성화 함수로`softmax`를 사용한다.\n",
        "---\n",
        "- 회귀 모델의 경우 평균제곱오차(MSE), 평균절대값오차(MAE), 후버(Huber) 등이 사용된다."
      ],
      "metadata": {
        "id": "4MmrJmZjflrN"
      }
    },
    {
      "cell_type": "markdown",
      "source": [
        "### 1-1-5. 경사하강법(Gradient Descent)\n",
        "- 경사하강법은 딥러닝 모델을 훈련할 때 모델 내부의 가중치에 대한 미분 값을 구하고 목적 함수 값이 낮아지는 방향으로 차감하면서 결국 최소 함수 값을 갖도록 하는 방법이다. \n",
        "- 경사하강법을 넘파이로 직접 구현한다.\n",
        "- 먼저 손실함수 또는 목적 함수를 다음과 같이 정의한다. Loss=$\\frac{1}{2}\\sum_{i=1}(y-\\hat y)^2$\n",
        "- 다음의 단순 선형 회귀 수식이 주어졌을 때 손실함수를 최소로하는 w와 b를 구하는 과정을 경사하강법으로 구한다. $y=wx+b$\n",
        "- 샘플 데이터셋을 생성하는 함수를 정의하고 임의의 w와 b 값을 지정하여 주어진 x에 대한 y 값을 생성하며, 약간의 노이즈를 추가한다.\n",
        "- 그림을 보면 실제 생성된 y 데이터는 $y=0.3x+0.5$와 완벽히 일치하지 않고 약간의 노이즈가 추가되었다."
      ],
      "metadata": {
        "id": "jIrkW-6sg2Db"
      }
    },
    {
      "cell_type": "code",
      "source": [
        "import numpy as np\n",
        "import matplotlib.pyplot as plt\n",
        "%matplotlib inline\n",
        "\n",
        "#샘플에 활용할 데이터셋 생성\n",
        "def make_linear(w, b, size=50, noise=1.0):\n",
        "    x=np.random.rand(size)\n",
        "    y=w*x+b\n",
        "    noise=np.random.uniform(-abs(noise), abs(noise), size=y.shape)\n",
        "    yy=y+noise\n",
        "    plt.figure(figsize=(10,7))\n",
        "    plt.plot(x, y, color='r', label=f'y={w}*x+{b}')\n",
        "    plt.scatter(x, yy, label='data')\n",
        "    plt.legend(fontsize=20)\n",
        "    plt.show()\n",
        "    print(f'w : {w}, b:{b}')\n",
        "    return x, yy\n",
        "\n",
        "x, y = make_linear(w=0.3, b=0.5, size=100, noise=0.01)"
      ],
      "metadata": {
        "colab": {
          "base_uri": "https://localhost:8080/",
          "height": 445
        },
        "id": "q5e_Bhq5hhUF",
        "outputId": "cf2fcd09-791a-4e95-d489-59902edd2854"
      },
      "execution_count": null,
      "outputs": [
        {
          "output_type": "display_data",
          "data": {
            "text/plain": [
              "<Figure size 720x504 with 1 Axes>"
            ],
            "image/png": "[encoded data removed]"
          },
          "metadata": {
            "needs_background": "light"
          }
        },
        {
          "output_type": "stream",
          "name": "stdout",
          "text": [
            "w : 0.3, b:0.5\n"
          ]
        }
      ]
    },
    {
      "cell_type": "markdown",
      "source": [
        "### 1-1-5. 경사하강법(Gradient Descent)\n",
        "- 이제 w, b에 대한 그래디언트를 구하는 부분을 구현한다.\n",
        "- 그래디언트는 손실함수를 w, b에 대한 각각의 편미분 값을 구한 뒤 학습률 계수를 곱하여 이전의 w, b로부터 차감한다.\n",
        "- 정의된 그래디언트 w, b 업데이트 수식을 이용하여 넘파이로 최적화하는 과정을 구현한다.\n",
        "- 최대 반복 횟수를 지정하고, 오차가 0.005 이내로 수렴하면 반복문을 종료한다. 반복문 안에서 손실함수를 정의하고, 매 epoch 마다 w, b에 대한 가중치를 업데이트한다.\n",
        "---\n",
        "- 최종적으로 목표하는 오차 범위 안으로 수렴하여 반복문을 종료하고, 종료 후 w, b 계수를 확인하면 샘플 데이터셋을 생성할 때 설정한 w, b의 계수와 비슷한 값임을 확인할 수 있다."
      ],
      "metadata": {
        "id": "aFnnT2N6iZXb"
      }
    },
    {
      "cell_type": "code",
      "source": [
        "#최대 반복 횟수\n",
        "num_epoch =1000\n",
        "#학습률 learning rate\n",
        "learning_rate = 0.005\n",
        "#에러 기록\n",
        "errors = []\n",
        "#random한 값으로 w, b 초기화\n",
        "w = np.random.uniform(low=0.0, high=1.0)\n",
        "b = np.random.uniform(low=0.0, high=1.0)\n",
        "\n",
        "for epoch in range(num_epoch):\n",
        "    #가설함수 정의\n",
        "    y_hat = w*x + b\n",
        "    #loss function 정의\n",
        "    error = 0.5*((y_hat-y)**2).sum()\n",
        "    #오차가 0.005 이내로 수렴하면 종료\n",
        "    if error < 0.005:\n",
        "        break\n",
        "        \n",
        "    #gradient 미분 계산 \n",
        "    w = w-learning_rate * ((y_hat-y)*x).sum()\n",
        "    b = b-learning_rate * (y_hat-y).sum()\n",
        "    errors.append(error)\n",
        "    if epoch % 5 == 0:\n",
        "        print('{0:2} w = {1:.5f}, b={2:.5f} error={3:.5f}'.format(epoch, w, b, error))\n",
        "        \n",
        "print('----' * 15)\n",
        "print('{0:2} w = {1:.5f}, b={2:.5f} error={3:.5f}'.format(epoch, w, b, error))"
      ],
      "metadata": {
        "colab": {
          "base_uri": "https://localhost:8080/"
        },
        "id": "VGloUoNphikP",
        "outputId": "a3ea5460-f2c3-4918-d95f-0504659d7525"
      },
      "execution_count": null,
      "outputs": [
        {
          "output_type": "stream",
          "name": "stdout",
          "text": [
            " 0 w = 0.48577, b=0.33861 error=1.51687\n",
            " 5 w = 0.47829, b=0.40039 error=0.14764\n",
            "10 w = 0.45127, b=0.41577 error=0.10692\n",
            "15 w = 0.42821, b=0.42861 error=0.07757\n",
            "20 w = 0.40862, b=0.43952 error=0.05640\n",
            "25 w = 0.39198, b=0.44879 error=0.04113\n",
            "30 w = 0.37785, b=0.45666 error=0.03012\n",
            "35 w = 0.36585, b=0.46335 error=0.02217\n",
            "40 w = 0.35566, b=0.46902 error=0.01644\n",
            "45 w = 0.34700, b=0.47384 error=0.01231\n",
            "50 w = 0.33965, b=0.47794 error=0.00933\n",
            "55 w = 0.33340, b=0.48142 error=0.00717\n",
            "60 w = 0.32810, b=0.48437 error=0.00562\n",
            "------------------------------------------------------------\n",
            "63 w = 0.32621, b=0.48543 error=0.00491\n"
          ]
        }
      ]
    },
    {
      "cell_type": "code",
      "source": [
        "plt.figure(figsize=(8, 6))\n",
        "plt.plot(errors)\n",
        "plt.xlabel('Epochs')\n",
        "plt.ylabel('Error')\n",
        "plt.show()"
      ],
      "metadata": {
        "colab": {
          "base_uri": "https://localhost:8080/",
          "height": 388
        },
        "id": "rNM64T-Ci9Z3",
        "outputId": "08e3e364-d059-4b73-cda3-a7952efc241a"
      },
      "execution_count": null,
      "outputs": [
        {
          "output_type": "display_data",
          "data": {
            "text/plain": [
              "<Figure size 576x432 with 1 Axes>"
            ],
            "image/png": "[encoded data removed]"
          },
          "metadata": {
            "needs_background": "light"
          }
        }
      ]
    },
    {
      "cell_type": "markdown",
      "source": [
        "## 1-2. 딥러닝 프로세스\n",
        "- 딥러닝 모델 구축 및 훈련을 위해서는 다음과 같은 프로세스를 따른다.\n",
        "- 데이터 로드 -> 데이터 전처리 -> 데이터 분할 -> 모델 생성&컴파일 -> 훈련 -> 검증 -> 예측\n",
        "\n",
        "### 1-2-1. 데이터 전처리\n",
        "- 데이터를 모델에 주입하기 전에 데이터를 가공하는 단계이다.\n",
        "- 전처리 단계에서 데이터셋의 형태나 차원을 미리 구상해야 다음 단계에서 모델을 설계할 때 입력할 데이터 셋의 형태를 올바르게 정의할 수 있다.\n",
        "\n",
        "### 1-2-2. 모델 생성\n",
        "- 모델의 구조를 정의하고 생성하는 단계다.\n",
        "- 모델을 생성하는 방법은 크게 3가지로 구분할 수 있다. 순차적인 구조의 모델은 Sequential API로 구현한다. 다중 입력 및 출력을 가지고 복잡한 구조를 갖는 모델은 Functional API 혹은 Model Subclassing 방법으로 구현할 수 있다.\n"
      ],
      "metadata": {
        "id": "UKePK1fKjibw"
      }
    },
    {
      "cell_type": "markdown",
      "source": [
        "### 1-2-3. 모델 컴파일\n",
        "- 딥러닝 모델의 구조를 정의하고 생성한 뒤에는 생성된 모델 훈련에 사용할 손실함수, 옵티마이저, 평가지표 등을 정의한다.\n",
        "- 모델 인스턴스에 **`compile()`** 메소드를 적용하고, 앞에서 열거한 여러 가지 속성 값을 정의한다.\n",
        "\n",
        "### 1-2-4. 모델 훈련\n",
        "- 모델을 훈련하는 단계로, **`fit()`** 함수에 모델 훈련에 필요한 정보를 매개변수로 전달한다.\n",
        "\n",
        "### 1-2-5. 모델 검증\n",
        "- 훈련이 완료된 모델을 검증하는 단계이다.\n",
        "- 모델을 훈련할 때 사용하지 않은 검증 데이터셋을 모델에 입력하고 모델의 예측 값을 정답과 비교하여 평가지표를 계산한다.\n",
        "- 검증 결과를 바탕으로 다시 모델 생성 단계로 돌아가 모델 수정을 하고, 컴파일 및 훈련 과정을 거쳐 재평가하는 단계를 통해 목표 성능에 도달할 때까지 이 과정을 반복한다.\n",
        "\n",
        "### 1-2-6. 모델 예측\n",
        "- 훈련과 검증이 완료된 모델로 테스트셋에 대하여 모델이 예측하고 그 결과를 반환한다."
      ],
      "metadata": {
        "id": "21Gu25vfkG_Y"
      }
    },
    {
      "cell_type": "markdown",
      "source": [
        "## 2. 단순 신경망 훈련\n",
        "## 2-1. 선형 회귀\n",
        "- 회귀 분석이란 하나 이상의 독립변수들이 종속변수에 미치는 영향을 추정하는 통계기법이다. \n",
        "- 그 중에서도 단순선형회귀 모형은 하나의 X가 Y에 미치는 영향을 추정하며, 1차 함수 관계로 나타낼 수 있다.\n",
        "- 앞으로 텐서플로 케라스를 활용하여 단순선형회귀 모델을 직접 만들고 딥러닝을 학습한다. 이때 모델은 1차 함수식과 동일하며 다음과 같이 정의한다. $y=wx+b$, \n",
        "$w$는 가중치이고, $b$는 편향이다.\n",
        "\n",
        "## 2-2. 뉴런\n",
        "- 뉴런은 인공 신경망 모델을 구성하는 하나의 신경을 의미한다. \n",
        "- **신경망은 여러 개의 레이어**를 가지며, **1개의 레이어는 1개 이상의 뉴런으로 구성**된다.\n",
        "- 뉴런의 내부에는 가중치가 존재하고 모델이 훈련을 진행하면서 오차 역전파를 통해 뉴런의 가중치가 업데이트된다.\n",
        "\n",
        "## 2-3. Dense 레이어\n",
        "- **Dense 레이어**는 **심층 신경망 모델을 구성하는 가장 기본 레이어**이다. 각 레이어와 레이어 사이의 모든 뉴런이 서로 연결되어 있기 때문에 **완전 연결층**이라고 부르기도 한다.\n",
        "- 아래 그림은 4개의 Dense 레이어로 구성된 모델이다. 입력 레이어 1개, 은닉 레이어 2개, 출력 레이어 1개로 구성된다. 각 레이어는 1개 이상의 뉴런으로 구성된다.\n",
        "- 모든 뉴런들이 정보의 흐름을 나타내는 화살표로 연결되어 있어서 완전 연결층이라고 정의한다.\n",
        "![제목 없음.jpg](data:image/jpeg;base64,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)\n",
        "- Dense 레이어를 구성하는 노드 개수와 활성화 함수를 지정할 수 있다. 텐서플로의 **`layer`** 모듈에 있는 **`Dense`** 레이어에 노드의 개수를 첫번째 위치 인자로 지정하면 된다. \n",
        "\n",
        "## 2-4. 데이터셋 만들기\n",
        "- 단순선형회귀 모형을 지도학습 방식으로 훈련하기 위해 x, y 데이터를 생성한다. 임의의 1차 함수 $y=3x+2$ 관계식을 이용한다.\n",
        "- 시각화하면 x, y 데이터는 기울기 3을 갖는 직선 그래프로 그려진다."
      ],
      "metadata": {
        "id": "asRvYUFvlEcl"
      }
    },
    {
      "cell_type": "code",
      "source": [
        "import tensorflow as tf\n",
        "\n",
        "#10개의 node로 이루어진 Dense 레이어\n",
        "tf.keras.layers.Dense(10)"
      ],
      "metadata": {
        "colab": {
          "base_uri": "https://localhost:8080/"
        },
        "id": "m5G9PXLBnOiD",
        "outputId": "6d5b1e30-dc3c-4e87-d8b4-7da982aefe31"
      },
      "execution_count": null,
      "outputs": [
        {
          "output_type": "execute_result",
          "data": {
            "text/plain": [
              "<keras.layers.core.dense.Dense at 0x7ff7a6068d90>"
            ]
          },
          "metadata": {},
          "execution_count": 7
        }
      ]
    },
    {
      "cell_type": "code",
      "source": [
        "import numpy as np\n",
        "\n",
        "#샘플 데이터셋 생성\n",
        "x = np.arange(1,6)\n",
        "y = 3 * x + 2\n",
        "print(x)\n",
        "print(y)"
      ],
      "metadata": {
        "colab": {
          "base_uri": "https://localhost:8080/"
        },
        "id": "YGmpKkUgjBNp",
        "outputId": "8f0bfa8f-204b-4810-f3b9-9837871c3c9f"
      },
      "execution_count": null,
      "outputs": [
        {
          "output_type": "stream",
          "name": "stdout",
          "text": [
            "[1 2 3 4 5]\n",
            "[ 5  8 11 14 17]\n"
          ]
        }
      ]
    },
    {
      "cell_type": "code",
      "source": [
        "plt.plot(x,y)\n",
        "plt.title('y = 3x +2')\n",
        "plt.show()"
      ],
      "metadata": {
        "colab": {
          "base_uri": "https://localhost:8080/",
          "height": 281
        },
        "id": "u0AV6QX7nkkt",
        "outputId": "d2a39132-5bec-4d87-8629-c0f18e6da3a3"
      },
      "execution_count": null,
      "outputs": [
        {
          "output_type": "display_data",
          "data": {
            "text/plain": [
              "<Figure size 432x288 with 1 Axes>"
            ],
            "image/png": "[encoded data removed]"
          },
          "metadata": {
            "needs_background": "light"
          }
        }
      ]
    },
    {
      "cell_type": "markdown",
      "source": [
        "## 2-5. Sequential API\n",
        "- Sequential API 방식은 층을 이어 붙이듯 시퀀스에 맞게 일렬로 연결하는 방식이다. 따라서 입력 레이어부터 출력 레이어까지 순서를 갖는다.\n",
        "- 입력 데이터는 시퀀스의 가장 앞에 위치한 층에 투입되고, 순서대로 각 층을 하나씩 통과하면서 딥러닝 연산을 수행한다.\n",
        "\n",
        "### 2-5-1. 모델 구조\n",
        "- Sequential API를 사용하여 모델 생성 시 다음과 같은 2가지 방법으로 모델을 구성할 수 있다. \n",
        "- 하나는 리스트 형 정의로 **`Seqential`** 클래스 함수에 파이썬 리스트 형태로 여러 개의 층을 입력한다. 대괄호 안에 쉼표로 구분하여 층을 쌓는다.\n",
        "- 다른 하나는  **`Sequential`** 클래스 객체를 먼저 만든 위에 **`add`** 함수로 생성된 모델 인스턴스에 레이어 층을 추가하는 방식이다. 여러 개의 층을 추가하려면 **`add`** 함수를 여러번 사용한다.\n",
        "\n",
        "### 2-5-2. 입력 데이터 형태\n",
        "- Sequential API를 사용하여 모델을 구성할 때 첫번째 층은 반드시 **`input_shape`** 매개변수를 튜플 혹은 리스트로 지정해야 한다. \n",
        "- 예를 들어 데이터셋의 shape가 (150, 4)라고 한다면 4개의 입력 변수가 존재한다는 뜻으로, **`input_shape=(4,) 또는 [4]`**로 지정할 수 있다.\n",
        "\n",
        "### 2-5-3. 단순선형회귀 모델 정의\n",
        "- 단순선형회귀 모델을 만들기 위해서는 1개의 뉴런을 가지는 Dense 레이어 한개를 사용한다.\n",
        "- 1차 함수식에서 입력 데이터는 x 값을 나타내는 입력 변수 1개만 존재하기 때문에 **`input_shape=[1]`**로 지정한다.\n",
        "- 1개의 뉴런을 갖는 Dense 레이어는 1개의 출력 값을 가지므로, 출력 값은 y에 대한 모델의 예측 값이다."
      ],
      "metadata": {
        "id": "ouUJRU9snwzu"
      }
    },
    {
      "cell_type": "code",
      "source": [
        "import tensorflow as tf\n",
        "#리스트형\n",
        "model = tf.keras.Sequential([\n",
        "    tf.keras.layers.Dense(10),\n",
        "    tf.keras.layers.Dense(5),\n",
        "    tf.keras.layers.Dense(1)\n",
        "])"
      ],
      "metadata": {
        "id": "Jn6g2Hlnnl0p"
      },
      "execution_count": null,
      "outputs": []
    },
    {
      "cell_type": "code",
      "source": [
        "#add 함수로 layer 추가\n",
        "model = tf.keras.Sequential()\n",
        "model.add(tf.keras.layers.Dense(10))\n",
        "model.add(tf.keras.layers.Dense(5))\n",
        "model.add(tf.keras.layers.Dense(1))"
      ],
      "metadata": {
        "id": "oIU7cCbIr4BD"
      },
      "execution_count": null,
      "outputs": []
    },
    {
      "cell_type": "code",
      "source": [
        "model = tf.keras.Sequential([\n",
        "    tf.keras.layers.Dense(10, input_shape=[4]), #입력 데이터의 shape=(150,4)인 경우 input_shape 지정 - 150개의 샘플에 대해서 4개의 입력 변수가 존재\n",
        "    tf.keras.layers.Dense(5),\n",
        "    tf.keras.layers.Dense(1)\n",
        "])"
      ],
      "metadata": {
        "id": "3N4gGLtjs4P2"
      },
      "execution_count": null,
      "outputs": []
    },
    {
      "cell_type": "code",
      "source": [
        "#단순선형회귀 모델 생성\n",
        "model = tf.keras.Sequential([\n",
        "    tf.keras.layers.Dense(1, input_shape=[1]) #뉴런 1개, 입력 변수 x 1개\n",
        "])"
      ],
      "metadata": {
        "id": "bH1fctaTs5Km"
      },
      "execution_count": null,
      "outputs": []
    },
    {
      "cell_type": "markdown",
      "source": [
        "## 2-6. 모델 요약"
      ],
      "metadata": {
        "id": "0A-q2-gnuiFb"
      }
    },
    {
      "cell_type": "code",
      "source": [
        "model.summary()"
      ],
      "metadata": {
        "colab": {
          "base_uri": "https://localhost:8080/"
        },
        "id": "6HQP1oPdukOx",
        "outputId": "8966e822-2efe-4609-a157-71045f814911"
      },
      "execution_count": null,
      "outputs": [
        {
          "output_type": "stream",
          "name": "stdout",
          "text": [
            "Model: \"sequential_3\"\n",
            "_________________________________________________________________\n",
            " Layer (type)                Output Shape              Param #   \n",
            "=================================================================\n",
            " dense_10 (Dense)            (None, 1)                 2         \n",
            "                                                                 \n",
            "=================================================================\n",
            "Total params: 2\n",
            "Trainable params: 2\n",
            "Non-trainable params: 0\n",
            "_________________________________________________________________\n"
          ]
        }
      ]
    },
    {
      "cell_type": "markdown",
      "source": [
        "## 2-7. 컴파일\n",
        "- 컴파일 단계에서는 모델의 훈련 과정에서 적용할 옵티마이저, 손실함수, 평가지표 등을 정의하며, 3가지 방법(클래스 인스턴스, 함수, 사전 정의된 문자열)으로 지정할 수 있다.\n",
        "- 클래스 인스턴스로 지정할 경우 학습률, 모멘텀 등의 하이퍼파라미터를 사용자가 직접 지정할 수 있다.\n",
        "- 하지만 문자열로 지정하는 경우 기본값으로 설정된 하이퍼파라미터를 사용하고, 수정은 어렵다는 한계가 있다.\n",
        "- 앞서 정의한 단순선형회귀 모델을 훈련시키기 위해서 옵티마이저는 확률적 경사하강법 알고리즘인 **`'sgd'`**, 손실함수로는 평균제곱오차인 **`'mse'`**, 평가지표로는 평균절대오차 **`'mae'`**를 지정한다.\n"
      ],
      "metadata": {
        "id": "f002LphZr9Hl"
      }
    },
    {
      "cell_type": "code",
      "source": [
        "#긴 문자열 지정\n",
        "model.compile(optimizer='sgd', loss='mean_squared_error', metrics=['mean_squared_error', 'mean_absolute_error'])"
      ],
      "metadata": {
        "id": "PmjFeACrr5zW"
      },
      "execution_count": null,
      "outputs": []
    },
    {
      "cell_type": "code",
      "source": [
        "#짧은 문자열 지정\n",
        "model.compile(optimizer='sgd', loss='mse', metrics=['mse','mae'])"
      ],
      "metadata": {
        "id": "ljPzH_ZPtn0i"
      },
      "execution_count": null,
      "outputs": []
    },
    {
      "cell_type": "code",
      "source": [
        "#클래스 인스턴스 지정\n",
        "model.compile(optimizer = tf.keras.optimizers.SGD(lr=0.005), #확률적 경사 하강법\n",
        "              loss = tf.keras.losses.MeanAbsoluteError(),\n",
        "              metrics = [tf.keras.metrics.MeanAbsoluteError(),\n",
        "                         tf.keras.metrics.MeanSquaredError()\n",
        "                         ])"
      ],
      "metadata": {
        "colab": {
          "base_uri": "https://localhost:8080/"
        },
        "id": "VC5o-mUttqZ2",
        "outputId": "eb0933f4-d78d-4958-b95a-df8046f99904"
      },
      "execution_count": null,
      "outputs": [
        {
          "output_type": "stream",
          "name": "stderr",
          "text": [
            "/usr/local/lib/python3.7/dist-packages/keras/optimizers/optimizer_v2/gradient_descent.py:108: UserWarning: The `lr` argument is deprecated, use `learning_rate` instead.\n",
            "  super(SGD, self).__init__(name, **kwargs)\n"
          ]
        }
      ]
    },
    {
      "cell_type": "code",
      "source": [
        "#컴파일\n",
        "model.compile(optimizer='sgd', loss='mse', metrics=['mae'])"
      ],
      "metadata": {
        "id": "6U2xr8dTtsvc"
      },
      "execution_count": null,
      "outputs": []
    },
    {
      "cell_type": "markdown",
      "source": [
        "## 2-8. 훈련\n",
        "- 생성한 모델 인스턴스에 **`fit()`** 메서드를 적용하면 데이터를 입력하여 모델을 훈련할 수 있다.\n",
        "- **`fit()`** 메서드에 훈련용 데이터셋의 입력(x)과 정답에 해당하는 출력(y), 그리고 반복 훈련할 epoch의 수를 지정한다. \n",
        "- **매 epoch가 끝날 때마다 훈련 데이터셋에 대한 손실과 평가지표를 출력**한다. 이때 **`verbose=0`**으로 지정하면, 훈련 중간 과정을 출력하지 않는다.\n",
        "- 한편 **`fit()`** 메서드에 검증 데이터셋 옵션을 지정했다면 검증 데이터셋에 대한 손실과 평가지표도 함께 출력한다.\n",
        "---\n",
        "- 아래의 코드에서는 epoch=5로 설정하여 5회 반복 훈련한 뒤 결과를 확인한다.\n",
        "- 매 epoch당 loss 값을 보면 **손실함수, 즉 모델의 예측 오차가 점점 줄어드는 것**을 볼 수 있다.\n",
        "- 그러나 반복 횟수가 충분하지 않아 과소적합된 상태이므로, epoch를 늘려서 추가 학습을 하면 손실을 더욱 낮출 수 있을 것으로 보인다.\n",
        "- 이번에는 epoch를 1200으로 지정하여 충분히 훈련할 수 있도록 한다. history 변수를 생성하고 `fit()` 메서드가 반환하는 **epoch별 훈련 손실과 평가지표를 딕셔너리 형태**로 저장한다.\n",
        "- epoch별 훈련 손실과 평가지표를 시각화하면, 첫 10개까지는 손실이 급격하게 감소하는 것을 확인할 수 있다. 그리고 이를 넘어가면 감소 폭이 둔화되면서 조금씩 감소하는 것을 확인할 수 있다.\n",
        "- 즉 **모델 훈련 초기 단계에는 학습이 매우 빠른 속도로 진행**되다가 **일정 epoch 이후에는 학습 속도가 느려지는 패턴**을 보인다."
      ],
      "metadata": {
        "id": "EWl7dvf9uUOT"
      }
    },
    {
      "cell_type": "code",
      "source": [
        "#훈련\n",
        "model.fit(x, y, epochs=5)"
      ],
      "metadata": {
        "colab": {
          "base_uri": "https://localhost:8080/"
        },
        "id": "WiRvDysetucR",
        "outputId": "5a341a60-3aff-478b-b420-15e448a54313"
      },
      "execution_count": null,
      "outputs": [
        {
          "output_type": "stream",
          "name": "stdout",
          "text": [
            "Epoch 1/5\n",
            "1/1 [==============================] - 1s 930ms/step - loss: 38.2644 - mae: 5.9055\n",
            "Epoch 2/5\n",
            "1/1 [==============================] - 0s 10ms/step - loss: 22.4718 - mae: 4.5682\n",
            "Epoch 3/5\n",
            "1/1 [==============================] - 0s 7ms/step - loss: 13.2675 - mae: 3.5471\n",
            "Epoch 4/5\n",
            "1/1 [==============================] - 0s 7ms/step - loss: 7.9025 - mae: 2.7674\n",
            "Epoch 5/5\n",
            "1/1 [==============================] - 0s 8ms/step - loss: 4.7749 - mae: 2.1720\n"
          ]
        },
        {
          "output_type": "execute_result",
          "data": {
            "text/plain": [
              "<keras.callbacks.History at 0x7ff7a607cf10>"
            ]
          },
          "metadata": {},
          "execution_count": 18
        }
      ]
    },
    {
      "cell_type": "code",
      "source": [
        "#단순 선형회귀 모델 생성\n",
        "model = tf.keras.Sequential([\n",
        "    tf.keras.layers.Dense(1, input_shape=[1])\n",
        "])\n",
        "\n",
        "#컴파일\n",
        "model.compile(optimizer='sgd', loss='mse', metrics=['mae'])\n",
        "#훈련\n",
        "history  = model.fit(x, y, epochs=1200)"
      ],
      "metadata": {
        "id": "nHR4QAJMuWIJ"
      },
      "execution_count": null,
      "outputs": []
    },
    {
      "cell_type": "code",
      "source": [
        "#20 epochs까지 loss 수렴에 대한 시각화\n",
        "plt.plot(history.history['loss'], label='loss')\n",
        "plt.plot(history.history['mae'], label='mae')\n",
        "plt.xlim(-1,20)\n",
        "plt.title('Loss')\n",
        "plt.legend()\n",
        "plt.show()"
      ],
      "metadata": {
        "colab": {
          "base_uri": "https://localhost:8080/",
          "height": 281
        },
        "id": "KvFvZNrnvFF3",
        "outputId": "d2762e67-7691-48e9-e456-b0cadd689151"
      },
      "execution_count": null,
      "outputs": [
        {
          "output_type": "display_data",
          "data": {
            "text/plain": [
              "<Figure size 432x288 with 1 Axes>"
            ],
            "image/png": "[encoded data removed]"
          },
          "metadata": {
            "needs_background": "light"
          }
        }
      ]
    },
    {
      "cell_type": "markdown",
      "source": [
        "## 2-9. 검증\n",
        "- 모델 인스턴스의 **`evaluate()`** 메서드로 모델의 성능을 검증할 수 있다. 일반적으로 검증 데이터셋을 입력하여 검증한다.\n",
        "- **훈련 데이터셋을 입력하여 반환된 결과**를 확인하면 모델 훈련 단계의 **마지막 epoch가 종료된 상태에서 출력된 값**과 같다.\n",
        "- **검증 단계에서는 모델이 훈련을 마친 상태의 가중치를 그대로 적용하여 손실과 평가지표를 계산**하기 때문이다.\n",
        "\n",
        "## 2-10. 예측\n",
        "- 훈련이 완료된 모델 인스턴스의 **`predict()`** 메서드에 새로운 입력 데이터를 리스트로 넣어주면 모델의 예측 값을 얻을 수 있다.\n",
        "- x 인자로 숫자 10을 리스트 형태로 입력하면 실제 값인 32와 매우 유사한 값을 예측한다."
      ],
      "metadata": {
        "id": "cvvkaGyYv4lq"
      }
    },
    {
      "cell_type": "code",
      "source": [
        "model.evaluate(x,y)"
      ],
      "metadata": {
        "colab": {
          "base_uri": "https://localhost:8080/"
        },
        "id": "UFsDwaPQwAfS",
        "outputId": "cc163314-a7f9-42f1-dd65-f27e7905b40d"
      },
      "execution_count": null,
      "outputs": [
        {
          "output_type": "stream",
          "name": "stdout",
          "text": [
            "1/1 [==============================] - 0s 130ms/step - loss: 4.7417e-05 - mae: 0.0059\n"
          ]
        },
        {
          "output_type": "execute_result",
          "data": {
            "text/plain": [
              "[4.7416840970981866e-05, 0.005910396575927734]"
            ]
          },
          "metadata": {},
          "execution_count": 22
        }
      ]
    },
    {
      "cell_type": "code",
      "source": [
        "model.predict([10])  #y=32"
      ],
      "metadata": {
        "colab": {
          "base_uri": "https://localhost:8080/"
        },
        "id": "ywkF76L7wBrf",
        "outputId": "f161d5d5-f0d9-43db-9457-ee12ab3ea3d7"
      },
      "execution_count": null,
      "outputs": [
        {
          "output_type": "stream",
          "name": "stdout",
          "text": [
            "1/1 [==============================] - 0s 175ms/step\n"
          ]
        },
        {
          "output_type": "execute_result",
          "data": {
            "text/plain": [
              "array([[32.028564]], dtype=float32)"
            ]
          },
          "metadata": {},
          "execution_count": 23
        }
      ]
    },
    {
      "cell_type": "markdown",
      "source": [
        "## 3. 심층 신경망으로 이미지 분류\n",
        "- 심층 신경망으로 이미지 분류 모델을 생성한다.\n",
        "- 이미지 분류를 위해 단층이 아닌 더 깊은 층을 쌓아 깊이가 있는 딥러닝 모델을 생성한다.\n",
        "- 훈련에 필요한 데이터셋은 케라스 내장 데이터셋을 가져와서 사용하고, 분류에 적합한 손실함수를 적용하고 결과를 확인한다.\n",
        "\n",
        "## 3-1. 케라스 내장 데이터셋 로드\n",
        "- 케라스는 모델 훈련에 필요한 샘플 데이터셋을 제공한다.\n",
        "- 데이터셋은 **`tenserflow.keras.datasets`** 서브패키지에 위치한다.\n",
        "- 서브패키지에서 mnist 손글씨 데이터셋을 불러와서 mnist 변수에 저장한다.\n",
        "- **`load_data()`** 메서드를 적용하여 google의 storage로부터 넘파이 배열로 구성된 데이터셋을 다운로드 받는다. \n",
        "- 앞서 설명한 것처럼 훈련 데이터셋과 검증 데이터셋을 반환하기 때문에 훈련 셋과 검증 셋을 튜플 형태로 정의한다.\n",
        "- x_train, y_train은 각각 훈련 셋의 입력과 출력 데이터를 나타낸다. 마찬가지로 x_test, y_test는 검증 셋의 입력과 출력 데이터를 나타낸다.\n",
        "- 훈련 셋에는 60000개, 검증 셋에는 10000개 데이터가 저장되어 있다.\n",
        "- 입력 데이터인 x_train, x_test에는 mnist 손글씨 이미지 데이터가 저장되어 있고 배열의 shape는 (데이터셋 크기, 28, 28)이다. 28, 28은 이미지의 세로와 가로 픽셀 크기를 나타낸다."
      ],
      "metadata": {
        "id": "D9aSZrtBwnT2"
      }
    },
    {
      "cell_type": "code",
      "source": [
        "import tensorflow as tf\n",
        "#케라스의 내장 데이터셋에서 mnist 데이터셋 로드\n",
        "mnist = tf.keras.datasets.mnist"
      ],
      "metadata": {
        "id": "L3kcnTUuwcjh"
      },
      "execution_count": null,
      "outputs": []
    },
    {
      "cell_type": "code",
      "source": [
        "#google의 storage로부터 load_data()로 데이터셋 로드 \n",
        "(x_train, y_train),(x_test, y_test) = mnist.load_data()"
      ],
      "metadata": {
        "colab": {
          "base_uri": "https://localhost:8080/"
        },
        "id": "uea9oAqbxilG",
        "outputId": "06ab3599-1fcd-4e59-f9f9-59a41f8af0bb"
      },
      "execution_count": null,
      "outputs": [
        {
          "output_type": "stream",
          "name": "stdout",
          "text": [
            "Downloading data from https://storage.googleapis.com/tensorflow/tf-keras-datasets/mnist.npz\n",
            "11490434/11490434 [==============================] - 0s 0us/step\n"
          ]
        }
      ]
    },
    {
      "cell_type": "code",
      "source": [
        "#로드된 데이터셋 확인\n",
        "print('train set :', x_train.shape, y_train.shape)\n",
        "print('test set :', x_test.shape, y_test.shape)"
      ],
      "metadata": {
        "colab": {
          "base_uri": "https://localhost:8080/"
        },
        "id": "Vezdl0Wxx_Bc",
        "outputId": "a3ebcb11-06fa-4739-c457-43fe2d6e0141"
      },
      "execution_count": null,
      "outputs": [
        {
          "output_type": "stream",
          "name": "stdout",
          "text": [
            "train set : (60000, 28, 28) (60000,)\n",
            "test set : (10000, 28, 28) (10000,)\n"
          ]
        }
      ]
    },
    {
      "cell_type": "code",
      "source": [
        "#시각화\n",
        "#canvas 생성\n",
        "fig, axes = plt.subplots(3,5)\n",
        "fig.set_size_inches(8, 5)\n",
        "\n",
        "for i in range(15):\n",
        "  ax = axes[i//5, i%5]\n",
        "  #imshow로 이미지 시각화\n",
        "  ax.imshow(x_train[i], cmap='gray')\n",
        "  ax.axis('off')\n",
        "  ax.set_title(str(y_train[i]))\n",
        "plt.tight_layout()\n",
        "plt.show()"
      ],
      "metadata": {
        "colab": {
          "base_uri": "https://localhost:8080/",
          "height": 371
        },
        "id": "IYkUl-q9yKVz",
        "outputId": "b2c4726b-20a7-4491-855f-5e888413a62d"
      },
      "execution_count": null,
      "outputs": [
        {
          "output_type": "display_data",
          "data": {
            "text/plain": [
              "<Figure size 576x360 with 15 Axes>"
            ],
            "image/png": "[encoded data removed]"
          },
          "metadata": {
            "needs_background": "light"
          }
        }
      ]
    },
    {
      "cell_type": "markdown",
      "source": [
        "## 3-2. 데이터 전처리\n",
        "- 이미지 데이터에 대하여 정규화를 통해 데이터의 범위를 조절한다. \n",
        "- 데이터를 확인해보면 0부터 255까지 범위의 값으로 이루어진 것을 확인할 수 있다. 데이터의 범위가 0~1 사이의 값을 갖도록 정규화하기 위해서는 데이터의 최대값인 255로 나눈다."
      ],
      "metadata": {
        "id": "JsqGl3tPynWr"
      }
    },
    {
      "cell_type": "code",
      "source": [
        "x_train[0, 10:15, 10:15]"
      ],
      "metadata": {
        "colab": {
          "base_uri": "https://localhost:8080/"
        },
        "id": "Zh8-TNrXyPOn",
        "outputId": "34fc74f0-5c73-4963-d38a-27bcccadfa8a"
      },
      "execution_count": null,
      "outputs": [
        {
          "output_type": "execute_result",
          "data": {
            "text/plain": [
              "array([[  1, 154, 253,  90,   0],\n",
              "       [  0, 139, 253, 190,   2],\n",
              "       [  0,  11, 190, 253,  70],\n",
              "       [  0,   0,  35, 241, 225],\n",
              "       [  0,   0,   0,  81, 240]], dtype=uint8)"
            ]
          },
          "metadata": {},
          "execution_count": 28
        }
      ]
    },
    {
      "cell_type": "code",
      "source": [
        "#픽셀 값의 최소/최댓값 확인\n",
        "print(f'정규화 전] 최소값 : {x_train.min()}, 최댓값 : {x_train.max()}')\n",
        "\n",
        "#데이터 정규화\n",
        "x_train = x_train/x_train.max()\n",
        "#정규화 후 최소/최댓값 확인\n",
        "print(f'정규화 후] 최소값 : {x_train.min()}, 최댓값 : {x_train.max()}')"
      ],
      "metadata": {
        "colab": {
          "base_uri": "https://localhost:8080/"
        },
        "id": "6zXXkElDyvWK",
        "outputId": "4bace251-3d2a-4dfa-f48b-444f8c712fb5"
      },
      "execution_count": null,
      "outputs": [
        {
          "output_type": "stream",
          "name": "stdout",
          "text": [
            "정규화 전] 최소값 : 0, 최댓값 : 255\n",
            "정규화 후] 최소값 : 0.0, 최댓값 : 1.0\n"
          ]
        }
      ]
    },
    {
      "cell_type": "code",
      "source": [
        "#test 셋에도 정규화 동일 적용\n",
        "x_test = x_test/x_test.max()\n",
        "\n",
        "#변환 후 x_train 배열의 데이터 다시 확인\n",
        "x_train[0, 10:15, 10:15]"
      ],
      "metadata": {
        "colab": {
          "base_uri": "https://localhost:8080/"
        },
        "id": "oWUVM8lBy7RJ",
        "outputId": "306c8d36-3b07-4dc6-9abb-e16acf6a29a7"
      },
      "execution_count": null,
      "outputs": [
        {
          "output_type": "execute_result",
          "data": {
            "text/plain": [
              "array([[0.00392157, 0.60392157, 0.99215686, 0.35294118, 0.        ],\n",
              "       [0.        , 0.54509804, 0.99215686, 0.74509804, 0.00784314],\n",
              "       [0.        , 0.04313725, 0.74509804, 0.99215686, 0.2745098 ],\n",
              "       [0.        , 0.        , 0.1372549 , 0.94509804, 0.88235294],\n",
              "       [0.        , 0.        , 0.        , 0.31764706, 0.94117647]])"
            ]
          },
          "metadata": {},
          "execution_count": 30
        }
      ]
    },
    {
      "cell_type": "markdown",
      "source": [
        "## 3-3. Flatten 레이어\n",
        "- 샘플 이미지의 형태는 (28,28)로 2차원 입력이다. 2차원 입력은 Dense 레이어에 입력값으로 넣을 수 없으므로 이미지 데이터를 1차원으로 전처리하여 주입해야 한다.\n",
        "- 또는 **`Flatten`** 레이어를 사용하여 다차원 데이터를 1차원으로 펼쳐주는 방법도 가능하다. 적용한 결과 shape이 (60000, 784)가 되는데 784는 가로 세로 픽셀 수를 곱한 28*28의 값이다.\n",
        "\n",
        "## 3-4. 활성화 함수\n",
        "- 활성화 함수는 입력을 비선형 출력으로 변환해주는 함수이다. 일반적으로 선형관계를 나타내는 함수에 비선형성을 추가하는 방법으로 표현되기도 한다.\n",
        "- 자주 사용되는 활성화 함수로는 시그모이드(Sigmoid), 하이퍼볼릭 탄젠트(Hyperbolic Tangent), ReLU, Leaky ReLU 등이 있다.\n",
        "- 텐서플로 케라스 레이어에 활성화 함수를 적용하고 싶다면 다음과 같이 설정한다. Dense 레이어에 ReLU 활성화 함수를 적용하기 위해서는 **`activation='relu'`**로 입력한다.\n",
        "- 다음과 별도의 층으로 적용할 수도 있는데, Dense 레이어 다음에 배치 정규화를 적용한 후 활성화 함수를 적용하고자 할때 많이 사용된다."
      ],
      "metadata": {
        "id": "fmSxjqjBzIii"
      }
    },
    {
      "cell_type": "code",
      "source": [
        "print(f'변경 전 shape : {x_train.shape}')\n",
        "print(f'1D로 shape 변경 후 : {x_train.reshape(60000,-1).shape}')"
      ],
      "metadata": {
        "colab": {
          "base_uri": "https://localhost:8080/"
        },
        "id": "wJGi4u09zEVW",
        "outputId": "39ee5a0b-f1b0-4eb1-f47f-be274d6f0c5d"
      },
      "execution_count": null,
      "outputs": [
        {
          "output_type": "stream",
          "name": "stdout",
          "text": [
            "변경 전 shape : (60000, 28, 28)\n",
            "1D로 shape 변경 후 : (60000, 784)\n"
          ]
        }
      ]
    },
    {
      "cell_type": "code",
      "source": [
        "print(f'변경 전 shape : {x_train.shape}')\n",
        "#Flatten 레이어 적용\n",
        "print(f'Flatten 적용 후 : {tf.keras.layers.Flatten()(x_train).shape}')"
      ],
      "metadata": {
        "colab": {
          "base_uri": "https://localhost:8080/"
        },
        "id": "Nz2F8x1f2AYi",
        "outputId": "4cb2b65d-dde2-4d8c-db6e-4b49126f6db3"
      },
      "execution_count": null,
      "outputs": [
        {
          "output_type": "stream",
          "name": "stdout",
          "text": [
            "변경 전 shape : (60000, 28, 28)\n",
            "Flatten 적용 후 : (60000, 784)\n"
          ]
        }
      ]
    },
    {
      "cell_type": "code",
      "source": [
        "#Dense레이어에 relu 활성화 함수 적용한 경우\n",
        "tf.keras.layers.Dense(128, activation='relu')"
      ],
      "metadata": {
        "colab": {
          "base_uri": "https://localhost:8080/"
        },
        "id": "rbR6FP9T2TRY",
        "outputId": "c8d1c73e-9a3f-4677-cf17-8a46f8c88ecb"
      },
      "execution_count": null,
      "outputs": [
        {
          "output_type": "execute_result",
          "data": {
            "text/plain": [
              "<keras.layers.core.dense.Dense at 0x7ff744cb9b50>"
            ]
          },
          "metadata": {},
          "execution_count": 33
        }
      ]
    },
    {
      "cell_type": "code",
      "source": [
        "#Dense레이어와 relu 활성화 함수 레이어를 별도 적용한 경우\n",
        "model = tf.keras.Sequential([\n",
        "    tf.keras.layers.Dense(128),\n",
        "    tf.keras.layers.Activation('relu')\n",
        "])"
      ],
      "metadata": {
        "id": "8gJwndjc25A1"
      },
      "execution_count": null,
      "outputs": []
    },
    {
      "cell_type": "markdown",
      "source": [
        "## 3-5. 입력과 출력\n",
        "- 딥러닝 모델을 만들 때는 첫번째 레이어에 입력 데이터의 형태를 나타내는 input_shape 매개변수를 지정하는 것이 일반적이다. 앞에서 x_train의 shape이 (60000, 28, 28) 배열임을 확인하였다.\n",
        "- 여기서 데이터셋의 크기를 나타내는 60000을 제외하고, 이미지의 세로, 가로 형태를 나타내는 **`input_shape=(28, 28)`**를 지정한다.\n",
        "- 출력층의 노드 개수가 2개 이상인 경우, 즉 다중 분류 문제에서는 **`softmax`** 활성화 함수를 적용한다. \n",
        "- 반면 이진 분류 모델의 출력층 노드 개수를 1개로 설정한 경우에는 **`sigmoid`** 활성화 함수를 적용한다."
      ],
      "metadata": {
        "id": "YZ2oACEY3GA3"
      }
    },
    {
      "cell_type": "code",
      "source": [
        "model = tf.keras.Sequential([\n",
        "    tf.keras.layers.Flatten(input_shape=(28,28)),\n",
        "    tf.keras.layers.Dense(256, activation='relu'),\n",
        "    tf.keras.layers.Dense(64, activation='relu'),\n",
        "    tf.keras.layers.Dense(32, activation='relu'),\n",
        "    tf.keras.layers.Dense(10, activation='softmax') #노드개수=10개=클래스개수\n",
        "])"
      ],
      "metadata": {
        "id": "H-lQuLqo3ElZ"
      },
      "execution_count": null,
      "outputs": []
    },
    {
      "cell_type": "code",
      "source": [
        "#출력층 노드=1, sigmoid\n",
        "tf.keras.layers.Dense(1, activation='sigmoid')\n",
        "\n",
        "#출력층 노드=2개이상, softmax\n",
        "tf.keras.layers.Dense(10, activation='softmax')"
      ],
      "metadata": {
        "colab": {
          "base_uri": "https://localhost:8080/"
        },
        "id": "wX8z0_8Y3mlv",
        "outputId": "202e7f5b-4b76-4b1e-e38a-3c449a7ef32c"
      },
      "execution_count": null,
      "outputs": [
        {
          "output_type": "execute_result",
          "data": {
            "text/plain": [
              "<keras.layers.core.dense.Dense at 0x7ff744df5a50>"
            ]
          },
          "metadata": {},
          "execution_count": 36
        }
      ]
    },
    {
      "cell_type": "markdown",
      "source": [
        "## 3-6. 손실함수\n",
        "- 분류 모델의 손실함수는 모델의 출력층에 따라 올바른 손실함수를 적용해야만 모델이 정상적으로 훈련할 수 있다. \n",
        "- 이진 분류기 생성 시 **출력층의 노드 개수가 1개**면 **활성화 함수**로 **`activation='sigmoid'`**를 지정하며, **손실함수**는 **`binary_crossentropy`**를 지정한다.\n",
        "- **출력층의 노드 개수가 2개 이상**이면 **활성화 함수**로 **`activation='softmax'`**를 지정하며, **손실함수**는 **`categorical_crossentropy 또는 sparse_categorical_crossentropy`**를 지정한다.\n",
        "- **출력 데이터가 원핫 벡터**인 경우에는 **`categorical_crossentropy`**를 지정하고, **원핫 벡터가 아닌 경우**에는 **`sparse_categorical_crossentropy`**를 지정한다."
      ],
      "metadata": {
        "id": "6Uk5aY9e384j"
      }
    },
    {
      "cell_type": "code",
      "source": [
        "#이진 분류(출력 노드 개수=1, sigmoid)\n",
        "model.compile(loss='binary_crossentropy')"
      ],
      "metadata": {
        "id": "J3-YhSCo4xuP"
      },
      "execution_count": null,
      "outputs": []
    },
    {
      "cell_type": "code",
      "source": [
        "#y가 원핫벡터 [0., 0., 0., 1., 0., 0., 0.]\n",
        "model.compile(loss='categorical_crossentropy')\n",
        "\n",
        "#y가 원핫벡터 아닐 경우 [5]\n",
        "model.compile(loss='sparse_categorical_crossentropy')"
      ],
      "metadata": {
        "id": "T08OXax24x3q"
      },
      "execution_count": null,
      "outputs": []
    },
    {
      "cell_type": "markdown",
      "source": [
        "## 3-7. 옵티마이저\n",
        "- 옵티마이저는 손실을 낮추기 위해서 신경망의 가중치와 학습률과 같은 신경망의 속성을 변경하는데 사용되는 최적화 방법이다.\n",
        "- 일반적으로 많이 사용되는 알고리즘은 **`Adam`**이다.\n",
        "- 옵티마이저는 클래스 인스턴스로 지정하거나 문자열로 지정할 수 있다. 문자열로 지정할 때는 클래스 이름을 소문자로 표기하면 된다. \n",
        "- 클래스 인스턴스로 지정할 때는 문자열 지정과는 다르게 학습률(lr)과 같은 하이퍼파라미터를 직접 설정할 수 있다."
      ],
      "metadata": {
        "id": "bQ99rBTa4Ake"
      }
    },
    {
      "cell_type": "code",
      "source": [
        "#클래스 인스턴스로 지정\n",
        "adam = tf.keras.optimizers.Adam(lr=0.001)\n",
        "model.compile(optimizer=adam)\n",
        "\n",
        "#문자열로 지정\n",
        "model.compile(optimizer='adam')   "
      ],
      "metadata": {
        "colab": {
          "base_uri": "https://localhost:8080/"
        },
        "id": "ieLeXjvJ38SV",
        "outputId": "0fd41222-bfdf-48f1-9ed9-b5c436a3a7a7"
      },
      "execution_count": null,
      "outputs": [
        {
          "output_type": "stream",
          "name": "stderr",
          "text": [
            "/usr/local/lib/python3.7/dist-packages/keras/optimizers/optimizer_v2/adam.py:110: UserWarning: The `lr` argument is deprecated, use `learning_rate` instead.\n",
            "  super(Adam, self).__init__(name, **kwargs)\n"
          ]
        }
      ]
    },
    {
      "cell_type": "markdown",
      "source": [
        "## 3-8. 평가지표\n",
        "- 분류 모델에 대한 평가지표는 정확도를 나타내는 'accuracy'가 가장 많이 사용되며, 'auc', 'precision', 'recall' 등의 지표도 많이 사용된다.\n",
        "- 모델 컴파일 단계에서 **`metrics`** 매개변수에 파이썬 리스트 형태로 하나 이상의 평가지표를 지정하여 여러 지표들을 동시에 참고할 수 있다.\n",
        "- 평가지표도 옵티마이저와 마찬가지로 클래스 인스턴스로 지정하거나 문자열로 지정할 수 있다."
      ],
      "metadata": {
        "id": "nO51TMcM5iC2"
      }
    },
    {
      "cell_type": "code",
      "source": [
        "#클래스 인스턴스로 지정\n",
        "acc = tf.keras.metrics.SparseCategoricalAccuracy()\n",
        "model.compile(optimizer='adam', loss='sparse_categorical_crossentropy', metrics=[acc])\n",
        "\n",
        "#문자열로 지정\n",
        "model.compile(optimizer='adam', loss='sparse_categorical_crossentropy', metrics=['accuracy'])"
      ],
      "metadata": {
        "id": "5nURi6_b5eGw"
      },
      "execution_count": null,
      "outputs": []
    },
    {
      "cell_type": "markdown",
      "source": [
        "## 3-9. 훈련\n",
        "- 앞서 선형회귀 모델을 학습시킬 때는 별도의 검증 데이터셋을 만들지 않았지만, mnist 손글씨 데이터셋은 별도의 검증 셋이 존재한다.\n",
        "- 모델을 훈련할 때 검증 셋을 추가 지정하면, 매 epoch마다 훈련 손실과 검증 손실, 각 셋에 대한 평가지표를 나란히 출력한다. 검증 셋을 지정하는 방법은 **`validation_data`** 매개변수에 튜플 형식의 검증 셋을 지정하면 된다.\n",
        "- 아래 코드는 epoch를 10회로 지정하여 훈련한다.\n",
        "\n",
        "## 3-10. 평가\n",
        "- 10회의 epoch가 끝나고 훈련이 종료되면 **`evaluate()`** 메서드로 모델 성능을 검사하고 평가 검사를 확인할 수 있다.\n",
        "- 이때 검증 셋인 x_test와 y_test를 함수에 전달한다.\n",
        "- **`evaluate()`** 메서드는 컴파일 단계에서 지정한 손실과 정확도를 순서대로 반환하며, 그 중 정확도만 지정하여 출력해보면 모델의 검증 성능이 약 98.2%를 기록한 것을 확인할 수 있다."
      ],
      "metadata": {
        "id": "MXHPRYkl6EGV"
      }
    },
    {
      "cell_type": "code",
      "source": [
        "model.fit(x_train, y_train, \n",
        "          validation_data=(x_test, y_test), #검증 셋 지정\n",
        "          epochs=10)"
      ],
      "metadata": {
        "colab": {
          "base_uri": "https://localhost:8080/"
        },
        "id": "qtLEgzH35_ar",
        "outputId": "419e53df-bc05-4719-ad59-c69bd29d3731"
      },
      "execution_count": null,
      "outputs": [
        {
          "output_type": "stream",
          "name": "stdout",
          "text": [
            "Epoch 1/10\n",
            "1875/1875 [==============================] - 8s 4ms/step - loss: 0.2264 - accuracy: 0.9327 - val_loss: 0.1197 - val_accuracy: 0.9626\n",
            "Epoch 2/10\n",
            "1875/1875 [==============================] - 7s 4ms/step - loss: 0.0956 - accuracy: 0.9705 - val_loss: 0.0789 - val_accuracy: 0.9744\n",
            "Epoch 3/10\n",
            "1875/1875 [==============================] - 8s 4ms/step - loss: 0.0653 - accuracy: 0.9800 - val_loss: 0.0838 - val_accuracy: 0.9750\n",
            "Epoch 4/10\n",
            "1875/1875 [==============================] - 9s 5ms/step - loss: 0.0504 - accuracy: 0.9841 - val_loss: 0.0867 - val_accuracy: 0.9727\n",
            "Epoch 5/10\n",
            "1875/1875 [==============================] - 8s 4ms/step - loss: 0.0392 - accuracy: 0.9875 - val_loss: 0.0823 - val_accuracy: 0.9784\n",
            "Epoch 6/10\n",
            "1875/1875 [==============================] - 8s 4ms/step - loss: 0.0330 - accuracy: 0.9893 - val_loss: 0.0875 - val_accuracy: 0.9777\n",
            "Epoch 7/10\n",
            "1875/1875 [==============================] - 9s 5ms/step - loss: 0.0298 - accuracy: 0.9901 - val_loss: 0.0783 - val_accuracy: 0.9799\n",
            "Epoch 8/10\n",
            "1875/1875 [==============================] - 9s 5ms/step - loss: 0.0244 - accuracy: 0.9920 - val_loss: 0.0816 - val_accuracy: 0.9786\n",
            "Epoch 9/10\n",
            "1875/1875 [==============================] - 10s 6ms/step - loss: 0.0225 - accuracy: 0.9928 - val_loss: 0.0804 - val_accuracy: 0.9805\n",
            "Epoch 10/10\n",
            "1875/1875 [==============================] - 10s 5ms/step - loss: 0.0197 - accuracy: 0.9940 - val_loss: 0.0776 - val_accuracy: 0.9816\n"
          ]
        },
        {
          "output_type": "execute_result",
          "data": {
            "text/plain": [
              "<keras.callbacks.History at 0x7ff744c79450>"
            ]
          },
          "metadata": {},
          "execution_count": 41
        }
      ]
    },
    {
      "cell_type": "code",
      "source": [
        "test_loss, test_acc = model.evaluate(x_test, y_test)\n",
        "print('검증 셋 정확도 :', test_acc)"
      ],
      "metadata": {
        "colab": {
          "base_uri": "https://localhost:8080/"
        },
        "id": "yRKfPctF6cWd",
        "outputId": "336be24e-632a-4bb3-9349-81c5b2ce1357"
      },
      "execution_count": null,
      "outputs": [
        {
          "output_type": "stream",
          "name": "stdout",
          "text": [
            "313/313 [==============================] - 1s 2ms/step - loss: 0.0776 - accuracy: 0.9816\n",
            "검증 셋 정확도 : 0.9815999865531921\n"
          ]
        }
      ]
    },
    {
      "cell_type": "markdown",
      "source": [
        "## 3-10. 예측\n",
        "- **`predict()`** 메서드에 이미지 데이터를 넣어주면 새로운 이미지에 대한 분류 값을 예측하여 반환한다.\n",
        "- 결과는 **모델이 예측한 분류 결과를 넘파이 배열 형태로 반환**한다.\n",
        "- 첫번째 이미지에 대한 분류 결과를 출력해보면 다음과 같이 10개의 확률값들이 출력된다.\n",
        "- 모델의 마지막 출력층의 노드 개수가 10개로 지정되어 10개 값이 출력된 것이다. softmax 활성화 함수를 거친 10개의 출력 값은 순차적으로 0부터 9까지 **10개의 개별 클래스에 대한 분류 확률값**을 나타낸다. \n",
        "- 이 중 **가장 높은 확률값을 가진 클래스가 최종 예측된 클래스**이다."
      ],
      "metadata": {
        "id": "BQg2Tpgy6-N6"
      }
    },
    {
      "cell_type": "code",
      "source": [
        "predictions = model.predict(x_test)"
      ],
      "metadata": {
        "colab": {
          "base_uri": "https://localhost:8080/"
        },
        "id": "UUwAcLde7quk",
        "outputId": "a827e4cd-234c-4d92-cfa0-be328b93d61a"
      },
      "execution_count": null,
      "outputs": [
        {
          "output_type": "stream",
          "name": "stdout",
          "text": [
            "313/313 [==============================] - 1s 3ms/step\n"
          ]
        }
      ]
    },
    {
      "cell_type": "code",
      "source": [
        "predictions[0]"
      ],
      "metadata": {
        "colab": {
          "base_uri": "https://localhost:8080/"
        },
        "id": "1n-Vgyob7q71",
        "outputId": "5b25825f-99c1-4752-de24-203cda02764d"
      },
      "execution_count": null,
      "outputs": [
        {
          "output_type": "execute_result",
          "data": {
            "text/plain": [
              "array([6.1890082e-13, 1.3037810e-09, 3.2666503e-10, 5.4522582e-07,\n",
              "       9.8051496e-09, 1.0959212e-08, 2.7947288e-16, 9.9999899e-01,\n",
              "       3.7784936e-08, 2.7017083e-07], dtype=float32)"
            ]
          },
          "metadata": {},
          "execution_count": 44
        }
      ]
    },
    {
      "cell_type": "code",
      "source": [
        "#0번 index에 대한 예측 클래스 출력\n",
        "print(np.argmax(predictions[0]))\n",
        "\n",
        "#첫 10개 index에 대한 예측 클래스 출력\n",
        "print(np.argmax(predictions[:10], axis=1))"
      ],
      "metadata": {
        "colab": {
          "base_uri": "https://localhost:8080/"
        },
        "id": "eYkKPwQA7sOz",
        "outputId": "2f8cbe5d-2165-46f0-b9e0-c1e87321afa1"
      },
      "execution_count": null,
      "outputs": [
        {
          "output_type": "stream",
          "name": "stdout",
          "text": [
            "7\n",
            "[7 2 1 0 4 1 4 9 2 9]\n"
          ]
        }
      ]
    },
    {
      "cell_type": "code",
      "source": [
        "#15개 예측한 결과에 대한 시각화\n",
        "def get_one_result(idx):\n",
        "  img, y_true, y_pred, confidence = x_test[idx], y_test[idx], np.argmax(predictions[idx]), 100 * np.max(predictions[idx])\n",
        "  return img, y_true, y_pred, confidence\n",
        "\n",
        "#canvas 생성\n",
        "fig, axes = plt.subplots(3,5)\n",
        "fig.set_size_inches(12, 10)\n",
        "for i in range(15):\n",
        "  ax = axes[i//5, i%5]\n",
        "  img, y_true, y_pred, confidence = get_one_result(i)\n",
        "\n",
        "  ax.imshow(img, cmap='gray')\n",
        "  ax.set_xticks([])\n",
        "  ax.set_yticks([])\n",
        "  ax.set_title(f'True: {y_true}')\n",
        "  ax.set_xlabel(f'Predictions : {y_pred}\\nConfidence:({confidence:.2f} %)')\n",
        "\n",
        "plt.tight_layout()\n",
        "plt.show()"
      ],
      "metadata": {
        "colab": {
          "base_uri": "https://localhost:8080/",
          "height": 697
        },
        "id": "i2-6DDpB7uHz",
        "outputId": "1162c499-8249-4fa4-e414-0f0a678f7106"
      },
      "execution_count": null,
      "outputs": [
        {
          "output_type": "display_data",
          "data": {
            "text/plain": [
              "<Figure size 864x720 with 15 Axes>"
            ],
            "image/png": "[encoded data removed]"
          },
          "metadata": {}
        }
      ]
    },
    {
      "cell_type": "markdown",
      "source": [
        "## 4. 모델 세부 설정\n",
        "## 4-1. 초기값 설정\n",
        "- 레이어의 초기화 방법을 다르게 설정할 수 있다.\n",
        "- Dense 레이어는 기본 초기화 방법으로 GlorotUniform 초기화 방법이 설정되어 있다. \n",
        "- 기본값으로 설정된 GlorotUniform 초기화 방법을 HeNormal로 변경하기 위해서는 **`kernel_initializer`** 매개변수에 설정한다.\n",
        "- 옵티마이저, 손실함수와 마찬가지로 문자열로 지정하는 방법과 클래스 인스턴스로 지정하는 방법이 있다."
      ],
      "metadata": {
        "id": "WWNwbms377Od"
      }
    },
    {
      "cell_type": "code",
      "source": [
        "import tensorflow as tf\n",
        "#케라스의 내장 데이터셋에서 mnist 데이터셋 로드\n",
        "mnist = tf.keras.datasets.mnist\n",
        "\n",
        "#google의 storage로부터 load_data()로 데이터셋 로드 \n",
        "(x_train, y_train),(x_test, y_test) = mnist.load_data()\n",
        "\n",
        "#로드된 데이터셋 확인\n",
        "print('train set :', x_train.shape, y_train.shape)\n",
        "print('test set :', x_test.shape, y_test.shape)\n",
        "\n",
        "#데이터 정규화\n",
        "x_train=x_train/x_train.max() #255\n",
        "x_test=x_test/x_test.max() #255"
      ],
      "metadata": {
        "colab": {
          "base_uri": "https://localhost:8080/"
        },
        "id": "WRFy5nBd71Ax",
        "outputId": "33c3e90d-a442-4bca-ea9c-e9ca052f42bf"
      },
      "execution_count": null,
      "outputs": [
        {
          "output_type": "stream",
          "name": "stdout",
          "text": [
            "train set : (60000, 28, 28) (60000,)\n",
            "test set : (10000, 28, 28) (10000,)\n"
          ]
        }
      ]
    },
    {
      "cell_type": "code",
      "source": [
        "dense = tf.keras.layers.Dense(256, activation='relu')\n",
        "dense.get_config()['kernel_initializer']"
      ],
      "metadata": {
        "colab": {
          "base_uri": "https://localhost:8080/"
        },
        "id": "I6B90rrx8vR6",
        "outputId": "a13f226d-dddb-4b9a-8317-fa510a9a49f1"
      },
      "execution_count": null,
      "outputs": [
        {
          "output_type": "execute_result",
          "data": {
            "text/plain": [
              "{'class_name': 'GlorotUniform', 'config': {'seed': None}}"
            ]
          },
          "metadata": {},
          "execution_count": 48
        }
      ]
    },
    {
      "cell_type": "code",
      "source": [
        "#문자열 초기화\n",
        "dense = tf.keras.layers.Dense(356, kernel_initializer='he_normal', activation='relu')\n",
        "print(dense.get_config()['kernel_initializer'])\n",
        "\n",
        "#클래스 인스턴스 초기화\n",
        "he_normal = tf.keras.initializers.HeNormal()\n",
        "dense = tf.keras.layers.Dense(256, kernel_initializer=he_normal, activation='relu')\n",
        "print(dense.get_config()['kernel_initializer'])"
      ],
      "metadata": {
        "colab": {
          "base_uri": "https://localhost:8080/"
        },
        "id": "6t7WLFpp8UmC",
        "outputId": "d18ca2b8-0c9b-4d62-a510-3bed429865e5"
      },
      "execution_count": null,
      "outputs": [
        {
          "output_type": "stream",
          "name": "stdout",
          "text": [
            "{'class_name': 'HeNormal', 'config': {'seed': None}}\n",
            "{'class_name': 'HeNormal', 'config': {'seed': None}}\n"
          ]
        }
      ]
    },
    {
      "cell_type": "markdown",
      "source": [
        "## 4-2. 규제\n",
        "- 모델의 과대적합을 해소하기 위해 L1, L2 규제를 적용하기도 한다.\n",
        "- 텐서플로 케라스 레이어는 기본값으로 규제를 적용하지 않고 있으므로, 규제를 적용하기 위해서는 별도로 설정해주어야 한다.\n",
        "- 규제를 적용하기 위해서는 **`kernel_regularizer`**에 규제를 지정한다. 케라스에서 지원하는 규제는 L1, L2 규제가 있다."
      ],
      "metadata": {
        "id": "EQTZVJY78zlN"
      }
    },
    {
      "cell_type": "code",
      "source": [
        "#기본값\n",
        "dense = tf.keras.layers.Dense(256, activation='relu')\n",
        "dense.get_config()"
      ],
      "metadata": {
        "colab": {
          "base_uri": "https://localhost:8080/"
        },
        "id": "Mdcb5ru58xt2",
        "outputId": "145aa967-4ae5-4e10-bd97-f12b5f3721b6"
      },
      "execution_count": null,
      "outputs": [
        {
          "output_type": "execute_result",
          "data": {
            "text/plain": [
              "{'name': 'dense_23',\n",
              " 'trainable': True,\n",
              " 'dtype': 'float32',\n",
              " 'units': 256,\n",
              " 'activation': 'relu',\n",
              " 'use_bias': True,\n",
              " 'kernel_initializer': {'class_name': 'GlorotUniform',\n",
              "  'config': {'seed': None}},\n",
              " 'bias_initializer': {'class_name': 'Zeros', 'config': {}},\n",
              " 'kernel_regularizer': None,\n",
              " 'bias_regularizer': None,\n",
              " 'activity_regularizer': None,\n",
              " 'kernel_constraint': None,\n",
              " 'bias_constraint': None}"
            ]
          },
          "metadata": {},
          "execution_count": 50
        }
      ]
    },
    {
      "cell_type": "code",
      "source": [
        "#L1 규제 적용\n",
        "dense = tf.keras.layers.Dense(256, kernel_regularizer='l1', activation='relu')\n",
        "print(dense.get_config()['kernel_regularizer'])\n",
        "\n",
        "#클래스 인스턴스 적용, alpha=0.1\n",
        "regularizer = tf.keras.regularizers.l1(l1=0.1)\n",
        "dense = tf.keras.layers.Dense(256, kernel_regularizer=regularizer, activation='relu')\n",
        "print(dense.get_config()['kernel_regularizer'])"
      ],
      "metadata": {
        "colab": {
          "base_uri": "https://localhost:8080/"
        },
        "id": "_TlY-S1L9hrq",
        "outputId": "769250ee-a7df-4b34-e008-7639bfa69b74"
      },
      "execution_count": null,
      "outputs": [
        {
          "output_type": "stream",
          "name": "stdout",
          "text": [
            "{'class_name': 'L1', 'config': {'l1': 0.009999999776482582}}\n",
            "{'class_name': 'L1', 'config': {'l1': 0.10000000149011612}}\n"
          ]
        }
      ]
    },
    {
      "cell_type": "markdown",
      "source": [
        "## 4-3. 드롭아웃\n",
        "- **드롭아웃**은 딥러닝 모델의 가장 큰 난제인 **과대적합 문제를 해결하기 위해 제안된 아이디어**이며, 시물적으로 상당히 좋은 효과를 보인다.\n",
        "![제목 없음.jpg](data:image/jpeg;base64,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)\n",
        "- 왼쪽 그림을 보면 모든 노드들이 연결되어 있으나, 오른쪽 그림은 모든 노드가 연결되지 않고 확률적으로 몇 개의 신호는 끊겨 있다. \n",
        "- 이렇게 **노드의 일부 신호를 임의로 삭제**하게 되면 모델이 **학습하는 가중치 파라미터의 개수가 현저하게 줄어들기 때문**에 모델이 쉽게 **과대적합 되는 것을 방지**할 수 있다.\n",
        "- 중요한 점은 **모델이 훈련**할 때는 드롭아웃이 적용되어 **노드 중 일부만 훈련**하지만, **예측 시점에는 모든 노드가 활용된다**는 점이다.\n",
        "- 케라스에서 드롭아웃은 아래의 코드와 같이 적용하며, **`Dropout`** 레이어 함수에 입력하는 숫자는 노드에서 제거되는 비율을 나타낸다."
      ],
      "metadata": {
        "id": "qXVauGJI9qAY"
      }
    },
    {
      "cell_type": "code",
      "source": [
        "#Dropout 25% 비율 적용 ( 25%의 노드가 삭제 )\n",
        "tf.keras.layers.Dropout(0.25)"
      ],
      "metadata": {
        "colab": {
          "base_uri": "https://localhost:8080/"
        },
        "id": "3DecADd79kmb",
        "outputId": "8973930a-e958-4ace-dfee-0fb33e55de44"
      },
      "execution_count": null,
      "outputs": [
        {
          "output_type": "execute_result",
          "data": {
            "text/plain": [
              "<keras.layers.regularization.dropout.Dropout at 0x7ff744d63750>"
            ]
          },
          "metadata": {},
          "execution_count": 52
        }
      ]
    },
    {
      "cell_type": "markdown",
      "source": [
        "## 4-4. 배치 정규화\n",
        "- **배치 정규화**는 **각 층에서 활성화 함수를 통과하기 전 미니 배치의 스케일을 정규화**한다. 다음 층으로 데이터가 전달되기 전에 스케일을 조정하기 때문에 보다 안정적인 훈련이 가능하고 성능을 크게 향상시킬 수 있다.\n",
        "- 배치 정규화 층은 케라스에서 클래스 함수로 지원하기 때문에 별도로 코드로 구현할 필요가 없고 클래스 인스턴스를 생성하여 추가하면 된다.\n",
        "- Dense 레이어에 ReLU 활성화 함수를 추가한 모델을 model_a, 배치 정규화를 적용 후 ReLU 활성화 함수를 추가한 모델을 model_b로 생성하여 성능을 비교한다.\n",
        "- 배치 정규화만 추가하여도 손실은 이전 대비 더 안정적이고 빠르게 수렴한다. "
      ],
      "metadata": {
        "id": "bV81E4kL-ou9"
      }
    },
    {
      "cell_type": "code",
      "source": [
        "#Model A : Dense + ReLU\n",
        "model_a = tf.keras.Sequential([\n",
        "    tf.keras.layers.Flatten(input_shape=(28,28)),\n",
        "    tf.keras.layers.Dense(64, activation='relu'),\n",
        "    tf.keras.layers.Dense(32, activation='relu'),\n",
        "    tf.keras.layers.Dense(10, activation='softmax')\n",
        "])\n",
        "model_a.summary()"
      ],
      "metadata": {
        "colab": {
          "base_uri": "https://localhost:8080/"
        },
        "id": "XcPlJ2pP-oJg",
        "outputId": "9ac558a9-e5b3-4c68-c959-9d34747725d6"
      },
      "execution_count": null,
      "outputs": [
        {
          "output_type": "stream",
          "name": "stdout",
          "text": [
            "Model: \"sequential_7\"\n",
            "_________________________________________________________________\n",
            " Layer (type)                Output Shape              Param #   \n",
            "=================================================================\n",
            " flatten_2 (Flatten)         (None, 784)               0         \n",
            "                                                                 \n",
            " dense_26 (Dense)            (None, 64)                50240     \n",
            "                                                                 \n",
            " dense_27 (Dense)            (None, 32)                2080      \n",
            "                                                                 \n",
            " dense_28 (Dense)            (None, 10)                330       \n",
            "                                                                 \n",
            "=================================================================\n",
            "Total params: 52,650\n",
            "Trainable params: 52,650\n",
            "Non-trainable params: 0\n",
            "_________________________________________________________________\n"
          ]
        }
      ]
    },
    {
      "cell_type": "code",
      "source": [
        "#Model B : Dense + BatchNorm + ReLU\n",
        "model_b = tf.keras.Sequential([\n",
        "    tf.keras.layers.Flatten(input_shape=(28,28)),\n",
        "    tf.keras.layers.Dense(64),\n",
        "    #배치 정규화 적용\n",
        "    tf.keras.layers.BatchNormalization(),\n",
        "    #배치 정규화 후 활성화 함수 적용\n",
        "    tf.keras.layers.Activation('relu'),\n",
        "\n",
        "    tf.keras.layers.Dense(32),\n",
        "    #배치 정규화 적용\n",
        "    tf.keras.layers.BatchNormalization(),\n",
        "    #배치 정규화 후 활성화 함수 적용\n",
        "    tf.keras.layers.Activation('relu'),\n",
        "\n",
        "    tf.keras.layers.Dense(10, activation='softmax')\n",
        "])\n",
        "model_b.summary()"
      ],
      "metadata": {
        "colab": {
          "base_uri": "https://localhost:8080/"
        },
        "id": "8T6n39U__5Ft",
        "outputId": "9561ce94-9020-4aa4-fbdf-1d0c670d63f0"
      },
      "execution_count": null,
      "outputs": [
        {
          "output_type": "stream",
          "name": "stdout",
          "text": [
            "Model: \"sequential_8\"\n",
            "_________________________________________________________________\n",
            " Layer (type)                Output Shape              Param #   \n",
            "=================================================================\n",
            " flatten_3 (Flatten)         (None, 784)               0         \n",
            "                                                                 \n",
            " dense_29 (Dense)            (None, 64)                50240     \n",
            "                                                                 \n",
            " batch_normalization (BatchN  (None, 64)               256       \n",
            " ormalization)                                                   \n",
            "                                                                 \n",
            " activation_1 (Activation)   (None, 64)                0         \n",
            "                                                                 \n",
            " dense_30 (Dense)            (None, 32)                2080      \n",
            "                                                                 \n",
            " batch_normalization_1 (Batc  (None, 32)               128       \n",
            " hNormalization)                                                 \n",
            "                                                                 \n",
            " activation_2 (Activation)   (None, 32)                0         \n",
            "                                                                 \n",
            " dense_31 (Dense)            (None, 10)                330       \n",
            "                                                                 \n",
            "=================================================================\n",
            "Total params: 53,034\n",
            "Trainable params: 52,842\n",
            "Non-trainable params: 192\n",
            "_________________________________________________________________\n"
          ]
        }
      ]
    },
    {
      "cell_type": "markdown",
      "source": [
        "## 4-5. 활성화 함수\n",
        "- 지금까지는 주로 Dense 레이어에 ReLU 활성화 함수를 지정했다.\n",
        "- 케라스가 지원하는 다른 활성화 함수를 적용해볼 수 있는데, 활성화 함수를 적용할 때 다음과 같이 클래스 인스턴스로 선언하여 하이퍼파라미터 값을 변경하여 적용할 수 있다.\n",
        "---\n",
        "- 앞에서 생성한 model_a, model_b와 LeakyReLU 활성화 함수로 변경한 model_c까지 3개의 모델을 동일한 조건으로 10번의 epoch 동안 훈련한 후에 수렴 속도를 확인한다.\n",
        "- 또한 결과를 시각화하여 epoch 별 검증 손실의 감소 추이를 확인할 수 있다.\n",
        "- 실행 결과를 보면 mnist 데이터셋에서는 모델별 차이가 크지 않다. 그러나 좀 더 복잡한 데이터셋을 다룬다면 배치 정규화와 다른 활성화 함수를 적용해 보면서 모델의 훈련 추이를 관찰해 볼 필요가 있다."
      ],
      "metadata": {
        "id": "Wczpg71YAPVd"
      }
    },
    {
      "cell_type": "code",
      "source": [
        "#LeakyReLu 기본 설정\n",
        "tf.keras.layers.LeakyReLU()\n",
        "\n",
        "#LeakyReLU, 인스턴스로 선언하여 하이퍼파라미터 alpha=0.2로 변경\n",
        "tf.keras.layers.LeakyReLU(alpha=0.2)"
      ],
      "metadata": {
        "colab": {
          "base_uri": "https://localhost:8080/"
        },
        "id": "ZOCbbUatAGpQ",
        "outputId": "5f0027c7-25ee-4b8a-a8ea-25740c575d33"
      },
      "execution_count": null,
      "outputs": [
        {
          "output_type": "execute_result",
          "data": {
            "text/plain": [
              "<keras.layers.activation.leaky_relu.LeakyReLU at 0x7ff7471c5890>"
            ]
          },
          "metadata": {},
          "execution_count": 55
        }
      ]
    },
    {
      "cell_type": "code",
      "source": [
        "#Model C : Dense + BatchNorm + LeakyReLU(0.2)\n",
        "model_c = tf.keras.Sequential([\n",
        "    tf.keras.layers.Flatten(input_shape=(28,28)),\n",
        "    tf.keras.layers.Dense(64),\n",
        "    #배치 정규화 적용\n",
        "    tf.keras.layers.BatchNormalization(),\n",
        "    #LeakyReLU, alpha=0.2\n",
        "    tf.keras.layers.LeakyReLU(alpha = 0.2),\n",
        "\n",
        "    tf.keras.layers.Dense(32),\n",
        "    #배치 정규화 적용\n",
        "    tf.keras.layers.BatchNormalization(),\n",
        "    #배치 정규화 후 활성화 함수 적용\n",
        "    tf.keras.layers.LeakyReLU(alpha = 0.2),\n",
        "\n",
        "    tf.keras.layers.Dense(10, activation='softmax')\n",
        "])\n",
        "model_c.summary()"
      ],
      "metadata": {
        "colab": {
          "base_uri": "https://localhost:8080/"
        },
        "id": "CQnhSmwaAfGi",
        "outputId": "10e24e0c-8c4f-430d-c2de-129c9e873fce"
      },
      "execution_count": null,
      "outputs": [
        {
          "output_type": "stream",
          "name": "stdout",
          "text": [
            "Model: \"sequential_9\"\n",
            "_________________________________________________________________\n",
            " Layer (type)                Output Shape              Param #   \n",
            "=================================================================\n",
            " flatten_4 (Flatten)         (None, 784)               0         \n",
            "                                                                 \n",
            " dense_32 (Dense)            (None, 64)                50240     \n",
            "                                                                 \n",
            " batch_normalization_2 (Batc  (None, 64)               256       \n",
            " hNormalization)                                                 \n",
            "                                                                 \n",
            " leaky_re_lu_2 (LeakyReLU)   (None, 64)                0         \n",
            "                                                                 \n",
            " dense_33 (Dense)            (None, 32)                2080      \n",
            "                                                                 \n",
            " batch_normalization_3 (Batc  (None, 32)               128       \n",
            " hNormalization)                                                 \n",
            "                                                                 \n",
            " leaky_re_lu_3 (LeakyReLU)   (None, 32)                0         \n",
            "                                                                 \n",
            " dense_34 (Dense)            (None, 10)                330       \n",
            "                                                                 \n",
            "=================================================================\n",
            "Total params: 53,034\n",
            "Trainable params: 52,842\n",
            "Non-trainable params: 192\n",
            "_________________________________________________________________\n"
          ]
        }
      ]
    },
    {
      "cell_type": "code",
      "source": [
        "#앞의 3개의 모델 동일한 조건으로 10번 epoch동안 훈련한 후 수렴 속도 확인\n",
        "model_a.compile(optimizer='adam', loss='sparse_categorical_crossentropy', metrics=['accuracy'])\n",
        "model_b.compile(optimizer='adam', loss='sparse_categorical_crossentropy', metrics=['accuracy'])\n",
        "model_c.compile(optimizer='adam', loss='sparse_categorical_crossentropy', metrics=['accuracy'])\n",
        "\n",
        "#Model A\n",
        "history_a = model_a.fit(x_train, y_train, validation_data=(x_test, y_test), epochs=10)\n",
        "#Model B\n",
        "history_b = model_b.fit(x_train, y_train, validation_data=(x_test, y_test), epochs=10)\n",
        "#Model C\n",
        "history_c = model_c.fit(x_train, y_train, validation_data=(x_test, y_test), epochs=10)"
      ],
      "metadata": {
        "id": "FUr8P4CYAmok"
      },
      "execution_count": null,
      "outputs": []
    },
    {
      "cell_type": "code",
      "source": [
        "#시각화\n",
        "plt.figure(figsize=(12,9))\n",
        "plt.plot(np.arange(1,11), history_a.history['val_loss'], color='navy', linestyle=':')\n",
        "plt.plot(np.arange(1,11), history_b.history['val_loss'], color='tomato', linestyle='-.')\n",
        "plt.plot(np.arange(1,11), history_c.history['val_loss'], color='green', linestyle='-')\n",
        "\n",
        "plt.title('Losses', fontsize=20)\n",
        "plt.xlabel('epochs')\n",
        "plt.ylabel('Losses')\n",
        "plt.legend(['ReLU', 'BatchNorm + ReLU', 'batchnorom + LeakyReLU'], fontsize=12)\n",
        "plt.show()"
      ],
      "metadata": {
        "colab": {
          "base_uri": "https://localhost:8080/",
          "height": 572
        },
        "id": "QqXqx2D9A5fP",
        "outputId": "cfd86665-b9b3-4322-8f36-9b021c128ea3"
      },
      "execution_count": null,
      "outputs": [
        {
          "output_type": "display_data",
          "data": {
            "text/plain": [
              "<Figure size 864x648 with 1 Axes>"
            ],
            "image/png": "[encoded data removed]"
          },
          "metadata": {
            "needs_background": "light"
          }
        }
      ]
    }
  ]
}