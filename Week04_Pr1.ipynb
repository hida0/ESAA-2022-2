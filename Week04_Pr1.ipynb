{
  "nbformat": 4,
  "nbformat_minor": 0,
  "metadata": {
    "colab": {
      "provenance": [],
      "collapsed_sections": [],
      "include_colab_link": true
    },
    "kernelspec": {
      "name": "python3",
      "display_name": "Python 3"
    },
    "language_info": {
      "name": "python"
    }
  },
  "cells": [
    {
      "cell_type": "markdown",
      "metadata": {
        "id": "view-in-github",
        "colab_type": "text"
      },
      "source": [
        "<a href=\"https://colab.research.google.com/github/hida0/ESAA-2022-2/blob/Practice/Week04_Pr1.ipynb\" target=\"_parent\"><img src=\"https://colab.research.google.com/assets/colab-badge.svg\" alt=\"Open In Colab\"/></a>"
      ]
    },
    {
      "cell_type": "markdown",
      "source": [
        "## **| 앙상블 학습과 랜덤 포레스트 연습 문제**\n",
        "___\n",
        "- 출처 : 핸즈온 머신러닝 Ch07 앙상블 학습과 랜덤 포레스트 연습문제 2, 7, 8, 9번\n",
        "- 이론적 지식을 묻는 문제의 경우 텍스트 셀을 추가하여 정답을 적어주세요."
      ],
      "metadata": {
        "id": "zCu72vDHGMHo"
      }
    },
    {
      "cell_type": "code",
      "source": [
        "# import libraries\n",
        "import numpy as np"
      ],
      "metadata": {
        "id": "hQLO-M61qSVA"
      },
      "execution_count": null,
      "outputs": []
    },
    {
      "cell_type": "markdown",
      "source": [
        "### **1. 직접 투표와 간접 투표 분류기 사이의 차이점은 무엇일까요?**\n",
        "___\n"
      ],
      "metadata": {
        "id": "7ifUj-jvi5NE"
      }
    },
    {
      "cell_type": "markdown",
      "source": [
        "- 직접 투표는 클래스 예측 값으로, 간접 투표는 클래스의 예측 확률로 분류한다."
      ],
      "metadata": {
        "id": "0Wwg5AmXJDe8"
      }
    },
    {
      "cell_type": "markdown",
      "source": [
        "### **2. 그레디언트 부스팅 앙상블이 훈련 데이터에 과대 적합되었다면 학습률을 어떻게 해야 할까요?**\n",
        "___"
      ],
      "metadata": {
        "id": "JK-WcK3ujU0E"
      }
    },
    {
      "cell_type": "markdown",
      "source": [
        "- 학습률을 낮춘다."
      ],
      "metadata": {
        "id": "tp-BVf_2JTke"
      }
    },
    {
      "cell_type": "markdown",
      "source": [
        "### **3. [실습] 다음 지시에 따라 투표 기반 분류 모델을 만들어 보세요**\n",
        "___"
      ],
      "metadata": {
        "id": "j3g-_Dq9GiuT"
      }
    },
    {
      "cell_type": "markdown",
      "source": [
        "#### **STEP 1. MNIST 데이터를 불러들이고, 훈련, 검증, 테스트 데이터로 나누세요.**"
      ],
      "metadata": {
        "id": "7aLghZCVj34L"
      }
    },
    {
      "cell_type": "code",
      "execution_count": null,
      "metadata": {
        "id": "188lZyYEGJZ7"
      },
      "outputs": [],
      "source": [
        "# import MNIST dataset\n",
        "from sklearn.datasets import fetch_openml\n",
        "\n",
        "mnist = fetch_openml('mnist_784', version=1, as_frame = False)\n",
        "X, y = mnist[\"data\"], mnist[\"target\"]"
      ]
    },
    {
      "cell_type": "code",
      "source": [
        "# train/valid/test dataset\n",
        "from sklearn.model_selection import train_test_split\n",
        "X_train_val, X_test, y_train_val, y_test = train_test_split(X, y, test_size=10000)\n",
        "X_train, X_val, y_train, y_val = train_test_split(X_train_val, y_train_val, test_size=10000)"
      ],
      "metadata": {
        "id": "lXF4M2MdIpKa"
      },
      "execution_count": null,
      "outputs": []
    },
    {
      "cell_type": "markdown",
      "source": [
        "####  **STEP 2. 랜덤 포레스트 분류기, 엑스트라 트리 분류기, SVM 분류기, MLP 분류기를 훈련시키세요.**\n",
        "- 모델 파라미터는 `n_estimators=100`, `random_state=42`로 설정합니다. "
      ],
      "metadata": {
        "id": "mHOTxVK3kjnM"
      }
    },
    {
      "cell_type": "code",
      "source": [
        "# import package\n",
        "from sklearn.ensemble import RandomForestClassifier, ExtraTreesClassifier\n",
        "from sklearn.svm import LinearSVC\n",
        "from sklearn.neural_network import MLPClassifier"
      ],
      "metadata": {
        "id": "udX8yKD4k9DE"
      },
      "execution_count": null,
      "outputs": []
    },
    {
      "cell_type": "code",
      "source": [
        "# model fitting\n",
        "rf_clf = RandomForestClassifier(n_estimators=100, random_state=42)\n",
        "et_clf = ExtraTreesClassifier(n_estimators=100, random_state=42)\n",
        "svm_clf = LinearSVC(max_iter=100, random_state=42)\n",
        "mlp_clf = MLPClassifier(random_state=42)\n",
        "\n",
        "estimators = [rf_clf, et_clf, svm_clf, mlp_clf]\n",
        "for estimator in estimators:\n",
        "    print(\"Training the\", estimator)\n",
        "    estimator.fit(X_train, y_train)"
      ],
      "metadata": {
        "id": "iEG8FFJ1lBw4",
        "colab": {
          "base_uri": "https://localhost:8080/"
        },
        "outputId": "767c3bf8-1414-4563-a5ee-a2ad344f2a91"
      },
      "execution_count": null,
      "outputs": [
        {
          "output_type": "stream",
          "name": "stdout",
          "text": [
            "Training the RandomForestClassifier(random_state=42)\n",
            "Training the ExtraTreesClassifier(random_state=42)\n",
            "Training the LinearSVC(max_iter=100, random_state=42)\n"
          ]
        },
        {
          "output_type": "stream",
          "name": "stderr",
          "text": [
            "/usr/local/lib/python3.7/dist-packages/sklearn/svm/_base.py:1208: ConvergenceWarning: Liblinear failed to converge, increase the number of iterations.\n",
            "  ConvergenceWarning,\n"
          ]
        },
        {
          "output_type": "stream",
          "name": "stdout",
          "text": [
            "Training the MLPClassifier(random_state=42)\n"
          ]
        }
      ]
    },
    {
      "cell_type": "markdown",
      "source": [
        "####  **STEP 3-1. 앞에서 훈련시킨 각 모델을 직접 투표 방법을 사용해 앙상블로 연결하고 훈련시킨 후, `score()`메서드를 이용하여 검증 데이터셋에서의 성능을 평가해보세요.**"
      ],
      "metadata": {
        "id": "lB4OagE2lglK"
      }
    },
    {
      "cell_type": "code",
      "source": [
        "from sklearn.ensemble import VotingClassifier\n",
        "named_estimators = [\n",
        "    (\"random_forest_clf\", rf_clf),\n",
        "    (\"extra_trees_clf\", et_clf),\n",
        "    (\"svm_clf\", svm_clf),\n",
        "    (\"mlp_clf\", mlp_clf),\n",
        "]\n",
        "\n",
        "voting_clf = VotingClassifier(named_estimators)"
      ],
      "metadata": {
        "id": "6gGlXpJrlqzz"
      },
      "execution_count": null,
      "outputs": []
    },
    {
      "cell_type": "code",
      "source": [
        "# model fitting\n",
        "voting_clf.fit(X_train, y_train)"
      ],
      "metadata": {
        "id": "LTnt0h4Hmitr",
        "colab": {
          "base_uri": "https://localhost:8080/"
        },
        "outputId": "3ec46da0-eff7-4d99-9c6c-1f3c7e5fe7b6"
      },
      "execution_count": null,
      "outputs": [
        {
          "output_type": "stream",
          "name": "stderr",
          "text": [
            "/usr/local/lib/python3.7/dist-packages/sklearn/svm/_base.py:1208: ConvergenceWarning: Liblinear failed to converge, increase the number of iterations.\n",
            "  ConvergenceWarning,\n"
          ]
        },
        {
          "output_type": "execute_result",
          "data": {
            "text/plain": [
              "VotingClassifier(estimators=[('random_forest_clf',\n",
              "                              RandomForestClassifier(random_state=42)),\n",
              "                             ('extra_trees_clf',\n",
              "                              ExtraTreesClassifier(random_state=42)),\n",
              "                             ('svm_clf',\n",
              "                              LinearSVC(max_iter=100, random_state=42)),\n",
              "                             ('mlp_clf', MLPClassifier(random_state=42))])"
            ]
          },
          "metadata": {},
          "execution_count": 28
        }
      ]
    },
    {
      "cell_type": "code",
      "source": [
        "# model test\n",
        "voting_clf.score(X_val, y_val)"
      ],
      "metadata": {
        "id": "6M8p66FHmt0U",
        "colab": {
          "base_uri": "https://localhost:8080/"
        },
        "outputId": "416203ba-4ed2-4452-eac9-2eed30be916d"
      },
      "execution_count": null,
      "outputs": [
        {
          "output_type": "execute_result",
          "data": {
            "text/plain": [
              "0.9707"
            ]
          },
          "metadata": {},
          "execution_count": 29
        }
      ]
    },
    {
      "cell_type": "markdown",
      "source": [
        "####  **STEP 3-2. 검증 데이터셋에서 각 분류 모델의 성능을 `score()` 메서드를 이용하여 확인해보고, 가장 성능이 낮은 모델을 제거하여 그 결과를 비교해보세요.**\n",
        "- Hint : 가장 성능이 낮은 모델을 제거할 때 `del`를 활용해보세요"
      ],
      "metadata": {
        "id": "tgmsaye3oLYQ"
      }
    },
    {
      "cell_type": "code",
      "source": [
        "# 각 분류 모델의 성능 확인\n",
        "[estimator.score(X_val, y_val) for estimator in estimators]"
      ],
      "metadata": {
        "id": "ghPFb287om1Z",
        "colab": {
          "base_uri": "https://localhost:8080/"
        },
        "outputId": "73e0e053-f74f-4ba7-d5ab-63edab168639"
      },
      "execution_count": null,
      "outputs": [
        {
          "output_type": "execute_result",
          "data": {
            "text/plain": [
              "[0.9677, 0.9686, 0.8275, 0.9635]"
            ]
          },
          "metadata": {},
          "execution_count": 34
        }
      ]
    },
    {
      "cell_type": "markdown",
      "source": [
        "- Q. 어떤 모델의 성능이 가장 낮나요?\n",
        "- A. SVM 분류기"
      ],
      "metadata": {
        "id": "GN-HIeWhosGs"
      }
    },
    {
      "cell_type": "code",
      "source": [
        "# 가장 성능이 낮은 모델 제거\n",
        "del voting_clf.estimators_[2]"
      ],
      "metadata": {
        "id": "shHFXdWcoqf6"
      },
      "execution_count": null,
      "outputs": []
    },
    {
      "cell_type": "code",
      "source": [
        "voting_clf.estimators_"
      ],
      "metadata": {
        "id": "PpV5S__I2U3F",
        "colab": {
          "base_uri": "https://localhost:8080/"
        },
        "outputId": "20a84396-4471-400c-c7c4-4d849f1dcd4b"
      },
      "execution_count": null,
      "outputs": [
        {
          "output_type": "execute_result",
          "data": {
            "text/plain": [
              "[RandomForestClassifier(random_state=42),\n",
              " ExtraTreesClassifier(random_state=42),\n",
              " MLPClassifier(random_state=42)]"
            ]
          },
          "metadata": {},
          "execution_count": 36
        }
      ]
    },
    {
      "cell_type": "code",
      "source": [
        "# 모델 제거 후 성능 확인\n",
        "voting_clf.score(X_val, y_val)"
      ],
      "metadata": {
        "id": "BMTkSkbNpRQi",
        "colab": {
          "base_uri": "https://localhost:8080/"
        },
        "outputId": "177771eb-1216-41db-8fa0-ca3935ff586b"
      },
      "execution_count": null,
      "outputs": [
        {
          "output_type": "execute_result",
          "data": {
            "text/plain": [
              "0.9713"
            ]
          },
          "metadata": {},
          "execution_count": 37
        }
      ]
    },
    {
      "cell_type": "markdown",
      "source": [
        "### **4. 다음 단계를 따라 앞에서 훈련시킨 분류 모델들을 이용하여 스태킹 앙상블을 구성해보자.**\n",
        "___"
      ],
      "metadata": {
        "id": "-pDjW5XcHPOt"
      }
    },
    {
      "cell_type": "markdown",
      "source": [
        "#### **STEP 1. 3번 문제의 각 분류 모델을 실행해서 검증 세트에서 예측을 만들고, 그 결과로 훈련 세트를 만들어 보세요.**"
      ],
      "metadata": {
        "id": "_xhEB_KtH47q"
      }
    },
    {
      "cell_type": "code",
      "source": [
        "# 새 훈련 세트를 저장할 ndarray 생성\n",
        "X_val_predictions = np.empty((len(X_val), len(estimators)), dtype=np.float32)\n",
        "\n",
        "# 새 훈련 세트 생성\n",
        "for index, estimator in enumerate(estimators):\n",
        "    X_val_predictions[:, index] = estimator.predict(X_val)"
      ],
      "metadata": {
        "id": "-fe4dmlpYgXP"
      },
      "execution_count": null,
      "outputs": []
    },
    {
      "cell_type": "markdown",
      "source": [
        "####  **STEP 2. 새로운 훈련 세트를 이용하여 랜덤 포레스트 분류 모델을 학습시켜 보세요.**"
      ],
      "metadata": {
        "id": "AHgSqi-zIBCd"
      }
    },
    {
      "cell_type": "code",
      "source": [
        "blender = RandomForestClassifier(n_estimators=200, random_state=42)\n",
        "blender.fit(X_val_predictions, y_val)"
      ],
      "metadata": {
        "colab": {
          "base_uri": "https://localhost:8080/"
        },
        "id": "zS_kSz3oYkKD",
        "outputId": "b530c02a-a6e0-49b8-b651-73b0bd83c9af"
      },
      "execution_count": null,
      "outputs": [
        {
          "output_type": "execute_result",
          "data": {
            "text/plain": [
              "RandomForestClassifier(n_estimators=200, random_state=42)"
            ]
          },
          "metadata": {},
          "execution_count": 48
        }
      ]
    },
    {
      "cell_type": "markdown",
      "source": [
        "- 이 랜덤 포레스트 분류 모델이 바로 블렌더에 해당합니다. "
      ],
      "metadata": {
        "id": "43MJatnzquTH"
      }
    },
    {
      "cell_type": "markdown",
      "source": [
        "####  **STEP 3. 이제 테스트셋에서 스태킹 앙상블 모델을 평가해보세요.**\n",
        "- 성능 평가 지표로 **정확도**를 이용하세요."
      ],
      "metadata": {
        "id": "zWozt0n2IJZL"
      }
    },
    {
      "cell_type": "code",
      "source": [
        "# 각 분류 모델의 예측을 만들어 새로운 데이터셋 생성\n",
        "X_test_predictions = np.empty((len(X_test), len(estimators)), dtype=np.float32)\n",
        "\n",
        "for index, estimator in enumerate(estimators):\n",
        "    X_test_predictions[:, index] = estimator.predict(X_test)"
      ],
      "metadata": {
        "id": "RqWTKFd0YoMc"
      },
      "execution_count": null,
      "outputs": []
    },
    {
      "cell_type": "code",
      "source": [
        "# 새로운 데이터셋을 이용하여 블렌더로 예측\n",
        "y_pred = blender.predict(X_test_predictions)"
      ],
      "metadata": {
        "id": "F99Im4F8YrTy"
      },
      "execution_count": null,
      "outputs": []
    },
    {
      "cell_type": "code",
      "source": [
        "# model test\n",
        "from sklearn.metrics import accuracy_score\n",
        "accuracy_score(y_test, y_pred)"
      ],
      "metadata": {
        "colab": {
          "base_uri": "https://localhost:8080/"
        },
        "id": "yJy2fogiYsyc",
        "outputId": "ccd79996-d294-4e0b-a3bf-c0b7787c7c91"
      },
      "execution_count": null,
      "outputs": [
        {
          "output_type": "execute_result",
          "data": {
            "text/plain": [
              "0.9704"
            ]
          },
          "metadata": {},
          "execution_count": 51
        }
      ]
    }
  ]
}