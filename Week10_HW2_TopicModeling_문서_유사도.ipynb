{
  "nbformat": 4,
  "nbformat_minor": 0,
  "metadata": {
    "colab": {
      "provenance": [],
      "collapsed_sections": [],
      "mount_file_id": "1Zk80d4TpkLRufhhzGmKSINwgwKscQxJ5",
      "authorship_tag": "ABX9TyO4vCfO1HwX7rQXzJfpI4U8",
      "include_colab_link": true
    },
    "kernelspec": {
      "name": "python3",
      "display_name": "Python 3"
    },
    "language_info": {
      "name": "python"
    }
  },
  "cells": [
    {
      "cell_type": "markdown",
      "metadata": {
        "id": "view-in-github",
        "colab_type": "text"
      },
      "source": [
        "<a href=\"https://colab.research.google.com/github/hida0/ESAA-2022-2/blob/HW/Week10_HW2_TopicModeling_%EB%AC%B8%EC%84%9C_%EC%9C%A0%EC%82%AC%EB%8F%84.ipynb\" target=\"_parent\"><img src=\"https://colab.research.google.com/assets/colab-badge.svg\" alt=\"Open In Colab\"/></a>"
      ]
    },
    {
      "cell_type": "markdown",
      "source": [
        "## [교재 필사]\n",
        "파이썬 머신러닝 완벽 가이드 ch8.6-9(7 제외) pg. 512-516, 529-543"
      ],
      "metadata": {
        "id": "X69YPXKn8fWI"
      }
    },
    {
      "cell_type": "code",
      "source": [
        "import warnings\n",
        "warnings.filterwarnings('ignore')"
      ],
      "metadata": {
        "id": "66ZJmciaGnUp"
      },
      "execution_count": null,
      "outputs": []
    },
    {
      "cell_type": "markdown",
      "source": [
        "### 1. 토픽 모델링(Topic Modeling) - 20 뉴스그룹\n",
        "- **토픽 모델링**은 **문서 집합에 숨어있는 주제를 찾아내는 것**이다. 많은 양의 문서가 있을 때 사람이 이 문서를 다 읽고 핵심 주제를 찾는 것은 매우 많은 시간이 소모된다. 이러한 경우에 머신러닝 기반의 토픽 모델링을 적용하여 숨어있는 중요한 주제를 효과적으로 찾아낼 수 있다.\n",
        "- 사람이 수행하는 토픽 모델링은 더 함축적인 의미로 문장을 요약하는 반면, 머신러닝 기반의 토픽 모델은 숨겨진 주제를 효과적으로 표현할 수 있는 중심 단어를 함축적으로 추출한다.\n",
        "- 머신러닝 기반의 토픽 모델링에 자주 사용되는 기법은 **LSA**(Latent Semantic Analysis)와 **LDA**(Latent Dirichlet Allocation)이다. \n",
        "- 앞의 텍스트 분류에서 소개한 20 뉴스그룹 데이터 세트와 LDA를 이용하여 토픽 모델링을 수행한다.\n"
      ],
      "metadata": {
        "id": "K2sSncxz8iBC"
      }
    },
    {
      "cell_type": "markdown",
      "source": [
        "### 1. 토픽 모델링(Topic Modeling) - 20 뉴스그룹\n",
        "- 20 뉴스그룹은 20가지의 주제를 가진 뉴스그룹의 데이터를 가지고 있다. 이 중에서 모토사이클, 야구, 그래픽스, 윈도우, 중동, 기독교, 전자공학, 의학의 8개 주제를 추출하고 이들 텍스트에 LDA 기반의 토픽 모델링을 적용한다.\n",
        "- 사이킷런은 LDA 기반의 토픽 모델링을 **`sklearn.decomposition`**으로부터의 **`LatentDirichletAllocation`** 클래스로 제공한다. \n",
        "- 먼저 LDA 토픽 모델링을 위해 **`fetch_20newsgroups()`** API는 **`categories`** 파라미터를 통해 **필요한 주제들만 필터링하여 추출**하고, 추출된 텍스트를 Count 기반으로 벡터화한다. **LDA는 Count 기반의 벡터화만 사용**한다.\n",
        "- CountVectorizer의 파라미터를 **`max_features=1000`**으로 **word 피처의 개수를 제한**하고, **`ngram_range=(1,2)`**로 설정하여 벡터화 객체를 생성하고, 피처 벡터화 변환한다."
      ],
      "metadata": {
        "id": "RMx_WuhZ-loU"
      }
    },
    {
      "cell_type": "code",
      "source": [
        "from sklearn.datasets import fetch_20newsgroups\n",
        "from sklearn.feature_extraction.text import CountVectorizer\n",
        "from sklearn.decomposition import LatentDirichletAllocation\n",
        "\n",
        "#모토사이클, 야구, 그래픽스, 윈도우, 중동, 기독교, 전자공학, 의학 8개 주제를 추출\n",
        "cats = ['rec.motorcycles', 'rec.sport.baseball', 'comp.graphics', 'comp.windows.x', 'talk.politics.mideast', 'soc.religion.christian', 'sci.electronics', 'sci.med']\n",
        "\n",
        "#categories 파라미터에 cats를 입력하여 위에서 cats 변수로 기재된 카테고리만 추출\n",
        "news_df = fetch_20newsgroups(subset='all', remove=('headers', 'footers', 'quotes'), categories=cats, random_state=0)\n",
        "\n",
        "#Count 기반 피처 벡터화\n",
        "count_vect = CountVectorizer(max_df=0.95, max_features=1000, min_df=2, stop_words='english', ngram_range=(1,2))\n",
        "feat_vect = count_vect.fit_transform(news_df.data)\n",
        "print(\"CountVectorizer Shape: \", feat_vect.shape)"
      ],
      "metadata": {
        "colab": {
          "base_uri": "https://localhost:8080/"
        },
        "id": "7mI32c6B_TO-",
        "outputId": "bc64f170-3f76-4b1f-d441-1c5bfa8aeded"
      },
      "execution_count": null,
      "outputs": [
        {
          "output_type": "stream",
          "name": "stdout",
          "text": [
            "CountVectorizer Shape:  (7862, 1000)\n"
          ]
        }
      ]
    },
    {
      "cell_type": "markdown",
      "source": [
        "### 1. 토픽 모델링(Topic Modeling) - 20 뉴스그룹\n",
        "- CountVectorizer 객체에 `fit_transform`을 적용한 feat_vect 모두 **7862개의 문서가 1000개의 피처로 구성된 행렬 데이터**이다. \n",
        "- 이렇게 피처 벡터화된 데이터 세트를 기반으로 LDA 토픽 모델링을 수행한다. 토픽이 개수는 위의 뉴스그룹에서 추출한 주제와 동일한 8개로 정한다. \n",
        "- **`LatentDirichletAllocation`** 클래스의 **`n_components`** 파라미터를 이용하여 이 **토픽의 개수를 조정**한다.\n",
        "- **`LatentDirichletAllocation.fit(데이터 세트)`**를 수행하면 LatentDirichletAllocation 객체는 **`components_`** 속성값을 가지게 된다. \n",
        "- **`components_`**는 **개별 토픽별로 각 word 피처가 얼마나 많이 그 토픽에 할당되었는지**에 대한 수치를 가지고 있다. **높은 값**일수록 해당 word 피처는 **그 토픽의 중심 word**가 된다.\n",
        "- `components_`의 형태와 속성값을 확인해보면 array[8, 1000]으로 구성되어 있다. **8개의 토픽별**로 **1000개의 word 피처**가 **해당 토픽별로 연관도** 값을 가지고 있다. \n",
        "- 즉 0번째 row, 10번째 col에 있는 값은 Topic #0에 대하여 피처 벡터화된 행렬에서 10번째 칼럼에 해당하는 피처(단어)가 Topic #0에 연관되는 수치 값을 가지고 있다."
      ],
      "metadata": {
        "id": "2mbHzrk0A9KY"
      }
    },
    {
      "cell_type": "code",
      "source": [
        "lda = LatentDirichletAllocation(n_components=8, random_state=0)\n",
        "lda.fit(feat_vect)"
      ],
      "metadata": {
        "colab": {
          "base_uri": "https://localhost:8080/"
        },
        "id": "glzN8qt4_X1N",
        "outputId": "62233fab-66e8-4433-fa53-615e54acc810"
      },
      "execution_count": null,
      "outputs": [
        {
          "output_type": "execute_result",
          "data": {
            "text/plain": [
              "LatentDirichletAllocation(n_components=8, random_state=0)"
            ]
          },
          "metadata": {},
          "execution_count": 10
        }
      ]
    },
    {
      "cell_type": "code",
      "source": [
        "print(lda.components_.shape)\n",
        "lda.components_"
      ],
      "metadata": {
        "colab": {
          "base_uri": "https://localhost:8080/"
        },
        "id": "stgZugE5BmTa",
        "outputId": "f4e5d076-bec2-4f09-84a3-aa6dc39ae6c5"
      },
      "execution_count": null,
      "outputs": [
        {
          "output_type": "stream",
          "name": "stdout",
          "text": [
            "(8, 1000)\n"
          ]
        },
        {
          "output_type": "execute_result",
          "data": {
            "text/plain": [
              "array([[3.60992018e+01, 1.35626798e+02, 2.15751867e+01, ...,\n",
              "        3.02911688e+01, 8.66830093e+01, 6.79285199e+01],\n",
              "       [1.25199920e-01, 1.44401815e+01, 1.25045596e-01, ...,\n",
              "        1.81506995e+02, 1.25097844e-01, 9.39593286e+01],\n",
              "       [3.34762663e+02, 1.25176265e-01, 1.46743299e+02, ...,\n",
              "        1.25105772e-01, 3.63689741e+01, 1.25025218e-01],\n",
              "       ...,\n",
              "       [3.60204965e+01, 2.08640688e+01, 4.29606813e+00, ...,\n",
              "        1.45056650e+01, 8.33854413e+00, 1.55690009e+01],\n",
              "       [1.25128711e-01, 1.25247756e-01, 1.25005143e-01, ...,\n",
              "        9.17278769e+01, 1.25177668e-01, 3.74575887e+01],\n",
              "       [5.49258690e+01, 4.47009532e+00, 9.88524814e+00, ...,\n",
              "        4.87048440e+01, 1.25034678e-01, 1.25074632e-01]])"
            ]
          },
          "metadata": {},
          "execution_count": 11
        }
      ]
    },
    {
      "cell_type": "markdown",
      "source": [
        "### 1. 토픽 모델링(Topic Modeling) - 20 뉴스그룹\n",
        "- **`lda_model.components_`** 만으로는 각 토픽별 word 연관도를 보기 어렵다. 따라서 display_topics() 함수를 만들어서 각 토픽별로 연관도가 높은 순으로 word를 나열한다.\n",
        "- CountVectorizer 객체에 **`get_feature_names()`**를 이용하여 전체 word의 명칭을 추출할 수 있다.\n",
        "- 20 뉴스그룹에서 모토사이클, 야구, 그래픽스, 윈도우즈, 중동, 기독교, 전자공학, 의학 8개를 주제로 하여 추출하였다. 8개의 토픽으로 모델링이 잘 되었는지 확인하기 위해 토픽과 word의 연관성을 살펴본다."
      ],
      "metadata": {
        "id": "mPOpugLzC580"
      }
    },
    {
      "cell_type": "code",
      "source": [
        "def display_topics(model, feature_names, no_top_words):\n",
        "    for topic_index, topic in enumerate(model.components_):\n",
        "        print(\"Topic #\", topic_index)\n",
        "\n",
        "        #components_ array에서 가장 값이 큰 순서로 정렬했을 때 그 값의 array 인덱스를 반환\n",
        "        topic_word_indexes=topic.argsort()[::-1] #내림차순으로 인덱스 반환\n",
        "        top_indexes=topic_word_indexes[:no_top_words] #지정한 순위까지의 인덱스 반환\n",
        "\n",
        "        #top_indexes 대상인 인덱스별로 feature_names에 해당하는 word_feature 추출 후 join으로 concat\n",
        "        feature_concat='  '.join([feature_names[i] for i in top_indexes])\n",
        "        print(feature_concat)"
      ],
      "metadata": {
        "id": "i5QG4S9oCI3G"
      },
      "execution_count": null,
      "outputs": []
    },
    {
      "cell_type": "code",
      "source": [
        "#CountVectorizer 객체 내의 전체 word의 명칭을 get_feature_names()를 통해 추출\n",
        "feature_names=count_vect.get_feature_names()\n",
        "\n",
        "#토픽별 가장 연관도가 높은 word를 15개 추출\n",
        "display_topics(lda, feature_names, 15)"
      ],
      "metadata": {
        "colab": {
          "base_uri": "https://localhost:8080/"
        },
        "id": "oVj-30AZGRBw",
        "outputId": "3d6dc971-0fbf-4eb6-bee5-2e27e971e20d"
      },
      "execution_count": null,
      "outputs": [
        {
          "output_type": "stream",
          "name": "stdout",
          "text": [
            "Topic # 0\n",
            "year  10  game  medical  health  team  12  20  disease  cancer  1993  games  years  patients  good\n",
            "Topic # 1\n",
            "don  just  like  know  people  said  think  time  ve  didn  right  going  say  ll  way\n",
            "Topic # 2\n",
            "image  file  jpeg  program  gif  images  output  format  files  color  entry  00  use  bit  03\n",
            "Topic # 3\n",
            "like  know  don  think  use  does  just  good  time  book  read  information  people  used  post\n",
            "Topic # 4\n",
            "armenian  israel  armenians  jews  turkish  people  israeli  jewish  government  war  dos dos  turkey  arab  armenia  000\n",
            "Topic # 5\n",
            "edu  com  available  graphics  ftp  data  pub  motif  mail  widget  software  mit  information  version  sun\n",
            "Topic # 6\n",
            "god  people  jesus  church  believe  christ  does  christian  say  think  christians  bible  faith  sin  life\n",
            "Topic # 7\n",
            "use  dos  thanks  windows  using  window  does  display  help  like  problem  server  need  know  run\n"
          ]
        }
      ]
    },
    {
      "cell_type": "markdown",
      "source": [
        "### 2. 문서 유사도\n",
        "#### 1) 문서 유사도 측정 방법 - 코사인 유사도\n",
        "- **문서와 문서 간의 유사도 비교**는 일반적으로 **코사인 유사도**(Cosine Similarity)를 사용한다. \n",
        "- 코사인 유사도는 벡터와 벡터 간의 유사도를 비교할 때 벡터의 크기보다는 벡터의 상호 방향성이 얼마나 유사한지에 기반한다. 즉 **두 벡터 사이의 사잇각을 구하여 얼마나 유사한지 수치로 적용**한 것이다.\n",
        "\n",
        "#### 2) 두 벡터 사잇각\n",
        "- 두 벡터의 사잇각에 따라서 상호 관계는 다음과 같이 유사하거나 관련이 없거나 아예 반대 관계가 된다.\n",
        "![제목 없음.jpg](data:image/jpeg;base64,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)\n",
        "- 두 벡터 A와 B의 코사인 값은 내적을 이용하여 구할 수 있다. 두 벡터 A와 B의 내적 값은 두 벡터의 크기를 곱한 값의 코사인 각도 값을 곱한 것이다. $A*B=\\|A\\|\\|B\\|cos\\theta$\n",
        "- 따라서 유사도 $cos\\theta$는 다음과 같이 두 벡터의 내적을 총 벡터 크기의 합으로 나눈 것이다. similarity = $cos\\theta$ = $\\frac{A*B}{\\|A\\|\\|B\\|}$= $\\frac{\\sum_{i=1}^nA_iBi}{\\sqrt{\\sum_{i=1}^nA_i^2}\\sqrt{\\sum_{i=1}^nB_i^2}}$"
      ],
      "metadata": {
        "id": "q2yJoxJSHkck"
      }
    },
    {
      "cell_type": "markdown",
      "source": [
        "#### 1) 문서 유사도 측정 방법 - 코사인 유사도\n",
        "- **코사인 유사도가 문서의 유사도 비교에 가장 많이 사용**되는 이유가 있다. 먼저 **문서를 피처 벡터화 변환하면 차원이 매우 많은 희소 행렬**이 되기 쉽다. 이러한 희소 행렬 기반에서 문서와 문서 벡터 간의 크기에 기반한 유사도 지표(ex.유클리드 거리 기반)는 정확도가 떨어지기 쉽다.\n",
        "- 또한 문서가 매우 긴 경우 단어의 빈도수도 더 많을 것이므로 이러한 빈도수에만 기반해서는 공정한 비교를 할 수 없다.\n",
        "- 간단한 문서에 대하여 서로 간의 문서 유사도를 코사인 유사도 기반으로 구한다. 먼저 2개의 넘파이 배열에 대한 코사인 유사도를 구하는 함수 cos_similarity()를 생성한다.\n",
        "- doc_list로 정의된 3개의 간단한 문서의 유사도를 비교하기 위해 이 문서를 TF-IDF로 벡터화된 행렬로 변환한다.\n"
      ],
      "metadata": {
        "id": "Ntn-kSBpKyZy"
      }
    },
    {
      "cell_type": "code",
      "source": [
        "import numpy as np\n",
        "def cos_similarity(v1, v2):\n",
        "    dot_product=np.dot(v1, v2) #내적(분자)\n",
        "    l2_norm=(np.sqrt(sum(np.square(v1)))*np.sqrt(sum(np.square(v2)))) #크기의곱(분모)\n",
        "    similarity=dot_product/l2_norm\n",
        "    return similarity"
      ],
      "metadata": {
        "id": "kr0SoeRgGkkR"
      },
      "execution_count": null,
      "outputs": []
    },
    {
      "cell_type": "code",
      "source": [
        "from sklearn.feature_extraction.text import TfidfVectorizer\n",
        "doc_list=['if you take the blue pill, the story ends', 'if you take the red pill, you stay in Wonderland', 'if you take the red pill, I show you how deep the rabbit hole goes']\n",
        "\n",
        "tfidf_vect_simple=TfidfVectorizer()\n",
        "feature_vect_simple=tfidf_vect_simple.fit_transform(doc_list)\n",
        "print(feature_vect_simple.shape)"
      ],
      "metadata": {
        "colab": {
          "base_uri": "https://localhost:8080/"
        },
        "id": "C4sb2sd7MV8g",
        "outputId": "bea21a60-7097-44fe-c5e6-58f6f642ab54"
      },
      "execution_count": null,
      "outputs": [
        {
          "output_type": "stream",
          "name": "stdout",
          "text": [
            "(3, 18)\n"
          ]
        }
      ]
    },
    {
      "cell_type": "markdown",
      "source": [
        "#### 1) 문서 유사도 측정 방법 - 코사인 유사도\n",
        "- 반환된 행렬은 희소 행렬이므로 앞에서 작성한 함수의 인자인 array로 만들기 위해 **`todense()`**를 이용하여 밀집 행렬로 변환한뒤 다시 각각을 배열로 변환한다. \n",
        "- feature_vect_dense[0]은 doc_list 첫번재 문서의 피처 벡터화, feature_vect_dense[1]은 doc_list 두번재 문서의 피처 벡터화이다. \n",
        "- cos_similarity() 함수를 이용하여 2개 문서의 유사도를 측정한다. 첫번째 문장과 두번째 문장의 코사인 유사도는 0.402이다.\n",
        "- 첫번째 문장과 세번째 문장, 두번째 문장과 세번째 문장의 유사도도 측정한다."
      ],
      "metadata": {
        "id": "OHdYwoinNfag"
      }
    },
    {
      "cell_type": "code",
      "source": [
        "#TfidfVectorizer로 transform()한 결과는 희소 행렬이므로 이를 밀집 행렬로 변환\n",
        "feature_vect_dense=feature_vect_simple.todense()\n",
        "\n",
        "#첫번째, 두번째 문장의 피처 벡터 추출\n",
        "vect1=np.array(feature_vect_dense[0]).reshape(-1, )\n",
        "vect2=np.array(feature_vect_dense[1]).reshape(-1, )\n",
        "\n",
        "#첫번째 문장과 두번째 문장의 피처 벡터로 2개 문장의 코사인 유사도 측정\n",
        "similarity_simple=cos_similarity(vect1,vect2)\n",
        "print(\"문장 1, 문장 2 Cosine 유사도: {0:.3f}\".format(similarity_simple))"
      ],
      "metadata": {
        "colab": {
          "base_uri": "https://localhost:8080/"
        },
        "id": "KCNrOl-TM7Io",
        "outputId": "f2aabe88-fd30-4ae4-ac65-ec3dc33380da"
      },
      "execution_count": null,
      "outputs": [
        {
          "output_type": "stream",
          "name": "stdout",
          "text": [
            "문장 1, 문장 2 Cosine 유사도: 0.402\n"
          ]
        }
      ]
    },
    {
      "cell_type": "code",
      "source": [
        "#첫번째 문장과 세번째 문장의 피처 벡터로 2개 문장의 코사인 유사도 측정\n",
        "vect3=np.array(feature_vect_dense[2]).reshape(-1, )\n",
        "similarity_simple=cos_similarity(vect1,vect3)\n",
        "print(\"문장 1, 문장 3 Cosine 유사도: {0:.3f}\".format(similarity_simple))\n",
        "\n",
        "#두번째 문장과 세번째 문장의 피처 벡터로 2개 문장의 코사인 유사도 측정\n",
        "similarity_simple=cos_similarity(vect2,vect3)\n",
        "print(\"문장 2, 문장 3 Cosine 유사도: {0:.3f}\".format(similarity_simple))"
      ],
      "metadata": {
        "colab": {
          "base_uri": "https://localhost:8080/"
        },
        "id": "a9rjfIPiOT2f",
        "outputId": "a4a807b8-3c2f-48cf-fb22-959aac1c380e"
      },
      "execution_count": null,
      "outputs": [
        {
          "output_type": "stream",
          "name": "stdout",
          "text": [
            "문장 1, 문장 3 Cosine 유사도: 0.404\n",
            "문장 2, 문장 3 Cosine 유사도: 0.456\n"
          ]
        }
      ]
    },
    {
      "cell_type": "markdown",
      "source": [
        "#### 1) 문서 유사도 측정 방법 - 코사인 유사도\n",
        "- 사이킷런은 코사인 유사도를 측정하기 위해 **`sklearn.metrics.pairwise.cosine_similarity`** API를 제공한다. \n",
        "- **`cosine_similarity()`** 함수는 2개의 입력 파라미터를 받는다. 첫번째 파라미터는 **비교 기준이 되는 문서의 피처 행렬**, 두번째 파라미터는 **비교되는 문서의 피처 행렬**이다.\n",
        "- 또한 **`cosine_similarity()`** 함수는 희소 행렬, 밀집 행렬 모두가 가능하며, 행렬 또는 배열 모두 가능하다. 따라서 별도의 변환 작업이 필요없다.\n",
        "- doc_list로 정의된 3개의 간단한 문서에 대하여 첫번째 문서와 비교해 바로 자신 문서인 첫번째 문서, 그리고 두번째, 세번째 문서의 유사도를 측정한다.\n",
        "- 첫번째 유사도 값인 1은 비교 기준인 첫번째 문서 자신에 대한 유사도 측정이다. 두번째 유사도 값인 0.40207758은 첫번째 문서와 두번째 문서의 유사도,  세번째 유사도 값인 0.40425045은 첫번째 문서와 세ㅔ번째 문서의 유사도 값이다.\n",
        "- 비교 대상 파라미터를 `feature_vect[1:]`로 지정하면 비교 기준 문서를 제외한 유사도 값을 구할 수 있다.\n",
        "---\n",
        "- **`cosine_similarity()`** 는 쌍(pair)으로 코사인 유사도 값을 제공할 수 있다. \n",
        "- 모든 개별 문서에 쌍으로 코사인 유사도 값을 계산한다. 즉 첫번째 문서와 두,세번째 문서의 코사인 유사도, 두번째 문서와 첫,세번째 문서의 코사인 유사도, 세번째 문서와 첫,두번째 문서의 코사인 유사도를 **ndarray** 형태로 제공한다."
      ],
      "metadata": {
        "id": "2RWmOJlcO1Rf"
      }
    },
    {
      "cell_type": "code",
      "source": [
        "from sklearn.metrics.pairwise import cosine_similarity\n",
        "similarity_simple_pair=cosine_similarity(feature_vect_simple[0], feature_vect_simple)\n",
        "print(similarity_simple_pair)"
      ],
      "metadata": {
        "colab": {
          "base_uri": "https://localhost:8080/"
        },
        "id": "_Qa_GkAhOnmA",
        "outputId": "1d0b9991-7453-4a62-d892-2623d88a8674"
      },
      "execution_count": null,
      "outputs": [
        {
          "output_type": "stream",
          "name": "stdout",
          "text": [
            "[[1.         0.40207758 0.40425045]]\n"
          ]
        }
      ]
    },
    {
      "cell_type": "code",
      "source": [
        "similarity_simple_pair=cosine_similarity(feature_vect_simple[0], feature_vect_simple[1:])\n",
        "print(similarity_simple_pair)"
      ],
      "metadata": {
        "colab": {
          "base_uri": "https://localhost:8080/"
        },
        "id": "Xg3S9QxuaLV1",
        "outputId": "b0d828fe-1c10-46cb-b28f-e0c38e8d426d"
      },
      "execution_count": null,
      "outputs": [
        {
          "output_type": "stream",
          "name": "stdout",
          "text": [
            "[[0.40207758 0.40425045]]\n"
          ]
        }
      ]
    },
    {
      "cell_type": "code",
      "source": [
        "similarity_simple_pair=cosine_similarity(feature_vect_simple, feature_vect_simple)\n",
        "print(similarity_simple_pair)\n",
        "print('Shape: ', similarity_simple_pair.shape)"
      ],
      "metadata": {
        "colab": {
          "base_uri": "https://localhost:8080/"
        },
        "id": "ND_MO8SMaqz6",
        "outputId": "1d23b332-8ae4-49cb-e0b5-d7f4f3444d3d"
      },
      "execution_count": null,
      "outputs": [
        {
          "output_type": "stream",
          "name": "stdout",
          "text": [
            "[[1.         0.40207758 0.40425045]\n",
            " [0.40207758 1.         0.45647296]\n",
            " [0.40425045 0.45647296 1.        ]]\n",
            "Shape:  (3, 3)\n"
          ]
        }
      ]
    },
    {
      "cell_type": "markdown",
      "source": [
        "#### 3) Opinion Review 데이터 세트를 이용한 문서 유사도 측정\n",
        "- Opinion Review 데이터 세트를 이용하여 이들 문서 간의 유사도를 측정한다.\n",
        "- 해당 문서의 군집화는 전자제품, 호텔, 자동차를 주제로 군집화된다. 이 중 호텔을 주제로 군집화된 문서를 이용하여 특정 문서와 다른 문서 간의 유사도를 알아본다.\n"
      ],
      "metadata": {
        "id": "_a7xOO8Bcw2U"
      }
    },
    {
      "cell_type": "code",
      "source": [
        "import nltk\n",
        "nltk.download('punkt')"
      ],
      "metadata": {
        "colab": {
          "base_uri": "https://localhost:8080/"
        },
        "id": "rey5lCKxiJq_",
        "outputId": "933a5757-f3b9-43dc-8c38-579712998034"
      },
      "execution_count": null,
      "outputs": [
        {
          "output_type": "stream",
          "name": "stderr",
          "text": [
            "[nltk_data] Downloading package punkt to /root/nltk_data...\n",
            "[nltk_data]   Unzipping tokenizers/punkt.zip.\n"
          ]
        },
        {
          "output_type": "execute_result",
          "data": {
            "text/plain": [
              "True"
            ]
          },
          "metadata": {},
          "execution_count": 34
        }
      ]
    },
    {
      "cell_type": "code",
      "source": [
        "import string, nltk\n",
        "remove_punct_dict = dict((ord(punct), None) for punct in string.punctuation)\n",
        "def LemNormalize(text):\n",
        "  return nltk.word_tokenize(text.lower().translate(remove_punct_dict))"
      ],
      "metadata": {
        "id": "20BVqgZzf1sS"
      },
      "execution_count": null,
      "outputs": []
    },
    {
      "cell_type": "code",
      "source": [
        "import pandas as pd\n",
        "import glob, os\n",
        "from sklearn.cluster import KMeans\n",
        "from sklearn.feature_extraction.text import TfidfVectorizer\n",
        "\n",
        "path = r'/content/drive/MyDrive/ESAA/data/OpinosisDataset1.0/OpinosisDataset1.0/topics'\n",
        "all_files = glob.glob(os.path.join(path, \"*.data\"))\n",
        "filename_list = []\n",
        "opinion_text = []\n",
        "\n",
        "for file_ in all_files:\n",
        "    df = pd.read_table(file_, index_col=None, header=0, encoding='latin1')\n",
        "    filename_ = file_.split('||')[-1]\n",
        "    filename = file_.split(',')[0]\n",
        "    filename_list.append(filename)\n",
        "    opinion_text.append(df.to_string())\n",
        "    \n",
        "document_df = pd.DataFrame({'filename':filename_list, 'opinion_text':opinion_text})\n",
        "tfidf_vect = TfidfVectorizer(tokenizer=LemNormalize, stop_words='english', ngram_range=(1,2), min_df=0.05, max_df=0.85)\n",
        "feature_vect = tfidf_vect.fit_transform(document_df['opinion_text'])\n",
        "\n",
        "km_cluster = KMeans(n_clusters=3, max_iter=10000, random_state=0)\n",
        "km_cluster.fit(feature_vect)\n",
        "cluster_label = km_cluster.labels_\n",
        "cluster_centers = km_cluster.cluster_centers_\n",
        "document_df['cluster_label']=cluster_label"
      ],
      "metadata": {
        "id": "fTdYFqJWgYT2"
      },
      "execution_count": null,
      "outputs": []
    },
    {
      "cell_type": "markdown",
      "source": [
        "#### 3) Opinion Review 데이터 세트를 이용한 문서 유사도 측정\n",
        "- 문서를 피처 벡터화해서 변환하면 문서 내 단어(word)에 출현 빈도와 같은 값을 부여해 각 문서가 단어 피처 값으로 벡터화된다. 이렇게 각 문서가 피처 벡터화된 데이터를 **`cosine_similarity()`**를 이용하여 상호 비교해 유사도를 확인한다.\n",
        "- 먼저 이를 위해 **호텔을 주제로 군집화된 데이터를 추출하고 이 데이터에 해당하는 TfidfVectorizer의 데이터를 추출**한다. 호텔 군집화 데이터를 기반으로 별도의 TF-IDF 벡터화를 수행하지 않고, 바로 TfidfVectorizer로 만들어진 데이터에서 그대로 추출한다.\n",
        "- DataFrame 객체 변수인 **document_df에서 먼저 호텔로 군집화된 문서의 인덱스를 추출**한다. 이렇게 추출된 인덱스를 그대로 이용해 TfidfVectorizer 객체 변수인 **feature_vect에서 호텔로 군집화된 문서의 피처 벡터를 추출**한다."
      ],
      "metadata": {
        "id": "S9wrbf8tid5P"
      }
    },
    {
      "cell_type": "code",
      "source": [
        "#cluster_label=1인 데이터는 호텔로 군집화된 데이터로, DataFrame에서 해당 인덱스를 추출\n",
        "hotel_indexes=document_df[document_df['cluster_label']==1].index\n",
        "print(\"호텔로 군집화된 문서들의 DataFrame Index: \", hotel_indexes)\n",
        "\n",
        "#호텔로 군집화된 데이터 중 첫번째 문서를 추출하여 파일명 표시\n",
        "comparison_docname=document_df.iloc[hotel_indexes[0]]['filename']\n",
        "print(\"##### 비교 기준 문서명 \", comparison_docname, \"와 타 문서 유사도 #####\")\n",
        "\n",
        "#document_df에서 추출한 Index 객체를 feature_vect로 입력해 호텔 군집화된 feature 추출\n",
        "#이를 이용해 호텔로 군집화된 문서 중 첫번째 문서와 다른 문서 간의 코사인 유사도 측정\n",
        "similarity_pair=cosine_similarity(feature_vect[hotel_indexes[0]], feature_vect[hotel_indexes])\n",
        "print(similarity_pair)"
      ],
      "metadata": {
        "colab": {
          "base_uri": "https://localhost:8080/"
        },
        "id": "MZx4n7YehD52",
        "outputId": "c86ca5e4-4b6c-4d0e-bbfa-4ef55a46e569"
      },
      "execution_count": null,
      "outputs": [
        {
          "output_type": "stream",
          "name": "stdout",
          "text": [
            "호텔로 군집화된 문서들의 DataFrame Index:  Int64Index([3, 5, 6, 13, 21, 23, 29, 30, 32, 34, 36, 37, 40, 43, 46, 48], dtype='int64')\n",
            "##### 비교 기준 문서명  /content/drive/MyDrive/ESAA/data/OpinosisDataset1.0/OpinosisDataset1.0/topics/food_swissotel_chicago.txt.data 와 타 문서 유사도 #####\n",
            "[[1.         0.05642164 0.85101936 0.04961524 0.07405241 0.05822825\n",
            "  0.32479066 0.32194633 0.31194028 0.05751673 0.13996639 0.163092\n",
            "  0.04949318 0.0498276  0.07324257 0.07385841]]\n"
          ]
        }
      ]
    },
    {
      "cell_type": "markdown",
      "source": [
        "#### 3) Opinion Review 데이터 세트를 이용한 문서 유사도 측정\n",
        "- 단순히 숫자로만 표시해서는 직관적으로 문서가 어느 정도 유사도를 가지는지 이해하기 어렵다. 따라서 첫번째 문서와 다른 문서 간의 유사도가 높은 순으로 이를 정렬하고, 시각화한다.\n",
        "- `cosine_similarity()`는 쌍 형태의 ndarray를 반환하므로, 이를 판다스 인덱스로 이용하기 위해 `reshape(-1)`을 이용하여 1차원 배열로 반환한다."
      ],
      "metadata": {
        "id": "9wDNciYpkcMp"
      }
    },
    {
      "cell_type": "code",
      "source": [
        "import seaborn as sns\n",
        "import numpy as np\n",
        "import matplotlib.pyplot as plt\n",
        "%matplotlib inline\n",
        "\n",
        "#첫번째 문서와 타 문서 간의 유사도가 큰 순으로 정렬한 인덱스를 추출하되 자기 자신은 제외\n",
        "sorted_index=similarity_pair.argsort()[:, ::-1]\n",
        "sorted_index=sorted_index[:, 1:]\n",
        "\n",
        "#유사도가 큰 순으로 hotel_indexes를 추출해 재정렬\n",
        "hotel_sorted_indexes=hotel_indexes[sorted_index.reshape(-1)]\n",
        "\n",
        "#유사도가 큰 순으로 유사도 값을 재정렬하되 자기 자신은 제외\n",
        "hotel_1_sim_value=np.sort(similarity_pair.reshape(-1))[::-1]\n",
        "hotel_1_sim_value=hotel_1_sim_value[1:]\n",
        "\n",
        "#유사도가 큰 순으로 정렬된 인덱스와 유사도 값을 이용해 파일명과 유사도 값을 막대 그래프로 시각화\n",
        "hotel_1_sim_df=pd.DataFrame()\n",
        "hotel_1_sim_df['filename']=document_df.iloc[hotel_sorted_indexes]['filename']\n",
        "hotel_1_sim_df['similarity']=hotel_1_sim_value\n",
        "\n",
        "sns.barplot(x='similarity', y='filename', data=hotel_1_sim_df)\n",
        "plt.title('food_swissotel_chicago')\n",
        "plt.show()"
      ],
      "metadata": {
        "colab": {
          "base_uri": "https://localhost:8080/",
          "height": 295
        },
        "id": "bFD264y6kOPg",
        "outputId": "376236bc-c168-4032-c7fb-8478fcb33eda"
      },
      "execution_count": null,
      "outputs": [
        {
          "output_type": "display_data",
          "data": {
            "text/plain": [
              "<Figure size 432x288 with 1 Axes>"
            ],
            "image/png": "[encoded data removed]"
          },
          "metadata": {
            "needs_background": "light"
          }
        }
      ]
    },
    {
      "cell_type": "markdown",
      "source": [
        "### 3. 한글 텍스트 처리 - 네이버 영화 평점 감성 분석\n",
        "- 네이버 영화 평점 데이터를 기반으로 감성 분석을 적용한다.\n",
        "- 그 전에 먼저 한글 NLP 처리에서 주의할 점과 대표적인 파이썬 기반의 한글 형태소 패키지인 KoNLPy를 소개한다.\n",
        "\n",
        "#### 1) 한글 NLP 처리의 어려움\n",
        "- 일반적으로 한글 언어 처리는 영어 등의 라틴어 처리보다 어려운데, 주된 원인은 '띄어쓰기'와 '다양한 조사'때문이다.\n",
        "- 띄어쓰기를 잘못하면 의미가 왜곡되어 전달된다. \n",
        "- 조사는 주어나 목적어를 위해 추가되며, 워낙 경우의 수가 많기 때문에 어근 추출(Stemming/Lemmatization) 등의 전처리 시 제거하기가 까다롭다.\n"
      ],
      "metadata": {
        "id": "6oXfgWs6qmXc"
      }
    },
    {
      "cell_type": "markdown",
      "source": [
        "#### 2) KoNLPy 소개\n",
        "- **KoNLPy**는 **파이썬의 대표적인 한글 형태소 패키지**이다.\n",
        "- 형태소의 사전적인 의미는 '**단어로서 의미를 가지는 최소 단위**'로 정의할 수 있다. **형태소 분석**이란 **말뭉치를 이러한 형태소 어근 단위로 쪼개고, 각 형태소에 품사 태깅을 부착하는 작업**을 일반적으로 지칭한다.\n",
        "- KoNLPy는 기존의 C/C++, Java로 잘 만들어진 한글 형태소 엔진을 파이썬 래퍼(Wrapper) 기반으로 재작성한 패키지이다. 꼬꼬마(Kkma), 한나눔(Hannanum), Komoran, 은전한닢 프로젝트(Mecab), Twitter와 같이 5개의 형태소 분석 모듈을 KoNLPy에서 모두 사용할 수 있다.\n",
        "- 잘 만들어진 한글 형태소 엔진을 파이썬 래퍼 기반으로 재작성한 패키지이므로, Java가 먼저 설치되어 있어야 하며 별도의 모듈인 JPype1도 필요하다."
      ],
      "metadata": {
        "id": "pBvvF38aq6Gf"
      }
    },
    {
      "cell_type": "code",
      "source": [
        "!pip install konlpy"
      ],
      "metadata": {
        "id": "HP3YiBAZsmfy"
      },
      "execution_count": null,
      "outputs": []
    },
    {
      "cell_type": "markdown",
      "source": [
        "#### 3) 데이터 로딩 \n",
        "- 테스트 데이터가 별도로 있으니 이를 이용하여 평가한다. 먼저 ratings_train.txt 파일을 DataFrame으로 로딩하고 데이터를 살펴본다. 탭(\\t)으로 칼럼이 분리되어 있으므로 `read_csv()`의 `sep='\\t'`로 설정한다.\n",
        "- 학습 데이터 세트의 label은 0과 1로, 1이 긍정, 0이 부정 감성이다.  label의 비율을 살펴보면 어느 한쪽으로 치우치지 않고 균등하다.\n",
        "- train_df의 경우 리뷰 텍스트를 가지는 document 칼럼에 Null이 일부 존재하므로 이 값은 공백으로 변환한다. \n",
        "- 문자가 아닌 숫자이 경우 단어적인 의미로 부족하므로 파이썬의 정규 표현식 모듈인 **`re`**를 이용해 공백으로 변환한다.\n",
        "- 테스트 데이터 세트에도 파일을 로딩하고 동일한 데이터 가공을 수행한다."
      ],
      "metadata": {
        "id": "8uqNnEcutkNo"
      }
    },
    {
      "cell_type": "code",
      "source": [
        "train_df=pd.read_csv('/content/drive/MyDrive/ESAA/data/ratings_train.txt', sep='\\t')\n",
        "train_df.head(3)"
      ],
      "metadata": {
        "colab": {
          "base_uri": "https://localhost:8080/",
          "height": 143
        },
        "id": "fZsJLSoRtcOo",
        "outputId": "a9eaec2f-4504-402c-af9b-5f481a35f267"
      },
      "execution_count": null,
      "outputs": [
        {
          "output_type": "execute_result",
          "data": {
            "text/plain": [
              "         id                           document  label\n",
              "0   9976970                아 더빙.. 진짜 짜증나네요 목소리      0\n",
              "1   3819312  흠...포스터보고 초딩영화줄....오버연기조차 가볍지 않구나      1\n",
              "2  10265843                  너무재밓었다그래서보는것을추천한다      0"
            ],
            "text/html": [
              "\n",
              "  <div id=\"df-527c3abf-56d9-4917-b920-a61504b00b16\">\n",
              "    <div class=\"colab-df-container\">\n",
              "      <div>\n",
              "<style scoped>\n",
              "    .dataframe tbody tr th:only-of-type {\n",
              "        vertical-align: middle;\n",
              "    }\n",
              "\n",
              "    .dataframe tbody tr th {\n",
              "        vertical-align: top;\n",
              "    }\n",
              "\n",
              "    .dataframe thead th {\n",
              "        text-align: right;\n",
              "    }\n",
              "</style>\n",
              "<table border=\"1\" class=\"dataframe\">\n",
              "  <thead>\n",
              "    <tr style=\"text-align: right;\">\n",
              "      <th></th>\n",
              "      <th>id</th>\n",
              "      <th>document</th>\n",
              "      <th>label</th>\n",
              "    </tr>\n",
              "  </thead>\n",
              "  <tbody>\n",
              "    <tr>\n",
              "      <th>0</th>\n",
              "      <td>9976970</td>\n",
              "      <td>아 더빙.. 진짜 짜증나네요 목소리</td>\n",
              "      <td>0</td>\n",
              "    </tr>\n",
              "    <tr>\n",
              "      <th>1</th>\n",
              "      <td>3819312</td>\n",
              "      <td>흠...포스터보고 초딩영화줄....오버연기조차 가볍지 않구나</td>\n",
              "      <td>1</td>\n",
              "    </tr>\n",
              "    <tr>\n",
              "      <th>2</th>\n",
              "      <td>10265843</td>\n",
              "      <td>너무재밓었다그래서보는것을추천한다</td>\n",
              "      <td>0</td>\n",
              "    </tr>\n",
              "  </tbody>\n",
              "</table>\n",
              "</div>\n",
              "      <button class=\"colab-df-convert\" onclick=\"convertToInteractive('df-527c3abf-56d9-4917-b920-a61504b00b16')\"\n",
              "              title=\"Convert this dataframe to an interactive table.\"\n",
              "              style=\"display:none;\">\n",
              "        \n",
              "  <svg xmlns=\"http://www.w3.org/2000/svg\" height=\"24px\"viewBox=\"0 0 24 24\"\n",
              "       width=\"24px\">\n",
              "    <path d=\"M0 0h24v24H0V0z\" fill=\"none\"/>\n",
              "    <path d=\"M18.56 5.44l.94 2.06.94-2.06 2.06-.94-2.06-.94-.94-2.06-.94 2.06-2.06.94zm-11 1L8.5 8.5l.94-2.06 2.06-.94-2.06-.94L8.5 2.5l-.94 2.06-2.06.94zm10 10l.94 2.06.94-2.06 2.06-.94-2.06-.94-.94-2.06-.94 2.06-2.06.94z\"/><path d=\"M17.41 7.96l-1.37-1.37c-.4-.4-.92-.59-1.43-.59-.52 0-1.04.2-1.43.59L10.3 9.45l-7.72 7.72c-.78.78-.78 2.05 0 2.83L4 21.41c.39.39.9.59 1.41.59.51 0 1.02-.2 1.41-.59l7.78-7.78 2.81-2.81c.8-.78.8-2.07 0-2.86zM5.41 20L4 18.59l7.72-7.72 1.47 1.35L5.41 20z\"/>\n",
              "  </svg>\n",
              "      </button>\n",
              "      \n",
              "  <style>\n",
              "    .colab-df-container {\n",
              "      display:flex;\n",
              "      flex-wrap:wrap;\n",
              "      gap: 12px;\n",
              "    }\n",
              "\n",
              "    .colab-df-convert {\n",
              "      background-color: #E8F0FE;\n",
              "      border: none;\n",
              "      border-radius: 50%;\n",
              "      cursor: pointer;\n",
              "      display: none;\n",
              "      fill: #1967D2;\n",
              "      height: 32px;\n",
              "      padding: 0 0 0 0;\n",
              "      width: 32px;\n",
              "    }\n",
              "\n",
              "    .colab-df-convert:hover {\n",
              "      background-color: #E2EBFA;\n",
              "      box-shadow: 0px 1px 2px rgba(60, 64, 67, 0.3), 0px 1px 3px 1px rgba(60, 64, 67, 0.15);\n",
              "      fill: #174EA6;\n",
              "    }\n",
              "\n",
              "    [theme=dark] .colab-df-convert {\n",
              "      background-color: #3B4455;\n",
              "      fill: #D2E3FC;\n",
              "    }\n",
              "\n",
              "    [theme=dark] .colab-df-convert:hover {\n",
              "      background-color: #434B5C;\n",
              "      box-shadow: 0px 1px 3px 1px rgba(0, 0, 0, 0.15);\n",
              "      filter: drop-shadow(0px 1px 2px rgba(0, 0, 0, 0.3));\n",
              "      fill: #FFFFFF;\n",
              "    }\n",
              "  </style>\n",
              "\n",
              "      <script>\n",
              "        const buttonEl =\n",
              "          document.querySelector('#df-527c3abf-56d9-4917-b920-a61504b00b16 button.colab-df-convert');\n",
              "        buttonEl.style.display =\n",
              "          google.colab.kernel.accessAllowed ? 'block' : 'none';\n",
              "\n",
              "        async function convertToInteractive(key) {\n",
              "          const element = document.querySelector('#df-527c3abf-56d9-4917-b920-a61504b00b16');\n",
              "          const dataTable =\n",
              "            await google.colab.kernel.invokeFunction('convertToInteractive',\n",
              "                                                     [key], {});\n",
              "          if (!dataTable) return;\n",
              "\n",
              "          const docLinkHtml = 'Like what you see? Visit the ' +\n",
              "            '<a target=\"_blank\" href=https://colab.research.google.com/notebooks/data_table.ipynb>data table notebook</a>'\n",
              "            + ' to learn more about interactive tables.';\n",
              "          element.innerHTML = '';\n",
              "          dataTable['output_type'] = 'display_data';\n",
              "          await google.colab.output.renderOutput(dataTable, element);\n",
              "          const docLink = document.createElement('div');\n",
              "          docLink.innerHTML = docLinkHtml;\n",
              "          element.appendChild(docLink);\n",
              "        }\n",
              "      </script>\n",
              "    </div>\n",
              "  </div>\n",
              "  "
            ]
          },
          "metadata": {},
          "execution_count": 55
        }
      ]
    },
    {
      "cell_type": "code",
      "source": [
        "train_df['label'].value_counts()"
      ],
      "metadata": {
        "colab": {
          "base_uri": "https://localhost:8080/"
        },
        "id": "iCJOeIQ9uoE6",
        "outputId": "65d12509-0955-4f9c-8d6f-9cb08d2152ae"
      },
      "execution_count": null,
      "outputs": [
        {
          "output_type": "execute_result",
          "data": {
            "text/plain": [
              "0    75173\n",
              "1    74827\n",
              "Name: label, dtype: int64"
            ]
          },
          "metadata": {},
          "execution_count": 56
        }
      ]
    },
    {
      "cell_type": "code",
      "source": [
        "import re\n",
        "\n",
        "train_df=train_df.fillna(' ')\n",
        "#정규 표현식을 이용해 숫자를 공백으로 변경(정규 표현식으로 \\d는 숫자를 의미)\n",
        "train_df['document']=train_df['document'].apply(lambda x: re.sub(r\"\\d+\", \" \", x))\n",
        "\n",
        "#테스트 데이터 세트를 로딩하고 동일하게 Null 및 숫자를 공백으로 변환\n",
        "test_df=pd.read_csv('/content/drive/MyDrive/ESAA/data/ratings_test.txt', sep='\\t')\n",
        "test_df=test_df.fillna(' ')\n",
        "test_df['document']=test_df['document'].apply(lambda x: re.sub(r\"\\d+\", \" \", x))\n",
        "\n",
        "#id 칼럼 삭제\n",
        "train_df.drop('id', axis=1, inplace=True)\n",
        "test_df.drop('id', axis=1, inplace=True)"
      ],
      "metadata": {
        "id": "acncEbkQutMb"
      },
      "execution_count": null,
      "outputs": []
    },
    {
      "cell_type": "markdown",
      "source": [
        "#### 4) 단어 토큰화 및 피처 벡터화\n",
        "- 먼저 **각 문장을 한글 형태소 분석을 통해 형태소 단어로 토큰화**한다. 한글 형태소 엔진은 SNS 분석에 적합한 **`Twitter`** 클래스를 이용한다.\n",
        "- Twitter 객체의 **`morphs()`** 메서드를 이용하면 **입력 인자로 들어온 문장을 형태소 단어 형태로 토큰화해 list 객체로 반환**한다.\n",
        "- 문장을 형태소 단어 형태로 반환하는 별도의 tokenizer 함수 tw_tokenizer()를 생성한다.\n",
        "---\n",
        "- 사이킷런의 **`TfidfVectorizer`**를 이용하여 TF-IDF 피처 모델을 생성한다. tokenizer는 위에서 만든 tw_tokenizer() 함수를 이용한다.  \n",
        "- 파라미터를 `ngram_range=(1,2), min_df=3, max_df=0.9`로 설정한 TfidfVectorizer 객체를 생성하고, `fit()`과 `transform()`을 이용하여 피처 벡터화한다.\n"
      ],
      "metadata": {
        "id": "_f8EsKgev6yC"
      }
    },
    {
      "cell_type": "code",
      "source": [
        "from konlpy.tag import Twitter\n",
        "twitter=Twitter()\n",
        "\n",
        "def tw_tokenizer(text):\n",
        "    #입력 인자로 들어온 텍스트를 형태소 단어로 토큰화해 리스트 형태로 반환\n",
        "    tokens_ko=twitter.morphs(text)\n",
        "    return tokens_ko"
      ],
      "metadata": {
        "id": "L39ZhTtsv0WE"
      },
      "execution_count": null,
      "outputs": []
    },
    {
      "cell_type": "code",
      "source": [
        "from sklearn.feature_extraction.text import TfidfVectorizer\n",
        "\n",
        "#Twitter 객체의 morphs() 객체를 이용한 tokenizer 사용\n",
        "tfidf_vect=TfidfVectorizer(tokenizer=tw_tokenizer, ngram_range=(1,2), min_df=3, max_df=0.9)\n",
        "tfidf_vect.fit(train_df['document'])\n",
        "tfidf_matrix_train=tfidf_vect.transform(train_df['document'])"
      ],
      "metadata": {
        "id": "OeRyfNTNxrh0"
      },
      "execution_count": null,
      "outputs": []
    },
    {
      "cell_type": "markdown",
      "source": [
        "#### 5) 감성 분석 수행\n",
        "- 로지스틱 회귀를 이용하여 분류 기반의 감성 분석을 수행한다.\n",
        "- 로지스틱 회귀의 하이퍼 파라미터 `C`의 최적화를 위해 GridSearchCV를 이용한다.\n",
        "- C가 3.5일때 최고 0.8593의 정확도를 보였다.\n",
        "---\n",
        "- 테스트 세트를 이용하여 최종 감성 분석 예측을 수행한다.\n",
        "- **테스트 세트를 이용하여 예측할 때는 학습할 때 적용한 TfidfVectorizer를 그대로 사용해**야 한다. 그래야만 학습시 설정된 TfidfVectorizer의 피처 개수와 테스트 데이터를 TfidfVectorizer로 변환할 피처의 개수가 같아진다. \n",
        "- 학습 데이터에 사용된 TfidfVectorizer 객체 변수인 tfidf_vect를 이용하여 `transform()`을 테스트 데이터의 'document' 칼럼에 수행한다.\n",
        "- 로지스틱 회귀를 이용한 감성 분석의 정확도는 0.86186이다."
      ],
      "metadata": {
        "id": "sX73rZ2gyOoz"
      }
    },
    {
      "cell_type": "code",
      "source": [
        "from sklearn.linear_model import LogisticRegression\n",
        "from sklearn.model_selection import GridSearchCV\n",
        "lg_clf=LogisticRegression(random_state=0)\n",
        "\n",
        "#파라미터 C 최적화를 위해 GridSearchCV 이용\n",
        "params={'C': [1, 3.5, 4.5]}\n",
        "grid_cv=GridSearchCV(lg_clf, param_grid=params, cv=3, scoring='accuracy', verbose=1)\n",
        "grid_cv.fit(tfidf_matrix_train, train_df['label'])\n",
        "print(grid_cv.best_params_, round(grid_cv.best_score_, 4))"
      ],
      "metadata": {
        "colab": {
          "base_uri": "https://localhost:8080/"
        },
        "id": "E2S0U-Q4yLno",
        "outputId": "f94605ab-4470-478c-e4f7-55c137954f56"
      },
      "execution_count": null,
      "outputs": [
        {
          "output_type": "stream",
          "name": "stdout",
          "text": [
            "Fitting 3 folds for each of 3 candidates, totalling 9 fits\n",
            "{'C': 3.5} 0.8593\n"
          ]
        }
      ]
    },
    {
      "cell_type": "code",
      "source": [
        "from sklearn.metrics import accuracy_score\n",
        "#학습 데이터를 적용한 TfidfVectorizer를 이용하여 테스트 데이터를 TF-IDF 값으로 피처 변환함\n",
        "tfidf_matrix_test=tfidf_vect.transform(test_df['document'])\n",
        "\n",
        "#classifier는 GridSearchCV에서 최적 파라미터로 학습된 classifier를 그대로 사용\n",
        "best_estimator=grid_cv.best_estimator_\n",
        "preds=best_estimator.predict(tfidf_matrix_test)\n",
        "\n",
        "print(\"LogisticRegression 정확도: \", accuracy_score(test_df['label'], preds))"
      ],
      "metadata": {
        "colab": {
          "base_uri": "https://localhost:8080/"
        },
        "id": "0uEYt9RMzL23",
        "outputId": "a4f4f635-6eed-4816-e655-722ea8941f3f"
      },
      "execution_count": null,
      "outputs": [
        {
          "output_type": "stream",
          "name": "stdout",
          "text": [
            "LogisticRegression 정확도:  0.86186\n"
          ]
        }
      ]
    }
  ]
}