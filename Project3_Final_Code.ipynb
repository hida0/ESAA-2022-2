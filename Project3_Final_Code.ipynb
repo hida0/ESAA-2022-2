{
  "nbformat": 4,
  "nbformat_minor": 0,
  "metadata": {
    "colab": {
      "provenance": [],
      "include_colab_link": true
    },
    "kernelspec": {
      "name": "python3",
      "display_name": "Python 3"
    },
    "language_info": {
      "name": "python"
    }
  },
  "cells": [
    {
      "cell_type": "markdown",
      "metadata": {
        "id": "view-in-github",
        "colab_type": "text"
      },
      "source": [
        "<a href=\"https://colab.research.google.com/github/hida0/ESAA-2022-2/blob/Project/Project3_Final_Code.ipynb\" target=\"_parent\"><img src=\"https://colab.research.google.com/assets/colab-badge.svg\" alt=\"Open In Colab\"/></a>"
      ]
    },
    {
      "cell_type": "markdown",
      "source": [
        "## **구글 드라이브 어마운트**"
      ],
      "metadata": {
        "id": "HGeZQh8VGb6x"
      }
    },
    {
      "cell_type": "code",
      "execution_count": null,
      "metadata": {
        "colab": {
          "base_uri": "https://localhost:8080/"
        },
        "id": "PQcSfrGakwFt",
        "outputId": "eb00323c-ec5f-4853-f18b-a4995483b800"
      },
      "outputs": [
        {
          "output_type": "stream",
          "name": "stdout",
          "text": [
            "Mounted at /content/drive\n"
          ]
        }
      ],
      "source": [
        "from google.colab import drive\n",
        "drive.mount('/content/drive')"
      ]
    },
    {
      "cell_type": "markdown",
      "source": [
        "## **필요한 라이브러리 로드**"
      ],
      "metadata": {
        "id": "M2EybObZDAOa"
      }
    },
    {
      "cell_type": "code",
      "source": [
        "import pandas as pd"
      ],
      "metadata": {
        "id": "2_VzixJkk8Ri"
      },
      "execution_count": null,
      "outputs": []
    },
    {
      "cell_type": "markdown",
      "source": [
        "## **데이터 로드**\n"
      ],
      "metadata": {
        "id": "NouOiVgXDDf4"
      }
    },
    {
      "cell_type": "code",
      "source": [
        "df = pd.read_csv('/content/drive/MyDrive/22-2/ESAA/Reviews.csv')\n",
        "df.head()"
      ],
      "metadata": {
        "colab": {
          "base_uri": "https://localhost:8080/",
          "height": 423
        },
        "id": "SNtH8I9qkz4j",
        "outputId": "4b920d03-8dcb-49d3-daf7-ac26f7f9860c"
      },
      "execution_count": null,
      "outputs": [
        {
          "output_type": "execute_result",
          "data": {
            "text/plain": [
              "   Id   ProductId          UserId                      ProfileName  \\\n",
              "0   1  B001E4KFG0  A3SGXH7AUHU8GW                       delmartian   \n",
              "1   2  B00813GRG4  A1D87F6ZCVE5NK                           dll pa   \n",
              "2   3  B000LQOCH0   ABXLMWJIXXAIN  Natalia Corres \"Natalia Corres\"   \n",
              "3   4  B000UA0QIQ  A395BORC6FGVXV                             Karl   \n",
              "4   5  B006K2ZZ7K  A1UQRSCLF8GW1T    Michael D. Bigham \"M. Wassir\"   \n",
              "\n",
              "   HelpfulnessNumerator  HelpfulnessDenominator  Score        Time  \\\n",
              "0                     1                       1      5  1303862400   \n",
              "1                     0                       0      1  1346976000   \n",
              "2                     1                       1      4  1219017600   \n",
              "3                     3                       3      2  1307923200   \n",
              "4                     0                       0      5  1350777600   \n",
              "\n",
              "                 Summary                                               Text  \n",
              "0  Good Quality Dog Food  I have bought several of the Vitality canned d...  \n",
              "1      Not as Advertised  Product arrived labeled as Jumbo Salted Peanut...  \n",
              "2  \"Delight\" says it all  This is a confection that has been around a fe...  \n",
              "3         Cough Medicine  If you are looking for the secret ingredient i...  \n",
              "4            Great taffy  Great taffy at a great price.  There was a wid...  "
            ],
            "text/html": [
              "\n",
              "  <div id=\"df-1fe044b1-aa46-4780-9d79-f728dfb55df4\">\n",
              "    <div class=\"colab-df-container\">\n",
              "      <div>\n",
              "<style scoped>\n",
              "    .dataframe tbody tr th:only-of-type {\n",
              "        vertical-align: middle;\n",
              "    }\n",
              "\n",
              "    .dataframe tbody tr th {\n",
              "        vertical-align: top;\n",
              "    }\n",
              "\n",
              "    .dataframe thead th {\n",
              "        text-align: right;\n",
              "    }\n",
              "</style>\n",
              "<table border=\"1\" class=\"dataframe\">\n",
              "  <thead>\n",
              "    <tr style=\"text-align: right;\">\n",
              "      <th></th>\n",
              "      <th>Id</th>\n",
              "      <th>ProductId</th>\n",
              "      <th>UserId</th>\n",
              "      <th>ProfileName</th>\n",
              "      <th>HelpfulnessNumerator</th>\n",
              "      <th>HelpfulnessDenominator</th>\n",
              "      <th>Score</th>\n",
              "      <th>Time</th>\n",
              "      <th>Summary</th>\n",
              "      <th>Text</th>\n",
              "    </tr>\n",
              "  </thead>\n",
              "  <tbody>\n",
              "    <tr>\n",
              "      <th>0</th>\n",
              "      <td>1</td>\n",
              "      <td>B001E4KFG0</td>\n",
              "      <td>A3SGXH7AUHU8GW</td>\n",
              "      <td>delmartian</td>\n",
              "      <td>1</td>\n",
              "      <td>1</td>\n",
              "      <td>5</td>\n",
              "      <td>1303862400</td>\n",
              "      <td>Good Quality Dog Food</td>\n",
              "      <td>I have bought several of the Vitality canned d...</td>\n",
              "    </tr>\n",
              "    <tr>\n",
              "      <th>1</th>\n",
              "      <td>2</td>\n",
              "      <td>B00813GRG4</td>\n",
              "      <td>A1D87F6ZCVE5NK</td>\n",
              "      <td>dll pa</td>\n",
              "      <td>0</td>\n",
              "      <td>0</td>\n",
              "      <td>1</td>\n",
              "      <td>1346976000</td>\n",
              "      <td>Not as Advertised</td>\n",
              "      <td>Product arrived labeled as Jumbo Salted Peanut...</td>\n",
              "    </tr>\n",
              "    <tr>\n",
              "      <th>2</th>\n",
              "      <td>3</td>\n",
              "      <td>B000LQOCH0</td>\n",
              "      <td>ABXLMWJIXXAIN</td>\n",
              "      <td>Natalia Corres \"Natalia Corres\"</td>\n",
              "      <td>1</td>\n",
              "      <td>1</td>\n",
              "      <td>4</td>\n",
              "      <td>1219017600</td>\n",
              "      <td>\"Delight\" says it all</td>\n",
              "      <td>This is a confection that has been around a fe...</td>\n",
              "    </tr>\n",
              "    <tr>\n",
              "      <th>3</th>\n",
              "      <td>4</td>\n",
              "      <td>B000UA0QIQ</td>\n",
              "      <td>A395BORC6FGVXV</td>\n",
              "      <td>Karl</td>\n",
              "      <td>3</td>\n",
              "      <td>3</td>\n",
              "      <td>2</td>\n",
              "      <td>1307923200</td>\n",
              "      <td>Cough Medicine</td>\n",
              "      <td>If you are looking for the secret ingredient i...</td>\n",
              "    </tr>\n",
              "    <tr>\n",
              "      <th>4</th>\n",
              "      <td>5</td>\n",
              "      <td>B006K2ZZ7K</td>\n",
              "      <td>A1UQRSCLF8GW1T</td>\n",
              "      <td>Michael D. Bigham \"M. Wassir\"</td>\n",
              "      <td>0</td>\n",
              "      <td>0</td>\n",
              "      <td>5</td>\n",
              "      <td>1350777600</td>\n",
              "      <td>Great taffy</td>\n",
              "      <td>Great taffy at a great price.  There was a wid...</td>\n",
              "    </tr>\n",
              "  </tbody>\n",
              "</table>\n",
              "</div>\n",
              "      <button class=\"colab-df-convert\" onclick=\"convertToInteractive('df-1fe044b1-aa46-4780-9d79-f728dfb55df4')\"\n",
              "              title=\"Convert this dataframe to an interactive table.\"\n",
              "              style=\"display:none;\">\n",
              "        \n",
              "  <svg xmlns=\"http://www.w3.org/2000/svg\" height=\"24px\"viewBox=\"0 0 24 24\"\n",
              "       width=\"24px\">\n",
              "    <path d=\"M0 0h24v24H0V0z\" fill=\"none\"/>\n",
              "    <path d=\"M18.56 5.44l.94 2.06.94-2.06 2.06-.94-2.06-.94-.94-2.06-.94 2.06-2.06.94zm-11 1L8.5 8.5l.94-2.06 2.06-.94-2.06-.94L8.5 2.5l-.94 2.06-2.06.94zm10 10l.94 2.06.94-2.06 2.06-.94-2.06-.94-.94-2.06-.94 2.06-2.06.94z\"/><path d=\"M17.41 7.96l-1.37-1.37c-.4-.4-.92-.59-1.43-.59-.52 0-1.04.2-1.43.59L10.3 9.45l-7.72 7.72c-.78.78-.78 2.05 0 2.83L4 21.41c.39.39.9.59 1.41.59.51 0 1.02-.2 1.41-.59l7.78-7.78 2.81-2.81c.8-.78.8-2.07 0-2.86zM5.41 20L4 18.59l7.72-7.72 1.47 1.35L5.41 20z\"/>\n",
              "  </svg>\n",
              "      </button>\n",
              "      \n",
              "  <style>\n",
              "    .colab-df-container {\n",
              "      display:flex;\n",
              "      flex-wrap:wrap;\n",
              "      gap: 12px;\n",
              "    }\n",
              "\n",
              "    .colab-df-convert {\n",
              "      background-color: #E8F0FE;\n",
              "      border: none;\n",
              "      border-radius: 50%;\n",
              "      cursor: pointer;\n",
              "      display: none;\n",
              "      fill: #1967D2;\n",
              "      height: 32px;\n",
              "      padding: 0 0 0 0;\n",
              "      width: 32px;\n",
              "    }\n",
              "\n",
              "    .colab-df-convert:hover {\n",
              "      background-color: #E2EBFA;\n",
              "      box-shadow: 0px 1px 2px rgba(60, 64, 67, 0.3), 0px 1px 3px 1px rgba(60, 64, 67, 0.15);\n",
              "      fill: #174EA6;\n",
              "    }\n",
              "\n",
              "    [theme=dark] .colab-df-convert {\n",
              "      background-color: #3B4455;\n",
              "      fill: #D2E3FC;\n",
              "    }\n",
              "\n",
              "    [theme=dark] .colab-df-convert:hover {\n",
              "      background-color: #434B5C;\n",
              "      box-shadow: 0px 1px 3px 1px rgba(0, 0, 0, 0.15);\n",
              "      filter: drop-shadow(0px 1px 2px rgba(0, 0, 0, 0.3));\n",
              "      fill: #FFFFFF;\n",
              "    }\n",
              "  </style>\n",
              "\n",
              "      <script>\n",
              "        const buttonEl =\n",
              "          document.querySelector('#df-1fe044b1-aa46-4780-9d79-f728dfb55df4 button.colab-df-convert');\n",
              "        buttonEl.style.display =\n",
              "          google.colab.kernel.accessAllowed ? 'block' : 'none';\n",
              "\n",
              "        async function convertToInteractive(key) {\n",
              "          const element = document.querySelector('#df-1fe044b1-aa46-4780-9d79-f728dfb55df4');\n",
              "          const dataTable =\n",
              "            await google.colab.kernel.invokeFunction('convertToInteractive',\n",
              "                                                     [key], {});\n",
              "          if (!dataTable) return;\n",
              "\n",
              "          const docLinkHtml = 'Like what you see? Visit the ' +\n",
              "            '<a target=\"_blank\" href=https://colab.research.google.com/notebooks/data_table.ipynb>data table notebook</a>'\n",
              "            + ' to learn more about interactive tables.';\n",
              "          element.innerHTML = '';\n",
              "          dataTable['output_type'] = 'display_data';\n",
              "          await google.colab.output.renderOutput(dataTable, element);\n",
              "          const docLink = document.createElement('div');\n",
              "          docLink.innerHTML = docLinkHtml;\n",
              "          element.appendChild(docLink);\n",
              "        }\n",
              "      </script>\n",
              "    </div>\n",
              "  </div>\n",
              "  "
            ]
          },
          "metadata": {},
          "execution_count": 4
        }
      ]
    },
    {
      "cell_type": "code",
      "source": [
        "df.shape"
      ],
      "metadata": {
        "colab": {
          "base_uri": "https://localhost:8080/"
        },
        "id": "hXQAmjKj--9R",
        "outputId": "b9913b2d-7774-4c30-d1d8-32b23bfe317f"
      },
      "execution_count": null,
      "outputs": [
        {
          "output_type": "execute_result",
          "data": {
            "text/plain": [
              "(568454, 10)"
            ]
          },
          "metadata": {},
          "execution_count": 5
        }
      ]
    },
    {
      "cell_type": "code",
      "source": [
        "df.isnull().sum()"
      ],
      "metadata": {
        "colab": {
          "base_uri": "https://localhost:8080/"
        },
        "id": "Z9nUf2ePDJRm",
        "outputId": "f3a093f1-98c0-46b8-cb5d-4966c23cd53f"
      },
      "execution_count": null,
      "outputs": [
        {
          "output_type": "execute_result",
          "data": {
            "text/plain": [
              "Id                         0\n",
              "ProductId                  0\n",
              "UserId                     0\n",
              "ProfileName               16\n",
              "HelpfulnessNumerator       0\n",
              "HelpfulnessDenominator     0\n",
              "Score                      0\n",
              "Time                       0\n",
              "Summary                   27\n",
              "Text                       0\n",
              "dtype: int64"
            ]
          },
          "metadata": {},
          "execution_count": 6
        }
      ]
    },
    {
      "cell_type": "markdown",
      "source": [
        "- 결측치 확인 결과, 사용할 4개의 칼럼(UserId, ProductId, Score, Text)에는 결측치가 없으므로 따로 전처리를 하지 않는다."
      ],
      "metadata": {
        "id": "2ex1KdwbGkfg"
      }
    },
    {
      "cell_type": "markdown",
      "source": [
        "## **데이터 전처리**\n",
        "- 리뷰가 너무 적은 사용자는 신뢰성이 줄어드므로, 리뷰가 일정 개수 이상인 사용자에 대해서만 추천 알고리즘을 구현한다.\n",
        "- User 한 명당 리뷰 개수를 확인한 결과, 리뷰 개수가 10개 이상인 UserId를 대상으로 한다.\n"
      ],
      "metadata": {
        "id": "S1OdGHVjDF_8"
      }
    },
    {
      "cell_type": "code",
      "source": [
        "sum(df['UserId'].value_counts()>=10)"
      ],
      "metadata": {
        "colab": {
          "base_uri": "https://localhost:8080/"
        },
        "id": "jRHEtKCk_oQ-",
        "outputId": "b5089ebb-0e75-4d77-908d-ffad3d7a842a"
      },
      "execution_count": null,
      "outputs": [
        {
          "output_type": "execute_result",
          "data": {
            "text/plain": [
              "7590"
            ]
          },
          "metadata": {},
          "execution_count": 7
        }
      ]
    },
    {
      "cell_type": "code",
      "source": [
        "# 리뷰 개수가 10개 이상인 UserId에 대한 자료만 추출\n",
        "df2 = pd.DataFrame(df['UserId'].value_counts()>=10)"
      ],
      "metadata": {
        "id": "dz41WtgM_4gq"
      },
      "execution_count": null,
      "outputs": []
    },
    {
      "cell_type": "code",
      "source": [
        "# 리뷰 개수가 10개 이상인 사용자의 Id인 UserId만 추출\n",
        "users = list(df2[df2['UserId']==True].index)\n",
        "len(users)"
      ],
      "metadata": {
        "colab": {
          "base_uri": "https://localhost:8080/"
        },
        "id": "VaVClbpmAE4y",
        "outputId": "3ed044fc-8520-4ce1-a115-a1cd290a9055"
      },
      "execution_count": null,
      "outputs": [
        {
          "output_type": "execute_result",
          "data": {
            "text/plain": [
              "7590"
            ]
          },
          "metadata": {},
          "execution_count": 9
        }
      ]
    },
    {
      "cell_type": "markdown",
      "source": [
        "- 작성한 리뷰의 개수가 10개 이상인 7590명의 UserId 에 대하여, 고객 ID인 **`UserId`**, 상품 ID인 **`ProductId`**, 평점인 **`Score`**, 리뷰 데이터인 **`Text`** 컬럼으로 이루어진 데이터셋 **`reviews`**를 생성한다."
      ],
      "metadata": {
        "id": "aEV01ItDG6ei"
      }
    },
    {
      "cell_type": "code",
      "source": [
        "reviews = df[ df['UserId'].isin(users) ]\n",
        "reviews = reviews[ ['UserId', 'ProductId', 'Score', 'Text'] ].reset_index(drop=True)"
      ],
      "metadata": {
        "id": "P9XgaNi-AvoD"
      },
      "execution_count": null,
      "outputs": []
    },
    {
      "cell_type": "code",
      "source": [
        "reviews.head()"
      ],
      "metadata": {
        "id": "LVSan0ZXo6VC",
        "colab": {
          "base_uri": "https://localhost:8080/",
          "height": 206
        },
        "outputId": "800d77da-cf9a-4413-c664-becdec042789"
      },
      "execution_count": null,
      "outputs": [
        {
          "output_type": "execute_result",
          "data": {
            "text/plain": [
              "           UserId   ProductId  Score  \\\n",
              "0  A2725IB4YY9JEB  B0009XLVG0      5   \n",
              "1  A18ECVX2RJ7HUE  B001GVISJM      4   \n",
              "2  A2MUGFV2TDQ47K  B001GVISJM      5   \n",
              "3  A2A9X58G2GTBLP  B001GVISJM      5   \n",
              "4   AOVROBZ8BNTP7  B001EO5QW8      4   \n",
              "\n",
              "                                                Text  \n",
              "0  One of my boys needed to lose some weight and ...  \n",
              "1  good flavor! these came securely packed... the...  \n",
              "2  The Strawberry Twizzlers are my guilty pleasur...  \n",
              "3  Twizzlers, Strawberry my childhood favorite ca...  \n",
              "4  McCann's Instant Oatmeal is great if you must ...  "
            ],
            "text/html": [
              "\n",
              "  <div id=\"df-5b46ea24-81a1-4b96-960c-fbbe9f18598d\">\n",
              "    <div class=\"colab-df-container\">\n",
              "      <div>\n",
              "<style scoped>\n",
              "    .dataframe tbody tr th:only-of-type {\n",
              "        vertical-align: middle;\n",
              "    }\n",
              "\n",
              "    .dataframe tbody tr th {\n",
              "        vertical-align: top;\n",
              "    }\n",
              "\n",
              "    .dataframe thead th {\n",
              "        text-align: right;\n",
              "    }\n",
              "</style>\n",
              "<table border=\"1\" class=\"dataframe\">\n",
              "  <thead>\n",
              "    <tr style=\"text-align: right;\">\n",
              "      <th></th>\n",
              "      <th>UserId</th>\n",
              "      <th>ProductId</th>\n",
              "      <th>Score</th>\n",
              "      <th>Text</th>\n",
              "    </tr>\n",
              "  </thead>\n",
              "  <tbody>\n",
              "    <tr>\n",
              "      <th>0</th>\n",
              "      <td>A2725IB4YY9JEB</td>\n",
              "      <td>B0009XLVG0</td>\n",
              "      <td>5</td>\n",
              "      <td>One of my boys needed to lose some weight and ...</td>\n",
              "    </tr>\n",
              "    <tr>\n",
              "      <th>1</th>\n",
              "      <td>A18ECVX2RJ7HUE</td>\n",
              "      <td>B001GVISJM</td>\n",
              "      <td>4</td>\n",
              "      <td>good flavor! these came securely packed... the...</td>\n",
              "    </tr>\n",
              "    <tr>\n",
              "      <th>2</th>\n",
              "      <td>A2MUGFV2TDQ47K</td>\n",
              "      <td>B001GVISJM</td>\n",
              "      <td>5</td>\n",
              "      <td>The Strawberry Twizzlers are my guilty pleasur...</td>\n",
              "    </tr>\n",
              "    <tr>\n",
              "      <th>3</th>\n",
              "      <td>A2A9X58G2GTBLP</td>\n",
              "      <td>B001GVISJM</td>\n",
              "      <td>5</td>\n",
              "      <td>Twizzlers, Strawberry my childhood favorite ca...</td>\n",
              "    </tr>\n",
              "    <tr>\n",
              "      <th>4</th>\n",
              "      <td>AOVROBZ8BNTP7</td>\n",
              "      <td>B001EO5QW8</td>\n",
              "      <td>4</td>\n",
              "      <td>McCann's Instant Oatmeal is great if you must ...</td>\n",
              "    </tr>\n",
              "  </tbody>\n",
              "</table>\n",
              "</div>\n",
              "      <button class=\"colab-df-convert\" onclick=\"convertToInteractive('df-5b46ea24-81a1-4b96-960c-fbbe9f18598d')\"\n",
              "              title=\"Convert this dataframe to an interactive table.\"\n",
              "              style=\"display:none;\">\n",
              "        \n",
              "  <svg xmlns=\"http://www.w3.org/2000/svg\" height=\"24px\"viewBox=\"0 0 24 24\"\n",
              "       width=\"24px\">\n",
              "    <path d=\"M0 0h24v24H0V0z\" fill=\"none\"/>\n",
              "    <path d=\"M18.56 5.44l.94 2.06.94-2.06 2.06-.94-2.06-.94-.94-2.06-.94 2.06-2.06.94zm-11 1L8.5 8.5l.94-2.06 2.06-.94-2.06-.94L8.5 2.5l-.94 2.06-2.06.94zm10 10l.94 2.06.94-2.06 2.06-.94-2.06-.94-.94-2.06-.94 2.06-2.06.94z\"/><path d=\"M17.41 7.96l-1.37-1.37c-.4-.4-.92-.59-1.43-.59-.52 0-1.04.2-1.43.59L10.3 9.45l-7.72 7.72c-.78.78-.78 2.05 0 2.83L4 21.41c.39.39.9.59 1.41.59.51 0 1.02-.2 1.41-.59l7.78-7.78 2.81-2.81c.8-.78.8-2.07 0-2.86zM5.41 20L4 18.59l7.72-7.72 1.47 1.35L5.41 20z\"/>\n",
              "  </svg>\n",
              "      </button>\n",
              "      \n",
              "  <style>\n",
              "    .colab-df-container {\n",
              "      display:flex;\n",
              "      flex-wrap:wrap;\n",
              "      gap: 12px;\n",
              "    }\n",
              "\n",
              "    .colab-df-convert {\n",
              "      background-color: #E8F0FE;\n",
              "      border: none;\n",
              "      border-radius: 50%;\n",
              "      cursor: pointer;\n",
              "      display: none;\n",
              "      fill: #1967D2;\n",
              "      height: 32px;\n",
              "      padding: 0 0 0 0;\n",
              "      width: 32px;\n",
              "    }\n",
              "\n",
              "    .colab-df-convert:hover {\n",
              "      background-color: #E2EBFA;\n",
              "      box-shadow: 0px 1px 2px rgba(60, 64, 67, 0.3), 0px 1px 3px 1px rgba(60, 64, 67, 0.15);\n",
              "      fill: #174EA6;\n",
              "    }\n",
              "\n",
              "    [theme=dark] .colab-df-convert {\n",
              "      background-color: #3B4455;\n",
              "      fill: #D2E3FC;\n",
              "    }\n",
              "\n",
              "    [theme=dark] .colab-df-convert:hover {\n",
              "      background-color: #434B5C;\n",
              "      box-shadow: 0px 1px 3px 1px rgba(0, 0, 0, 0.15);\n",
              "      filter: drop-shadow(0px 1px 2px rgba(0, 0, 0, 0.3));\n",
              "      fill: #FFFFFF;\n",
              "    }\n",
              "  </style>\n",
              "\n",
              "      <script>\n",
              "        const buttonEl =\n",
              "          document.querySelector('#df-5b46ea24-81a1-4b96-960c-fbbe9f18598d button.colab-df-convert');\n",
              "        buttonEl.style.display =\n",
              "          google.colab.kernel.accessAllowed ? 'block' : 'none';\n",
              "\n",
              "        async function convertToInteractive(key) {\n",
              "          const element = document.querySelector('#df-5b46ea24-81a1-4b96-960c-fbbe9f18598d');\n",
              "          const dataTable =\n",
              "            await google.colab.kernel.invokeFunction('convertToInteractive',\n",
              "                                                     [key], {});\n",
              "          if (!dataTable) return;\n",
              "\n",
              "          const docLinkHtml = 'Like what you see? Visit the ' +\n",
              "            '<a target=\"_blank\" href=https://colab.research.google.com/notebooks/data_table.ipynb>data table notebook</a>'\n",
              "            + ' to learn more about interactive tables.';\n",
              "          element.innerHTML = '';\n",
              "          dataTable['output_type'] = 'display_data';\n",
              "          await google.colab.output.renderOutput(dataTable, element);\n",
              "          const docLink = document.createElement('div');\n",
              "          docLink.innerHTML = docLinkHtml;\n",
              "          element.appendChild(docLink);\n",
              "        }\n",
              "      </script>\n",
              "    </div>\n",
              "  </div>\n",
              "  "
            ]
          },
          "metadata": {},
          "execution_count": 12
        }
      ]
    },
    {
      "cell_type": "code",
      "source": [
        "# User 한 명당 리뷰 개수 확인\n",
        "reviews['UserId'].value_counts()"
      ],
      "metadata": {
        "colab": {
          "base_uri": "https://localhost:8080/"
        },
        "id": "fFXqIsVYCEt1",
        "outputId": "2af87e35-b586-4695-d288-fa4e8554387f"
      },
      "execution_count": null,
      "outputs": [
        {
          "output_type": "execute_result",
          "data": {
            "text/plain": [
              "A3OXHLG6DIBRW8    448\n",
              "A1YUL9PCJR3JTY    421\n",
              "AY12DBB0U420B     389\n",
              "A281NPSIMI1C2R    365\n",
              "A1Z54EM24Y40LL    256\n",
              "                 ... \n",
              "A3G8C334EDZPP7     10\n",
              "A4P7N1ILEYDYW      10\n",
              "A1M1MHI14UQSTI     10\n",
              "AS8WFSJTEPKX0      10\n",
              "A3IF29VV0CH70B     10\n",
              "Name: UserId, Length: 7590, dtype: int64"
            ]
          },
          "metadata": {},
          "execution_count": 13
        }
      ]
    },
    {
      "cell_type": "markdown",
      "source": [
        "## **VADER를 이용한 감성분석**"
      ],
      "metadata": {
        "id": "XhdYV57hHI-F"
      }
    },
    {
      "cell_type": "code",
      "source": [
        "reviews['Text'][0]"
      ],
      "metadata": {
        "id": "olEGgzIwC1B6",
        "colab": {
          "base_uri": "https://localhost:8080/",
          "height": 53
        },
        "outputId": "9e4196fe-79cd-4550-90f6-f567d5f000f4"
      },
      "execution_count": null,
      "outputs": [
        {
          "output_type": "execute_result",
          "data": {
            "text/plain": [
              "\"One of my boys needed to lose some weight and the other didn't.  I put this food on the floor for the chubby guy, and the protein-rich, no by-product food up higher where only my skinny boy can jump.  The higher food sits going stale.  They both really go for this food.  And my chubby boy has been losing about an ounce a week.\""
            ],
            "application/vnd.google.colaboratory.intrinsic+json": {
              "type": "string"
            }
          },
          "metadata": {},
          "execution_count": 14
        }
      ]
    },
    {
      "cell_type": "code",
      "source": [
        "pip install vaderSentiment"
      ],
      "metadata": {
        "colab": {
          "base_uri": "https://localhost:8080/"
        },
        "id": "7NTmQQm2mSR5",
        "outputId": "7cd6d680-2225-4ede-f22f-7c07e0a58c95"
      },
      "execution_count": null,
      "outputs": [
        {
          "output_type": "stream",
          "name": "stdout",
          "text": [
            "Looking in indexes: https://pypi.org/simple, https://us-python.pkg.dev/colab-wheels/public/simple/\n",
            "Collecting vaderSentiment\n",
            "  Downloading vaderSentiment-3.3.2-py2.py3-none-any.whl (125 kB)\n",
            "\u001b[2K     \u001b[90m━━━━━━━━━━━━━━━━━━━━━━━━━━━━━━━━━━━━━━\u001b[0m \u001b[32m126.0/126.0 KB\u001b[0m \u001b[31m11.5 MB/s\u001b[0m eta \u001b[36m0:00:00\u001b[0m\n",
            "\u001b[?25hRequirement already satisfied: requests in /usr/local/lib/python3.8/dist-packages (from vaderSentiment) (2.25.1)\n",
            "Requirement already satisfied: certifi>=2017.4.17 in /usr/local/lib/python3.8/dist-packages (from requests->vaderSentiment) (2022.12.7)\n",
            "Requirement already satisfied: urllib3<1.27,>=1.21.1 in /usr/local/lib/python3.8/dist-packages (from requests->vaderSentiment) (1.24.3)\n",
            "Requirement already satisfied: chardet<5,>=3.0.2 in /usr/local/lib/python3.8/dist-packages (from requests->vaderSentiment) (4.0.0)\n",
            "Requirement already satisfied: idna<3,>=2.5 in /usr/local/lib/python3.8/dist-packages (from requests->vaderSentiment) (2.10)\n",
            "Installing collected packages: vaderSentiment\n",
            "Successfully installed vaderSentiment-3.3.2\n"
          ]
        }
      ]
    },
    {
      "cell_type": "code",
      "source": [
        "import pandas as pd\n",
        "import nltk\n",
        "nltk.download('vader_lexicon')"
      ],
      "metadata": {
        "colab": {
          "base_uri": "https://localhost:8080/"
        },
        "id": "zCA9R9oDmbr5",
        "outputId": "4598b425-9259-4c45-9324-cd631fb382fd"
      },
      "execution_count": null,
      "outputs": [
        {
          "output_type": "stream",
          "name": "stderr",
          "text": [
            "[nltk_data] Downloading package vader_lexicon to /root/nltk_data...\n"
          ]
        },
        {
          "output_type": "execute_result",
          "data": {
            "text/plain": [
              "True"
            ]
          },
          "metadata": {},
          "execution_count": 18
        }
      ]
    },
    {
      "cell_type": "code",
      "source": [
        "from nltk.sentiment.vader import SentimentIntensityAnalyzer\n",
        "\n",
        "test = reviews['Text'][0]\n",
        "senti_analyzer = SentimentIntensityAnalyzer()\n",
        "senti_scores = senti_analyzer.polarity_scores(test)\n",
        "print(senti_scores)"
      ],
      "metadata": {
        "colab": {
          "base_uri": "https://localhost:8080/"
        },
        "id": "ZbETqhOemKZL",
        "outputId": "24aef339-2551-4fcf-9299-c4aec45ceb10"
      },
      "execution_count": null,
      "outputs": [
        {
          "output_type": "stream",
          "name": "stdout",
          "text": [
            "{'neg': 0.113, 'neu': 0.887, 'pos': 0.0, 'compound': -0.7579}\n"
          ]
        }
      ]
    },
    {
      "cell_type": "code",
      "source": [
        "senti_scores['compound']"
      ],
      "metadata": {
        "colab": {
          "base_uri": "https://localhost:8080/"
        },
        "id": "O9stUla8mez5",
        "outputId": "52e0f804-3f4b-4a5a-b40b-7cda33950d15"
      },
      "execution_count": null,
      "outputs": [
        {
          "output_type": "execute_result",
          "data": {
            "text/plain": [
              "-0.7579"
            ]
          },
          "metadata": {},
          "execution_count": 20
        }
      ]
    },
    {
      "cell_type": "code",
      "source": [
        "def vader_polarity(review, threshold=0.1):\n",
        "    senti_analyzer = SentimentIntensityAnalyzer()\n",
        "    scores = senti_analyzer.polarity_scores(review)\n",
        "    agg_score = scores['compound']\n",
        "    return agg_score"
      ],
      "metadata": {
        "id": "mC0i08jNmKbE"
      },
      "execution_count": null,
      "outputs": []
    },
    {
      "cell_type": "markdown",
      "source": [
        "- 감성분석 수행 결과 긍정 감성 지수, 부정 감성 지수, 중립 감성 지수를 적절하게 조합한 **`compound`** 값을 추출하여 새로운 칼럼 **`vader_preds`**을 생성한다."
      ],
      "metadata": {
        "id": "YWr44NH4oOnD"
      }
    },
    {
      "cell_type": "code",
      "source": [
        "reviews['vader_preds'] = reviews['Text'].apply( lambda x : vader_polarity(x, 0.1) )"
      ],
      "metadata": {
        "id": "jJcrnmtDmtgZ"
      },
      "execution_count": null,
      "outputs": []
    },
    {
      "cell_type": "code",
      "source": [
        "reviews"
      ],
      "metadata": {
        "colab": {
          "base_uri": "https://localhost:8080/",
          "height": 423
        },
        "id": "mSmeLHgJmtlX",
        "outputId": "6c1eedcc-4c88-4969-ac31-50fa3f6a9d6b"
      },
      "execution_count": null,
      "outputs": [
        {
          "output_type": "execute_result",
          "data": {
            "text/plain": [
              "                UserId   ProductId  Score  \\\n",
              "0       A2725IB4YY9JEB  B0009XLVG0      5   \n",
              "1       A18ECVX2RJ7HUE  B001GVISJM      4   \n",
              "2       A2MUGFV2TDQ47K  B001GVISJM      5   \n",
              "3       A2A9X58G2GTBLP  B001GVISJM      5   \n",
              "4        AOVROBZ8BNTP7  B001EO5QW8      4   \n",
              "...                ...         ...    ...   \n",
              "141289  A291HTT117RVS9  B001FPT1WM      5   \n",
              "141290  A1YGG6T4YJZWC1  B001FPT1WM      5   \n",
              "141291  A1YKXVGAIA8952  B003XUL27E      1   \n",
              "141292  A2E5C8TTAED4CQ  B001EO7N10      5   \n",
              "141293   APWCOAVILK94B  B001EO7N10      5   \n",
              "\n",
              "                                                     Text  vader_preds  \n",
              "0       One of my boys needed to lose some weight and ...      -0.7579  \n",
              "1       good flavor! these came securely packed... the...       0.9466  \n",
              "2       The Strawberry Twizzlers are my guilty pleasur...       0.6486  \n",
              "3       Twizzlers, Strawberry my childhood favorite ca...       0.8957  \n",
              "4       McCann's Instant Oatmeal is great if you must ...       0.7103  \n",
              "...                                                   ...          ...  \n",
              "141289  I've tried several violet flavored candies in ...       0.3699  \n",
              "141290  these are very pricey so i only enjoy them now...       0.9805  \n",
              "141291  I thought this soup would be more like a chill...       0.6953  \n",
              "141292  You can make this mix yourself, but the Star A...       0.5251  \n",
              "141293  Hoping there is no MSG in this, this tastes ex...       0.9020  \n",
              "\n",
              "[141294 rows x 5 columns]"
            ],
            "text/html": [
              "\n",
              "  <div id=\"df-94105ebc-e79f-4326-ba65-e32ea7dbe65f\">\n",
              "    <div class=\"colab-df-container\">\n",
              "      <div>\n",
              "<style scoped>\n",
              "    .dataframe tbody tr th:only-of-type {\n",
              "        vertical-align: middle;\n",
              "    }\n",
              "\n",
              "    .dataframe tbody tr th {\n",
              "        vertical-align: top;\n",
              "    }\n",
              "\n",
              "    .dataframe thead th {\n",
              "        text-align: right;\n",
              "    }\n",
              "</style>\n",
              "<table border=\"1\" class=\"dataframe\">\n",
              "  <thead>\n",
              "    <tr style=\"text-align: right;\">\n",
              "      <th></th>\n",
              "      <th>UserId</th>\n",
              "      <th>ProductId</th>\n",
              "      <th>Score</th>\n",
              "      <th>Text</th>\n",
              "      <th>vader_preds</th>\n",
              "    </tr>\n",
              "  </thead>\n",
              "  <tbody>\n",
              "    <tr>\n",
              "      <th>0</th>\n",
              "      <td>A2725IB4YY9JEB</td>\n",
              "      <td>B0009XLVG0</td>\n",
              "      <td>5</td>\n",
              "      <td>One of my boys needed to lose some weight and ...</td>\n",
              "      <td>-0.7579</td>\n",
              "    </tr>\n",
              "    <tr>\n",
              "      <th>1</th>\n",
              "      <td>A18ECVX2RJ7HUE</td>\n",
              "      <td>B001GVISJM</td>\n",
              "      <td>4</td>\n",
              "      <td>good flavor! these came securely packed... the...</td>\n",
              "      <td>0.9466</td>\n",
              "    </tr>\n",
              "    <tr>\n",
              "      <th>2</th>\n",
              "      <td>A2MUGFV2TDQ47K</td>\n",
              "      <td>B001GVISJM</td>\n",
              "      <td>5</td>\n",
              "      <td>The Strawberry Twizzlers are my guilty pleasur...</td>\n",
              "      <td>0.6486</td>\n",
              "    </tr>\n",
              "    <tr>\n",
              "      <th>3</th>\n",
              "      <td>A2A9X58G2GTBLP</td>\n",
              "      <td>B001GVISJM</td>\n",
              "      <td>5</td>\n",
              "      <td>Twizzlers, Strawberry my childhood favorite ca...</td>\n",
              "      <td>0.8957</td>\n",
              "    </tr>\n",
              "    <tr>\n",
              "      <th>4</th>\n",
              "      <td>AOVROBZ8BNTP7</td>\n",
              "      <td>B001EO5QW8</td>\n",
              "      <td>4</td>\n",
              "      <td>McCann's Instant Oatmeal is great if you must ...</td>\n",
              "      <td>0.7103</td>\n",
              "    </tr>\n",
              "    <tr>\n",
              "      <th>...</th>\n",
              "      <td>...</td>\n",
              "      <td>...</td>\n",
              "      <td>...</td>\n",
              "      <td>...</td>\n",
              "      <td>...</td>\n",
              "    </tr>\n",
              "    <tr>\n",
              "      <th>141289</th>\n",
              "      <td>A291HTT117RVS9</td>\n",
              "      <td>B001FPT1WM</td>\n",
              "      <td>5</td>\n",
              "      <td>I've tried several violet flavored candies in ...</td>\n",
              "      <td>0.3699</td>\n",
              "    </tr>\n",
              "    <tr>\n",
              "      <th>141290</th>\n",
              "      <td>A1YGG6T4YJZWC1</td>\n",
              "      <td>B001FPT1WM</td>\n",
              "      <td>5</td>\n",
              "      <td>these are very pricey so i only enjoy them now...</td>\n",
              "      <td>0.9805</td>\n",
              "    </tr>\n",
              "    <tr>\n",
              "      <th>141291</th>\n",
              "      <td>A1YKXVGAIA8952</td>\n",
              "      <td>B003XUL27E</td>\n",
              "      <td>1</td>\n",
              "      <td>I thought this soup would be more like a chill...</td>\n",
              "      <td>0.6953</td>\n",
              "    </tr>\n",
              "    <tr>\n",
              "      <th>141292</th>\n",
              "      <td>A2E5C8TTAED4CQ</td>\n",
              "      <td>B001EO7N10</td>\n",
              "      <td>5</td>\n",
              "      <td>You can make this mix yourself, but the Star A...</td>\n",
              "      <td>0.5251</td>\n",
              "    </tr>\n",
              "    <tr>\n",
              "      <th>141293</th>\n",
              "      <td>APWCOAVILK94B</td>\n",
              "      <td>B001EO7N10</td>\n",
              "      <td>5</td>\n",
              "      <td>Hoping there is no MSG in this, this tastes ex...</td>\n",
              "      <td>0.9020</td>\n",
              "    </tr>\n",
              "  </tbody>\n",
              "</table>\n",
              "<p>141294 rows × 5 columns</p>\n",
              "</div>\n",
              "      <button class=\"colab-df-convert\" onclick=\"convertToInteractive('df-94105ebc-e79f-4326-ba65-e32ea7dbe65f')\"\n",
              "              title=\"Convert this dataframe to an interactive table.\"\n",
              "              style=\"display:none;\">\n",
              "        \n",
              "  <svg xmlns=\"http://www.w3.org/2000/svg\" height=\"24px\"viewBox=\"0 0 24 24\"\n",
              "       width=\"24px\">\n",
              "    <path d=\"M0 0h24v24H0V0z\" fill=\"none\"/>\n",
              "    <path d=\"M18.56 5.44l.94 2.06.94-2.06 2.06-.94-2.06-.94-.94-2.06-.94 2.06-2.06.94zm-11 1L8.5 8.5l.94-2.06 2.06-.94-2.06-.94L8.5 2.5l-.94 2.06-2.06.94zm10 10l.94 2.06.94-2.06 2.06-.94-2.06-.94-.94-2.06-.94 2.06-2.06.94z\"/><path d=\"M17.41 7.96l-1.37-1.37c-.4-.4-.92-.59-1.43-.59-.52 0-1.04.2-1.43.59L10.3 9.45l-7.72 7.72c-.78.78-.78 2.05 0 2.83L4 21.41c.39.39.9.59 1.41.59.51 0 1.02-.2 1.41-.59l7.78-7.78 2.81-2.81c.8-.78.8-2.07 0-2.86zM5.41 20L4 18.59l7.72-7.72 1.47 1.35L5.41 20z\"/>\n",
              "  </svg>\n",
              "      </button>\n",
              "      \n",
              "  <style>\n",
              "    .colab-df-container {\n",
              "      display:flex;\n",
              "      flex-wrap:wrap;\n",
              "      gap: 12px;\n",
              "    }\n",
              "\n",
              "    .colab-df-convert {\n",
              "      background-color: #E8F0FE;\n",
              "      border: none;\n",
              "      border-radius: 50%;\n",
              "      cursor: pointer;\n",
              "      display: none;\n",
              "      fill: #1967D2;\n",
              "      height: 32px;\n",
              "      padding: 0 0 0 0;\n",
              "      width: 32px;\n",
              "    }\n",
              "\n",
              "    .colab-df-convert:hover {\n",
              "      background-color: #E2EBFA;\n",
              "      box-shadow: 0px 1px 2px rgba(60, 64, 67, 0.3), 0px 1px 3px 1px rgba(60, 64, 67, 0.15);\n",
              "      fill: #174EA6;\n",
              "    }\n",
              "\n",
              "    [theme=dark] .colab-df-convert {\n",
              "      background-color: #3B4455;\n",
              "      fill: #D2E3FC;\n",
              "    }\n",
              "\n",
              "    [theme=dark] .colab-df-convert:hover {\n",
              "      background-color: #434B5C;\n",
              "      box-shadow: 0px 1px 3px 1px rgba(0, 0, 0, 0.15);\n",
              "      filter: drop-shadow(0px 1px 2px rgba(0, 0, 0, 0.3));\n",
              "      fill: #FFFFFF;\n",
              "    }\n",
              "  </style>\n",
              "\n",
              "      <script>\n",
              "        const buttonEl =\n",
              "          document.querySelector('#df-94105ebc-e79f-4326-ba65-e32ea7dbe65f button.colab-df-convert');\n",
              "        buttonEl.style.display =\n",
              "          google.colab.kernel.accessAllowed ? 'block' : 'none';\n",
              "\n",
              "        async function convertToInteractive(key) {\n",
              "          const element = document.querySelector('#df-94105ebc-e79f-4326-ba65-e32ea7dbe65f');\n",
              "          const dataTable =\n",
              "            await google.colab.kernel.invokeFunction('convertToInteractive',\n",
              "                                                     [key], {});\n",
              "          if (!dataTable) return;\n",
              "\n",
              "          const docLinkHtml = 'Like what you see? Visit the ' +\n",
              "            '<a target=\"_blank\" href=https://colab.research.google.com/notebooks/data_table.ipynb>data table notebook</a>'\n",
              "            + ' to learn more about interactive tables.';\n",
              "          element.innerHTML = '';\n",
              "          dataTable['output_type'] = 'display_data';\n",
              "          await google.colab.output.renderOutput(dataTable, element);\n",
              "          const docLink = document.createElement('div');\n",
              "          docLink.innerHTML = docLinkHtml;\n",
              "          element.appendChild(docLink);\n",
              "        }\n",
              "      </script>\n",
              "    </div>\n",
              "  </div>\n",
              "  "
            ]
          },
          "metadata": {},
          "execution_count": 23
        }
      ]
    },
    {
      "cell_type": "markdown",
      "source": [
        "## **새로운 평점 컬럼 생성**\n",
        "- 기존의 평점 **`Score`**와 감성 분석으로 구한 값 **`vader_preds`**를 더하여 새로운 평점을 나타내는 칼럼 **`new_Score`**를 생성한다."
      ],
      "metadata": {
        "id": "YMEf9BFAmzhw"
      }
    },
    {
      "cell_type": "code",
      "source": [
        "reviews['new_Score'] = reviews['Score'] + reviews['vader_preds']"
      ],
      "metadata": {
        "id": "FJ00BkEImzt0"
      },
      "execution_count": null,
      "outputs": []
    },
    {
      "cell_type": "code",
      "source": [
        "reviews.head()"
      ],
      "metadata": {
        "colab": {
          "base_uri": "https://localhost:8080/",
          "height": 206
        },
        "id": "pWfsZDd-mzwX",
        "outputId": "6321e74a-f25a-43bf-8626-a2f6231063e3"
      },
      "execution_count": null,
      "outputs": [
        {
          "output_type": "execute_result",
          "data": {
            "text/plain": [
              "           UserId   ProductId  Score  \\\n",
              "0  A2725IB4YY9JEB  B0009XLVG0      5   \n",
              "1  A18ECVX2RJ7HUE  B001GVISJM      4   \n",
              "2  A2MUGFV2TDQ47K  B001GVISJM      5   \n",
              "3  A2A9X58G2GTBLP  B001GVISJM      5   \n",
              "4   AOVROBZ8BNTP7  B001EO5QW8      4   \n",
              "\n",
              "                                                Text  vader_preds  new_Score  \n",
              "0  One of my boys needed to lose some weight and ...      -0.7579     4.2421  \n",
              "1  good flavor! these came securely packed... the...       0.9466     4.9466  \n",
              "2  The Strawberry Twizzlers are my guilty pleasur...       0.6486     5.6486  \n",
              "3  Twizzlers, Strawberry my childhood favorite ca...       0.8957     5.8957  \n",
              "4  McCann's Instant Oatmeal is great if you must ...       0.7103     4.7103  "
            ],
            "text/html": [
              "\n",
              "  <div id=\"df-d154805b-7f0f-48ba-8ae0-54b9fccf3905\">\n",
              "    <div class=\"colab-df-container\">\n",
              "      <div>\n",
              "<style scoped>\n",
              "    .dataframe tbody tr th:only-of-type {\n",
              "        vertical-align: middle;\n",
              "    }\n",
              "\n",
              "    .dataframe tbody tr th {\n",
              "        vertical-align: top;\n",
              "    }\n",
              "\n",
              "    .dataframe thead th {\n",
              "        text-align: right;\n",
              "    }\n",
              "</style>\n",
              "<table border=\"1\" class=\"dataframe\">\n",
              "  <thead>\n",
              "    <tr style=\"text-align: right;\">\n",
              "      <th></th>\n",
              "      <th>UserId</th>\n",
              "      <th>ProductId</th>\n",
              "      <th>Score</th>\n",
              "      <th>Text</th>\n",
              "      <th>vader_preds</th>\n",
              "      <th>new_Score</th>\n",
              "    </tr>\n",
              "  </thead>\n",
              "  <tbody>\n",
              "    <tr>\n",
              "      <th>0</th>\n",
              "      <td>A2725IB4YY9JEB</td>\n",
              "      <td>B0009XLVG0</td>\n",
              "      <td>5</td>\n",
              "      <td>One of my boys needed to lose some weight and ...</td>\n",
              "      <td>-0.7579</td>\n",
              "      <td>4.2421</td>\n",
              "    </tr>\n",
              "    <tr>\n",
              "      <th>1</th>\n",
              "      <td>A18ECVX2RJ7HUE</td>\n",
              "      <td>B001GVISJM</td>\n",
              "      <td>4</td>\n",
              "      <td>good flavor! these came securely packed... the...</td>\n",
              "      <td>0.9466</td>\n",
              "      <td>4.9466</td>\n",
              "    </tr>\n",
              "    <tr>\n",
              "      <th>2</th>\n",
              "      <td>A2MUGFV2TDQ47K</td>\n",
              "      <td>B001GVISJM</td>\n",
              "      <td>5</td>\n",
              "      <td>The Strawberry Twizzlers are my guilty pleasur...</td>\n",
              "      <td>0.6486</td>\n",
              "      <td>5.6486</td>\n",
              "    </tr>\n",
              "    <tr>\n",
              "      <th>3</th>\n",
              "      <td>A2A9X58G2GTBLP</td>\n",
              "      <td>B001GVISJM</td>\n",
              "      <td>5</td>\n",
              "      <td>Twizzlers, Strawberry my childhood favorite ca...</td>\n",
              "      <td>0.8957</td>\n",
              "      <td>5.8957</td>\n",
              "    </tr>\n",
              "    <tr>\n",
              "      <th>4</th>\n",
              "      <td>AOVROBZ8BNTP7</td>\n",
              "      <td>B001EO5QW8</td>\n",
              "      <td>4</td>\n",
              "      <td>McCann's Instant Oatmeal is great if you must ...</td>\n",
              "      <td>0.7103</td>\n",
              "      <td>4.7103</td>\n",
              "    </tr>\n",
              "  </tbody>\n",
              "</table>\n",
              "</div>\n",
              "      <button class=\"colab-df-convert\" onclick=\"convertToInteractive('df-d154805b-7f0f-48ba-8ae0-54b9fccf3905')\"\n",
              "              title=\"Convert this dataframe to an interactive table.\"\n",
              "              style=\"display:none;\">\n",
              "        \n",
              "  <svg xmlns=\"http://www.w3.org/2000/svg\" height=\"24px\"viewBox=\"0 0 24 24\"\n",
              "       width=\"24px\">\n",
              "    <path d=\"M0 0h24v24H0V0z\" fill=\"none\"/>\n",
              "    <path d=\"M18.56 5.44l.94 2.06.94-2.06 2.06-.94-2.06-.94-.94-2.06-.94 2.06-2.06.94zm-11 1L8.5 8.5l.94-2.06 2.06-.94-2.06-.94L8.5 2.5l-.94 2.06-2.06.94zm10 10l.94 2.06.94-2.06 2.06-.94-2.06-.94-.94-2.06-.94 2.06-2.06.94z\"/><path d=\"M17.41 7.96l-1.37-1.37c-.4-.4-.92-.59-1.43-.59-.52 0-1.04.2-1.43.59L10.3 9.45l-7.72 7.72c-.78.78-.78 2.05 0 2.83L4 21.41c.39.39.9.59 1.41.59.51 0 1.02-.2 1.41-.59l7.78-7.78 2.81-2.81c.8-.78.8-2.07 0-2.86zM5.41 20L4 18.59l7.72-7.72 1.47 1.35L5.41 20z\"/>\n",
              "  </svg>\n",
              "      </button>\n",
              "      \n",
              "  <style>\n",
              "    .colab-df-container {\n",
              "      display:flex;\n",
              "      flex-wrap:wrap;\n",
              "      gap: 12px;\n",
              "    }\n",
              "\n",
              "    .colab-df-convert {\n",
              "      background-color: #E8F0FE;\n",
              "      border: none;\n",
              "      border-radius: 50%;\n",
              "      cursor: pointer;\n",
              "      display: none;\n",
              "      fill: #1967D2;\n",
              "      height: 32px;\n",
              "      padding: 0 0 0 0;\n",
              "      width: 32px;\n",
              "    }\n",
              "\n",
              "    .colab-df-convert:hover {\n",
              "      background-color: #E2EBFA;\n",
              "      box-shadow: 0px 1px 2px rgba(60, 64, 67, 0.3), 0px 1px 3px 1px rgba(60, 64, 67, 0.15);\n",
              "      fill: #174EA6;\n",
              "    }\n",
              "\n",
              "    [theme=dark] .colab-df-convert {\n",
              "      background-color: #3B4455;\n",
              "      fill: #D2E3FC;\n",
              "    }\n",
              "\n",
              "    [theme=dark] .colab-df-convert:hover {\n",
              "      background-color: #434B5C;\n",
              "      box-shadow: 0px 1px 3px 1px rgba(0, 0, 0, 0.15);\n",
              "      filter: drop-shadow(0px 1px 2px rgba(0, 0, 0, 0.3));\n",
              "      fill: #FFFFFF;\n",
              "    }\n",
              "  </style>\n",
              "\n",
              "      <script>\n",
              "        const buttonEl =\n",
              "          document.querySelector('#df-d154805b-7f0f-48ba-8ae0-54b9fccf3905 button.colab-df-convert');\n",
              "        buttonEl.style.display =\n",
              "          google.colab.kernel.accessAllowed ? 'block' : 'none';\n",
              "\n",
              "        async function convertToInteractive(key) {\n",
              "          const element = document.querySelector('#df-d154805b-7f0f-48ba-8ae0-54b9fccf3905');\n",
              "          const dataTable =\n",
              "            await google.colab.kernel.invokeFunction('convertToInteractive',\n",
              "                                                     [key], {});\n",
              "          if (!dataTable) return;\n",
              "\n",
              "          const docLinkHtml = 'Like what you see? Visit the ' +\n",
              "            '<a target=\"_blank\" href=https://colab.research.google.com/notebooks/data_table.ipynb>data table notebook</a>'\n",
              "            + ' to learn more about interactive tables.';\n",
              "          element.innerHTML = '';\n",
              "          dataTable['output_type'] = 'display_data';\n",
              "          await google.colab.output.renderOutput(dataTable, element);\n",
              "          const docLink = document.createElement('div');\n",
              "          docLink.innerHTML = docLinkHtml;\n",
              "          element.appendChild(docLink);\n",
              "        }\n",
              "      </script>\n",
              "    </div>\n",
              "  </div>\n",
              "  "
            ]
          },
          "metadata": {},
          "execution_count": 25
        }
      ]
    },
    {
      "cell_type": "markdown",
      "source": [
        "### **데이터셋 복사본 생성**"
      ],
      "metadata": {
        "id": "ozsAJj6Jp6x7"
      }
    },
    {
      "cell_type": "code",
      "source": [
        "scores = reviews.copy()\n",
        "scores.drop(['Score', 'Text', 'vader_preds'], axis=1, inplace=True)"
      ],
      "metadata": {
        "id": "LtjU_4HVp8e2"
      },
      "execution_count": null,
      "outputs": []
    },
    {
      "cell_type": "code",
      "source": [
        "# surprise에서 사용하기 위해 컬럼명 변경\n",
        "scores.columns = ['user', 'item', 'rating']\n",
        "scores.head()"
      ],
      "metadata": {
        "colab": {
          "base_uri": "https://localhost:8080/",
          "height": 206
        },
        "id": "b4dxFYh7p2-1",
        "outputId": "99a7ae0d-f391-4dd0-e921-a853dbc26ffd"
      },
      "execution_count": null,
      "outputs": [
        {
          "output_type": "execute_result",
          "data": {
            "text/plain": [
              "             user        item  rating\n",
              "0  A2725IB4YY9JEB  B0009XLVG0  4.2421\n",
              "1  A18ECVX2RJ7HUE  B001GVISJM  4.9466\n",
              "2  A2MUGFV2TDQ47K  B001GVISJM  5.6486\n",
              "3  A2A9X58G2GTBLP  B001GVISJM  5.8957\n",
              "4   AOVROBZ8BNTP7  B001EO5QW8  4.7103"
            ],
            "text/html": [
              "\n",
              "  <div id=\"df-83fc066f-0f85-4d49-b7ba-468f3f1288b0\">\n",
              "    <div class=\"colab-df-container\">\n",
              "      <div>\n",
              "<style scoped>\n",
              "    .dataframe tbody tr th:only-of-type {\n",
              "        vertical-align: middle;\n",
              "    }\n",
              "\n",
              "    .dataframe tbody tr th {\n",
              "        vertical-align: top;\n",
              "    }\n",
              "\n",
              "    .dataframe thead th {\n",
              "        text-align: right;\n",
              "    }\n",
              "</style>\n",
              "<table border=\"1\" class=\"dataframe\">\n",
              "  <thead>\n",
              "    <tr style=\"text-align: right;\">\n",
              "      <th></th>\n",
              "      <th>user</th>\n",
              "      <th>item</th>\n",
              "      <th>rating</th>\n",
              "    </tr>\n",
              "  </thead>\n",
              "  <tbody>\n",
              "    <tr>\n",
              "      <th>0</th>\n",
              "      <td>A2725IB4YY9JEB</td>\n",
              "      <td>B0009XLVG0</td>\n",
              "      <td>4.2421</td>\n",
              "    </tr>\n",
              "    <tr>\n",
              "      <th>1</th>\n",
              "      <td>A18ECVX2RJ7HUE</td>\n",
              "      <td>B001GVISJM</td>\n",
              "      <td>4.9466</td>\n",
              "    </tr>\n",
              "    <tr>\n",
              "      <th>2</th>\n",
              "      <td>A2MUGFV2TDQ47K</td>\n",
              "      <td>B001GVISJM</td>\n",
              "      <td>5.6486</td>\n",
              "    </tr>\n",
              "    <tr>\n",
              "      <th>3</th>\n",
              "      <td>A2A9X58G2GTBLP</td>\n",
              "      <td>B001GVISJM</td>\n",
              "      <td>5.8957</td>\n",
              "    </tr>\n",
              "    <tr>\n",
              "      <th>4</th>\n",
              "      <td>AOVROBZ8BNTP7</td>\n",
              "      <td>B001EO5QW8</td>\n",
              "      <td>4.7103</td>\n",
              "    </tr>\n",
              "  </tbody>\n",
              "</table>\n",
              "</div>\n",
              "      <button class=\"colab-df-convert\" onclick=\"convertToInteractive('df-83fc066f-0f85-4d49-b7ba-468f3f1288b0')\"\n",
              "              title=\"Convert this dataframe to an interactive table.\"\n",
              "              style=\"display:none;\">\n",
              "        \n",
              "  <svg xmlns=\"http://www.w3.org/2000/svg\" height=\"24px\"viewBox=\"0 0 24 24\"\n",
              "       width=\"24px\">\n",
              "    <path d=\"M0 0h24v24H0V0z\" fill=\"none\"/>\n",
              "    <path d=\"M18.56 5.44l.94 2.06.94-2.06 2.06-.94-2.06-.94-.94-2.06-.94 2.06-2.06.94zm-11 1L8.5 8.5l.94-2.06 2.06-.94-2.06-.94L8.5 2.5l-.94 2.06-2.06.94zm10 10l.94 2.06.94-2.06 2.06-.94-2.06-.94-.94-2.06-.94 2.06-2.06.94z\"/><path d=\"M17.41 7.96l-1.37-1.37c-.4-.4-.92-.59-1.43-.59-.52 0-1.04.2-1.43.59L10.3 9.45l-7.72 7.72c-.78.78-.78 2.05 0 2.83L4 21.41c.39.39.9.59 1.41.59.51 0 1.02-.2 1.41-.59l7.78-7.78 2.81-2.81c.8-.78.8-2.07 0-2.86zM5.41 20L4 18.59l7.72-7.72 1.47 1.35L5.41 20z\"/>\n",
              "  </svg>\n",
              "      </button>\n",
              "      \n",
              "  <style>\n",
              "    .colab-df-container {\n",
              "      display:flex;\n",
              "      flex-wrap:wrap;\n",
              "      gap: 12px;\n",
              "    }\n",
              "\n",
              "    .colab-df-convert {\n",
              "      background-color: #E8F0FE;\n",
              "      border: none;\n",
              "      border-radius: 50%;\n",
              "      cursor: pointer;\n",
              "      display: none;\n",
              "      fill: #1967D2;\n",
              "      height: 32px;\n",
              "      padding: 0 0 0 0;\n",
              "      width: 32px;\n",
              "    }\n",
              "\n",
              "    .colab-df-convert:hover {\n",
              "      background-color: #E2EBFA;\n",
              "      box-shadow: 0px 1px 2px rgba(60, 64, 67, 0.3), 0px 1px 3px 1px rgba(60, 64, 67, 0.15);\n",
              "      fill: #174EA6;\n",
              "    }\n",
              "\n",
              "    [theme=dark] .colab-df-convert {\n",
              "      background-color: #3B4455;\n",
              "      fill: #D2E3FC;\n",
              "    }\n",
              "\n",
              "    [theme=dark] .colab-df-convert:hover {\n",
              "      background-color: #434B5C;\n",
              "      box-shadow: 0px 1px 3px 1px rgba(0, 0, 0, 0.15);\n",
              "      filter: drop-shadow(0px 1px 2px rgba(0, 0, 0, 0.3));\n",
              "      fill: #FFFFFF;\n",
              "    }\n",
              "  </style>\n",
              "\n",
              "      <script>\n",
              "        const buttonEl =\n",
              "          document.querySelector('#df-83fc066f-0f85-4d49-b7ba-468f3f1288b0 button.colab-df-convert');\n",
              "        buttonEl.style.display =\n",
              "          google.colab.kernel.accessAllowed ? 'block' : 'none';\n",
              "\n",
              "        async function convertToInteractive(key) {\n",
              "          const element = document.querySelector('#df-83fc066f-0f85-4d49-b7ba-468f3f1288b0');\n",
              "          const dataTable =\n",
              "            await google.colab.kernel.invokeFunction('convertToInteractive',\n",
              "                                                     [key], {});\n",
              "          if (!dataTable) return;\n",
              "\n",
              "          const docLinkHtml = 'Like what you see? Visit the ' +\n",
              "            '<a target=\"_blank\" href=https://colab.research.google.com/notebooks/data_table.ipynb>data table notebook</a>'\n",
              "            + ' to learn more about interactive tables.';\n",
              "          element.innerHTML = '';\n",
              "          dataTable['output_type'] = 'display_data';\n",
              "          await google.colab.output.renderOutput(dataTable, element);\n",
              "          const docLink = document.createElement('div');\n",
              "          docLink.innerHTML = docLinkHtml;\n",
              "          element.appendChild(docLink);\n",
              "        }\n",
              "      </script>\n",
              "    </div>\n",
              "  </div>\n",
              "  "
            ]
          },
          "metadata": {},
          "execution_count": 27
        }
      ]
    },
    {
      "cell_type": "markdown",
      "source": [
        "## **추천 시스템 구현을 위해 Surprise 데이터셋으로 로딩**"
      ],
      "metadata": {
        "id": "I_cJwVUPqE6i"
      }
    },
    {
      "cell_type": "code",
      "source": [
        "!pip install scikit-surprise"
      ],
      "metadata": {
        "colab": {
          "base_uri": "https://localhost:8080/"
        },
        "id": "zexSbCA8qVGA",
        "outputId": "eab944c2-7478-4230-e1a0-19ac2d686e1e"
      },
      "execution_count": null,
      "outputs": [
        {
          "output_type": "stream",
          "name": "stdout",
          "text": [
            "Looking in indexes: https://pypi.org/simple, https://us-python.pkg.dev/colab-wheels/public/simple/\n",
            "Collecting scikit-surprise\n",
            "  Downloading scikit-surprise-1.1.3.tar.gz (771 kB)\n",
            "\u001b[?25l     \u001b[90m━━━━━━━━━━━━━━━━━━━━━━━━━━━━━━━━━━━━━━━━\u001b[0m \u001b[32m0.0/772.0 KB\u001b[0m \u001b[31m?\u001b[0m eta \u001b[36m-:--:--\u001b[0m\r\u001b[2K     \u001b[90m━━━━━━━━━━━━━━━━━━━━━━━━━━━━━━━━━━━━━━\u001b[0m \u001b[32m772.0/772.0 KB\u001b[0m \u001b[31m37.9 MB/s\u001b[0m eta \u001b[36m0:00:00\u001b[0m\n",
            "\u001b[?25h  Preparing metadata (setup.py) ... \u001b[?25l\u001b[?25hdone\n",
            "Requirement already satisfied: joblib>=1.0.0 in /usr/local/lib/python3.8/dist-packages (from scikit-surprise) (1.2.0)\n",
            "Requirement already satisfied: numpy>=1.17.3 in /usr/local/lib/python3.8/dist-packages (from scikit-surprise) (1.21.6)\n",
            "Requirement already satisfied: scipy>=1.3.2 in /usr/local/lib/python3.8/dist-packages (from scikit-surprise) (1.7.3)\n",
            "Building wheels for collected packages: scikit-surprise\n",
            "  Building wheel for scikit-surprise (setup.py) ... \u001b[?25l\u001b[?25hdone\n",
            "  Created wheel for scikit-surprise: filename=scikit_surprise-1.1.3-cp38-cp38-linux_x86_64.whl size=3366481 sha256=296b5f009665567a65c1e06bc0b8643261a802056ad8877723a7157f0aad2ce6\n",
            "  Stored in directory: /root/.cache/pip/wheels/af/db/86/2c18183a80ba05da35bf0fb7417aac5cddbd93bcb1b92fd3ea\n",
            "Successfully built scikit-surprise\n",
            "Installing collected packages: scikit-surprise\n",
            "Successfully installed scikit-surprise-1.1.3\n"
          ]
        }
      ]
    },
    {
      "cell_type": "code",
      "source": [
        "from surprise import Reader, Dataset\n",
        "from surprise.dataset import DatasetAutoFolds"
      ],
      "metadata": {
        "id": "kkNm5UkCqVIk"
      },
      "execution_count": null,
      "outputs": []
    },
    {
      "cell_type": "markdown",
      "source": [
        "- 새로운 평점 데이터는 감성 분석 데이터 결과이 더해져 범위가 -1~6이다. 이를 반영하여, `Reader` 객체를 생성할 때 `rating_sclae` 옵션에 tuple 형태로 입력해주었다.\n",
        "- 전체 데이터를 학습 데이터로 사용하기 위해 `data`에 `build_full_trainset()` API를 적용하였다."
      ],
      "metadata": {
        "id": "pbak5LfzqcmU"
      }
    },
    {
      "cell_type": "code",
      "source": [
        "reader = Reader(rating_scale=(-1.0, 6.0))\n",
        "data = Dataset.load_from_df(scores, reader)"
      ],
      "metadata": {
        "id": "JjOR2GG0qasa"
      },
      "execution_count": null,
      "outputs": []
    },
    {
      "cell_type": "code",
      "source": [
        "# 전체 데이터를 학습 데이터로\n",
        "trainset = data.build_full_trainset()"
      ],
      "metadata": {
        "id": "dpTAPIQUqbA3"
      },
      "execution_count": null,
      "outputs": []
    },
    {
      "cell_type": "markdown",
      "source": [
        "## **해당 데이터셋에서 각 알고리즘의 성능 확인**"
      ],
      "metadata": {
        "id": "CLlHYIg4qVWn"
      }
    },
    {
      "cell_type": "code",
      "source": [
        "# 훈련/테스트 데이터셋 준비\n",
        "from surprise.model_selection import train_test_split\n",
        "train, test = train_test_split(data, test_size=0.25, random_state=42)"
      ],
      "metadata": {
        "id": "R_EeF7WGqmFr"
      },
      "execution_count": null,
      "outputs": []
    },
    {
      "cell_type": "code",
      "source": [
        "from surprise.prediction_algorithms import KNNBasic\n",
        "from surprise.prediction_algorithms.knns import KNNBaseline\n",
        "from surprise.prediction_algorithms.baseline_only import BaselineOnly\n",
        "from surprise import SVD\n",
        "\n",
        "from surprise import accuracy"
      ],
      "metadata": {
        "id": "Rm0iWw0DqmHr"
      },
      "execution_count": null,
      "outputs": []
    },
    {
      "cell_type": "markdown",
      "source": [
        "### **KNNBasic()**"
      ],
      "metadata": {
        "id": "SXrI866pqy_3"
      }
    },
    {
      "cell_type": "code",
      "source": [
        "knn_test = KNNBasic()\n",
        "knn_test.fit(train)\n",
        "\n",
        "pred1 = knn_test.test(test)\n",
        "accuracy.rmse(pred1)"
      ],
      "metadata": {
        "colab": {
          "base_uri": "https://localhost:8080/"
        },
        "id": "ONh6JGuVq4-p",
        "outputId": "799613e1-9176-448a-94ba-ceea6704d739"
      },
      "execution_count": null,
      "outputs": [
        {
          "output_type": "stream",
          "name": "stdout",
          "text": [
            "Computing the msd similarity matrix...\n",
            "Done computing similarity matrix.\n",
            "RMSE: 1.0776\n"
          ]
        },
        {
          "output_type": "execute_result",
          "data": {
            "text/plain": [
              "1.0775815959918307"
            ]
          },
          "metadata": {},
          "execution_count": 34
        }
      ]
    },
    {
      "cell_type": "markdown",
      "source": [
        "### **BaselineOnly()**"
      ],
      "metadata": {
        "id": "n0tf0tU4q6ln"
      }
    },
    {
      "cell_type": "code",
      "source": [
        "base_test = BaselineOnly()\n",
        "base_test.fit(train)\n",
        "\n",
        "pred2 = base_test.test(test)\n",
        "accuracy.rmse(pred2)"
      ],
      "metadata": {
        "colab": {
          "base_uri": "https://localhost:8080/"
        },
        "id": "pm7UH6n8q94w",
        "outputId": "ffc7d49f-8249-4103-fd4a-a43fc5a1fe3e"
      },
      "execution_count": null,
      "outputs": [
        {
          "output_type": "stream",
          "name": "stdout",
          "text": [
            "Estimating biases using als...\n",
            "RMSE: 1.1652\n"
          ]
        },
        {
          "output_type": "execute_result",
          "data": {
            "text/plain": [
              "1.1651905507226685"
            ]
          },
          "metadata": {},
          "execution_count": 35
        }
      ]
    },
    {
      "cell_type": "markdown",
      "source": [
        "### **SVD()**"
      ],
      "metadata": {
        "id": "AD_JK_b_q-Bi"
      }
    },
    {
      "cell_type": "code",
      "source": [
        "svd_test = SVD(biased=True)\n",
        "svd_test.fit(train)\n",
        "\n",
        "pred3 = svd_test.test(test)\n",
        "accuracy.rmse(pred3)"
      ],
      "metadata": {
        "colab": {
          "base_uri": "https://localhost:8080/"
        },
        "id": "ABx43LHuq-Rj",
        "outputId": "bb43fd1d-ea12-47ec-867b-ecc1542a8123"
      },
      "execution_count": null,
      "outputs": [
        {
          "output_type": "stream",
          "name": "stdout",
          "text": [
            "RMSE: 1.0189\n"
          ]
        },
        {
          "output_type": "execute_result",
          "data": {
            "text/plain": [
              "1.0189390605397546"
            ]
          },
          "metadata": {},
          "execution_count": 37
        }
      ]
    },
    {
      "cell_type": "markdown",
      "source": [
        "## **추천 시스템을 구현하기 위해 필요한 함수 생성**\n",
        "- 사용자가 구매한 적 없는 상품 리스트를 저장하는 함수 **`get_unpurchased`**\n",
        "- 입력된 알고리즘을 이용하여, TOP-N개의 상품을 추천하는 함수 **`recommend`**"
      ],
      "metadata": {
        "id": "fQVCBAkdrLT4"
      }
    },
    {
      "cell_type": "code",
      "source": [
        "def get_unpurchased(data, userId):\n",
        "    # 사용자가 평점을 매긴 모든 상품 목록을 리스트로 생성\n",
        "    purchased = list(set(data[data['user']== userId]['item'].tolist()))\n",
        "\n",
        "    # 모든 상품 목록을 리스트로 생성\n",
        "    total = list(set(data['item'].tolist()))\n",
        "\n",
        "    # 모든 상품들 중 이미 평점을 매긴 상품을 제외하여 리스트로 생성\n",
        "    unpurchased= list(set([x for x in total if x not in purchased]))\n",
        "\n",
        "    print('평점 매긴 상품 수:',len(purchased), '추천 대상인 상품 수:',len(unpurchased), '전체 상품 수:',len(total))\n",
        "\n",
        "    return unpurchased"
      ],
      "metadata": {
        "id": "0qsZyE7SrQKk"
      },
      "execution_count": null,
      "outputs": []
    },
    {
      "cell_type": "code",
      "source": [
        "def recommend(algo, userId, unpurchased, top_n=10):\n",
        "    # 알고리즘 객체의 predict() 메서드를 평점이 없는 상품에 반복 수행한 후 결과를 list 객체로 저장\n",
        "    predictions = [algo.predict(userId, productId) for productId in unpurchased]\n",
        "\n",
        "    # predictions list 객체는 surprise의 Predictions 객체를 원소로 가지고 있음.\n",
        "    # [Prediction(uid='9', iid='1', est=3.69), Prediction(uid='9', iid='2', est=2.98),,,,]\n",
        "    # 이를 est 값으로 정렬하기 위해서 아래의 sortkey_est 함수를 정의함.\n",
        "    # sortkey_est 함수는 list 객체의 sort() 함수의 키 값으로 사용되어 정렬 수행\n",
        "    def sortkey_est(pred):\n",
        "        return pred.est\n",
        "\n",
        "    # sortkey_est( ) 반환값의 내림 차순으로 정렬 수행하고 top_n개의 최상위 값 추출.\n",
        "    predictions.sort(key=sortkey_est, reverse=True)\n",
        "    top_predictions= predictions[:top_n]\n",
        "\n",
        "    # top_n으로 추출된 상품 코드와 추천 예상 평점 추출\n",
        "    top_items = [pred.iid for pred in top_predictions]\n",
        "    top_ratings = [pred.est for pred in top_predictions]\n",
        "    top_preds = [(item, rating) for item, rating in zip(top_items,  top_ratings)]\n",
        "\n",
        "    return top_preds"
      ],
      "metadata": {
        "id": "9lrgzpAmrT4V"
      },
      "execution_count": null,
      "outputs": []
    },
    {
      "cell_type": "markdown",
      "source": [
        "## **추천 시스템 구현**\n",
        "- 추천을 받을 고객의 ID를 'A18ECVX2RJ7HUE'로 선택한다.\n",
        "- **`get_unpurchased`** 함수를 이용하여 해당 user가 평점을 매긴 상품 수, 추천의 대상이 되는 상품 수, 전체 상품 수를 구한다."
      ],
      "metadata": {
        "id": "LH1Um8iXrVzt"
      }
    },
    {
      "cell_type": "code",
      "source": [
        "user_id = 'A18ECVX2RJ7HUE'"
      ],
      "metadata": {
        "id": "L2OsEFljt8H_"
      },
      "execution_count": null,
      "outputs": []
    },
    {
      "cell_type": "code",
      "source": [
        "unpurchased = get_unpurchased(scores, user_id)"
      ],
      "metadata": {
        "colab": {
          "base_uri": "https://localhost:8080/"
        },
        "id": "BO5EPFpGulGy",
        "outputId": "eb3b514b-d849-4334-f60a-08566ffa7308"
      },
      "execution_count": null,
      "outputs": [
        {
          "output_type": "stream",
          "name": "stdout",
          "text": [
            "평점 매긴 상품 수: 20 추천 대상인 상품 수: 27365 전체 상품 수: 27385\n"
          ]
        }
      ]
    },
    {
      "cell_type": "markdown",
      "source": [
        "### **Surprise 패키지를 이용한 최근접 이웃 방식(KNNBasic) 추천 시스템 구현**"
      ],
      "metadata": {
        "id": "8gZjwV-Xt8PX"
      }
    },
    {
      "cell_type": "code",
      "source": [
        "from surprise.prediction_algorithms import KNNBasic\n",
        "\n",
        "knn = KNNBasic()\n",
        "knn.fit(trainset)"
      ],
      "metadata": {
        "colab": {
          "base_uri": "https://localhost:8080/"
        },
        "id": "0YwsVAO3rZ3B",
        "outputId": "5d3b999b-b75b-4018-fcf1-7493a775e3de"
      },
      "execution_count": null,
      "outputs": [
        {
          "output_type": "stream",
          "name": "stdout",
          "text": [
            "Computing the msd similarity matrix...\n",
            "Done computing similarity matrix.\n"
          ]
        },
        {
          "output_type": "execute_result",
          "data": {
            "text/plain": [
              "<surprise.prediction_algorithms.knns.KNNBasic at 0x7fc42e9f1940>"
            ]
          },
          "metadata": {},
          "execution_count": 40
        }
      ]
    },
    {
      "cell_type": "code",
      "source": [
        "top_preds = recommend(knn, user_id, unpurchased, top_n=10)\n",
        "\n",
        "print('###{0}의 Top-10 추천 상품 리스트 ###'.format(user_id))\n",
        "for product in top_preds:\n",
        "    print(product[0], \":\", product[1])"
      ],
      "metadata": {
        "colab": {
          "base_uri": "https://localhost:8080/"
        },
        "id": "28wlirsmrc9N",
        "outputId": "70061e55-485f-4b73-e064-532a8ae18ffa"
      },
      "execution_count": null,
      "outputs": [
        {
          "output_type": "stream",
          "name": "stdout",
          "text": [
            "###A18ECVX2RJ7HUE의 Top-10 추천 상품 리스트 ###\n",
            "B00113HA3A : 5.9996\n",
            "B000J4IDP6 : 5.9993\n",
            "B001KUWFL6 : 5.999199999999999\n",
            "B005HQQSAI : 5.998999999999999\n",
            "B005ISYJRY : 5.9989\n",
            "B001BCUBTQ : 5.9989\n",
            "B004F499PE : 5.9989\n",
            "B001BCUBZ0 : 5.9989\n",
            "B000CQBZRE : 5.9988\n",
            "B005JDTUX6 : 5.9987\n"
          ]
        }
      ]
    },
    {
      "cell_type": "markdown",
      "source": [
        "### **Surprise 패키지를 이용한 베이스라인(BaselineOnly) 추천 시스템 구현**"
      ],
      "metadata": {
        "id": "8VqPLWSnraOK"
      }
    },
    {
      "cell_type": "code",
      "source": [
        "from surprise.prediction_algorithms.baseline_only import BaselineOnly\n",
        "\n",
        "base = BaselineOnly()\n",
        "base.fit(trainset)"
      ],
      "metadata": {
        "colab": {
          "base_uri": "https://localhost:8080/"
        },
        "id": "wkHKh8KWrap4",
        "outputId": "ad9d0c3c-bdcf-4bbc-cefa-592e87db6743"
      },
      "execution_count": null,
      "outputs": [
        {
          "output_type": "stream",
          "name": "stdout",
          "text": [
            "Estimating biases using als...\n"
          ]
        },
        {
          "output_type": "execute_result",
          "data": {
            "text/plain": [
              "<surprise.prediction_algorithms.baseline_only.BaselineOnly at 0x7fc42e45d220>"
            ]
          },
          "metadata": {},
          "execution_count": 57
        }
      ]
    },
    {
      "cell_type": "code",
      "source": [
        "top_preds = recommend(base, user_id, unpurchased, top_n=10)\n",
        "\n",
        "print('###{0}의 Top-10 추천 상품 리스트 ###'.format(user_id))\n",
        "for product in top_preds:\n",
        "    print(product[0], \":\", product[1])"
      ],
      "metadata": {
        "colab": {
          "base_uri": "https://localhost:8080/"
        },
        "id": "XLpKTcp6tBY7",
        "outputId": "049b4428-93f8-40b6-9bac-21c04957b373"
      },
      "execution_count": null,
      "outputs": [
        {
          "output_type": "stream",
          "name": "stdout",
          "text": [
            "###A18ECVX2RJ7HUE의 Top-10 추천 상품 리스트 ###\n",
            "B000ED9L9E : 5.609637898728727\n",
            "B001CWX7EG : 5.549320531876754\n",
            "B001CWSKFC : 5.549320531876754\n",
            "B000EVG8FQ : 5.549320531876754\n",
            "B000EVG8HY : 5.549320531876754\n",
            "B001CWV4RS : 5.549320531876754\n",
            "B000EVIDWW : 5.549320531876754\n",
            "B000H7ELTW : 5.52413282465422\n",
            "B001PICX42 : 5.486985544913052\n",
            "B000V17MLS : 5.482414417634014\n"
          ]
        }
      ]
    },
    {
      "cell_type": "markdown",
      "source": [
        "### **Surprise 패키지를 이용한 잠재 요인 방식(SVD) 추천 시스템 구현**"
      ],
      "metadata": {
        "id": "f9_eHOX4tK86"
      }
    },
    {
      "cell_type": "code",
      "source": [
        "from surprise import SVD\n",
        "\n",
        "svd = SVD(biased=True)\n",
        "svd.fit(trainset)"
      ],
      "metadata": {
        "colab": {
          "base_uri": "https://localhost:8080/"
        },
        "id": "ioZvLototPD6",
        "outputId": "b41aaf70-601e-4df0-c5d7-e3080613f413"
      },
      "execution_count": null,
      "outputs": [
        {
          "output_type": "execute_result",
          "data": {
            "text/plain": [
              "<surprise.prediction_algorithms.matrix_factorization.SVD at 0x7fc42e9f1340>"
            ]
          },
          "metadata": {},
          "execution_count": 48
        }
      ]
    },
    {
      "cell_type": "code",
      "source": [
        "top_preds = recommend(svd, user_id, unpurchased, top_n=10)\n",
        "\n",
        "print('###{0}의 Top-10 추천 상품 리스트 ###'.format(user_id))\n",
        "for product in top_preds:\n",
        "    print(product[0], \":\", product[1])"
      ],
      "metadata": {
        "colab": {
          "base_uri": "https://localhost:8080/"
        },
        "id": "w_pB3Kkfubvy",
        "outputId": "9a94d407-3c05-4949-a267-9214d2771d87"
      },
      "execution_count": null,
      "outputs": [
        {
          "output_type": "stream",
          "name": "stdout",
          "text": [
            "###A18ECVX2RJ7HUE의 Top-10 추천 상품 리스트 ###\n",
            "B001ONPMN2 : 5.867138375570361\n",
            "B004OW342G : 5.758456260035832\n",
            "B000G82L62 : 5.70908209601964\n",
            "B000H7ELTW : 5.706900523732296\n",
            "B001E5E05G : 5.703920387785711\n",
            "B001EO6ESS : 5.680330138556207\n",
            "B005QRPH78 : 5.6575327752757625\n",
            "B001E5E1WS : 5.6519652181441655\n",
            "B002N7OCGQ : 5.642107466538191\n",
            "B001ONVON4 : 5.6417021526843545\n"
          ]
        }
      ]
    }
  ]
}