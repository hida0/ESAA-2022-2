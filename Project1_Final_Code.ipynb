{
  "cells": [
    {
      "cell_type": "markdown",
      "metadata": {
        "id": "view-in-github",
        "colab_type": "text"
      },
      "source": [
        "<a href=\"https://colab.research.google.com/github/hida0/ESAA-2022-2/blob/Project/Project1_Final_Code.ipynb\" target=\"_parent\"><img src=\"https://colab.research.google.com/assets/colab-badge.svg\" alt=\"Open In Colab\"/></a>"
      ]
    },
    {
      "cell_type": "markdown",
      "source": [
        "## **월간 신용카드 사용자 연체 예측 AI 경진대회**\n",
        "[신용카드 예측 경진대회](https://dacon.io/competitions/official/235713/data)\n",
        "- 신용카드 사용자 데이터를 보고 사용자의 대금 연체 정도를 예측하는 알고리즘을 개발하는 프로젝트를 수행한다."
      ],
      "metadata": {
        "id": "ZxxTUqkXzcy2"
      }
    },
    {
      "cell_type": "code",
      "execution_count": null,
      "metadata": {
        "colab": {
          "base_uri": "https://localhost:8080/"
        },
        "id": "8a7TyoLI07_m",
        "outputId": "39025cfb-b89b-48e2-d06f-ec718d794173"
      },
      "outputs": [
        {
          "output_type": "stream",
          "name": "stdout",
          "text": [
            "Mounted at /content/drive\n"
          ]
        }
      ],
      "source": [
        "# 구글 드라이브 어마운트\n",
        "from google.colab import drive\n",
        "drive.mount('/content/drive')"
      ]
    },
    {
      "cell_type": "markdown",
      "metadata": {
        "id": "NV19wzx1CGnO"
      },
      "source": [
        "#### **라이브러리 임포트**"
      ]
    },
    {
      "cell_type": "code",
      "execution_count": null,
      "metadata": {
        "id": "HXt2HN3c1VKx"
      },
      "outputs": [],
      "source": [
        "import numpy as np\n",
        "import pandas as pd\n",
        "import matplotlib.pyplot as plt\n",
        "%matplotlib inline\n",
        "import seaborn as sns\n",
        "import io\n",
        "\n",
        "import warnings\n",
        "warnings.filterwarnings('ignore')\n",
        "\n",
        "from scipy import stats\n",
        "from scipy.stats import norm, skew"
      ]
    },
    {
      "cell_type": "code",
      "execution_count": null,
      "metadata": {
        "colab": {
          "base_uri": "https://localhost:8080/"
        },
        "id": "Oe-vssAkCKe_",
        "outputId": "c5a77bb8-26cd-4878-8e2c-f8c837b99c3b"
      },
      "outputs": [
        {
          "output_type": "stream",
          "name": "stdout",
          "text": [
            "Looking in indexes: https://pypi.org/simple, https://us-python.pkg.dev/colab-wheels/public/simple/\n",
            "Collecting category_encoders\n",
            "  Downloading category_encoders-2.5.1.post0-py2.py3-none-any.whl (72 kB)\n",
            "\u001b[K     |████████████████████████████████| 72 kB 621 kB/s \n",
            "\u001b[?25hRequirement already satisfied: statsmodels>=0.9.0 in /usr/local/lib/python3.7/dist-packages (from category_encoders) (0.12.2)\n",
            "Requirement already satisfied: numpy>=1.14.0 in /usr/local/lib/python3.7/dist-packages (from category_encoders) (1.21.6)\n",
            "Requirement already satisfied: patsy>=0.5.1 in /usr/local/lib/python3.7/dist-packages (from category_encoders) (0.5.2)\n",
            "Requirement already satisfied: scipy>=1.0.0 in /usr/local/lib/python3.7/dist-packages (from category_encoders) (1.7.3)\n",
            "Requirement already satisfied: pandas>=1.0.5 in /usr/local/lib/python3.7/dist-packages (from category_encoders) (1.3.5)\n",
            "Requirement already satisfied: scikit-learn>=0.20.0 in /usr/local/lib/python3.7/dist-packages (from category_encoders) (1.0.2)\n",
            "Requirement already satisfied: python-dateutil>=2.7.3 in /usr/local/lib/python3.7/dist-packages (from pandas>=1.0.5->category_encoders) (2.8.2)\n",
            "Requirement already satisfied: pytz>=2017.3 in /usr/local/lib/python3.7/dist-packages (from pandas>=1.0.5->category_encoders) (2022.4)\n",
            "Requirement already satisfied: six in /usr/local/lib/python3.7/dist-packages (from patsy>=0.5.1->category_encoders) (1.15.0)\n",
            "Requirement already satisfied: threadpoolctl>=2.0.0 in /usr/local/lib/python3.7/dist-packages (from scikit-learn>=0.20.0->category_encoders) (3.1.0)\n",
            "Requirement already satisfied: joblib>=0.11 in /usr/local/lib/python3.7/dist-packages (from scikit-learn>=0.20.0->category_encoders) (1.2.0)\n",
            "Installing collected packages: category-encoders\n",
            "Successfully installed category-encoders-2.5.1.post0\n",
            "Looking in indexes: https://pypi.org/simple, https://us-python.pkg.dev/colab-wheels/public/simple/\n",
            "Collecting catboost\n",
            "  Downloading catboost-1.1-cp37-none-manylinux1_x86_64.whl (76.8 MB)\n",
            "\u001b[K     |████████████████████████████████| 76.8 MB 1.3 MB/s \n",
            "\u001b[?25hRequirement already satisfied: plotly in /usr/local/lib/python3.7/dist-packages (from catboost) (5.5.0)\n",
            "Requirement already satisfied: numpy>=1.16.0 in /usr/local/lib/python3.7/dist-packages (from catboost) (1.21.6)\n",
            "Requirement already satisfied: graphviz in /usr/local/lib/python3.7/dist-packages (from catboost) (0.10.1)\n",
            "Requirement already satisfied: matplotlib in /usr/local/lib/python3.7/dist-packages (from catboost) (3.2.2)\n",
            "Requirement already satisfied: six in /usr/local/lib/python3.7/dist-packages (from catboost) (1.15.0)\n",
            "Requirement already satisfied: pandas>=0.24.0 in /usr/local/lib/python3.7/dist-packages (from catboost) (1.3.5)\n",
            "Requirement already satisfied: scipy in /usr/local/lib/python3.7/dist-packages (from catboost) (1.7.3)\n",
            "Requirement already satisfied: python-dateutil>=2.7.3 in /usr/local/lib/python3.7/dist-packages (from pandas>=0.24.0->catboost) (2.8.2)\n",
            "Requirement already satisfied: pytz>=2017.3 in /usr/local/lib/python3.7/dist-packages (from pandas>=0.24.0->catboost) (2022.4)\n",
            "Requirement already satisfied: pyparsing!=2.0.4,!=2.1.2,!=2.1.6,>=2.0.1 in /usr/local/lib/python3.7/dist-packages (from matplotlib->catboost) (3.0.9)\n",
            "Requirement already satisfied: cycler>=0.10 in /usr/local/lib/python3.7/dist-packages (from matplotlib->catboost) (0.11.0)\n",
            "Requirement already satisfied: kiwisolver>=1.0.1 in /usr/local/lib/python3.7/dist-packages (from matplotlib->catboost) (1.4.4)\n",
            "Requirement already satisfied: typing-extensions in /usr/local/lib/python3.7/dist-packages (from kiwisolver>=1.0.1->matplotlib->catboost) (4.1.1)\n",
            "Requirement already satisfied: tenacity>=6.2.0 in /usr/local/lib/python3.7/dist-packages (from plotly->catboost) (8.1.0)\n",
            "Installing collected packages: catboost\n",
            "Successfully installed catboost-1.1\n"
          ]
        }
      ],
      "source": [
        "!pip install category_encoders\n",
        "!pip install catboost"
      ]
    },
    {
      "cell_type": "code",
      "execution_count": null,
      "metadata": {
        "id": "hi2DlOiSCPX3"
      },
      "outputs": [],
      "source": [
        "from sklearn.preprocessing import LabelEncoder, StandardScaler\n",
        "from sklearn.model_selection import train_test_split, GridSearchCV, KFold, StratifiedKFold, cross_val_score, learning_curve\n",
        "from lightgbm import LGBMClassifier\n",
        "from sklearn.ensemble import RandomForestClassifier\n",
        "from xgboost import XGBClassifier\n",
        "from catboost import CatBoostClassifier, Pool\n",
        "from sklearn.metrics import accuracy_score, f1_score, log_loss\n",
        "from tensorflow.keras.utils import to_categorical\n",
        "from xgboost import plot_importance"
      ]
    },
    {
      "cell_type": "markdown",
      "metadata": {
        "id": "9jshslKZ5ICo"
      },
      "source": [
        "#### **데이터 로드**"
      ]
    },
    {
      "cell_type": "code",
      "execution_count": null,
      "metadata": {
        "id": "EkKhgd4EyzoW"
      },
      "outputs": [],
      "source": [
        "train = pd.read_csv('/content/drive/MyDrive/train.csv')\n",
        "test = pd.read_csv('/content/drive/MyDrive/test.csv')"
      ]
    },
    {
      "cell_type": "code",
      "execution_count": null,
      "metadata": {
        "colab": {
          "base_uri": "https://localhost:8080/"
        },
        "id": "oCMN-Owj3Smt",
        "outputId": "ef261a98-4613-4740-ea9a-bd97be037d96"
      },
      "outputs": [
        {
          "output_type": "stream",
          "name": "stdout",
          "text": [
            "<class 'pandas.core.frame.DataFrame'>\n",
            "RangeIndex: 26457 entries, 0 to 26456\n",
            "Data columns (total 20 columns):\n",
            " #   Column         Non-Null Count  Dtype  \n",
            "---  ------         --------------  -----  \n",
            " 0   index          26457 non-null  int64  \n",
            " 1   gender         26457 non-null  object \n",
            " 2   car            26457 non-null  object \n",
            " 3   reality        26457 non-null  object \n",
            " 4   child_num      26457 non-null  int64  \n",
            " 5   income_total   26457 non-null  float64\n",
            " 6   income_type    26457 non-null  object \n",
            " 7   edu_type       26457 non-null  object \n",
            " 8   family_type    26457 non-null  object \n",
            " 9   house_type     26457 non-null  object \n",
            " 10  DAYS_BIRTH     26457 non-null  int64  \n",
            " 11  DAYS_EMPLOYED  26457 non-null  int64  \n",
            " 12  FLAG_MOBIL     26457 non-null  int64  \n",
            " 13  work_phone     26457 non-null  int64  \n",
            " 14  phone          26457 non-null  int64  \n",
            " 15  email          26457 non-null  int64  \n",
            " 16  occyp_type     18286 non-null  object \n",
            " 17  family_size    26457 non-null  float64\n",
            " 18  begin_month    26457 non-null  float64\n",
            " 19  credit         26457 non-null  float64\n",
            "dtypes: float64(4), int64(8), object(8)\n",
            "memory usage: 4.0+ MB\n"
          ]
        }
      ],
      "source": [
        "train.info()"
      ]
    },
    {
      "cell_type": "code",
      "execution_count": null,
      "metadata": {
        "colab": {
          "base_uri": "https://localhost:8080/",
          "height": 444
        },
        "id": "Mt8kpXIA3XP9",
        "outputId": "7cfc798c-6e4b-41c6-d8b1-21f1372d28cc"
      },
      "outputs": [
        {
          "output_type": "stream",
          "name": "stdout",
          "text": [
            "(26457, 20)\n"
          ]
        },
        {
          "output_type": "execute_result",
          "data": {
            "text/plain": [
              "   index gender car reality  child_num  income_total           income_type  \\\n",
              "0      0      F   N       N          0      202500.0  Commercial associate   \n",
              "1      1      F   N       Y          1      247500.0  Commercial associate   \n",
              "2      2      M   Y       Y          0      450000.0               Working   \n",
              "3      3      F   N       Y          0      202500.0  Commercial associate   \n",
              "4      4      F   Y       Y          0      157500.0         State servant   \n",
              "\n",
              "                        edu_type     family_type           house_type  \\\n",
              "0               Higher education         Married  Municipal apartment   \n",
              "1  Secondary / secondary special  Civil marriage    House / apartment   \n",
              "2               Higher education         Married    House / apartment   \n",
              "3  Secondary / secondary special         Married    House / apartment   \n",
              "4               Higher education         Married    House / apartment   \n",
              "\n",
              "   DAYS_BIRTH  DAYS_EMPLOYED  FLAG_MOBIL  work_phone  phone  email  \\\n",
              "0      -13899          -4709           1           0      0      0   \n",
              "1      -11380          -1540           1           0      0      1   \n",
              "2      -19087          -4434           1           0      1      0   \n",
              "3      -15088          -2092           1           0      1      0   \n",
              "4      -15037          -2105           1           0      0      0   \n",
              "\n",
              "    occyp_type  family_size  begin_month  credit  \n",
              "0          NaN          2.0         -6.0     1.0  \n",
              "1     Laborers          3.0         -5.0     1.0  \n",
              "2     Managers          2.0        -22.0     2.0  \n",
              "3  Sales staff          2.0        -37.0     0.0  \n",
              "4     Managers          2.0        -26.0     2.0  "
            ],
            "text/html": [
              "\n",
              "  <div id=\"df-215cb59a-7e1d-456c-a3ad-bf347f4312fd\">\n",
              "    <div class=\"colab-df-container\">\n",
              "      <div>\n",
              "<style scoped>\n",
              "    .dataframe tbody tr th:only-of-type {\n",
              "        vertical-align: middle;\n",
              "    }\n",
              "\n",
              "    .dataframe tbody tr th {\n",
              "        vertical-align: top;\n",
              "    }\n",
              "\n",
              "    .dataframe thead th {\n",
              "        text-align: right;\n",
              "    }\n",
              "</style>\n",
              "<table border=\"1\" class=\"dataframe\">\n",
              "  <thead>\n",
              "    <tr style=\"text-align: right;\">\n",
              "      <th></th>\n",
              "      <th>index</th>\n",
              "      <th>gender</th>\n",
              "      <th>car</th>\n",
              "      <th>reality</th>\n",
              "      <th>child_num</th>\n",
              "      <th>income_total</th>\n",
              "      <th>income_type</th>\n",
              "      <th>edu_type</th>\n",
              "      <th>family_type</th>\n",
              "      <th>house_type</th>\n",
              "      <th>DAYS_BIRTH</th>\n",
              "      <th>DAYS_EMPLOYED</th>\n",
              "      <th>FLAG_MOBIL</th>\n",
              "      <th>work_phone</th>\n",
              "      <th>phone</th>\n",
              "      <th>email</th>\n",
              "      <th>occyp_type</th>\n",
              "      <th>family_size</th>\n",
              "      <th>begin_month</th>\n",
              "      <th>credit</th>\n",
              "    </tr>\n",
              "  </thead>\n",
              "  <tbody>\n",
              "    <tr>\n",
              "      <th>0</th>\n",
              "      <td>0</td>\n",
              "      <td>F</td>\n",
              "      <td>N</td>\n",
              "      <td>N</td>\n",
              "      <td>0</td>\n",
              "      <td>202500.0</td>\n",
              "      <td>Commercial associate</td>\n",
              "      <td>Higher education</td>\n",
              "      <td>Married</td>\n",
              "      <td>Municipal apartment</td>\n",
              "      <td>-13899</td>\n",
              "      <td>-4709</td>\n",
              "      <td>1</td>\n",
              "      <td>0</td>\n",
              "      <td>0</td>\n",
              "      <td>0</td>\n",
              "      <td>NaN</td>\n",
              "      <td>2.0</td>\n",
              "      <td>-6.0</td>\n",
              "      <td>1.0</td>\n",
              "    </tr>\n",
              "    <tr>\n",
              "      <th>1</th>\n",
              "      <td>1</td>\n",
              "      <td>F</td>\n",
              "      <td>N</td>\n",
              "      <td>Y</td>\n",
              "      <td>1</td>\n",
              "      <td>247500.0</td>\n",
              "      <td>Commercial associate</td>\n",
              "      <td>Secondary / secondary special</td>\n",
              "      <td>Civil marriage</td>\n",
              "      <td>House / apartment</td>\n",
              "      <td>-11380</td>\n",
              "      <td>-1540</td>\n",
              "      <td>1</td>\n",
              "      <td>0</td>\n",
              "      <td>0</td>\n",
              "      <td>1</td>\n",
              "      <td>Laborers</td>\n",
              "      <td>3.0</td>\n",
              "      <td>-5.0</td>\n",
              "      <td>1.0</td>\n",
              "    </tr>\n",
              "    <tr>\n",
              "      <th>2</th>\n",
              "      <td>2</td>\n",
              "      <td>M</td>\n",
              "      <td>Y</td>\n",
              "      <td>Y</td>\n",
              "      <td>0</td>\n",
              "      <td>450000.0</td>\n",
              "      <td>Working</td>\n",
              "      <td>Higher education</td>\n",
              "      <td>Married</td>\n",
              "      <td>House / apartment</td>\n",
              "      <td>-19087</td>\n",
              "      <td>-4434</td>\n",
              "      <td>1</td>\n",
              "      <td>0</td>\n",
              "      <td>1</td>\n",
              "      <td>0</td>\n",
              "      <td>Managers</td>\n",
              "      <td>2.0</td>\n",
              "      <td>-22.0</td>\n",
              "      <td>2.0</td>\n",
              "    </tr>\n",
              "    <tr>\n",
              "      <th>3</th>\n",
              "      <td>3</td>\n",
              "      <td>F</td>\n",
              "      <td>N</td>\n",
              "      <td>Y</td>\n",
              "      <td>0</td>\n",
              "      <td>202500.0</td>\n",
              "      <td>Commercial associate</td>\n",
              "      <td>Secondary / secondary special</td>\n",
              "      <td>Married</td>\n",
              "      <td>House / apartment</td>\n",
              "      <td>-15088</td>\n",
              "      <td>-2092</td>\n",
              "      <td>1</td>\n",
              "      <td>0</td>\n",
              "      <td>1</td>\n",
              "      <td>0</td>\n",
              "      <td>Sales staff</td>\n",
              "      <td>2.0</td>\n",
              "      <td>-37.0</td>\n",
              "      <td>0.0</td>\n",
              "    </tr>\n",
              "    <tr>\n",
              "      <th>4</th>\n",
              "      <td>4</td>\n",
              "      <td>F</td>\n",
              "      <td>Y</td>\n",
              "      <td>Y</td>\n",
              "      <td>0</td>\n",
              "      <td>157500.0</td>\n",
              "      <td>State servant</td>\n",
              "      <td>Higher education</td>\n",
              "      <td>Married</td>\n",
              "      <td>House / apartment</td>\n",
              "      <td>-15037</td>\n",
              "      <td>-2105</td>\n",
              "      <td>1</td>\n",
              "      <td>0</td>\n",
              "      <td>0</td>\n",
              "      <td>0</td>\n",
              "      <td>Managers</td>\n",
              "      <td>2.0</td>\n",
              "      <td>-26.0</td>\n",
              "      <td>2.0</td>\n",
              "    </tr>\n",
              "  </tbody>\n",
              "</table>\n",
              "</div>\n",
              "      <button class=\"colab-df-convert\" onclick=\"convertToInteractive('df-215cb59a-7e1d-456c-a3ad-bf347f4312fd')\"\n",
              "              title=\"Convert this dataframe to an interactive table.\"\n",
              "              style=\"display:none;\">\n",
              "        \n",
              "  <svg xmlns=\"http://www.w3.org/2000/svg\" height=\"24px\"viewBox=\"0 0 24 24\"\n",
              "       width=\"24px\">\n",
              "    <path d=\"M0 0h24v24H0V0z\" fill=\"none\"/>\n",
              "    <path d=\"M18.56 5.44l.94 2.06.94-2.06 2.06-.94-2.06-.94-.94-2.06-.94 2.06-2.06.94zm-11 1L8.5 8.5l.94-2.06 2.06-.94-2.06-.94L8.5 2.5l-.94 2.06-2.06.94zm10 10l.94 2.06.94-2.06 2.06-.94-2.06-.94-.94-2.06-.94 2.06-2.06.94z\"/><path d=\"M17.41 7.96l-1.37-1.37c-.4-.4-.92-.59-1.43-.59-.52 0-1.04.2-1.43.59L10.3 9.45l-7.72 7.72c-.78.78-.78 2.05 0 2.83L4 21.41c.39.39.9.59 1.41.59.51 0 1.02-.2 1.41-.59l7.78-7.78 2.81-2.81c.8-.78.8-2.07 0-2.86zM5.41 20L4 18.59l7.72-7.72 1.47 1.35L5.41 20z\"/>\n",
              "  </svg>\n",
              "      </button>\n",
              "      \n",
              "  <style>\n",
              "    .colab-df-container {\n",
              "      display:flex;\n",
              "      flex-wrap:wrap;\n",
              "      gap: 12px;\n",
              "    }\n",
              "\n",
              "    .colab-df-convert {\n",
              "      background-color: #E8F0FE;\n",
              "      border: none;\n",
              "      border-radius: 50%;\n",
              "      cursor: pointer;\n",
              "      display: none;\n",
              "      fill: #1967D2;\n",
              "      height: 32px;\n",
              "      padding: 0 0 0 0;\n",
              "      width: 32px;\n",
              "    }\n",
              "\n",
              "    .colab-df-convert:hover {\n",
              "      background-color: #E2EBFA;\n",
              "      box-shadow: 0px 1px 2px rgba(60, 64, 67, 0.3), 0px 1px 3px 1px rgba(60, 64, 67, 0.15);\n",
              "      fill: #174EA6;\n",
              "    }\n",
              "\n",
              "    [theme=dark] .colab-df-convert {\n",
              "      background-color: #3B4455;\n",
              "      fill: #D2E3FC;\n",
              "    }\n",
              "\n",
              "    [theme=dark] .colab-df-convert:hover {\n",
              "      background-color: #434B5C;\n",
              "      box-shadow: 0px 1px 3px 1px rgba(0, 0, 0, 0.15);\n",
              "      filter: drop-shadow(0px 1px 2px rgba(0, 0, 0, 0.3));\n",
              "      fill: #FFFFFF;\n",
              "    }\n",
              "  </style>\n",
              "\n",
              "      <script>\n",
              "        const buttonEl =\n",
              "          document.querySelector('#df-215cb59a-7e1d-456c-a3ad-bf347f4312fd button.colab-df-convert');\n",
              "        buttonEl.style.display =\n",
              "          google.colab.kernel.accessAllowed ? 'block' : 'none';\n",
              "\n",
              "        async function convertToInteractive(key) {\n",
              "          const element = document.querySelector('#df-215cb59a-7e1d-456c-a3ad-bf347f4312fd');\n",
              "          const dataTable =\n",
              "            await google.colab.kernel.invokeFunction('convertToInteractive',\n",
              "                                                     [key], {});\n",
              "          if (!dataTable) return;\n",
              "\n",
              "          const docLinkHtml = 'Like what you see? Visit the ' +\n",
              "            '<a target=\"_blank\" href=https://colab.research.google.com/notebooks/data_table.ipynb>data table notebook</a>'\n",
              "            + ' to learn more about interactive tables.';\n",
              "          element.innerHTML = '';\n",
              "          dataTable['output_type'] = 'display_data';\n",
              "          await google.colab.output.renderOutput(dataTable, element);\n",
              "          const docLink = document.createElement('div');\n",
              "          docLink.innerHTML = docLinkHtml;\n",
              "          element.appendChild(docLink);\n",
              "        }\n",
              "      </script>\n",
              "    </div>\n",
              "  </div>\n",
              "  "
            ]
          },
          "metadata": {},
          "execution_count": 7
        }
      ],
      "source": [
        "print(train.shape)\n",
        "train.head()"
      ]
    },
    {
      "cell_type": "code",
      "execution_count": null,
      "metadata": {
        "colab": {
          "base_uri": "https://localhost:8080/",
          "height": 478
        },
        "id": "cmNbsT-G3rNI",
        "outputId": "c93b5caa-0b37-412a-951b-8797bbe3a7fc"
      },
      "outputs": [
        {
          "output_type": "stream",
          "name": "stdout",
          "text": [
            "(10000, 19)\n"
          ]
        },
        {
          "output_type": "execute_result",
          "data": {
            "text/plain": [
              "   index gender car reality  child_num  income_total           income_type  \\\n",
              "0  26457      M   Y       N          0      112500.0             Pensioner   \n",
              "1  26458      F   N       Y          0      135000.0         State servant   \n",
              "2  26459      F   N       Y          0       69372.0               Working   \n",
              "3  26460      M   Y       N          0      112500.0  Commercial associate   \n",
              "4  26461      F   Y       Y          0      225000.0         State servant   \n",
              "\n",
              "                        edu_type     family_type         house_type  \\\n",
              "0  Secondary / secondary special  Civil marriage  House / apartment   \n",
              "1               Higher education         Married  House / apartment   \n",
              "2  Secondary / secondary special         Married  House / apartment   \n",
              "3  Secondary / secondary special         Married  House / apartment   \n",
              "4               Higher education         Married  House / apartment   \n",
              "\n",
              "   DAYS_BIRTH  DAYS_EMPLOYED  FLAG_MOBIL  work_phone  phone  email  \\\n",
              "0      -21990         365243           1           0      1      0   \n",
              "1      -18964          -8671           1           0      1      0   \n",
              "2      -15887           -217           1           1      1      0   \n",
              "3      -19270          -2531           1           1      0      0   \n",
              "4      -17822          -9385           1           1      0      0   \n",
              "\n",
              "   occyp_type  family_size  begin_month  \n",
              "0         NaN          2.0        -60.0  \n",
              "1  Core staff          2.0        -36.0  \n",
              "2    Laborers          2.0        -40.0  \n",
              "3     Drivers          2.0        -41.0  \n",
              "4    Managers          2.0         -8.0  "
            ],
            "text/html": [
              "\n",
              "  <div id=\"df-41a8511a-1400-45d6-a161-32b014f4b6e4\">\n",
              "    <div class=\"colab-df-container\">\n",
              "      <div>\n",
              "<style scoped>\n",
              "    .dataframe tbody tr th:only-of-type {\n",
              "        vertical-align: middle;\n",
              "    }\n",
              "\n",
              "    .dataframe tbody tr th {\n",
              "        vertical-align: top;\n",
              "    }\n",
              "\n",
              "    .dataframe thead th {\n",
              "        text-align: right;\n",
              "    }\n",
              "</style>\n",
              "<table border=\"1\" class=\"dataframe\">\n",
              "  <thead>\n",
              "    <tr style=\"text-align: right;\">\n",
              "      <th></th>\n",
              "      <th>index</th>\n",
              "      <th>gender</th>\n",
              "      <th>car</th>\n",
              "      <th>reality</th>\n",
              "      <th>child_num</th>\n",
              "      <th>income_total</th>\n",
              "      <th>income_type</th>\n",
              "      <th>edu_type</th>\n",
              "      <th>family_type</th>\n",
              "      <th>house_type</th>\n",
              "      <th>DAYS_BIRTH</th>\n",
              "      <th>DAYS_EMPLOYED</th>\n",
              "      <th>FLAG_MOBIL</th>\n",
              "      <th>work_phone</th>\n",
              "      <th>phone</th>\n",
              "      <th>email</th>\n",
              "      <th>occyp_type</th>\n",
              "      <th>family_size</th>\n",
              "      <th>begin_month</th>\n",
              "    </tr>\n",
              "  </thead>\n",
              "  <tbody>\n",
              "    <tr>\n",
              "      <th>0</th>\n",
              "      <td>26457</td>\n",
              "      <td>M</td>\n",
              "      <td>Y</td>\n",
              "      <td>N</td>\n",
              "      <td>0</td>\n",
              "      <td>112500.0</td>\n",
              "      <td>Pensioner</td>\n",
              "      <td>Secondary / secondary special</td>\n",
              "      <td>Civil marriage</td>\n",
              "      <td>House / apartment</td>\n",
              "      <td>-21990</td>\n",
              "      <td>365243</td>\n",
              "      <td>1</td>\n",
              "      <td>0</td>\n",
              "      <td>1</td>\n",
              "      <td>0</td>\n",
              "      <td>NaN</td>\n",
              "      <td>2.0</td>\n",
              "      <td>-60.0</td>\n",
              "    </tr>\n",
              "    <tr>\n",
              "      <th>1</th>\n",
              "      <td>26458</td>\n",
              "      <td>F</td>\n",
              "      <td>N</td>\n",
              "      <td>Y</td>\n",
              "      <td>0</td>\n",
              "      <td>135000.0</td>\n",
              "      <td>State servant</td>\n",
              "      <td>Higher education</td>\n",
              "      <td>Married</td>\n",
              "      <td>House / apartment</td>\n",
              "      <td>-18964</td>\n",
              "      <td>-8671</td>\n",
              "      <td>1</td>\n",
              "      <td>0</td>\n",
              "      <td>1</td>\n",
              "      <td>0</td>\n",
              "      <td>Core staff</td>\n",
              "      <td>2.0</td>\n",
              "      <td>-36.0</td>\n",
              "    </tr>\n",
              "    <tr>\n",
              "      <th>2</th>\n",
              "      <td>26459</td>\n",
              "      <td>F</td>\n",
              "      <td>N</td>\n",
              "      <td>Y</td>\n",
              "      <td>0</td>\n",
              "      <td>69372.0</td>\n",
              "      <td>Working</td>\n",
              "      <td>Secondary / secondary special</td>\n",
              "      <td>Married</td>\n",
              "      <td>House / apartment</td>\n",
              "      <td>-15887</td>\n",
              "      <td>-217</td>\n",
              "      <td>1</td>\n",
              "      <td>1</td>\n",
              "      <td>1</td>\n",
              "      <td>0</td>\n",
              "      <td>Laborers</td>\n",
              "      <td>2.0</td>\n",
              "      <td>-40.0</td>\n",
              "    </tr>\n",
              "    <tr>\n",
              "      <th>3</th>\n",
              "      <td>26460</td>\n",
              "      <td>M</td>\n",
              "      <td>Y</td>\n",
              "      <td>N</td>\n",
              "      <td>0</td>\n",
              "      <td>112500.0</td>\n",
              "      <td>Commercial associate</td>\n",
              "      <td>Secondary / secondary special</td>\n",
              "      <td>Married</td>\n",
              "      <td>House / apartment</td>\n",
              "      <td>-19270</td>\n",
              "      <td>-2531</td>\n",
              "      <td>1</td>\n",
              "      <td>1</td>\n",
              "      <td>0</td>\n",
              "      <td>0</td>\n",
              "      <td>Drivers</td>\n",
              "      <td>2.0</td>\n",
              "      <td>-41.0</td>\n",
              "    </tr>\n",
              "    <tr>\n",
              "      <th>4</th>\n",
              "      <td>26461</td>\n",
              "      <td>F</td>\n",
              "      <td>Y</td>\n",
              "      <td>Y</td>\n",
              "      <td>0</td>\n",
              "      <td>225000.0</td>\n",
              "      <td>State servant</td>\n",
              "      <td>Higher education</td>\n",
              "      <td>Married</td>\n",
              "      <td>House / apartment</td>\n",
              "      <td>-17822</td>\n",
              "      <td>-9385</td>\n",
              "      <td>1</td>\n",
              "      <td>1</td>\n",
              "      <td>0</td>\n",
              "      <td>0</td>\n",
              "      <td>Managers</td>\n",
              "      <td>2.0</td>\n",
              "      <td>-8.0</td>\n",
              "    </tr>\n",
              "  </tbody>\n",
              "</table>\n",
              "</div>\n",
              "      <button class=\"colab-df-convert\" onclick=\"convertToInteractive('df-41a8511a-1400-45d6-a161-32b014f4b6e4')\"\n",
              "              title=\"Convert this dataframe to an interactive table.\"\n",
              "              style=\"display:none;\">\n",
              "        \n",
              "  <svg xmlns=\"http://www.w3.org/2000/svg\" height=\"24px\"viewBox=\"0 0 24 24\"\n",
              "       width=\"24px\">\n",
              "    <path d=\"M0 0h24v24H0V0z\" fill=\"none\"/>\n",
              "    <path d=\"M18.56 5.44l.94 2.06.94-2.06 2.06-.94-2.06-.94-.94-2.06-.94 2.06-2.06.94zm-11 1L8.5 8.5l.94-2.06 2.06-.94-2.06-.94L8.5 2.5l-.94 2.06-2.06.94zm10 10l.94 2.06.94-2.06 2.06-.94-2.06-.94-.94-2.06-.94 2.06-2.06.94z\"/><path d=\"M17.41 7.96l-1.37-1.37c-.4-.4-.92-.59-1.43-.59-.52 0-1.04.2-1.43.59L10.3 9.45l-7.72 7.72c-.78.78-.78 2.05 0 2.83L4 21.41c.39.39.9.59 1.41.59.51 0 1.02-.2 1.41-.59l7.78-7.78 2.81-2.81c.8-.78.8-2.07 0-2.86zM5.41 20L4 18.59l7.72-7.72 1.47 1.35L5.41 20z\"/>\n",
              "  </svg>\n",
              "      </button>\n",
              "      \n",
              "  <style>\n",
              "    .colab-df-container {\n",
              "      display:flex;\n",
              "      flex-wrap:wrap;\n",
              "      gap: 12px;\n",
              "    }\n",
              "\n",
              "    .colab-df-convert {\n",
              "      background-color: #E8F0FE;\n",
              "      border: none;\n",
              "      border-radius: 50%;\n",
              "      cursor: pointer;\n",
              "      display: none;\n",
              "      fill: #1967D2;\n",
              "      height: 32px;\n",
              "      padding: 0 0 0 0;\n",
              "      width: 32px;\n",
              "    }\n",
              "\n",
              "    .colab-df-convert:hover {\n",
              "      background-color: #E2EBFA;\n",
              "      box-shadow: 0px 1px 2px rgba(60, 64, 67, 0.3), 0px 1px 3px 1px rgba(60, 64, 67, 0.15);\n",
              "      fill: #174EA6;\n",
              "    }\n",
              "\n",
              "    [theme=dark] .colab-df-convert {\n",
              "      background-color: #3B4455;\n",
              "      fill: #D2E3FC;\n",
              "    }\n",
              "\n",
              "    [theme=dark] .colab-df-convert:hover {\n",
              "      background-color: #434B5C;\n",
              "      box-shadow: 0px 1px 3px 1px rgba(0, 0, 0, 0.15);\n",
              "      filter: drop-shadow(0px 1px 2px rgba(0, 0, 0, 0.3));\n",
              "      fill: #FFFFFF;\n",
              "    }\n",
              "  </style>\n",
              "\n",
              "      <script>\n",
              "        const buttonEl =\n",
              "          document.querySelector('#df-41a8511a-1400-45d6-a161-32b014f4b6e4 button.colab-df-convert');\n",
              "        buttonEl.style.display =\n",
              "          google.colab.kernel.accessAllowed ? 'block' : 'none';\n",
              "\n",
              "        async function convertToInteractive(key) {\n",
              "          const element = document.querySelector('#df-41a8511a-1400-45d6-a161-32b014f4b6e4');\n",
              "          const dataTable =\n",
              "            await google.colab.kernel.invokeFunction('convertToInteractive',\n",
              "                                                     [key], {});\n",
              "          if (!dataTable) return;\n",
              "\n",
              "          const docLinkHtml = 'Like what you see? Visit the ' +\n",
              "            '<a target=\"_blank\" href=https://colab.research.google.com/notebooks/data_table.ipynb>data table notebook</a>'\n",
              "            + ' to learn more about interactive tables.';\n",
              "          element.innerHTML = '';\n",
              "          dataTable['output_type'] = 'display_data';\n",
              "          await google.colab.output.renderOutput(dataTable, element);\n",
              "          const docLink = document.createElement('div');\n",
              "          docLink.innerHTML = docLinkHtml;\n",
              "          element.appendChild(docLink);\n",
              "        }\n",
              "      </script>\n",
              "    </div>\n",
              "  </div>\n",
              "  "
            ]
          },
          "metadata": {},
          "execution_count": 8
        }
      ],
      "source": [
        "print(test.shape)\n",
        "test.head()"
      ]
    },
    {
      "cell_type": "markdown",
      "metadata": {
        "id": "jXdwzx6KKA2E"
      },
      "source": [
        "### **데이터 시각화 및 1차 전처리 진행**\n"
      ]
    },
    {
      "cell_type": "markdown",
      "source": [
        "### 1차 전처리\n",
        "- 각 칼럼에 대하여 결측치 존재 여부 확인\n",
        "- 이상치 존재 여부 확인 후, 적당한 기준값 정해서 삭제\n",
        "- 불필요한 변수 제거 : index, FLAG_MOBIL 모든 값이 다 1이므로 제거\n",
        "- DAYS_EMPLOYED: 양수 값은 고용X인 상태이므로 0으로 처리. 음수 값은 양수로 처리, 고용일을 이용하여 연/월/주 단위의 새로운 변수로 생성\n",
        "- DAYS_BIRTH: 출생일. 음수 값을 양수 값으로 처리\n",
        "- begin_month: 음수 값을 양수 값으로 처리\n",
        "- email/phone 상관관계 보고 없애기\n",
        "- 범주형 변수에 대하여 라벨 인코딩\n",
        "- 시각화를 통한 왜도 확인, 로그 변환을 수행하여 완화\n"
      ],
      "metadata": {
        "id": "Rg67Mk4P0fUh"
      }
    },
    {
      "cell_type": "markdown",
      "metadata": {
        "id": "aMGCWCyp36xt"
      },
      "source": [
        "#### **불필요한 변수 제거**\n",
        "> **index, FLAG_MOBIL은 전부 다 1이라서 제거**"
      ]
    },
    {
      "cell_type": "code",
      "execution_count": null,
      "metadata": {
        "id": "yiP9Vsxt35e2"
      },
      "outputs": [],
      "source": [
        "train.drop(['index', 'FLAG_MOBIL'], axis=1, inplace=True)\n",
        "test.drop(['index', 'FLAG_MOBIL'], axis=1, inplace=True)"
      ]
    },
    {
      "cell_type": "markdown",
      "metadata": {
        "id": "xaDQaTIf4GH1"
      },
      "source": [
        "#### **결측치 확인**"
      ]
    },
    {
      "cell_type": "code",
      "execution_count": null,
      "metadata": {
        "colab": {
          "base_uri": "https://localhost:8080/"
        },
        "id": "nLDHwev64Cox",
        "outputId": "e42581f9-907a-4602-a103-ba00c0bee2bf"
      },
      "outputs": [
        {
          "output_type": "execute_result",
          "data": {
            "text/plain": [
              "gender              0\n",
              "car                 0\n",
              "reality             0\n",
              "child_num           0\n",
              "income_total        0\n",
              "income_type         0\n",
              "edu_type            0\n",
              "family_type         0\n",
              "house_type          0\n",
              "DAYS_BIRTH          0\n",
              "DAYS_EMPLOYED       0\n",
              "work_phone          0\n",
              "phone               0\n",
              "email               0\n",
              "occyp_type       8171\n",
              "family_size         0\n",
              "begin_month         0\n",
              "credit              0\n",
              "dtype: int64"
            ]
          },
          "metadata": {},
          "execution_count": 10
        }
      ],
      "source": [
        "train.isnull().sum()"
      ]
    },
    {
      "cell_type": "markdown",
      "metadata": {
        "id": "89ucuZMg4FUO"
      },
      "source": [
        "> **occyp_type 변수만 결측치가 존재**"
      ]
    },
    {
      "cell_type": "markdown",
      "metadata": {
        "id": "8f2N9M1s4rd6"
      },
      "source": [
        "#### **family_type**"
      ]
    },
    {
      "cell_type": "code",
      "execution_count": null,
      "metadata": {
        "colab": {
          "base_uri": "https://localhost:8080/"
        },
        "id": "EszBNqdk4lOv",
        "outputId": "7e446a49-485a-4e13-b221-dd7cdf14773a"
      },
      "outputs": [
        {
          "output_type": "execute_result",
          "data": {
            "text/plain": [
              "Married                 18196\n",
              "Single / not married     3496\n",
              "Civil marriage           2123\n",
              "Separated                1539\n",
              "Widow                    1103\n",
              "Name: family_type, dtype: int64"
            ]
          },
          "metadata": {},
          "execution_count": 11
        }
      ],
      "source": [
        "train['family_type'].value_counts()"
      ]
    },
    {
      "cell_type": "code",
      "execution_count": null,
      "metadata": {
        "colab": {
          "base_uri": "https://localhost:8080/",
          "height": 352
        },
        "id": "xN20JuaT4udI",
        "outputId": "71054f9d-1c26-4c46-f296-13ec86a4fb64"
      },
      "outputs": [
        {
          "output_type": "display_data",
          "data": {
            "text/plain": [
              "<Figure size 504x360 with 1 Axes>"
            ],
            "image/png": "[encoded data removed]"
          },
          "metadata": {
            "needs_background": "light"
          }
        }
      ],
      "source": [
        "ax = plt.figure(figsize=(7,5))\n",
        "ax = sns.countplot(x='family_type', data=train, color='skyblue')\n",
        "plt.xticks(rotation=10)\n",
        "plt.show()"
      ]
    },
    {
      "cell_type": "markdown",
      "metadata": {
        "id": "QTOzfVP24wL8"
      },
      "source": [
        "#### **occyp_type**\n",
        "> **8171개의 NaN 존재**"
      ]
    },
    {
      "cell_type": "code",
      "execution_count": null,
      "metadata": {
        "colab": {
          "base_uri": "https://localhost:8080/"
        },
        "id": "fr7lSYmy4LqV",
        "outputId": "a99291de-83d8-47fb-9d6e-01f209f3869b"
      },
      "outputs": [
        {
          "output_type": "execute_result",
          "data": {
            "text/plain": [
              "Laborers                 4512\n",
              "Core staff               2646\n",
              "Sales staff              2539\n",
              "Managers                 2167\n",
              "Drivers                  1575\n",
              "High skill tech staff    1040\n",
              "Accountants               902\n",
              "Medicine staff            864\n",
              "Cooking staff             457\n",
              "Security staff            424\n",
              "Cleaning staff            403\n",
              "Private service staff     243\n",
              "Low-skill Laborers        127\n",
              "Waiters/barmen staff      124\n",
              "Secretaries                97\n",
              "Realty agents              63\n",
              "HR staff                   62\n",
              "IT staff                   41\n",
              "Name: occyp_type, dtype: int64"
            ]
          },
          "metadata": {},
          "execution_count": 13
        }
      ],
      "source": [
        "train['occyp_type'].value_counts()"
      ]
    },
    {
      "cell_type": "code",
      "execution_count": null,
      "metadata": {
        "colab": {
          "base_uri": "https://localhost:8080/",
          "height": 454
        },
        "id": "D1HfbocB4zw4",
        "outputId": "ec1c47d5-b36a-41a3-ca7a-66f709e41d3a"
      },
      "outputs": [
        {
          "output_type": "display_data",
          "data": {
            "text/plain": [
              "<Figure size 720x432 with 1 Axes>"
            ],
            "image/png": "[encoded data removed]"
          },
          "metadata": {
            "needs_background": "light"
          }
        }
      ],
      "source": [
        "ax = plt.figure(figsize=(10, 6))\n",
        "ax = sns.countplot(x='occyp_type', data=train, color='skyblue')\n",
        "plt.xticks(rotation=40)\n",
        "plt.show()"
      ]
    },
    {
      "cell_type": "markdown",
      "metadata": {
        "id": "zjm4tA0iC9Me"
      },
      "source": [
        "> **결측치를 'etc'로 대체**"
      ]
    },
    {
      "cell_type": "code",
      "execution_count": null,
      "metadata": {
        "id": "thSYcLrdXtf-"
      },
      "outputs": [],
      "source": [
        "train['occyp_type'].fillna('etc', inplace = True)\n",
        "test['occyp_type'].fillna('etc', inplace = True)"
      ]
    },
    {
      "cell_type": "markdown",
      "metadata": {
        "id": "odkC5uAx53Kw"
      },
      "source": [
        "#### **gender**"
      ]
    },
    {
      "cell_type": "code",
      "execution_count": null,
      "metadata": {
        "colab": {
          "base_uri": "https://localhost:8080/"
        },
        "id": "N-q6xF-K54WA",
        "outputId": "f11679b9-b55c-44c0-f170-a94d267a6e52"
      },
      "outputs": [
        {
          "output_type": "execute_result",
          "data": {
            "text/plain": [
              "F    17697\n",
              "M     8760\n",
              "Name: gender, dtype: int64"
            ]
          },
          "metadata": {},
          "execution_count": 16
        }
      ],
      "source": [
        "train['gender'].value_counts()"
      ]
    },
    {
      "cell_type": "code",
      "execution_count": null,
      "metadata": {
        "colab": {
          "base_uri": "https://localhost:8080/",
          "height": 320
        },
        "id": "jUvp0LSZ56zv",
        "outputId": "3c75e001-02c0-4427-d86b-4eb80003f90d"
      },
      "outputs": [
        {
          "output_type": "display_data",
          "data": {
            "text/plain": [
              "<Figure size 504x360 with 1 Axes>"
            ],
            "image/png": "[encoded data removed]"
          },
          "metadata": {
            "needs_background": "light"
          }
        }
      ],
      "source": [
        "t = train.gender.value_counts()\n",
        "plt.figure(figsize=(7, 5))\n",
        "plt.bar(t.index, t.values, color=['blue', 'red'])\n",
        "plt.show()"
      ]
    },
    {
      "cell_type": "markdown",
      "metadata": {
        "id": "gD99-fV958ki"
      },
      "source": [
        "> **남녀의  차이가 2배 이상**"
      ]
    },
    {
      "cell_type": "code",
      "execution_count": null,
      "metadata": {
        "colab": {
          "base_uri": "https://localhost:8080/",
          "height": 357
        },
        "id": "pUYoEcJk5-gI",
        "outputId": "4ad29f0e-0b0b-4565-8fc0-f58b516a4920"
      },
      "outputs": [
        {
          "output_type": "display_data",
          "data": {
            "text/plain": [
              "<Figure size 432x432 with 1 Axes>"
            ],
            "image/png": "[encoded data removed]"
          },
          "metadata": {}
        }
      ],
      "source": [
        "plt.figure(figsize=(6, 6))\n",
        "plt.pie(t.values, labels=t.index, autopct='%1.1f%%')\n",
        "plt.show()"
      ]
    },
    {
      "cell_type": "markdown",
      "metadata": {
        "id": "lx-CTXwE6B7P"
      },
      "source": [
        "#### **income_total**"
      ]
    },
    {
      "cell_type": "code",
      "execution_count": null,
      "metadata": {
        "colab": {
          "base_uri": "https://localhost:8080/",
          "height": 327
        },
        "id": "ihOzDrvE6D2M",
        "outputId": "1412112e-aa58-4812-9d90-c514b1ae7228"
      },
      "outputs": [
        {
          "output_type": "execute_result",
          "data": {
            "text/plain": [
              "(2000.0, 600000.0)"
            ]
          },
          "metadata": {},
          "execution_count": 19
        },
        {
          "output_type": "display_data",
          "data": {
            "text/plain": [
              "<Figure size 504x360 with 1 Axes>"
            ],
            "image/png": "[encoded data removed]"
          },
          "metadata": {
            "needs_background": "light"
          }
        }
      ],
      "source": [
        "plt.figure(figsize=(7, 5))\n",
        "sns.boxplot(data=train,y=\"income_total\", width=0.3)\n",
        "plt.ylim(2000, 600000)"
      ]
    },
    {
      "cell_type": "code",
      "execution_count": null,
      "metadata": {
        "colab": {
          "base_uri": "https://localhost:8080/"
        },
        "id": "HJ3YlN8n6IYo",
        "outputId": "027b1406-ffa4-45dc-8c5f-15785f6ec649"
      },
      "outputs": [
        {
          "output_type": "execute_result",
          "data": {
            "text/plain": [
              "27000.0"
            ]
          },
          "metadata": {},
          "execution_count": 20
        }
      ],
      "source": [
        "np.min(train['income_total'])"
      ]
    },
    {
      "cell_type": "code",
      "execution_count": null,
      "metadata": {
        "colab": {
          "base_uri": "https://localhost:8080/"
        },
        "id": "iP0KzaBo6JUt",
        "outputId": "0c1dcf89-64ec-4c46-ca33-e12239b57f72"
      },
      "outputs": [
        {
          "output_type": "execute_result",
          "data": {
            "text/plain": [
              "1575000.0"
            ]
          },
          "metadata": {},
          "execution_count": 21
        }
      ],
      "source": [
        "np.max(train['income_total'])"
      ]
    },
    {
      "cell_type": "markdown",
      "metadata": {
        "id": "HcxEL-YpDPoj"
      },
      "source": [
        "> **IQR 밖의 이상치 확인**"
      ]
    },
    {
      "cell_type": "code",
      "execution_count": null,
      "metadata": {
        "colab": {
          "base_uri": "https://localhost:8080/"
        },
        "id": "ocbB61yd6KTj",
        "outputId": "26eeff92-d66b-4eda-b152-3392c691717d"
      },
      "outputs": [
        {
          "output_type": "stream",
          "name": "stdout",
          "text": [
            "outlier의 수 :  68\n"
          ]
        }
      ],
      "source": [
        "df = train['income_total']\n",
        "quan_25 = np.percentile(df.values, 25)\n",
        "quan_75 = np.percentile(df.values, 75)\n",
        "iqr = quan_75 - quan_25\n",
        "lowest = quan_25 - iqr * 5\n",
        "highest = quan_75 + iqr * 5\n",
        "outlier_index = df[(df < lowest) | (df > highest)].index\n",
        "print('outlier의 수 : ' , len(outlier_index))"
      ]
    },
    {
      "cell_type": "code",
      "execution_count": null,
      "metadata": {
        "colab": {
          "base_uri": "https://localhost:8080/",
          "height": 731
        },
        "id": "dP4QPMxa6MWE",
        "outputId": "71c9791c-62ad-42dc-812f-9b496f4fc08f"
      },
      "outputs": [
        {
          "output_type": "stream",
          "name": "stdout",
          "text": [
            "\n",
            " mu = 187306.52 and sigma = 101876.44\n",
            "\n"
          ]
        },
        {
          "output_type": "display_data",
          "data": {
            "text/plain": [
              "<Figure size 504x360 with 1 Axes>"
            ],
            "image/png": "[encoded data removed]"
          },
          "metadata": {
            "needs_background": "light"
          }
        },
        {
          "output_type": "display_data",
          "data": {
            "text/plain": [
              "<Figure size 504x360 with 1 Axes>"
            ],
            "image/png": "[encoded data removed]"
          },
          "metadata": {
            "needs_background": "light"
          }
        }
      ],
      "source": [
        "plt.figure(figsize=(7, 5))\n",
        "sns.distplot(train['income_total'], fit=norm)\n",
        "\n",
        "# Get the fitted parameters used by the function\n",
        "(mu, sigma) = norm.fit(train['income_total'])\n",
        "print('\\n mu = {:.2f} and sigma = {:.2f}\\n'.format(mu, sigma))\n",
        "# plot the distribution\n",
        "plt.legend(['Normal dist. ($\\mu=$ {:.2f} and $\\sigma=$ {:.2f} )'.format(mu, sigma)], loc='best')\n",
        "\n",
        "# Get also the QQ-plot\n",
        "fig = plt.figure(figsize=(7, 5))\n",
        "res = stats.probplot(train['income_total'], plot=plt)\n",
        "plt.show()"
      ]
    },
    {
      "cell_type": "markdown",
      "metadata": {
        "id": "QiQU-Yq6n_nh"
      },
      "source": [
        "> **값의 분포를 확인한 결과 왜도가 심한 것을 확인 : 로그 변환 적용**"
      ]
    },
    {
      "cell_type": "code",
      "execution_count": null,
      "metadata": {
        "id": "GIBdQJQHKrUZ"
      },
      "outputs": [],
      "source": [
        "# 파생변수 생성을 위해 원본 값 복사본 생성\n",
        "train['income_total_copy'] = train[\"income_total\"]\n",
        "test['income_total_copy'] = test[\"income_total\"]"
      ]
    },
    {
      "cell_type": "markdown",
      "metadata": {
        "id": "GOJYIFmt6Naj"
      },
      "source": [
        "> **income_total을 이용하여 파생 변수를 만들 예정이기 때문에, 복사본을 생성함**"
      ]
    },
    {
      "cell_type": "code",
      "execution_count": null,
      "metadata": {
        "id": "iQEQYmTLDiAe"
      },
      "outputs": [],
      "source": [
        "train[\"income_total\"] = np.log1p(train[\"income_total\"])\n",
        "test[\"income_total\"] = np.log1p(test[\"income_total\"])"
      ]
    },
    {
      "cell_type": "markdown",
      "metadata": {
        "id": "nPEun0qFoWpX"
      },
      "source": [
        "> **로그 변환을 적용한 후, 분포를 다시 확인해본 결과, 분포가 정규 분포에 가까운 것을 확인**"
      ]
    },
    {
      "cell_type": "code",
      "execution_count": null,
      "metadata": {
        "colab": {
          "base_uri": "https://localhost:8080/",
          "height": 722
        },
        "id": "62Qm50mv6PF5",
        "outputId": "dfa9fb47-d999-49be-c0c8-8ad452f0b72a"
      },
      "outputs": [
        {
          "output_type": "stream",
          "name": "stdout",
          "text": [
            "\n",
            " mu = 12.02 and sigma = 0.48\n",
            "\n"
          ]
        },
        {
          "output_type": "display_data",
          "data": {
            "text/plain": [
              "<Figure size 504x360 with 1 Axes>"
            ],
            "image/png": "[encoded data removed]"
          },
          "metadata": {
            "needs_background": "light"
          }
        },
        {
          "output_type": "display_data",
          "data": {
            "text/plain": [
              "<Figure size 504x360 with 1 Axes>"
            ],
            "image/png": "[encoded data removed]"
          },
          "metadata": {
            "needs_background": "light"
          }
        }
      ],
      "source": [
        "plt.figure(figsize=(7, 5))\n",
        "sns.distplot(train['income_total'], fit=norm)\n",
        "\n",
        "# Get the fitted parpameters used by the function\n",
        "(mu, sigma) = norm.fit(train['income_total'])\n",
        "print( '\\n mu = {:.2f} and sigma = {:.2f}\\n'.format(mu, sigma))\n",
        "# plot the distribution\n",
        "plt.legend(['Normal dist. ($\\mu=$ {:.2f} and $\\sigma=$ {:.2f} )'.format(mu, sigma)],loc='best')\n",
        "\n",
        "# Get QQ-plot\n",
        "fig = plt.figure(figsize=(7, 5))\n",
        "res = stats.probplot(train['income_total'], plot=plt)\n",
        "plt.show()"
      ]
    },
    {
      "cell_type": "markdown",
      "metadata": {
        "id": "C755Eq6tDsvb"
      },
      "source": [
        "\n",
        "> **로그 변환 후 이상치 사라짐**"
      ]
    },
    {
      "cell_type": "code",
      "execution_count": null,
      "metadata": {
        "colab": {
          "base_uri": "https://localhost:8080/"
        },
        "id": "MMb7cbCZDrrQ",
        "outputId": "70937cf8-cbe9-45f9-ba73-3be4e914f5fa"
      },
      "outputs": [
        {
          "output_type": "stream",
          "name": "stdout",
          "text": [
            "outlier의 수 :  0\n"
          ]
        }
      ],
      "source": [
        "df = train['income_total']\n",
        "quan_25 = np.percentile(df.values, 25)\n",
        "quan_75 = np.percentile(df.values, 75)\n",
        "iqr = quan_75 - quan_25\n",
        "lowest = quan_25 - iqr * 5\n",
        "highest = quan_75 + iqr * 5\n",
        "outlier_index = df[(df < lowest) | (df > highest)].index\n",
        "print('outlier의 수 : ' , len(outlier_index))"
      ]
    },
    {
      "cell_type": "markdown",
      "metadata": {
        "id": "1kTbNuqP6RCw"
      },
      "source": [
        "#### **house_type**"
      ]
    },
    {
      "cell_type": "code",
      "execution_count": null,
      "metadata": {
        "colab": {
          "base_uri": "https://localhost:8080/"
        },
        "id": "yUiDZwgk6SRT",
        "outputId": "b6f8e1b1-4cc9-49c0-eced-1d4a34381200"
      },
      "outputs": [
        {
          "output_type": "execute_result",
          "data": {
            "text/plain": [
              "House / apartment      23653\n",
              "With parents            1257\n",
              "Municipal apartment      818\n",
              "Rented apartment         429\n",
              "Office apartment         190\n",
              "Co-op apartment          110\n",
              "Name: house_type, dtype: int64"
            ]
          },
          "metadata": {},
          "execution_count": 28
        }
      ],
      "source": [
        "train['house_type'].value_counts()"
      ]
    },
    {
      "cell_type": "code",
      "execution_count": null,
      "metadata": {
        "colab": {
          "base_uri": "https://localhost:8080/",
          "height": 357
        },
        "id": "R_5Np2yY6ULt",
        "outputId": "38559546-afb5-417f-debf-dd2819f271b8"
      },
      "outputs": [
        {
          "output_type": "display_data",
          "data": {
            "text/plain": [
              "<Figure size 432x432 with 1 Axes>"
            ],
            "image/png": "[encoded data removed]"
          },
          "metadata": {}
        }
      ],
      "source": [
        "t = train.house_type.value_counts()\n",
        "explode = (0.1, 0.1)\n",
        "fig = plt.figure(figsize=(6, 6))\n",
        "fig.set_facecolor('white')\n",
        "plt.pie(t, labels=t.index, startangle=180, autopct='%1.1f%%', counterclock=False, wedgeprops = {'edgecolor':'k','linestyle':'-','linewidth':1})\n",
        "plt.show()"
      ]
    },
    {
      "cell_type": "markdown",
      "metadata": {
        "id": "9PiD8y_kObuN"
      },
      "source": [
        "#### **work_phone**"
      ]
    },
    {
      "cell_type": "code",
      "execution_count": null,
      "metadata": {
        "colab": {
          "base_uri": "https://localhost:8080/"
        },
        "id": "Huj9yjqlFTAo",
        "outputId": "ddbb04de-563a-496d-a255-3eaf91f98e45"
      },
      "outputs": [
        {
          "output_type": "execute_result",
          "data": {
            "text/plain": [
              "0    20511\n",
              "1     5946\n",
              "Name: work_phone, dtype: int64"
            ]
          },
          "metadata": {},
          "execution_count": 30
        }
      ],
      "source": [
        "train['work_phone'].value_counts()"
      ]
    },
    {
      "cell_type": "code",
      "execution_count": null,
      "metadata": {
        "colab": {
          "base_uri": "https://localhost:8080/",
          "height": 357
        },
        "id": "Am9fdQ7L6jHh",
        "outputId": "005961c9-c46f-4fa4-c9c1-f7bebe4fc1ec"
      },
      "outputs": [
        {
          "output_type": "display_data",
          "data": {
            "text/plain": [
              "<Figure size 432x432 with 1 Axes>"
            ],
            "image/png": "[encoded data removed]"
          },
          "metadata": {}
        }
      ],
      "source": [
        "t = train.work_phone.value_counts()\n",
        "explode = (0.1, 0.1)\n",
        "fig = plt.figure(figsize=(6, 6))\n",
        "fig.set_facecolor('white')\n",
        "plt.pie(t, labels=t.index, startangle=180, autopct='%1.1f%%', counterclock=False, wedgeprops = {'edgecolor':'k','linestyle':'-','linewidth':1})\n",
        "plt.show()"
      ]
    },
    {
      "cell_type": "markdown",
      "metadata": {
        "id": "xmOXveZA8IbE"
      },
      "source": [
        "#### **reality**"
      ]
    },
    {
      "cell_type": "code",
      "execution_count": null,
      "metadata": {
        "colab": {
          "base_uri": "https://localhost:8080/"
        },
        "id": "I0O3YRFn8J01",
        "outputId": "d204b593-ab2f-4b93-daa9-a200a13328ba"
      },
      "outputs": [
        {
          "output_type": "execute_result",
          "data": {
            "text/plain": [
              "Y    17830\n",
              "N     8627\n",
              "Name: reality, dtype: int64"
            ]
          },
          "metadata": {},
          "execution_count": 32
        }
      ],
      "source": [
        "train['reality'].value_counts()"
      ]
    },
    {
      "cell_type": "code",
      "execution_count": null,
      "metadata": {
        "colab": {
          "base_uri": "https://localhost:8080/",
          "height": 334
        },
        "id": "JGvCY5FW8Lfc",
        "outputId": "0df6c70a-e07f-431d-e46c-eda4e5a6408a"
      },
      "outputs": [
        {
          "output_type": "display_data",
          "data": {
            "text/plain": [
              "<Figure size 504x360 with 1 Axes>"
            ],
            "image/png": "[encoded data removed]"
          },
          "metadata": {
            "needs_background": "light"
          }
        }
      ],
      "source": [
        "plt.figure(figsize=(7, 5))\n",
        "sns.countplot(data=train, x='reality')\n",
        "plt.show()"
      ]
    },
    {
      "cell_type": "markdown",
      "metadata": {
        "id": "5EdtyorO8MN7"
      },
      "source": [
        "#### **edu_type**"
      ]
    },
    {
      "cell_type": "code",
      "execution_count": null,
      "metadata": {
        "colab": {
          "base_uri": "https://localhost:8080/"
        },
        "id": "ZI3WZgry8Nny",
        "outputId": "9aa7a09e-f166-47f7-bb42-ccf0ae8d8270"
      },
      "outputs": [
        {
          "output_type": "execute_result",
          "data": {
            "text/plain": [
              "Secondary / secondary special    17995\n",
              "Higher education                  7162\n",
              "Incomplete higher                 1020\n",
              "Lower secondary                    257\n",
              "Academic degree                     23\n",
              "Name: edu_type, dtype: int64"
            ]
          },
          "metadata": {},
          "execution_count": 34
        }
      ],
      "source": [
        "train['edu_type'].value_counts()"
      ]
    },
    {
      "cell_type": "code",
      "execution_count": null,
      "metadata": {
        "colab": {
          "base_uri": "https://localhost:8080/",
          "height": 386
        },
        "id": "vdaqbpaF8PMi",
        "outputId": "683eaf40-d20c-4b32-fd01-a376cc1f60f6"
      },
      "outputs": [
        {
          "output_type": "display_data",
          "data": {
            "text/plain": [
              "<Figure size 504x360 with 1 Axes>"
            ],
            "image/png": "[encoded data removed]"
          },
          "metadata": {
            "needs_background": "light"
          }
        }
      ],
      "source": [
        "plt.figure(figsize=(7, 5))\n",
        "sns.countplot(data=train, x = 'edu_type')\n",
        "plt.xticks(rotation=20)\n",
        "plt.show()"
      ]
    },
    {
      "cell_type": "markdown",
      "metadata": {
        "id": "wKd7KrJi8P6K"
      },
      "source": [
        "#### **DAYS_EMPLOYED**"
      ]
    },
    {
      "cell_type": "code",
      "execution_count": null,
      "metadata": {
        "colab": {
          "base_uri": "https://localhost:8080/"
        },
        "id": "Yo8YYr34AOs8",
        "outputId": "686992e8-446d-4d84-b6da-0a3967a30f14"
      },
      "outputs": [
        {
          "output_type": "execute_result",
          "data": {
            "text/plain": [
              "-15713"
            ]
          },
          "metadata": {},
          "execution_count": 36
        }
      ],
      "source": [
        "min(train['DAYS_EMPLOYED'])"
      ]
    },
    {
      "cell_type": "code",
      "execution_count": null,
      "metadata": {
        "colab": {
          "base_uri": "https://localhost:8080/"
        },
        "id": "oBGQLqKG8R-i",
        "outputId": "241a47df-8af8-4283-d9f5-53d6f5c358d2"
      },
      "outputs": [
        {
          "output_type": "execute_result",
          "data": {
            "text/plain": [
              "365243"
            ]
          },
          "metadata": {},
          "execution_count": 37
        }
      ],
      "source": [
        "max(train['DAYS_EMPLOYED'])"
      ]
    },
    {
      "cell_type": "code",
      "execution_count": null,
      "metadata": {
        "colab": {
          "base_uri": "https://localhost:8080/"
        },
        "id": "PtrMgLU1Cdt0",
        "outputId": "b24e17a1-d0d9-4d8c-8c7e-28e7da3105ca"
      },
      "outputs": [
        {
          "output_type": "execute_result",
          "data": {
            "text/plain": [
              "4438"
            ]
          },
          "metadata": {},
          "execution_count": 38
        }
      ],
      "source": [
        "(train['DAYS_EMPLOYED']> 0).sum()"
      ]
    },
    {
      "cell_type": "markdown",
      "metadata": {
        "id": "fgDQCKnrD_ar"
      },
      "source": [
        "> **데이터 설명에서 양수값은 고용되지 않은 상태라고 설명 따라서 양수값을 0으로 처리**"
      ]
    },
    {
      "cell_type": "code",
      "execution_count": null,
      "metadata": {
        "id": "yvdtI0o7NQBl"
      },
      "outputs": [],
      "source": [
        "train['DAYS_EMPLOYED'] = train['DAYS_EMPLOYED'].map(lambda x: 0 if x > 0 else x)\n",
        "test['DAYS_EMPLOYED'] = test['DAYS_EMPLOYED'].map(lambda x: 0 if x > 0 else x)"
      ]
    },
    {
      "cell_type": "markdown",
      "metadata": {
        "id": "SFEJ6QvZEC2m"
      },
      "source": [
        "> **음수값을 양수값으로 처리**"
      ]
    },
    {
      "cell_type": "code",
      "execution_count": null,
      "metadata": {
        "id": "bHcxexwZNSY5"
      },
      "outputs": [],
      "source": [
        "train['DAYS_EMPLOYED'] = np.abs(train['DAYS_EMPLOYED'])\n",
        "test['DAYS_EMPLOYED'] = np.abs(train['DAYS_EMPLOYED'])"
      ]
    },
    {
      "cell_type": "code",
      "execution_count": null,
      "metadata": {
        "colab": {
          "base_uri": "https://localhost:8080/"
        },
        "id": "WnW1ZP70NWa3",
        "outputId": "242a5329-4f8c-45d1-d425-8acf6117c0a9"
      },
      "outputs": [
        {
          "output_type": "execute_result",
          "data": {
            "text/plain": [
              "0"
            ]
          },
          "metadata": {},
          "execution_count": 41
        }
      ],
      "source": [
        "min(train['DAYS_EMPLOYED'])"
      ]
    },
    {
      "cell_type": "code",
      "execution_count": null,
      "metadata": {
        "colab": {
          "base_uri": "https://localhost:8080/",
          "height": 373
        },
        "id": "3lAgKfFI8UiL",
        "outputId": "df3bc527-ec03-414a-a33a-279d0fd0ad0f"
      },
      "outputs": [
        {
          "output_type": "display_data",
          "data": {
            "text/plain": [
              "<Figure size 360x360 with 1 Axes>"
            ],
            "image/png": "[encoded data removed]"
          },
          "metadata": {
            "needs_background": "light"
          }
        }
      ],
      "source": [
        "sns.displot(train['DAYS_EMPLOYED'], kde=True, rug=False)\n",
        "plt.ylim(0, 5000)\n",
        "plt.show()"
      ]
    },
    {
      "cell_type": "markdown",
      "metadata": {
        "id": "80jZl9O-8WHj"
      },
      "source": [
        "> **고용일을 이용하여 연/월/주 단위의 새로운 변수로 생성**"
      ]
    },
    {
      "cell_type": "code",
      "execution_count": null,
      "metadata": {
        "id": "xCOzQaOuNZYN"
      },
      "outputs": [],
      "source": [
        "# 연 단위\n",
        "train['YEARS_EMPLOYED'] = train['DAYS_EMPLOYED'] // 365\n",
        "test['YEARS_EMPLOYED'] = train['DAYS_EMPLOYED'] // 365"
      ]
    },
    {
      "cell_type": "code",
      "execution_count": null,
      "metadata": {
        "id": "bHVpczdvNZaa"
      },
      "outputs": [],
      "source": [
        "# 월 단위\n",
        "train['MONTHS_EMPLOYED'] = np.floor(train['DAYS_EMPLOYED'] / 30) - ((np.floor(train['DAYS_EMPLOYED'] / 30) / 12).astype(int) * 12)\n",
        "test['MONTHS_EMPLOYED'] = np.floor(test['DAYS_EMPLOYED'] / 30) - ((np.floor(test['DAYS_EMPLOYED'] / 30) / 12).astype(int) * 12)"
      ]
    },
    {
      "cell_type": "code",
      "execution_count": null,
      "metadata": {
        "id": "xQVpCbngNjqp"
      },
      "outputs": [],
      "source": [
        "# 주 단위\n",
        "train['WEEKS_EMPLOYED'] = np.floor(train['DAYS_EMPLOYED'] / 7) - ((np.floor(train['DAYS_EMPLOYED'] / 7) / 4).astype(int) * 4)\n",
        "test['WEEKS_EMPLOYED'] = np.floor(test['DAYS_EMPLOYED'] / 7) - ((np.floor(test['DAYS_EMPLOYED'] / 7) / 4).astype(int) * 4)"
      ]
    },
    {
      "cell_type": "markdown",
      "metadata": {
        "id": "slbT3pTa8XMQ"
      },
      "source": [
        "#### **email**\n",
        "> **0이 1의 10배 가까이 됨**"
      ]
    },
    {
      "cell_type": "code",
      "execution_count": null,
      "metadata": {
        "colab": {
          "base_uri": "https://localhost:8080/"
        },
        "id": "A_PIiIzc8YDC",
        "outputId": "9d8e4826-4abe-472a-c9fc-071bdb5bf75a"
      },
      "outputs": [
        {
          "output_type": "execute_result",
          "data": {
            "text/plain": [
              "0    24042\n",
              "1     2415\n",
              "Name: email, dtype: int64"
            ]
          },
          "metadata": {},
          "execution_count": 46
        }
      ],
      "source": [
        "train['email'].value_counts()"
      ]
    },
    {
      "cell_type": "code",
      "execution_count": null,
      "metadata": {
        "colab": {
          "base_uri": "https://localhost:8080/",
          "height": 335
        },
        "id": "kesJHVlT8ZXM",
        "outputId": "77b91961-30a7-4ec1-f174-6457f943eef3"
      },
      "outputs": [
        {
          "output_type": "display_data",
          "data": {
            "text/plain": [
              "<Figure size 504x360 with 1 Axes>"
            ],
            "image/png": "[encoded data removed]"
          },
          "metadata": {
            "needs_background": "light"
          }
        }
      ],
      "source": [
        "plt.figure(figsize=(7, 5))\n",
        "sns.countplot(data=train, x = 'email')\n",
        "plt.show()"
      ]
    },
    {
      "cell_type": "markdown",
      "metadata": {
        "id": "O2p93iUE84Ef"
      },
      "source": [
        "#### **car**"
      ]
    },
    {
      "cell_type": "code",
      "execution_count": null,
      "metadata": {
        "colab": {
          "base_uri": "https://localhost:8080/"
        },
        "id": "9Uf_YZoC8616",
        "outputId": "6a06aca8-5bc6-46fe-d805-7ef72c8dde18"
      },
      "outputs": [
        {
          "output_type": "execute_result",
          "data": {
            "text/plain": [
              "N    16410\n",
              "Y    10047\n",
              "Name: car, dtype: int64"
            ]
          },
          "metadata": {},
          "execution_count": 48
        }
      ],
      "source": [
        "train['car'].value_counts()"
      ]
    },
    {
      "cell_type": "code",
      "execution_count": null,
      "metadata": {
        "colab": {
          "base_uri": "https://localhost:8080/",
          "height": 334
        },
        "id": "2Z_1KH2VFElD",
        "outputId": "b5002d39-4ee4-4fea-f090-408fd230669b"
      },
      "outputs": [
        {
          "output_type": "display_data",
          "data": {
            "text/plain": [
              "<Figure size 504x360 with 1 Axes>"
            ],
            "image/png": "[encoded data removed]"
          },
          "metadata": {
            "needs_background": "light"
          }
        }
      ],
      "source": [
        "plt.figure(figsize=(7, 5))\n",
        "sns.countplot(data=train, x = 'car')\n",
        "plt.show()"
      ]
    },
    {
      "cell_type": "markdown",
      "metadata": {
        "id": "HfEniesf88YX"
      },
      "source": [
        "#### **income_type**"
      ]
    },
    {
      "cell_type": "code",
      "execution_count": null,
      "metadata": {
        "colab": {
          "base_uri": "https://localhost:8080/"
        },
        "id": "tkSFR2Wb89uO",
        "outputId": "7d7d83c4-07bf-41e3-84db-9d9aca1a0b6e"
      },
      "outputs": [
        {
          "output_type": "execute_result",
          "data": {
            "text/plain": [
              "Working                 13645\n",
              "Commercial associate     6202\n",
              "Pensioner                4449\n",
              "State servant            2154\n",
              "Student                     7\n",
              "Name: income_type, dtype: int64"
            ]
          },
          "metadata": {},
          "execution_count": 50
        }
      ],
      "source": [
        "train['income_type'].value_counts()"
      ]
    },
    {
      "cell_type": "code",
      "execution_count": null,
      "metadata": {
        "colab": {
          "base_uri": "https://localhost:8080/",
          "height": 335
        },
        "id": "eu54zC0cFLcS",
        "outputId": "69b8e278-3f82-4c04-b7d8-9aef27f9e79c"
      },
      "outputs": [
        {
          "output_type": "display_data",
          "data": {
            "text/plain": [
              "<Figure size 504x360 with 1 Axes>"
            ],
            "image/png": "[encoded data removed]"
          },
          "metadata": {
            "needs_background": "light"
          }
        }
      ],
      "source": [
        "plt.figure(figsize=(7, 5))\n",
        "sns.countplot(data=train, x = 'income_type')\n",
        "plt.show()"
      ]
    },
    {
      "cell_type": "markdown",
      "metadata": {
        "id": "PxSsSgYB9AhZ"
      },
      "source": [
        "#### **DAYS_BIRTH**\n",
        "> **음수값을 양수값으로 처리**"
      ]
    },
    {
      "cell_type": "code",
      "execution_count": null,
      "metadata": {
        "id": "751NvTAGFkQG"
      },
      "outputs": [],
      "source": [
        "train['DAYS_BIRTH'] = np.abs(train['DAYS_BIRTH'])\n",
        "test['DAYS_BIRTH'] = np.abs(test['DAYS_BIRTH'])"
      ]
    },
    {
      "cell_type": "code",
      "execution_count": null,
      "metadata": {
        "colab": {
          "base_uri": "https://localhost:8080/"
        },
        "id": "5jM0Nh1GFl5F",
        "outputId": "999ed5c7-5dd7-41c5-bc39-df04167b4b5d"
      },
      "outputs": [
        {
          "output_type": "execute_result",
          "data": {
            "text/plain": [
              "26457"
            ]
          },
          "metadata": {},
          "execution_count": 53
        }
      ],
      "source": [
        "(train['DAYS_BIRTH'] >= 0).sum()"
      ]
    },
    {
      "cell_type": "code",
      "execution_count": null,
      "metadata": {
        "colab": {
          "base_uri": "https://localhost:8080/",
          "height": 369
        },
        "id": "-ITHcZxUFrX-",
        "outputId": "7c1c8cf0-cf62-42ff-a2cc-c062992804a3"
      },
      "outputs": [
        {
          "output_type": "display_data",
          "data": {
            "text/plain": [
              "<Figure size 360x360 with 1 Axes>"
            ],
            "image/png": "[encoded data removed]"
          },
          "metadata": {
            "needs_background": "light"
          }
        }
      ],
      "source": [
        "sns.displot(train['DAYS_BIRTH'], kde=True, rug=False)\n",
        "plt.show()"
      ]
    },
    {
      "cell_type": "code",
      "execution_count": null,
      "metadata": {
        "colab": {
          "base_uri": "https://localhost:8080/"
        },
        "id": "u-YIsVWsD8rC",
        "outputId": "d3d192bc-74aa-430a-d725-a11ad2408a20"
      },
      "outputs": [
        {
          "output_type": "execute_result",
          "data": {
            "text/plain": [
              "7705"
            ]
          },
          "metadata": {},
          "execution_count": 55
        }
      ],
      "source": [
        "np.min(train['DAYS_BIRTH'])"
      ]
    },
    {
      "cell_type": "code",
      "execution_count": null,
      "metadata": {
        "colab": {
          "base_uri": "https://localhost:8080/"
        },
        "id": "Mz7grYJnD_xQ",
        "outputId": "e1a066a7-2196-4a06-ee09-226695ec5184"
      },
      "outputs": [
        {
          "output_type": "execute_result",
          "data": {
            "text/plain": [
              "25152"
            ]
          },
          "metadata": {},
          "execution_count": 56
        }
      ],
      "source": [
        "np.max(train['DAYS_BIRTH'])"
      ]
    },
    {
      "cell_type": "markdown",
      "metadata": {
        "id": "SfNFSJEJ9Fk9"
      },
      "source": [
        "#### **phone**"
      ]
    },
    {
      "cell_type": "code",
      "execution_count": null,
      "metadata": {
        "colab": {
          "base_uri": "https://localhost:8080/"
        },
        "id": "Q-NZKsh29HNJ",
        "outputId": "9466c492-a7ce-464f-f811-83b07e87868f"
      },
      "outputs": [
        {
          "output_type": "execute_result",
          "data": {
            "text/plain": [
              "0    18672\n",
              "1     7785\n",
              "Name: phone, dtype: int64"
            ]
          },
          "metadata": {},
          "execution_count": 57
        }
      ],
      "source": [
        "train['phone'].value_counts()"
      ]
    },
    {
      "cell_type": "code",
      "execution_count": null,
      "metadata": {
        "colab": {
          "base_uri": "https://localhost:8080/",
          "height": 334
        },
        "id": "piZ1Mn_nGA3j",
        "outputId": "639f8fdf-ccaa-4e21-856b-fef5eef491b0"
      },
      "outputs": [
        {
          "output_type": "display_data",
          "data": {
            "text/plain": [
              "<Figure size 504x360 with 1 Axes>"
            ],
            "image/png": "[encoded data removed]"
          },
          "metadata": {
            "needs_background": "light"
          }
        }
      ],
      "source": [
        "plt.figure(figsize=(7, 5))\n",
        "sns.countplot(data=train, x = 'phone')\n",
        "plt.show()"
      ]
    },
    {
      "cell_type": "markdown",
      "metadata": {
        "id": "E8peaB2L9I8u"
      },
      "source": [
        "#### **begin_month**\n",
        "> **0인 231개의 자료는 신용카드를 발급받지 않았거나, 발급받은지 한달이 지나지 않았다고 해석**"
      ]
    },
    {
      "cell_type": "code",
      "execution_count": null,
      "metadata": {
        "colab": {
          "base_uri": "https://localhost:8080/"
        },
        "id": "i-ZVVZm69kof",
        "outputId": "435c67f3-2bdc-468d-fced-2270327105bf"
      },
      "outputs": [
        {
          "output_type": "execute_result",
          "data": {
            "text/plain": [
              "231"
            ]
          },
          "metadata": {},
          "execution_count": 59
        }
      ],
      "source": [
        "(train['begin_month'] == 0).sum()"
      ]
    },
    {
      "cell_type": "markdown",
      "metadata": {
        "id": "LqUoNZYWGbak"
      },
      "source": [
        "> **음수값을 양수값으로 처리**"
      ]
    },
    {
      "cell_type": "code",
      "execution_count": null,
      "metadata": {
        "id": "lklHrzc09myL"
      },
      "outputs": [],
      "source": [
        "train['begin_month'] = np.abs(train['begin_month'])\n",
        "test['begin_month'] = np.abs(test['begin_month'])"
      ]
    },
    {
      "cell_type": "code",
      "execution_count": null,
      "metadata": {
        "colab": {
          "base_uri": "https://localhost:8080/",
          "height": 369
        },
        "id": "BjQNfUtP9nnK",
        "outputId": "7ba794a1-c3d5-450d-d165-8bfe22b17e5c"
      },
      "outputs": [
        {
          "output_type": "display_data",
          "data": {
            "text/plain": [
              "<Figure size 360x360 with 1 Axes>"
            ],
            "image/png": "[encoded data removed]"
          },
          "metadata": {
            "needs_background": "light"
          }
        }
      ],
      "source": [
        "sns.displot(train['begin_month'], kde=True, rug=False)\n",
        "plt.show()"
      ]
    },
    {
      "cell_type": "code",
      "execution_count": null,
      "metadata": {
        "colab": {
          "base_uri": "https://localhost:8080/"
        },
        "id": "z8ePGIgUGjHQ",
        "outputId": "4e37f450-ffa2-47a2-e05f-e4838a19370b"
      },
      "outputs": [
        {
          "output_type": "execute_result",
          "data": {
            "text/plain": [
              "0.0"
            ]
          },
          "metadata": {},
          "execution_count": 62
        }
      ],
      "source": [
        "np.min(train['begin_month'])"
      ]
    },
    {
      "cell_type": "code",
      "execution_count": null,
      "metadata": {
        "colab": {
          "base_uri": "https://localhost:8080/"
        },
        "id": "J735TDl2GlnY",
        "outputId": "cf3056e2-262a-41d0-92cd-d2b23c25bf0f"
      },
      "outputs": [
        {
          "output_type": "execute_result",
          "data": {
            "text/plain": [
              "60.0"
            ]
          },
          "metadata": {},
          "execution_count": 63
        }
      ],
      "source": [
        "np.max(train['begin_month'])"
      ]
    },
    {
      "cell_type": "markdown",
      "metadata": {
        "id": "ExXKvmk64Q6Z"
      },
      "source": [
        "#### **child_num**"
      ]
    },
    {
      "cell_type": "code",
      "execution_count": null,
      "metadata": {
        "colab": {
          "base_uri": "https://localhost:8080/"
        },
        "id": "Y5OvWJ2p4S2V",
        "outputId": "84a48eaf-bda3-40a6-a44e-ed71e0fb3694"
      },
      "outputs": [
        {
          "output_type": "execute_result",
          "data": {
            "text/plain": [
              "count    26457.000000\n",
              "mean         0.428658\n",
              "std          0.747326\n",
              "min          0.000000\n",
              "25%          0.000000\n",
              "50%          0.000000\n",
              "75%          1.000000\n",
              "max         19.000000\n",
              "Name: child_num, dtype: float64"
            ]
          },
          "metadata": {},
          "execution_count": 64
        }
      ],
      "source": [
        "train['child_num'].describe()"
      ]
    },
    {
      "cell_type": "markdown",
      "metadata": {
        "id": "wSUun_s4GxTT"
      },
      "source": [
        "> **max가 19로 평균과 차이가 많이 나므로 이상치가 존재한다고 판단**"
      ]
    },
    {
      "cell_type": "code",
      "execution_count": null,
      "metadata": {
        "colab": {
          "base_uri": "https://localhost:8080/"
        },
        "id": "3cXPqEmrNJWs",
        "outputId": "b9eb2224-a1a5-47da-cde6-6308e2058200"
      },
      "outputs": [
        {
          "output_type": "execute_result",
          "data": {
            "text/plain": [
              "0     18340\n",
              "1      5386\n",
              "2      2362\n",
              "3       306\n",
              "4        47\n",
              "5        10\n",
              "14        3\n",
              "7         2\n",
              "19        1\n",
              "Name: child_num, dtype: int64"
            ]
          },
          "metadata": {},
          "execution_count": 65
        }
      ],
      "source": [
        "train['child_num'].value_counts()"
      ]
    },
    {
      "cell_type": "markdown",
      "metadata": {
        "id": "ZP9zGpxfG8YA"
      },
      "source": [
        "> **7 이상의 값은 이상치라고 판단하여 최빈값 0으로 처리**"
      ]
    },
    {
      "cell_type": "code",
      "execution_count": null,
      "metadata": {
        "colab": {
          "base_uri": "https://localhost:8080/",
          "height": 643
        },
        "id": "NJZVMOqi4V48",
        "outputId": "b2395893-e9d9-457e-835e-3443f6c200da"
      },
      "outputs": [
        {
          "output_type": "execute_result",
          "data": {
            "text/plain": [
              "      gender car reality  child_num  income_total income_type  \\\n",
              "8462       M   Y       Y         14     12.323860     Working   \n",
              "9021       M   Y       Y         14     12.323860     Working   \n",
              "10731      F   N       Y         19     11.630717     Working   \n",
              "25313      F   N       N          7     11.967187     Working   \n",
              "25390      M   Y       Y         14     12.323860     Working   \n",
              "25638      F   N       N          7     11.967187     Working   \n",
              "\n",
              "                            edu_type           family_type         house_type  \\\n",
              "8462   Secondary / secondary special             Separated  House / apartment   \n",
              "9021   Secondary / secondary special             Separated  House / apartment   \n",
              "10731  Secondary / secondary special  Single / not married  House / apartment   \n",
              "25313  Secondary / secondary special               Married  House / apartment   \n",
              "25390  Secondary / secondary special             Separated  House / apartment   \n",
              "25638  Secondary / secondary special               Married  House / apartment   \n",
              "\n",
              "       DAYS_BIRTH  ...  phone  email            occyp_type  family_size  \\\n",
              "8462        17754  ...      0      0               Drivers         15.0   \n",
              "9021        17754  ...      0      0               Drivers         15.0   \n",
              "10731       11057  ...      1      0  Waiters/barmen staff         20.0   \n",
              "25313       13827  ...      1      0        Cleaning staff          9.0   \n",
              "25390       17754  ...      0      0               Drivers         15.0   \n",
              "25638       13827  ...      1      0        Cleaning staff          9.0   \n",
              "\n",
              "      begin_month  credit  income_total_copy  YEARS_EMPLOYED  MONTHS_EMPLOYED  \\\n",
              "8462          7.0     2.0           225000.0               4              8.0   \n",
              "9021         58.0     2.0           225000.0               4              8.0   \n",
              "10731         5.0     2.0           112500.0               5              1.0   \n",
              "25313        26.0     2.0           157500.0               4              6.0   \n",
              "25390        43.0     2.0           225000.0               4              8.0   \n",
              "25638        31.0     2.0           157500.0               4              6.0   \n",
              "\n",
              "       WEEKS_EMPLOYED  \n",
              "8462              1.0  \n",
              "9021              1.0  \n",
              "10731             0.0  \n",
              "25313             3.0  \n",
              "25390             1.0  \n",
              "25638             3.0  \n",
              "\n",
              "[6 rows x 22 columns]"
            ],
            "text/html": [
              "\n",
              "  <div id=\"df-29955b55-c773-4ffd-878c-adf20d19dc54\">\n",
              "    <div class=\"colab-df-container\">\n",
              "      <div>\n",
              "<style scoped>\n",
              "    .dataframe tbody tr th:only-of-type {\n",
              "        vertical-align: middle;\n",
              "    }\n",
              "\n",
              "    .dataframe tbody tr th {\n",
              "        vertical-align: top;\n",
              "    }\n",
              "\n",
              "    .dataframe thead th {\n",
              "        text-align: right;\n",
              "    }\n",
              "</style>\n",
              "<table border=\"1\" class=\"dataframe\">\n",
              "  <thead>\n",
              "    <tr style=\"text-align: right;\">\n",
              "      <th></th>\n",
              "      <th>gender</th>\n",
              "      <th>car</th>\n",
              "      <th>reality</th>\n",
              "      <th>child_num</th>\n",
              "      <th>income_total</th>\n",
              "      <th>income_type</th>\n",
              "      <th>edu_type</th>\n",
              "      <th>family_type</th>\n",
              "      <th>house_type</th>\n",
              "      <th>DAYS_BIRTH</th>\n",
              "      <th>...</th>\n",
              "      <th>phone</th>\n",
              "      <th>email</th>\n",
              "      <th>occyp_type</th>\n",
              "      <th>family_size</th>\n",
              "      <th>begin_month</th>\n",
              "      <th>credit</th>\n",
              "      <th>income_total_copy</th>\n",
              "      <th>YEARS_EMPLOYED</th>\n",
              "      <th>MONTHS_EMPLOYED</th>\n",
              "      <th>WEEKS_EMPLOYED</th>\n",
              "    </tr>\n",
              "  </thead>\n",
              "  <tbody>\n",
              "    <tr>\n",
              "      <th>8462</th>\n",
              "      <td>M</td>\n",
              "      <td>Y</td>\n",
              "      <td>Y</td>\n",
              "      <td>14</td>\n",
              "      <td>12.323860</td>\n",
              "      <td>Working</td>\n",
              "      <td>Secondary / secondary special</td>\n",
              "      <td>Separated</td>\n",
              "      <td>House / apartment</td>\n",
              "      <td>17754</td>\n",
              "      <td>...</td>\n",
              "      <td>0</td>\n",
              "      <td>0</td>\n",
              "      <td>Drivers</td>\n",
              "      <td>15.0</td>\n",
              "      <td>7.0</td>\n",
              "      <td>2.0</td>\n",
              "      <td>225000.0</td>\n",
              "      <td>4</td>\n",
              "      <td>8.0</td>\n",
              "      <td>1.0</td>\n",
              "    </tr>\n",
              "    <tr>\n",
              "      <th>9021</th>\n",
              "      <td>M</td>\n",
              "      <td>Y</td>\n",
              "      <td>Y</td>\n",
              "      <td>14</td>\n",
              "      <td>12.323860</td>\n",
              "      <td>Working</td>\n",
              "      <td>Secondary / secondary special</td>\n",
              "      <td>Separated</td>\n",
              "      <td>House / apartment</td>\n",
              "      <td>17754</td>\n",
              "      <td>...</td>\n",
              "      <td>0</td>\n",
              "      <td>0</td>\n",
              "      <td>Drivers</td>\n",
              "      <td>15.0</td>\n",
              "      <td>58.0</td>\n",
              "      <td>2.0</td>\n",
              "      <td>225000.0</td>\n",
              "      <td>4</td>\n",
              "      <td>8.0</td>\n",
              "      <td>1.0</td>\n",
              "    </tr>\n",
              "    <tr>\n",
              "      <th>10731</th>\n",
              "      <td>F</td>\n",
              "      <td>N</td>\n",
              "      <td>Y</td>\n",
              "      <td>19</td>\n",
              "      <td>11.630717</td>\n",
              "      <td>Working</td>\n",
              "      <td>Secondary / secondary special</td>\n",
              "      <td>Single / not married</td>\n",
              "      <td>House / apartment</td>\n",
              "      <td>11057</td>\n",
              "      <td>...</td>\n",
              "      <td>1</td>\n",
              "      <td>0</td>\n",
              "      <td>Waiters/barmen staff</td>\n",
              "      <td>20.0</td>\n",
              "      <td>5.0</td>\n",
              "      <td>2.0</td>\n",
              "      <td>112500.0</td>\n",
              "      <td>5</td>\n",
              "      <td>1.0</td>\n",
              "      <td>0.0</td>\n",
              "    </tr>\n",
              "    <tr>\n",
              "      <th>25313</th>\n",
              "      <td>F</td>\n",
              "      <td>N</td>\n",
              "      <td>N</td>\n",
              "      <td>7</td>\n",
              "      <td>11.967187</td>\n",
              "      <td>Working</td>\n",
              "      <td>Secondary / secondary special</td>\n",
              "      <td>Married</td>\n",
              "      <td>House / apartment</td>\n",
              "      <td>13827</td>\n",
              "      <td>...</td>\n",
              "      <td>1</td>\n",
              "      <td>0</td>\n",
              "      <td>Cleaning staff</td>\n",
              "      <td>9.0</td>\n",
              "      <td>26.0</td>\n",
              "      <td>2.0</td>\n",
              "      <td>157500.0</td>\n",
              "      <td>4</td>\n",
              "      <td>6.0</td>\n",
              "      <td>3.0</td>\n",
              "    </tr>\n",
              "    <tr>\n",
              "      <th>25390</th>\n",
              "      <td>M</td>\n",
              "      <td>Y</td>\n",
              "      <td>Y</td>\n",
              "      <td>14</td>\n",
              "      <td>12.323860</td>\n",
              "      <td>Working</td>\n",
              "      <td>Secondary / secondary special</td>\n",
              "      <td>Separated</td>\n",
              "      <td>House / apartment</td>\n",
              "      <td>17754</td>\n",
              "      <td>...</td>\n",
              "      <td>0</td>\n",
              "      <td>0</td>\n",
              "      <td>Drivers</td>\n",
              "      <td>15.0</td>\n",
              "      <td>43.0</td>\n",
              "      <td>2.0</td>\n",
              "      <td>225000.0</td>\n",
              "      <td>4</td>\n",
              "      <td>8.0</td>\n",
              "      <td>1.0</td>\n",
              "    </tr>\n",
              "    <tr>\n",
              "      <th>25638</th>\n",
              "      <td>F</td>\n",
              "      <td>N</td>\n",
              "      <td>N</td>\n",
              "      <td>7</td>\n",
              "      <td>11.967187</td>\n",
              "      <td>Working</td>\n",
              "      <td>Secondary / secondary special</td>\n",
              "      <td>Married</td>\n",
              "      <td>House / apartment</td>\n",
              "      <td>13827</td>\n",
              "      <td>...</td>\n",
              "      <td>1</td>\n",
              "      <td>0</td>\n",
              "      <td>Cleaning staff</td>\n",
              "      <td>9.0</td>\n",
              "      <td>31.0</td>\n",
              "      <td>2.0</td>\n",
              "      <td>157500.0</td>\n",
              "      <td>4</td>\n",
              "      <td>6.0</td>\n",
              "      <td>3.0</td>\n",
              "    </tr>\n",
              "  </tbody>\n",
              "</table>\n",
              "<p>6 rows × 22 columns</p>\n",
              "</div>\n",
              "      <button class=\"colab-df-convert\" onclick=\"convertToInteractive('df-29955b55-c773-4ffd-878c-adf20d19dc54')\"\n",
              "              title=\"Convert this dataframe to an interactive table.\"\n",
              "              style=\"display:none;\">\n",
              "        \n",
              "  <svg xmlns=\"http://www.w3.org/2000/svg\" height=\"24px\"viewBox=\"0 0 24 24\"\n",
              "       width=\"24px\">\n",
              "    <path d=\"M0 0h24v24H0V0z\" fill=\"none\"/>\n",
              "    <path d=\"M18.56 5.44l.94 2.06.94-2.06 2.06-.94-2.06-.94-.94-2.06-.94 2.06-2.06.94zm-11 1L8.5 8.5l.94-2.06 2.06-.94-2.06-.94L8.5 2.5l-.94 2.06-2.06.94zm10 10l.94 2.06.94-2.06 2.06-.94-2.06-.94-.94-2.06-.94 2.06-2.06.94z\"/><path d=\"M17.41 7.96l-1.37-1.37c-.4-.4-.92-.59-1.43-.59-.52 0-1.04.2-1.43.59L10.3 9.45l-7.72 7.72c-.78.78-.78 2.05 0 2.83L4 21.41c.39.39.9.59 1.41.59.51 0 1.02-.2 1.41-.59l7.78-7.78 2.81-2.81c.8-.78.8-2.07 0-2.86zM5.41 20L4 18.59l7.72-7.72 1.47 1.35L5.41 20z\"/>\n",
              "  </svg>\n",
              "      </button>\n",
              "      \n",
              "  <style>\n",
              "    .colab-df-container {\n",
              "      display:flex;\n",
              "      flex-wrap:wrap;\n",
              "      gap: 12px;\n",
              "    }\n",
              "\n",
              "    .colab-df-convert {\n",
              "      background-color: #E8F0FE;\n",
              "      border: none;\n",
              "      border-radius: 50%;\n",
              "      cursor: pointer;\n",
              "      display: none;\n",
              "      fill: #1967D2;\n",
              "      height: 32px;\n",
              "      padding: 0 0 0 0;\n",
              "      width: 32px;\n",
              "    }\n",
              "\n",
              "    .colab-df-convert:hover {\n",
              "      background-color: #E2EBFA;\n",
              "      box-shadow: 0px 1px 2px rgba(60, 64, 67, 0.3), 0px 1px 3px 1px rgba(60, 64, 67, 0.15);\n",
              "      fill: #174EA6;\n",
              "    }\n",
              "\n",
              "    [theme=dark] .colab-df-convert {\n",
              "      background-color: #3B4455;\n",
              "      fill: #D2E3FC;\n",
              "    }\n",
              "\n",
              "    [theme=dark] .colab-df-convert:hover {\n",
              "      background-color: #434B5C;\n",
              "      box-shadow: 0px 1px 3px 1px rgba(0, 0, 0, 0.15);\n",
              "      filter: drop-shadow(0px 1px 2px rgba(0, 0, 0, 0.3));\n",
              "      fill: #FFFFFF;\n",
              "    }\n",
              "  </style>\n",
              "\n",
              "      <script>\n",
              "        const buttonEl =\n",
              "          document.querySelector('#df-29955b55-c773-4ffd-878c-adf20d19dc54 button.colab-df-convert');\n",
              "        buttonEl.style.display =\n",
              "          google.colab.kernel.accessAllowed ? 'block' : 'none';\n",
              "\n",
              "        async function convertToInteractive(key) {\n",
              "          const element = document.querySelector('#df-29955b55-c773-4ffd-878c-adf20d19dc54');\n",
              "          const dataTable =\n",
              "            await google.colab.kernel.invokeFunction('convertToInteractive',\n",
              "                                                     [key], {});\n",
              "          if (!dataTable) return;\n",
              "\n",
              "          const docLinkHtml = 'Like what you see? Visit the ' +\n",
              "            '<a target=\"_blank\" href=https://colab.research.google.com/notebooks/data_table.ipynb>data table notebook</a>'\n",
              "            + ' to learn more about interactive tables.';\n",
              "          element.innerHTML = '';\n",
              "          dataTable['output_type'] = 'display_data';\n",
              "          await google.colab.output.renderOutput(dataTable, element);\n",
              "          const docLink = document.createElement('div');\n",
              "          docLink.innerHTML = docLinkHtml;\n",
              "          element.appendChild(docLink);\n",
              "        }\n",
              "      </script>\n",
              "    </div>\n",
              "  </div>\n",
              "  "
            ]
          },
          "metadata": {},
          "execution_count": 66
        }
      ],
      "source": [
        "train[train['child_num']>=7]"
      ]
    },
    {
      "cell_type": "code",
      "execution_count": null,
      "metadata": {
        "id": "wN4KWo3p4Z_X",
        "outputId": "4767c246-1449-414a-c734-76df19de3333",
        "colab": {
          "base_uri": "https://localhost:8080/",
          "height": 176
        }
      },
      "outputs": [
        {
          "output_type": "error",
          "ename": "NameError",
          "evalue": "ignored",
          "traceback": [
            "\u001b[0;31m---------------------------------------------------------------------------\u001b[0m",
            "\u001b[0;31mNameError\u001b[0m                                 Traceback (most recent call last)",
            "\u001b[0;32m<ipython-input-1-cf168d1d1f7b>\u001b[0m in \u001b[0;36m<module>\u001b[0;34m\u001b[0m\n\u001b[0;32m----> 1\u001b[0;31m \u001b[0mtrain\u001b[0m\u001b[0;34m.\u001b[0m\u001b[0mloc\u001b[0m\u001b[0;34m[\u001b[0m\u001b[0;34m(\u001b[0m\u001b[0mtrain\u001b[0m\u001b[0;34m[\u001b[0m\u001b[0;34m'child_num'\u001b[0m\u001b[0;34m]\u001b[0m\u001b[0;34m>=\u001b[0m\u001b[0;36m7\u001b[0m\u001b[0;34m)\u001b[0m\u001b[0;34m,\u001b[0m \u001b[0;34m'child_num'\u001b[0m\u001b[0;34m]\u001b[0m \u001b[0;34m=\u001b[0m \u001b[0;36m0\u001b[0m\u001b[0;34m\u001b[0m\u001b[0;34m\u001b[0m\u001b[0m\n\u001b[0m",
            "\u001b[0;31mNameError\u001b[0m: name 'train' is not defined"
          ]
        }
      ],
      "source": [
        "train.loc[(train['child_num']>=7), 'child_num'] = 0"
      ]
    },
    {
      "cell_type": "code",
      "execution_count": null,
      "metadata": {
        "id": "m121-4dK3mRA"
      },
      "outputs": [],
      "source": [
        "train[train['child_num']>=7]"
      ]
    },
    {
      "cell_type": "code",
      "execution_count": null,
      "metadata": {
        "colab": {
          "base_uri": "https://localhost:8080/",
          "height": 335
        },
        "id": "l9n2-KaM4k5e",
        "outputId": "0e4ade64-94f0-4e62-9873-5f7ff1b39ef0"
      },
      "outputs": [
        {
          "output_type": "display_data",
          "data": {
            "text/plain": [
              "<Figure size 504x360 with 1 Axes>"
            ],
            "image/png": "[encoded data removed]"
          },
          "metadata": {
            "needs_background": "light"
          }
        }
      ],
      "source": [
        "ax = plt.figure(figsize=(7, 5))\n",
        "ax = sns.countplot(x='child_num', data=train, color='skyblue')\n",
        "plt.show()"
      ]
    },
    {
      "cell_type": "markdown",
      "metadata": {
        "id": "5vlHMeLz73ux"
      },
      "source": [
        "#### **family_size**"
      ]
    },
    {
      "cell_type": "code",
      "execution_count": null,
      "metadata": {
        "colab": {
          "base_uri": "https://localhost:8080/",
          "height": 306
        },
        "id": "J5npB6YG75-N",
        "outputId": "3804be35-83d9-45bd-a6d2-6f4ef001ace8"
      },
      "outputs": [
        {
          "output_type": "display_data",
          "data": {
            "text/plain": [
              "<Figure size 504x360 with 1 Axes>"
            ],
            "image/png": "[encoded data removed]"
          },
          "metadata": {
            "needs_background": "light"
          }
        }
      ],
      "source": [
        "ax = plt.figure(figsize=(7, 5))\n",
        "ax = sns.boxplot(data=train,y=\"family_size\", width=0.3)\n",
        "plt.show()"
      ]
    },
    {
      "cell_type": "markdown",
      "metadata": {
        "id": "JpYtAo-eHjbC"
      },
      "source": [
        "> **IQR 밖의 이상치 확인**"
      ]
    },
    {
      "cell_type": "code",
      "execution_count": null,
      "metadata": {
        "colab": {
          "base_uri": "https://localhost:8080/"
        },
        "id": "BXA1U3Ei78Vl",
        "outputId": "4b8b54dc-2dfd-46d1-e9c8-58f39035b012"
      },
      "outputs": [
        {
          "output_type": "stream",
          "name": "stdout",
          "text": [
            "outlier의 수 :  6\n"
          ]
        }
      ],
      "source": [
        "df = train['family_size']\n",
        "quan_25 = np.percentile(df.values, 25)\n",
        "quan_75 = np.percentile(df.values, 75)\n",
        "iqr = quan_75 - quan_25\n",
        "lowest = quan_25 - iqr * 5\n",
        "highest = quan_75 + iqr * 5\n",
        "outlier_index = df[(df < lowest) | (df > highest)].index\n",
        "print('outlier의 수 : ' , len(outlier_index))"
      ]
    },
    {
      "cell_type": "markdown",
      "metadata": {
        "id": "I6H4pO5eHqzn"
      },
      "source": [
        "> **이상치를 최빈값 2.0으로 처리**"
      ]
    },
    {
      "cell_type": "code",
      "execution_count": null,
      "metadata": {
        "id": "RPbs_PNE7-Ep"
      },
      "outputs": [],
      "source": [
        "train.loc[outlier_index, 'family_size'] = 2.0"
      ]
    },
    {
      "cell_type": "code",
      "execution_count": null,
      "metadata": {
        "colab": {
          "base_uri": "https://localhost:8080/"
        },
        "id": "kXAJGZRS_GeN",
        "outputId": "88c15fa9-ccdc-4b90-a85c-1f17cc8ee6a1"
      },
      "outputs": [
        {
          "output_type": "stream",
          "name": "stdout",
          "text": [
            "outlier의 수 :  0\n"
          ]
        }
      ],
      "source": [
        "df = train['family_size']\n",
        "quan_25 = np.percentile(df.values, 25)\n",
        "quan_75 = np.percentile(df.values, 75)\n",
        "iqr = quan_75 - quan_25\n",
        "lowest = quan_25 - iqr * 5\n",
        "highest = quan_75 + iqr * 5\n",
        "outlier_index = df[(df < lowest) | (df > highest)].index\n",
        "print('outlier의 수 : ' , len(outlier_index))"
      ]
    },
    {
      "cell_type": "markdown",
      "metadata": {
        "id": "nN28zf8vE2Qy"
      },
      "source": [
        "#### **credit(Target variable)**\n",
        "> **float64형이지만 범주형 타겟값에 해당**"
      ]
    },
    {
      "cell_type": "code",
      "execution_count": null,
      "metadata": {
        "colab": {
          "base_uri": "https://localhost:8080/"
        },
        "id": "yncc2svFE10W",
        "outputId": "ed110f00-ba7d-4f51-e6b0-f6d7c386f8c3"
      },
      "outputs": [
        {
          "output_type": "execute_result",
          "data": {
            "text/plain": [
              "2.0    16968\n",
              "1.0     6267\n",
              "0.0     3222\n",
              "Name: credit, dtype: int64"
            ]
          },
          "metadata": {},
          "execution_count": 74
        }
      ],
      "source": [
        "train['credit'].value_counts()"
      ]
    },
    {
      "cell_type": "code",
      "execution_count": null,
      "metadata": {
        "colab": {
          "base_uri": "https://localhost:8080/",
          "height": 334
        },
        "id": "6NLB6siiE124",
        "outputId": "41abae69-1797-437a-fa66-243ea14adacb"
      },
      "outputs": [
        {
          "output_type": "display_data",
          "data": {
            "text/plain": [
              "<Figure size 504x360 with 1 Axes>"
            ],
            "image/png": "[encoded data removed]"
          },
          "metadata": {
            "needs_background": "light"
          }
        }
      ],
      "source": [
        "plt.figure(figsize=(7, 5))\n",
        "sns.countplot(data=train, x = 'credit')\n",
        "plt.show()"
      ]
    },
    {
      "cell_type": "markdown",
      "metadata": {
        "id": "IkdOsw4g_NdR"
      },
      "source": [
        "#### **상관관계 확인**\n"
      ]
    },
    {
      "cell_type": "code",
      "execution_count": null,
      "metadata": {
        "colab": {
          "base_uri": "https://localhost:8080/",
          "height": 466
        },
        "id": "s7lH1B1f9AP9",
        "outputId": "d701ba1b-01c4-4199-ebdd-a5291d6dec90"
      },
      "outputs": [
        {
          "output_type": "display_data",
          "data": {
            "text/plain": [
              "<Figure size 648x432 with 2 Axes>"
            ],
            "image/png": "[encoded data removed]"
          },
          "metadata": {
            "needs_background": "light"
          }
        }
      ],
      "source": [
        "corrmat = train.corr()\n",
        "plt.subplots(figsize=(9, 6))\n",
        "sns.heatmap(corrmat, vmax=0.9, square=True)\n",
        "plt.show()"
      ]
    },
    {
      "cell_type": "code",
      "execution_count": null,
      "metadata": {
        "colab": {
          "base_uri": "https://localhost:8080/",
          "height": 552
        },
        "id": "EI7jJ6MAErnC",
        "outputId": "88f4872b-2a4f-4329-cde6-59f613eac50d"
      },
      "outputs": [
        {
          "output_type": "execute_result",
          "data": {
            "text/plain": [
              "                   child_num  income_total  DAYS_BIRTH  DAYS_EMPLOYED  \\\n",
              "child_num           1.000000      0.037614   -0.343878       0.045419   \n",
              "income_total        0.037614      1.000000   -0.105269       0.101048   \n",
              "DAYS_BIRTH         -0.343878     -0.105269    1.000000      -0.020244   \n",
              "DAYS_EMPLOYED       0.045419      0.101048   -0.020244       1.000000   \n",
              "work_phone          0.051301     -0.046067   -0.178752       0.108538   \n",
              "phone              -0.012180      0.001468    0.029247       0.041886   \n",
              "email               0.017928      0.091717   -0.111238       0.002904   \n",
              "family_size         0.886125      0.023033   -0.303860       0.057421   \n",
              "begin_month         0.007334      0.023768    0.057306       0.082669   \n",
              "credit              0.001538      0.005539    0.025187       0.022824   \n",
              "income_total_copy   0.033444      0.921367   -0.064155       0.086899   \n",
              "YEARS_EMPLOYED      0.039251      0.095309   -0.002725       0.998838   \n",
              "MONTHS_EMPLOYED     0.103155      0.120640   -0.350569       0.209883   \n",
              "WEEKS_EMPLOYED      0.115395      0.108988   -0.307182       0.195328   \n",
              "\n",
              "                   work_phone     phone     email  family_size  begin_month  \\\n",
              "child_num            0.051301 -0.012180  0.017928     0.886125     0.007334   \n",
              "income_total        -0.046067  0.001468  0.091717     0.023033     0.023768   \n",
              "DAYS_BIRTH          -0.178752  0.029247 -0.111238    -0.303860     0.057306   \n",
              "DAYS_EMPLOYED        0.108538  0.041886  0.002904     0.057421     0.082669   \n",
              "work_phone           1.000000  0.310256 -0.031048     0.068524     0.008563   \n",
              "phone                0.310256  1.000000  0.012494    -0.001161     0.014286   \n",
              "email               -0.031048  0.012494  1.000000     0.017406    -0.002320   \n",
              "family_size          0.068524 -0.001161  0.017406     1.000000     0.023416   \n",
              "begin_month          0.008563  0.014286 -0.002320     0.023416     1.000000   \n",
              "credit              -0.003134  0.003452  0.014812     0.006355     0.147477   \n",
              "income_total_copy   -0.034207  0.019013  0.089882     0.024459     0.018047   \n",
              "YEARS_EMPLOYED       0.104368  0.041923  0.000268     0.051432     0.083334   \n",
              "MONTHS_EMPLOYED      0.110995 -0.005529  0.061617     0.095277     0.002491   \n",
              "WEEKS_EMPLOYED       0.115761 -0.000074  0.032948     0.114493    -0.003576   \n",
              "\n",
              "                     credit  income_total_copy  YEARS_EMPLOYED  \\\n",
              "child_num          0.001538           0.033444        0.039251   \n",
              "income_total       0.005539           0.921367        0.095309   \n",
              "DAYS_BIRTH         0.025187          -0.064155       -0.002725   \n",
              "DAYS_EMPLOYED      0.022824           0.086899        0.998838   \n",
              "work_phone        -0.003134          -0.034207        0.104368   \n",
              "phone              0.003452           0.019013        0.041923   \n",
              "email              0.014812           0.089882        0.000268   \n",
              "family_size        0.006355           0.024459        0.051432   \n",
              "begin_month        0.147477           0.018047        0.083334   \n",
              "credit             1.000000           0.008555        0.023844   \n",
              "income_total_copy  0.008555           1.000000        0.082566   \n",
              "YEARS_EMPLOYED     0.023844           0.082566        1.000000   \n",
              "MONTHS_EMPLOYED   -0.014372           0.093546        0.179122   \n",
              "WEEKS_EMPLOYED     0.002108           0.091463        0.184740   \n",
              "\n",
              "                   MONTHS_EMPLOYED  WEEKS_EMPLOYED  \n",
              "child_num                 0.103155        0.115395  \n",
              "income_total              0.120640        0.108988  \n",
              "DAYS_BIRTH               -0.350569       -0.307182  \n",
              "DAYS_EMPLOYED             0.209883        0.195328  \n",
              "work_phone                0.110995        0.115761  \n",
              "phone                    -0.005529       -0.000074  \n",
              "email                     0.061617        0.032948  \n",
              "family_size               0.095277        0.114493  \n",
              "begin_month               0.002491       -0.003576  \n",
              "credit                   -0.014372        0.002108  \n",
              "income_total_copy         0.093546        0.091463  \n",
              "YEARS_EMPLOYED            0.179122        0.184740  \n",
              "MONTHS_EMPLOYED           1.000000        0.203699  \n",
              "WEEKS_EMPLOYED            0.203699        1.000000  "
            ],
            "text/html": [
              "\n",
              "  <div id=\"df-a76fe286-705c-4e39-93d3-62ef69eaadab\">\n",
              "    <div class=\"colab-df-container\">\n",
              "      <div>\n",
              "<style scoped>\n",
              "    .dataframe tbody tr th:only-of-type {\n",
              "        vertical-align: middle;\n",
              "    }\n",
              "\n",
              "    .dataframe tbody tr th {\n",
              "        vertical-align: top;\n",
              "    }\n",
              "\n",
              "    .dataframe thead th {\n",
              "        text-align: right;\n",
              "    }\n",
              "</style>\n",
              "<table border=\"1\" class=\"dataframe\">\n",
              "  <thead>\n",
              "    <tr style=\"text-align: right;\">\n",
              "      <th></th>\n",
              "      <th>child_num</th>\n",
              "      <th>income_total</th>\n",
              "      <th>DAYS_BIRTH</th>\n",
              "      <th>DAYS_EMPLOYED</th>\n",
              "      <th>work_phone</th>\n",
              "      <th>phone</th>\n",
              "      <th>email</th>\n",
              "      <th>family_size</th>\n",
              "      <th>begin_month</th>\n",
              "      <th>credit</th>\n",
              "      <th>income_total_copy</th>\n",
              "      <th>YEARS_EMPLOYED</th>\n",
              "      <th>MONTHS_EMPLOYED</th>\n",
              "      <th>WEEKS_EMPLOYED</th>\n",
              "    </tr>\n",
              "  </thead>\n",
              "  <tbody>\n",
              "    <tr>\n",
              "      <th>child_num</th>\n",
              "      <td>1.000000</td>\n",
              "      <td>0.037614</td>\n",
              "      <td>-0.343878</td>\n",
              "      <td>0.045419</td>\n",
              "      <td>0.051301</td>\n",
              "      <td>-0.012180</td>\n",
              "      <td>0.017928</td>\n",
              "      <td>0.886125</td>\n",
              "      <td>0.007334</td>\n",
              "      <td>0.001538</td>\n",
              "      <td>0.033444</td>\n",
              "      <td>0.039251</td>\n",
              "      <td>0.103155</td>\n",
              "      <td>0.115395</td>\n",
              "    </tr>\n",
              "    <tr>\n",
              "      <th>income_total</th>\n",
              "      <td>0.037614</td>\n",
              "      <td>1.000000</td>\n",
              "      <td>-0.105269</td>\n",
              "      <td>0.101048</td>\n",
              "      <td>-0.046067</td>\n",
              "      <td>0.001468</td>\n",
              "      <td>0.091717</td>\n",
              "      <td>0.023033</td>\n",
              "      <td>0.023768</td>\n",
              "      <td>0.005539</td>\n",
              "      <td>0.921367</td>\n",
              "      <td>0.095309</td>\n",
              "      <td>0.120640</td>\n",
              "      <td>0.108988</td>\n",
              "    </tr>\n",
              "    <tr>\n",
              "      <th>DAYS_BIRTH</th>\n",
              "      <td>-0.343878</td>\n",
              "      <td>-0.105269</td>\n",
              "      <td>1.000000</td>\n",
              "      <td>-0.020244</td>\n",
              "      <td>-0.178752</td>\n",
              "      <td>0.029247</td>\n",
              "      <td>-0.111238</td>\n",
              "      <td>-0.303860</td>\n",
              "      <td>0.057306</td>\n",
              "      <td>0.025187</td>\n",
              "      <td>-0.064155</td>\n",
              "      <td>-0.002725</td>\n",
              "      <td>-0.350569</td>\n",
              "      <td>-0.307182</td>\n",
              "    </tr>\n",
              "    <tr>\n",
              "      <th>DAYS_EMPLOYED</th>\n",
              "      <td>0.045419</td>\n",
              "      <td>0.101048</td>\n",
              "      <td>-0.020244</td>\n",
              "      <td>1.000000</td>\n",
              "      <td>0.108538</td>\n",
              "      <td>0.041886</td>\n",
              "      <td>0.002904</td>\n",
              "      <td>0.057421</td>\n",
              "      <td>0.082669</td>\n",
              "      <td>0.022824</td>\n",
              "      <td>0.086899</td>\n",
              "      <td>0.998838</td>\n",
              "      <td>0.209883</td>\n",
              "      <td>0.195328</td>\n",
              "    </tr>\n",
              "    <tr>\n",
              "      <th>work_phone</th>\n",
              "      <td>0.051301</td>\n",
              "      <td>-0.046067</td>\n",
              "      <td>-0.178752</td>\n",
              "      <td>0.108538</td>\n",
              "      <td>1.000000</td>\n",
              "      <td>0.310256</td>\n",
              "      <td>-0.031048</td>\n",
              "      <td>0.068524</td>\n",
              "      <td>0.008563</td>\n",
              "      <td>-0.003134</td>\n",
              "      <td>-0.034207</td>\n",
              "      <td>0.104368</td>\n",
              "      <td>0.110995</td>\n",
              "      <td>0.115761</td>\n",
              "    </tr>\n",
              "    <tr>\n",
              "      <th>phone</th>\n",
              "      <td>-0.012180</td>\n",
              "      <td>0.001468</td>\n",
              "      <td>0.029247</td>\n",
              "      <td>0.041886</td>\n",
              "      <td>0.310256</td>\n",
              "      <td>1.000000</td>\n",
              "      <td>0.012494</td>\n",
              "      <td>-0.001161</td>\n",
              "      <td>0.014286</td>\n",
              "      <td>0.003452</td>\n",
              "      <td>0.019013</td>\n",
              "      <td>0.041923</td>\n",
              "      <td>-0.005529</td>\n",
              "      <td>-0.000074</td>\n",
              "    </tr>\n",
              "    <tr>\n",
              "      <th>email</th>\n",
              "      <td>0.017928</td>\n",
              "      <td>0.091717</td>\n",
              "      <td>-0.111238</td>\n",
              "      <td>0.002904</td>\n",
              "      <td>-0.031048</td>\n",
              "      <td>0.012494</td>\n",
              "      <td>1.000000</td>\n",
              "      <td>0.017406</td>\n",
              "      <td>-0.002320</td>\n",
              "      <td>0.014812</td>\n",
              "      <td>0.089882</td>\n",
              "      <td>0.000268</td>\n",
              "      <td>0.061617</td>\n",
              "      <td>0.032948</td>\n",
              "    </tr>\n",
              "    <tr>\n",
              "      <th>family_size</th>\n",
              "      <td>0.886125</td>\n",
              "      <td>0.023033</td>\n",
              "      <td>-0.303860</td>\n",
              "      <td>0.057421</td>\n",
              "      <td>0.068524</td>\n",
              "      <td>-0.001161</td>\n",
              "      <td>0.017406</td>\n",
              "      <td>1.000000</td>\n",
              "      <td>0.023416</td>\n",
              "      <td>0.006355</td>\n",
              "      <td>0.024459</td>\n",
              "      <td>0.051432</td>\n",
              "      <td>0.095277</td>\n",
              "      <td>0.114493</td>\n",
              "    </tr>\n",
              "    <tr>\n",
              "      <th>begin_month</th>\n",
              "      <td>0.007334</td>\n",
              "      <td>0.023768</td>\n",
              "      <td>0.057306</td>\n",
              "      <td>0.082669</td>\n",
              "      <td>0.008563</td>\n",
              "      <td>0.014286</td>\n",
              "      <td>-0.002320</td>\n",
              "      <td>0.023416</td>\n",
              "      <td>1.000000</td>\n",
              "      <td>0.147477</td>\n",
              "      <td>0.018047</td>\n",
              "      <td>0.083334</td>\n",
              "      <td>0.002491</td>\n",
              "      <td>-0.003576</td>\n",
              "    </tr>\n",
              "    <tr>\n",
              "      <th>credit</th>\n",
              "      <td>0.001538</td>\n",
              "      <td>0.005539</td>\n",
              "      <td>0.025187</td>\n",
              "      <td>0.022824</td>\n",
              "      <td>-0.003134</td>\n",
              "      <td>0.003452</td>\n",
              "      <td>0.014812</td>\n",
              "      <td>0.006355</td>\n",
              "      <td>0.147477</td>\n",
              "      <td>1.000000</td>\n",
              "      <td>0.008555</td>\n",
              "      <td>0.023844</td>\n",
              "      <td>-0.014372</td>\n",
              "      <td>0.002108</td>\n",
              "    </tr>\n",
              "    <tr>\n",
              "      <th>income_total_copy</th>\n",
              "      <td>0.033444</td>\n",
              "      <td>0.921367</td>\n",
              "      <td>-0.064155</td>\n",
              "      <td>0.086899</td>\n",
              "      <td>-0.034207</td>\n",
              "      <td>0.019013</td>\n",
              "      <td>0.089882</td>\n",
              "      <td>0.024459</td>\n",
              "      <td>0.018047</td>\n",
              "      <td>0.008555</td>\n",
              "      <td>1.000000</td>\n",
              "      <td>0.082566</td>\n",
              "      <td>0.093546</td>\n",
              "      <td>0.091463</td>\n",
              "    </tr>\n",
              "    <tr>\n",
              "      <th>YEARS_EMPLOYED</th>\n",
              "      <td>0.039251</td>\n",
              "      <td>0.095309</td>\n",
              "      <td>-0.002725</td>\n",
              "      <td>0.998838</td>\n",
              "      <td>0.104368</td>\n",
              "      <td>0.041923</td>\n",
              "      <td>0.000268</td>\n",
              "      <td>0.051432</td>\n",
              "      <td>0.083334</td>\n",
              "      <td>0.023844</td>\n",
              "      <td>0.082566</td>\n",
              "      <td>1.000000</td>\n",
              "      <td>0.179122</td>\n",
              "      <td>0.184740</td>\n",
              "    </tr>\n",
              "    <tr>\n",
              "      <th>MONTHS_EMPLOYED</th>\n",
              "      <td>0.103155</td>\n",
              "      <td>0.120640</td>\n",
              "      <td>-0.350569</td>\n",
              "      <td>0.209883</td>\n",
              "      <td>0.110995</td>\n",
              "      <td>-0.005529</td>\n",
              "      <td>0.061617</td>\n",
              "      <td>0.095277</td>\n",
              "      <td>0.002491</td>\n",
              "      <td>-0.014372</td>\n",
              "      <td>0.093546</td>\n",
              "      <td>0.179122</td>\n",
              "      <td>1.000000</td>\n",
              "      <td>0.203699</td>\n",
              "    </tr>\n",
              "    <tr>\n",
              "      <th>WEEKS_EMPLOYED</th>\n",
              "      <td>0.115395</td>\n",
              "      <td>0.108988</td>\n",
              "      <td>-0.307182</td>\n",
              "      <td>0.195328</td>\n",
              "      <td>0.115761</td>\n",
              "      <td>-0.000074</td>\n",
              "      <td>0.032948</td>\n",
              "      <td>0.114493</td>\n",
              "      <td>-0.003576</td>\n",
              "      <td>0.002108</td>\n",
              "      <td>0.091463</td>\n",
              "      <td>0.184740</td>\n",
              "      <td>0.203699</td>\n",
              "      <td>1.000000</td>\n",
              "    </tr>\n",
              "  </tbody>\n",
              "</table>\n",
              "</div>\n",
              "      <button class=\"colab-df-convert\" onclick=\"convertToInteractive('df-a76fe286-705c-4e39-93d3-62ef69eaadab')\"\n",
              "              title=\"Convert this dataframe to an interactive table.\"\n",
              "              style=\"display:none;\">\n",
              "        \n",
              "  <svg xmlns=\"http://www.w3.org/2000/svg\" height=\"24px\"viewBox=\"0 0 24 24\"\n",
              "       width=\"24px\">\n",
              "    <path d=\"M0 0h24v24H0V0z\" fill=\"none\"/>\n",
              "    <path d=\"M18.56 5.44l.94 2.06.94-2.06 2.06-.94-2.06-.94-.94-2.06-.94 2.06-2.06.94zm-11 1L8.5 8.5l.94-2.06 2.06-.94-2.06-.94L8.5 2.5l-.94 2.06-2.06.94zm10 10l.94 2.06.94-2.06 2.06-.94-2.06-.94-.94-2.06-.94 2.06-2.06.94z\"/><path d=\"M17.41 7.96l-1.37-1.37c-.4-.4-.92-.59-1.43-.59-.52 0-1.04.2-1.43.59L10.3 9.45l-7.72 7.72c-.78.78-.78 2.05 0 2.83L4 21.41c.39.39.9.59 1.41.59.51 0 1.02-.2 1.41-.59l7.78-7.78 2.81-2.81c.8-.78.8-2.07 0-2.86zM5.41 20L4 18.59l7.72-7.72 1.47 1.35L5.41 20z\"/>\n",
              "  </svg>\n",
              "      </button>\n",
              "      \n",
              "  <style>\n",
              "    .colab-df-container {\n",
              "      display:flex;\n",
              "      flex-wrap:wrap;\n",
              "      gap: 12px;\n",
              "    }\n",
              "\n",
              "    .colab-df-convert {\n",
              "      background-color: #E8F0FE;\n",
              "      border: none;\n",
              "      border-radius: 50%;\n",
              "      cursor: pointer;\n",
              "      display: none;\n",
              "      fill: #1967D2;\n",
              "      height: 32px;\n",
              "      padding: 0 0 0 0;\n",
              "      width: 32px;\n",
              "    }\n",
              "\n",
              "    .colab-df-convert:hover {\n",
              "      background-color: #E2EBFA;\n",
              "      box-shadow: 0px 1px 2px rgba(60, 64, 67, 0.3), 0px 1px 3px 1px rgba(60, 64, 67, 0.15);\n",
              "      fill: #174EA6;\n",
              "    }\n",
              "\n",
              "    [theme=dark] .colab-df-convert {\n",
              "      background-color: #3B4455;\n",
              "      fill: #D2E3FC;\n",
              "    }\n",
              "\n",
              "    [theme=dark] .colab-df-convert:hover {\n",
              "      background-color: #434B5C;\n",
              "      box-shadow: 0px 1px 3px 1px rgba(0, 0, 0, 0.15);\n",
              "      filter: drop-shadow(0px 1px 2px rgba(0, 0, 0, 0.3));\n",
              "      fill: #FFFFFF;\n",
              "    }\n",
              "  </style>\n",
              "\n",
              "      <script>\n",
              "        const buttonEl =\n",
              "          document.querySelector('#df-a76fe286-705c-4e39-93d3-62ef69eaadab button.colab-df-convert');\n",
              "        buttonEl.style.display =\n",
              "          google.colab.kernel.accessAllowed ? 'block' : 'none';\n",
              "\n",
              "        async function convertToInteractive(key) {\n",
              "          const element = document.querySelector('#df-a76fe286-705c-4e39-93d3-62ef69eaadab');\n",
              "          const dataTable =\n",
              "            await google.colab.kernel.invokeFunction('convertToInteractive',\n",
              "                                                     [key], {});\n",
              "          if (!dataTable) return;\n",
              "\n",
              "          const docLinkHtml = 'Like what you see? Visit the ' +\n",
              "            '<a target=\"_blank\" href=https://colab.research.google.com/notebooks/data_table.ipynb>data table notebook</a>'\n",
              "            + ' to learn more about interactive tables.';\n",
              "          element.innerHTML = '';\n",
              "          dataTable['output_type'] = 'display_data';\n",
              "          await google.colab.output.renderOutput(dataTable, element);\n",
              "          const docLink = document.createElement('div');\n",
              "          docLink.innerHTML = docLinkHtml;\n",
              "          element.appendChild(docLink);\n",
              "        }\n",
              "      </script>\n",
              "    </div>\n",
              "  </div>\n",
              "  "
            ]
          },
          "metadata": {},
          "execution_count": 77
        }
      ],
      "source": [
        "corrmat"
      ]
    },
    {
      "cell_type": "markdown",
      "metadata": {
        "id": "9E9GGHkdcxvL"
      },
      "source": [
        "#### **범주형 변수 라벨 인코딩**"
      ]
    },
    {
      "cell_type": "markdown",
      "metadata": {
        "id": "lSLshITlcxvN"
      },
      "source": [
        "> **모델 학습을 위해 범주형 변수에 대해 라벨 인코딩을 진행**"
      ]
    },
    {
      "cell_type": "code",
      "source": [
        "train1 = train.copy()\n",
        "test1 = test.copy()"
      ],
      "metadata": {
        "id": "EHDBl-l-dnHr"
      },
      "execution_count": null,
      "outputs": []
    },
    {
      "cell_type": "code",
      "execution_count": null,
      "metadata": {
        "id": "SrnGdU4rcxvN"
      },
      "outputs": [],
      "source": [
        "train1['gender'] = train['gender'].replace(['F','M'], [0,1])\n",
        "test1['gender'] = test['gender'].replace(['F','M'], [0,1])\n",
        "\n",
        "train1['car'] = train['car'].replace(['N','Y'], [0,1])\n",
        "test1['car'] = test['car'].replace(['N','Y'], [0,1])\n",
        "\n",
        "train1['reality'] = train['reality'].replace(['N','Y'], [0,1])\n",
        "test1['reality'] = test['reality'].replace(['N','Y'], [0,1])"
      ]
    },
    {
      "cell_type": "code",
      "execution_count": null,
      "metadata": {
        "colab": {
          "base_uri": "https://localhost:8080/"
        },
        "outputId": "35d39d86-2491-447b-fed2-0787851abb55",
        "id": "yLzvx5CvcxvO"
      },
      "outputs": [
        {
          "output_type": "execute_result",
          "data": {
            "text/plain": [
              "gender                 int64\n",
              "car                    int64\n",
              "reality                int64\n",
              "child_num              int64\n",
              "income_total         float64\n",
              "income_type           object\n",
              "edu_type              object\n",
              "family_type           object\n",
              "house_type            object\n",
              "DAYS_BIRTH             int64\n",
              "DAYS_EMPLOYED          int64\n",
              "work_phone             int64\n",
              "phone                  int64\n",
              "email                  int64\n",
              "occyp_type            object\n",
              "family_size          float64\n",
              "begin_month          float64\n",
              "credit               float64\n",
              "income_total_copy    float64\n",
              "YEARS_EMPLOYED         int64\n",
              "MONTHS_EMPLOYED      float64\n",
              "WEEKS_EMPLOYED       float64\n",
              "dtype: object"
            ]
          },
          "metadata": {},
          "execution_count": 80
        }
      ],
      "source": [
        "train1.dtypes"
      ]
    },
    {
      "cell_type": "code",
      "execution_count": null,
      "metadata": {
        "id": "6_98H5OqcxvO"
      },
      "outputs": [],
      "source": [
        "from category_encoders.ordinal import OrdinalEncoder\n",
        "\n",
        "cate_list = ['income_type', 'edu_type', 'family_type', 'house_type', 'occyp_type']\n",
        "\n",
        "encoder = OrdinalEncoder(cate_list)\n",
        "train1[cate_list] = encoder.fit_transform(train1[cate_list])\n",
        "test1[cate_list] = encoder.fit_transform(test1[cate_list])"
      ]
    },
    {
      "cell_type": "markdown",
      "metadata": {
        "id": "mqzczMF4cxvO"
      },
      "source": [
        "> **object형 변수 사라짐**"
      ]
    },
    {
      "cell_type": "code",
      "execution_count": null,
      "metadata": {
        "colab": {
          "base_uri": "https://localhost:8080/"
        },
        "outputId": "db0160a7-a1ca-4f16-c3fa-4dca5adbf99f",
        "id": "Bex9GaQMcxvP"
      },
      "outputs": [
        {
          "output_type": "execute_result",
          "data": {
            "text/plain": [
              "gender                 int64\n",
              "car                    int64\n",
              "reality                int64\n",
              "child_num              int64\n",
              "income_total         float64\n",
              "income_type            int64\n",
              "edu_type               int64\n",
              "family_type            int64\n",
              "house_type             int64\n",
              "DAYS_BIRTH             int64\n",
              "DAYS_EMPLOYED          int64\n",
              "work_phone             int64\n",
              "phone                  int64\n",
              "email                  int64\n",
              "occyp_type             int64\n",
              "family_size          float64\n",
              "begin_month          float64\n",
              "credit               float64\n",
              "income_total_copy    float64\n",
              "YEARS_EMPLOYED         int64\n",
              "MONTHS_EMPLOYED      float64\n",
              "WEEKS_EMPLOYED       float64\n",
              "dtype: object"
            ]
          },
          "metadata": {},
          "execution_count": 82
        }
      ],
      "source": [
        "train1.dtypes"
      ]
    },
    {
      "cell_type": "code",
      "execution_count": null,
      "metadata": {
        "id": "OKft_t6ScxvP"
      },
      "outputs": [],
      "source": [
        "for col in ['reality', 'income_type', 'edu_type', 'family_type', 'house_type', 'occyp_type']:\n",
        "  train1[col] = train1[col].astype('int64')\n",
        "  test1[col] = test1[col].astype('int64')"
      ]
    },
    {
      "cell_type": "code",
      "execution_count": null,
      "metadata": {
        "id": "ryg_-V4bcxvQ"
      },
      "outputs": [],
      "source": [
        "train1['credit'] = train1['credit'].astype('int64')"
      ]
    },
    {
      "cell_type": "code",
      "execution_count": null,
      "metadata": {
        "colab": {
          "base_uri": "https://localhost:8080/"
        },
        "outputId": "ebeae81d-768c-4720-8753-08e4a3e3b614",
        "id": "olrIlgSecxvQ"
      },
      "outputs": [
        {
          "output_type": "execute_result",
          "data": {
            "text/plain": [
              "gender                 int64\n",
              "car                    int64\n",
              "reality                int64\n",
              "child_num              int64\n",
              "income_total         float64\n",
              "income_type            int64\n",
              "edu_type               int64\n",
              "family_type            int64\n",
              "house_type             int64\n",
              "DAYS_BIRTH             int64\n",
              "DAYS_EMPLOYED          int64\n",
              "work_phone             int64\n",
              "phone                  int64\n",
              "email                  int64\n",
              "occyp_type             int64\n",
              "family_size          float64\n",
              "begin_month          float64\n",
              "credit                 int64\n",
              "income_total_copy    float64\n",
              "YEARS_EMPLOYED         int64\n",
              "MONTHS_EMPLOYED      float64\n",
              "WEEKS_EMPLOYED       float64\n",
              "dtype: object"
            ]
          },
          "metadata": {},
          "execution_count": 85
        }
      ],
      "source": [
        "train1.dtypes"
      ]
    },
    {
      "cell_type": "code",
      "source": [
        "test1.dtypes"
      ],
      "metadata": {
        "id": "jnbZprYdpguc",
        "outputId": "78654063-663c-4536-8563-4dd735ac539e",
        "colab": {
          "base_uri": "https://localhost:8080/"
        }
      },
      "execution_count": null,
      "outputs": [
        {
          "output_type": "execute_result",
          "data": {
            "text/plain": [
              "gender                 int64\n",
              "car                    int64\n",
              "reality                int64\n",
              "child_num              int64\n",
              "income_total         float64\n",
              "income_type            int64\n",
              "edu_type               int64\n",
              "family_type            int64\n",
              "house_type             int64\n",
              "DAYS_BIRTH             int64\n",
              "DAYS_EMPLOYED          int64\n",
              "work_phone             int64\n",
              "phone                  int64\n",
              "email                  int64\n",
              "occyp_type             int64\n",
              "family_size          float64\n",
              "begin_month          float64\n",
              "income_total_copy    float64\n",
              "YEARS_EMPLOYED         int64\n",
              "MONTHS_EMPLOYED      float64\n",
              "WEEKS_EMPLOYED       float64\n",
              "dtype: object"
            ]
          },
          "metadata": {},
          "execution_count": 86
        }
      ]
    },
    {
      "cell_type": "markdown",
      "metadata": {
        "id": "TEgk0NFcEwRm"
      },
      "source": [
        "### **1차 전처리 후 변수 확인**\n",
        "> **train data와 test data의 모든 변수에 결측치 존재하지 않음**"
      ]
    },
    {
      "cell_type": "code",
      "execution_count": null,
      "metadata": {
        "colab": {
          "base_uri": "https://localhost:8080/"
        },
        "id": "JsVr8yVyE2No",
        "outputId": "a631a40f-6d2e-4716-bf42-ad681da3f4c7"
      },
      "outputs": [
        {
          "output_type": "execute_result",
          "data": {
            "text/plain": [
              "gender               0\n",
              "car                  0\n",
              "reality              0\n",
              "child_num            0\n",
              "income_total         0\n",
              "income_type          0\n",
              "edu_type             0\n",
              "family_type          0\n",
              "house_type           0\n",
              "DAYS_BIRTH           0\n",
              "DAYS_EMPLOYED        0\n",
              "work_phone           0\n",
              "phone                0\n",
              "email                0\n",
              "occyp_type           0\n",
              "family_size          0\n",
              "begin_month          0\n",
              "credit               0\n",
              "income_total_copy    0\n",
              "YEARS_EMPLOYED       0\n",
              "MONTHS_EMPLOYED      0\n",
              "WEEKS_EMPLOYED       0\n",
              "dtype: int64"
            ]
          },
          "metadata": {},
          "execution_count": 87
        }
      ],
      "source": [
        "train1.isnull().sum()"
      ]
    },
    {
      "cell_type": "code",
      "execution_count": null,
      "metadata": {
        "colab": {
          "base_uri": "https://localhost:8080/"
        },
        "id": "SbF7gIhCFqnO",
        "outputId": "b7a9acb3-2faf-4012-c8e0-fee943d929d8"
      },
      "outputs": [
        {
          "output_type": "execute_result",
          "data": {
            "text/plain": [
              "gender               0\n",
              "car                  0\n",
              "reality              0\n",
              "child_num            0\n",
              "income_total         0\n",
              "income_type          0\n",
              "edu_type             0\n",
              "family_type          0\n",
              "house_type           0\n",
              "DAYS_BIRTH           0\n",
              "DAYS_EMPLOYED        0\n",
              "work_phone           0\n",
              "phone                0\n",
              "email                0\n",
              "occyp_type           0\n",
              "family_size          0\n",
              "begin_month          0\n",
              "income_total_copy    0\n",
              "YEARS_EMPLOYED       0\n",
              "MONTHS_EMPLOYED      0\n",
              "WEEKS_EMPLOYED       0\n",
              "dtype: int64"
            ]
          },
          "metadata": {},
          "execution_count": 88
        }
      ],
      "source": [
        "test1.isnull().sum()"
      ]
    },
    {
      "cell_type": "markdown",
      "metadata": {
        "id": "8vAQ7TSqXO3r"
      },
      "source": [
        "### **1차 전처리 데이터셋 저장**"
      ]
    },
    {
      "cell_type": "code",
      "execution_count": null,
      "metadata": {
        "id": "cBxZGUzPXTOe"
      },
      "outputs": [],
      "source": [
        "train1.to_csv(\"/content/drive/MyDrive/ESAA 2학기 /프로젝트(1)/데이터/train_after1.csv\", index = False)\n",
        "test1.to_csv(\"/content/drive/MyDrive/ESAA 2학기 /프로젝트(1)/데이터/test_after1.csv\", index = False)"
      ]
    },
    {
      "cell_type": "markdown",
      "metadata": {
        "id": "RSXTRu_yFHXd"
      },
      "source": [
        "### **2차 전처리 진행**\n",
        "\n",
        "\n"
      ]
    },
    {
      "cell_type": "markdown",
      "metadata": {
        "id": "YI-pOjLAAhhR"
      },
      "source": [
        "#### **1. 새로운 age 변수 생성**\n",
        "> **DAYS_BIRTH를 365로 나눠서 나이를 의미하는 변수 age 생성**"
      ]
    },
    {
      "cell_type": "code",
      "execution_count": null,
      "metadata": {
        "id": "LsqRJseZFduh"
      },
      "outputs": [],
      "source": [
        "train['age'] = train['DAYS_BIRTH'] // 365\n",
        "test['age'] = test['DAYS_BIRTH'] // 365"
      ]
    },
    {
      "cell_type": "code",
      "execution_count": null,
      "metadata": {
        "colab": {
          "base_uri": "https://localhost:8080/",
          "height": 369
        },
        "id": "dli0eTTqScIP",
        "outputId": "97f62234-716a-456a-a644-704ce566b9ab"
      },
      "outputs": [
        {
          "output_type": "display_data",
          "data": {
            "text/plain": [
              "<Figure size 360x360 with 1 Axes>"
            ],
            "image/png": "[encoded data removed]"
          },
          "metadata": {
            "needs_background": "light"
          }
        }
      ],
      "source": [
        "sns.displot(train['age'], kde=True, rug=False)\n",
        "plt.show()"
      ]
    },
    {
      "cell_type": "markdown",
      "metadata": {
        "id": "HMjQPEOwAkH3"
      },
      "source": [
        "#### **2. 가족 수 별 소득 per_income 생성**\n",
        "> **로그 변환 전의 Income_total을 family_size로 나눠서 가족 수 별 소득을 의미하는 변수 per_income** 생성"
      ]
    },
    {
      "cell_type": "code",
      "execution_count": null,
      "metadata": {
        "id": "VqAtWsJDFi4d"
      },
      "outputs": [],
      "source": [
        "train['per_income'] = train['income_total_copy'] / train['family_size']\n",
        "test['per_income'] = test['income_total_copy'] / test['family_size']"
      ]
    },
    {
      "cell_type": "markdown",
      "metadata": {
        "id": "TxZFiS54KrpR"
      },
      "source": [
        "> **새롭게 생성한 per_income 변수에 로그 변환 적용**"
      ]
    },
    {
      "cell_type": "code",
      "execution_count": null,
      "metadata": {
        "id": "_GavlJ_HSS95"
      },
      "outputs": [],
      "source": [
        "train['per_income'] = round(np.log1p(train['per_income']), 2)\n",
        "test['per_income'] = round(np.log1p(test['per_income']), 2)"
      ]
    },
    {
      "cell_type": "markdown",
      "metadata": {
        "id": "AuKoOshFAmy0"
      },
      "source": [
        "#### **3. 취업 나이 파생 변수 생성**\n",
        "> **DAYS_EMPLOYED 변수를 365로 나눠서 고용 연차를 의미하는 변수 year_work 생성**"
      ]
    },
    {
      "cell_type": "code",
      "execution_count": null,
      "metadata": {
        "id": "ZbHusgvNK7V3"
      },
      "outputs": [],
      "source": [
        "train['year_work'] = train['DAYS_EMPLOYED'] // 365\n",
        "test['year_work'] = test['DAYS_EMPLOYED'] // 365"
      ]
    },
    {
      "cell_type": "markdown",
      "metadata": {
        "id": "UXwxDfeXK-L1"
      },
      "source": [
        "> **'age-year_work'로 나이에서 고용 연차를 빼서 취업 나이를 나타내는 새로운 변수 age_work 생성**"
      ]
    },
    {
      "cell_type": "code",
      "execution_count": null,
      "metadata": {
        "id": "xQ1NFkbhRbc2"
      },
      "outputs": [],
      "source": [
        "train['age_work'] = train['age'] - train['year_work']\n",
        "test['age_work'] = test['age'] - test['year_work']"
      ]
    },
    {
      "cell_type": "markdown",
      "metadata": {
        "id": "K4a26PKkLblX"
      },
      "source": [
        "> **새로운 변수 age_work 생성 후에는 고용 연차 변수 year_work는 제거**"
      ]
    },
    {
      "cell_type": "code",
      "execution_count": null,
      "metadata": {
        "id": "bnU78DoDSnEc"
      },
      "outputs": [],
      "source": [
        "train.drop('year_work', axis=1, inplace=True)\n",
        "test.drop('year_work', axis=1, inplace=True)"
      ]
    },
    {
      "cell_type": "markdown",
      "metadata": {
        "id": "nH-dYCJ0CJM4"
      },
      "source": [
        "#### **4. 근무일 당 소득 변수 income_per_day 생성**"
      ]
    },
    {
      "cell_type": "code",
      "execution_count": null,
      "metadata": {
        "id": "6Cg7cy7Jm679"
      },
      "outputs": [],
      "source": [
        "train['income_per_day'] = train['income_total_copy']//train['DAYS_EMPLOYED']\n",
        "test['income_per_day'] = test['income_total_copy']//test['DAYS_EMPLOYED']"
      ]
    },
    {
      "cell_type": "code",
      "execution_count": null,
      "metadata": {
        "id": "ZHo4IQZE2F5E"
      },
      "outputs": [],
      "source": [
        "train['income_per_day'] = train['income_per_day'].map(lambda x: 0 if x == np.inf else x)\n",
        "test['income_per_day']= test['income_per_day'].map(lambda x: 0 if x == np.inf else x)"
      ]
    },
    {
      "cell_type": "markdown",
      "metadata": {
        "id": "lWOIO5xFBwVN"
      },
      "source": [
        "#### **5. id 변수 생성**\n",
        "> **한 사람이 카드를 여러 개 사용할 수 있음을 고려하여, 개인을 특정할 수 있는 ID 변수 생성**\n",
        "\n",
        "> **Categorical Variable을 이용하여 변수 생성**"
      ]
    },
    {
      "cell_type": "code",
      "execution_count": null,
      "metadata": {
        "id": "jU67Zuu9BuUT"
      },
      "outputs": [],
      "source": [
        "train['ID'] = \\\n",
        "train['gender'].astype(str) + '_' + train['DAYS_BIRTH'].astype(str) + '_' + train['car'].astype(str) + '_' + train['reality'].astype(str) + '_'+  \\\n",
        "train['income_type'].astype(str) + '_' + train['edu_type'].astype(str) + '_' + train['family_type'].astype(str) + '_' + train['house_type'].astype(str) +'_'+\\\n",
        "train['occyp_type'].astype(str) + '_' +  train['phone'].astype(str) + '_' + train['work_phone'].astype(str) + '_' + train['email'].astype(str) + '_' + \\\n",
        "train['child_num'].astype(str) + '_' + train['family_size'].astype(str)"
      ]
    },
    {
      "cell_type": "code",
      "execution_count": null,
      "metadata": {
        "id": "_DW4nGmfJmqn"
      },
      "outputs": [],
      "source": [
        "test['ID'] = \\\n",
        "test['gender'].astype(str) + '_' + test['DAYS_BIRTH'].astype(str) + '_' + test['car'].astype(str) + '_' + test['reality'].astype(str) + '_' + \\\n",
        "test['income_type'].astype(str) + '_' + test['edu_type'].astype(str) + '_' + test['family_type'].astype(str) + '_' + test['house_type'].astype(str) +'_'+\\\n",
        "test['occyp_type'].astype(str) + '_' +  test['phone'].astype(str) + '_' + test['work_phone'].astype(str) + '_' + test['email'].astype(str) + '_' + \\\n",
        "test['child_num'].astype(str) + '_' +  test['family_size'].astype(str)"
      ]
    },
    {
      "cell_type": "code",
      "execution_count": null,
      "metadata": {
        "colab": {
          "base_uri": "https://localhost:8080/",
          "height": 473
        },
        "id": "kgSQHjWHq6dn",
        "outputId": "dc916da0-211f-48eb-ae3c-574d4b632442"
      },
      "outputs": [
        {
          "output_type": "execute_result",
          "data": {
            "text/plain": [
              "  gender car reality  child_num  income_total           income_type  \\\n",
              "0      F   N       N          0     12.218500  Commercial associate   \n",
              "1      F   N       Y          1     12.419170  Commercial associate   \n",
              "2      M   Y       Y          0     13.017005               Working   \n",
              "3      F   N       Y          0     12.218500  Commercial associate   \n",
              "4      F   Y       Y          0     11.967187         State servant   \n",
              "\n",
              "                        edu_type     family_type           house_type  \\\n",
              "0               Higher education         Married  Municipal apartment   \n",
              "1  Secondary / secondary special  Civil marriage    House / apartment   \n",
              "2               Higher education         Married    House / apartment   \n",
              "3  Secondary / secondary special         Married    House / apartment   \n",
              "4               Higher education         Married    House / apartment   \n",
              "\n",
              "   DAYS_BIRTH  ...  credit  income_total_copy  YEARS_EMPLOYED  \\\n",
              "0       13899  ...     1.0           202500.0              12   \n",
              "1       11380  ...     1.0           247500.0               4   \n",
              "2       19087  ...     2.0           450000.0              12   \n",
              "3       15088  ...     0.0           202500.0               5   \n",
              "4       15037  ...     2.0           157500.0               5   \n",
              "\n",
              "   MONTHS_EMPLOYED WEEKS_EMPLOYED  age  per_income  age_work  income_per_day  \\\n",
              "0              0.0            0.0   38       11.53        26            43.0   \n",
              "1              3.0            0.0   31       11.32        27           160.0   \n",
              "2              3.0            1.0   52       12.32        40           101.0   \n",
              "3              9.0            2.0   41       11.53        36            96.0   \n",
              "4             10.0            0.0   41       11.27        36            74.0   \n",
              "\n",
              "                                                  ID  \n",
              "0  F_13899_N_N_Commercial associate_Higher educat...  \n",
              "1  F_11380_N_Y_Commercial associate_Secondary / s...  \n",
              "2  M_19087_Y_Y_Working_Higher education_Married_H...  \n",
              "3  F_15088_N_Y_Commercial associate_Secondary / s...  \n",
              "4  F_15037_Y_Y_State servant_Higher education_Mar...  \n",
              "\n",
              "[5 rows x 27 columns]"
            ],
            "text/html": [
              "\n",
              "  <div id=\"df-247b9b2f-c062-4955-9d7e-b3454afa68e3\">\n",
              "    <div class=\"colab-df-container\">\n",
              "      <div>\n",
              "<style scoped>\n",
              "    .dataframe tbody tr th:only-of-type {\n",
              "        vertical-align: middle;\n",
              "    }\n",
              "\n",
              "    .dataframe tbody tr th {\n",
              "        vertical-align: top;\n",
              "    }\n",
              "\n",
              "    .dataframe thead th {\n",
              "        text-align: right;\n",
              "    }\n",
              "</style>\n",
              "<table border=\"1\" class=\"dataframe\">\n",
              "  <thead>\n",
              "    <tr style=\"text-align: right;\">\n",
              "      <th></th>\n",
              "      <th>gender</th>\n",
              "      <th>car</th>\n",
              "      <th>reality</th>\n",
              "      <th>child_num</th>\n",
              "      <th>income_total</th>\n",
              "      <th>income_type</th>\n",
              "      <th>edu_type</th>\n",
              "      <th>family_type</th>\n",
              "      <th>house_type</th>\n",
              "      <th>DAYS_BIRTH</th>\n",
              "      <th>...</th>\n",
              "      <th>credit</th>\n",
              "      <th>income_total_copy</th>\n",
              "      <th>YEARS_EMPLOYED</th>\n",
              "      <th>MONTHS_EMPLOYED</th>\n",
              "      <th>WEEKS_EMPLOYED</th>\n",
              "      <th>age</th>\n",
              "      <th>per_income</th>\n",
              "      <th>age_work</th>\n",
              "      <th>income_per_day</th>\n",
              "      <th>ID</th>\n",
              "    </tr>\n",
              "  </thead>\n",
              "  <tbody>\n",
              "    <tr>\n",
              "      <th>0</th>\n",
              "      <td>F</td>\n",
              "      <td>N</td>\n",
              "      <td>N</td>\n",
              "      <td>0</td>\n",
              "      <td>12.218500</td>\n",
              "      <td>Commercial associate</td>\n",
              "      <td>Higher education</td>\n",
              "      <td>Married</td>\n",
              "      <td>Municipal apartment</td>\n",
              "      <td>13899</td>\n",
              "      <td>...</td>\n",
              "      <td>1.0</td>\n",
              "      <td>202500.0</td>\n",
              "      <td>12</td>\n",
              "      <td>0.0</td>\n",
              "      <td>0.0</td>\n",
              "      <td>38</td>\n",
              "      <td>11.53</td>\n",
              "      <td>26</td>\n",
              "      <td>43.0</td>\n",
              "      <td>F_13899_N_N_Commercial associate_Higher educat...</td>\n",
              "    </tr>\n",
              "    <tr>\n",
              "      <th>1</th>\n",
              "      <td>F</td>\n",
              "      <td>N</td>\n",
              "      <td>Y</td>\n",
              "      <td>1</td>\n",
              "      <td>12.419170</td>\n",
              "      <td>Commercial associate</td>\n",
              "      <td>Secondary / secondary special</td>\n",
              "      <td>Civil marriage</td>\n",
              "      <td>House / apartment</td>\n",
              "      <td>11380</td>\n",
              "      <td>...</td>\n",
              "      <td>1.0</td>\n",
              "      <td>247500.0</td>\n",
              "      <td>4</td>\n",
              "      <td>3.0</td>\n",
              "      <td>0.0</td>\n",
              "      <td>31</td>\n",
              "      <td>11.32</td>\n",
              "      <td>27</td>\n",
              "      <td>160.0</td>\n",
              "      <td>F_11380_N_Y_Commercial associate_Secondary / s...</td>\n",
              "    </tr>\n",
              "    <tr>\n",
              "      <th>2</th>\n",
              "      <td>M</td>\n",
              "      <td>Y</td>\n",
              "      <td>Y</td>\n",
              "      <td>0</td>\n",
              "      <td>13.017005</td>\n",
              "      <td>Working</td>\n",
              "      <td>Higher education</td>\n",
              "      <td>Married</td>\n",
              "      <td>House / apartment</td>\n",
              "      <td>19087</td>\n",
              "      <td>...</td>\n",
              "      <td>2.0</td>\n",
              "      <td>450000.0</td>\n",
              "      <td>12</td>\n",
              "      <td>3.0</td>\n",
              "      <td>1.0</td>\n",
              "      <td>52</td>\n",
              "      <td>12.32</td>\n",
              "      <td>40</td>\n",
              "      <td>101.0</td>\n",
              "      <td>M_19087_Y_Y_Working_Higher education_Married_H...</td>\n",
              "    </tr>\n",
              "    <tr>\n",
              "      <th>3</th>\n",
              "      <td>F</td>\n",
              "      <td>N</td>\n",
              "      <td>Y</td>\n",
              "      <td>0</td>\n",
              "      <td>12.218500</td>\n",
              "      <td>Commercial associate</td>\n",
              "      <td>Secondary / secondary special</td>\n",
              "      <td>Married</td>\n",
              "      <td>House / apartment</td>\n",
              "      <td>15088</td>\n",
              "      <td>...</td>\n",
              "      <td>0.0</td>\n",
              "      <td>202500.0</td>\n",
              "      <td>5</td>\n",
              "      <td>9.0</td>\n",
              "      <td>2.0</td>\n",
              "      <td>41</td>\n",
              "      <td>11.53</td>\n",
              "      <td>36</td>\n",
              "      <td>96.0</td>\n",
              "      <td>F_15088_N_Y_Commercial associate_Secondary / s...</td>\n",
              "    </tr>\n",
              "    <tr>\n",
              "      <th>4</th>\n",
              "      <td>F</td>\n",
              "      <td>Y</td>\n",
              "      <td>Y</td>\n",
              "      <td>0</td>\n",
              "      <td>11.967187</td>\n",
              "      <td>State servant</td>\n",
              "      <td>Higher education</td>\n",
              "      <td>Married</td>\n",
              "      <td>House / apartment</td>\n",
              "      <td>15037</td>\n",
              "      <td>...</td>\n",
              "      <td>2.0</td>\n",
              "      <td>157500.0</td>\n",
              "      <td>5</td>\n",
              "      <td>10.0</td>\n",
              "      <td>0.0</td>\n",
              "      <td>41</td>\n",
              "      <td>11.27</td>\n",
              "      <td>36</td>\n",
              "      <td>74.0</td>\n",
              "      <td>F_15037_Y_Y_State servant_Higher education_Mar...</td>\n",
              "    </tr>\n",
              "  </tbody>\n",
              "</table>\n",
              "<p>5 rows × 27 columns</p>\n",
              "</div>\n",
              "      <button class=\"colab-df-convert\" onclick=\"convertToInteractive('df-247b9b2f-c062-4955-9d7e-b3454afa68e3')\"\n",
              "              title=\"Convert this dataframe to an interactive table.\"\n",
              "              style=\"display:none;\">\n",
              "        \n",
              "  <svg xmlns=\"http://www.w3.org/2000/svg\" height=\"24px\"viewBox=\"0 0 24 24\"\n",
              "       width=\"24px\">\n",
              "    <path d=\"M0 0h24v24H0V0z\" fill=\"none\"/>\n",
              "    <path d=\"M18.56 5.44l.94 2.06.94-2.06 2.06-.94-2.06-.94-.94-2.06-.94 2.06-2.06.94zm-11 1L8.5 8.5l.94-2.06 2.06-.94-2.06-.94L8.5 2.5l-.94 2.06-2.06.94zm10 10l.94 2.06.94-2.06 2.06-.94-2.06-.94-.94-2.06-.94 2.06-2.06.94z\"/><path d=\"M17.41 7.96l-1.37-1.37c-.4-.4-.92-.59-1.43-.59-.52 0-1.04.2-1.43.59L10.3 9.45l-7.72 7.72c-.78.78-.78 2.05 0 2.83L4 21.41c.39.39.9.59 1.41.59.51 0 1.02-.2 1.41-.59l7.78-7.78 2.81-2.81c.8-.78.8-2.07 0-2.86zM5.41 20L4 18.59l7.72-7.72 1.47 1.35L5.41 20z\"/>\n",
              "  </svg>\n",
              "      </button>\n",
              "      \n",
              "  <style>\n",
              "    .colab-df-container {\n",
              "      display:flex;\n",
              "      flex-wrap:wrap;\n",
              "      gap: 12px;\n",
              "    }\n",
              "\n",
              "    .colab-df-convert {\n",
              "      background-color: #E8F0FE;\n",
              "      border: none;\n",
              "      border-radius: 50%;\n",
              "      cursor: pointer;\n",
              "      display: none;\n",
              "      fill: #1967D2;\n",
              "      height: 32px;\n",
              "      padding: 0 0 0 0;\n",
              "      width: 32px;\n",
              "    }\n",
              "\n",
              "    .colab-df-convert:hover {\n",
              "      background-color: #E2EBFA;\n",
              "      box-shadow: 0px 1px 2px rgba(60, 64, 67, 0.3), 0px 1px 3px 1px rgba(60, 64, 67, 0.15);\n",
              "      fill: #174EA6;\n",
              "    }\n",
              "\n",
              "    [theme=dark] .colab-df-convert {\n",
              "      background-color: #3B4455;\n",
              "      fill: #D2E3FC;\n",
              "    }\n",
              "\n",
              "    [theme=dark] .colab-df-convert:hover {\n",
              "      background-color: #434B5C;\n",
              "      box-shadow: 0px 1px 3px 1px rgba(0, 0, 0, 0.15);\n",
              "      filter: drop-shadow(0px 1px 2px rgba(0, 0, 0, 0.3));\n",
              "      fill: #FFFFFF;\n",
              "    }\n",
              "  </style>\n",
              "\n",
              "      <script>\n",
              "        const buttonEl =\n",
              "          document.querySelector('#df-247b9b2f-c062-4955-9d7e-b3454afa68e3 button.colab-df-convert');\n",
              "        buttonEl.style.display =\n",
              "          google.colab.kernel.accessAllowed ? 'block' : 'none';\n",
              "\n",
              "        async function convertToInteractive(key) {\n",
              "          const element = document.querySelector('#df-247b9b2f-c062-4955-9d7e-b3454afa68e3');\n",
              "          const dataTable =\n",
              "            await google.colab.kernel.invokeFunction('convertToInteractive',\n",
              "                                                     [key], {});\n",
              "          if (!dataTable) return;\n",
              "\n",
              "          const docLinkHtml = 'Like what you see? Visit the ' +\n",
              "            '<a target=\"_blank\" href=https://colab.research.google.com/notebooks/data_table.ipynb>data table notebook</a>'\n",
              "            + ' to learn more about interactive tables.';\n",
              "          element.innerHTML = '';\n",
              "          dataTable['output_type'] = 'display_data';\n",
              "          await google.colab.output.renderOutput(dataTable, element);\n",
              "          const docLink = document.createElement('div');\n",
              "          docLink.innerHTML = docLinkHtml;\n",
              "          element.appendChild(docLink);\n",
              "        }\n",
              "      </script>\n",
              "    </div>\n",
              "  </div>\n",
              "  "
            ]
          },
          "metadata": {},
          "execution_count": 101
        }
      ],
      "source": [
        "train.head()"
      ]
    },
    {
      "cell_type": "code",
      "execution_count": null,
      "metadata": {
        "colab": {
          "base_uri": "https://localhost:8080/"
        },
        "id": "Ru-fqo9XVtSK",
        "outputId": "69ae83ce-563f-45bf-8d47-accea6dc15a1"
      },
      "outputs": [
        {
          "output_type": "execute_result",
          "data": {
            "text/plain": [
              "F_15519_N_Y_Commercial associate_Secondary / secondary special_Single / not married_Rented apartment_Laborers_0_0_0_0_1.0          35\n",
              "M_16768_N_N_Working_Higher education_Civil marriage_House / apartment_Laborers_0_1_0_2_4.0                                         24\n",
              "F_12676_N_Y_State servant_Secondary / secondary special_Single / not married_House / apartment_Waiters/barmen staff_0_0_0_1_2.0    24\n",
              "M_9952_Y_Y_Working_Secondary / secondary special_Single / not married_House / apartment_etc_0_0_0_0_1.0                            21\n",
              "F_22976_N_Y_Pensioner_Secondary / secondary special_Single / not married_House / apartment_etc_0_0_0_0_1.0                         20\n",
              "                                                                                                                                   ..\n",
              "F_12277_N_N_State servant_Secondary / secondary special_Married_House / apartment_Laborers_1_1_0_4_6.0                              1\n",
              "F_18029_Y_Y_Working_Secondary / secondary special_Single / not married_House / apartment_Laborers_0_0_0_0_1.0                       1\n",
              "F_9461_N_Y_Working_Higher education_Married_With parents_etc_0_0_1_0_2.0                                                            1\n",
              "F_16545_N_Y_Working_Secondary / secondary special_Married_House / apartment_Sales staff_0_1_0_1_3.0                                 1\n",
              "F_19569_N_N_Working_Secondary / secondary special_Civil marriage_House / apartment_Security staff_0_0_0_0_2.0                       1\n",
              "Name: ID, Length: 8748, dtype: int64"
            ]
          },
          "metadata": {},
          "execution_count": 102
        }
      ],
      "source": [
        "train['ID'].value_counts()"
      ]
    },
    {
      "cell_type": "code",
      "execution_count": null,
      "metadata": {
        "colab": {
          "base_uri": "https://localhost:8080/"
        },
        "id": "unsoJ3awjXxk",
        "outputId": "7b0d6a4b-2b63-436a-a017-323b8cf51e98"
      },
      "outputs": [
        {
          "output_type": "execute_result",
          "data": {
            "text/plain": [
              "0"
            ]
          },
          "metadata": {},
          "execution_count": 103
        }
      ],
      "source": [
        "train['ID'].isnull().sum()"
      ]
    },
    {
      "cell_type": "markdown",
      "metadata": {
        "id": "1leUwza2S1tF"
      },
      "source": [
        "#### **6. 범주형 변수 라벨 인코딩**"
      ]
    },
    {
      "cell_type": "markdown",
      "metadata": {
        "id": "96Lf5ax3czxX"
      },
      "source": [
        "> **모델 학습을 위해 범주형 변수에 대해 라벨 인코딩을 진행**"
      ]
    },
    {
      "cell_type": "code",
      "execution_count": null,
      "metadata": {
        "id": "e6g8O-p4RugI"
      },
      "outputs": [],
      "source": [
        "train['gender'] = train['gender'].replace(['F','M'], [0,1])\n",
        "test['gender'] = test['gender'].replace(['F','M'], [0,1])\n",
        "\n",
        "train['car'] = train['car'].replace(['N','Y'], [0,1])\n",
        "test['car'] = test['car'].replace(['N','Y'], [0,1])\n",
        "\n",
        "train['reality'] = train['reality'].replace(['N','Y'], [0,1])\n",
        "test['reality'] = test['reality'].replace(['N','Y'], [0,1])"
      ]
    },
    {
      "cell_type": "code",
      "execution_count": null,
      "metadata": {
        "colab": {
          "base_uri": "https://localhost:8080/"
        },
        "id": "H41S6qDErNZc",
        "outputId": "bf6d6b12-d28a-4708-d486-c60cc32f4015"
      },
      "outputs": [
        {
          "output_type": "execute_result",
          "data": {
            "text/plain": [
              "gender                 int64\n",
              "car                    int64\n",
              "reality                int64\n",
              "child_num              int64\n",
              "income_total         float64\n",
              "income_type           object\n",
              "edu_type              object\n",
              "family_type           object\n",
              "house_type            object\n",
              "DAYS_BIRTH             int64\n",
              "DAYS_EMPLOYED          int64\n",
              "work_phone             int64\n",
              "phone                  int64\n",
              "email                  int64\n",
              "occyp_type            object\n",
              "family_size          float64\n",
              "begin_month          float64\n",
              "credit               float64\n",
              "income_total_copy    float64\n",
              "YEARS_EMPLOYED         int64\n",
              "MONTHS_EMPLOYED      float64\n",
              "WEEKS_EMPLOYED       float64\n",
              "age                    int64\n",
              "per_income           float64\n",
              "age_work               int64\n",
              "income_per_day       float64\n",
              "ID                    object\n",
              "dtype: object"
            ]
          },
          "metadata": {},
          "execution_count": 105
        }
      ],
      "source": [
        "train.dtypes"
      ]
    },
    {
      "cell_type": "code",
      "execution_count": null,
      "metadata": {
        "id": "Cn_ycIIgHk0l"
      },
      "outputs": [],
      "source": [
        "from category_encoders.ordinal import OrdinalEncoder\n",
        "\n",
        "cate_list = ['income_type', 'edu_type', 'family_type', 'house_type', 'occyp_type', 'ID']\n",
        "\n",
        "encoder = OrdinalEncoder(cate_list)\n",
        "train[cate_list] = encoder.fit_transform(train[cate_list])\n",
        "test[cate_list] = encoder.fit_transform(test[cate_list])"
      ]
    },
    {
      "cell_type": "markdown",
      "metadata": {
        "id": "jGgoqS4ieWqs"
      },
      "source": [
        "> **object형 변수 사라짐**"
      ]
    },
    {
      "cell_type": "code",
      "execution_count": null,
      "metadata": {
        "colab": {
          "base_uri": "https://localhost:8080/"
        },
        "id": "IjsIF8cZeRHR",
        "outputId": "d109b9a0-f7f7-4e05-d84f-9422c9d94899"
      },
      "outputs": [
        {
          "output_type": "execute_result",
          "data": {
            "text/plain": [
              "gender                 int64\n",
              "car                    int64\n",
              "reality                int64\n",
              "child_num              int64\n",
              "income_total         float64\n",
              "income_type            int64\n",
              "edu_type               int64\n",
              "family_type            int64\n",
              "house_type             int64\n",
              "DAYS_BIRTH             int64\n",
              "DAYS_EMPLOYED          int64\n",
              "work_phone             int64\n",
              "phone                  int64\n",
              "email                  int64\n",
              "occyp_type             int64\n",
              "family_size          float64\n",
              "begin_month          float64\n",
              "credit               float64\n",
              "income_total_copy    float64\n",
              "YEARS_EMPLOYED         int64\n",
              "MONTHS_EMPLOYED      float64\n",
              "WEEKS_EMPLOYED       float64\n",
              "age                    int64\n",
              "per_income           float64\n",
              "age_work               int64\n",
              "income_per_day       float64\n",
              "ID                     int64\n",
              "dtype: object"
            ]
          },
          "metadata": {},
          "execution_count": 107
        }
      ],
      "source": [
        "train.dtypes"
      ]
    },
    {
      "cell_type": "code",
      "execution_count": null,
      "metadata": {
        "colab": {
          "base_uri": "https://localhost:8080/"
        },
        "id": "_xlw0itwTi21",
        "outputId": "e0ce8353-c31c-4b68-c826-9830f31c5ea5"
      },
      "outputs": [
        {
          "output_type": "execute_result",
          "data": {
            "text/plain": [
              "131     35\n",
              "386     24\n",
              "728     24\n",
              "1493    21\n",
              "1379    20\n",
              "        ..\n",
              "5655     1\n",
              "5656     1\n",
              "5657     1\n",
              "5659     1\n",
              "8748     1\n",
              "Name: ID, Length: 8748, dtype: int64"
            ]
          },
          "metadata": {},
          "execution_count": 108
        }
      ],
      "source": [
        "train['ID'].value_counts()"
      ]
    },
    {
      "cell_type": "code",
      "execution_count": null,
      "metadata": {
        "id": "a9KehAGYlndx"
      },
      "outputs": [],
      "source": [
        "for col in ['reality', 'income_type', 'edu_type', 'family_type', 'house_type', 'occyp_type', 'ID']:\n",
        "  train[col] = train[col].astype('int64')\n",
        "  test[col] = test[col].astype('int64')"
      ]
    },
    {
      "cell_type": "code",
      "execution_count": null,
      "metadata": {
        "id": "_tjwvcyis8_g"
      },
      "outputs": [],
      "source": [
        "train['credit'] = train['credit'].astype('int64')"
      ]
    },
    {
      "cell_type": "code",
      "execution_count": null,
      "metadata": {
        "colab": {
          "base_uri": "https://localhost:8080/"
        },
        "id": "Bu0D-1U2tCpR",
        "outputId": "3552a551-253e-422d-ad38-dfb3a1a2db89"
      },
      "outputs": [
        {
          "output_type": "execute_result",
          "data": {
            "text/plain": [
              "gender                 int64\n",
              "car                    int64\n",
              "reality                int64\n",
              "child_num              int64\n",
              "income_total         float64\n",
              "income_type            int64\n",
              "edu_type               int64\n",
              "family_type            int64\n",
              "house_type             int64\n",
              "DAYS_BIRTH             int64\n",
              "DAYS_EMPLOYED          int64\n",
              "work_phone             int64\n",
              "phone                  int64\n",
              "email                  int64\n",
              "occyp_type             int64\n",
              "family_size          float64\n",
              "begin_month          float64\n",
              "credit                 int64\n",
              "income_total_copy    float64\n",
              "YEARS_EMPLOYED         int64\n",
              "MONTHS_EMPLOYED      float64\n",
              "WEEKS_EMPLOYED       float64\n",
              "age                    int64\n",
              "per_income           float64\n",
              "age_work               int64\n",
              "income_per_day       float64\n",
              "ID                     int64\n",
              "dtype: object"
            ]
          },
          "metadata": {},
          "execution_count": 111
        }
      ],
      "source": [
        "train.dtypes"
      ]
    },
    {
      "cell_type": "markdown",
      "metadata": {
        "id": "OuMysRKrCD79"
      },
      "source": [
        "#### **7. 수치형 변수 스케일링**\n"
      ]
    },
    {
      "cell_type": "markdown",
      "metadata": {
        "id": "c5avJVUqfHSN"
      },
      "source": [
        "> **숫자가 너무 커서 스케일링 안되는 문제 해결**"
      ]
    },
    {
      "cell_type": "code",
      "execution_count": null,
      "metadata": {
        "id": "-hYQQ1zlM4pO"
      },
      "outputs": [],
      "source": [
        "train['per_income'] = round(train['per_income'], 2)\n",
        "test['per_income'] = round(test['per_income'], 2)"
      ]
    },
    {
      "cell_type": "code",
      "execution_count": null,
      "metadata": {
        "colab": {
          "base_uri": "https://localhost:8080/",
          "height": 299
        },
        "id": "kF5pOUJeMwSh",
        "outputId": "a8d49ae3-e777-4677-94e3-e4051992d12b"
      },
      "outputs": [
        {
          "output_type": "execute_result",
          "data": {
            "text/plain": [
              "   gender  car  reality  child_num  income_total  income_type  edu_type  \\\n",
              "0       0    0        0          0     12.218500            1         1   \n",
              "1       0    0        1          1     12.419170            1         2   \n",
              "2       1    1        1          0     13.017005            2         1   \n",
              "3       0    0        1          0     12.218500            1         2   \n",
              "4       0    1        1          0     11.967187            3         1   \n",
              "\n",
              "   family_type  house_type  DAYS_BIRTH  ...  credit  income_total_copy  \\\n",
              "0            1           1       13899  ...       1           202500.0   \n",
              "1            2           2       11380  ...       1           247500.0   \n",
              "2            1           2       19087  ...       2           450000.0   \n",
              "3            1           2       15088  ...       0           202500.0   \n",
              "4            1           2       15037  ...       2           157500.0   \n",
              "\n",
              "   YEARS_EMPLOYED  MONTHS_EMPLOYED  WEEKS_EMPLOYED  age  per_income  age_work  \\\n",
              "0              12              0.0             0.0   38       11.53        26   \n",
              "1               4              3.0             0.0   31       11.32        27   \n",
              "2              12              3.0             1.0   52       12.32        40   \n",
              "3               5              9.0             2.0   41       11.53        36   \n",
              "4               5             10.0             0.0   41       11.27        36   \n",
              "\n",
              "   income_per_day  ID  \n",
              "0            43.0   1  \n",
              "1           160.0   2  \n",
              "2           101.0   3  \n",
              "3            96.0   4  \n",
              "4            74.0   5  \n",
              "\n",
              "[5 rows x 27 columns]"
            ],
            "text/html": [
              "\n",
              "  <div id=\"df-4cb64d1e-5aa2-4f48-bbfc-8d5341de22ea\">\n",
              "    <div class=\"colab-df-container\">\n",
              "      <div>\n",
              "<style scoped>\n",
              "    .dataframe tbody tr th:only-of-type {\n",
              "        vertical-align: middle;\n",
              "    }\n",
              "\n",
              "    .dataframe tbody tr th {\n",
              "        vertical-align: top;\n",
              "    }\n",
              "\n",
              "    .dataframe thead th {\n",
              "        text-align: right;\n",
              "    }\n",
              "</style>\n",
              "<table border=\"1\" class=\"dataframe\">\n",
              "  <thead>\n",
              "    <tr style=\"text-align: right;\">\n",
              "      <th></th>\n",
              "      <th>gender</th>\n",
              "      <th>car</th>\n",
              "      <th>reality</th>\n",
              "      <th>child_num</th>\n",
              "      <th>income_total</th>\n",
              "      <th>income_type</th>\n",
              "      <th>edu_type</th>\n",
              "      <th>family_type</th>\n",
              "      <th>house_type</th>\n",
              "      <th>DAYS_BIRTH</th>\n",
              "      <th>...</th>\n",
              "      <th>credit</th>\n",
              "      <th>income_total_copy</th>\n",
              "      <th>YEARS_EMPLOYED</th>\n",
              "      <th>MONTHS_EMPLOYED</th>\n",
              "      <th>WEEKS_EMPLOYED</th>\n",
              "      <th>age</th>\n",
              "      <th>per_income</th>\n",
              "      <th>age_work</th>\n",
              "      <th>income_per_day</th>\n",
              "      <th>ID</th>\n",
              "    </tr>\n",
              "  </thead>\n",
              "  <tbody>\n",
              "    <tr>\n",
              "      <th>0</th>\n",
              "      <td>0</td>\n",
              "      <td>0</td>\n",
              "      <td>0</td>\n",
              "      <td>0</td>\n",
              "      <td>12.218500</td>\n",
              "      <td>1</td>\n",
              "      <td>1</td>\n",
              "      <td>1</td>\n",
              "      <td>1</td>\n",
              "      <td>13899</td>\n",
              "      <td>...</td>\n",
              "      <td>1</td>\n",
              "      <td>202500.0</td>\n",
              "      <td>12</td>\n",
              "      <td>0.0</td>\n",
              "      <td>0.0</td>\n",
              "      <td>38</td>\n",
              "      <td>11.53</td>\n",
              "      <td>26</td>\n",
              "      <td>43.0</td>\n",
              "      <td>1</td>\n",
              "    </tr>\n",
              "    <tr>\n",
              "      <th>1</th>\n",
              "      <td>0</td>\n",
              "      <td>0</td>\n",
              "      <td>1</td>\n",
              "      <td>1</td>\n",
              "      <td>12.419170</td>\n",
              "      <td>1</td>\n",
              "      <td>2</td>\n",
              "      <td>2</td>\n",
              "      <td>2</td>\n",
              "      <td>11380</td>\n",
              "      <td>...</td>\n",
              "      <td>1</td>\n",
              "      <td>247500.0</td>\n",
              "      <td>4</td>\n",
              "      <td>3.0</td>\n",
              "      <td>0.0</td>\n",
              "      <td>31</td>\n",
              "      <td>11.32</td>\n",
              "      <td>27</td>\n",
              "      <td>160.0</td>\n",
              "      <td>2</td>\n",
              "    </tr>\n",
              "    <tr>\n",
              "      <th>2</th>\n",
              "      <td>1</td>\n",
              "      <td>1</td>\n",
              "      <td>1</td>\n",
              "      <td>0</td>\n",
              "      <td>13.017005</td>\n",
              "      <td>2</td>\n",
              "      <td>1</td>\n",
              "      <td>1</td>\n",
              "      <td>2</td>\n",
              "      <td>19087</td>\n",
              "      <td>...</td>\n",
              "      <td>2</td>\n",
              "      <td>450000.0</td>\n",
              "      <td>12</td>\n",
              "      <td>3.0</td>\n",
              "      <td>1.0</td>\n",
              "      <td>52</td>\n",
              "      <td>12.32</td>\n",
              "      <td>40</td>\n",
              "      <td>101.0</td>\n",
              "      <td>3</td>\n",
              "    </tr>\n",
              "    <tr>\n",
              "      <th>3</th>\n",
              "      <td>0</td>\n",
              "      <td>0</td>\n",
              "      <td>1</td>\n",
              "      <td>0</td>\n",
              "      <td>12.218500</td>\n",
              "      <td>1</td>\n",
              "      <td>2</td>\n",
              "      <td>1</td>\n",
              "      <td>2</td>\n",
              "      <td>15088</td>\n",
              "      <td>...</td>\n",
              "      <td>0</td>\n",
              "      <td>202500.0</td>\n",
              "      <td>5</td>\n",
              "      <td>9.0</td>\n",
              "      <td>2.0</td>\n",
              "      <td>41</td>\n",
              "      <td>11.53</td>\n",
              "      <td>36</td>\n",
              "      <td>96.0</td>\n",
              "      <td>4</td>\n",
              "    </tr>\n",
              "    <tr>\n",
              "      <th>4</th>\n",
              "      <td>0</td>\n",
              "      <td>1</td>\n",
              "      <td>1</td>\n",
              "      <td>0</td>\n",
              "      <td>11.967187</td>\n",
              "      <td>3</td>\n",
              "      <td>1</td>\n",
              "      <td>1</td>\n",
              "      <td>2</td>\n",
              "      <td>15037</td>\n",
              "      <td>...</td>\n",
              "      <td>2</td>\n",
              "      <td>157500.0</td>\n",
              "      <td>5</td>\n",
              "      <td>10.0</td>\n",
              "      <td>0.0</td>\n",
              "      <td>41</td>\n",
              "      <td>11.27</td>\n",
              "      <td>36</td>\n",
              "      <td>74.0</td>\n",
              "      <td>5</td>\n",
              "    </tr>\n",
              "  </tbody>\n",
              "</table>\n",
              "<p>5 rows × 27 columns</p>\n",
              "</div>\n",
              "      <button class=\"colab-df-convert\" onclick=\"convertToInteractive('df-4cb64d1e-5aa2-4f48-bbfc-8d5341de22ea')\"\n",
              "              title=\"Convert this dataframe to an interactive table.\"\n",
              "              style=\"display:none;\">\n",
              "        \n",
              "  <svg xmlns=\"http://www.w3.org/2000/svg\" height=\"24px\"viewBox=\"0 0 24 24\"\n",
              "       width=\"24px\">\n",
              "    <path d=\"M0 0h24v24H0V0z\" fill=\"none\"/>\n",
              "    <path d=\"M18.56 5.44l.94 2.06.94-2.06 2.06-.94-2.06-.94-.94-2.06-.94 2.06-2.06.94zm-11 1L8.5 8.5l.94-2.06 2.06-.94-2.06-.94L8.5 2.5l-.94 2.06-2.06.94zm10 10l.94 2.06.94-2.06 2.06-.94-2.06-.94-.94-2.06-.94 2.06-2.06.94z\"/><path d=\"M17.41 7.96l-1.37-1.37c-.4-.4-.92-.59-1.43-.59-.52 0-1.04.2-1.43.59L10.3 9.45l-7.72 7.72c-.78.78-.78 2.05 0 2.83L4 21.41c.39.39.9.59 1.41.59.51 0 1.02-.2 1.41-.59l7.78-7.78 2.81-2.81c.8-.78.8-2.07 0-2.86zM5.41 20L4 18.59l7.72-7.72 1.47 1.35L5.41 20z\"/>\n",
              "  </svg>\n",
              "      </button>\n",
              "      \n",
              "  <style>\n",
              "    .colab-df-container {\n",
              "      display:flex;\n",
              "      flex-wrap:wrap;\n",
              "      gap: 12px;\n",
              "    }\n",
              "\n",
              "    .colab-df-convert {\n",
              "      background-color: #E8F0FE;\n",
              "      border: none;\n",
              "      border-radius: 50%;\n",
              "      cursor: pointer;\n",
              "      display: none;\n",
              "      fill: #1967D2;\n",
              "      height: 32px;\n",
              "      padding: 0 0 0 0;\n",
              "      width: 32px;\n",
              "    }\n",
              "\n",
              "    .colab-df-convert:hover {\n",
              "      background-color: #E2EBFA;\n",
              "      box-shadow: 0px 1px 2px rgba(60, 64, 67, 0.3), 0px 1px 3px 1px rgba(60, 64, 67, 0.15);\n",
              "      fill: #174EA6;\n",
              "    }\n",
              "\n",
              "    [theme=dark] .colab-df-convert {\n",
              "      background-color: #3B4455;\n",
              "      fill: #D2E3FC;\n",
              "    }\n",
              "\n",
              "    [theme=dark] .colab-df-convert:hover {\n",
              "      background-color: #434B5C;\n",
              "      box-shadow: 0px 1px 3px 1px rgba(0, 0, 0, 0.15);\n",
              "      filter: drop-shadow(0px 1px 2px rgba(0, 0, 0, 0.3));\n",
              "      fill: #FFFFFF;\n",
              "    }\n",
              "  </style>\n",
              "\n",
              "      <script>\n",
              "        const buttonEl =\n",
              "          document.querySelector('#df-4cb64d1e-5aa2-4f48-bbfc-8d5341de22ea button.colab-df-convert');\n",
              "        buttonEl.style.display =\n",
              "          google.colab.kernel.accessAllowed ? 'block' : 'none';\n",
              "\n",
              "        async function convertToInteractive(key) {\n",
              "          const element = document.querySelector('#df-4cb64d1e-5aa2-4f48-bbfc-8d5341de22ea');\n",
              "          const dataTable =\n",
              "            await google.colab.kernel.invokeFunction('convertToInteractive',\n",
              "                                                     [key], {});\n",
              "          if (!dataTable) return;\n",
              "\n",
              "          const docLinkHtml = 'Like what you see? Visit the ' +\n",
              "            '<a target=\"_blank\" href=https://colab.research.google.com/notebooks/data_table.ipynb>data table notebook</a>'\n",
              "            + ' to learn more about interactive tables.';\n",
              "          element.innerHTML = '';\n",
              "          dataTable['output_type'] = 'display_data';\n",
              "          await google.colab.output.renderOutput(dataTable, element);\n",
              "          const docLink = document.createElement('div');\n",
              "          docLink.innerHTML = docLinkHtml;\n",
              "          element.appendChild(docLink);\n",
              "        }\n",
              "      </script>\n",
              "    </div>\n",
              "  </div>\n",
              "  "
            ]
          },
          "metadata": {},
          "execution_count": 113
        }
      ],
      "source": [
        "train.head()"
      ]
    },
    {
      "cell_type": "markdown",
      "metadata": {
        "id": "nbXJ_IJ5fWu6"
      },
      "source": [
        "> **수치형 변수를 스케일링**"
      ]
    },
    {
      "cell_type": "code",
      "execution_count": null,
      "metadata": {
        "id": "u3P3dURBH6gI"
      },
      "outputs": [],
      "source": [
        "numeric_list = ['DAYS_BIRTH', 'DAYS_EMPLOYED', 'begin_month', 'per_income', 'income_per_day']\n",
        "\n",
        "from sklearn.preprocessing import StandardScaler\n",
        "scaler = StandardScaler()\n",
        "\n",
        "train[numeric_list] = scaler.fit_transform(train[numeric_list])\n",
        "test[numeric_list] = scaler.transform(test[numeric_list])"
      ]
    },
    {
      "cell_type": "markdown",
      "metadata": {
        "id": "O-fmwvkmBKhb"
      },
      "source": [
        "####  **8. 다중 공선성이 높은 변수 및 피처 중요도가 낮은 피처 제거**\n",
        "> **family_size, DAYS_BIRTH, DAYS_EMPLOYED 피처를 제거**\n",
        "\n",
        "> **파생 변수를 만들기 위해 복사했던 income_total_copy 피처를 제거**"
      ]
    },
    {
      "cell_type": "code",
      "execution_count": null,
      "metadata": {
        "id": "zQhuPWmWBZxE"
      },
      "outputs": [],
      "source": [
        "train.drop(['family_size', 'DAYS_BIRTH', 'DAYS_EMPLOYED', 'income_total_copy'], axis=1, inplace=True)\n",
        "test.drop(['family_size', 'DAYS_BIRTH', 'DAYS_EMPLOYED', 'income_total_copy'], axis=1, inplace=True)"
      ]
    },
    {
      "cell_type": "markdown",
      "metadata": {
        "id": "-2gqikALDMSJ"
      },
      "source": [
        "### **최종 피처 확인**"
      ]
    },
    {
      "cell_type": "code",
      "execution_count": null,
      "metadata": {
        "colab": {
          "base_uri": "https://localhost:8080/"
        },
        "id": "cTY-RpxvQweo",
        "outputId": "9a09d21c-3acf-4ae7-c253-4962981c4442"
      },
      "outputs": [
        {
          "output_type": "execute_result",
          "data": {
            "text/plain": [
              "Index(['gender', 'car', 'reality', 'child_num', 'income_total', 'income_type',\n",
              "       'edu_type', 'family_type', 'house_type', 'work_phone', 'phone', 'email',\n",
              "       'occyp_type', 'begin_month', 'credit', 'YEARS_EMPLOYED',\n",
              "       'MONTHS_EMPLOYED', 'WEEKS_EMPLOYED', 'age', 'per_income', 'age_work',\n",
              "       'income_per_day', 'ID'],\n",
              "      dtype='object')"
            ]
          },
          "metadata": {},
          "execution_count": 116
        }
      ],
      "source": [
        "train.columns"
      ]
    },
    {
      "cell_type": "code",
      "execution_count": null,
      "metadata": {
        "colab": {
          "base_uri": "https://localhost:8080/"
        },
        "id": "u2lVHwPAQ9gg",
        "outputId": "e22c89b7-5ac0-49ed-9124-6d392153f4cc"
      },
      "outputs": [
        {
          "output_type": "execute_result",
          "data": {
            "text/plain": [
              "Index(['gender', 'car', 'reality', 'child_num', 'income_total', 'income_type',\n",
              "       'edu_type', 'family_type', 'house_type', 'work_phone', 'phone', 'email',\n",
              "       'occyp_type', 'begin_month', 'YEARS_EMPLOYED', 'MONTHS_EMPLOYED',\n",
              "       'WEEKS_EMPLOYED', 'age', 'per_income', 'age_work', 'income_per_day',\n",
              "       'ID'],\n",
              "      dtype='object')"
            ]
          },
          "metadata": {},
          "execution_count": 117
        }
      ],
      "source": [
        "test.columns"
      ]
    },
    {
      "cell_type": "markdown",
      "metadata": {
        "id": "7mwB6U_0ZQmD"
      },
      "source": [
        "### **최종 데이터셋 저장**"
      ]
    },
    {
      "cell_type": "code",
      "execution_count": null,
      "metadata": {
        "id": "szDFGK_b9RRW"
      },
      "outputs": [],
      "source": [
        "train.to_csv('/content/drive/MyDrive/ESAA 2학기 /프로젝트(1)/데이터/train_after2.csv', index=False)\n",
        "test.to_csv('/content/drive/MyDrive/ESAA 2학기 /프로젝트(1)/데이터/test_after2.csv', index=False)"
      ]
    },
    {
      "cell_type": "markdown",
      "metadata": {
        "id": "_1oDtS_gLtd-"
      },
      "source": [
        "### **모델링**"
      ]
    },
    {
      "cell_type": "markdown",
      "metadata": {
        "id": "58dm4Nb8NhbB"
      },
      "source": [
        "> **모델 학습 전 데이터 분할**"
      ]
    },
    {
      "cell_type": "code",
      "execution_count": null,
      "metadata": {
        "id": "DQNm1GzgLtsG"
      },
      "outputs": [],
      "source": [
        "train_x = train.drop('credit', axis=1)\n",
        "train_y = train['credit']\n",
        "test_x = test\n",
        "\n",
        "X_train, X_val, y_train, y_val = train_test_split(train_x, train_y, stratify=train_y, test_size=0.25, random_state=100)"
      ]
    },
    {
      "cell_type": "markdown",
      "metadata": {
        "id": "3HQdmCrdNp-n"
      },
      "source": [
        "> **교차 검증 함수 정의**"
      ]
    },
    {
      "cell_type": "code",
      "execution_count": null,
      "metadata": {
        "id": "ZqBCJT8hLtwn"
      },
      "outputs": [],
      "source": [
        "def run_kfold(clf):\n",
        "    folds = StratifiedKFold(n_splits=5, shuffle=True, random_state=55)\n",
        "    outcomes = []\n",
        "    sub = np.zeros((test_x.shape[0], 3))\n",
        "    for n_fold, (train_index, val_index) in enumerate(folds.split(train_x, train_y)):\n",
        "        X_train, X_val = train_x.iloc[train_index], train_x.iloc[val_index]\n",
        "        y_train, y_val = train_y.iloc[train_index], train_y.iloc[val_index]\n",
        "        clf.fit(X_train, y_train)\n",
        "\n",
        "        predictions = clf.predict_proba(X_val)\n",
        "\n",
        "        logloss = log_loss(to_categorical(y_val), predictions)\n",
        "        outcomes.append(logloss)\n",
        "        print(f\"FOLD {n_fold} : logloss:{logloss}\")\n",
        "\n",
        "        sub += clf.predict_proba(test_x)\n",
        "\n",
        "    mean_outcome = np.mean(outcomes)\n",
        "\n",
        "    print(\"Mean:{}\".format(mean_outcome))\n",
        "    return sub/folds.n_splits"
      ]
    },
    {
      "cell_type": "markdown",
      "metadata": {
        "id": "qqYo1jMHNvoo"
      },
      "source": [
        "> **학습 곡선 함수 정의**"
      ]
    },
    {
      "cell_type": "code",
      "execution_count": null,
      "metadata": {
        "id": "Rg0RVqjtLt1l"
      },
      "outputs": [],
      "source": [
        "def plot_learning_curve(estimator, title, X, y, ylim=None, cv=None,\n",
        "                        n_jobs=-1, train_sizes=np.linspace(.1,1.0,5)):\n",
        "  plt.figure()\n",
        "  plt.title(title)\n",
        "  if ylim is not None:\n",
        "    plt.ylim(*ylim)\n",
        "  plt.xlabel(\"Training examples\")\n",
        "  plt.ylabel(\"Score\")\n",
        "  train_sizes, train_scores, test_scores = learning_curve(\n",
        "      estimator, X, y, cv=cv, n_jobs=n_jobs, train_sizes=train_sizes\n",
        "  )\n",
        "  train_scores_mean = np.mean(train_scores, axis=1)\n",
        "  train_scores_std = np.std(train_scores, axis=1)\n",
        "  test_scores_mean = np.mean(test_scores, axis=1)\n",
        "  test_scores_std = np.std(test_scores, axis=1)\n",
        "  plt.grid()\n",
        "\n",
        "  # 그래프 사이의 공간 색칠\n",
        "  plt.fill_between(train_sizes, train_scores_mean - train_scores_std,\n",
        "                   train_scores_mean + train_scores_std, alpha=0.1, color='r')\n",
        "  plt.fill_between(train_sizes, test_scores_mean - test_scores_std,\n",
        "                   test_scores_mean + test_scores_std, alpha=0.1, color='r')\n",
        "  plt.plot(train_sizes, train_scores_mean, 'o-', color=\"r\", label = \"Training score\")\n",
        "  plt.plot(train_sizes, test_scores_mean, 'o-', color=\"g\", label = \"Cross-validation score\")\n",
        "  plt.legend(loc='best')\n",
        "  return plt"
      ]
    },
    {
      "cell_type": "markdown",
      "metadata": {
        "id": "4Xso__24N0Z6"
      },
      "source": [
        "> **피처 중요도 함수 정의**"
      ]
    },
    {
      "cell_type": "code",
      "execution_count": null,
      "metadata": {
        "id": "a5prhQNEN0ph"
      },
      "outputs": [],
      "source": [
        "def plot_feature_importance(importance, names, model_type):\n",
        "\n",
        "    feature_importance = np.array(importance)\n",
        "    feature_names = np.array(names)\n",
        "\n",
        "    data={'feature_names':feature_names,'feature_importance':feature_importance}\n",
        "    fi_df = pd.DataFrame(data)\n",
        "\n",
        "    fi_df.sort_values(by=['feature_importance'], ascending=False,inplace=True)\n",
        "\n",
        "    plt.figure(figsize=(10,8))\n",
        "\n",
        "    sns.barplot(x=fi_df['feature_importance'], y=fi_df['feature_names'])\n",
        "\n",
        "    plt.title(model_type + ' Feature Importance')\n",
        "    plt.xlabel('Feature Importance')\n",
        "    plt.ylabel('Feature Names')\n",
        "    plt.show()"
      ]
    },
    {
      "cell_type": "markdown",
      "metadata": {
        "id": "PHtzPSRghG90"
      },
      "source": [
        "### **1. LGBM**"
      ]
    },
    {
      "cell_type": "markdown",
      "metadata": {
        "id": "4xV7GqIVL1cn"
      },
      "source": [
        "> **Grid Search 진행**"
      ]
    },
    {
      "cell_type": "code",
      "execution_count": null,
      "metadata": {
        "colab": {
          "base_uri": "https://localhost:8080/"
        },
        "id": "7SxSkxWKL1co",
        "outputId": "7f3fe2f8-ed6f-4109-ca40-243fbd796af3"
      },
      "outputs": [
        {
          "data": {
            "text/plain": [
              "GridSearchCV(estimator=LGBMClassifier(),\n",
              "             param_grid={'max_depth': [4, 6, 8, 10, 12],\n",
              "                         'min_child_samples': [60, 100], 'num_leaves': [32, 64],\n",
              "                         'subsample': [0.8, 1]})"
            ]
          },
          "execution_count": 264,
          "metadata": {},
          "output_type": "execute_result"
        }
      ],
      "source": [
        "params = {'num_leaves': [32, 64],\n",
        "          'max_depth': [4,6,8,10,12],\n",
        "          'min_child_samples': [60,100],\n",
        "          'subsample': [0.8,1]}\n",
        "\n",
        "lgbm_clf = LGBMClassifier()\n",
        "grid_search = GridSearchCV(lgbm_clf, params)\n",
        "grid_search.fit(X_train, y_train)"
      ]
    },
    {
      "cell_type": "code",
      "execution_count": null,
      "metadata": {
        "colab": {
          "base_uri": "https://localhost:8080/"
        },
        "id": "7Cx75fZxL1cp",
        "outputId": "918bae57-c959-4f73-eaa9-52aa2df5f095"
      },
      "outputs": [
        {
          "data": {
            "text/plain": [
              "{'max_depth': 12, 'min_child_samples': 60, 'num_leaves': 64, 'subsample': 0.8}"
            ]
          },
          "execution_count": 265,
          "metadata": {},
          "output_type": "execute_result"
        }
      ],
      "source": [
        "grid_search.best_params_"
      ]
    },
    {
      "cell_type": "markdown",
      "metadata": {
        "id": "u_QQoxFYhG91"
      },
      "source": [
        "> **앞서 구한 최적 하이퍼 파라미터로 모델 학습과 예측**"
      ]
    },
    {
      "cell_type": "code",
      "execution_count": null,
      "metadata": {
        "id": "WkO7IWmmhG91"
      },
      "outputs": [],
      "source": [
        "lgbm_clf = LGBMClassifier(n_estimators=200, learning_rate=0.05, num_iterations=50,  max_depth=12, num_leaves=64, min_child_samples=60, subsample=0.8)"
      ]
    },
    {
      "cell_type": "code",
      "execution_count": null,
      "metadata": {
        "colab": {
          "base_uri": "https://localhost:8080/"
        },
        "id": "LtW_7sNBtOMA",
        "outputId": "2e17e28b-6382-4fca-8622-187709694564"
      },
      "outputs": [
        {
          "name": "stdout",
          "output_type": "stream",
          "text": [
            "FOLD 0 : logloss:0.7791747818900604\n",
            "FOLD 1 : logloss:0.7735789128855299\n",
            "FOLD 2 : logloss:0.7806026055251318\n",
            "FOLD 3 : logloss:0.7768456616884901\n",
            "FOLD 4 : logloss:0.7743673077097907\n",
            "Mean:0.7769138539398006\n"
          ]
        }
      ],
      "source": [
        "lgbm_submission = run_kfold(lgbm_clf)"
      ]
    },
    {
      "cell_type": "code",
      "execution_count": null,
      "metadata": {
        "colab": {
          "base_uri": "https://localhost:8080/",
          "height": 295
        },
        "id": "zdwC-KdItPi2",
        "outputId": "f5ea93e1-66ed-47a1-bdc7-3de64356b07d"
      },
      "outputs": [
        {
          "data": {
            "image/png": "[encoded data removed]",
            "text/plain": [
              "<Figure size 432x288 with 1 Axes>"
            ]
          },
          "metadata": {},
          "output_type": "display_data"
        }
      ],
      "source": [
        "g = plot_learning_curve(lgbm_clf, \"LGBM learning curves\", X_train, y_train, cv=5)"
      ]
    },
    {
      "cell_type": "markdown",
      "metadata": {
        "id": "l15b6UIyhG91"
      },
      "source": [
        "> **제출 파일 생성**"
      ]
    },
    {
      "cell_type": "code",
      "execution_count": null,
      "metadata": {
        "id": "8eRlvpGrhG91"
      },
      "outputs": [],
      "source": [
        "submission_lgbm = pd.read_csv('/content/drive/MyDrive/sample_submission.csv')\n",
        "submission_lgbm.loc[:,1:] = lgbm_submission"
      ]
    },
    {
      "cell_type": "code",
      "execution_count": null,
      "metadata": {
        "id": "k2SXUilahG92"
      },
      "outputs": [],
      "source": [
        "submission_lgbm.to_csv('/content/sub_lgbm.csv', index=False)"
      ]
    },
    {
      "cell_type": "markdown",
      "metadata": {
        "id": "9KrtGaCwjOm8"
      },
      "source": [
        "### **2. Random Forest**"
      ]
    },
    {
      "cell_type": "markdown",
      "metadata": {
        "id": "tz7e4fyQL_bP"
      },
      "source": [
        "> **Grid Search 진행**"
      ]
    },
    {
      "cell_type": "code",
      "execution_count": null,
      "metadata": {
        "colab": {
          "base_uri": "https://localhost:8080/"
        },
        "id": "bSfRbi0RL_bQ",
        "outputId": "b5188100-db48-482e-f9af-cbce554c950f"
      },
      "outputs": [
        {
          "data": {
            "text/plain": [
              "GridSearchCV(estimator=RandomForestClassifier(),\n",
              "             param_grid={'criterion': ['gini', 'entropy', 'log_loss'],\n",
              "                         'max_depth': [6, 8, 10, 12],\n",
              "                         'min_samples_leaf': [8, 12, 18],\n",
              "                         'min_samples_split': [8, 16, 20]})"
            ]
          },
          "execution_count": 271,
          "metadata": {},
          "output_type": "execute_result"
        }
      ],
      "source": [
        "param_grid = { 'criterion' : ['gini', 'entropy', 'log_loss'],\n",
        "              'max_depth' : [6,8,10,12],\n",
        "              'min_samples_leaf' : [8,12,18],\n",
        "              'min_samples_split' : [8,16,20]}\n",
        "\n",
        "rnd_clf = RandomForestClassifier()\n",
        "grid_search = GridSearchCV(rnd_clf, param_grid)\n",
        "grid_search.fit(X_train, y_train)"
      ]
    },
    {
      "cell_type": "code",
      "execution_count": null,
      "metadata": {
        "colab": {
          "base_uri": "https://localhost:8080/"
        },
        "id": "BVYJsJUnL_bR",
        "outputId": "6e6b8b98-5148-481c-f116-739d5e4eb0f9"
      },
      "outputs": [
        {
          "data": {
            "text/plain": [
              "{'criterion': 'gini',\n",
              " 'max_depth': 12,\n",
              " 'min_samples_leaf': 8,\n",
              " 'min_samples_split': 16}"
            ]
          },
          "execution_count": 272,
          "metadata": {},
          "output_type": "execute_result"
        }
      ],
      "source": [
        "grid_search.best_params_"
      ]
    },
    {
      "cell_type": "markdown",
      "metadata": {
        "id": "zBkc3qJ3jOm-"
      },
      "source": [
        "> **앞서 구한 최적 하이퍼 파라미터로 모델 학습과 예측**"
      ]
    },
    {
      "cell_type": "code",
      "execution_count": null,
      "metadata": {
        "id": "FsmqAOrOjOm-"
      },
      "outputs": [],
      "source": [
        "rnd_clf = RandomForestClassifier(n_estimators = 700, min_samples_split=8, max_depth = 28, n_jobs=1)"
      ]
    },
    {
      "cell_type": "code",
      "execution_count": null,
      "metadata": {
        "colab": {
          "base_uri": "https://localhost:8080/"
        },
        "id": "0TO1P_fpto_i",
        "outputId": "2905b519-1c0f-4e08-b1e7-9055322a1a62"
      },
      "outputs": [
        {
          "name": "stdout",
          "output_type": "stream",
          "text": [
            "FOLD 0 : logloss:0.7013079380996583\n",
            "FOLD 1 : logloss:0.6960983145785858\n",
            "FOLD 2 : logloss:0.6967208037821879\n"
          ]
        }
      ],
      "source": [
        "rnd_submission = run_kfold(rnd_clf)"
      ]
    },
    {
      "cell_type": "code",
      "execution_count": null,
      "metadata": {
        "colab": {
          "base_uri": "https://localhost:8080/",
          "height": 295
        },
        "id": "PuSLreWnjOm-",
        "outputId": "4bbd61b4-f891-451a-c6f1-90ee3d56e1fb"
      },
      "outputs": [
        {
          "data": {
            "image/png": "[encoded data removed]",
            "text/plain": [
              "<Figure size 432x288 with 1 Axes>"
            ]
          },
          "metadata": {},
          "output_type": "display_data"
        }
      ],
      "source": [
        "g = plot_learning_curve(rnd_clf, \"RF learning curves\", X_train, y_train, cv=5)"
      ]
    },
    {
      "cell_type": "markdown",
      "metadata": {
        "id": "N6r2I7JJjOm-"
      },
      "source": [
        "> **제출 파일 생성**"
      ]
    },
    {
      "cell_type": "code",
      "execution_count": null,
      "metadata": {
        "id": "IfuN6lH9jOm-"
      },
      "outputs": [],
      "source": [
        "submission_rnd = pd.read_csv('/content/drive/MyDrive/sample_submission.csv')\n",
        "submission_rnd.loc[:,1:] = rnd_submission"
      ]
    },
    {
      "cell_type": "code",
      "execution_count": null,
      "metadata": {
        "id": "qxC9wO27jOm_"
      },
      "outputs": [],
      "source": [
        "submission_rnd.to_csv('/content/sub_rnd.csv', index=False)"
      ]
    },
    {
      "cell_type": "markdown",
      "metadata": {
        "id": "wJJLdi-ejcgG"
      },
      "source": [
        "\n",
        "### **3. XGBoost**"
      ]
    },
    {
      "cell_type": "markdown",
      "metadata": {
        "id": "wOK0Gu84MCrk"
      },
      "source": [
        "> **Grid Search 진행**"
      ]
    },
    {
      "cell_type": "code",
      "execution_count": null,
      "metadata": {
        "colab": {
          "base_uri": "https://localhost:8080/"
        },
        "id": "XivvkFpuMCrl",
        "outputId": "9f961c60-dbca-4f19-eefb-29166a96db56"
      },
      "outputs": [
        {
          "output_type": "execute_result",
          "data": {
            "text/plain": [
              "GridSearchCV(cv=3, estimator=XGBClassifier(),\n",
              "             param_grid={'learning_rate': [0.05, 0.1, 0.15, 0.2],\n",
              "                         'max_depth': [4, 6, 8, 10, 12],\n",
              "                         'n_estimators': [70, 80, 90, 100]},\n",
              "             scoring='neg_log_loss')"
            ]
          },
          "metadata": {},
          "execution_count": 283
        }
      ],
      "source": [
        "param_grid = {'n_estimators' : [70, 80, 90, 100],\n",
        "              'learning_rate' : [0.05, 0.1, 0.15, 0.2],\n",
        "              'max_depth': [4,6,8,10,12]}\n",
        "\n",
        "\n",
        "xgb = XGBClassifier()\n",
        "grid_search_xgb = GridSearchCV(xgb, param_grid, cv=3, scoring='neg_log_loss')\n",
        "grid_search_xgb.fit(X_train, y_train)"
      ]
    },
    {
      "cell_type": "code",
      "execution_count": null,
      "metadata": {
        "colab": {
          "base_uri": "https://localhost:8080/"
        },
        "id": "5y5zHENCMCrl",
        "outputId": "d214f31d-ba6e-4949-a41b-22a336c4a291"
      },
      "outputs": [
        {
          "output_type": "execute_result",
          "data": {
            "text/plain": [
              "{'learning_rate': 0.05, 'max_depth': 12, 'n_estimators': 80}"
            ]
          },
          "metadata": {},
          "execution_count": 284
        }
      ],
      "source": [
        "grid_search_xgb.best_params_"
      ]
    },
    {
      "cell_type": "markdown",
      "metadata": {
        "id": "AlryIy7ojcgJ"
      },
      "source": [
        "> **앞서 구한 최적 하이퍼 파라미터로 모델 학습과 예측**"
      ]
    },
    {
      "cell_type": "code",
      "execution_count": null,
      "metadata": {
        "id": "X5gJEaFHjcgK"
      },
      "outputs": [],
      "source": [
        "xgb_clf = XGBClassifier(learning_rate=0.1, max_depth=10, n_estimators=90)"
      ]
    },
    {
      "cell_type": "code",
      "execution_count": null,
      "metadata": {
        "colab": {
          "base_uri": "https://localhost:8080/"
        },
        "id": "f_3tnznKt2g2",
        "outputId": "a35a5816-5950-4497-c1d3-ae56db2daddf"
      },
      "outputs": [
        {
          "output_type": "stream",
          "name": "stdout",
          "text": [
            "FOLD 0 : logloss:0.73305949215578\n",
            "FOLD 1 : logloss:0.7258556870376172\n",
            "FOLD 2 : logloss:0.7321362319345894\n",
            "FOLD 3 : logloss:0.7200889378142558\n",
            "FOLD 4 : logloss:0.7215353025805027\n",
            "Mean:0.726535130304549\n"
          ]
        }
      ],
      "source": [
        "xgb_submission = run_kfold(xgb_clf)"
      ]
    },
    {
      "cell_type": "code",
      "execution_count": null,
      "metadata": {
        "id": "P9Rqe-r2jcgK",
        "colab": {
          "base_uri": "https://localhost:8080/",
          "height": 295
        },
        "outputId": "e1c9f706-f039-483d-f1ec-ac0bd33817b3"
      },
      "outputs": [
        {
          "output_type": "display_data",
          "data": {
            "text/plain": [
              "<Figure size 432x288 with 1 Axes>"
            ],
            "image/png": "[encoded data removed]"
          },
          "metadata": {
            "needs_background": "light"
          }
        }
      ],
      "source": [
        "g = plot_learning_curve(xgb_clf, \"XGB learning curves\", X_train, y_train, cv=5)"
      ]
    },
    {
      "cell_type": "code",
      "execution_count": null,
      "metadata": {
        "id": "mxYqUVxGjcgM",
        "colab": {
          "base_uri": "https://localhost:8080/",
          "height": 730
        },
        "outputId": "dda8804c-ce6b-487c-9335-b664e434a3f6"
      },
      "outputs": [
        {
          "output_type": "display_data",
          "data": {
            "text/plain": [
              "<Figure size 720x864 with 1 Axes>"
            ],
            "image/png": "[encoded data removed]"
          },
          "metadata": {
            "needs_background": "light"
          }
        }
      ],
      "source": [
        "fig, ax = plt.subplots(figsize=(10, 12))\n",
        "plot_importance(xgb_clf, ax=ax)\n",
        "plt.show()"
      ]
    },
    {
      "cell_type": "markdown",
      "metadata": {
        "id": "VIC7YDpvjcgM"
      },
      "source": [
        "> **제출 파일 생성**"
      ]
    },
    {
      "cell_type": "code",
      "execution_count": null,
      "metadata": {
        "id": "Ur1MUZN9jcgN"
      },
      "outputs": [],
      "source": [
        "submission_xgb = pd.read_csv('/content/drive/MyDrive/sample_submission.csv')\n",
        "submission_xgb.loc[:,1:] = xgb_submission"
      ]
    },
    {
      "cell_type": "code",
      "execution_count": null,
      "metadata": {
        "id": "gexo3xXujcgN"
      },
      "outputs": [],
      "source": [
        "submission_xgb.to_csv('/content/sub_xgb.csv', index=False)"
      ]
    },
    {
      "cell_type": "markdown",
      "metadata": {
        "id": "PyfqTlN8u6WD"
      },
      "source": [
        "### **4. CatBoost**"
      ]
    },
    {
      "cell_type": "markdown",
      "metadata": {
        "id": "O9-RRVtqu6WF"
      },
      "source": [
        "> **하이퍼 파라미터 설정을 하지 않은 모델의 성능이 가장 좋았음**"
      ]
    },
    {
      "cell_type": "code",
      "execution_count": null,
      "metadata": {
        "id": "ibGaDsw-u6WF"
      },
      "outputs": [],
      "source": [
        "n_est = 2000\n",
        "seed = 42\n",
        "n_fold = 10\n",
        "n_class = 3\n",
        "\n",
        "train_x = train.drop('credit', axis=1)\n",
        "train_y = train['credit']\n",
        "test_x = test"
      ]
    },
    {
      "cell_type": "code",
      "execution_count": null,
      "metadata": {
        "id": "cS8jrEiDu6WG",
        "colab": {
          "base_uri": "https://localhost:8080/"
        },
        "outputId": "2ffd9619-0199-486b-c8ed-49de3eda6b7c"
      },
      "outputs": [
        {
          "output_type": "stream",
          "name": "stdout",
          "text": [
            "\n",
            "----------------- Fold 0 -----------------\n",
            "\n",
            "Learning rate set to 0.115044\n",
            "0:\tlearn: 1.0360039\ttest: 1.0342036\tbest: 1.0342036 (0)\ttotal: 182ms\tremaining: 3m 1s\n",
            "100:\tlearn: 0.7823217\ttest: 0.7860411\tbest: 0.7860411 (100)\ttotal: 12.5s\tremaining: 1m 51s\n",
            "200:\tlearn: 0.7443255\ttest: 0.7681725\tbest: 0.7681725 (200)\ttotal: 30.8s\tremaining: 2m 2s\n",
            "300:\tlearn: 0.7139902\ttest: 0.7563904\tbest: 0.7563904 (300)\ttotal: 40.6s\tremaining: 1m 34s\n",
            "400:\tlearn: 0.6857579\ttest: 0.7473088\tbest: 0.7473088 (400)\ttotal: 50.6s\tremaining: 1m 15s\n",
            "500:\tlearn: 0.6622366\ttest: 0.7393953\tbest: 0.7392501 (498)\ttotal: 1m\tremaining: 1m\n",
            "600:\tlearn: 0.6410326\ttest: 0.7330862\tbest: 0.7330862 (600)\ttotal: 1m 10s\tremaining: 46.8s\n",
            "700:\tlearn: 0.6214323\ttest: 0.7276229\tbest: 0.7276229 (700)\ttotal: 1m 20s\tremaining: 34.3s\n",
            "800:\tlearn: 0.6032160\ttest: 0.7235299\tbest: 0.7234793 (795)\ttotal: 1m 30s\tremaining: 22.5s\n",
            "900:\tlearn: 0.5854117\ttest: 0.7194512\tbest: 0.7194512 (900)\ttotal: 1m 43s\tremaining: 11.4s\n",
            "999:\tlearn: 0.5691571\ttest: 0.7160764\tbest: 0.7160764 (999)\ttotal: 1m 53s\tremaining: 0us\n",
            "\n",
            "bestTest = 0.7160764473\n",
            "bestIteration = 999\n",
            "\n",
            "CV Log Loss Score: 0.716076\n",
            "\n",
            "----------------- Fold 1 -----------------\n",
            "\n",
            "Learning rate set to 0.115044\n",
            "0:\tlearn: 1.0356560\ttest: 1.0355633\tbest: 1.0355633 (0)\ttotal: 110ms\tremaining: 1m 49s\n",
            "100:\tlearn: 0.7762548\ttest: 0.7989960\tbest: 0.7989960 (100)\ttotal: 9.17s\tremaining: 1m 21s\n",
            "200:\tlearn: 0.7365246\ttest: 0.7827758\tbest: 0.7827758 (200)\ttotal: 20.4s\tremaining: 1m 21s\n",
            "300:\tlearn: 0.7071190\ttest: 0.7707964\tbest: 0.7706873 (298)\ttotal: 30.5s\tremaining: 1m 10s\n",
            "400:\tlearn: 0.6814949\ttest: 0.7649853\tbest: 0.7649853 (400)\ttotal: 42.5s\tremaining: 1m 3s\n",
            "500:\tlearn: 0.6611296\ttest: 0.7604769\tbest: 0.7604253 (499)\ttotal: 52.3s\tremaining: 52.1s\n",
            "600:\tlearn: 0.6403801\ttest: 0.7567542\tbest: 0.7567542 (600)\ttotal: 1m 2s\tremaining: 41.3s\n",
            "700:\tlearn: 0.6205742\ttest: 0.7511622\tbest: 0.7511622 (700)\ttotal: 1m 12s\tremaining: 30.8s\n",
            "800:\tlearn: 0.6020952\ttest: 0.7467850\tbest: 0.7467850 (800)\ttotal: 1m 22s\tremaining: 20.4s\n",
            "900:\tlearn: 0.5852981\ttest: 0.7422440\tbest: 0.7421670 (899)\ttotal: 1m 32s\tremaining: 10.1s\n",
            "999:\tlearn: 0.5689583\ttest: 0.7388779\tbest: 0.7387769 (993)\ttotal: 1m 42s\tremaining: 0us\n",
            "\n",
            "bestTest = 0.7387769076\n",
            "bestIteration = 993\n",
            "\n",
            "Shrink model to first 994 iterations.\n",
            "CV Log Loss Score: 0.738777\n",
            "\n",
            "----------------- Fold 2 -----------------\n",
            "\n",
            "Learning rate set to 0.115044\n",
            "0:\tlearn: 1.0354146\ttest: 1.0366597\tbest: 1.0366597 (0)\ttotal: 108ms\tremaining: 1m 48s\n",
            "100:\tlearn: 0.7747681\ttest: 0.8060302\tbest: 0.8060302 (100)\ttotal: 8.94s\tremaining: 1m 19s\n",
            "200:\tlearn: 0.7345197\ttest: 0.7916842\tbest: 0.7915897 (198)\ttotal: 18.9s\tremaining: 1m 15s\n",
            "300:\tlearn: 0.7042434\ttest: 0.7823501\tbest: 0.7823395 (299)\ttotal: 28.9s\tremaining: 1m 7s\n",
            "400:\tlearn: 0.6800469\ttest: 0.7743943\tbest: 0.7743492 (396)\ttotal: 38.7s\tremaining: 57.7s\n",
            "500:\tlearn: 0.6563921\ttest: 0.7675135\tbest: 0.7675079 (499)\ttotal: 48.5s\tremaining: 48.3s\n",
            "600:\tlearn: 0.6366127\ttest: 0.7625986\tbest: 0.7624307 (594)\ttotal: 58.5s\tremaining: 38.8s\n",
            "700:\tlearn: 0.6159310\ttest: 0.7585347\tbest: 0.7584559 (694)\ttotal: 1m 8s\tremaining: 29.2s\n",
            "800:\tlearn: 0.5967726\ttest: 0.7521746\tbest: 0.7521746 (800)\ttotal: 1m 18s\tremaining: 19.5s\n",
            "900:\tlearn: 0.5801412\ttest: 0.7505670\tbest: 0.7503940 (896)\ttotal: 1m 28s\tremaining: 9.72s\n",
            "999:\tlearn: 0.5649564\ttest: 0.7476574\tbest: 0.7476574 (999)\ttotal: 1m 38s\tremaining: 0us\n",
            "\n",
            "bestTest = 0.7476573984\n",
            "bestIteration = 999\n",
            "\n",
            "CV Log Loss Score: 0.747657\n",
            "\n",
            "----------------- Fold 3 -----------------\n",
            "\n",
            "Learning rate set to 0.115044\n",
            "0:\tlearn: 1.0354533\ttest: 1.0365660\tbest: 1.0365660 (0)\ttotal: 104ms\tremaining: 1m 44s\n",
            "100:\tlearn: 0.7789948\ttest: 0.8013015\tbest: 0.8013015 (100)\ttotal: 9.13s\tremaining: 1m 21s\n",
            "200:\tlearn: 0.7409033\ttest: 0.7848757\tbest: 0.7848428 (198)\ttotal: 21.2s\tremaining: 1m 24s\n",
            "300:\tlearn: 0.7105932\ttest: 0.7746568\tbest: 0.7746568 (300)\ttotal: 31.2s\tremaining: 1m 12s\n",
            "400:\tlearn: 0.6819706\ttest: 0.7659824\tbest: 0.7659560 (397)\ttotal: 41.1s\tremaining: 1m 1s\n",
            "500:\tlearn: 0.6564984\ttest: 0.7586333\tbest: 0.7585297 (499)\ttotal: 51.2s\tremaining: 51s\n",
            "600:\tlearn: 0.6343179\ttest: 0.7516418\tbest: 0.7516418 (600)\ttotal: 1m 1s\tremaining: 40.7s\n",
            "700:\tlearn: 0.6148215\ttest: 0.7487581\tbest: 0.7485023 (696)\ttotal: 1m 11s\tremaining: 30.3s\n",
            "800:\tlearn: 0.5973734\ttest: 0.7455090\tbest: 0.7453919 (797)\ttotal: 1m 21s\tremaining: 20.2s\n",
            "900:\tlearn: 0.5808610\ttest: 0.7409464\tbest: 0.7409464 (900)\ttotal: 1m 31s\tremaining: 10s\n",
            "999:\tlearn: 0.5650581\ttest: 0.7390934\tbest: 0.7388088 (985)\ttotal: 1m 41s\tremaining: 0us\n",
            "\n",
            "bestTest = 0.7388088448\n",
            "bestIteration = 985\n",
            "\n",
            "Shrink model to first 986 iterations.\n",
            "CV Log Loss Score: 0.738809\n",
            "\n",
            "----------------- Fold 4 -----------------\n",
            "\n",
            "Learning rate set to 0.115044\n",
            "0:\tlearn: 1.0356306\ttest: 1.0358192\tbest: 1.0358192 (0)\ttotal: 107ms\tremaining: 1m 47s\n",
            "100:\tlearn: 0.7776203\ttest: 0.7928909\tbest: 0.7928909 (100)\ttotal: 8.86s\tremaining: 1m 18s\n",
            "200:\tlearn: 0.7408382\ttest: 0.7777932\tbest: 0.7777789 (196)\ttotal: 18.7s\tremaining: 1m 14s\n",
            "300:\tlearn: 0.7124817\ttest: 0.7679061\tbest: 0.7679061 (300)\ttotal: 28.6s\tremaining: 1m 6s\n",
            "400:\tlearn: 0.6851308\ttest: 0.7590694\tbest: 0.7589324 (399)\ttotal: 38.6s\tremaining: 57.7s\n",
            "500:\tlearn: 0.6615724\ttest: 0.7532235\tbest: 0.7532235 (500)\ttotal: 48.9s\tremaining: 48.7s\n",
            "600:\tlearn: 0.6390347\ttest: 0.7490159\tbest: 0.7488455 (599)\ttotal: 59s\tremaining: 39.2s\n",
            "700:\tlearn: 0.6189031\ttest: 0.7444296\tbest: 0.7444296 (700)\ttotal: 1m 9s\tremaining: 29.5s\n",
            "800:\tlearn: 0.6013197\ttest: 0.7416054\tbest: 0.7414801 (799)\ttotal: 1m 19s\tremaining: 19.6s\n",
            "900:\tlearn: 0.5841954\ttest: 0.7405490\tbest: 0.7405107 (899)\ttotal: 1m 31s\tremaining: 10s\n",
            "999:\tlearn: 0.5695756\ttest: 0.7371244\tbest: 0.7368774 (988)\ttotal: 1m 41s\tremaining: 0us\n",
            "\n",
            "bestTest = 0.7368773802\n",
            "bestIteration = 988\n",
            "\n",
            "Shrink model to first 989 iterations.\n",
            "CV Log Loss Score: 0.736877\n",
            "\n",
            "----------------- Fold 5 -----------------\n",
            "\n",
            "Learning rate set to 0.115044\n",
            "0:\tlearn: 1.0355243\ttest: 1.0363370\tbest: 1.0363370 (0)\ttotal: 105ms\tremaining: 1m 44s\n",
            "100:\tlearn: 0.7789061\ttest: 0.8017746\tbest: 0.8017746 (100)\ttotal: 9.03s\tremaining: 1m 20s\n",
            "200:\tlearn: 0.7408678\ttest: 0.7855747\tbest: 0.7855747 (200)\ttotal: 19.1s\tremaining: 1m 15s\n",
            "300:\tlearn: 0.7117305\ttest: 0.7750183\tbest: 0.7750183 (300)\ttotal: 28.9s\tremaining: 1m 7s\n",
            "400:\tlearn: 0.6847114\ttest: 0.7656928\tbest: 0.7655020 (399)\ttotal: 38.8s\tremaining: 58s\n",
            "500:\tlearn: 0.6609150\ttest: 0.7588393\tbest: 0.7588393 (500)\ttotal: 48.9s\tremaining: 48.7s\n",
            "600:\tlearn: 0.6383133\ttest: 0.7543496\tbest: 0.7543214 (593)\ttotal: 58.8s\tremaining: 39s\n",
            "700:\tlearn: 0.6189883\ttest: 0.7504353\tbest: 0.7504353 (700)\ttotal: 1m 8s\tremaining: 29.3s\n",
            "800:\tlearn: 0.6008268\ttest: 0.7472331\tbest: 0.7472173 (794)\ttotal: 1m 18s\tremaining: 19.6s\n",
            "900:\tlearn: 0.5841669\ttest: 0.7448754\tbest: 0.7448290 (873)\ttotal: 1m 28s\tremaining: 9.78s\n",
            "999:\tlearn: 0.5689097\ttest: 0.7444726\tbest: 0.7444483 (997)\ttotal: 1m 39s\tremaining: 0us\n",
            "\n",
            "bestTest = 0.7444483289\n",
            "bestIteration = 997\n",
            "\n",
            "Shrink model to first 998 iterations.\n",
            "CV Log Loss Score: 0.744448\n",
            "\n",
            "----------------- Fold 6 -----------------\n",
            "\n",
            "Learning rate set to 0.115044\n",
            "0:\tlearn: 1.0354528\ttest: 1.0365776\tbest: 1.0365776 (0)\ttotal: 106ms\tremaining: 1m 45s\n",
            "100:\tlearn: 0.7773018\ttest: 0.8008886\tbest: 0.8008886 (100)\ttotal: 9s\tremaining: 1m 20s\n",
            "200:\tlearn: 0.7376583\ttest: 0.7849628\tbest: 0.7849628 (200)\ttotal: 19s\tremaining: 1m 15s\n",
            "300:\tlearn: 0.7095933\ttest: 0.7741543\tbest: 0.7741543 (300)\ttotal: 28.7s\tremaining: 1m 6s\n",
            "400:\tlearn: 0.6834809\ttest: 0.7648125\tbest: 0.7648125 (400)\ttotal: 38.6s\tremaining: 57.6s\n",
            "500:\tlearn: 0.6609050\ttest: 0.7579614\tbest: 0.7579614 (500)\ttotal: 48.5s\tremaining: 48.3s\n",
            "600:\tlearn: 0.6386748\ttest: 0.7530939\tbest: 0.7530939 (600)\ttotal: 58.9s\tremaining: 39.1s\n",
            "700:\tlearn: 0.6203230\ttest: 0.7489639\tbest: 0.7489639 (700)\ttotal: 1m 9s\tremaining: 29.8s\n",
            "800:\tlearn: 0.6029451\ttest: 0.7449239\tbest: 0.7449237 (798)\ttotal: 1m 19s\tremaining: 19.8s\n",
            "900:\tlearn: 0.5858719\ttest: 0.7426073\tbest: 0.7425038 (889)\ttotal: 1m 29s\tremaining: 9.88s\n",
            "999:\tlearn: 0.5695787\ttest: 0.7388310\tbest: 0.7387077 (980)\ttotal: 1m 39s\tremaining: 0us\n",
            "\n",
            "bestTest = 0.7387076509\n",
            "bestIteration = 980\n",
            "\n",
            "Shrink model to first 981 iterations.\n",
            "CV Log Loss Score: 0.738708\n",
            "\n",
            "----------------- Fold 7 -----------------\n",
            "\n",
            "Learning rate set to 0.115044\n",
            "0:\tlearn: 1.0349678\ttest: 1.0353640\tbest: 1.0353640 (0)\ttotal: 113ms\tremaining: 1m 52s\n",
            "100:\tlearn: 0.7765287\ttest: 0.8000542\tbest: 0.8000542 (100)\ttotal: 9.15s\tremaining: 1m 21s\n",
            "200:\tlearn: 0.7389212\ttest: 0.7860924\tbest: 0.7860924 (200)\ttotal: 19.1s\tremaining: 1m 15s\n",
            "300:\tlearn: 0.7071806\ttest: 0.7762095\tbest: 0.7762095 (300)\ttotal: 29s\tremaining: 1m 7s\n",
            "400:\tlearn: 0.6827000\ttest: 0.7694167\tbest: 0.7693481 (399)\ttotal: 38.9s\tremaining: 58s\n",
            "500:\tlearn: 0.6589343\ttest: 0.7632751\tbest: 0.7632687 (499)\ttotal: 48.6s\tremaining: 48.4s\n",
            "600:\tlearn: 0.6382324\ttest: 0.7571876\tbest: 0.7571791 (597)\ttotal: 58.6s\tremaining: 38.9s\n",
            "700:\tlearn: 0.6178234\ttest: 0.7543835\tbest: 0.7542868 (697)\ttotal: 1m 8s\tremaining: 29.3s\n",
            "800:\tlearn: 0.5990523\ttest: 0.7510191\tbest: 0.7507251 (798)\ttotal: 1m 18s\tremaining: 19.5s\n",
            "900:\tlearn: 0.5806239\ttest: 0.7469635\tbest: 0.7469635 (900)\ttotal: 1m 28s\tremaining: 9.73s\n",
            "999:\tlearn: 0.5651688\ttest: 0.7442354\tbest: 0.7441885 (998)\ttotal: 1m 38s\tremaining: 0us\n",
            "\n",
            "bestTest = 0.7441884823\n",
            "bestIteration = 998\n",
            "\n",
            "Shrink model to first 999 iterations.\n",
            "CV Log Loss Score: 0.744188\n",
            "\n",
            "----------------- Fold 8 -----------------\n",
            "\n",
            "Learning rate set to 0.115044\n",
            "0:\tlearn: 1.0348762\ttest: 1.0358103\tbest: 1.0358103 (0)\ttotal: 107ms\tremaining: 1m 46s\n",
            "100:\tlearn: 0.7804724\ttest: 0.8047631\tbest: 0.8047631 (100)\ttotal: 8.99s\tremaining: 1m 19s\n",
            "200:\tlearn: 0.7403008\ttest: 0.7886472\tbest: 0.7886472 (200)\ttotal: 18.9s\tremaining: 1m 15s\n",
            "300:\tlearn: 0.7076110\ttest: 0.7791702\tbest: 0.7791702 (300)\ttotal: 28.7s\tremaining: 1m 6s\n",
            "400:\tlearn: 0.6801005\ttest: 0.7711168\tbest: 0.7711168 (400)\ttotal: 40.3s\tremaining: 1m\n",
            "500:\tlearn: 0.6584247\ttest: 0.7664661\tbest: 0.7664143 (499)\ttotal: 50s\tremaining: 49.8s\n",
            "600:\tlearn: 0.6375582\ttest: 0.7612228\tbest: 0.7612228 (600)\ttotal: 60s\tremaining: 39.8s\n",
            "700:\tlearn: 0.6180652\ttest: 0.7576381\tbest: 0.7576381 (700)\ttotal: 1m 9s\tremaining: 29.8s\n",
            "800:\tlearn: 0.5992995\ttest: 0.7536704\tbest: 0.7536704 (800)\ttotal: 1m 19s\tremaining: 19.9s\n",
            "900:\tlearn: 0.5830555\ttest: 0.7513414\tbest: 0.7513414 (900)\ttotal: 1m 29s\tremaining: 9.89s\n",
            "999:\tlearn: 0.5659325\ttest: 0.7479348\tbest: 0.7479213 (997)\ttotal: 1m 40s\tremaining: 0us\n",
            "\n",
            "bestTest = 0.7479213387\n",
            "bestIteration = 997\n",
            "\n",
            "Shrink model to first 998 iterations.\n",
            "CV Log Loss Score: 0.747921\n",
            "\n",
            "----------------- Fold 9 -----------------\n",
            "\n",
            "Learning rate set to 0.115044\n",
            "0:\tlearn: 1.0352116\ttest: 1.0339066\tbest: 1.0339066 (0)\ttotal: 113ms\tremaining: 1m 53s\n",
            "100:\tlearn: 0.7819426\ttest: 0.7844167\tbest: 0.7843292 (99)\ttotal: 9s\tremaining: 1m 20s\n",
            "200:\tlearn: 0.7446379\ttest: 0.7684053\tbest: 0.7684053 (200)\ttotal: 18.9s\tremaining: 1m 15s\n",
            "300:\tlearn: 0.7132547\ttest: 0.7574923\tbest: 0.7574923 (300)\ttotal: 28.7s\tremaining: 1m 6s\n",
            "400:\tlearn: 0.6862625\ttest: 0.7492592\tbest: 0.7492592 (400)\ttotal: 38.7s\tremaining: 57.8s\n",
            "500:\tlearn: 0.6628998\ttest: 0.7434554\tbest: 0.7434309 (499)\ttotal: 48.7s\tremaining: 48.5s\n",
            "600:\tlearn: 0.6422652\ttest: 0.7378823\tbest: 0.7378823 (600)\ttotal: 58.5s\tremaining: 38.8s\n",
            "700:\tlearn: 0.6200310\ttest: 0.7325878\tbest: 0.7325878 (700)\ttotal: 1m 8s\tremaining: 29.2s\n",
            "800:\tlearn: 0.6002628\ttest: 0.7269946\tbest: 0.7269946 (800)\ttotal: 1m 18s\tremaining: 19.5s\n",
            "900:\tlearn: 0.5815211\ttest: 0.7245427\tbest: 0.7243305 (889)\ttotal: 1m 28s\tremaining: 9.72s\n",
            "999:\tlearn: 0.5653384\ttest: 0.7236857\tbest: 0.7236857 (999)\ttotal: 1m 38s\tremaining: 0us\n",
            "\n",
            "bestTest = 0.7236856704\n",
            "bestIteration = 999\n",
            "\n",
            "CV Log Loss Score: 0.723686\n",
            "\tLog Loss: 0.737715\n"
          ]
        }
      ],
      "source": [
        "skfold = StratifiedKFold(n_splits=n_fold, shuffle=True, random_state=seed)\n",
        "folds = []\n",
        "for train_idx, valid_idx in skfold.split(train_x, train_y):\n",
        "        folds.append((train_idx, valid_idx))\n",
        "\n",
        "cat_pred = np.zeros((train_x.shape[0], n_class))\n",
        "cat_pred_test = np.zeros((test_x.shape[0], n_class))\n",
        "cat_cols = ['gender', 'car', 'reality', 'income_type', 'edu_type', 'family_type', 'house_type', 'occyp_type']\n",
        "\n",
        "for fold in range(n_fold):\n",
        "  print(f'\\n----------------- Fold {fold} -----------------\\n')\n",
        "  train_idx, valid_idx = folds[fold]\n",
        "  X_train, X_valid, y_train, y_valid = train_x.iloc[train_idx], train_x.iloc[valid_idx], train_y[train_idx], train_y[valid_idx]\n",
        "  train_data = Pool(data=X_train, label=y_train, cat_features=cat_cols)\n",
        "  valid_data = Pool(data=X_valid, label=y_valid, cat_features=cat_cols)\n",
        "\n",
        "  model_cat = CatBoostClassifier()\n",
        "  model_cat.fit(train_data, eval_set=valid_data, use_best_model=True, early_stopping_rounds=100, verbose=100)\n",
        "\n",
        "  cat_pred[valid_idx] = model_cat.predict_proba(X_valid)\n",
        "  cat_pred_test += model_cat.predict_proba(test_x) / n_fold\n",
        "  print(f'CV Log Loss Score: {log_loss(y_valid, cat_pred[valid_idx]):.6f}')\n",
        "\n",
        "print(f'\\tLog Loss: {log_loss(train_y, cat_pred):.6f}')"
      ]
    },
    {
      "cell_type": "code",
      "execution_count": null,
      "metadata": {
        "id": "KViJCil3yGa5",
        "colab": {
          "base_uri": "https://localhost:8080/",
          "height": 295
        },
        "outputId": "4b003c86-4d01-4ed6-bf5b-71c1da9d9169"
      },
      "outputs": [
        {
          "output_type": "display_data",
          "data": {
            "text/plain": [
              "<Figure size 432x288 with 1 Axes>"
            ],
            "image/png": "[encoded data removed]"
          },
          "metadata": {
            "needs_background": "light"
          }
        }
      ],
      "source": [
        "g = plot_learning_curve(model_cat,\"Catboost learning curves\", X_train, y_train, cv=5)"
      ]
    },
    {
      "cell_type": "code",
      "execution_count": null,
      "metadata": {
        "id": "r9klYXrF0EnG",
        "colab": {
          "base_uri": "https://localhost:8080/",
          "height": 513
        },
        "outputId": "7b46a5b8-98bf-4280-b16c-d28150e177ed"
      },
      "outputs": [
        {
          "output_type": "display_data",
          "data": {
            "text/plain": [
              "<Figure size 720x576 with 1 Axes>"
            ],
            "image/png": "[encoded data removed]"
          },
          "metadata": {
            "needs_background": "light"
          }
        }
      ],
      "source": [
        "plot_feature_importance(model_cat.get_feature_importance(), test_x.columns, 'CATBOOST')"
      ]
    },
    {
      "cell_type": "markdown",
      "metadata": {
        "id": "_M9vC9FGu6WJ"
      },
      "source": [
        "> **제출 파일 생성**"
      ]
    },
    {
      "cell_type": "code",
      "execution_count": null,
      "metadata": {
        "id": "OxIOaaYKu6WJ"
      },
      "outputs": [],
      "source": [
        "submission_catb = pd.read_csv('/content/drive/MyDrive/sample_submission.csv')\n",
        "submission_catb.loc[:,1:] = cat_pred_test"
      ]
    },
    {
      "cell_type": "code",
      "execution_count": null,
      "metadata": {
        "id": "2WRZL5jCu6WK"
      },
      "outputs": [],
      "source": [
        "submission_catb.to_csv('/content/sub_catb.csv', index=False)"
      ]
    }
  ],
  "metadata": {
    "colab": {
      "provenance": [],
      "include_colab_link": true
    },
    "kernelspec": {
      "display_name": "Python 3",
      "name": "python3"
    },
    "language_info": {
      "name": "python"
    }
  },
  "nbformat": 4,
  "nbformat_minor": 0
}