{
  "nbformat": 4,
  "nbformat_minor": 0,
  "metadata": {
    "colab": {
      "provenance": [],
      "collapsed_sections": [],
      "mount_file_id": "1-DVANeqppkbrLAcrSdks5n4NJgVtAd87",
      "authorship_tag": "ABX9TyO5TNzTK3/yszwhISpYapVs",
      "include_colab_link": true
    },
    "kernelspec": {
      "name": "python3",
      "display_name": "Python 3"
    },
    "language_info": {
      "name": "python"
    }
  },
  "cells": [
    {
      "cell_type": "markdown",
      "metadata": {
        "id": "view-in-github",
        "colab_type": "text"
      },
      "source": [
        "<a href=\"https://colab.research.google.com/github/hida0/ESAA-2022-2/blob/HW/Week05_HW1.ipynb\" target=\"_parent\"><img src=\"https://colab.research.google.com/assets/colab-badge.svg\" alt=\"Open In Colab\"/></a>"
      ]
    },
    {
      "cell_type": "markdown",
      "source": [
        "## 캐글 필사\n",
        "[Titanic Top 4% with ensemble modeling | Kaggle](https://www.kaggle.com/code/yassineghouzam/titanic-top-4-with-ensemble-modeling/notebook)\n",
        "\n",
        " I choosed the Titanic competition which is a good way to introduce feature engineering and ensemble modeling. Firstly, I will display some feature analyses then ill focus on the feature engineering. Last part **concerns modeling and predicting the survival** on the Titanic **using an voting procedure**."
      ],
      "metadata": {
        "id": "GE42jF3nAvrh"
      }
    },
    {
      "cell_type": "markdown",
      "source": [
        "## 1. Load Data and Library"
      ],
      "metadata": {
        "id": "P9TSaB8OAvw7"
      }
    },
    {
      "cell_type": "code",
      "source": [
        "import numpy as np\n",
        "import pandas as pd\n",
        "import matplotlib.pyplot as plt\n",
        "%matplotlib inline\n",
        "import seaborn as sns\n",
        "sns.set(style='white', context='notebook', palette='deep')\n",
        "\n",
        "import warnings\n",
        "warnings.filterwarnings('ignore')\n",
        "\n",
        "pd.options.display.float_format = '{:.3f}'.format # 지수표현 없애기"
      ],
      "metadata": {
        "id": "HgNfySI8BPgV"
      },
      "execution_count": null,
      "outputs": []
    },
    {
      "cell_type": "code",
      "source": [
        "train = pd.read_csv(\"/content/drive/MyDrive/ESAA/data/train.csv\")\n",
        "print(train.shape)\n",
        "train.head()"
      ],
      "metadata": {
        "colab": {
          "base_uri": "https://localhost:8080/",
          "height": 267
        },
        "id": "K1eLAlIlBS9a",
        "outputId": "16374bab-7096-401e-e496-aae58f73dfc8"
      },
      "execution_count": null,
      "outputs": [
        {
          "output_type": "stream",
          "name": "stdout",
          "text": [
            "(891, 12)\n"
          ]
        },
        {
          "output_type": "execute_result",
          "data": {
            "text/plain": [
              "   PassengerId  Survived  Pclass  \\\n",
              "0            1         0       3   \n",
              "1            2         1       1   \n",
              "2            3         1       3   \n",
              "3            4         1       1   \n",
              "4            5         0       3   \n",
              "\n",
              "                                                Name     Sex    Age  SibSp  \\\n",
              "0                            Braund, Mr. Owen Harris    male 22.000      1   \n",
              "1  Cumings, Mrs. John Bradley (Florence Briggs Th...  female 38.000      1   \n",
              "2                             Heikkinen, Miss. Laina  female 26.000      0   \n",
              "3       Futrelle, Mrs. Jacques Heath (Lily May Peel)  female 35.000      1   \n",
              "4                           Allen, Mr. William Henry    male 35.000      0   \n",
              "\n",
              "   Parch            Ticket   Fare Cabin Embarked  \n",
              "0      0         A/5 21171  7.250   NaN        S  \n",
              "1      0          PC 17599 71.283   C85        C  \n",
              "2      0  STON/O2. 3101282  7.925   NaN        S  \n",
              "3      0            113803 53.100  C123        S  \n",
              "4      0            373450  8.050   NaN        S  "
            ],
            "text/html": [
              "\n",
              "  <div id=\"df-958630cd-bf2a-4603-aefe-315d1755070e\">\n",
              "    <div class=\"colab-df-container\">\n",
              "      <div>\n",
              "<style scoped>\n",
              "    .dataframe tbody tr th:only-of-type {\n",
              "        vertical-align: middle;\n",
              "    }\n",
              "\n",
              "    .dataframe tbody tr th {\n",
              "        vertical-align: top;\n",
              "    }\n",
              "\n",
              "    .dataframe thead th {\n",
              "        text-align: right;\n",
              "    }\n",
              "</style>\n",
              "<table border=\"1\" class=\"dataframe\">\n",
              "  <thead>\n",
              "    <tr style=\"text-align: right;\">\n",
              "      <th></th>\n",
              "      <th>PassengerId</th>\n",
              "      <th>Survived</th>\n",
              "      <th>Pclass</th>\n",
              "      <th>Name</th>\n",
              "      <th>Sex</th>\n",
              "      <th>Age</th>\n",
              "      <th>SibSp</th>\n",
              "      <th>Parch</th>\n",
              "      <th>Ticket</th>\n",
              "      <th>Fare</th>\n",
              "      <th>Cabin</th>\n",
              "      <th>Embarked</th>\n",
              "    </tr>\n",
              "  </thead>\n",
              "  <tbody>\n",
              "    <tr>\n",
              "      <th>0</th>\n",
              "      <td>1</td>\n",
              "      <td>0</td>\n",
              "      <td>3</td>\n",
              "      <td>Braund, Mr. Owen Harris</td>\n",
              "      <td>male</td>\n",
              "      <td>22.000</td>\n",
              "      <td>1</td>\n",
              "      <td>0</td>\n",
              "      <td>A/5 21171</td>\n",
              "      <td>7.250</td>\n",
              "      <td>NaN</td>\n",
              "      <td>S</td>\n",
              "    </tr>\n",
              "    <tr>\n",
              "      <th>1</th>\n",
              "      <td>2</td>\n",
              "      <td>1</td>\n",
              "      <td>1</td>\n",
              "      <td>Cumings, Mrs. John Bradley (Florence Briggs Th...</td>\n",
              "      <td>female</td>\n",
              "      <td>38.000</td>\n",
              "      <td>1</td>\n",
              "      <td>0</td>\n",
              "      <td>PC 17599</td>\n",
              "      <td>71.283</td>\n",
              "      <td>C85</td>\n",
              "      <td>C</td>\n",
              "    </tr>\n",
              "    <tr>\n",
              "      <th>2</th>\n",
              "      <td>3</td>\n",
              "      <td>1</td>\n",
              "      <td>3</td>\n",
              "      <td>Heikkinen, Miss. Laina</td>\n",
              "      <td>female</td>\n",
              "      <td>26.000</td>\n",
              "      <td>0</td>\n",
              "      <td>0</td>\n",
              "      <td>STON/O2. 3101282</td>\n",
              "      <td>7.925</td>\n",
              "      <td>NaN</td>\n",
              "      <td>S</td>\n",
              "    </tr>\n",
              "    <tr>\n",
              "      <th>3</th>\n",
              "      <td>4</td>\n",
              "      <td>1</td>\n",
              "      <td>1</td>\n",
              "      <td>Futrelle, Mrs. Jacques Heath (Lily May Peel)</td>\n",
              "      <td>female</td>\n",
              "      <td>35.000</td>\n",
              "      <td>1</td>\n",
              "      <td>0</td>\n",
              "      <td>113803</td>\n",
              "      <td>53.100</td>\n",
              "      <td>C123</td>\n",
              "      <td>S</td>\n",
              "    </tr>\n",
              "    <tr>\n",
              "      <th>4</th>\n",
              "      <td>5</td>\n",
              "      <td>0</td>\n",
              "      <td>3</td>\n",
              "      <td>Allen, Mr. William Henry</td>\n",
              "      <td>male</td>\n",
              "      <td>35.000</td>\n",
              "      <td>0</td>\n",
              "      <td>0</td>\n",
              "      <td>373450</td>\n",
              "      <td>8.050</td>\n",
              "      <td>NaN</td>\n",
              "      <td>S</td>\n",
              "    </tr>\n",
              "  </tbody>\n",
              "</table>\n",
              "</div>\n",
              "      <button class=\"colab-df-convert\" onclick=\"convertToInteractive('df-958630cd-bf2a-4603-aefe-315d1755070e')\"\n",
              "              title=\"Convert this dataframe to an interactive table.\"\n",
              "              style=\"display:none;\">\n",
              "        \n",
              "  <svg xmlns=\"http://www.w3.org/2000/svg\" height=\"24px\"viewBox=\"0 0 24 24\"\n",
              "       width=\"24px\">\n",
              "    <path d=\"M0 0h24v24H0V0z\" fill=\"none\"/>\n",
              "    <path d=\"M18.56 5.44l.94 2.06.94-2.06 2.06-.94-2.06-.94-.94-2.06-.94 2.06-2.06.94zm-11 1L8.5 8.5l.94-2.06 2.06-.94-2.06-.94L8.5 2.5l-.94 2.06-2.06.94zm10 10l.94 2.06.94-2.06 2.06-.94-2.06-.94-.94-2.06-.94 2.06-2.06.94z\"/><path d=\"M17.41 7.96l-1.37-1.37c-.4-.4-.92-.59-1.43-.59-.52 0-1.04.2-1.43.59L10.3 9.45l-7.72 7.72c-.78.78-.78 2.05 0 2.83L4 21.41c.39.39.9.59 1.41.59.51 0 1.02-.2 1.41-.59l7.78-7.78 2.81-2.81c.8-.78.8-2.07 0-2.86zM5.41 20L4 18.59l7.72-7.72 1.47 1.35L5.41 20z\"/>\n",
              "  </svg>\n",
              "      </button>\n",
              "      \n",
              "  <style>\n",
              "    .colab-df-container {\n",
              "      display:flex;\n",
              "      flex-wrap:wrap;\n",
              "      gap: 12px;\n",
              "    }\n",
              "\n",
              "    .colab-df-convert {\n",
              "      background-color: #E8F0FE;\n",
              "      border: none;\n",
              "      border-radius: 50%;\n",
              "      cursor: pointer;\n",
              "      display: none;\n",
              "      fill: #1967D2;\n",
              "      height: 32px;\n",
              "      padding: 0 0 0 0;\n",
              "      width: 32px;\n",
              "    }\n",
              "\n",
              "    .colab-df-convert:hover {\n",
              "      background-color: #E2EBFA;\n",
              "      box-shadow: 0px 1px 2px rgba(60, 64, 67, 0.3), 0px 1px 3px 1px rgba(60, 64, 67, 0.15);\n",
              "      fill: #174EA6;\n",
              "    }\n",
              "\n",
              "    [theme=dark] .colab-df-convert {\n",
              "      background-color: #3B4455;\n",
              "      fill: #D2E3FC;\n",
              "    }\n",
              "\n",
              "    [theme=dark] .colab-df-convert:hover {\n",
              "      background-color: #434B5C;\n",
              "      box-shadow: 0px 1px 3px 1px rgba(0, 0, 0, 0.15);\n",
              "      filter: drop-shadow(0px 1px 2px rgba(0, 0, 0, 0.3));\n",
              "      fill: #FFFFFF;\n",
              "    }\n",
              "  </style>\n",
              "\n",
              "      <script>\n",
              "        const buttonEl =\n",
              "          document.querySelector('#df-958630cd-bf2a-4603-aefe-315d1755070e button.colab-df-convert');\n",
              "        buttonEl.style.display =\n",
              "          google.colab.kernel.accessAllowed ? 'block' : 'none';\n",
              "\n",
              "        async function convertToInteractive(key) {\n",
              "          const element = document.querySelector('#df-958630cd-bf2a-4603-aefe-315d1755070e');\n",
              "          const dataTable =\n",
              "            await google.colab.kernel.invokeFunction('convertToInteractive',\n",
              "                                                     [key], {});\n",
              "          if (!dataTable) return;\n",
              "\n",
              "          const docLinkHtml = 'Like what you see? Visit the ' +\n",
              "            '<a target=\"_blank\" href=https://colab.research.google.com/notebooks/data_table.ipynb>data table notebook</a>'\n",
              "            + ' to learn more about interactive tables.';\n",
              "          element.innerHTML = '';\n",
              "          dataTable['output_type'] = 'display_data';\n",
              "          await google.colab.output.renderOutput(dataTable, element);\n",
              "          const docLink = document.createElement('div');\n",
              "          docLink.innerHTML = docLinkHtml;\n",
              "          element.appendChild(docLink);\n",
              "        }\n",
              "      </script>\n",
              "    </div>\n",
              "  </div>\n",
              "  "
            ]
          },
          "metadata": {},
          "execution_count": 2
        }
      ]
    },
    {
      "cell_type": "code",
      "source": [
        "test = pd.read_csv(\"/content/drive/MyDrive/ESAA/data/test.csv\")\n",
        "print(test.shape)\n",
        "test.head()"
      ],
      "metadata": {
        "colab": {
          "base_uri": "https://localhost:8080/",
          "height": 223
        },
        "id": "aua5oXshDA0b",
        "outputId": "62875d81-7499-4112-8eb2-70f127b3cb6a"
      },
      "execution_count": null,
      "outputs": [
        {
          "output_type": "stream",
          "name": "stdout",
          "text": [
            "(418, 11)\n"
          ]
        },
        {
          "output_type": "execute_result",
          "data": {
            "text/plain": [
              "   PassengerId  Pclass                                          Name     Sex  \\\n",
              "0          892       3                              Kelly, Mr. James    male   \n",
              "1          893       3              Wilkes, Mrs. James (Ellen Needs)  female   \n",
              "2          894       2                     Myles, Mr. Thomas Francis    male   \n",
              "3          895       3                              Wirz, Mr. Albert    male   \n",
              "4          896       3  Hirvonen, Mrs. Alexander (Helga E Lindqvist)  female   \n",
              "\n",
              "     Age  SibSp  Parch   Ticket   Fare Cabin Embarked  \n",
              "0 34.500      0      0   330911  7.829   NaN        Q  \n",
              "1 47.000      1      0   363272  7.000   NaN        S  \n",
              "2 62.000      0      0   240276  9.688   NaN        Q  \n",
              "3 27.000      0      0   315154  8.662   NaN        S  \n",
              "4 22.000      1      1  3101298 12.287   NaN        S  "
            ],
            "text/html": [
              "\n",
              "  <div id=\"df-3e757bd4-e21c-42e2-b5de-1fe6faa2b595\">\n",
              "    <div class=\"colab-df-container\">\n",
              "      <div>\n",
              "<style scoped>\n",
              "    .dataframe tbody tr th:only-of-type {\n",
              "        vertical-align: middle;\n",
              "    }\n",
              "\n",
              "    .dataframe tbody tr th {\n",
              "        vertical-align: top;\n",
              "    }\n",
              "\n",
              "    .dataframe thead th {\n",
              "        text-align: right;\n",
              "    }\n",
              "</style>\n",
              "<table border=\"1\" class=\"dataframe\">\n",
              "  <thead>\n",
              "    <tr style=\"text-align: right;\">\n",
              "      <th></th>\n",
              "      <th>PassengerId</th>\n",
              "      <th>Pclass</th>\n",
              "      <th>Name</th>\n",
              "      <th>Sex</th>\n",
              "      <th>Age</th>\n",
              "      <th>SibSp</th>\n",
              "      <th>Parch</th>\n",
              "      <th>Ticket</th>\n",
              "      <th>Fare</th>\n",
              "      <th>Cabin</th>\n",
              "      <th>Embarked</th>\n",
              "    </tr>\n",
              "  </thead>\n",
              "  <tbody>\n",
              "    <tr>\n",
              "      <th>0</th>\n",
              "      <td>892</td>\n",
              "      <td>3</td>\n",
              "      <td>Kelly, Mr. James</td>\n",
              "      <td>male</td>\n",
              "      <td>34.500</td>\n",
              "      <td>0</td>\n",
              "      <td>0</td>\n",
              "      <td>330911</td>\n",
              "      <td>7.829</td>\n",
              "      <td>NaN</td>\n",
              "      <td>Q</td>\n",
              "    </tr>\n",
              "    <tr>\n",
              "      <th>1</th>\n",
              "      <td>893</td>\n",
              "      <td>3</td>\n",
              "      <td>Wilkes, Mrs. James (Ellen Needs)</td>\n",
              "      <td>female</td>\n",
              "      <td>47.000</td>\n",
              "      <td>1</td>\n",
              "      <td>0</td>\n",
              "      <td>363272</td>\n",
              "      <td>7.000</td>\n",
              "      <td>NaN</td>\n",
              "      <td>S</td>\n",
              "    </tr>\n",
              "    <tr>\n",
              "      <th>2</th>\n",
              "      <td>894</td>\n",
              "      <td>2</td>\n",
              "      <td>Myles, Mr. Thomas Francis</td>\n",
              "      <td>male</td>\n",
              "      <td>62.000</td>\n",
              "      <td>0</td>\n",
              "      <td>0</td>\n",
              "      <td>240276</td>\n",
              "      <td>9.688</td>\n",
              "      <td>NaN</td>\n",
              "      <td>Q</td>\n",
              "    </tr>\n",
              "    <tr>\n",
              "      <th>3</th>\n",
              "      <td>895</td>\n",
              "      <td>3</td>\n",
              "      <td>Wirz, Mr. Albert</td>\n",
              "      <td>male</td>\n",
              "      <td>27.000</td>\n",
              "      <td>0</td>\n",
              "      <td>0</td>\n",
              "      <td>315154</td>\n",
              "      <td>8.662</td>\n",
              "      <td>NaN</td>\n",
              "      <td>S</td>\n",
              "    </tr>\n",
              "    <tr>\n",
              "      <th>4</th>\n",
              "      <td>896</td>\n",
              "      <td>3</td>\n",
              "      <td>Hirvonen, Mrs. Alexander (Helga E Lindqvist)</td>\n",
              "      <td>female</td>\n",
              "      <td>22.000</td>\n",
              "      <td>1</td>\n",
              "      <td>1</td>\n",
              "      <td>3101298</td>\n",
              "      <td>12.287</td>\n",
              "      <td>NaN</td>\n",
              "      <td>S</td>\n",
              "    </tr>\n",
              "  </tbody>\n",
              "</table>\n",
              "</div>\n",
              "      <button class=\"colab-df-convert\" onclick=\"convertToInteractive('df-3e757bd4-e21c-42e2-b5de-1fe6faa2b595')\"\n",
              "              title=\"Convert this dataframe to an interactive table.\"\n",
              "              style=\"display:none;\">\n",
              "        \n",
              "  <svg xmlns=\"http://www.w3.org/2000/svg\" height=\"24px\"viewBox=\"0 0 24 24\"\n",
              "       width=\"24px\">\n",
              "    <path d=\"M0 0h24v24H0V0z\" fill=\"none\"/>\n",
              "    <path d=\"M18.56 5.44l.94 2.06.94-2.06 2.06-.94-2.06-.94-.94-2.06-.94 2.06-2.06.94zm-11 1L8.5 8.5l.94-2.06 2.06-.94-2.06-.94L8.5 2.5l-.94 2.06-2.06.94zm10 10l.94 2.06.94-2.06 2.06-.94-2.06-.94-.94-2.06-.94 2.06-2.06.94z\"/><path d=\"M17.41 7.96l-1.37-1.37c-.4-.4-.92-.59-1.43-.59-.52 0-1.04.2-1.43.59L10.3 9.45l-7.72 7.72c-.78.78-.78 2.05 0 2.83L4 21.41c.39.39.9.59 1.41.59.51 0 1.02-.2 1.41-.59l7.78-7.78 2.81-2.81c.8-.78.8-2.07 0-2.86zM5.41 20L4 18.59l7.72-7.72 1.47 1.35L5.41 20z\"/>\n",
              "  </svg>\n",
              "      </button>\n",
              "      \n",
              "  <style>\n",
              "    .colab-df-container {\n",
              "      display:flex;\n",
              "      flex-wrap:wrap;\n",
              "      gap: 12px;\n",
              "    }\n",
              "\n",
              "    .colab-df-convert {\n",
              "      background-color: #E8F0FE;\n",
              "      border: none;\n",
              "      border-radius: 50%;\n",
              "      cursor: pointer;\n",
              "      display: none;\n",
              "      fill: #1967D2;\n",
              "      height: 32px;\n",
              "      padding: 0 0 0 0;\n",
              "      width: 32px;\n",
              "    }\n",
              "\n",
              "    .colab-df-convert:hover {\n",
              "      background-color: #E2EBFA;\n",
              "      box-shadow: 0px 1px 2px rgba(60, 64, 67, 0.3), 0px 1px 3px 1px rgba(60, 64, 67, 0.15);\n",
              "      fill: #174EA6;\n",
              "    }\n",
              "\n",
              "    [theme=dark] .colab-df-convert {\n",
              "      background-color: #3B4455;\n",
              "      fill: #D2E3FC;\n",
              "    }\n",
              "\n",
              "    [theme=dark] .colab-df-convert:hover {\n",
              "      background-color: #434B5C;\n",
              "      box-shadow: 0px 1px 3px 1px rgba(0, 0, 0, 0.15);\n",
              "      filter: drop-shadow(0px 1px 2px rgba(0, 0, 0, 0.3));\n",
              "      fill: #FFFFFF;\n",
              "    }\n",
              "  </style>\n",
              "\n",
              "      <script>\n",
              "        const buttonEl =\n",
              "          document.querySelector('#df-3e757bd4-e21c-42e2-b5de-1fe6faa2b595 button.colab-df-convert');\n",
              "        buttonEl.style.display =\n",
              "          google.colab.kernel.accessAllowed ? 'block' : 'none';\n",
              "\n",
              "        async function convertToInteractive(key) {\n",
              "          const element = document.querySelector('#df-3e757bd4-e21c-42e2-b5de-1fe6faa2b595');\n",
              "          const dataTable =\n",
              "            await google.colab.kernel.invokeFunction('convertToInteractive',\n",
              "                                                     [key], {});\n",
              "          if (!dataTable) return;\n",
              "\n",
              "          const docLinkHtml = 'Like what you see? Visit the ' +\n",
              "            '<a target=\"_blank\" href=https://colab.research.google.com/notebooks/data_table.ipynb>data table notebook</a>'\n",
              "            + ' to learn more about interactive tables.';\n",
              "          element.innerHTML = '';\n",
              "          dataTable['output_type'] = 'display_data';\n",
              "          await google.colab.output.renderOutput(dataTable, element);\n",
              "          const docLink = document.createElement('div');\n",
              "          docLink.innerHTML = docLinkHtml;\n",
              "          element.appendChild(docLink);\n",
              "        }\n",
              "      </script>\n",
              "    </div>\n",
              "  </div>\n",
              "  "
            ]
          },
          "metadata": {},
          "execution_count": 3
        }
      ]
    },
    {
      "cell_type": "markdown",
      "source": [
        "## 2. Load and Check data\n",
        "### 2-1. Outlier detection\n",
        "- 사분위수의 IQR을 벗어나는 이상치를 제거하는 함수를 생성한다.\n",
        "- 숫자형 칼럼에 대해 함수를 적용하면 10개의 행이 제거된다. \n",
        "- 28, 89, 342번째 행은 'Fare'가 지나치게 높으며, 나머지 7개의 행은 'SibSp'가 지나치게 높다."
      ],
      "metadata": {
        "id": "P4nLxSZBDUwx"
      }
    },
    {
      "cell_type": "code",
      "source": [
        "from collections import Counter\n",
        "def detect_outliers(df, n, features):\n",
        "    outlier_indices=[]\n",
        "\n",
        "    for col in features:\n",
        "        Q1 = np.percentile(df[col], 25) # 1st quantile(25%)\n",
        "        Q3 = np.percentile(df[col], 75) # 3rd quantile(75%)\n",
        "        IQR = Q3-Q1\n",
        "        outlier_step = 1.5*IQR\n",
        "        \n",
        "        outlier_list_col = df[ (df[col]<Q1-outlier_step) | (df[col]>Q3+outlier_step) ].index\n",
        "        outlier_indices.extend(outlier_list_col)\n",
        "\n",
        "    outlier_indices = Counter(outlier_indices) # 중복된 데이터가 저장된 배열을 인자로 넘기면 각 원소가 몇 번씩 나오는지가 저장된 객체 반환\n",
        "    multiple_outliers = list(k for k, v in outlier_indices.items() if v>n) # 지정한 n회보다 많이 나오는 index를 반환\n",
        "\n",
        "    return multiple_outliers"
      ],
      "metadata": {
        "id": "Orosb4mwDL9u"
      },
      "execution_count": null,
      "outputs": []
    },
    {
      "cell_type": "code",
      "source": [
        "Outliers_to_drop = detect_outliers(train, 2, ['Age', 'SibSp', 'Parch', 'Fare'])\n",
        "Outliers_to_drop"
      ],
      "metadata": {
        "colab": {
          "base_uri": "https://localhost:8080/"
        },
        "id": "ypfcUrkBh0nu",
        "outputId": "4efac3c9-9488-46a7-ba9f-9d917d8e05f3"
      },
      "execution_count": null,
      "outputs": [
        {
          "output_type": "execute_result",
          "data": {
            "text/plain": [
              "[27, 88, 159, 180, 201, 324, 341, 792, 846, 863]"
            ]
          },
          "metadata": {},
          "execution_count": 6
        }
      ]
    },
    {
      "cell_type": "code",
      "source": [
        "train.loc[Outliers_to_drop]"
      ],
      "metadata": {
        "colab": {
          "base_uri": "https://localhost:8080/",
          "height": 363
        },
        "id": "n3u_3VAth_fb",
        "outputId": "ffe0c28c-2c91-4dcd-def1-2c560752a413"
      },
      "execution_count": null,
      "outputs": [
        {
          "output_type": "execute_result",
          "data": {
            "text/plain": [
              "     PassengerId  Survived  Pclass                               Name     Sex  \\\n",
              "27            28         0       1     Fortune, Mr. Charles Alexander    male   \n",
              "88            89         1       1         Fortune, Miss. Mabel Helen  female   \n",
              "159          160         0       3         Sage, Master. Thomas Henry    male   \n",
              "180          181         0       3       Sage, Miss. Constance Gladys  female   \n",
              "201          202         0       3                Sage, Mr. Frederick    male   \n",
              "324          325         0       3           Sage, Mr. George John Jr    male   \n",
              "341          342         1       1     Fortune, Miss. Alice Elizabeth  female   \n",
              "792          793         0       3            Sage, Miss. Stella Anna  female   \n",
              "846          847         0       3           Sage, Mr. Douglas Bullen    male   \n",
              "863          864         0       3  Sage, Miss. Dorothy Edith \"Dolly\"  female   \n",
              "\n",
              "       Age  SibSp  Parch    Ticket    Fare        Cabin Embarked  \n",
              "27  19.000      3      2     19950 263.000  C23 C25 C27        S  \n",
              "88  23.000      3      2     19950 263.000  C23 C25 C27        S  \n",
              "159    NaN      8      2  CA. 2343  69.550          NaN        S  \n",
              "180    NaN      8      2  CA. 2343  69.550          NaN        S  \n",
              "201    NaN      8      2  CA. 2343  69.550          NaN        S  \n",
              "324    NaN      8      2  CA. 2343  69.550          NaN        S  \n",
              "341 24.000      3      2     19950 263.000  C23 C25 C27        S  \n",
              "792    NaN      8      2  CA. 2343  69.550          NaN        S  \n",
              "846    NaN      8      2  CA. 2343  69.550          NaN        S  \n",
              "863    NaN      8      2  CA. 2343  69.550          NaN        S  "
            ],
            "text/html": [
              "\n",
              "  <div id=\"df-5ad5d3a9-c998-4ccc-8eef-cd705fc52077\">\n",
              "    <div class=\"colab-df-container\">\n",
              "      <div>\n",
              "<style scoped>\n",
              "    .dataframe tbody tr th:only-of-type {\n",
              "        vertical-align: middle;\n",
              "    }\n",
              "\n",
              "    .dataframe tbody tr th {\n",
              "        vertical-align: top;\n",
              "    }\n",
              "\n",
              "    .dataframe thead th {\n",
              "        text-align: right;\n",
              "    }\n",
              "</style>\n",
              "<table border=\"1\" class=\"dataframe\">\n",
              "  <thead>\n",
              "    <tr style=\"text-align: right;\">\n",
              "      <th></th>\n",
              "      <th>PassengerId</th>\n",
              "      <th>Survived</th>\n",
              "      <th>Pclass</th>\n",
              "      <th>Name</th>\n",
              "      <th>Sex</th>\n",
              "      <th>Age</th>\n",
              "      <th>SibSp</th>\n",
              "      <th>Parch</th>\n",
              "      <th>Ticket</th>\n",
              "      <th>Fare</th>\n",
              "      <th>Cabin</th>\n",
              "      <th>Embarked</th>\n",
              "    </tr>\n",
              "  </thead>\n",
              "  <tbody>\n",
              "    <tr>\n",
              "      <th>27</th>\n",
              "      <td>28</td>\n",
              "      <td>0</td>\n",
              "      <td>1</td>\n",
              "      <td>Fortune, Mr. Charles Alexander</td>\n",
              "      <td>male</td>\n",
              "      <td>19.000</td>\n",
              "      <td>3</td>\n",
              "      <td>2</td>\n",
              "      <td>19950</td>\n",
              "      <td>263.000</td>\n",
              "      <td>C23 C25 C27</td>\n",
              "      <td>S</td>\n",
              "    </tr>\n",
              "    <tr>\n",
              "      <th>88</th>\n",
              "      <td>89</td>\n",
              "      <td>1</td>\n",
              "      <td>1</td>\n",
              "      <td>Fortune, Miss. Mabel Helen</td>\n",
              "      <td>female</td>\n",
              "      <td>23.000</td>\n",
              "      <td>3</td>\n",
              "      <td>2</td>\n",
              "      <td>19950</td>\n",
              "      <td>263.000</td>\n",
              "      <td>C23 C25 C27</td>\n",
              "      <td>S</td>\n",
              "    </tr>\n",
              "    <tr>\n",
              "      <th>159</th>\n",
              "      <td>160</td>\n",
              "      <td>0</td>\n",
              "      <td>3</td>\n",
              "      <td>Sage, Master. Thomas Henry</td>\n",
              "      <td>male</td>\n",
              "      <td>NaN</td>\n",
              "      <td>8</td>\n",
              "      <td>2</td>\n",
              "      <td>CA. 2343</td>\n",
              "      <td>69.550</td>\n",
              "      <td>NaN</td>\n",
              "      <td>S</td>\n",
              "    </tr>\n",
              "    <tr>\n",
              "      <th>180</th>\n",
              "      <td>181</td>\n",
              "      <td>0</td>\n",
              "      <td>3</td>\n",
              "      <td>Sage, Miss. Constance Gladys</td>\n",
              "      <td>female</td>\n",
              "      <td>NaN</td>\n",
              "      <td>8</td>\n",
              "      <td>2</td>\n",
              "      <td>CA. 2343</td>\n",
              "      <td>69.550</td>\n",
              "      <td>NaN</td>\n",
              "      <td>S</td>\n",
              "    </tr>\n",
              "    <tr>\n",
              "      <th>201</th>\n",
              "      <td>202</td>\n",
              "      <td>0</td>\n",
              "      <td>3</td>\n",
              "      <td>Sage, Mr. Frederick</td>\n",
              "      <td>male</td>\n",
              "      <td>NaN</td>\n",
              "      <td>8</td>\n",
              "      <td>2</td>\n",
              "      <td>CA. 2343</td>\n",
              "      <td>69.550</td>\n",
              "      <td>NaN</td>\n",
              "      <td>S</td>\n",
              "    </tr>\n",
              "    <tr>\n",
              "      <th>324</th>\n",
              "      <td>325</td>\n",
              "      <td>0</td>\n",
              "      <td>3</td>\n",
              "      <td>Sage, Mr. George John Jr</td>\n",
              "      <td>male</td>\n",
              "      <td>NaN</td>\n",
              "      <td>8</td>\n",
              "      <td>2</td>\n",
              "      <td>CA. 2343</td>\n",
              "      <td>69.550</td>\n",
              "      <td>NaN</td>\n",
              "      <td>S</td>\n",
              "    </tr>\n",
              "    <tr>\n",
              "      <th>341</th>\n",
              "      <td>342</td>\n",
              "      <td>1</td>\n",
              "      <td>1</td>\n",
              "      <td>Fortune, Miss. Alice Elizabeth</td>\n",
              "      <td>female</td>\n",
              "      <td>24.000</td>\n",
              "      <td>3</td>\n",
              "      <td>2</td>\n",
              "      <td>19950</td>\n",
              "      <td>263.000</td>\n",
              "      <td>C23 C25 C27</td>\n",
              "      <td>S</td>\n",
              "    </tr>\n",
              "    <tr>\n",
              "      <th>792</th>\n",
              "      <td>793</td>\n",
              "      <td>0</td>\n",
              "      <td>3</td>\n",
              "      <td>Sage, Miss. Stella Anna</td>\n",
              "      <td>female</td>\n",
              "      <td>NaN</td>\n",
              "      <td>8</td>\n",
              "      <td>2</td>\n",
              "      <td>CA. 2343</td>\n",
              "      <td>69.550</td>\n",
              "      <td>NaN</td>\n",
              "      <td>S</td>\n",
              "    </tr>\n",
              "    <tr>\n",
              "      <th>846</th>\n",
              "      <td>847</td>\n",
              "      <td>0</td>\n",
              "      <td>3</td>\n",
              "      <td>Sage, Mr. Douglas Bullen</td>\n",
              "      <td>male</td>\n",
              "      <td>NaN</td>\n",
              "      <td>8</td>\n",
              "      <td>2</td>\n",
              "      <td>CA. 2343</td>\n",
              "      <td>69.550</td>\n",
              "      <td>NaN</td>\n",
              "      <td>S</td>\n",
              "    </tr>\n",
              "    <tr>\n",
              "      <th>863</th>\n",
              "      <td>864</td>\n",
              "      <td>0</td>\n",
              "      <td>3</td>\n",
              "      <td>Sage, Miss. Dorothy Edith \"Dolly\"</td>\n",
              "      <td>female</td>\n",
              "      <td>NaN</td>\n",
              "      <td>8</td>\n",
              "      <td>2</td>\n",
              "      <td>CA. 2343</td>\n",
              "      <td>69.550</td>\n",
              "      <td>NaN</td>\n",
              "      <td>S</td>\n",
              "    </tr>\n",
              "  </tbody>\n",
              "</table>\n",
              "</div>\n",
              "      <button class=\"colab-df-convert\" onclick=\"convertToInteractive('df-5ad5d3a9-c998-4ccc-8eef-cd705fc52077')\"\n",
              "              title=\"Convert this dataframe to an interactive table.\"\n",
              "              style=\"display:none;\">\n",
              "        \n",
              "  <svg xmlns=\"http://www.w3.org/2000/svg\" height=\"24px\"viewBox=\"0 0 24 24\"\n",
              "       width=\"24px\">\n",
              "    <path d=\"M0 0h24v24H0V0z\" fill=\"none\"/>\n",
              "    <path d=\"M18.56 5.44l.94 2.06.94-2.06 2.06-.94-2.06-.94-.94-2.06-.94 2.06-2.06.94zm-11 1L8.5 8.5l.94-2.06 2.06-.94-2.06-.94L8.5 2.5l-.94 2.06-2.06.94zm10 10l.94 2.06.94-2.06 2.06-.94-2.06-.94-.94-2.06-.94 2.06-2.06.94z\"/><path d=\"M17.41 7.96l-1.37-1.37c-.4-.4-.92-.59-1.43-.59-.52 0-1.04.2-1.43.59L10.3 9.45l-7.72 7.72c-.78.78-.78 2.05 0 2.83L4 21.41c.39.39.9.59 1.41.59.51 0 1.02-.2 1.41-.59l7.78-7.78 2.81-2.81c.8-.78.8-2.07 0-2.86zM5.41 20L4 18.59l7.72-7.72 1.47 1.35L5.41 20z\"/>\n",
              "  </svg>\n",
              "      </button>\n",
              "      \n",
              "  <style>\n",
              "    .colab-df-container {\n",
              "      display:flex;\n",
              "      flex-wrap:wrap;\n",
              "      gap: 12px;\n",
              "    }\n",
              "\n",
              "    .colab-df-convert {\n",
              "      background-color: #E8F0FE;\n",
              "      border: none;\n",
              "      border-radius: 50%;\n",
              "      cursor: pointer;\n",
              "      display: none;\n",
              "      fill: #1967D2;\n",
              "      height: 32px;\n",
              "      padding: 0 0 0 0;\n",
              "      width: 32px;\n",
              "    }\n",
              "\n",
              "    .colab-df-convert:hover {\n",
              "      background-color: #E2EBFA;\n",
              "      box-shadow: 0px 1px 2px rgba(60, 64, 67, 0.3), 0px 1px 3px 1px rgba(60, 64, 67, 0.15);\n",
              "      fill: #174EA6;\n",
              "    }\n",
              "\n",
              "    [theme=dark] .colab-df-convert {\n",
              "      background-color: #3B4455;\n",
              "      fill: #D2E3FC;\n",
              "    }\n",
              "\n",
              "    [theme=dark] .colab-df-convert:hover {\n",
              "      background-color: #434B5C;\n",
              "      box-shadow: 0px 1px 3px 1px rgba(0, 0, 0, 0.15);\n",
              "      filter: drop-shadow(0px 1px 2px rgba(0, 0, 0, 0.3));\n",
              "      fill: #FFFFFF;\n",
              "    }\n",
              "  </style>\n",
              "\n",
              "      <script>\n",
              "        const buttonEl =\n",
              "          document.querySelector('#df-5ad5d3a9-c998-4ccc-8eef-cd705fc52077 button.colab-df-convert');\n",
              "        buttonEl.style.display =\n",
              "          google.colab.kernel.accessAllowed ? 'block' : 'none';\n",
              "\n",
              "        async function convertToInteractive(key) {\n",
              "          const element = document.querySelector('#df-5ad5d3a9-c998-4ccc-8eef-cd705fc52077');\n",
              "          const dataTable =\n",
              "            await google.colab.kernel.invokeFunction('convertToInteractive',\n",
              "                                                     [key], {});\n",
              "          if (!dataTable) return;\n",
              "\n",
              "          const docLinkHtml = 'Like what you see? Visit the ' +\n",
              "            '<a target=\"_blank\" href=https://colab.research.google.com/notebooks/data_table.ipynb>data table notebook</a>'\n",
              "            + ' to learn more about interactive tables.';\n",
              "          element.innerHTML = '';\n",
              "          dataTable['output_type'] = 'display_data';\n",
              "          await google.colab.output.renderOutput(dataTable, element);\n",
              "          const docLink = document.createElement('div');\n",
              "          docLink.innerHTML = docLinkHtml;\n",
              "          element.appendChild(docLink);\n",
              "        }\n",
              "      </script>\n",
              "    </div>\n",
              "  </div>\n",
              "  "
            ]
          },
          "metadata": {},
          "execution_count": 7
        }
      ]
    },
    {
      "cell_type": "code",
      "source": [
        "train = train.drop(Outliers_to_drop, axis=0).reset_index(drop=True)"
      ],
      "metadata": {
        "id": "DExXgB4MiCrR"
      },
      "execution_count": null,
      "outputs": []
    },
    {
      "cell_type": "markdown",
      "source": [
        "## 2. Load and Check data\n",
        "### 2-2. Joining train data and test data set\n",
        "- `pd.concat`을 이용하여 학습 데이터와 훈련 데이터를 합쳐 하나의 데이터로 만든다."
      ],
      "metadata": {
        "id": "0Lk2lub0i25S"
      }
    },
    {
      "cell_type": "code",
      "source": [
        "data = pd.concat(objs=[train, test], axis=0).reset_index(drop=True)"
      ],
      "metadata": {
        "id": "nPbv7cGHi0Nv"
      },
      "execution_count": null,
      "outputs": []
    },
    {
      "cell_type": "markdown",
      "source": [
        "## 2. Load and Check data\n",
        "### 2-3. Check for null and missing values\n",
        "- 결측치를 np.nan으로 채우고 개수를 확인해보면 Age, Cabin 칼럼에서 결측치가 많다는 것을 알 수 있다. \n",
        "- test data에는 타겟 변수인 Survived 칼럼이 존재하지 않으므로 test data의 행의 개수만큼 결측치가 나타난다."
      ],
      "metadata": {
        "id": "6NTLE293js23"
      }
    },
    {
      "cell_type": "code",
      "source": [
        "data = data.fillna(np.nan)\n",
        "data.isnull().sum()"
      ],
      "metadata": {
        "colab": {
          "base_uri": "https://localhost:8080/"
        },
        "id": "vRVu5f88jJEi",
        "outputId": "6f347377-6de3-49cd-8caa-c27f4eebf073"
      },
      "execution_count": null,
      "outputs": [
        {
          "output_type": "execute_result",
          "data": {
            "text/plain": [
              "PassengerId       0\n",
              "Survived        418\n",
              "Pclass            0\n",
              "Name              0\n",
              "Sex               0\n",
              "Age             256\n",
              "SibSp             0\n",
              "Parch             0\n",
              "Ticket            0\n",
              "Fare              1\n",
              "Cabin          1007\n",
              "Embarked          2\n",
              "dtype: int64"
            ]
          },
          "metadata": {},
          "execution_count": 10
        }
      ]
    },
    {
      "cell_type": "code",
      "source": [
        "train.info()"
      ],
      "metadata": {
        "colab": {
          "base_uri": "https://localhost:8080/"
        },
        "id": "PQ-KEOHlkSK_",
        "outputId": "49c42804-d175-453c-d619-f2bf8cd7f9e6"
      },
      "execution_count": null,
      "outputs": [
        {
          "output_type": "stream",
          "name": "stdout",
          "text": [
            "<class 'pandas.core.frame.DataFrame'>\n",
            "RangeIndex: 881 entries, 0 to 880\n",
            "Data columns (total 12 columns):\n",
            " #   Column       Non-Null Count  Dtype  \n",
            "---  ------       --------------  -----  \n",
            " 0   PassengerId  881 non-null    int64  \n",
            " 1   Survived     881 non-null    int64  \n",
            " 2   Pclass       881 non-null    int64  \n",
            " 3   Name         881 non-null    object \n",
            " 4   Sex          881 non-null    object \n",
            " 5   Age          711 non-null    float64\n",
            " 6   SibSp        881 non-null    int64  \n",
            " 7   Parch        881 non-null    int64  \n",
            " 8   Ticket       881 non-null    object \n",
            " 9   Fare         881 non-null    float64\n",
            " 10  Cabin        201 non-null    object \n",
            " 11  Embarked     879 non-null    object \n",
            "dtypes: float64(2), int64(5), object(5)\n",
            "memory usage: 82.7+ KB\n"
          ]
        }
      ]
    },
    {
      "cell_type": "code",
      "source": [
        "train.isnull().sum()"
      ],
      "metadata": {
        "colab": {
          "base_uri": "https://localhost:8080/"
        },
        "id": "20wzAwzmk-yl",
        "outputId": "b6497b65-2b03-4882-c601-c033b8565fba"
      },
      "execution_count": null,
      "outputs": [
        {
          "output_type": "execute_result",
          "data": {
            "text/plain": [
              "PassengerId      0\n",
              "Survived         0\n",
              "Pclass           0\n",
              "Name             0\n",
              "Sex              0\n",
              "Age            170\n",
              "SibSp            0\n",
              "Parch            0\n",
              "Ticket           0\n",
              "Fare             0\n",
              "Cabin          680\n",
              "Embarked         2\n",
              "dtype: int64"
            ]
          },
          "metadata": {},
          "execution_count": 12
        }
      ]
    },
    {
      "cell_type": "code",
      "source": [
        "train.describe()"
      ],
      "metadata": {
        "colab": {
          "base_uri": "https://localhost:8080/",
          "height": 300
        },
        "id": "ywesXn-ClHFj",
        "outputId": "97a0b76f-5968-4d14-a95b-685ff3fea1c7"
      },
      "execution_count": null,
      "outputs": [
        {
          "output_type": "execute_result",
          "data": {
            "text/plain": [
              "       PassengerId  Survived  Pclass     Age   SibSp   Parch    Fare\n",
              "count      881.000   881.000 881.000 711.000 881.000 881.000 881.000\n",
              "mean       446.714     0.386   2.308  29.732   0.455   0.363  31.122\n",
              "std        256.617     0.487   0.835  14.548   0.872   0.792  47.996\n",
              "min          1.000     0.000   1.000   0.420   0.000   0.000   0.000\n",
              "25%        226.000     0.000   2.000  20.250   0.000   0.000   7.896\n",
              "50%        448.000     0.000   3.000  28.000   0.000   0.000  14.454\n",
              "75%        668.000     1.000   3.000  38.000   1.000   0.000  30.500\n",
              "max        891.000     1.000   3.000  80.000   5.000   6.000 512.329"
            ],
            "text/html": [
              "\n",
              "  <div id=\"df-2da29a0c-b1cd-452a-887a-3689439dd0a0\">\n",
              "    <div class=\"colab-df-container\">\n",
              "      <div>\n",
              "<style scoped>\n",
              "    .dataframe tbody tr th:only-of-type {\n",
              "        vertical-align: middle;\n",
              "    }\n",
              "\n",
              "    .dataframe tbody tr th {\n",
              "        vertical-align: top;\n",
              "    }\n",
              "\n",
              "    .dataframe thead th {\n",
              "        text-align: right;\n",
              "    }\n",
              "</style>\n",
              "<table border=\"1\" class=\"dataframe\">\n",
              "  <thead>\n",
              "    <tr style=\"text-align: right;\">\n",
              "      <th></th>\n",
              "      <th>PassengerId</th>\n",
              "      <th>Survived</th>\n",
              "      <th>Pclass</th>\n",
              "      <th>Age</th>\n",
              "      <th>SibSp</th>\n",
              "      <th>Parch</th>\n",
              "      <th>Fare</th>\n",
              "    </tr>\n",
              "  </thead>\n",
              "  <tbody>\n",
              "    <tr>\n",
              "      <th>count</th>\n",
              "      <td>881.000</td>\n",
              "      <td>881.000</td>\n",
              "      <td>881.000</td>\n",
              "      <td>711.000</td>\n",
              "      <td>881.000</td>\n",
              "      <td>881.000</td>\n",
              "      <td>881.000</td>\n",
              "    </tr>\n",
              "    <tr>\n",
              "      <th>mean</th>\n",
              "      <td>446.714</td>\n",
              "      <td>0.386</td>\n",
              "      <td>2.308</td>\n",
              "      <td>29.732</td>\n",
              "      <td>0.455</td>\n",
              "      <td>0.363</td>\n",
              "      <td>31.122</td>\n",
              "    </tr>\n",
              "    <tr>\n",
              "      <th>std</th>\n",
              "      <td>256.617</td>\n",
              "      <td>0.487</td>\n",
              "      <td>0.835</td>\n",
              "      <td>14.548</td>\n",
              "      <td>0.872</td>\n",
              "      <td>0.792</td>\n",
              "      <td>47.996</td>\n",
              "    </tr>\n",
              "    <tr>\n",
              "      <th>min</th>\n",
              "      <td>1.000</td>\n",
              "      <td>0.000</td>\n",
              "      <td>1.000</td>\n",
              "      <td>0.420</td>\n",
              "      <td>0.000</td>\n",
              "      <td>0.000</td>\n",
              "      <td>0.000</td>\n",
              "    </tr>\n",
              "    <tr>\n",
              "      <th>25%</th>\n",
              "      <td>226.000</td>\n",
              "      <td>0.000</td>\n",
              "      <td>2.000</td>\n",
              "      <td>20.250</td>\n",
              "      <td>0.000</td>\n",
              "      <td>0.000</td>\n",
              "      <td>7.896</td>\n",
              "    </tr>\n",
              "    <tr>\n",
              "      <th>50%</th>\n",
              "      <td>448.000</td>\n",
              "      <td>0.000</td>\n",
              "      <td>3.000</td>\n",
              "      <td>28.000</td>\n",
              "      <td>0.000</td>\n",
              "      <td>0.000</td>\n",
              "      <td>14.454</td>\n",
              "    </tr>\n",
              "    <tr>\n",
              "      <th>75%</th>\n",
              "      <td>668.000</td>\n",
              "      <td>1.000</td>\n",
              "      <td>3.000</td>\n",
              "      <td>38.000</td>\n",
              "      <td>1.000</td>\n",
              "      <td>0.000</td>\n",
              "      <td>30.500</td>\n",
              "    </tr>\n",
              "    <tr>\n",
              "      <th>max</th>\n",
              "      <td>891.000</td>\n",
              "      <td>1.000</td>\n",
              "      <td>3.000</td>\n",
              "      <td>80.000</td>\n",
              "      <td>5.000</td>\n",
              "      <td>6.000</td>\n",
              "      <td>512.329</td>\n",
              "    </tr>\n",
              "  </tbody>\n",
              "</table>\n",
              "</div>\n",
              "      <button class=\"colab-df-convert\" onclick=\"convertToInteractive('df-2da29a0c-b1cd-452a-887a-3689439dd0a0')\"\n",
              "              title=\"Convert this dataframe to an interactive table.\"\n",
              "              style=\"display:none;\">\n",
              "        \n",
              "  <svg xmlns=\"http://www.w3.org/2000/svg\" height=\"24px\"viewBox=\"0 0 24 24\"\n",
              "       width=\"24px\">\n",
              "    <path d=\"M0 0h24v24H0V0z\" fill=\"none\"/>\n",
              "    <path d=\"M18.56 5.44l.94 2.06.94-2.06 2.06-.94-2.06-.94-.94-2.06-.94 2.06-2.06.94zm-11 1L8.5 8.5l.94-2.06 2.06-.94-2.06-.94L8.5 2.5l-.94 2.06-2.06.94zm10 10l.94 2.06.94-2.06 2.06-.94-2.06-.94-.94-2.06-.94 2.06-2.06.94z\"/><path d=\"M17.41 7.96l-1.37-1.37c-.4-.4-.92-.59-1.43-.59-.52 0-1.04.2-1.43.59L10.3 9.45l-7.72 7.72c-.78.78-.78 2.05 0 2.83L4 21.41c.39.39.9.59 1.41.59.51 0 1.02-.2 1.41-.59l7.78-7.78 2.81-2.81c.8-.78.8-2.07 0-2.86zM5.41 20L4 18.59l7.72-7.72 1.47 1.35L5.41 20z\"/>\n",
              "  </svg>\n",
              "      </button>\n",
              "      \n",
              "  <style>\n",
              "    .colab-df-container {\n",
              "      display:flex;\n",
              "      flex-wrap:wrap;\n",
              "      gap: 12px;\n",
              "    }\n",
              "\n",
              "    .colab-df-convert {\n",
              "      background-color: #E8F0FE;\n",
              "      border: none;\n",
              "      border-radius: 50%;\n",
              "      cursor: pointer;\n",
              "      display: none;\n",
              "      fill: #1967D2;\n",
              "      height: 32px;\n",
              "      padding: 0 0 0 0;\n",
              "      width: 32px;\n",
              "    }\n",
              "\n",
              "    .colab-df-convert:hover {\n",
              "      background-color: #E2EBFA;\n",
              "      box-shadow: 0px 1px 2px rgba(60, 64, 67, 0.3), 0px 1px 3px 1px rgba(60, 64, 67, 0.15);\n",
              "      fill: #174EA6;\n",
              "    }\n",
              "\n",
              "    [theme=dark] .colab-df-convert {\n",
              "      background-color: #3B4455;\n",
              "      fill: #D2E3FC;\n",
              "    }\n",
              "\n",
              "    [theme=dark] .colab-df-convert:hover {\n",
              "      background-color: #434B5C;\n",
              "      box-shadow: 0px 1px 3px 1px rgba(0, 0, 0, 0.15);\n",
              "      filter: drop-shadow(0px 1px 2px rgba(0, 0, 0, 0.3));\n",
              "      fill: #FFFFFF;\n",
              "    }\n",
              "  </style>\n",
              "\n",
              "      <script>\n",
              "        const buttonEl =\n",
              "          document.querySelector('#df-2da29a0c-b1cd-452a-887a-3689439dd0a0 button.colab-df-convert');\n",
              "        buttonEl.style.display =\n",
              "          google.colab.kernel.accessAllowed ? 'block' : 'none';\n",
              "\n",
              "        async function convertToInteractive(key) {\n",
              "          const element = document.querySelector('#df-2da29a0c-b1cd-452a-887a-3689439dd0a0');\n",
              "          const dataTable =\n",
              "            await google.colab.kernel.invokeFunction('convertToInteractive',\n",
              "                                                     [key], {});\n",
              "          if (!dataTable) return;\n",
              "\n",
              "          const docLinkHtml = 'Like what you see? Visit the ' +\n",
              "            '<a target=\"_blank\" href=https://colab.research.google.com/notebooks/data_table.ipynb>data table notebook</a>'\n",
              "            + ' to learn more about interactive tables.';\n",
              "          element.innerHTML = '';\n",
              "          dataTable['output_type'] = 'display_data';\n",
              "          await google.colab.output.renderOutput(dataTable, element);\n",
              "          const docLink = document.createElement('div');\n",
              "          docLink.innerHTML = docLinkHtml;\n",
              "          element.appendChild(docLink);\n",
              "        }\n",
              "      </script>\n",
              "    </div>\n",
              "  </div>\n",
              "  "
            ]
          },
          "metadata": {},
          "execution_count": 13
        }
      ]
    },
    {
      "cell_type": "markdown",
      "source": [
        "## 3. Feature analysis\n",
        "### 3-1. Numerical values\n",
        "- 타겟 변수인 Survived와의 상관관계를 살펴보면, 오직 Fare 변수만 유효한 상관관계가 있는 것처럼 보인다.\n",
        "- 좀 더 정확한 분석을 위해 타겟 변수 Survied와 대상 피처들의 관계를 더 자세하게 살펴본다."
      ],
      "metadata": {
        "id": "tALFMIiMlrxT"
      }
    },
    {
      "cell_type": "code",
      "source": [
        "g = sns.heatmap(train[['Survived', 'SibSp', 'Parch', 'Age', 'Fare']].corr(), annot=True, fmt='.2f', cmap='coolwarm')"
      ],
      "metadata": {
        "colab": {
          "base_uri": "https://localhost:8080/",
          "height": 272
        },
        "id": "zzOgdhmYlMtH",
        "outputId": "d56e7c2d-a913-4a3c-fe5f-aa4dafc75a3d"
      },
      "execution_count": null,
      "outputs": [
        {
          "output_type": "display_data",
          "data": {
            "text/plain": [
              "<Figure size 432x288 with 2 Axes>"
            ],
            "image/png": "[encoded data removed]"
          },
          "metadata": {}
        }
      ]
    },
    {
      "cell_type": "markdown",
      "source": [
        "#### 1) SibSp\n",
        "- 혼자 온 손님(0)이나 두명 이하의 동승자가 있는 경우(1, 2)에 생존한 사람이 더 많다.\n",
        "- SibSp의 수가 많을수록 살아남을 확률이 적어진다는 것을 알 수 있다."
      ],
      "metadata": {
        "id": "2S2VuoqSmiKC"
      }
    },
    {
      "cell_type": "code",
      "source": [
        "g = sns.factorplot(x='SibSp', y='Survived', data=train, kind='bar', size=6, palette='muted')\n",
        "g.despine(left=True)\n",
        "g = g.set_ylabels(\"Survival Probability\")"
      ],
      "metadata": {
        "colab": {
          "base_uri": "https://localhost:8080/",
          "height": 437
        },
        "id": "edmHR9_Ul8Y2",
        "outputId": "0723c59d-9f26-4b60-b9d3-437b2320603f"
      },
      "execution_count": null,
      "outputs": [
        {
          "output_type": "display_data",
          "data": {
            "text/plain": [
              "<Figure size 432x432 with 1 Axes>"
            ],
            "image/png": "[encoded data removed]"
          },
          "metadata": {}
        }
      ]
    },
    {
      "cell_type": "markdown",
      "source": [
        "#### 2) Parch\n",
        "- Parch가 1, 2일때에 혼자(0)인 가족이나, 중간(3, 4) 또는 대가족(5, 6)보다 살아남을 확률이 더 높다는 것을 알 수 있다.\n",
        "- Parch가 3인 경우, 표준편차가 매우 크므로 주목할 필요가 있다."
      ],
      "metadata": {
        "id": "9KRXTT_ynX1i"
      }
    },
    {
      "cell_type": "code",
      "source": [
        "g = sns.factorplot(x='Parch', y='Survived', data=train, kind='bar', size=6, palette='muted')\n",
        "g.despine(left=True)\n",
        "g = g.set_ylabels(\"Survival Probability\")"
      ],
      "metadata": {
        "colab": {
          "base_uri": "https://localhost:8080/",
          "height": 437
        },
        "id": "7njv4sQmmzty",
        "outputId": "712e4c5b-e85a-46f9-9f45-99349ddb8022"
      },
      "execution_count": null,
      "outputs": [
        {
          "output_type": "display_data",
          "data": {
            "text/plain": [
              "<Figure size 432x432 with 1 Axes>"
            ],
            "image/png": "[encoded data removed]"
          },
          "metadata": {}
        }
      ]
    },
    {
      "cell_type": "markdown",
      "source": [
        "#### 3) Age\n",
        "- 나이에 따른 생존 여부의 분포를 그려보면 꼬리가 긴 분포 형태로, 가우스 분포와 유사하다.\n",
        "- 생존 분포에서 살펴봤을때, 젊은 나이에서 peak를 가지며, 나이가 많아질수록 생존자가 적어진다.\n",
        "- 생존한 사람의 분포에 아주 낮은 0세에서 5세의 연령대에서 peak를 가진다.\n",
        "- Survived와 Age의 상관계수가 높지는 않지만, 살아남을 가능성이 더 높은 연령대가 존재한다는 것을 알 수 있다."
      ],
      "metadata": {
        "id": "nv1vDq-LoDca"
      }
    },
    {
      "cell_type": "code",
      "source": [
        "g = sns.FacetGrid(train, col='Survived')\n",
        "g = g.map(sns.distplot, 'Age')"
      ],
      "metadata": {
        "colab": {
          "base_uri": "https://localhost:8080/",
          "height": 221
        },
        "id": "veZMd3h_ni4q",
        "outputId": "7a2a181b-a593-4c8b-bbe4-78c16e7dc782"
      },
      "execution_count": null,
      "outputs": [
        {
          "output_type": "display_data",
          "data": {
            "text/plain": [
              "<Figure size 432x216 with 2 Axes>"
            ],
            "image/png": "[encoded data removed]"
          },
          "metadata": {}
        }
      ]
    },
    {
      "cell_type": "code",
      "source": [
        "g = sns.kdeplot(train['Age'][ (train['Survived']==0) & (train['Age'].notnull()) ], color='Red', shade=True)\n",
        "g = sns.kdeplot(train['Age'][ (train['Survived']==1) & (train['Age'].notnull()) ], ax=g, color='Blue', shade=True)\n",
        "g.set_xlabel(\"Age\")\n",
        "g.set_ylabel(\"Frequency\")\n",
        "g = g.legend([\"Not Survived\", \"Survived\"])"
      ],
      "metadata": {
        "colab": {
          "base_uri": "https://localhost:8080/",
          "height": 285
        },
        "id": "8vD227f-oMMU",
        "outputId": "efae90fa-4754-4b9c-b670-6d357ebaa3ef"
      },
      "execution_count": null,
      "outputs": [
        {
          "output_type": "display_data",
          "data": {
            "text/plain": [
              "<Figure size 432x288 with 1 Axes>"
            ],
            "image/png": "[encoded data removed]"
          },
          "metadata": {}
        }
      ]
    },
    {
      "cell_type": "markdown",
      "source": [
        "#### 4) Fare\n",
        "- Fare 칼럼에 하나의 결측치가 존재한다. 이 결측치를 Fare의 중간값으로 대체한다.\n",
        "- Fare 칼럼의 분포가 매우 왜곡되어 있다. \n",
        "- 모형에서 크기가 조절되더라도 과대추정을 유발할 수 있다.\n",
        "- `np.log`를 이용해 로그변환을 수행하여 분포의 왜곡 정도를 줄인다.\n",
        "- 왜곡 정도가 4.51에서 0.57로 감소했음을 확인할 수 있다."
      ],
      "metadata": {
        "id": "Lp3k-PmJqstx"
      }
    },
    {
      "cell_type": "code",
      "source": [
        "data['Fare'].isnull().sum()"
      ],
      "metadata": {
        "colab": {
          "base_uri": "https://localhost:8080/"
        },
        "id": "O425WGAUqPO4",
        "outputId": "2ef9e4af-dc55-48ca-909b-5c3ccf420cf1"
      },
      "execution_count": null,
      "outputs": [
        {
          "output_type": "execute_result",
          "data": {
            "text/plain": [
              "1"
            ]
          },
          "metadata": {},
          "execution_count": 19
        }
      ]
    },
    {
      "cell_type": "code",
      "source": [
        "data['Fare'] = data['Fare'].fillna(data['Fare'].median())"
      ],
      "metadata": {
        "id": "gq1Sg1iRqzC0"
      },
      "execution_count": null,
      "outputs": []
    },
    {
      "cell_type": "code",
      "source": [
        "g = sns.distplot(data['Fare'], color='b', label='Skewness: %.2f'%(data['Fare'].skew()))\n",
        "g = g.legend(loc='best')"
      ],
      "metadata": {
        "colab": {
          "base_uri": "https://localhost:8080/",
          "height": 285
        },
        "id": "Cpzgz4oLq-5w",
        "outputId": "425ae483-e7e2-4176-f9f5-e8b386838534"
      },
      "execution_count": null,
      "outputs": [
        {
          "output_type": "display_data",
          "data": {
            "text/plain": [
              "<Figure size 432x288 with 1 Axes>"
            ],
            "image/png": "[encoded data removed]"
          },
          "metadata": {}
        }
      ]
    },
    {
      "cell_type": "code",
      "source": [
        "data['Fare'] = data['Fare'].map(lambda i: np.log(i) if i>0 else 0)"
      ],
      "metadata": {
        "id": "icMalrB_rLrw"
      },
      "execution_count": null,
      "outputs": []
    },
    {
      "cell_type": "code",
      "source": [
        "g = sns.distplot(data['Fare'], color='b', label='Skewness: %.2f'%(data['Fare'].skew()))\n",
        "g = g.legend(loc='best')"
      ],
      "metadata": {
        "colab": {
          "base_uri": "https://localhost:8080/",
          "height": 285
        },
        "id": "uvJsJZiRsAjG",
        "outputId": "d78fd0e1-0cfa-46f1-cfdf-9d1bd603b4c1"
      },
      "execution_count": null,
      "outputs": [
        {
          "output_type": "display_data",
          "data": {
            "text/plain": [
              "<Figure size 432x288 with 1 Axes>"
            ],
            "image/png": "[encoded data removed]"
          },
          "metadata": {}
        }
      ]
    },
    {
      "cell_type": "markdown",
      "source": [
        "## 3. Feature analysis\n",
        "### 3-2. Categorical values\n",
        "#### 1) Sex\n",
        "- 남자가 여자보다 생존할 확률이 매우 적다는 것을 알 수 있다.\n",
        "- 따라서 생존 여부를 예측하는데 Sex 칼럼이 매우 중요한 역할을 할 것이라고 판단된다."
      ],
      "metadata": {
        "id": "LQ2NzDo5sVRo"
      }
    },
    {
      "cell_type": "code",
      "source": [
        "g = sns.barplot(x='Sex', y='Survived', data=train)\n",
        "g = g.set_ylabel(\"Survival Probabilty\")"
      ],
      "metadata": {
        "colab": {
          "base_uri": "https://localhost:8080/",
          "height": 285
        },
        "id": "a3pizcA1sIbA",
        "outputId": "a41ceda0-6767-43de-b12f-d36c0861172e"
      },
      "execution_count": null,
      "outputs": [
        {
          "output_type": "display_data",
          "data": {
            "text/plain": [
              "<Figure size 432x288 with 1 Axes>"
            ],
            "image/png": "[encoded data removed]"
          },
          "metadata": {}
        }
      ]
    },
    {
      "cell_type": "code",
      "source": [
        "train[['Sex', 'Survived']].groupby('Sex').mean()"
      ],
      "metadata": {
        "colab": {
          "base_uri": "https://localhost:8080/",
          "height": 143
        },
        "id": "aMLf7biJwO1-",
        "outputId": "9d8dcb6e-1dab-4f74-f075-71c765252a13"
      },
      "execution_count": null,
      "outputs": [
        {
          "output_type": "execute_result",
          "data": {
            "text/plain": [
              "        Survived\n",
              "Sex             \n",
              "female     0.748\n",
              "male       0.191"
            ],
            "text/html": [
              "\n",
              "  <div id=\"df-1f314ef7-964f-4cc0-ac53-2bc517a72b73\">\n",
              "    <div class=\"colab-df-container\">\n",
              "      <div>\n",
              "<style scoped>\n",
              "    .dataframe tbody tr th:only-of-type {\n",
              "        vertical-align: middle;\n",
              "    }\n",
              "\n",
              "    .dataframe tbody tr th {\n",
              "        vertical-align: top;\n",
              "    }\n",
              "\n",
              "    .dataframe thead th {\n",
              "        text-align: right;\n",
              "    }\n",
              "</style>\n",
              "<table border=\"1\" class=\"dataframe\">\n",
              "  <thead>\n",
              "    <tr style=\"text-align: right;\">\n",
              "      <th></th>\n",
              "      <th>Survived</th>\n",
              "    </tr>\n",
              "    <tr>\n",
              "      <th>Sex</th>\n",
              "      <th></th>\n",
              "    </tr>\n",
              "  </thead>\n",
              "  <tbody>\n",
              "    <tr>\n",
              "      <th>female</th>\n",
              "      <td>0.748</td>\n",
              "    </tr>\n",
              "    <tr>\n",
              "      <th>male</th>\n",
              "      <td>0.191</td>\n",
              "    </tr>\n",
              "  </tbody>\n",
              "</table>\n",
              "</div>\n",
              "      <button class=\"colab-df-convert\" onclick=\"convertToInteractive('df-1f314ef7-964f-4cc0-ac53-2bc517a72b73')\"\n",
              "              title=\"Convert this dataframe to an interactive table.\"\n",
              "              style=\"display:none;\">\n",
              "        \n",
              "  <svg xmlns=\"http://www.w3.org/2000/svg\" height=\"24px\"viewBox=\"0 0 24 24\"\n",
              "       width=\"24px\">\n",
              "    <path d=\"M0 0h24v24H0V0z\" fill=\"none\"/>\n",
              "    <path d=\"M18.56 5.44l.94 2.06.94-2.06 2.06-.94-2.06-.94-.94-2.06-.94 2.06-2.06.94zm-11 1L8.5 8.5l.94-2.06 2.06-.94-2.06-.94L8.5 2.5l-.94 2.06-2.06.94zm10 10l.94 2.06.94-2.06 2.06-.94-2.06-.94-.94-2.06-.94 2.06-2.06.94z\"/><path d=\"M17.41 7.96l-1.37-1.37c-.4-.4-.92-.59-1.43-.59-.52 0-1.04.2-1.43.59L10.3 9.45l-7.72 7.72c-.78.78-.78 2.05 0 2.83L4 21.41c.39.39.9.59 1.41.59.51 0 1.02-.2 1.41-.59l7.78-7.78 2.81-2.81c.8-.78.8-2.07 0-2.86zM5.41 20L4 18.59l7.72-7.72 1.47 1.35L5.41 20z\"/>\n",
              "  </svg>\n",
              "      </button>\n",
              "      \n",
              "  <style>\n",
              "    .colab-df-container {\n",
              "      display:flex;\n",
              "      flex-wrap:wrap;\n",
              "      gap: 12px;\n",
              "    }\n",
              "\n",
              "    .colab-df-convert {\n",
              "      background-color: #E8F0FE;\n",
              "      border: none;\n",
              "      border-radius: 50%;\n",
              "      cursor: pointer;\n",
              "      display: none;\n",
              "      fill: #1967D2;\n",
              "      height: 32px;\n",
              "      padding: 0 0 0 0;\n",
              "      width: 32px;\n",
              "    }\n",
              "\n",
              "    .colab-df-convert:hover {\n",
              "      background-color: #E2EBFA;\n",
              "      box-shadow: 0px 1px 2px rgba(60, 64, 67, 0.3), 0px 1px 3px 1px rgba(60, 64, 67, 0.15);\n",
              "      fill: #174EA6;\n",
              "    }\n",
              "\n",
              "    [theme=dark] .colab-df-convert {\n",
              "      background-color: #3B4455;\n",
              "      fill: #D2E3FC;\n",
              "    }\n",
              "\n",
              "    [theme=dark] .colab-df-convert:hover {\n",
              "      background-color: #434B5C;\n",
              "      box-shadow: 0px 1px 3px 1px rgba(0, 0, 0, 0.15);\n",
              "      filter: drop-shadow(0px 1px 2px rgba(0, 0, 0, 0.3));\n",
              "      fill: #FFFFFF;\n",
              "    }\n",
              "  </style>\n",
              "\n",
              "      <script>\n",
              "        const buttonEl =\n",
              "          document.querySelector('#df-1f314ef7-964f-4cc0-ac53-2bc517a72b73 button.colab-df-convert');\n",
              "        buttonEl.style.display =\n",
              "          google.colab.kernel.accessAllowed ? 'block' : 'none';\n",
              "\n",
              "        async function convertToInteractive(key) {\n",
              "          const element = document.querySelector('#df-1f314ef7-964f-4cc0-ac53-2bc517a72b73');\n",
              "          const dataTable =\n",
              "            await google.colab.kernel.invokeFunction('convertToInteractive',\n",
              "                                                     [key], {});\n",
              "          if (!dataTable) return;\n",
              "\n",
              "          const docLinkHtml = 'Like what you see? Visit the ' +\n",
              "            '<a target=\"_blank\" href=https://colab.research.google.com/notebooks/data_table.ipynb>data table notebook</a>'\n",
              "            + ' to learn more about interactive tables.';\n",
              "          element.innerHTML = '';\n",
              "          dataTable['output_type'] = 'display_data';\n",
              "          await google.colab.output.renderOutput(dataTable, element);\n",
              "          const docLink = document.createElement('div');\n",
              "          docLink.innerHTML = docLinkHtml;\n",
              "          element.appendChild(docLink);\n",
              "        }\n",
              "      </script>\n",
              "    </div>\n",
              "  </div>\n",
              "  "
            ]
          },
          "metadata": {},
          "execution_count": 25
        }
      ]
    },
    {
      "cell_type": "markdown",
      "source": [
        "#### 2) Pclass\n",
        "- Pclass별로 생존 확률을 살펴보면 1일때 가장 높고, 다음으로 2, 3에서 가장 낮다.\n",
        "- 각 Pclass 내에서 Sex 별로 나누어 살펴보면, 역시 여자의 생존 확률이 남자보다 높게 나타난다."
      ],
      "metadata": {
        "id": "-AshdavqwnFn"
      }
    },
    {
      "cell_type": "code",
      "source": [
        "g = sns.factorplot(x='Pclass', y='Survived', data=train, kind='bar', size=6, palette='muted')\n",
        "g.despine(left=True)\n",
        "g = g.set_ylabels(\"Survival Probability\")"
      ],
      "metadata": {
        "colab": {
          "base_uri": "https://localhost:8080/",
          "height": 437
        },
        "id": "9FDpOZ1ewUrn",
        "outputId": "d1352e9e-67df-440b-bcea-f0d1c333d8f3"
      },
      "execution_count": null,
      "outputs": [
        {
          "output_type": "display_data",
          "data": {
            "text/plain": [
              "<Figure size 432x432 with 1 Axes>"
            ],
            "image/png": "[encoded data removed]"
          },
          "metadata": {}
        }
      ]
    },
    {
      "cell_type": "code",
      "source": [
        "g = sns.factorplot(x='Pclass', y='Survived', hue='Sex', data=train, kind='bar', size=6, palette='muted')\n",
        "g.despine(left=True)\n",
        "g = g.set_ylabels(\"Survival Probability\")"
      ],
      "metadata": {
        "colab": {
          "base_uri": "https://localhost:8080/",
          "height": 437
        },
        "id": "OsPyNf7kw5WN",
        "outputId": "41bda9b7-9d1d-453d-e113-70526d3c99ae"
      },
      "execution_count": null,
      "outputs": [
        {
          "output_type": "display_data",
          "data": {
            "text/plain": [
              "<Figure size 509.975x432 with 1 Axes>"
            ],
            "image/png": "[encoded data removed]"
          },
          "metadata": {}
        }
      ]
    },
    {
      "cell_type": "markdown",
      "source": [
        "#### 3) Embarked\n",
        "- Embarked 칼럼에는 2개의 결측치가 존재한다. 이 결측치를 Embarked 칼럼에서 가장 많은 수인 'S'로 대체한다.\n",
        "- Embarked가 'C'일 때 생존 확률이 제일 높으므로, Cherbourg의 손님이 살아남을 가능성이 높다는 것을 알 수 있다.\n",
        "- Pclass와 연관지어 일등석에 탑승한 손님 중에 Cherbourg에서 온 손님의 비율이 높을 것이라고 추측할 수 있다."
      ],
      "metadata": {
        "id": "D320uJy6xZ39"
      }
    },
    {
      "cell_type": "code",
      "source": [
        "data['Embarked'].isnull().sum()"
      ],
      "metadata": {
        "colab": {
          "base_uri": "https://localhost:8080/"
        },
        "id": "EzHvqm8bxFZk",
        "outputId": "69f0789c-f690-49d7-eea9-8030c1a15b86"
      },
      "execution_count": null,
      "outputs": [
        {
          "output_type": "execute_result",
          "data": {
            "text/plain": [
              "2"
            ]
          },
          "metadata": {},
          "execution_count": 28
        }
      ]
    },
    {
      "cell_type": "code",
      "source": [
        "data['Embarked'] = data['Embarked'].fillna('S')"
      ],
      "metadata": {
        "id": "SFTQbPiRxfCm"
      },
      "execution_count": null,
      "outputs": []
    },
    {
      "cell_type": "code",
      "source": [
        "g = sns.factorplot(x='Embarked', y='Survived', data=train, kind='bar', size=6, palette='muted')\n",
        "g.despine(left=True)\n",
        "g = g.set_ylabels(\"Survival Probability\")"
      ],
      "metadata": {
        "colab": {
          "base_uri": "https://localhost:8080/",
          "height": 437
        },
        "id": "5glyO6uDxi2v",
        "outputId": "70d5c098-3713-418b-b4ac-7b56a5ac65b4"
      },
      "execution_count": null,
      "outputs": [
        {
          "output_type": "display_data",
          "data": {
            "text/plain": [
              "<Figure size 432x432 with 1 Axes>"
            ],
            "image/png": "[encoded data removed]"
          },
          "metadata": {}
        }
      ]
    },
    {
      "cell_type": "markdown",
      "source": [
        "#### 3) Pclass vs Embarked\n",
        "- 앞선 추측을 확인해보기 위해 두 칼럼의 분포를 비교한다.\n",
        "- Embarked의 'S', 'C', 'Q' 각각에 대해 Pclass의 분포를 그린다.\n",
        "- 예상대로 Cherbourg에서 온 손님의 Pclass가 일등석인 경우가 많다.\n",
        "- 나머지 카테고리인 'S'와 'C'에서는 3등석의 경우가 가장 많다."
      ],
      "metadata": {
        "id": "-2lASbTbyN_G"
      }
    },
    {
      "cell_type": "code",
      "source": [
        "g = sns.factorplot('Pclass', col='Embarked', data=train, kind='count', size=6, palette='muted')\n",
        "g.despine(left=True)\n",
        "g = g.set_ylabels(\"Count\")"
      ],
      "metadata": {
        "colab": {
          "base_uri": "https://localhost:8080/",
          "height": 396
        },
        "id": "TzQCiatjxvJH",
        "outputId": "5a6377af-9210-489e-f629-81748fc84697"
      },
      "execution_count": null,
      "outputs": [
        {
          "output_type": "display_data",
          "data": {
            "text/plain": [
              "<Figure size 1296x432 with 3 Axes>"
            ],
            "image/png": "[encoded data removed]"
          },
          "metadata": {}
        }
      ]
    },
    {
      "cell_type": "markdown",
      "source": [
        "## 4. Filling Missing Values\n",
        "### 4-1. Age\n",
        "- Age 칼럼은 256개의 결측치를 갖는다.\n",
        "- 어린이와 같은 생존 확률이 높은 특정한 연령대가 있으므로, 연령의 특성을 유지하면서 결측치를 처리해야 한다.\n",
        "- 이를 위해 먼저 Age 칼럼과 (Sex, Parch, Pclass and SibSp) 칼럼 중에 가장  상관관계가 높은 칼럼을 찾는다.\n",
        "---\n",
        "- Age 분포는 Sex의 남자와 여자에서 비슷하므로, 성별은 나이를 예측하는데 중요하지 않아보인다.\n",
        "- Pclss의 1등석에서 3등석보다 나이가 많다.\n",
        "- Parch가 많을수록, 즉 부모/자녀가 많을수록 나이가 많다. \n",
        "- SibSp가 많을수록, 즉 형제/자매가 많을수록 나이가 어리다."
      ],
      "metadata": {
        "id": "-2LfMZz4zZKa"
      }
    },
    {
      "cell_type": "code",
      "source": [
        "g = sns.factorplot(y='Age', x='Sex', data=data, kind='box')\n",
        "g = sns.factorplot(y='Age', x='Sex', hue='Pclass', data=data, kind='box')\n",
        "g = sns.factorplot(y='Age', x='Parch', data=data, kind='box')\n",
        "g = sns.factorplot(y='Age', x='SibSp', data=data, kind='box')"
      ],
      "metadata": {
        "colab": {
          "base_uri": "https://localhost:8080/",
          "height": 1000
        },
        "id": "E4nhv8ZzyqSW",
        "outputId": "01472899-3034-42b0-fea9-cc6ca16d091e"
      },
      "execution_count": null,
      "outputs": [
        {
          "output_type": "display_data",
          "data": {
            "text/plain": [
              "<Figure size 360x360 with 1 Axes>"
            ],
            "image/png": "[encoded data removed]"
          },
          "metadata": {}
        },
        {
          "output_type": "display_data",
          "data": {
            "text/plain": [
              "<Figure size 406.6x360 with 1 Axes>"
            ],
            "image/png": "[encoded data removed]"
          },
          "metadata": {}
        },
        {
          "output_type": "display_data",
          "data": {
            "text/plain": [
              "<Figure size 360x360 with 1 Axes>"
            ],
            "image/png": "[encoded data removed]"
          },
          "metadata": {}
        },
        {
          "output_type": "display_data",
          "data": {
            "text/plain": [
              "<Figure size 360x360 with 1 Axes>"
            ],
            "image/png": "[encoded data removed]"
          },
          "metadata": {}
        }
      ]
    },
    {
      "cell_type": "markdown",
      "source": [
        "## 4. Filling Missing Values\n",
        "### 4-1. Age\n",
        "- 정확한 수치를 구하기 위해 Sex 칼럼을 남자는 0, 여자는 1로 변환한다.\n",
        "- 그 후에 `corr( )`을 이용하여 Age 칼럼과 (Sex, Parch, Pclass and SibSp)의 상관계수를 구한다."
      ],
      "metadata": {
        "id": "lkzJxcUA36Pq"
      }
    },
    {
      "cell_type": "code",
      "source": [
        "data['Sex'] = data['Sex'].map({'male':0, 'female':1})"
      ],
      "metadata": {
        "id": "EKEljFG42seI"
      },
      "execution_count": null,
      "outputs": []
    },
    {
      "cell_type": "code",
      "source": [
        "g = sns.heatmap(data[['Age', 'Sex', 'SibSp', 'Parch', 'Pclass']].corr(), cmap='BrBG', annot=True)"
      ],
      "metadata": {
        "colab": {
          "base_uri": "https://localhost:8080/",
          "height": 272
        },
        "id": "p8OlRmmi4OGZ",
        "outputId": "029542ac-b9d2-4960-85c3-18408fd58bd9"
      },
      "execution_count": null,
      "outputs": [
        {
          "output_type": "display_data",
          "data": {
            "text/plain": [
              "<Figure size 432x288 with 2 Axes>"
            ],
            "image/png": "[encoded data removed]"
          },
          "metadata": {}
        }
      ]
    },
    {
      "cell_type": "markdown",
      "source": [
        "## 4. Filling Missing Values\n",
        "### 4-1. Age\n",
        "- Age와 Sex의 상관계수가 매우 낮다.\n",
        "- Age와 SibSp, Parch, Pclass는 음의 상관계수를 갖는다.\n",
        "- 따라서 Age의 결측치를 SibSp, Parch, Pclass에 따른 유사한 행의 나이 중위값으로 처리한다."
      ],
      "metadata": {
        "id": "7HtFFZno5H_D"
      }
    },
    {
      "cell_type": "code",
      "source": [
        "data['Age'][data['Age'].isnull()].index"
      ],
      "metadata": {
        "colab": {
          "base_uri": "https://localhost:8080/"
        },
        "id": "yuwtGUxB5a57",
        "outputId": "3e88f9a6-f6dc-4409-9d3b-5d0e857df171"
      },
      "execution_count": null,
      "outputs": [
        {
          "output_type": "execute_result",
          "data": {
            "text/plain": [
              "Int64Index([   5,   17,   19,   26,   27,   28,   30,   31,   35,   41,\n",
              "            ...\n",
              "            1246, 1247, 1261, 1263, 1265, 1289, 1291, 1294, 1297, 1298],\n",
              "           dtype='int64', length=256)"
            ]
          },
          "metadata": {},
          "execution_count": 35
        }
      ]
    },
    {
      "cell_type": "code",
      "source": [
        "# Age가 결측치인 행의 index 추출\n",
        "index_NaN_age = list(data['Age'][data['Age'].isnull()].index) \n",
        "\n",
        "for i in index_NaN_age:\n",
        "    age_med = data['Age'].median()\n",
        "    age_pred = data['Age'][ ( (data['SibSp']==data.iloc[i]['SibSp']) & (data['Parch']==data.iloc[i]['Parch']) & (data['Pclass']==data.iloc[i]['Pclass']) ) ].median()\n",
        "    if not np.isnan(age_pred):\n",
        "        data['Age'].iloc[i] = age_pred # 결측치가 아니면 새롭게 구한 유사 중위값으로 대체\n",
        "    else:\n",
        "        data['Age'].iloc[i] = age_med # 결측치라면 전체 Age의 중위값으로 대체"
      ],
      "metadata": {
        "id": "TpnR0ALY4dLo"
      },
      "execution_count": null,
      "outputs": []
    },
    {
      "cell_type": "markdown",
      "source": [
        "## 4. Filling Missing Values\n",
        "### 4-1. Age\n",
        "- 생존 여부에 따른 Age의 중위값이 매우 유사해졌다.\n",
        "- 생존 여부에 따른 Age의 분포를 바이올린 그래프로 그려보니, Survived가 1일때 Age가 낮은 쪽에서 peak를 갖는다.\n",
        "- 여전히 나이가 어린 손님들의 생존 확률이 더 높게 나타난다는 것을 알 수 있다."
      ],
      "metadata": {
        "id": "sLyOj1at9aVk"
      }
    },
    {
      "cell_type": "code",
      "source": [
        "g = sns.factorplot(x='Survived', y='Age', data=train, kind='box')\n",
        "g = sns.factorplot(x='Survived', y='Age', data=train, kind='violin')"
      ],
      "metadata": {
        "colab": {
          "base_uri": "https://localhost:8080/",
          "height": 713
        },
        "id": "l8uU8gus9EoW",
        "outputId": "d9795d50-8892-445d-d59b-b8383eaa0f16"
      },
      "execution_count": null,
      "outputs": [
        {
          "output_type": "display_data",
          "data": {
            "text/plain": [
              "<Figure size 360x360 with 1 Axes>"
            ],
            "image/png": "[encoded data removed]"
          },
          "metadata": {}
        },
        {
          "output_type": "display_data",
          "data": {
            "text/plain": [
              "<Figure size 360x360 with 1 Axes>"
            ],
            "image/png": "[encoded data removed]"
          },
          "metadata": {}
        }
      ]
    },
    {
      "cell_type": "markdown",
      "source": [
        "## 5. Feature engineering\n",
        "### 5-1. Name/Title\n",
        "- 승객의 이름 칼럼을 분석한다.\n",
        "- Mr/Mrs/Miss 등으로 구별되는 것이 대피하는 동안 영향을 주었는지 확인하기 위해 이름 피처를 Title 칼럼으로 생성하고, 모델에 추가한다.\n"
      ],
      "metadata": {
        "id": "fR3Cq1aG9C4K"
      }
    },
    {
      "cell_type": "code",
      "source": [
        "data['Name'].head()"
      ],
      "metadata": {
        "id": "BGFTJ9XC63Bc",
        "colab": {
          "base_uri": "https://localhost:8080/"
        },
        "outputId": "d0848ea5-2ee3-4ce8-b9cf-5cc9b8099cd2"
      },
      "execution_count": null,
      "outputs": [
        {
          "output_type": "execute_result",
          "data": {
            "text/plain": [
              "0                              Braund, Mr. Owen Harris\n",
              "1    Cumings, Mrs. John Bradley (Florence Briggs Th...\n",
              "2                               Heikkinen, Miss. Laina\n",
              "3         Futrelle, Mrs. Jacques Heath (Lily May Peel)\n",
              "4                             Allen, Mr. William Henry\n",
              "Name: Name, dtype: object"
            ]
          },
          "metadata": {},
          "execution_count": 38
        }
      ]
    },
    {
      "cell_type": "code",
      "source": [
        "data_title = [i.split(\",\")[1].split(\".\")[0].strip() for i in data['Name']]\n",
        "data['Title'] = pd.Series(data_title)\n",
        "data['Title'].head()"
      ],
      "metadata": {
        "colab": {
          "base_uri": "https://localhost:8080/"
        },
        "id": "qQAGGZguh9_d",
        "outputId": "5dbda4e2-a7dd-4a75-f6cb-4a27b0c39a41"
      },
      "execution_count": null,
      "outputs": [
        {
          "output_type": "execute_result",
          "data": {
            "text/plain": [
              "0      Mr\n",
              "1     Mrs\n",
              "2    Miss\n",
              "3     Mrs\n",
              "4      Mr\n",
              "Name: Title, dtype: object"
            ]
          },
          "metadata": {},
          "execution_count": 39
        }
      ]
    },
    {
      "cell_type": "code",
      "source": [
        "g = sns.countplot(x='Title', data=data)\n",
        "g = plt.setp(g.get_xticklabels(), rotation=45)"
      ],
      "metadata": {
        "colab": {
          "base_uri": "https://localhost:8080/",
          "height": 333
        },
        "id": "J_TcBfickFGm",
        "outputId": "08b5953b-7b36-4c0f-9e9b-f03137fcda50"
      },
      "execution_count": null,
      "outputs": [
        {
          "output_type": "display_data",
          "data": {
            "text/plain": [
              "<Figure size 432x288 with 1 Axes>"
            ],
            "image/png": "[encoded data removed]"
          },
          "metadata": {}
        }
      ]
    },
    {
      "cell_type": "markdown",
      "source": [
        "## 5. Feature engineering\n",
        "### 5-1. Name/Title\n",
        "- 17개의 Title 카테고리가 생성된다. 그 중 대부분의 개수가 아주 작으므로 4개의 그룹으로 그룹화한다.\n",
        "- 여자를 의미하는 이름을 가진 사람들의 생존 확률이 더 높은 것을 알 수 있다."
      ],
      "metadata": {
        "id": "-mMcyZBSklo_"
      }
    },
    {
      "cell_type": "code",
      "source": [
        "data['Title'] = data['Title'].replace(['Lady', 'the Countess', 'Countess', 'Capt', 'Col', 'Don', 'Dr', 'Major', 'Rev', 'Sir', 'Jonkheer', 'Dona'], 'Rare')\n",
        "data['Title'] = data['Title'].map({'Master': 0, 'Miss': 1, 'Ms': 1, 'Mme': 1, 'Mlle':1, 'Mrs':1, 'Mr':2, \"Rare\":3})\n",
        "data['Title'] = data['Title'].astype(int)"
      ],
      "metadata": {
        "id": "8o1b8cI8kQWF"
      },
      "execution_count": null,
      "outputs": []
    },
    {
      "cell_type": "code",
      "source": [
        "g = sns.countplot(data['Title'])\n",
        "g = g.set_xticklabels([\"Master\", \"Miss/Ms/Mme/Mrs\", \"Mr\", \"Rare\"])"
      ],
      "metadata": {
        "colab": {
          "base_uri": "https://localhost:8080/",
          "height": 285
        },
        "id": "RloD6sfnlXEz",
        "outputId": "80b8e4c4-6fab-431f-fd88-c0ff66029017"
      },
      "execution_count": null,
      "outputs": [
        {
          "output_type": "display_data",
          "data": {
            "text/plain": [
              "<Figure size 432x288 with 1 Axes>"
            ],
            "image/png": "[encoded data removed]"
          },
          "metadata": {}
        }
      ]
    },
    {
      "cell_type": "code",
      "source": [
        "g = sns.factorplot(x='Title', y='Survived', data=data, kind='bar')\n",
        "g = g.set_xticklabels([\"Master\", \"Miss-Mrs\", \"Mr\", \"Rare\"])\n",
        "g = g.set_ylabels(\"Survival Probability\")"
      ],
      "metadata": {
        "colab": {
          "base_uri": "https://localhost:8080/",
          "height": 365
        },
        "id": "JOZ134mDljfq",
        "outputId": "f297db30-8a67-43e9-e1ec-348459eb2c78"
      },
      "execution_count": null,
      "outputs": [
        {
          "output_type": "display_data",
          "data": {
            "text/plain": [
              "<Figure size 360x360 with 1 Axes>"
            ],
            "image/png": "[encoded data removed]"
          },
          "metadata": {}
        }
      ]
    },
    {
      "cell_type": "code",
      "source": [
        "data.drop(['Name'], axis=1, inplace=True)"
      ],
      "metadata": {
        "id": "hHOPE1rDl0lq"
      },
      "execution_count": null,
      "outputs": []
    },
    {
      "cell_type": "markdown",
      "source": [
        "## 5. Feature engineering\n",
        "### 5-2. Family size\n",
        "- 손님이 부모/자녀(Prach) 또는 형제/자매(SibSp)와 함께 탑승했다면 가족을 찾느라 대피가 늦어질 수도 있으므로, 가족의 규모가 생존 여부에 영향을 미칠 수도 있다고 추측된다.\n",
        "- 이 가설을 확인하기 위해 Parch와 SibSp을 합하고 본인까지 1을 더하여 가족 구성원의 크기를 의미하는 Fsize 칼럼을 생성한다.\n",
        "- 가족 구성원의 수가 5를 넘어가면서부터 생존 확률이 급격하게 낮아지는 것을 확인할 수 있다.\n",
        "\n"
      ],
      "metadata": {
        "id": "ytiumwzBmKCb"
      }
    },
    {
      "cell_type": "code",
      "source": [
        "data['Fsize'] = data['SibSp'] + data['Parch'] + 1"
      ],
      "metadata": {
        "id": "6vwPA6oxmIN9"
      },
      "execution_count": null,
      "outputs": []
    },
    {
      "cell_type": "code",
      "source": [
        "g = sns.factorplot(x='Fsize', y='Survived', data=data)\n",
        "g = g.set_ylabels(\"Survived Probability\")"
      ],
      "metadata": {
        "colab": {
          "base_uri": "https://localhost:8080/",
          "height": 365
        },
        "id": "l7olZhFdpiXg",
        "outputId": "9ee3b71e-deb5-4b36-f41b-c4d42c95e1df"
      },
      "execution_count": null,
      "outputs": [
        {
          "output_type": "display_data",
          "data": {
            "text/plain": [
              "<Figure size 360x360 with 1 Axes>"
            ],
            "image/png": "[encoded data removed]"
          },
          "metadata": {}
        }
      ]
    },
    {
      "cell_type": "markdown",
      "source": [
        "## 5. Feature engineering\n",
        "### 5-2. Family size\n",
        "- 따라서 가족 구성원의 수가 생존 여부를 추측하는데 중요한 역할을 한다고 판단된다.\n",
        "- Fsize 칼럼을 [1명/2명/3~4명/5명이상] 4개의 카테고리로 나눠서 각각의 이름을 정하고, 그에 해당하면 1을 아니면 0을 갖는 칼럼을 생성한다.\n",
        "- 그렇게 생성한 4개의 칼럼에 대해 생존 확률을 구하여 비교한다.\n",
        "- 중소형 가족이 1인가족이나 대가족보다 생존 확률이 더 높게 나타난다."
      ],
      "metadata": {
        "id": "HjpRoqZCqDZ2"
      }
    },
    {
      "cell_type": "code",
      "source": [
        "data['Single'] = data['Fsize'].map(lambda s: 1 if s==1 else 0)\n",
        "data['SmallF'] = data['Fsize'].map(lambda s: 1 if s==2 else 0)\n",
        "data['MedF'] = data['Fsize'].map(lambda s: 1 if 3<=s<=4 else 0)\n",
        "data['LargeF'] = data['Fsize'].map(lambda s: 1 if s>=5 else 0)"
      ],
      "metadata": {
        "id": "dOeWDarapuXi"
      },
      "execution_count": null,
      "outputs": []
    },
    {
      "cell_type": "code",
      "source": [
        "g = sns.factorplot(x='Single', y='Survived', data=data, kind='bar')\n",
        "g = g.set_ylabels(\"Survival Probability\")\n",
        "g = sns.factorplot(x='SmallF', y='Survived', data=data, kind='bar')\n",
        "g = g.set_ylabels(\"Survival Probability\")\n",
        "g = sns.factorplot(x='MedF', y='Survived', data=data, kind='bar')\n",
        "g = g.set_ylabels(\"Survival Probability\")\n",
        "g = sns.factorplot(x='LargeF', y='Survived', data=data, kind='bar')\n",
        "g = g.set_ylabels(\"Survival Probability\")"
      ],
      "metadata": {
        "colab": {
          "base_uri": "https://localhost:8080/",
          "height": 1000
        },
        "id": "0T4jQLcvq3rn",
        "outputId": "124bad8a-9bf6-4c2e-8b5d-3c9fe422d7c9"
      },
      "execution_count": null,
      "outputs": [
        {
          "output_type": "display_data",
          "data": {
            "text/plain": [
              "<Figure size 360x360 with 1 Axes>"
            ],
            "image/png": "[encoded data removed]"
          },
          "metadata": {}
        },
        {
          "output_type": "display_data",
          "data": {
            "text/plain": [
              "<Figure size 360x360 with 1 Axes>"
            ],
            "image/png": "[encoded data removed]"
          },
          "metadata": {}
        },
        {
          "output_type": "display_data",
          "data": {
            "text/plain": [
              "<Figure size 360x360 with 1 Axes>"
            ],
            "image/png": "[encoded data removed]"
          },
          "metadata": {}
        },
        {
          "output_type": "display_data",
          "data": {
            "text/plain": [
              "<Figure size 360x360 with 1 Axes>"
            ],
            "image/png": "[encoded data removed]"
          },
          "metadata": {}
        }
      ]
    },
    {
      "cell_type": "markdown",
      "source": [
        "## 5. Feature engineering\n",
        "- Title 칼럼에 대해 `pd.get_dummies( )`를 이용하여 원핫인코딩을 수행한다.\n",
        "- Embarked 칼럼에 대해 `pd.get_dummies( )`를 이용하여 원핫인코딩을 수행한다. 각 카테고리의 이름 앞에 Em이 붙도록 칼럼을 생성한다.\n",
        "- 여기까지 진행하면 데이터는 총 22개의 칼럼을 갖는다."
      ],
      "metadata": {
        "id": "iSHAFUzAtGXO"
      }
    },
    {
      "cell_type": "code",
      "source": [
        "data = pd.get_dummies(data, columns=['Title'])"
      ],
      "metadata": {
        "id": "4FGYZo56ssPk"
      },
      "execution_count": null,
      "outputs": []
    },
    {
      "cell_type": "code",
      "source": [
        "data = pd.get_dummies(data, columns=['Embarked'], prefix=\"Em\")"
      ],
      "metadata": {
        "id": "234RlhqutZY-"
      },
      "execution_count": null,
      "outputs": []
    },
    {
      "cell_type": "code",
      "source": [
        "data.head()"
      ],
      "metadata": {
        "colab": {
          "base_uri": "https://localhost:8080/",
          "height": 352
        },
        "id": "zgc0auKBtf4_",
        "outputId": "2b7ed418-f5b2-4c44-a5fc-fc3d35bb9ea9"
      },
      "execution_count": null,
      "outputs": [
        {
          "output_type": "execute_result",
          "data": {
            "text/plain": [
              "   PassengerId  Survived  Pclass  Sex    Age  SibSp  Parch            Ticket  \\\n",
              "0            1     0.000       3    0 22.000      1      0         A/5 21171   \n",
              "1            2     1.000       1    1 38.000      1      0          PC 17599   \n",
              "2            3     1.000       3    1 26.000      0      0  STON/O2. 3101282   \n",
              "3            4     1.000       1    1 35.000      1      0            113803   \n",
              "4            5     0.000       3    0 35.000      0      0            373450   \n",
              "\n",
              "   Fare Cabin  ...  SmallF  MedF  LargeF  Title_0  Title_1  Title_2  Title_3  \\\n",
              "0 1.981   NaN  ...       1     0       0        0        0        1        0   \n",
              "1 4.267   C85  ...       1     0       0        0        1        0        0   \n",
              "2 2.070   NaN  ...       0     0       0        0        1        0        0   \n",
              "3 3.972  C123  ...       1     0       0        0        1        0        0   \n",
              "4 2.086   NaN  ...       0     0       0        0        0        1        0   \n",
              "\n",
              "   Em_C  Em_Q  Em_S  \n",
              "0     0     0     1  \n",
              "1     1     0     0  \n",
              "2     0     0     1  \n",
              "3     0     0     1  \n",
              "4     0     0     1  \n",
              "\n",
              "[5 rows x 22 columns]"
            ],
            "text/html": [
              "\n",
              "  <div id=\"df-d663bbc1-09b5-4f56-a6c7-bab4d7daca61\">\n",
              "    <div class=\"colab-df-container\">\n",
              "      <div>\n",
              "<style scoped>\n",
              "    .dataframe tbody tr th:only-of-type {\n",
              "        vertical-align: middle;\n",
              "    }\n",
              "\n",
              "    .dataframe tbody tr th {\n",
              "        vertical-align: top;\n",
              "    }\n",
              "\n",
              "    .dataframe thead th {\n",
              "        text-align: right;\n",
              "    }\n",
              "</style>\n",
              "<table border=\"1\" class=\"dataframe\">\n",
              "  <thead>\n",
              "    <tr style=\"text-align: right;\">\n",
              "      <th></th>\n",
              "      <th>PassengerId</th>\n",
              "      <th>Survived</th>\n",
              "      <th>Pclass</th>\n",
              "      <th>Sex</th>\n",
              "      <th>Age</th>\n",
              "      <th>SibSp</th>\n",
              "      <th>Parch</th>\n",
              "      <th>Ticket</th>\n",
              "      <th>Fare</th>\n",
              "      <th>Cabin</th>\n",
              "      <th>...</th>\n",
              "      <th>SmallF</th>\n",
              "      <th>MedF</th>\n",
              "      <th>LargeF</th>\n",
              "      <th>Title_0</th>\n",
              "      <th>Title_1</th>\n",
              "      <th>Title_2</th>\n",
              "      <th>Title_3</th>\n",
              "      <th>Em_C</th>\n",
              "      <th>Em_Q</th>\n",
              "      <th>Em_S</th>\n",
              "    </tr>\n",
              "  </thead>\n",
              "  <tbody>\n",
              "    <tr>\n",
              "      <th>0</th>\n",
              "      <td>1</td>\n",
              "      <td>0.000</td>\n",
              "      <td>3</td>\n",
              "      <td>0</td>\n",
              "      <td>22.000</td>\n",
              "      <td>1</td>\n",
              "      <td>0</td>\n",
              "      <td>A/5 21171</td>\n",
              "      <td>1.981</td>\n",
              "      <td>NaN</td>\n",
              "      <td>...</td>\n",
              "      <td>1</td>\n",
              "      <td>0</td>\n",
              "      <td>0</td>\n",
              "      <td>0</td>\n",
              "      <td>0</td>\n",
              "      <td>1</td>\n",
              "      <td>0</td>\n",
              "      <td>0</td>\n",
              "      <td>0</td>\n",
              "      <td>1</td>\n",
              "    </tr>\n",
              "    <tr>\n",
              "      <th>1</th>\n",
              "      <td>2</td>\n",
              "      <td>1.000</td>\n",
              "      <td>1</td>\n",
              "      <td>1</td>\n",
              "      <td>38.000</td>\n",
              "      <td>1</td>\n",
              "      <td>0</td>\n",
              "      <td>PC 17599</td>\n",
              "      <td>4.267</td>\n",
              "      <td>C85</td>\n",
              "      <td>...</td>\n",
              "      <td>1</td>\n",
              "      <td>0</td>\n",
              "      <td>0</td>\n",
              "      <td>0</td>\n",
              "      <td>1</td>\n",
              "      <td>0</td>\n",
              "      <td>0</td>\n",
              "      <td>1</td>\n",
              "      <td>0</td>\n",
              "      <td>0</td>\n",
              "    </tr>\n",
              "    <tr>\n",
              "      <th>2</th>\n",
              "      <td>3</td>\n",
              "      <td>1.000</td>\n",
              "      <td>3</td>\n",
              "      <td>1</td>\n",
              "      <td>26.000</td>\n",
              "      <td>0</td>\n",
              "      <td>0</td>\n",
              "      <td>STON/O2. 3101282</td>\n",
              "      <td>2.070</td>\n",
              "      <td>NaN</td>\n",
              "      <td>...</td>\n",
              "      <td>0</td>\n",
              "      <td>0</td>\n",
              "      <td>0</td>\n",
              "      <td>0</td>\n",
              "      <td>1</td>\n",
              "      <td>0</td>\n",
              "      <td>0</td>\n",
              "      <td>0</td>\n",
              "      <td>0</td>\n",
              "      <td>1</td>\n",
              "    </tr>\n",
              "    <tr>\n",
              "      <th>3</th>\n",
              "      <td>4</td>\n",
              "      <td>1.000</td>\n",
              "      <td>1</td>\n",
              "      <td>1</td>\n",
              "      <td>35.000</td>\n",
              "      <td>1</td>\n",
              "      <td>0</td>\n",
              "      <td>113803</td>\n",
              "      <td>3.972</td>\n",
              "      <td>C123</td>\n",
              "      <td>...</td>\n",
              "      <td>1</td>\n",
              "      <td>0</td>\n",
              "      <td>0</td>\n",
              "      <td>0</td>\n",
              "      <td>1</td>\n",
              "      <td>0</td>\n",
              "      <td>0</td>\n",
              "      <td>0</td>\n",
              "      <td>0</td>\n",
              "      <td>1</td>\n",
              "    </tr>\n",
              "    <tr>\n",
              "      <th>4</th>\n",
              "      <td>5</td>\n",
              "      <td>0.000</td>\n",
              "      <td>3</td>\n",
              "      <td>0</td>\n",
              "      <td>35.000</td>\n",
              "      <td>0</td>\n",
              "      <td>0</td>\n",
              "      <td>373450</td>\n",
              "      <td>2.086</td>\n",
              "      <td>NaN</td>\n",
              "      <td>...</td>\n",
              "      <td>0</td>\n",
              "      <td>0</td>\n",
              "      <td>0</td>\n",
              "      <td>0</td>\n",
              "      <td>0</td>\n",
              "      <td>1</td>\n",
              "      <td>0</td>\n",
              "      <td>0</td>\n",
              "      <td>0</td>\n",
              "      <td>1</td>\n",
              "    </tr>\n",
              "  </tbody>\n",
              "</table>\n",
              "<p>5 rows × 22 columns</p>\n",
              "</div>\n",
              "      <button class=\"colab-df-convert\" onclick=\"convertToInteractive('df-d663bbc1-09b5-4f56-a6c7-bab4d7daca61')\"\n",
              "              title=\"Convert this dataframe to an interactive table.\"\n",
              "              style=\"display:none;\">\n",
              "        \n",
              "  <svg xmlns=\"http://www.w3.org/2000/svg\" height=\"24px\"viewBox=\"0 0 24 24\"\n",
              "       width=\"24px\">\n",
              "    <path d=\"M0 0h24v24H0V0z\" fill=\"none\"/>\n",
              "    <path d=\"M18.56 5.44l.94 2.06.94-2.06 2.06-.94-2.06-.94-.94-2.06-.94 2.06-2.06.94zm-11 1L8.5 8.5l.94-2.06 2.06-.94-2.06-.94L8.5 2.5l-.94 2.06-2.06.94zm10 10l.94 2.06.94-2.06 2.06-.94-2.06-.94-.94-2.06-.94 2.06-2.06.94z\"/><path d=\"M17.41 7.96l-1.37-1.37c-.4-.4-.92-.59-1.43-.59-.52 0-1.04.2-1.43.59L10.3 9.45l-7.72 7.72c-.78.78-.78 2.05 0 2.83L4 21.41c.39.39.9.59 1.41.59.51 0 1.02-.2 1.41-.59l7.78-7.78 2.81-2.81c.8-.78.8-2.07 0-2.86zM5.41 20L4 18.59l7.72-7.72 1.47 1.35L5.41 20z\"/>\n",
              "  </svg>\n",
              "      </button>\n",
              "      \n",
              "  <style>\n",
              "    .colab-df-container {\n",
              "      display:flex;\n",
              "      flex-wrap:wrap;\n",
              "      gap: 12px;\n",
              "    }\n",
              "\n",
              "    .colab-df-convert {\n",
              "      background-color: #E8F0FE;\n",
              "      border: none;\n",
              "      border-radius: 50%;\n",
              "      cursor: pointer;\n",
              "      display: none;\n",
              "      fill: #1967D2;\n",
              "      height: 32px;\n",
              "      padding: 0 0 0 0;\n",
              "      width: 32px;\n",
              "    }\n",
              "\n",
              "    .colab-df-convert:hover {\n",
              "      background-color: #E2EBFA;\n",
              "      box-shadow: 0px 1px 2px rgba(60, 64, 67, 0.3), 0px 1px 3px 1px rgba(60, 64, 67, 0.15);\n",
              "      fill: #174EA6;\n",
              "    }\n",
              "\n",
              "    [theme=dark] .colab-df-convert {\n",
              "      background-color: #3B4455;\n",
              "      fill: #D2E3FC;\n",
              "    }\n",
              "\n",
              "    [theme=dark] .colab-df-convert:hover {\n",
              "      background-color: #434B5C;\n",
              "      box-shadow: 0px 1px 3px 1px rgba(0, 0, 0, 0.15);\n",
              "      filter: drop-shadow(0px 1px 2px rgba(0, 0, 0, 0.3));\n",
              "      fill: #FFFFFF;\n",
              "    }\n",
              "  </style>\n",
              "\n",
              "      <script>\n",
              "        const buttonEl =\n",
              "          document.querySelector('#df-d663bbc1-09b5-4f56-a6c7-bab4d7daca61 button.colab-df-convert');\n",
              "        buttonEl.style.display =\n",
              "          google.colab.kernel.accessAllowed ? 'block' : 'none';\n",
              "\n",
              "        async function convertToInteractive(key) {\n",
              "          const element = document.querySelector('#df-d663bbc1-09b5-4f56-a6c7-bab4d7daca61');\n",
              "          const dataTable =\n",
              "            await google.colab.kernel.invokeFunction('convertToInteractive',\n",
              "                                                     [key], {});\n",
              "          if (!dataTable) return;\n",
              "\n",
              "          const docLinkHtml = 'Like what you see? Visit the ' +\n",
              "            '<a target=\"_blank\" href=https://colab.research.google.com/notebooks/data_table.ipynb>data table notebook</a>'\n",
              "            + ' to learn more about interactive tables.';\n",
              "          element.innerHTML = '';\n",
              "          dataTable['output_type'] = 'display_data';\n",
              "          await google.colab.output.renderOutput(dataTable, element);\n",
              "          const docLink = document.createElement('div');\n",
              "          docLink.innerHTML = docLinkHtml;\n",
              "          element.appendChild(docLink);\n",
              "        }\n",
              "      </script>\n",
              "    </div>\n",
              "  </div>\n",
              "  "
            ]
          },
          "metadata": {},
          "execution_count": 51
        }
      ]
    },
    {
      "cell_type": "markdown",
      "source": [
        "## 5. Feature engineering\n",
        "### 5-3. Cabin\n",
        "- Cabin 칼럼은 292개의 자료와 1007개의 결측치를 갖는다.\n",
        "- 주어진 객실이 없는 손님의 Cabin 칼럼이 결측치를 갖는 것으로 추측된다."
      ],
      "metadata": {
        "id": "Ta044HV9tzIX"
      }
    },
    {
      "cell_type": "code",
      "source": [
        "data['Cabin'].head()"
      ],
      "metadata": {
        "colab": {
          "base_uri": "https://localhost:8080/"
        },
        "id": "U5txNBIEthGf",
        "outputId": "a1acecc5-624f-4a4d-b089-edccbe47dfb6"
      },
      "execution_count": null,
      "outputs": [
        {
          "output_type": "execute_result",
          "data": {
            "text/plain": [
              "0     NaN\n",
              "1     C85\n",
              "2     NaN\n",
              "3    C123\n",
              "4     NaN\n",
              "Name: Cabin, dtype: object"
            ]
          },
          "metadata": {},
          "execution_count": 52
        }
      ]
    },
    {
      "cell_type": "code",
      "source": [
        "data['Cabin'].describe()"
      ],
      "metadata": {
        "colab": {
          "base_uri": "https://localhost:8080/"
        },
        "id": "E48kREvot4lD",
        "outputId": "f16bbf71-eee0-4b95-bb43-65c29bf2ab21"
      },
      "execution_count": null,
      "outputs": [
        {
          "output_type": "execute_result",
          "data": {
            "text/plain": [
              "count     292\n",
              "unique    186\n",
              "top        G6\n",
              "freq        5\n",
              "Name: Cabin, dtype: object"
            ]
          },
          "metadata": {},
          "execution_count": 53
        }
      ]
    },
    {
      "cell_type": "code",
      "source": [
        "data['Cabin'].isnull().sum()"
      ],
      "metadata": {
        "colab": {
          "base_uri": "https://localhost:8080/"
        },
        "id": "aQFOsQdot9FA",
        "outputId": "cbc04143-aecd-4145-ebaa-d609e08a6140"
      },
      "execution_count": null,
      "outputs": [
        {
          "output_type": "execute_result",
          "data": {
            "text/plain": [
              "1007"
            ]
          },
          "metadata": {},
          "execution_count": 54
        }
      ]
    },
    {
      "cell_type": "code",
      "source": [
        "data['Cabin'][data['Cabin'].notnull()].head()"
      ],
      "metadata": {
        "colab": {
          "base_uri": "https://localhost:8080/"
        },
        "id": "g0oB7FgWuChd",
        "outputId": "74edb7ce-6c26-4a9c-d71b-ec41d0728127"
      },
      "execution_count": null,
      "outputs": [
        {
          "output_type": "execute_result",
          "data": {
            "text/plain": [
              "1      C85\n",
              "3     C123\n",
              "6      E46\n",
              "10      G6\n",
              "11    C103\n",
              "Name: Cabin, dtype: object"
            ]
          },
          "metadata": {},
          "execution_count": 55
        }
      ]
    },
    {
      "cell_type": "markdown",
      "source": [
        "## 5. Feature engineering\n",
        "### 5-3. Cabin\n",
        "- Cabin 칼럼에 정확한 값을 갖는 자료에 대해서 객실 번호를 제외한 가장 맨 앞의 알파벳만 남기도록 칼럼을 변환한다.\n",
        "- 결측치는 알파벳 'X'로 처리한다.\n",
        "- 자료의 개수가 적으므로 서로 다른 객실을 가진 자료들에 대해서는 표준편차가 크고, 생존 확률도 비슷하여 비교하기가 어렵다.\n",
        "- 하지만 객실이 없는 'X'에 비해서는 객실을 가졌을 때 생존 확률이 더 높게 나타난다는 것을 확인할 수 있다. 특히 B, C, D, E, F에서 두드러진다.\n",
        "- Cabin 칼럼에 대해 `pd.get_dummies( )`를 이용하여 원핫인코딩을 수행한다. 각 카테고리의 이름 앞에 Cabin이 붙도록 칼럼을 생성한다."
      ],
      "metadata": {
        "id": "YXsk8ePXupWn"
      }
    },
    {
      "cell_type": "code",
      "source": [
        "data['Cabin'] = pd.Series(i[0] if not pd.isnull(i) else 'X' for i in data['Cabin'])"
      ],
      "metadata": {
        "id": "OArtflKmucqv"
      },
      "execution_count": null,
      "outputs": []
    },
    {
      "cell_type": "code",
      "source": [
        "g = sns.countplot(data['Cabin'], order=['A', 'B', 'C', 'D', 'E', 'F', 'G', 'T', 'X'])"
      ],
      "metadata": {
        "colab": {
          "base_uri": "https://localhost:8080/",
          "height": 285
        },
        "id": "Xj1tiv6SvmvJ",
        "outputId": "c98a2708-851d-4483-f6a2-42ad01744126"
      },
      "execution_count": null,
      "outputs": [
        {
          "output_type": "display_data",
          "data": {
            "text/plain": [
              "<Figure size 432x288 with 1 Axes>"
            ],
            "image/png": "[encoded data removed]"
          },
          "metadata": {}
        }
      ]
    },
    {
      "cell_type": "code",
      "source": [
        "g = sns.factorplot(x='Cabin', y='Survived', data=data, kind='bar', order=['A', 'B', 'C', 'D', 'E', 'F', 'G', 'T', 'X'])\n",
        "g = g.set_ylabels(\"Survival Probability\")"
      ],
      "metadata": {
        "colab": {
          "base_uri": "https://localhost:8080/",
          "height": 365
        },
        "id": "2kERHJQ2vu0_",
        "outputId": "e01e80b7-ceb3-45de-b70d-486819f06502"
      },
      "execution_count": null,
      "outputs": [
        {
          "output_type": "display_data",
          "data": {
            "text/plain": [
              "<Figure size 360x360 with 1 Axes>"
            ],
            "image/png": "[encoded data removed]"
          },
          "metadata": {}
        }
      ]
    },
    {
      "cell_type": "code",
      "source": [
        "data = pd.get_dummies(data, columns=['Cabin'], prefix=\"Cabin\")"
      ],
      "metadata": {
        "id": "N_k1PDWKxC0B"
      },
      "execution_count": null,
      "outputs": []
    },
    {
      "cell_type": "markdown",
      "source": [
        "## 5. Feature engineering\n",
        "### 5-4. Ticket\n",
        "- Ticket 칼럼에 같은 접두사를 사용하는 사람들은 같은 객실에 배정될 수 있다.\n",
        "- 같은 객실의 사람들은 비슷한 좌석 등급과 생존 확률을 가질 것이라고 추측된다.\n",
        "- 따라서 Ticket 칼럼 문자를 포함하는 자료에 대하여 문자인 접두사만 포함하도록 변환한 칼럼을 생성한다.\n",
        "- 문자가 포함되지 않은 숫자형 자료는 'X'로 처리한다.\n",
        "- Ticket 칼럼에 대해 `pd.get_dummies( )`를 이용하여 원핫인코딩을 수행한다. 각 카테고리의 이름 앞에 T가 붙도록 칼럼을 생성한다."
      ],
      "metadata": {
        "id": "0rsZFOJ3x5pS"
      }
    },
    {
      "cell_type": "code",
      "source": [
        "data['Ticket'].head()"
      ],
      "metadata": {
        "colab": {
          "base_uri": "https://localhost:8080/"
        },
        "id": "6ue9wNYTx498",
        "outputId": "8cbc93ed-a27e-486f-af35-c0b9b030da1a"
      },
      "execution_count": null,
      "outputs": [
        {
          "output_type": "execute_result",
          "data": {
            "text/plain": [
              "0           A/5 21171\n",
              "1            PC 17599\n",
              "2    STON/O2. 3101282\n",
              "3              113803\n",
              "4              373450\n",
              "Name: Ticket, dtype: object"
            ]
          },
          "metadata": {},
          "execution_count": 60
        }
      ]
    },
    {
      "cell_type": "code",
      "source": [
        "Ticket = []\n",
        "for i in list(data.Ticket):\n",
        "    if not i.isdigit(): # Ticket 칼럼에 문자를 포함한 행\n",
        "        Ticket.append(i.replace(\".\", \"\").replace(\"/\",\"\").strip().split(\" \")[0])\n",
        "    else:\n",
        "        Ticket.append(\"X\")"
      ],
      "metadata": {
        "id": "JC4WcP_Mx-xU"
      },
      "execution_count": null,
      "outputs": []
    },
    {
      "cell_type": "code",
      "source": [
        "data['Ticket'] = Ticket\n",
        "data['Ticket'].head()"
      ],
      "metadata": {
        "colab": {
          "base_uri": "https://localhost:8080/"
        },
        "id": "lWFVJCyG7gmi",
        "outputId": "d48b2be4-e2d2-4007-84d8-63de64d08e0d"
      },
      "execution_count": null,
      "outputs": [
        {
          "output_type": "execute_result",
          "data": {
            "text/plain": [
              "0        A5\n",
              "1        PC\n",
              "2    STONO2\n",
              "3         X\n",
              "4         X\n",
              "Name: Ticket, dtype: object"
            ]
          },
          "metadata": {},
          "execution_count": 62
        }
      ]
    },
    {
      "cell_type": "code",
      "source": [
        "data = pd.get_dummies(data, columns=['Ticket'], prefix=\"T\")"
      ],
      "metadata": {
        "id": "iU0tbuYN7kLf"
      },
      "execution_count": null,
      "outputs": []
    },
    {
      "cell_type": "markdown",
      "source": [
        "## 5. Feature engineering\n",
        "- 숫자형이지만 자료가 범주형의 의미를 갖는 Pclass 칼럼에 대해 카테고리형 변수로 변환한다.\n",
        "- Pclass 칼럼에 대해 `pd.get_dummies( )`를 이용하여 원핫인코딩을 수행한다. 각 카테고리의 이름 앞에 Pc가 붙도록 칼럼을 생성한다.\n",
        "- PassengerId 칼럼은 모델 예측에 영향을 미치지 않으므로 제거한다.\n",
        "- 전처리를 마친 데이터는 총 67개의 칼럼을 갖는다."
      ],
      "metadata": {
        "id": "6sLpZwgx8GQB"
      }
    },
    {
      "cell_type": "code",
      "source": [
        "data['Pclass'] = data['Pclass'].astype('category')\n",
        "data = pd.get_dummies(data, columns=['Pclass'], prefix=\"Pc\")"
      ],
      "metadata": {
        "id": "SwjWymwq8Cxn"
      },
      "execution_count": null,
      "outputs": []
    },
    {
      "cell_type": "code",
      "source": [
        "data.drop(labels=['PassengerId'], axis=1, inplace=True)"
      ],
      "metadata": {
        "id": "MyjX6qqm8m77"
      },
      "execution_count": null,
      "outputs": []
    },
    {
      "cell_type": "code",
      "source": [
        "data.head()"
      ],
      "metadata": {
        "colab": {
          "base_uri": "https://localhost:8080/",
          "height": 299
        },
        "id": "sawaODIj8rTJ",
        "outputId": "baf2a617-620d-43a2-acff-f847b6fa5513"
      },
      "execution_count": null,
      "outputs": [
        {
          "output_type": "execute_result",
          "data": {
            "text/plain": [
              "   Survived  Sex    Age  SibSp  Parch  Fare  Fsize  Single  SmallF  MedF  ...  \\\n",
              "0     0.000    0 22.000      1      0 1.981      2       0       1     0  ...   \n",
              "1     1.000    1 38.000      1      0 4.267      2       0       1     0  ...   \n",
              "2     1.000    1 26.000      0      0 2.070      1       1       0     0  ...   \n",
              "3     1.000    1 35.000      1      0 3.972      2       0       1     0  ...   \n",
              "4     0.000    0 35.000      0      0 2.086      1       1       0     0  ...   \n",
              "\n",
              "   T_STONO  T_STONO2  T_STONOQ  T_SWPP  T_WC  T_WEP  T_X  Pc_1  Pc_2  Pc_3  \n",
              "0        0         0         0       0     0      0    0     0     0     1  \n",
              "1        0         0         0       0     0      0    0     1     0     0  \n",
              "2        0         1         0       0     0      0    0     0     0     1  \n",
              "3        0         0         0       0     0      0    1     1     0     0  \n",
              "4        0         0         0       0     0      0    1     0     0     1  \n",
              "\n",
              "[5 rows x 67 columns]"
            ],
            "text/html": [
              "\n",
              "  <div id=\"df-ede49af1-156a-4f57-9b2c-ff6063eddbff\">\n",
              "    <div class=\"colab-df-container\">\n",
              "      <div>\n",
              "<style scoped>\n",
              "    .dataframe tbody tr th:only-of-type {\n",
              "        vertical-align: middle;\n",
              "    }\n",
              "\n",
              "    .dataframe tbody tr th {\n",
              "        vertical-align: top;\n",
              "    }\n",
              "\n",
              "    .dataframe thead th {\n",
              "        text-align: right;\n",
              "    }\n",
              "</style>\n",
              "<table border=\"1\" class=\"dataframe\">\n",
              "  <thead>\n",
              "    <tr style=\"text-align: right;\">\n",
              "      <th></th>\n",
              "      <th>Survived</th>\n",
              "      <th>Sex</th>\n",
              "      <th>Age</th>\n",
              "      <th>SibSp</th>\n",
              "      <th>Parch</th>\n",
              "      <th>Fare</th>\n",
              "      <th>Fsize</th>\n",
              "      <th>Single</th>\n",
              "      <th>SmallF</th>\n",
              "      <th>MedF</th>\n",
              "      <th>...</th>\n",
              "      <th>T_STONO</th>\n",
              "      <th>T_STONO2</th>\n",
              "      <th>T_STONOQ</th>\n",
              "      <th>T_SWPP</th>\n",
              "      <th>T_WC</th>\n",
              "      <th>T_WEP</th>\n",
              "      <th>T_X</th>\n",
              "      <th>Pc_1</th>\n",
              "      <th>Pc_2</th>\n",
              "      <th>Pc_3</th>\n",
              "    </tr>\n",
              "  </thead>\n",
              "  <tbody>\n",
              "    <tr>\n",
              "      <th>0</th>\n",
              "      <td>0.000</td>\n",
              "      <td>0</td>\n",
              "      <td>22.000</td>\n",
              "      <td>1</td>\n",
              "      <td>0</td>\n",
              "      <td>1.981</td>\n",
              "      <td>2</td>\n",
              "      <td>0</td>\n",
              "      <td>1</td>\n",
              "      <td>0</td>\n",
              "      <td>...</td>\n",
              "      <td>0</td>\n",
              "      <td>0</td>\n",
              "      <td>0</td>\n",
              "      <td>0</td>\n",
              "      <td>0</td>\n",
              "      <td>0</td>\n",
              "      <td>0</td>\n",
              "      <td>0</td>\n",
              "      <td>0</td>\n",
              "      <td>1</td>\n",
              "    </tr>\n",
              "    <tr>\n",
              "      <th>1</th>\n",
              "      <td>1.000</td>\n",
              "      <td>1</td>\n",
              "      <td>38.000</td>\n",
              "      <td>1</td>\n",
              "      <td>0</td>\n",
              "      <td>4.267</td>\n",
              "      <td>2</td>\n",
              "      <td>0</td>\n",
              "      <td>1</td>\n",
              "      <td>0</td>\n",
              "      <td>...</td>\n",
              "      <td>0</td>\n",
              "      <td>0</td>\n",
              "      <td>0</td>\n",
              "      <td>0</td>\n",
              "      <td>0</td>\n",
              "      <td>0</td>\n",
              "      <td>0</td>\n",
              "      <td>1</td>\n",
              "      <td>0</td>\n",
              "      <td>0</td>\n",
              "    </tr>\n",
              "    <tr>\n",
              "      <th>2</th>\n",
              "      <td>1.000</td>\n",
              "      <td>1</td>\n",
              "      <td>26.000</td>\n",
              "      <td>0</td>\n",
              "      <td>0</td>\n",
              "      <td>2.070</td>\n",
              "      <td>1</td>\n",
              "      <td>1</td>\n",
              "      <td>0</td>\n",
              "      <td>0</td>\n",
              "      <td>...</td>\n",
              "      <td>0</td>\n",
              "      <td>1</td>\n",
              "      <td>0</td>\n",
              "      <td>0</td>\n",
              "      <td>0</td>\n",
              "      <td>0</td>\n",
              "      <td>0</td>\n",
              "      <td>0</td>\n",
              "      <td>0</td>\n",
              "      <td>1</td>\n",
              "    </tr>\n",
              "    <tr>\n",
              "      <th>3</th>\n",
              "      <td>1.000</td>\n",
              "      <td>1</td>\n",
              "      <td>35.000</td>\n",
              "      <td>1</td>\n",
              "      <td>0</td>\n",
              "      <td>3.972</td>\n",
              "      <td>2</td>\n",
              "      <td>0</td>\n",
              "      <td>1</td>\n",
              "      <td>0</td>\n",
              "      <td>...</td>\n",
              "      <td>0</td>\n",
              "      <td>0</td>\n",
              "      <td>0</td>\n",
              "      <td>0</td>\n",
              "      <td>0</td>\n",
              "      <td>0</td>\n",
              "      <td>1</td>\n",
              "      <td>1</td>\n",
              "      <td>0</td>\n",
              "      <td>0</td>\n",
              "    </tr>\n",
              "    <tr>\n",
              "      <th>4</th>\n",
              "      <td>0.000</td>\n",
              "      <td>0</td>\n",
              "      <td>35.000</td>\n",
              "      <td>0</td>\n",
              "      <td>0</td>\n",
              "      <td>2.086</td>\n",
              "      <td>1</td>\n",
              "      <td>1</td>\n",
              "      <td>0</td>\n",
              "      <td>0</td>\n",
              "      <td>...</td>\n",
              "      <td>0</td>\n",
              "      <td>0</td>\n",
              "      <td>0</td>\n",
              "      <td>0</td>\n",
              "      <td>0</td>\n",
              "      <td>0</td>\n",
              "      <td>1</td>\n",
              "      <td>0</td>\n",
              "      <td>0</td>\n",
              "      <td>1</td>\n",
              "    </tr>\n",
              "  </tbody>\n",
              "</table>\n",
              "<p>5 rows × 67 columns</p>\n",
              "</div>\n",
              "      <button class=\"colab-df-convert\" onclick=\"convertToInteractive('df-ede49af1-156a-4f57-9b2c-ff6063eddbff')\"\n",
              "              title=\"Convert this dataframe to an interactive table.\"\n",
              "              style=\"display:none;\">\n",
              "        \n",
              "  <svg xmlns=\"http://www.w3.org/2000/svg\" height=\"24px\"viewBox=\"0 0 24 24\"\n",
              "       width=\"24px\">\n",
              "    <path d=\"M0 0h24v24H0V0z\" fill=\"none\"/>\n",
              "    <path d=\"M18.56 5.44l.94 2.06.94-2.06 2.06-.94-2.06-.94-.94-2.06-.94 2.06-2.06.94zm-11 1L8.5 8.5l.94-2.06 2.06-.94-2.06-.94L8.5 2.5l-.94 2.06-2.06.94zm10 10l.94 2.06.94-2.06 2.06-.94-2.06-.94-.94-2.06-.94 2.06-2.06.94z\"/><path d=\"M17.41 7.96l-1.37-1.37c-.4-.4-.92-.59-1.43-.59-.52 0-1.04.2-1.43.59L10.3 9.45l-7.72 7.72c-.78.78-.78 2.05 0 2.83L4 21.41c.39.39.9.59 1.41.59.51 0 1.02-.2 1.41-.59l7.78-7.78 2.81-2.81c.8-.78.8-2.07 0-2.86zM5.41 20L4 18.59l7.72-7.72 1.47 1.35L5.41 20z\"/>\n",
              "  </svg>\n",
              "      </button>\n",
              "      \n",
              "  <style>\n",
              "    .colab-df-container {\n",
              "      display:flex;\n",
              "      flex-wrap:wrap;\n",
              "      gap: 12px;\n",
              "    }\n",
              "\n",
              "    .colab-df-convert {\n",
              "      background-color: #E8F0FE;\n",
              "      border: none;\n",
              "      border-radius: 50%;\n",
              "      cursor: pointer;\n",
              "      display: none;\n",
              "      fill: #1967D2;\n",
              "      height: 32px;\n",
              "      padding: 0 0 0 0;\n",
              "      width: 32px;\n",
              "    }\n",
              "\n",
              "    .colab-df-convert:hover {\n",
              "      background-color: #E2EBFA;\n",
              "      box-shadow: 0px 1px 2px rgba(60, 64, 67, 0.3), 0px 1px 3px 1px rgba(60, 64, 67, 0.15);\n",
              "      fill: #174EA6;\n",
              "    }\n",
              "\n",
              "    [theme=dark] .colab-df-convert {\n",
              "      background-color: #3B4455;\n",
              "      fill: #D2E3FC;\n",
              "    }\n",
              "\n",
              "    [theme=dark] .colab-df-convert:hover {\n",
              "      background-color: #434B5C;\n",
              "      box-shadow: 0px 1px 3px 1px rgba(0, 0, 0, 0.15);\n",
              "      filter: drop-shadow(0px 1px 2px rgba(0, 0, 0, 0.3));\n",
              "      fill: #FFFFFF;\n",
              "    }\n",
              "  </style>\n",
              "\n",
              "      <script>\n",
              "        const buttonEl =\n",
              "          document.querySelector('#df-ede49af1-156a-4f57-9b2c-ff6063eddbff button.colab-df-convert');\n",
              "        buttonEl.style.display =\n",
              "          google.colab.kernel.accessAllowed ? 'block' : 'none';\n",
              "\n",
              "        async function convertToInteractive(key) {\n",
              "          const element = document.querySelector('#df-ede49af1-156a-4f57-9b2c-ff6063eddbff');\n",
              "          const dataTable =\n",
              "            await google.colab.kernel.invokeFunction('convertToInteractive',\n",
              "                                                     [key], {});\n",
              "          if (!dataTable) return;\n",
              "\n",
              "          const docLinkHtml = 'Like what you see? Visit the ' +\n",
              "            '<a target=\"_blank\" href=https://colab.research.google.com/notebooks/data_table.ipynb>data table notebook</a>'\n",
              "            + ' to learn more about interactive tables.';\n",
              "          element.innerHTML = '';\n",
              "          dataTable['output_type'] = 'display_data';\n",
              "          await google.colab.output.renderOutput(dataTable, element);\n",
              "          const docLink = document.createElement('div');\n",
              "          docLink.innerHTML = docLinkHtml;\n",
              "          element.appendChild(docLink);\n",
              "        }\n",
              "      </script>\n",
              "    </div>\n",
              "  </div>\n",
              "  "
            ]
          },
          "metadata": {},
          "execution_count": 66
        }
      ]
    },
    {
      "cell_type": "markdown",
      "source": [
        "## 6. Modeling\n",
        "- 데이터를 다시 train data와 test data로 분할한다.\n",
        "- 타겟 변수인 Survived 칼럼만을 포함하는 Y_train과 이 칼럼만을 제외한 X_train을 생성한다."
      ],
      "metadata": {
        "id": "RTgMm1NH84AT"
      }
    },
    {
      "cell_type": "code",
      "source": [
        "train_len = len(train)\n",
        "\n",
        "train = data[:train_len]\n",
        "test = data[train_len:]\n",
        "test.drop(labels=['Survived'], axis=1, inplace=True)"
      ],
      "metadata": {
        "id": "n8aGu5TT8sVc"
      },
      "execution_count": null,
      "outputs": []
    },
    {
      "cell_type": "code",
      "source": [
        "train['Survived'] = train['Survived'].astype(int)\n",
        "\n",
        "X_train = train.drop(labels=['Survived'], axis=1)\n",
        "Y_train = train['Survived']"
      ],
      "metadata": {
        "id": "lYLhrGtv88h8"
      },
      "execution_count": null,
      "outputs": []
    },
    {
      "cell_type": "markdown",
      "source": [
        "## 6. Modeling\n",
        "### 6-1. Simple modeling\n",
        "#### 1) Cross validate models\n",
        "- 10개의 유명한 분류기를 이용하여 예측을 수행하고, stratified kfold cross validation을 이용하여 평균 정확도를 평가한다.\n",
        "- SVC\n",
        "- Decision Tree\n",
        "- AdaBoost\n",
        "- Random Forest\n",
        "- Extra Trees\n",
        "- Gradient Boosting\n",
        "- Multiple Layer Perceprton(neural network)\n",
        "- KNN\n",
        "- Logistic Regression\n",
        "- Linear Discriminant Analysis"
      ],
      "metadata": {
        "id": "cCN8G29jAmZn"
      }
    },
    {
      "cell_type": "code",
      "source": [
        "from sklearn.model_selection import GridSearchCV, cross_val_score, StratifiedKFold, learning_curve\n",
        "\n",
        "from sklearn.svm import SVC\n",
        "from sklearn.tree import DecisionTreeClassifier\n",
        "from sklearn.ensemble import AdaBoostClassifier, RandomForestClassifier, GradientBoostingClassifier, ExtraTreesClassifier, VotingClassifier\n",
        "from sklearn.neural_network import MLPClassifier\n",
        "from sklearn.neighbors import KNeighborsClassifier\n",
        "from sklearn.linear_model import LogisticRegression\n",
        "from sklearn.discriminant_analysis import LinearDiscriminantAnalysis\n",
        "from sklearn.model_selection import GridSearchCV, cross_val_score, StratifiedKFold, learning_curve"
      ],
      "metadata": {
        "id": "2PNpEvvPAalG"
      },
      "execution_count": null,
      "outputs": []
    },
    {
      "cell_type": "code",
      "source": [
        "kfold = StratifiedKFold(n_splits=10)"
      ],
      "metadata": {
        "id": "JN7vSs3iBxXq"
      },
      "execution_count": null,
      "outputs": []
    },
    {
      "cell_type": "code",
      "source": [
        "random_state = 2\n",
        "classifiers = []\n",
        "\n",
        "classifiers.append(SVC(random_state=random_state))\n",
        "classifiers.append(DecisionTreeClassifier(random_state=random_state))\n",
        "classifiers.append(AdaBoostClassifier(DecisionTreeClassifier(random_state=random_state), random_state=random_state, learning_rate=0.1))\n",
        "classifiers.append(RandomForestClassifier(random_state=random_state))\n",
        "classifiers.append(ExtraTreesClassifier(random_state=random_state))\n",
        "classifiers.append(GradientBoostingClassifier(random_state=random_state))\n",
        "classifiers.append(MLPClassifier(random_state=random_state))\n",
        "classifiers.append(KNeighborsClassifier())\n",
        "classifiers.append(LogisticRegression(random_state=random_state))\n",
        "classifiers.append(LinearDiscriminantAnalysis())\n",
        "\n",
        "cv_results = []\n",
        "for classifier in classifiers:\n",
        "    cv_results.append(cross_val_score(classifier, X_train, Y_train, scoring='accuracy', cv=kfold, n_jobs=4))\n",
        "\n",
        "cv_means = []\n",
        "cv_std = []\n",
        "for cv_result in cv_results:\n",
        "    cv_means.append(cv_result.mean())\n",
        "    cv_std.append(cv_result.std())"
      ],
      "metadata": {
        "id": "zfsVUYyuB3y9"
      },
      "execution_count": null,
      "outputs": []
    },
    {
      "cell_type": "code",
      "source": [
        "cv_res = pd.DataFrame({\"CrossValMeans\": cv_means, \"CrossValerrors\": cv_std, \n",
        "                       \"Algorithm\": ['SVC', 'DecisionTree', 'AdaBoost', 'RandomForest', 'ExtraTrees', 'GradientBoosting', \n",
        "                                               'MultipleLayerPerceptron', 'KNeighbors', 'LogisticRegression', 'LinearDiscriminantAnalysis']})"
      ],
      "metadata": {
        "id": "yu2W0BgqEBTt"
      },
      "execution_count": null,
      "outputs": []
    },
    {
      "cell_type": "code",
      "source": [
        "cv_res"
      ],
      "metadata": {
        "colab": {
          "base_uri": "https://localhost:8080/",
          "height": 363
        },
        "id": "-qaimWTtE2Q0",
        "outputId": "3acfc23d-b1ea-4ab6-f6bd-9dfa9c333261"
      },
      "execution_count": null,
      "outputs": [
        {
          "output_type": "execute_result",
          "data": {
            "text/plain": [
              "   CrossValMeans  CrossValerrors                   Algorithm\n",
              "0          0.728           0.041                         SVC\n",
              "1          0.804           0.038                DecisionTree\n",
              "2          0.801           0.049                    AdaBoost\n",
              "3          0.800           0.051                RandomForest\n",
              "4          0.803           0.045                  ExtraTrees\n",
              "5          0.830           0.042            GradientBoosting\n",
              "6          0.820           0.033     MultipleLayerPerceptron\n",
              "7          0.796           0.038                  KNeighbors\n",
              "8          0.822           0.035          LogisticRegression\n",
              "9          0.823           0.039  LinearDiscriminantAnalysis"
            ],
            "text/html": [
              "\n",
              "  <div id=\"df-43e1e02a-e677-4462-a346-23fad4aff16b\">\n",
              "    <div class=\"colab-df-container\">\n",
              "      <div>\n",
              "<style scoped>\n",
              "    .dataframe tbody tr th:only-of-type {\n",
              "        vertical-align: middle;\n",
              "    }\n",
              "\n",
              "    .dataframe tbody tr th {\n",
              "        vertical-align: top;\n",
              "    }\n",
              "\n",
              "    .dataframe thead th {\n",
              "        text-align: right;\n",
              "    }\n",
              "</style>\n",
              "<table border=\"1\" class=\"dataframe\">\n",
              "  <thead>\n",
              "    <tr style=\"text-align: right;\">\n",
              "      <th></th>\n",
              "      <th>CrossValMeans</th>\n",
              "      <th>CrossValerrors</th>\n",
              "      <th>Algorithm</th>\n",
              "    </tr>\n",
              "  </thead>\n",
              "  <tbody>\n",
              "    <tr>\n",
              "      <th>0</th>\n",
              "      <td>0.728</td>\n",
              "      <td>0.041</td>\n",
              "      <td>SVC</td>\n",
              "    </tr>\n",
              "    <tr>\n",
              "      <th>1</th>\n",
              "      <td>0.804</td>\n",
              "      <td>0.038</td>\n",
              "      <td>DecisionTree</td>\n",
              "    </tr>\n",
              "    <tr>\n",
              "      <th>2</th>\n",
              "      <td>0.801</td>\n",
              "      <td>0.049</td>\n",
              "      <td>AdaBoost</td>\n",
              "    </tr>\n",
              "    <tr>\n",
              "      <th>3</th>\n",
              "      <td>0.800</td>\n",
              "      <td>0.051</td>\n",
              "      <td>RandomForest</td>\n",
              "    </tr>\n",
              "    <tr>\n",
              "      <th>4</th>\n",
              "      <td>0.803</td>\n",
              "      <td>0.045</td>\n",
              "      <td>ExtraTrees</td>\n",
              "    </tr>\n",
              "    <tr>\n",
              "      <th>5</th>\n",
              "      <td>0.830</td>\n",
              "      <td>0.042</td>\n",
              "      <td>GradientBoosting</td>\n",
              "    </tr>\n",
              "    <tr>\n",
              "      <th>6</th>\n",
              "      <td>0.820</td>\n",
              "      <td>0.033</td>\n",
              "      <td>MultipleLayerPerceptron</td>\n",
              "    </tr>\n",
              "    <tr>\n",
              "      <th>7</th>\n",
              "      <td>0.796</td>\n",
              "      <td>0.038</td>\n",
              "      <td>KNeighbors</td>\n",
              "    </tr>\n",
              "    <tr>\n",
              "      <th>8</th>\n",
              "      <td>0.822</td>\n",
              "      <td>0.035</td>\n",
              "      <td>LogisticRegression</td>\n",
              "    </tr>\n",
              "    <tr>\n",
              "      <th>9</th>\n",
              "      <td>0.823</td>\n",
              "      <td>0.039</td>\n",
              "      <td>LinearDiscriminantAnalysis</td>\n",
              "    </tr>\n",
              "  </tbody>\n",
              "</table>\n",
              "</div>\n",
              "      <button class=\"colab-df-convert\" onclick=\"convertToInteractive('df-43e1e02a-e677-4462-a346-23fad4aff16b')\"\n",
              "              title=\"Convert this dataframe to an interactive table.\"\n",
              "              style=\"display:none;\">\n",
              "        \n",
              "  <svg xmlns=\"http://www.w3.org/2000/svg\" height=\"24px\"viewBox=\"0 0 24 24\"\n",
              "       width=\"24px\">\n",
              "    <path d=\"M0 0h24v24H0V0z\" fill=\"none\"/>\n",
              "    <path d=\"M18.56 5.44l.94 2.06.94-2.06 2.06-.94-2.06-.94-.94-2.06-.94 2.06-2.06.94zm-11 1L8.5 8.5l.94-2.06 2.06-.94-2.06-.94L8.5 2.5l-.94 2.06-2.06.94zm10 10l.94 2.06.94-2.06 2.06-.94-2.06-.94-.94-2.06-.94 2.06-2.06.94z\"/><path d=\"M17.41 7.96l-1.37-1.37c-.4-.4-.92-.59-1.43-.59-.52 0-1.04.2-1.43.59L10.3 9.45l-7.72 7.72c-.78.78-.78 2.05 0 2.83L4 21.41c.39.39.9.59 1.41.59.51 0 1.02-.2 1.41-.59l7.78-7.78 2.81-2.81c.8-.78.8-2.07 0-2.86zM5.41 20L4 18.59l7.72-7.72 1.47 1.35L5.41 20z\"/>\n",
              "  </svg>\n",
              "      </button>\n",
              "      \n",
              "  <style>\n",
              "    .colab-df-container {\n",
              "      display:flex;\n",
              "      flex-wrap:wrap;\n",
              "      gap: 12px;\n",
              "    }\n",
              "\n",
              "    .colab-df-convert {\n",
              "      background-color: #E8F0FE;\n",
              "      border: none;\n",
              "      border-radius: 50%;\n",
              "      cursor: pointer;\n",
              "      display: none;\n",
              "      fill: #1967D2;\n",
              "      height: 32px;\n",
              "      padding: 0 0 0 0;\n",
              "      width: 32px;\n",
              "    }\n",
              "\n",
              "    .colab-df-convert:hover {\n",
              "      background-color: #E2EBFA;\n",
              "      box-shadow: 0px 1px 2px rgba(60, 64, 67, 0.3), 0px 1px 3px 1px rgba(60, 64, 67, 0.15);\n",
              "      fill: #174EA6;\n",
              "    }\n",
              "\n",
              "    [theme=dark] .colab-df-convert {\n",
              "      background-color: #3B4455;\n",
              "      fill: #D2E3FC;\n",
              "    }\n",
              "\n",
              "    [theme=dark] .colab-df-convert:hover {\n",
              "      background-color: #434B5C;\n",
              "      box-shadow: 0px 1px 3px 1px rgba(0, 0, 0, 0.15);\n",
              "      filter: drop-shadow(0px 1px 2px rgba(0, 0, 0, 0.3));\n",
              "      fill: #FFFFFF;\n",
              "    }\n",
              "  </style>\n",
              "\n",
              "      <script>\n",
              "        const buttonEl =\n",
              "          document.querySelector('#df-43e1e02a-e677-4462-a346-23fad4aff16b button.colab-df-convert');\n",
              "        buttonEl.style.display =\n",
              "          google.colab.kernel.accessAllowed ? 'block' : 'none';\n",
              "\n",
              "        async function convertToInteractive(key) {\n",
              "          const element = document.querySelector('#df-43e1e02a-e677-4462-a346-23fad4aff16b');\n",
              "          const dataTable =\n",
              "            await google.colab.kernel.invokeFunction('convertToInteractive',\n",
              "                                                     [key], {});\n",
              "          if (!dataTable) return;\n",
              "\n",
              "          const docLinkHtml = 'Like what you see? Visit the ' +\n",
              "            '<a target=\"_blank\" href=https://colab.research.google.com/notebooks/data_table.ipynb>data table notebook</a>'\n",
              "            + ' to learn more about interactive tables.';\n",
              "          element.innerHTML = '';\n",
              "          dataTable['output_type'] = 'display_data';\n",
              "          await google.colab.output.renderOutput(dataTable, element);\n",
              "          const docLink = document.createElement('div');\n",
              "          docLink.innerHTML = docLinkHtml;\n",
              "          element.appendChild(docLink);\n",
              "        }\n",
              "      </script>\n",
              "    </div>\n",
              "  </div>\n",
              "  "
            ]
          },
          "metadata": {},
          "execution_count": 73
        }
      ]
    },
    {
      "cell_type": "markdown",
      "source": [
        "## 6. Modeling\n",
        "### 6-1. Simple modeling\n",
        "#### 1) Cross validate models\n",
        "- Cross Validation의 평균과 표준편차를 구하여 데이터프레임을 생성하고, bar그래프를 그려 정확도를 비교할 수 있다.\n",
        "- **SVC, AdaBoost, RandomForest , ExtraTrees and the GradientBoosting** 분류기를 사용하기로 결정하여 앙상블 모델링을 수행한다."
      ],
      "metadata": {
        "id": "jnJqrhqiF4Ui"
      }
    },
    {
      "cell_type": "code",
      "source": [
        "g = sns.barplot('CrossValMeans', 'Algorithm', data=cv_res, palette='Set3', orient='h',**{'xerr':cv_std})\n",
        "g.set_xlabel(\"Mean Accuracy\")\n",
        "g = g.set_title(\"Cross Validation Scores\")"
      ],
      "metadata": {
        "colab": {
          "base_uri": "https://localhost:8080/",
          "height": 301
        },
        "id": "2TsEMRiGEoWr",
        "outputId": "31cb5ef4-c31b-413f-96ee-b3e5ac1cf99b"
      },
      "execution_count": null,
      "outputs": [
        {
          "output_type": "display_data",
          "data": {
            "text/plain": [
              "<Figure size 432x288 with 1 Axes>"
            ],
            "image/png": "[encoded data removed]"
          },
          "metadata": {}
        }
      ]
    },
    {
      "cell_type": "markdown",
      "source": [
        "## 6. Modeling\n",
        "### 6-1. Simple modeling\n",
        "#### 2) Hyperparameter tunning for best models\n",
        "- SVC, AdaBoost, RandomForest , ExtraTrees and the GradientBoosting 모델에 GridSearch를 수행한다."
      ],
      "metadata": {
        "id": "VazCqEPpFS2O"
      }
    },
    {
      "cell_type": "code",
      "source": [
        "# AdaBoost\n",
        "DTC = DecisionTreeClassifier()\n",
        "\n",
        "adaDTC = AdaBoostClassifier(DTC, random_state=7)\n",
        "\n",
        "ada_param_grid = {\"base_estimator__criterion\" : [\"gini\", \"entropy\"],\n",
        "              \"base_estimator__splitter\" :   [\"best\", \"random\"],\n",
        "              \"algorithm\" : [\"SAMME\",\"SAMME.R\"],\n",
        "              \"n_estimators\" :[1,2],\n",
        "              \"learning_rate\":  [0.0001, 0.001, 0.01, 0.1, 0.2, 0.3,1.5]}\n",
        "\n",
        "gsadaDTC = GridSearchCV(adaDTC, param_grid=ada_param_grid, cv=kfold, scoring=\"accuracy\", n_jobs= 4, verbose = 1)\n",
        "\n",
        "gsadaDTC.fit(X_train,Y_train)\n",
        "ada_best = gsadaDTC.best_estimator_"
      ],
      "metadata": {
        "colab": {
          "base_uri": "https://localhost:8080/"
        },
        "id": "sHvGUO7vI3JA",
        "outputId": "d393d8dc-fb09-4fd7-98e8-2057b0918072"
      },
      "execution_count": null,
      "outputs": [
        {
          "output_type": "stream",
          "name": "stdout",
          "text": [
            "Fitting 10 folds for each of 112 candidates, totalling 1120 fits\n"
          ]
        }
      ]
    },
    {
      "cell_type": "code",
      "source": [
        "ada_best"
      ],
      "metadata": {
        "colab": {
          "base_uri": "https://localhost:8080/"
        },
        "id": "5sEiOJedJPE9",
        "outputId": "62287024-ef1a-4e37-f9e8-7b2f81dbf1fb"
      },
      "execution_count": null,
      "outputs": [
        {
          "output_type": "execute_result",
          "data": {
            "text/plain": [
              "AdaBoostClassifier(base_estimator=DecisionTreeClassifier(criterion='entropy'),\n",
              "                   learning_rate=0.3, n_estimators=2, random_state=7)"
            ]
          },
          "metadata": {},
          "execution_count": 76
        }
      ]
    },
    {
      "cell_type": "code",
      "source": [
        "gsadaDTC.best_score_"
      ],
      "metadata": {
        "colab": {
          "base_uri": "https://localhost:8080/"
        },
        "id": "udEgEZYYJQCZ",
        "outputId": "e9a9d94a-8eb1-44aa-f7af-2eb8f13a9e32"
      },
      "execution_count": null,
      "outputs": [
        {
          "output_type": "execute_result",
          "data": {
            "text/plain": [
              "0.8275536261491316"
            ]
          },
          "metadata": {},
          "execution_count": 77
        }
      ]
    },
    {
      "cell_type": "code",
      "source": [
        "# ExtraTrees \n",
        "ExtC = ExtraTreesClassifier()\n",
        "\n",
        "ex_param_grid = {\"max_depth\": [None],\n",
        "              \"max_features\": [1, 3, 10],\n",
        "              \"min_samples_split\": [2, 3, 10],\n",
        "              \"min_samples_leaf\": [1, 3, 10],\n",
        "              \"bootstrap\": [False],\n",
        "              \"n_estimators\" :[100,300],\n",
        "              \"criterion\": [\"gini\"]}\n",
        "\n",
        "\n",
        "gsExtC = GridSearchCV(ExtC,param_grid = ex_param_grid, cv=kfold, scoring=\"accuracy\", n_jobs= 4, verbose = 1)\n",
        "\n",
        "gsExtC.fit(X_train,Y_train)\n",
        "ExtC_best = gsExtC.best_estimator_"
      ],
      "metadata": {
        "colab": {
          "base_uri": "https://localhost:8080/"
        },
        "id": "ED92nEc1Jaq3",
        "outputId": "a56dae02-c4ca-46d9-a546-354f743826d5"
      },
      "execution_count": null,
      "outputs": [
        {
          "output_type": "stream",
          "name": "stdout",
          "text": [
            "Fitting 10 folds for each of 54 candidates, totalling 540 fits\n"
          ]
        }
      ]
    },
    {
      "cell_type": "code",
      "source": [
        "ExtC_best"
      ],
      "metadata": {
        "colab": {
          "base_uri": "https://localhost:8080/"
        },
        "id": "PPEdAm1hJtpk",
        "outputId": "bfd68a86-79ed-45e2-d7b5-f7dafd8780d7"
      },
      "execution_count": null,
      "outputs": [
        {
          "output_type": "execute_result",
          "data": {
            "text/plain": [
              "ExtraTreesClassifier(max_features=3, min_samples_leaf=3, min_samples_split=10,\n",
              "                     n_estimators=300)"
            ]
          },
          "metadata": {},
          "execution_count": 79
        }
      ]
    },
    {
      "cell_type": "code",
      "source": [
        "gsExtC.best_score_"
      ],
      "metadata": {
        "colab": {
          "base_uri": "https://localhost:8080/"
        },
        "id": "zngBa9w-Jsw_",
        "outputId": "022fb161-0731-4aa8-df9a-7ca3c5a1fadc"
      },
      "execution_count": null,
      "outputs": [
        {
          "output_type": "execute_result",
          "data": {
            "text/plain": [
              "0.8320224719101124"
            ]
          },
          "metadata": {},
          "execution_count": 80
        }
      ]
    },
    {
      "cell_type": "code",
      "source": [
        "# RandomForest\n",
        "RFC = RandomForestClassifier()\n",
        "\n",
        "rf_param_grid = {\"max_depth\": [None],\n",
        "              \"max_features\": [1, 3, 10],\n",
        "              \"min_samples_split\": [2, 3, 10],\n",
        "              \"min_samples_leaf\": [1, 3, 10],\n",
        "              \"bootstrap\": [False],\n",
        "              \"n_estimators\" :[100,300],\n",
        "              \"criterion\": [\"gini\"]}\n",
        "\n",
        "\n",
        "gsRFC = GridSearchCV(RFC,param_grid = rf_param_grid, cv=kfold, scoring=\"accuracy\", n_jobs= 4, verbose = 1)\n",
        "\n",
        "gsRFC.fit(X_train,Y_train)\n",
        "RFC_best = gsRFC.best_estimator_"
      ],
      "metadata": {
        "colab": {
          "base_uri": "https://localhost:8080/"
        },
        "id": "njIEF6RTKyVD",
        "outputId": "c9822df1-3f1f-473f-8f0d-5828f694309a"
      },
      "execution_count": null,
      "outputs": [
        {
          "output_type": "stream",
          "name": "stdout",
          "text": [
            "Fitting 10 folds for each of 54 candidates, totalling 540 fits\n"
          ]
        }
      ]
    },
    {
      "cell_type": "code",
      "source": [
        "RFC_best"
      ],
      "metadata": {
        "colab": {
          "base_uri": "https://localhost:8080/"
        },
        "id": "WFF6EBaxKyXW",
        "outputId": "894babd7-5198-4238-86b0-81d5df18a6cb"
      },
      "execution_count": null,
      "outputs": [
        {
          "output_type": "execute_result",
          "data": {
            "text/plain": [
              "RandomForestClassifier(bootstrap=False, max_features=3, min_samples_leaf=3,\n",
              "                       n_estimators=300)"
            ]
          },
          "metadata": {},
          "execution_count": 82
        }
      ]
    },
    {
      "cell_type": "code",
      "source": [
        "gsRFC.best_score_"
      ],
      "metadata": {
        "colab": {
          "base_uri": "https://localhost:8080/"
        },
        "id": "-r5OqMqXKyZd",
        "outputId": "45e1ba1b-fa68-4b64-a21f-b89bee257787"
      },
      "execution_count": null,
      "outputs": [
        {
          "output_type": "execute_result",
          "data": {
            "text/plain": [
              "0.8354443309499489"
            ]
          },
          "metadata": {},
          "execution_count": 83
        }
      ]
    },
    {
      "cell_type": "code",
      "source": [
        "# GradientBoosting\n",
        "GBC = GradientBoostingClassifier()\n",
        "\n",
        "gb_param_grid = {'loss' : [\"deviance\"],\n",
        "              'n_estimators' : [100,200,300],\n",
        "              'learning_rate': [0.1, 0.05, 0.01],\n",
        "              'max_depth': [4, 8],\n",
        "              'min_samples_leaf': [100,150],\n",
        "              'max_features': [0.3, 0.1] \n",
        "              }\n",
        "\n",
        "gsGBC = GridSearchCV(GBC,param_grid = gb_param_grid, cv=kfold, scoring=\"accuracy\", n_jobs= 4, verbose = 1)\n",
        "\n",
        "gsGBC.fit(X_train,Y_train)\n",
        "GBC_best = gsGBC.best_estimator_"
      ],
      "metadata": {
        "colab": {
          "base_uri": "https://localhost:8080/"
        },
        "id": "JetsqYgOK7CQ",
        "outputId": "bc6b9f39-2c6f-431c-e184-0a5e578eac44"
      },
      "execution_count": null,
      "outputs": [
        {
          "output_type": "stream",
          "name": "stdout",
          "text": [
            "Fitting 10 folds for each of 72 candidates, totalling 720 fits\n"
          ]
        }
      ]
    },
    {
      "cell_type": "code",
      "source": [
        "GBC_best"
      ],
      "metadata": {
        "colab": {
          "base_uri": "https://localhost:8080/"
        },
        "id": "h66OqiR9K7Ev",
        "outputId": "21bea673-5d30-43b3-86b9-59ccc0951962"
      },
      "execution_count": null,
      "outputs": [
        {
          "output_type": "execute_result",
          "data": {
            "text/plain": [
              "GradientBoostingClassifier(max_depth=8, max_features=0.3, min_samples_leaf=100,\n",
              "                           n_estimators=300)"
            ]
          },
          "metadata": {},
          "execution_count": 85
        }
      ]
    },
    {
      "cell_type": "code",
      "source": [
        "gsGBC.best_score_"
      ],
      "metadata": {
        "colab": {
          "base_uri": "https://localhost:8080/"
        },
        "id": "kOAWYNjUK7Ib",
        "outputId": "4f8955bc-cd45-41ac-89e9-b6e76a2e7006"
      },
      "execution_count": null,
      "outputs": [
        {
          "output_type": "execute_result",
          "data": {
            "text/plain": [
              "0.8320224719101124"
            ]
          },
          "metadata": {},
          "execution_count": 86
        }
      ]
    },
    {
      "cell_type": "code",
      "source": [
        "# SVC \n",
        "SVMC = SVC(probability=True)\n",
        "\n",
        "svc_param_grid = {'kernel': ['rbf'], \n",
        "                  'gamma': [ 0.001, 0.01, 0.1, 1],\n",
        "                  'C': [1, 10, 50, 100,200,300, 1000]}\n",
        "\n",
        "gsSVMC = GridSearchCV(SVMC,param_grid = svc_param_grid, cv=kfold, scoring=\"accuracy\", n_jobs= 4, verbose = 1)\n",
        "\n",
        "gsSVMC.fit(X_train,Y_train)\n",
        "SVMC_best = gsSVMC.best_estimator_"
      ],
      "metadata": {
        "colab": {
          "base_uri": "https://localhost:8080/"
        },
        "id": "ITItmEqoLERF",
        "outputId": "721b640b-2eac-44c1-98bc-21b035fa4a1a"
      },
      "execution_count": null,
      "outputs": [
        {
          "output_type": "stream",
          "name": "stdout",
          "text": [
            "Fitting 10 folds for each of 28 candidates, totalling 280 fits\n"
          ]
        }
      ]
    },
    {
      "cell_type": "code",
      "source": [
        "SVMC_best"
      ],
      "metadata": {
        "colab": {
          "base_uri": "https://localhost:8080/"
        },
        "id": "S_I9fnTlLETi",
        "outputId": "93d25c78-d677-4f60-e29f-d43d4eec8ca2"
      },
      "execution_count": null,
      "outputs": [
        {
          "output_type": "execute_result",
          "data": {
            "text/plain": [
              "SVC(C=10, gamma=0.01, probability=True)"
            ]
          },
          "metadata": {},
          "execution_count": 88
        }
      ]
    },
    {
      "cell_type": "code",
      "source": [
        "gsSVMC.best_score_"
      ],
      "metadata": {
        "colab": {
          "base_uri": "https://localhost:8080/"
        },
        "id": "tl4oP0KSLEXZ",
        "outputId": "4f4737d0-a988-407b-c813-017f6997f8f3"
      },
      "execution_count": null,
      "outputs": [
        {
          "output_type": "execute_result",
          "data": {
            "text/plain": [
              "0.8331332992849847"
            ]
          },
          "metadata": {},
          "execution_count": 89
        }
      ]
    },
    {
      "cell_type": "markdown",
      "source": [
        "## 6. Modeling\n",
        "### 6-1. Simple modeling\n",
        "#### 3) Plot learning curves\n",
        "- 학습 곡선은 훈련 세트에 대한 과적합 효과와 훈련 크기가 정확도에 미치는 영향을 보는 좋은 방법이다.\n",
        "- 각 분류기별로 학습 곡선을 그리고 결과를 확인한다.\n",
        "---\n",
        "- GradientBoosting과 AdaBoost 분류기는 훈련 세트에 과적합하는 경향이 있다.\n",
        "- 교차 검증 곡선이 증가함에 따라 GradientBoosting과 Adaboost 분류기는 더 많은 훈련 세트를 수행한다면 성능이 향상될 것이다.\n",
        "- SVC와 ExtraTrees 분류기는 훈련과 교차 검증 곡선이 서로 가깝기 때문에 예측을 더 잘 일반화하는 것으로 보인다."
      ],
      "metadata": {
        "id": "Kx_N0Vi-LORm"
      }
    },
    {
      "cell_type": "code",
      "source": [
        "def plot_learning_curve(estimator, title, X, y, ylim=None, cv=None, n_jobs=-1, train_sizes=np.linspace(.1, 1.0, 5)):\n",
        "    # Generate a simple plot of the test and training learning curve\n",
        "    plt.figure()\n",
        "    plt.title(title)\n",
        "    if ylim is not None:\n",
        "        plt.ylim(*ylim)\n",
        "    plt.xlabel(\"Training examples\")\n",
        "    plt.ylabel(\"Score\")\n",
        "    train_sizes, train_scores, test_scores = learning_curve(estimator, X, y, cv=cv, n_jobs=n_jobs, train_sizes=train_sizes)\n",
        "    train_scores_mean = np.mean(train_scores, axis=1)\n",
        "    train_scores_std = np.std(train_scores, axis=1)\n",
        "    test_scores_mean = np.mean(test_scores, axis=1)\n",
        "    test_scores_std = np.std(test_scores, axis=1)\n",
        "    plt.grid()\n",
        "\n",
        "    plt.fill_between(train_sizes, train_scores_mean-train_scores_std, train_scores_mean+train_scores_std, alpha=0.1, color='r')\n",
        "    plt.fill_between(train_sizes, test_scores_mean-test_scores_std, test_scores_mean+test_scores_std, alpha=0.1, color='g')\n",
        "    plt.plot(train_sizes, train_scores_mean, 'o-', color='r', label='Training score')\n",
        "    plt.plot(train_sizes, test_scores_mean, 'o-', color='g', label='Cross-validation score')\n",
        "    plt.legend(loc='best')\n",
        "    return plt"
      ],
      "metadata": {
        "id": "OwNimc22LrY-"
      },
      "execution_count": null,
      "outputs": []
    },
    {
      "cell_type": "code",
      "source": [
        "g = plot_learning_curve(estimator=gsRFC.best_estimator_, title=\"RandomForest learning curves\", X=X_train, y=Y_train, cv=kfold)\n",
        "g = plot_learning_curve(estimator=gsExtC.best_estimator_, title=\"ExtraTrees learning curves\", X=X_train, y=Y_train, cv=kfold)\n",
        "g = plot_learning_curve(estimator=gsSVMC.best_estimator_, title=\"SVC learning curves\", X=X_train, y=Y_train, cv=kfold)\n",
        "g = plot_learning_curve(estimator=gsadaDTC.best_estimator_, title=\"AdaBoost learning curves\", X=X_train, y=Y_train, cv=kfold)\n",
        "g = plot_learning_curve(estimator=gsGBC.best_estimator_, title=\"GradientBoosting learning curves\", X=X_train, y=Y_train, cv=kfold)"
      ],
      "metadata": {
        "colab": {
          "base_uri": "https://localhost:8080/",
          "height": 1000
        },
        "id": "r69YxDB-OHHt",
        "outputId": "6605057b-3dc5-417b-8a38-86ffc8e70253"
      },
      "execution_count": null,
      "outputs": [
        {
          "output_type": "display_data",
          "data": {
            "text/plain": [
              "<Figure size 432x288 with 1 Axes>"
            ],
            "image/png": "[encoded data removed]"
          },
          "metadata": {}
        },
        {
          "output_type": "display_data",
          "data": {
            "text/plain": [
              "<Figure size 432x288 with 1 Axes>"
            ],
            "image/png": "[encoded data removed]"
          },
          "metadata": {}
        },
        {
          "output_type": "display_data",
          "data": {
            "text/plain": [
              "<Figure size 432x288 with 1 Axes>"
            ],
            "image/png": "[encoded data removed]"
          },
          "metadata": {}
        },
        {
          "output_type": "display_data",
          "data": {
            "text/plain": [
              "<Figure size 432x288 with 1 Axes>"
            ],
            "image/png": "[encoded data removed]"
          },
          "metadata": {}
        },
        {
          "output_type": "display_data",
          "data": {
            "text/plain": [
              "<Figure size 432x288 with 1 Axes>"
            ],
            "image/png": "[encoded data removed]"
          },
          "metadata": {}
        }
      ]
    },
    {
      "cell_type": "markdown",
      "source": [
        "## 6. Modeling\n",
        "### 6-1. Simple modeling\n",
        "#### 4) Feature importance of tree based classifiers\n",
        "- 승객 생존 예측을 위한 가장 유용한 기능을 보기 위해 4개의 트리 기반 분류기에 대한 feature importance를 알아본다.\n",
        "- 4개의 분류기는 각각 다른 상위권의 특성 중요도를 가진다. 즉 분류기의 예측이 같은 피처에 의존하지 않는다.\n",
        "- 그럼에도 공통적으로 상위권에 속하는 **Fare, Title_2, Age, Sex** 등의 몇개의 피처는 분류를 예측하는데 어떤 동일한 영향을 미친다고 볼 수 있다.\n",
        "- Title_2 칼럼은 Name에 Mrs/Mlle/Mme/Miss/Ms 를 가지는 것을 의미하며, 이는 Sex 칼럼과 강한 상관성이 있어 보인다.\n",
        "- 몇 개의 피처에 대해 다음과 같은 해석을 할 수 있다.\n",
        " - Pc_1, Pc_2, Pc_3 및 Fare은 승객의 일반적인 사회적 지위를 의미한다.\n",
        " - Sex, Title_2(Mrs/Mle/Mme/Miss/Ms) 및 Title_3(Mr)은 성별을 의미한다.\n",
        " - 연령과 Title_1(Master)은 승객의 나이를 의미한다.\n",
        " - Fsize, LargeF, MedF, Single은 승객 가족의 크기를 의미한다.\n",
        "- 4개의 분류기의 특성 중요도에 따르면, 생존 여부에 대한 예측은 보트 내에서의 위치보다 **연령, 성별, 가족 규모, 탑승자의 사회적 지위**와 더 관련이 있는 것으로 보인다."
      ],
      "metadata": {
        "id": "rVpPN4htPETV"
      }
    },
    {
      "cell_type": "code",
      "source": [
        "nrows = 2\n",
        "ncols = 2\n",
        "fig, axes = plt.subplots(nrows=nrows, ncols=ncols, sharex='all', figsize=(15, 15))\n",
        "\n",
        "names_classifiers = [(\"AdaBoosting\", ada_best), (\"ExtraTrees\", ExtC_best), (\"RandomForest\", RFC_best), (\"GradientBoosting\", GBC_best)]\n",
        "nclassifier = 0\n",
        "\n",
        "for row in range(nrows):\n",
        "    for col in range(ncols):\n",
        "        name = names_classifiers[nclassifier][0]\n",
        "        classifier = names_classifiers[nclassifier][1]\n",
        "        indices = np.argsort(classifier.feature_importances_)[::-1][:40]\n",
        "        g = sns.barplot(y=X_train.columns[indices][:40], x=classifier.feature_importances_[indices][:40], orient='h', ax=axes[row][col])\n",
        "        g.set_xlabel(\"Relative importance\", fontsize=12)\n",
        "        g.set_ylabel(\"Features\", fontsize=12)\n",
        "        g.tick_params(labelsize=9)\n",
        "        g.set_title(name+\" feature importance\")\n",
        "        nclassifier += 1"
      ],
      "metadata": {
        "id": "MSxxutONOkmk",
        "colab": {
          "base_uri": "https://localhost:8080/",
          "height": 898
        },
        "outputId": "8060d061-c92b-46c6-9725-df72ef6a9ab2"
      },
      "execution_count": null,
      "outputs": [
        {
          "output_type": "display_data",
          "data": {
            "text/plain": [
              "<Figure size 1080x1080 with 4 Axes>"
            ],
            "image/png": "[encoded data removed]"
          },
          "metadata": {}
        }
      ]
    },
    {
      "cell_type": "markdown",
      "source": [
        "## 6. Modeling\n",
        "### 6-1. Simple modeling\n",
        "#### 4) Feature importance of tree based classifiers\n",
        "- 학습한 모델을 이용하여 test data 대해 예측을 진행하고, 새로운 DataFrame을 생성한다.\n",
        "- 각 예측 결과에 대해 히트맵을 그려서 상관관계를 확인한다.\n",
        "- AdaBoost의 경우를 제외하고는 5개 분류기의 예측이 꽤 비슷해 보인다.\n",
        "- 5개의 분류기는 거의 동일한 예측을 제공하지만 약간의 차이가 있다. 이러한 차이는 앙상블 투표를 고려하기에 충분하다고 판단된다."
      ],
      "metadata": {
        "id": "U9gRuuu8C7ug"
      }
    },
    {
      "cell_type": "code",
      "source": [
        "test_Survived_RFC = pd.Series(RFC_best.predict(test), name='RFC')\n",
        "test_Survived_ExtC = pd.Series(ExtC_best.predict(test), name='ExtC')\n",
        "test_Survived_SVMC = pd.Series(SVMC_best.predict(test), name='SVC')\n",
        "test_Survived_AdaC = pd.Series(ada_best.predict(test), name='Ada')\n",
        "test_Survived_GBC = pd.Series(GBC_best.predict(test), name='GBC')"
      ],
      "metadata": {
        "id": "Ay_Kcs7xBYYf"
      },
      "execution_count": null,
      "outputs": []
    },
    {
      "cell_type": "code",
      "source": [
        "ensemble_results = pd.concat([test_Survived_RFC, test_Survived_ExtC, test_Survived_AdaC, test_Survived_GBC, test_Survived_SVMC], axis=1)\n",
        "\n",
        "g = sns.heatmap(ensemble_results.corr(), annot=True)"
      ],
      "metadata": {
        "colab": {
          "base_uri": "https://localhost:8080/",
          "height": 272
        },
        "id": "bxCwZfr4EGXV",
        "outputId": "d90ed598-6f0f-45fb-90a0-5987edf6cab5"
      },
      "execution_count": null,
      "outputs": [
        {
          "output_type": "display_data",
          "data": {
            "text/plain": [
              "<Figure size 432x288 with 2 Axes>"
            ],
            "image/png": "[encoded data removed]"
          },
          "metadata": {}
        }
      ]
    },
    {
      "cell_type": "markdown",
      "source": [
        "## 6. Modeling\n",
        "### 6-2. Ensemble modeling\n",
        "#### 1) Combinig models\n",
        "- 5개의 분류기를 이용한 예측을 결합하기 위해 **`voting classifier`**를 사용한다.\n",
        "- **각 투표의 확률을 고려**하기 위해 voting parameter에 **'soft'** 옵션을 사용했다."
      ],
      "metadata": {
        "id": "APG-0KIuFUug"
      }
    },
    {
      "cell_type": "code",
      "source": [
        "votingC = VotingClassifier(estimators=[('rfc', RFC_best), ('extc', ExtC_best), ('svc', SVMC_best), ('adac', ada_best), ('gbc', GBC_best)], \n",
        "                                                 voting='soft', n_jobs=-1)\n",
        "votingC = votingC.fit(X_train, Y_train)"
      ],
      "metadata": {
        "id": "bX5BCV1zEZtj"
      },
      "execution_count": null,
      "outputs": []
    },
    {
      "cell_type": "markdown",
      "source": [
        "## 6. Modeling\n",
        "### 6-3. Prediction\n",
        "#### 1) Predict and Submit results\n",
        "- test data에 대해 예측을 수행하고 결과를 저장한다.\n",
        "- submission data에 예측 결과를 입력한다."
      ],
      "metadata": {
        "id": "TaDeWOANF9xT"
      }
    },
    {
      "cell_type": "code",
      "source": [
        "test_Survived = pd.Series(votingC.predict(test))"
      ],
      "metadata": {
        "id": "4mMHg9BaGwgp"
      },
      "execution_count": null,
      "outputs": []
    },
    {
      "cell_type": "code",
      "source": [
        "submission = pd.read_csv(\"/content/drive/MyDrive/ESAA/data/gender_submission.csv\")\n",
        "submission"
      ],
      "metadata": {
        "colab": {
          "base_uri": "https://localhost:8080/",
          "height": 424
        },
        "id": "eiy0zc34G6Ut",
        "outputId": "abccc2ec-4414-44ae-a1a4-3bbd055607ec"
      },
      "execution_count": null,
      "outputs": [
        {
          "output_type": "execute_result",
          "data": {
            "text/plain": [
              "     PassengerId  Survived\n",
              "0            892         0\n",
              "1            893         1\n",
              "2            894         0\n",
              "3            895         0\n",
              "4            896         1\n",
              "..           ...       ...\n",
              "413         1305         0\n",
              "414         1306         1\n",
              "415         1307         0\n",
              "416         1308         0\n",
              "417         1309         0\n",
              "\n",
              "[418 rows x 2 columns]"
            ],
            "text/html": [
              "\n",
              "  <div id=\"df-01fa41e8-647f-4eb6-bcbd-8bd87dbae8b6\">\n",
              "    <div class=\"colab-df-container\">\n",
              "      <div>\n",
              "<style scoped>\n",
              "    .dataframe tbody tr th:only-of-type {\n",
              "        vertical-align: middle;\n",
              "    }\n",
              "\n",
              "    .dataframe tbody tr th {\n",
              "        vertical-align: top;\n",
              "    }\n",
              "\n",
              "    .dataframe thead th {\n",
              "        text-align: right;\n",
              "    }\n",
              "</style>\n",
              "<table border=\"1\" class=\"dataframe\">\n",
              "  <thead>\n",
              "    <tr style=\"text-align: right;\">\n",
              "      <th></th>\n",
              "      <th>PassengerId</th>\n",
              "      <th>Survived</th>\n",
              "    </tr>\n",
              "  </thead>\n",
              "  <tbody>\n",
              "    <tr>\n",
              "      <th>0</th>\n",
              "      <td>892</td>\n",
              "      <td>0</td>\n",
              "    </tr>\n",
              "    <tr>\n",
              "      <th>1</th>\n",
              "      <td>893</td>\n",
              "      <td>1</td>\n",
              "    </tr>\n",
              "    <tr>\n",
              "      <th>2</th>\n",
              "      <td>894</td>\n",
              "      <td>0</td>\n",
              "    </tr>\n",
              "    <tr>\n",
              "      <th>3</th>\n",
              "      <td>895</td>\n",
              "      <td>0</td>\n",
              "    </tr>\n",
              "    <tr>\n",
              "      <th>4</th>\n",
              "      <td>896</td>\n",
              "      <td>1</td>\n",
              "    </tr>\n",
              "    <tr>\n",
              "      <th>...</th>\n",
              "      <td>...</td>\n",
              "      <td>...</td>\n",
              "    </tr>\n",
              "    <tr>\n",
              "      <th>413</th>\n",
              "      <td>1305</td>\n",
              "      <td>0</td>\n",
              "    </tr>\n",
              "    <tr>\n",
              "      <th>414</th>\n",
              "      <td>1306</td>\n",
              "      <td>1</td>\n",
              "    </tr>\n",
              "    <tr>\n",
              "      <th>415</th>\n",
              "      <td>1307</td>\n",
              "      <td>0</td>\n",
              "    </tr>\n",
              "    <tr>\n",
              "      <th>416</th>\n",
              "      <td>1308</td>\n",
              "      <td>0</td>\n",
              "    </tr>\n",
              "    <tr>\n",
              "      <th>417</th>\n",
              "      <td>1309</td>\n",
              "      <td>0</td>\n",
              "    </tr>\n",
              "  </tbody>\n",
              "</table>\n",
              "<p>418 rows × 2 columns</p>\n",
              "</div>\n",
              "      <button class=\"colab-df-convert\" onclick=\"convertToInteractive('df-01fa41e8-647f-4eb6-bcbd-8bd87dbae8b6')\"\n",
              "              title=\"Convert this dataframe to an interactive table.\"\n",
              "              style=\"display:none;\">\n",
              "        \n",
              "  <svg xmlns=\"http://www.w3.org/2000/svg\" height=\"24px\"viewBox=\"0 0 24 24\"\n",
              "       width=\"24px\">\n",
              "    <path d=\"M0 0h24v24H0V0z\" fill=\"none\"/>\n",
              "    <path d=\"M18.56 5.44l.94 2.06.94-2.06 2.06-.94-2.06-.94-.94-2.06-.94 2.06-2.06.94zm-11 1L8.5 8.5l.94-2.06 2.06-.94-2.06-.94L8.5 2.5l-.94 2.06-2.06.94zm10 10l.94 2.06.94-2.06 2.06-.94-2.06-.94-.94-2.06-.94 2.06-2.06.94z\"/><path d=\"M17.41 7.96l-1.37-1.37c-.4-.4-.92-.59-1.43-.59-.52 0-1.04.2-1.43.59L10.3 9.45l-7.72 7.72c-.78.78-.78 2.05 0 2.83L4 21.41c.39.39.9.59 1.41.59.51 0 1.02-.2 1.41-.59l7.78-7.78 2.81-2.81c.8-.78.8-2.07 0-2.86zM5.41 20L4 18.59l7.72-7.72 1.47 1.35L5.41 20z\"/>\n",
              "  </svg>\n",
              "      </button>\n",
              "      \n",
              "  <style>\n",
              "    .colab-df-container {\n",
              "      display:flex;\n",
              "      flex-wrap:wrap;\n",
              "      gap: 12px;\n",
              "    }\n",
              "\n",
              "    .colab-df-convert {\n",
              "      background-color: #E8F0FE;\n",
              "      border: none;\n",
              "      border-radius: 50%;\n",
              "      cursor: pointer;\n",
              "      display: none;\n",
              "      fill: #1967D2;\n",
              "      height: 32px;\n",
              "      padding: 0 0 0 0;\n",
              "      width: 32px;\n",
              "    }\n",
              "\n",
              "    .colab-df-convert:hover {\n",
              "      background-color: #E2EBFA;\n",
              "      box-shadow: 0px 1px 2px rgba(60, 64, 67, 0.3), 0px 1px 3px 1px rgba(60, 64, 67, 0.15);\n",
              "      fill: #174EA6;\n",
              "    }\n",
              "\n",
              "    [theme=dark] .colab-df-convert {\n",
              "      background-color: #3B4455;\n",
              "      fill: #D2E3FC;\n",
              "    }\n",
              "\n",
              "    [theme=dark] .colab-df-convert:hover {\n",
              "      background-color: #434B5C;\n",
              "      box-shadow: 0px 1px 3px 1px rgba(0, 0, 0, 0.15);\n",
              "      filter: drop-shadow(0px 1px 2px rgba(0, 0, 0, 0.3));\n",
              "      fill: #FFFFFF;\n",
              "    }\n",
              "  </style>\n",
              "\n",
              "      <script>\n",
              "        const buttonEl =\n",
              "          document.querySelector('#df-01fa41e8-647f-4eb6-bcbd-8bd87dbae8b6 button.colab-df-convert');\n",
              "        buttonEl.style.display =\n",
              "          google.colab.kernel.accessAllowed ? 'block' : 'none';\n",
              "\n",
              "        async function convertToInteractive(key) {\n",
              "          const element = document.querySelector('#df-01fa41e8-647f-4eb6-bcbd-8bd87dbae8b6');\n",
              "          const dataTable =\n",
              "            await google.colab.kernel.invokeFunction('convertToInteractive',\n",
              "                                                     [key], {});\n",
              "          if (!dataTable) return;\n",
              "\n",
              "          const docLinkHtml = 'Like what you see? Visit the ' +\n",
              "            '<a target=\"_blank\" href=https://colab.research.google.com/notebooks/data_table.ipynb>data table notebook</a>'\n",
              "            + ' to learn more about interactive tables.';\n",
              "          element.innerHTML = '';\n",
              "          dataTable['output_type'] = 'display_data';\n",
              "          await google.colab.output.renderOutput(dataTable, element);\n",
              "          const docLink = document.createElement('div');\n",
              "          docLink.innerHTML = docLinkHtml;\n",
              "          element.appendChild(docLink);\n",
              "        }\n",
              "      </script>\n",
              "    </div>\n",
              "  </div>\n",
              "  "
            ]
          },
          "metadata": {},
          "execution_count": 103
        }
      ]
    },
    {
      "cell_type": "code",
      "source": [
        "submission['Survived'] = test_Survived\n",
        "submission"
      ],
      "metadata": {
        "colab": {
          "base_uri": "https://localhost:8080/",
          "height": 424
        },
        "id": "MzMJclU2HCdv",
        "outputId": "2e23ec74-bc63-4ce6-862a-386ca1966646"
      },
      "execution_count": null,
      "outputs": [
        {
          "output_type": "execute_result",
          "data": {
            "text/plain": [
              "     PassengerId  Survived\n",
              "0            892         0\n",
              "1            893         0\n",
              "2            894         0\n",
              "3            895         0\n",
              "4            896         1\n",
              "..           ...       ...\n",
              "413         1305         0\n",
              "414         1306         1\n",
              "415         1307         0\n",
              "416         1308         0\n",
              "417         1309         1\n",
              "\n",
              "[418 rows x 2 columns]"
            ],
            "text/html": [
              "\n",
              "  <div id=\"df-ed309df0-e3fa-4908-b914-1554c85e8735\">\n",
              "    <div class=\"colab-df-container\">\n",
              "      <div>\n",
              "<style scoped>\n",
              "    .dataframe tbody tr th:only-of-type {\n",
              "        vertical-align: middle;\n",
              "    }\n",
              "\n",
              "    .dataframe tbody tr th {\n",
              "        vertical-align: top;\n",
              "    }\n",
              "\n",
              "    .dataframe thead th {\n",
              "        text-align: right;\n",
              "    }\n",
              "</style>\n",
              "<table border=\"1\" class=\"dataframe\">\n",
              "  <thead>\n",
              "    <tr style=\"text-align: right;\">\n",
              "      <th></th>\n",
              "      <th>PassengerId</th>\n",
              "      <th>Survived</th>\n",
              "    </tr>\n",
              "  </thead>\n",
              "  <tbody>\n",
              "    <tr>\n",
              "      <th>0</th>\n",
              "      <td>892</td>\n",
              "      <td>0</td>\n",
              "    </tr>\n",
              "    <tr>\n",
              "      <th>1</th>\n",
              "      <td>893</td>\n",
              "      <td>0</td>\n",
              "    </tr>\n",
              "    <tr>\n",
              "      <th>2</th>\n",
              "      <td>894</td>\n",
              "      <td>0</td>\n",
              "    </tr>\n",
              "    <tr>\n",
              "      <th>3</th>\n",
              "      <td>895</td>\n",
              "      <td>0</td>\n",
              "    </tr>\n",
              "    <tr>\n",
              "      <th>4</th>\n",
              "      <td>896</td>\n",
              "      <td>1</td>\n",
              "    </tr>\n",
              "    <tr>\n",
              "      <th>...</th>\n",
              "      <td>...</td>\n",
              "      <td>...</td>\n",
              "    </tr>\n",
              "    <tr>\n",
              "      <th>413</th>\n",
              "      <td>1305</td>\n",
              "      <td>0</td>\n",
              "    </tr>\n",
              "    <tr>\n",
              "      <th>414</th>\n",
              "      <td>1306</td>\n",
              "      <td>1</td>\n",
              "    </tr>\n",
              "    <tr>\n",
              "      <th>415</th>\n",
              "      <td>1307</td>\n",
              "      <td>0</td>\n",
              "    </tr>\n",
              "    <tr>\n",
              "      <th>416</th>\n",
              "      <td>1308</td>\n",
              "      <td>0</td>\n",
              "    </tr>\n",
              "    <tr>\n",
              "      <th>417</th>\n",
              "      <td>1309</td>\n",
              "      <td>1</td>\n",
              "    </tr>\n",
              "  </tbody>\n",
              "</table>\n",
              "<p>418 rows × 2 columns</p>\n",
              "</div>\n",
              "      <button class=\"colab-df-convert\" onclick=\"convertToInteractive('df-ed309df0-e3fa-4908-b914-1554c85e8735')\"\n",
              "              title=\"Convert this dataframe to an interactive table.\"\n",
              "              style=\"display:none;\">\n",
              "        \n",
              "  <svg xmlns=\"http://www.w3.org/2000/svg\" height=\"24px\"viewBox=\"0 0 24 24\"\n",
              "       width=\"24px\">\n",
              "    <path d=\"M0 0h24v24H0V0z\" fill=\"none\"/>\n",
              "    <path d=\"M18.56 5.44l.94 2.06.94-2.06 2.06-.94-2.06-.94-.94-2.06-.94 2.06-2.06.94zm-11 1L8.5 8.5l.94-2.06 2.06-.94-2.06-.94L8.5 2.5l-.94 2.06-2.06.94zm10 10l.94 2.06.94-2.06 2.06-.94-2.06-.94-.94-2.06-.94 2.06-2.06.94z\"/><path d=\"M17.41 7.96l-1.37-1.37c-.4-.4-.92-.59-1.43-.59-.52 0-1.04.2-1.43.59L10.3 9.45l-7.72 7.72c-.78.78-.78 2.05 0 2.83L4 21.41c.39.39.9.59 1.41.59.51 0 1.02-.2 1.41-.59l7.78-7.78 2.81-2.81c.8-.78.8-2.07 0-2.86zM5.41 20L4 18.59l7.72-7.72 1.47 1.35L5.41 20z\"/>\n",
              "  </svg>\n",
              "      </button>\n",
              "      \n",
              "  <style>\n",
              "    .colab-df-container {\n",
              "      display:flex;\n",
              "      flex-wrap:wrap;\n",
              "      gap: 12px;\n",
              "    }\n",
              "\n",
              "    .colab-df-convert {\n",
              "      background-color: #E8F0FE;\n",
              "      border: none;\n",
              "      border-radius: 50%;\n",
              "      cursor: pointer;\n",
              "      display: none;\n",
              "      fill: #1967D2;\n",
              "      height: 32px;\n",
              "      padding: 0 0 0 0;\n",
              "      width: 32px;\n",
              "    }\n",
              "\n",
              "    .colab-df-convert:hover {\n",
              "      background-color: #E2EBFA;\n",
              "      box-shadow: 0px 1px 2px rgba(60, 64, 67, 0.3), 0px 1px 3px 1px rgba(60, 64, 67, 0.15);\n",
              "      fill: #174EA6;\n",
              "    }\n",
              "\n",
              "    [theme=dark] .colab-df-convert {\n",
              "      background-color: #3B4455;\n",
              "      fill: #D2E3FC;\n",
              "    }\n",
              "\n",
              "    [theme=dark] .colab-df-convert:hover {\n",
              "      background-color: #434B5C;\n",
              "      box-shadow: 0px 1px 3px 1px rgba(0, 0, 0, 0.15);\n",
              "      filter: drop-shadow(0px 1px 2px rgba(0, 0, 0, 0.3));\n",
              "      fill: #FFFFFF;\n",
              "    }\n",
              "  </style>\n",
              "\n",
              "      <script>\n",
              "        const buttonEl =\n",
              "          document.querySelector('#df-ed309df0-e3fa-4908-b914-1554c85e8735 button.colab-df-convert');\n",
              "        buttonEl.style.display =\n",
              "          google.colab.kernel.accessAllowed ? 'block' : 'none';\n",
              "\n",
              "        async function convertToInteractive(key) {\n",
              "          const element = document.querySelector('#df-ed309df0-e3fa-4908-b914-1554c85e8735');\n",
              "          const dataTable =\n",
              "            await google.colab.kernel.invokeFunction('convertToInteractive',\n",
              "                                                     [key], {});\n",
              "          if (!dataTable) return;\n",
              "\n",
              "          const docLinkHtml = 'Like what you see? Visit the ' +\n",
              "            '<a target=\"_blank\" href=https://colab.research.google.com/notebooks/data_table.ipynb>data table notebook</a>'\n",
              "            + ' to learn more about interactive tables.';\n",
              "          element.innerHTML = '';\n",
              "          dataTable['output_type'] = 'display_data';\n",
              "          await google.colab.output.renderOutput(dataTable, element);\n",
              "          const docLink = document.createElement('div');\n",
              "          docLink.innerHTML = docLinkHtml;\n",
              "          element.appendChild(docLink);\n",
              "        }\n",
              "      </script>\n",
              "    </div>\n",
              "  </div>\n",
              "  "
            ]
          },
          "metadata": {},
          "execution_count": 104
        }
      ]
    }
  ]
}