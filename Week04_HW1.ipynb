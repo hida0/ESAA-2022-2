{
  "nbformat": 4,
  "nbformat_minor": 0,
  "metadata": {
    "colab": {
      "provenance": [],
      "collapsed_sections": [],
      "mount_file_id": "1AMrExsYzjuwhUME9fG7LB_RnvIGo4U8G",
      "authorship_tag": "ABX9TyMT0f3dIj4zwlyOsLxQOHnp",
      "include_colab_link": true
    },
    "kernelspec": {
      "name": "python3",
      "display_name": "Python 3"
    },
    "language_info": {
      "name": "python"
    }
  },
  "cells": [
    {
      "cell_type": "markdown",
      "metadata": {
        "id": "view-in-github",
        "colab_type": "text"
      },
      "source": [
        "<a href=\"https://colab.research.google.com/github/hida0/ESAA-2022-2/blob/HW/Week04_HW1.ipynb\" target=\"_parent\"><img src=\"https://colab.research.google.com/assets/colab-badge.svg\" alt=\"Open In Colab\"/></a>"
      ]
    },
    {
      "cell_type": "markdown",
      "source": [
        "### 캐글 실습 필사 \n",
        "https://www.kaggle.com/code/serigne/stacked-regressions-top-4-on-leaderboard/notebook\n",
        "\n",
        "### Stacked Regressions to predict House Prices\n",
        "- **Imputing missing values** by proceeding sequentially through the data\n",
        "- **Transforming** some numerical variables that seem really categorical\n",
        "- **Label Encoding** some categorical variables that may contain information in their ordering set\n",
        "- **Box Cox Transformation** of skewed features (instead of log-transformation) : This gave me a slightly better result both on leaderboard and cross-validation.\n",
        "- **Getting dummy variables** for categorical features.\n",
        "\n",
        "Then we choose many base models (mostly sklearn based models + sklearn API of DMLC's XGBoost and Microsoft's LightGBM), cross-validate them on the data before stacking/ensembling them. The key here is to make the (linear) models robust to outliers. This improved the result both on LB and cross-validation."
      ],
      "metadata": {
        "id": "JGwQS33NmgMF"
      }
    },
    {
      "cell_type": "markdown",
      "source": [
        "### 1. 라이브러리 및 데이터 로드\n"
      ],
      "metadata": {
        "id": "4zE3YGbRzZMo"
      }
    },
    {
      "cell_type": "code",
      "source": [
        "import numpy as np\n",
        "import pandas as pd\n",
        "import matplotlib.pyplot as plt\n",
        "%matplotlib inline\n",
        "import seaborn as sns\n",
        "color = sns.color_palette()\n",
        "sns.set_style(\"darkgrid\")\n",
        "\n",
        "import warnings\n",
        "def ignore_warn(*args, **kwargs):\n",
        "    pass\n",
        "warnings.warn = ignore_warn # ignore annoying warning\n",
        "\n",
        "from scipy import stats\n",
        "from scipy.stats import norm, skew # for some statistics\n",
        "\n",
        "pd.options.display.float_format = '{:.3f}'.format # 지수표현 없애기\n",
        "pd.set_option(\"display.float_format\", lambda x: \"{:.3f}\".format(x)) # Limiting floats output to 3 decimal points"
      ],
      "metadata": {
        "id": "tU0yIkW_mi60"
      },
      "execution_count": null,
      "outputs": []
    },
    {
      "cell_type": "code",
      "source": [
        "train = pd.read_csv(\"/content/drive/MyDrive/ESAA/data/train.csv\")\n",
        "train.head()"
      ],
      "metadata": {
        "colab": {
          "base_uri": "https://localhost:8080/",
          "height": 299
        },
        "id": "xZGShvM53EKa",
        "outputId": "5179e696-4444-48d4-9b23-53b68bdd343d"
      },
      "execution_count": null,
      "outputs": [
        {
          "output_type": "execute_result",
          "data": {
            "text/plain": [
              "   Id  MSSubClass MSZoning  LotFrontage  LotArea Street Alley LotShape  \\\n",
              "0   1          60       RL       65.000     8450   Pave   NaN      Reg   \n",
              "1   2          20       RL       80.000     9600   Pave   NaN      Reg   \n",
              "2   3          60       RL       68.000    11250   Pave   NaN      IR1   \n",
              "3   4          70       RL       60.000     9550   Pave   NaN      IR1   \n",
              "4   5          60       RL       84.000    14260   Pave   NaN      IR1   \n",
              "\n",
              "  LandContour Utilities  ... PoolArea PoolQC Fence MiscFeature MiscVal MoSold  \\\n",
              "0         Lvl    AllPub  ...        0    NaN   NaN         NaN       0      2   \n",
              "1         Lvl    AllPub  ...        0    NaN   NaN         NaN       0      5   \n",
              "2         Lvl    AllPub  ...        0    NaN   NaN         NaN       0      9   \n",
              "3         Lvl    AllPub  ...        0    NaN   NaN         NaN       0      2   \n",
              "4         Lvl    AllPub  ...        0    NaN   NaN         NaN       0     12   \n",
              "\n",
              "  YrSold  SaleType  SaleCondition  SalePrice  \n",
              "0   2008        WD         Normal     208500  \n",
              "1   2007        WD         Normal     181500  \n",
              "2   2008        WD         Normal     223500  \n",
              "3   2006        WD        Abnorml     140000  \n",
              "4   2008        WD         Normal     250000  \n",
              "\n",
              "[5 rows x 81 columns]"
            ],
            "text/html": [
              "\n",
              "  <div id=\"df-75d14baf-c2c0-4fd6-bcc4-649c7744bcea\">\n",
              "    <div class=\"colab-df-container\">\n",
              "      <div>\n",
              "<style scoped>\n",
              "    .dataframe tbody tr th:only-of-type {\n",
              "        vertical-align: middle;\n",
              "    }\n",
              "\n",
              "    .dataframe tbody tr th {\n",
              "        vertical-align: top;\n",
              "    }\n",
              "\n",
              "    .dataframe thead th {\n",
              "        text-align: right;\n",
              "    }\n",
              "</style>\n",
              "<table border=\"1\" class=\"dataframe\">\n",
              "  <thead>\n",
              "    <tr style=\"text-align: right;\">\n",
              "      <th></th>\n",
              "      <th>Id</th>\n",
              "      <th>MSSubClass</th>\n",
              "      <th>MSZoning</th>\n",
              "      <th>LotFrontage</th>\n",
              "      <th>LotArea</th>\n",
              "      <th>Street</th>\n",
              "      <th>Alley</th>\n",
              "      <th>LotShape</th>\n",
              "      <th>LandContour</th>\n",
              "      <th>Utilities</th>\n",
              "      <th>...</th>\n",
              "      <th>PoolArea</th>\n",
              "      <th>PoolQC</th>\n",
              "      <th>Fence</th>\n",
              "      <th>MiscFeature</th>\n",
              "      <th>MiscVal</th>\n",
              "      <th>MoSold</th>\n",
              "      <th>YrSold</th>\n",
              "      <th>SaleType</th>\n",
              "      <th>SaleCondition</th>\n",
              "      <th>SalePrice</th>\n",
              "    </tr>\n",
              "  </thead>\n",
              "  <tbody>\n",
              "    <tr>\n",
              "      <th>0</th>\n",
              "      <td>1</td>\n",
              "      <td>60</td>\n",
              "      <td>RL</td>\n",
              "      <td>65.000</td>\n",
              "      <td>8450</td>\n",
              "      <td>Pave</td>\n",
              "      <td>NaN</td>\n",
              "      <td>Reg</td>\n",
              "      <td>Lvl</td>\n",
              "      <td>AllPub</td>\n",
              "      <td>...</td>\n",
              "      <td>0</td>\n",
              "      <td>NaN</td>\n",
              "      <td>NaN</td>\n",
              "      <td>NaN</td>\n",
              "      <td>0</td>\n",
              "      <td>2</td>\n",
              "      <td>2008</td>\n",
              "      <td>WD</td>\n",
              "      <td>Normal</td>\n",
              "      <td>208500</td>\n",
              "    </tr>\n",
              "    <tr>\n",
              "      <th>1</th>\n",
              "      <td>2</td>\n",
              "      <td>20</td>\n",
              "      <td>RL</td>\n",
              "      <td>80.000</td>\n",
              "      <td>9600</td>\n",
              "      <td>Pave</td>\n",
              "      <td>NaN</td>\n",
              "      <td>Reg</td>\n",
              "      <td>Lvl</td>\n",
              "      <td>AllPub</td>\n",
              "      <td>...</td>\n",
              "      <td>0</td>\n",
              "      <td>NaN</td>\n",
              "      <td>NaN</td>\n",
              "      <td>NaN</td>\n",
              "      <td>0</td>\n",
              "      <td>5</td>\n",
              "      <td>2007</td>\n",
              "      <td>WD</td>\n",
              "      <td>Normal</td>\n",
              "      <td>181500</td>\n",
              "    </tr>\n",
              "    <tr>\n",
              "      <th>2</th>\n",
              "      <td>3</td>\n",
              "      <td>60</td>\n",
              "      <td>RL</td>\n",
              "      <td>68.000</td>\n",
              "      <td>11250</td>\n",
              "      <td>Pave</td>\n",
              "      <td>NaN</td>\n",
              "      <td>IR1</td>\n",
              "      <td>Lvl</td>\n",
              "      <td>AllPub</td>\n",
              "      <td>...</td>\n",
              "      <td>0</td>\n",
              "      <td>NaN</td>\n",
              "      <td>NaN</td>\n",
              "      <td>NaN</td>\n",
              "      <td>0</td>\n",
              "      <td>9</td>\n",
              "      <td>2008</td>\n",
              "      <td>WD</td>\n",
              "      <td>Normal</td>\n",
              "      <td>223500</td>\n",
              "    </tr>\n",
              "    <tr>\n",
              "      <th>3</th>\n",
              "      <td>4</td>\n",
              "      <td>70</td>\n",
              "      <td>RL</td>\n",
              "      <td>60.000</td>\n",
              "      <td>9550</td>\n",
              "      <td>Pave</td>\n",
              "      <td>NaN</td>\n",
              "      <td>IR1</td>\n",
              "      <td>Lvl</td>\n",
              "      <td>AllPub</td>\n",
              "      <td>...</td>\n",
              "      <td>0</td>\n",
              "      <td>NaN</td>\n",
              "      <td>NaN</td>\n",
              "      <td>NaN</td>\n",
              "      <td>0</td>\n",
              "      <td>2</td>\n",
              "      <td>2006</td>\n",
              "      <td>WD</td>\n",
              "      <td>Abnorml</td>\n",
              "      <td>140000</td>\n",
              "    </tr>\n",
              "    <tr>\n",
              "      <th>4</th>\n",
              "      <td>5</td>\n",
              "      <td>60</td>\n",
              "      <td>RL</td>\n",
              "      <td>84.000</td>\n",
              "      <td>14260</td>\n",
              "      <td>Pave</td>\n",
              "      <td>NaN</td>\n",
              "      <td>IR1</td>\n",
              "      <td>Lvl</td>\n",
              "      <td>AllPub</td>\n",
              "      <td>...</td>\n",
              "      <td>0</td>\n",
              "      <td>NaN</td>\n",
              "      <td>NaN</td>\n",
              "      <td>NaN</td>\n",
              "      <td>0</td>\n",
              "      <td>12</td>\n",
              "      <td>2008</td>\n",
              "      <td>WD</td>\n",
              "      <td>Normal</td>\n",
              "      <td>250000</td>\n",
              "    </tr>\n",
              "  </tbody>\n",
              "</table>\n",
              "<p>5 rows × 81 columns</p>\n",
              "</div>\n",
              "      <button class=\"colab-df-convert\" onclick=\"convertToInteractive('df-75d14baf-c2c0-4fd6-bcc4-649c7744bcea')\"\n",
              "              title=\"Convert this dataframe to an interactive table.\"\n",
              "              style=\"display:none;\">\n",
              "        \n",
              "  <svg xmlns=\"http://www.w3.org/2000/svg\" height=\"24px\"viewBox=\"0 0 24 24\"\n",
              "       width=\"24px\">\n",
              "    <path d=\"M0 0h24v24H0V0z\" fill=\"none\"/>\n",
              "    <path d=\"M18.56 5.44l.94 2.06.94-2.06 2.06-.94-2.06-.94-.94-2.06-.94 2.06-2.06.94zm-11 1L8.5 8.5l.94-2.06 2.06-.94-2.06-.94L8.5 2.5l-.94 2.06-2.06.94zm10 10l.94 2.06.94-2.06 2.06-.94-2.06-.94-.94-2.06-.94 2.06-2.06.94z\"/><path d=\"M17.41 7.96l-1.37-1.37c-.4-.4-.92-.59-1.43-.59-.52 0-1.04.2-1.43.59L10.3 9.45l-7.72 7.72c-.78.78-.78 2.05 0 2.83L4 21.41c.39.39.9.59 1.41.59.51 0 1.02-.2 1.41-.59l7.78-7.78 2.81-2.81c.8-.78.8-2.07 0-2.86zM5.41 20L4 18.59l7.72-7.72 1.47 1.35L5.41 20z\"/>\n",
              "  </svg>\n",
              "      </button>\n",
              "      \n",
              "  <style>\n",
              "    .colab-df-container {\n",
              "      display:flex;\n",
              "      flex-wrap:wrap;\n",
              "      gap: 12px;\n",
              "    }\n",
              "\n",
              "    .colab-df-convert {\n",
              "      background-color: #E8F0FE;\n",
              "      border: none;\n",
              "      border-radius: 50%;\n",
              "      cursor: pointer;\n",
              "      display: none;\n",
              "      fill: #1967D2;\n",
              "      height: 32px;\n",
              "      padding: 0 0 0 0;\n",
              "      width: 32px;\n",
              "    }\n",
              "\n",
              "    .colab-df-convert:hover {\n",
              "      background-color: #E2EBFA;\n",
              "      box-shadow: 0px 1px 2px rgba(60, 64, 67, 0.3), 0px 1px 3px 1px rgba(60, 64, 67, 0.15);\n",
              "      fill: #174EA6;\n",
              "    }\n",
              "\n",
              "    [theme=dark] .colab-df-convert {\n",
              "      background-color: #3B4455;\n",
              "      fill: #D2E3FC;\n",
              "    }\n",
              "\n",
              "    [theme=dark] .colab-df-convert:hover {\n",
              "      background-color: #434B5C;\n",
              "      box-shadow: 0px 1px 3px 1px rgba(0, 0, 0, 0.15);\n",
              "      filter: drop-shadow(0px 1px 2px rgba(0, 0, 0, 0.3));\n",
              "      fill: #FFFFFF;\n",
              "    }\n",
              "  </style>\n",
              "\n",
              "      <script>\n",
              "        const buttonEl =\n",
              "          document.querySelector('#df-75d14baf-c2c0-4fd6-bcc4-649c7744bcea button.colab-df-convert');\n",
              "        buttonEl.style.display =\n",
              "          google.colab.kernel.accessAllowed ? 'block' : 'none';\n",
              "\n",
              "        async function convertToInteractive(key) {\n",
              "          const element = document.querySelector('#df-75d14baf-c2c0-4fd6-bcc4-649c7744bcea');\n",
              "          const dataTable =\n",
              "            await google.colab.kernel.invokeFunction('convertToInteractive',\n",
              "                                                     [key], {});\n",
              "          if (!dataTable) return;\n",
              "\n",
              "          const docLinkHtml = 'Like what you see? Visit the ' +\n",
              "            '<a target=\"_blank\" href=https://colab.research.google.com/notebooks/data_table.ipynb>data table notebook</a>'\n",
              "            + ' to learn more about interactive tables.';\n",
              "          element.innerHTML = '';\n",
              "          dataTable['output_type'] = 'display_data';\n",
              "          await google.colab.output.renderOutput(dataTable, element);\n",
              "          const docLink = document.createElement('div');\n",
              "          docLink.innerHTML = docLinkHtml;\n",
              "          element.appendChild(docLink);\n",
              "        }\n",
              "      </script>\n",
              "    </div>\n",
              "  </div>\n",
              "  "
            ]
          },
          "metadata": {},
          "execution_count": 115
        }
      ]
    },
    {
      "cell_type": "code",
      "source": [
        "test = pd.read_csv(\"/content/drive/MyDrive/ESAA/data/test.csv\")\n",
        "test.head()"
      ],
      "metadata": {
        "colab": {
          "base_uri": "https://localhost:8080/",
          "height": 299
        },
        "id": "ajWx5D5-3YvA",
        "outputId": "e65b3b0a-ac81-4b76-8fdc-affac10813a4"
      },
      "execution_count": null,
      "outputs": [
        {
          "output_type": "execute_result",
          "data": {
            "text/plain": [
              "     Id  MSSubClass MSZoning  LotFrontage  LotArea Street Alley LotShape  \\\n",
              "0  1461          20       RH       80.000    11622   Pave   NaN      Reg   \n",
              "1  1462          20       RL       81.000    14267   Pave   NaN      IR1   \n",
              "2  1463          60       RL       74.000    13830   Pave   NaN      IR1   \n",
              "3  1464          60       RL       78.000     9978   Pave   NaN      IR1   \n",
              "4  1465         120       RL       43.000     5005   Pave   NaN      IR1   \n",
              "\n",
              "  LandContour Utilities  ... ScreenPorch PoolArea PoolQC  Fence MiscFeature  \\\n",
              "0         Lvl    AllPub  ...         120        0    NaN  MnPrv         NaN   \n",
              "1         Lvl    AllPub  ...           0        0    NaN    NaN        Gar2   \n",
              "2         Lvl    AllPub  ...           0        0    NaN  MnPrv         NaN   \n",
              "3         Lvl    AllPub  ...           0        0    NaN    NaN         NaN   \n",
              "4         HLS    AllPub  ...         144        0    NaN    NaN         NaN   \n",
              "\n",
              "  MiscVal MoSold  YrSold  SaleType  SaleCondition  \n",
              "0       0      6    2010        WD         Normal  \n",
              "1   12500      6    2010        WD         Normal  \n",
              "2       0      3    2010        WD         Normal  \n",
              "3       0      6    2010        WD         Normal  \n",
              "4       0      1    2010        WD         Normal  \n",
              "\n",
              "[5 rows x 80 columns]"
            ],
            "text/html": [
              "\n",
              "  <div id=\"df-14021a42-a96c-46f5-a5f8-bf96a76e1567\">\n",
              "    <div class=\"colab-df-container\">\n",
              "      <div>\n",
              "<style scoped>\n",
              "    .dataframe tbody tr th:only-of-type {\n",
              "        vertical-align: middle;\n",
              "    }\n",
              "\n",
              "    .dataframe tbody tr th {\n",
              "        vertical-align: top;\n",
              "    }\n",
              "\n",
              "    .dataframe thead th {\n",
              "        text-align: right;\n",
              "    }\n",
              "</style>\n",
              "<table border=\"1\" class=\"dataframe\">\n",
              "  <thead>\n",
              "    <tr style=\"text-align: right;\">\n",
              "      <th></th>\n",
              "      <th>Id</th>\n",
              "      <th>MSSubClass</th>\n",
              "      <th>MSZoning</th>\n",
              "      <th>LotFrontage</th>\n",
              "      <th>LotArea</th>\n",
              "      <th>Street</th>\n",
              "      <th>Alley</th>\n",
              "      <th>LotShape</th>\n",
              "      <th>LandContour</th>\n",
              "      <th>Utilities</th>\n",
              "      <th>...</th>\n",
              "      <th>ScreenPorch</th>\n",
              "      <th>PoolArea</th>\n",
              "      <th>PoolQC</th>\n",
              "      <th>Fence</th>\n",
              "      <th>MiscFeature</th>\n",
              "      <th>MiscVal</th>\n",
              "      <th>MoSold</th>\n",
              "      <th>YrSold</th>\n",
              "      <th>SaleType</th>\n",
              "      <th>SaleCondition</th>\n",
              "    </tr>\n",
              "  </thead>\n",
              "  <tbody>\n",
              "    <tr>\n",
              "      <th>0</th>\n",
              "      <td>1461</td>\n",
              "      <td>20</td>\n",
              "      <td>RH</td>\n",
              "      <td>80.000</td>\n",
              "      <td>11622</td>\n",
              "      <td>Pave</td>\n",
              "      <td>NaN</td>\n",
              "      <td>Reg</td>\n",
              "      <td>Lvl</td>\n",
              "      <td>AllPub</td>\n",
              "      <td>...</td>\n",
              "      <td>120</td>\n",
              "      <td>0</td>\n",
              "      <td>NaN</td>\n",
              "      <td>MnPrv</td>\n",
              "      <td>NaN</td>\n",
              "      <td>0</td>\n",
              "      <td>6</td>\n",
              "      <td>2010</td>\n",
              "      <td>WD</td>\n",
              "      <td>Normal</td>\n",
              "    </tr>\n",
              "    <tr>\n",
              "      <th>1</th>\n",
              "      <td>1462</td>\n",
              "      <td>20</td>\n",
              "      <td>RL</td>\n",
              "      <td>81.000</td>\n",
              "      <td>14267</td>\n",
              "      <td>Pave</td>\n",
              "      <td>NaN</td>\n",
              "      <td>IR1</td>\n",
              "      <td>Lvl</td>\n",
              "      <td>AllPub</td>\n",
              "      <td>...</td>\n",
              "      <td>0</td>\n",
              "      <td>0</td>\n",
              "      <td>NaN</td>\n",
              "      <td>NaN</td>\n",
              "      <td>Gar2</td>\n",
              "      <td>12500</td>\n",
              "      <td>6</td>\n",
              "      <td>2010</td>\n",
              "      <td>WD</td>\n",
              "      <td>Normal</td>\n",
              "    </tr>\n",
              "    <tr>\n",
              "      <th>2</th>\n",
              "      <td>1463</td>\n",
              "      <td>60</td>\n",
              "      <td>RL</td>\n",
              "      <td>74.000</td>\n",
              "      <td>13830</td>\n",
              "      <td>Pave</td>\n",
              "      <td>NaN</td>\n",
              "      <td>IR1</td>\n",
              "      <td>Lvl</td>\n",
              "      <td>AllPub</td>\n",
              "      <td>...</td>\n",
              "      <td>0</td>\n",
              "      <td>0</td>\n",
              "      <td>NaN</td>\n",
              "      <td>MnPrv</td>\n",
              "      <td>NaN</td>\n",
              "      <td>0</td>\n",
              "      <td>3</td>\n",
              "      <td>2010</td>\n",
              "      <td>WD</td>\n",
              "      <td>Normal</td>\n",
              "    </tr>\n",
              "    <tr>\n",
              "      <th>3</th>\n",
              "      <td>1464</td>\n",
              "      <td>60</td>\n",
              "      <td>RL</td>\n",
              "      <td>78.000</td>\n",
              "      <td>9978</td>\n",
              "      <td>Pave</td>\n",
              "      <td>NaN</td>\n",
              "      <td>IR1</td>\n",
              "      <td>Lvl</td>\n",
              "      <td>AllPub</td>\n",
              "      <td>...</td>\n",
              "      <td>0</td>\n",
              "      <td>0</td>\n",
              "      <td>NaN</td>\n",
              "      <td>NaN</td>\n",
              "      <td>NaN</td>\n",
              "      <td>0</td>\n",
              "      <td>6</td>\n",
              "      <td>2010</td>\n",
              "      <td>WD</td>\n",
              "      <td>Normal</td>\n",
              "    </tr>\n",
              "    <tr>\n",
              "      <th>4</th>\n",
              "      <td>1465</td>\n",
              "      <td>120</td>\n",
              "      <td>RL</td>\n",
              "      <td>43.000</td>\n",
              "      <td>5005</td>\n",
              "      <td>Pave</td>\n",
              "      <td>NaN</td>\n",
              "      <td>IR1</td>\n",
              "      <td>HLS</td>\n",
              "      <td>AllPub</td>\n",
              "      <td>...</td>\n",
              "      <td>144</td>\n",
              "      <td>0</td>\n",
              "      <td>NaN</td>\n",
              "      <td>NaN</td>\n",
              "      <td>NaN</td>\n",
              "      <td>0</td>\n",
              "      <td>1</td>\n",
              "      <td>2010</td>\n",
              "      <td>WD</td>\n",
              "      <td>Normal</td>\n",
              "    </tr>\n",
              "  </tbody>\n",
              "</table>\n",
              "<p>5 rows × 80 columns</p>\n",
              "</div>\n",
              "      <button class=\"colab-df-convert\" onclick=\"convertToInteractive('df-14021a42-a96c-46f5-a5f8-bf96a76e1567')\"\n",
              "              title=\"Convert this dataframe to an interactive table.\"\n",
              "              style=\"display:none;\">\n",
              "        \n",
              "  <svg xmlns=\"http://www.w3.org/2000/svg\" height=\"24px\"viewBox=\"0 0 24 24\"\n",
              "       width=\"24px\">\n",
              "    <path d=\"M0 0h24v24H0V0z\" fill=\"none\"/>\n",
              "    <path d=\"M18.56 5.44l.94 2.06.94-2.06 2.06-.94-2.06-.94-.94-2.06-.94 2.06-2.06.94zm-11 1L8.5 8.5l.94-2.06 2.06-.94-2.06-.94L8.5 2.5l-.94 2.06-2.06.94zm10 10l.94 2.06.94-2.06 2.06-.94-2.06-.94-.94-2.06-.94 2.06-2.06.94z\"/><path d=\"M17.41 7.96l-1.37-1.37c-.4-.4-.92-.59-1.43-.59-.52 0-1.04.2-1.43.59L10.3 9.45l-7.72 7.72c-.78.78-.78 2.05 0 2.83L4 21.41c.39.39.9.59 1.41.59.51 0 1.02-.2 1.41-.59l7.78-7.78 2.81-2.81c.8-.78.8-2.07 0-2.86zM5.41 20L4 18.59l7.72-7.72 1.47 1.35L5.41 20z\"/>\n",
              "  </svg>\n",
              "      </button>\n",
              "      \n",
              "  <style>\n",
              "    .colab-df-container {\n",
              "      display:flex;\n",
              "      flex-wrap:wrap;\n",
              "      gap: 12px;\n",
              "    }\n",
              "\n",
              "    .colab-df-convert {\n",
              "      background-color: #E8F0FE;\n",
              "      border: none;\n",
              "      border-radius: 50%;\n",
              "      cursor: pointer;\n",
              "      display: none;\n",
              "      fill: #1967D2;\n",
              "      height: 32px;\n",
              "      padding: 0 0 0 0;\n",
              "      width: 32px;\n",
              "    }\n",
              "\n",
              "    .colab-df-convert:hover {\n",
              "      background-color: #E2EBFA;\n",
              "      box-shadow: 0px 1px 2px rgba(60, 64, 67, 0.3), 0px 1px 3px 1px rgba(60, 64, 67, 0.15);\n",
              "      fill: #174EA6;\n",
              "    }\n",
              "\n",
              "    [theme=dark] .colab-df-convert {\n",
              "      background-color: #3B4455;\n",
              "      fill: #D2E3FC;\n",
              "    }\n",
              "\n",
              "    [theme=dark] .colab-df-convert:hover {\n",
              "      background-color: #434B5C;\n",
              "      box-shadow: 0px 1px 3px 1px rgba(0, 0, 0, 0.15);\n",
              "      filter: drop-shadow(0px 1px 2px rgba(0, 0, 0, 0.3));\n",
              "      fill: #FFFFFF;\n",
              "    }\n",
              "  </style>\n",
              "\n",
              "      <script>\n",
              "        const buttonEl =\n",
              "          document.querySelector('#df-14021a42-a96c-46f5-a5f8-bf96a76e1567 button.colab-df-convert');\n",
              "        buttonEl.style.display =\n",
              "          google.colab.kernel.accessAllowed ? 'block' : 'none';\n",
              "\n",
              "        async function convertToInteractive(key) {\n",
              "          const element = document.querySelector('#df-14021a42-a96c-46f5-a5f8-bf96a76e1567');\n",
              "          const dataTable =\n",
              "            await google.colab.kernel.invokeFunction('convertToInteractive',\n",
              "                                                     [key], {});\n",
              "          if (!dataTable) return;\n",
              "\n",
              "          const docLinkHtml = 'Like what you see? Visit the ' +\n",
              "            '<a target=\"_blank\" href=https://colab.research.google.com/notebooks/data_table.ipynb>data table notebook</a>'\n",
              "            + ' to learn more about interactive tables.';\n",
              "          element.innerHTML = '';\n",
              "          dataTable['output_type'] = 'display_data';\n",
              "          await google.colab.output.renderOutput(dataTable, element);\n",
              "          const docLink = document.createElement('div');\n",
              "          docLink.innerHTML = docLinkHtml;\n",
              "          element.appendChild(docLink);\n",
              "        }\n",
              "      </script>\n",
              "    </div>\n",
              "  </div>\n",
              "  "
            ]
          },
          "metadata": {},
          "execution_count": 116
        }
      ]
    },
    {
      "cell_type": "code",
      "source": [
        "# check the numbers of samples and features\n",
        "print(\"The train data size before dropping ID feature is : {}\".format(train.shape))\n",
        "print(\"The test data size before dropping ID feature is : {}\".format(test.shape))\n",
        "\n",
        "train_ID = train['Id']\n",
        "test_ID = test['Id']"
      ],
      "metadata": {
        "colab": {
          "base_uri": "https://localhost:8080/"
        },
        "id": "QFbNFWBg32K8",
        "outputId": "c4f7ef64-0d66-4bef-8d6f-3722b48ed3b0"
      },
      "execution_count": null,
      "outputs": [
        {
          "output_type": "stream",
          "name": "stdout",
          "text": [
            "The train data size before dropping ID feature is : (1460, 81)\n",
            "The test data size before dropping ID feature is : (1459, 80)\n"
          ]
        }
      ]
    },
    {
      "cell_type": "code",
      "source": [
        "train.drop(\"Id\", axis=1, inplace=True)\n",
        "test.drop(\"Id\", axis=1, inplace=True)\n",
        "\n",
        "# check again the data size after dropping the \"Id\" variable\n",
        "print(\"The train data size after dropping ID feature is : {}\".format(train.shape))\n",
        "print(\"The test data size after dropping ID feature is : {}\".format(test.shape))"
      ],
      "metadata": {
        "colab": {
          "base_uri": "https://localhost:8080/"
        },
        "id": "jAV4Ca_--220",
        "outputId": "b897ec29-b839-4cd4-afc2-636941671363"
      },
      "execution_count": null,
      "outputs": [
        {
          "output_type": "stream",
          "name": "stdout",
          "text": [
            "The train data size after dropping ID feature is : (1460, 80)\n",
            "The test data size after dropping ID feature is : (1459, 79)\n"
          ]
        }
      ]
    },
    {
      "cell_type": "markdown",
      "source": [
        "### 2. 데이터 전처리\n",
        "### 2-1. Outliers\n",
        "- x축을 GrLivArea, y축을 SalePrice로 하는 산점도를 그린다. 오른쪽 아래에 GrLivArea는 크지만 SalePrice는 작은 2개의 점이 보인다. \n",
        "- 이 2개의 점은 이상치로 판단되므로 두 점을 제거한다."
      ],
      "metadata": {
        "id": "agheHwtE_I-u"
      }
    },
    {
      "cell_type": "code",
      "source": [
        "fig, ax = plt.subplots()\n",
        "ax.scatter(x=train['GrLivArea'], y=train['SalePrice'])\n",
        "plt.ylabel(\"SalePrice\", fontsize=13)\n",
        "plt.xlabel(\"GrLivArea\", fontsize=13)\n",
        "plt.show()"
      ],
      "metadata": {
        "colab": {
          "base_uri": "https://localhost:8080/",
          "height": 282
        },
        "id": "AWlvbzqE_Nq8",
        "outputId": "2445b930-81b6-4343-cad4-5b2a795d9dcc"
      },
      "execution_count": null,
      "outputs": [
        {
          "output_type": "display_data",
          "data": {
            "text/plain": [
              "<Figure size 432x288 with 1 Axes>"
            ],
            "image/png": "[encoded data removed]"
          },
          "metadata": {}
        }
      ]
    },
    {
      "cell_type": "code",
      "source": [
        "train = train.drop( train[ (train['GrLivArea']>4000)&(train['SalePrice']<300000) ].index )\n",
        "\n",
        "# 그림을 다시 그려서 이상치가 잘 제거되었는지 확인\n",
        "fig, ax = plt.subplots()\n",
        "ax.scatter(x=train['GrLivArea'], y=train['SalePrice'])\n",
        "plt.ylabel(\"SalePrice\", fontsize=13)\n",
        "plt.xlabel(\"GrLivArea\", fontsize=13)\n",
        "plt.show()"
      ],
      "metadata": {
        "colab": {
          "base_uri": "https://localhost:8080/",
          "height": 282
        },
        "id": "1YoIjzYp_dfj",
        "outputId": "bb2d27e9-75d9-4207-efb3-8ce498f43cf6"
      },
      "execution_count": null,
      "outputs": [
        {
          "output_type": "display_data",
          "data": {
            "text/plain": [
              "<Figure size 432x288 with 1 Axes>"
            ],
            "image/png": "[encoded data removed]"
          },
          "metadata": {}
        }
      ]
    },
    {
      "cell_type": "markdown",
      "source": [
        "### 2. 데이터 전처리\n",
        "### 2-2. Target Variable\n",
        "- SalePrice 변수는 최종적인 예측 변수로, 제일 먼저 이 변수에 대해 분석해본다.\n",
        "- **`sns.distplot`**에 **`fit=norm`**을 지정하면 그래프에 정규분포 곡선을 추가할 수 있다.\n",
        "- 히스토그램 결과 SalePrice 변수가 오른쪽으로 치우쳐져 있음을 알 수 있다. 같이 그린 정규분포의 곡선과도 차이가 많아 보인다.\n",
        "- QQplot도 직선에서 많이 벗어나있으므로 정규성을 만족한다고 보기 어렵다.\n",
        "- 선형 모델은 정규분포를 따르는 변수를 선호하므로, SalePrice가 정규분포를 따르도록 변환한다."
      ],
      "metadata": {
        "id": "zYweHarLAPnB"
      }
    },
    {
      "cell_type": "code",
      "source": [
        "sns.distplot(train['SalePrice'], fit=norm)\n",
        "\n",
        "# Get the fitted parameters used by the function\n",
        "(mu, sigma) = norm.fit(train['SalePrice'])\n",
        "print(\"\\n mu = {:.2f} and sigma = {:.2f}\\n\".format(mu, sigma))\n",
        "\n",
        "plt.legend([\"Normal dist. ($\\mu=$ {:.2f} and $\\sigma=$ {:.2f})\".format(mu, sigma)], loc='best')\n",
        "plt.ylabel(\"Frequency\")\n",
        "plt.title(\"SalePrice distribution\")\n",
        "plt.show()"
      ],
      "metadata": {
        "colab": {
          "base_uri": "https://localhost:8080/",
          "height": 347
        },
        "id": "rxnH8eZ8AIsU",
        "outputId": "cacc26a4-f431-472d-c12c-b82bdda08ac6"
      },
      "execution_count": null,
      "outputs": [
        {
          "output_type": "stream",
          "name": "stdout",
          "text": [
            "\n",
            " mu = 180932.92 and sigma = 79467.79\n",
            "\n"
          ]
        },
        {
          "output_type": "display_data",
          "data": {
            "text/plain": [
              "<Figure size 432x288 with 1 Axes>"
            ],
            "image/png": "[encoded data removed]"
          },
          "metadata": {}
        }
      ]
    },
    {
      "cell_type": "code",
      "source": [
        "# QQplot\n",
        "fig = plt.figure()\n",
        "res = stats.probplot(train['SalePrice'], plot=plt)\n",
        "plt.show()"
      ],
      "metadata": {
        "colab": {
          "base_uri": "https://localhost:8080/",
          "height": 295
        },
        "id": "jMXr7WadBOrA",
        "outputId": "29065f8f-b4ac-4263-82a8-018d33c854e8"
      },
      "execution_count": null,
      "outputs": [
        {
          "output_type": "display_data",
          "data": {
            "text/plain": [
              "<Figure size 432x288 with 1 Axes>"
            ],
            "image/png": "[encoded data removed]"
          },
          "metadata": {}
        }
      ]
    },
    {
      "cell_type": "markdown",
      "source": [
        "### 2. 데이터 전처리\n",
        "### 2-2. Target Variable\n",
        "- SalePrice에 **`np.log1p( )`**를 이용하여 로그 변환을 취한다. \n",
        "- 마찬가지로 히스토그램과 분포 곡선을 그려보면 로그 변환 후 정규분포 곡선과 매우 유사하게 나타나는 것을 확인할 수 있다.\n",
        "- QQplot도 비교적 직선에 가까워졌으므로 로그 변환 후 정규성을 만족한다고 볼 수 있다."
      ],
      "metadata": {
        "id": "ZITyH_blDoK8"
      }
    },
    {
      "cell_type": "code",
      "source": [
        "# 로그 변환\n",
        "train['SalePrice'] = np.log1p(train['SalePrice'])\n",
        "\n",
        "sns.distplot(train['SalePrice'], fit=norm)\n",
        "(mu, sigma) = norm.fit(train['SalePrice'])\n",
        "print(\"\\n mu = {:.2f} and sigma = {:.2f}\\n\".format(mu, sigma))\n",
        "\n",
        "plt.legend([\"Normal dist. ($\\mu=$ {:.2f} and $\\sigma=$ {:.2f})\".format(mu, sigma)], loc='best')\n",
        "plt.ylabel(\"Frequency\")\n",
        "plt.title(\"SalePrice distribution\")\n",
        "\n",
        "fig = plt.figure()\n",
        "res = stats.probplot(train['SalePrice'], plot=plt)\n",
        "plt.show()"
      ],
      "metadata": {
        "colab": {
          "base_uri": "https://localhost:8080/",
          "height": 625
        },
        "id": "9KH4Ur2ODrnE",
        "outputId": "2f5d5292-2a99-4802-a08e-c03ebb269092"
      },
      "execution_count": null,
      "outputs": [
        {
          "output_type": "stream",
          "name": "stdout",
          "text": [
            "\n",
            " mu = 12.02 and sigma = 0.40\n",
            "\n"
          ]
        },
        {
          "output_type": "display_data",
          "data": {
            "text/plain": [
              "<Figure size 432x288 with 1 Axes>"
            ],
            "image/png": "[encoded data removed]"
          },
          "metadata": {}
        },
        {
          "output_type": "display_data",
          "data": {
            "text/plain": [
              "<Figure size 432x288 with 1 Axes>"
            ],
            "image/png": "[encoded data removed]"
          },
          "metadata": {}
        }
      ]
    },
    {
      "cell_type": "markdown",
      "source": [
        "### 2. 데이터 전처리\n",
        "### 2-3. Features Engineering\n",
        "- **`pd.concat`**을 이용하여 train data와 test data를 행끼리 붙여 하나의 all_data로 만든다.\n",
        "- 타겟 변수인 SalePrice 칼럼을 삭제하면, 데이터는 총 2917개의 자료와 79개의 칼럼을 갖는다.\n"
      ],
      "metadata": {
        "id": "PKw0AXekFuuj"
      }
    },
    {
      "cell_type": "code",
      "source": [
        "y_train = train.SalePrice.values\n",
        "\n",
        "all_data = pd.concat((train, test)).reset_index(drop=True)\n",
        "all_data.drop(['SalePrice'], axis=1, inplace=True)\n",
        "print(\"all_data size is {}\".format(all_data.shape))"
      ],
      "metadata": {
        "colab": {
          "base_uri": "https://localhost:8080/"
        },
        "id": "cWXV5fNtFymS",
        "outputId": "3fb30746-6473-4891-caa0-7bf0aeee2c5b"
      },
      "execution_count": null,
      "outputs": [
        {
          "output_type": "stream",
          "name": "stdout",
          "text": [
            "all_data size is (2917, 79)\n"
          ]
        }
      ]
    },
    {
      "cell_type": "markdown",
      "source": [
        "### 2. 데이터 전처리\n",
        "### 2-3. Features Engineering\n",
        "### 1) Missing Data\n",
        "- 각 피처별로 결측치의 비율을 구한다.\n",
        "- 비율이 0인 피처를 제외하고 결측치 비율이 높은 순으로 30개를 추출하여 데이터프레임으로 생성한다.\n",
        "- 이 데이터프레임을 이용하여 바그래프를 그려 피처별 결측치 비율을 한눈에 시각화 할 수 있다."
      ],
      "metadata": {
        "id": "OfwoxYDTG1-6"
      }
    },
    {
      "cell_type": "code",
      "source": [
        "# 결측치 비율\n",
        "all_data_na = (all_data.isnull().sum()/len(all_data)) * 100\n",
        "# 결측치 비율이 0인 것을 제외하고 상위 결측치 비율 30개를 내림차순으로 배열\n",
        "all_data_na = all_data_na.drop(all_data_na[all_data_na==0].index).sort_values(ascending=False)[:30]\n",
        "\n",
        "# Series 자료를 DataFrame으로 생성\n",
        "missing_data = pd.DataFrame({\"Missing Ratio\": all_data_na})\n",
        "missing_data.head(20)"
      ],
      "metadata": {
        "colab": {
          "base_uri": "https://localhost:8080/",
          "height": 676
        },
        "id": "rtA4BvzbGIsR",
        "outputId": "c0b7e750-f911-4722-fdc0-75d5e4ce8cb6"
      },
      "execution_count": null,
      "outputs": [
        {
          "output_type": "execute_result",
          "data": {
            "text/plain": [
              "              Missing Ratio\n",
              "PoolQC               99.691\n",
              "MiscFeature          96.400\n",
              "Alley                93.212\n",
              "Fence                80.425\n",
              "FireplaceQu          48.680\n",
              "LotFrontage          16.661\n",
              "GarageFinish          5.451\n",
              "GarageQual            5.451\n",
              "GarageCond            5.451\n",
              "GarageYrBlt           5.451\n",
              "GarageType            5.382\n",
              "BsmtExposure          2.811\n",
              "BsmtCond              2.811\n",
              "BsmtQual              2.777\n",
              "BsmtFinType2          2.743\n",
              "BsmtFinType1          2.708\n",
              "MasVnrType            0.823\n",
              "MasVnrArea            0.788\n",
              "MSZoning              0.137\n",
              "BsmtFullBath          0.069"
            ],
            "text/html": [
              "\n",
              "  <div id=\"df-80073a1c-d9f3-4f24-a136-043c70f2131a\">\n",
              "    <div class=\"colab-df-container\">\n",
              "      <div>\n",
              "<style scoped>\n",
              "    .dataframe tbody tr th:only-of-type {\n",
              "        vertical-align: middle;\n",
              "    }\n",
              "\n",
              "    .dataframe tbody tr th {\n",
              "        vertical-align: top;\n",
              "    }\n",
              "\n",
              "    .dataframe thead th {\n",
              "        text-align: right;\n",
              "    }\n",
              "</style>\n",
              "<table border=\"1\" class=\"dataframe\">\n",
              "  <thead>\n",
              "    <tr style=\"text-align: right;\">\n",
              "      <th></th>\n",
              "      <th>Missing Ratio</th>\n",
              "    </tr>\n",
              "  </thead>\n",
              "  <tbody>\n",
              "    <tr>\n",
              "      <th>PoolQC</th>\n",
              "      <td>99.691</td>\n",
              "    </tr>\n",
              "    <tr>\n",
              "      <th>MiscFeature</th>\n",
              "      <td>96.400</td>\n",
              "    </tr>\n",
              "    <tr>\n",
              "      <th>Alley</th>\n",
              "      <td>93.212</td>\n",
              "    </tr>\n",
              "    <tr>\n",
              "      <th>Fence</th>\n",
              "      <td>80.425</td>\n",
              "    </tr>\n",
              "    <tr>\n",
              "      <th>FireplaceQu</th>\n",
              "      <td>48.680</td>\n",
              "    </tr>\n",
              "    <tr>\n",
              "      <th>LotFrontage</th>\n",
              "      <td>16.661</td>\n",
              "    </tr>\n",
              "    <tr>\n",
              "      <th>GarageFinish</th>\n",
              "      <td>5.451</td>\n",
              "    </tr>\n",
              "    <tr>\n",
              "      <th>GarageQual</th>\n",
              "      <td>5.451</td>\n",
              "    </tr>\n",
              "    <tr>\n",
              "      <th>GarageCond</th>\n",
              "      <td>5.451</td>\n",
              "    </tr>\n",
              "    <tr>\n",
              "      <th>GarageYrBlt</th>\n",
              "      <td>5.451</td>\n",
              "    </tr>\n",
              "    <tr>\n",
              "      <th>GarageType</th>\n",
              "      <td>5.382</td>\n",
              "    </tr>\n",
              "    <tr>\n",
              "      <th>BsmtExposure</th>\n",
              "      <td>2.811</td>\n",
              "    </tr>\n",
              "    <tr>\n",
              "      <th>BsmtCond</th>\n",
              "      <td>2.811</td>\n",
              "    </tr>\n",
              "    <tr>\n",
              "      <th>BsmtQual</th>\n",
              "      <td>2.777</td>\n",
              "    </tr>\n",
              "    <tr>\n",
              "      <th>BsmtFinType2</th>\n",
              "      <td>2.743</td>\n",
              "    </tr>\n",
              "    <tr>\n",
              "      <th>BsmtFinType1</th>\n",
              "      <td>2.708</td>\n",
              "    </tr>\n",
              "    <tr>\n",
              "      <th>MasVnrType</th>\n",
              "      <td>0.823</td>\n",
              "    </tr>\n",
              "    <tr>\n",
              "      <th>MasVnrArea</th>\n",
              "      <td>0.788</td>\n",
              "    </tr>\n",
              "    <tr>\n",
              "      <th>MSZoning</th>\n",
              "      <td>0.137</td>\n",
              "    </tr>\n",
              "    <tr>\n",
              "      <th>BsmtFullBath</th>\n",
              "      <td>0.069</td>\n",
              "    </tr>\n",
              "  </tbody>\n",
              "</table>\n",
              "</div>\n",
              "      <button class=\"colab-df-convert\" onclick=\"convertToInteractive('df-80073a1c-d9f3-4f24-a136-043c70f2131a')\"\n",
              "              title=\"Convert this dataframe to an interactive table.\"\n",
              "              style=\"display:none;\">\n",
              "        \n",
              "  <svg xmlns=\"http://www.w3.org/2000/svg\" height=\"24px\"viewBox=\"0 0 24 24\"\n",
              "       width=\"24px\">\n",
              "    <path d=\"M0 0h24v24H0V0z\" fill=\"none\"/>\n",
              "    <path d=\"M18.56 5.44l.94 2.06.94-2.06 2.06-.94-2.06-.94-.94-2.06-.94 2.06-2.06.94zm-11 1L8.5 8.5l.94-2.06 2.06-.94-2.06-.94L8.5 2.5l-.94 2.06-2.06.94zm10 10l.94 2.06.94-2.06 2.06-.94-2.06-.94-.94-2.06-.94 2.06-2.06.94z\"/><path d=\"M17.41 7.96l-1.37-1.37c-.4-.4-.92-.59-1.43-.59-.52 0-1.04.2-1.43.59L10.3 9.45l-7.72 7.72c-.78.78-.78 2.05 0 2.83L4 21.41c.39.39.9.59 1.41.59.51 0 1.02-.2 1.41-.59l7.78-7.78 2.81-2.81c.8-.78.8-2.07 0-2.86zM5.41 20L4 18.59l7.72-7.72 1.47 1.35L5.41 20z\"/>\n",
              "  </svg>\n",
              "      </button>\n",
              "      \n",
              "  <style>\n",
              "    .colab-df-container {\n",
              "      display:flex;\n",
              "      flex-wrap:wrap;\n",
              "      gap: 12px;\n",
              "    }\n",
              "\n",
              "    .colab-df-convert {\n",
              "      background-color: #E8F0FE;\n",
              "      border: none;\n",
              "      border-radius: 50%;\n",
              "      cursor: pointer;\n",
              "      display: none;\n",
              "      fill: #1967D2;\n",
              "      height: 32px;\n",
              "      padding: 0 0 0 0;\n",
              "      width: 32px;\n",
              "    }\n",
              "\n",
              "    .colab-df-convert:hover {\n",
              "      background-color: #E2EBFA;\n",
              "      box-shadow: 0px 1px 2px rgba(60, 64, 67, 0.3), 0px 1px 3px 1px rgba(60, 64, 67, 0.15);\n",
              "      fill: #174EA6;\n",
              "    }\n",
              "\n",
              "    [theme=dark] .colab-df-convert {\n",
              "      background-color: #3B4455;\n",
              "      fill: #D2E3FC;\n",
              "    }\n",
              "\n",
              "    [theme=dark] .colab-df-convert:hover {\n",
              "      background-color: #434B5C;\n",
              "      box-shadow: 0px 1px 3px 1px rgba(0, 0, 0, 0.15);\n",
              "      filter: drop-shadow(0px 1px 2px rgba(0, 0, 0, 0.3));\n",
              "      fill: #FFFFFF;\n",
              "    }\n",
              "  </style>\n",
              "\n",
              "      <script>\n",
              "        const buttonEl =\n",
              "          document.querySelector('#df-80073a1c-d9f3-4f24-a136-043c70f2131a button.colab-df-convert');\n",
              "        buttonEl.style.display =\n",
              "          google.colab.kernel.accessAllowed ? 'block' : 'none';\n",
              "\n",
              "        async function convertToInteractive(key) {\n",
              "          const element = document.querySelector('#df-80073a1c-d9f3-4f24-a136-043c70f2131a');\n",
              "          const dataTable =\n",
              "            await google.colab.kernel.invokeFunction('convertToInteractive',\n",
              "                                                     [key], {});\n",
              "          if (!dataTable) return;\n",
              "\n",
              "          const docLinkHtml = 'Like what you see? Visit the ' +\n",
              "            '<a target=\"_blank\" href=https://colab.research.google.com/notebooks/data_table.ipynb>data table notebook</a>'\n",
              "            + ' to learn more about interactive tables.';\n",
              "          element.innerHTML = '';\n",
              "          dataTable['output_type'] = 'display_data';\n",
              "          await google.colab.output.renderOutput(dataTable, element);\n",
              "          const docLink = document.createElement('div');\n",
              "          docLink.innerHTML = docLinkHtml;\n",
              "          element.appendChild(docLink);\n",
              "        }\n",
              "      </script>\n",
              "    </div>\n",
              "  </div>\n",
              "  "
            ]
          },
          "metadata": {},
          "execution_count": 125
        }
      ]
    },
    {
      "cell_type": "code",
      "source": [
        "f, ax = plt.subplots(figsize=(12, 10))\n",
        "plt.xticks(rotation='90')\n",
        "sns.barplot(x=all_data_na.index, y=all_data_na)\n",
        "plt.xlabel(\"Features\", fontsize=15)\n",
        "plt.ylabel(\"Percent of missing values\", fontsize=15)\n",
        "plt.title(\"Percent missing data by feature\", fontsize=15)\n",
        "plt.show()"
      ],
      "metadata": {
        "colab": {
          "base_uri": "https://localhost:8080/",
          "height": 690
        },
        "id": "CRX45ffqIoxP",
        "outputId": "1b78fd6e-aeaf-4964-fc31-a08662d2837b"
      },
      "execution_count": null,
      "outputs": [
        {
          "output_type": "display_data",
          "data": {
            "text/plain": [
              "<Figure size 864x720 with 1 Axes>"
            ],
            "image/png": "[encoded data removed]"
          },
          "metadata": {}
        }
      ]
    },
    {
      "cell_type": "markdown",
      "source": [
        "### 2. 데이터 전처리\n",
        "### 2-3. Features Engineering\n",
        "### 2) Data Correlation\n",
        "- train data에 **`corr( )`**을 이용하여 피처간의 상관계수를 구하고, seaborn의 **`heatmap`**으로 시각화한다.\n",
        "- heatmap에 vmax는 오른쪽에 위치한 컬러바의 최댓값을 지정해주는 것, square는 셀을 정사각형으로 출력하는 것이다."
      ],
      "metadata": {
        "id": "innuh2KGKdc4"
      }
    },
    {
      "cell_type": "code",
      "source": [
        "corrmat = train.corr()\n",
        "plt.subplots(figsize=(9, 7))\n",
        "sns.heatmap(corrmat, vmax=0.9, square=True)\n",
        "plt.show()"
      ],
      "metadata": {
        "colab": {
          "base_uri": "https://localhost:8080/",
          "height": 494
        },
        "id": "gY9ietuvIwk5",
        "outputId": "ea9033de-8cf1-4496-fbc1-128d84a7dedc"
      },
      "execution_count": null,
      "outputs": [
        {
          "output_type": "display_data",
          "data": {
            "text/plain": [
              "<Figure size 648x504 with 2 Axes>"
            ],
            "image/png": "[encoded data removed]"
          },
          "metadata": {}
        }
      ]
    },
    {
      "cell_type": "markdown",
      "source": [
        "### 2. 데이터 전처리\n",
        "### 2-3. Features Engineering\n",
        "### 3) Imputing missing values\n",
        "- 결측치 비율이 높은 피처들에 대해 하나하나씩 특성을 고려하여 결측치를 처리한다.\n",
        "- PoolQC : NA 값은 \"No Pool\"을 의미한다. 대부분의 집은 풀장이 없으므로 이상하지 않으며 풀장이 없다는 의미를 유지하여 \"None\"으로 대체한다.\n",
        "- MiscFeature : NA 값은 \"no misc feature\"를 의미하며, \"None\"으로 대체한다.\n",
        "- Alley : NA 값은 \"no alley access\"를 의미하며, \"None\"으로 대체한다.\n",
        "- Fence: NA 값은 \"no fence\"를 의미하며, \"None\"으로 대체한다.\n",
        "- FireplaceQu : Na 값은 \"no fireplace\"를 의미하며, \"None\"으로 대체한다.\n",
        "- LotFrontage : 어떤 street에 연결된 집들은 대부분 면적이 비슷할 가능성이 높기 때문에, 결측치를 neighborhood의 그룹으로 묶어서 LotFrontage의 중앙값으로 대체한다.\n",
        "- GarageType, GarageFinish, GarageQual, GarageCond : 카테고리형 변수이므로 결측치를 \"None\"으로 대체한다.\n",
        "- GarageYrBlt, GarageArea, GarageCars : 숫자형 변수이므로 결측치를 0으로 대체한다.\n",
        "- BsmtQual, BsmtCond, BsmtExposure, BsmtFinType1, BsmtFinType2 : 카테고리형 변수이므로 결측치를 \"None\"으로 대체한다.\n",
        "- BsmtFinSF1, BsmtFinSF2, BsmtUnfSF, TotalBsmtSF, BsmtFullBath, BsmtHalfBath : 숫자형 변수이므로 결측치를 0으로 대체한다.\n",
        "\n"
      ],
      "metadata": {
        "id": "NYUWvhHHLWnR"
      }
    },
    {
      "cell_type": "code",
      "source": [
        "all_data['PoolQC'] = all_data['PoolQC'].fillna(\"None\")\n",
        "all_data['MiscFeature'] = all_data['MiscFeature'].fillna(\"None\")\n",
        "all_data['Alley'] = all_data['Alley'].fillna(\"None\")\n",
        "all_data['Fence'] = all_data['Fence'].fillna(\"None\")\n",
        "all_data['FireplaceQu'] = all_data['FireplaceQu'].fillna(\"None\")"
      ],
      "metadata": {
        "id": "ibfsjQ7rK7-k"
      },
      "execution_count": null,
      "outputs": []
    },
    {
      "cell_type": "code",
      "source": [
        "all_data['LotFrontage'] = all_data.groupby('Neighborhood')['LotFrontage'].transform(lambda x: x.fillna(x.median()))"
      ],
      "metadata": {
        "id": "Gs8QMi3UPkaI"
      },
      "execution_count": null,
      "outputs": []
    },
    {
      "cell_type": "code",
      "source": [
        "for col in ('GarageType', 'GarageFinish', 'GarageQual', 'GarageCond'):\n",
        "    all_data[col] = all_data[col].fillna(\"None\")\n",
        "\n",
        "for col in ('GarageYrBlt', 'GarageArea', 'GarageCars'):\n",
        "    all_data[col] = all_data[col].fillna(0)\n",
        "\n",
        "for col in ('BsmtQual', 'BsmtCond', 'BsmtExposure', 'BsmtFinType1', 'BsmtFinType2'):\n",
        "    all_data[col] = all_data[col].fillna(\"None\")\n",
        "\n",
        "for col in ('BsmtFinSF1', 'BsmtFinSF2', 'BsmtUnfSF', 'TotalBsmtSF', 'BsmtFullBath', 'BsmtHalfBath'):\n",
        "    all_data[col] = all_data[col].fillna(0)"
      ],
      "metadata": {
        "id": "sZHzPRbwNxzz"
      },
      "execution_count": null,
      "outputs": []
    },
    {
      "cell_type": "markdown",
      "source": [
        "### 2. 데이터 전처리\n",
        "### 2-3. Features Engineering\n",
        "### 3) Imputing missing values\n",
        "- MasVnrType : 카테고리형 변수이므로 결측치를 \"None\"로 대체한다.\n",
        "- MasVnrArea : 숫자형 변수이므로 결측치를 0으로 대체한다.\n",
        "- Utilities : 결측치 2개, 'NoSeWa' 1개를 제외하고 나머지가 모두 \"AllPub\"이다. 'NoSeWa'는 훈련세트에 있어서 모델의 예측에 영향을 주지 않으므로 칼럼을 삭제한다.\n",
        "- Functional : NA 값이 \"typical\"을 의미한다. 결측치를 \"Typ\"로 대체한다.\n",
        "- MSZoning : 'RL'이 2263개로 가장 많으므로, 결측치를 최빈값인 'RL'로 대체한다.\n",
        "- Electrical : 하나의 결측치를 갖는다. 결측치를 최빈값인 'SBrkr'로 대체한다.\n",
        "- KitchenQual : 하나의 결측치를 갖는다. 결측치를 최빈값인 'TA'로 대체한다.\n",
        "- Exterior1st, Exterior2nd : 하나의 결측치를 갖는다. 결측치를 각각의 최빈값으로 대체한다.\n",
        "- SaleType : 결측치를 최빈값인 'WD'로 대체한다.\n",
        "- MSSubClass : NA 값은 \"no building class\"를 의미한다. 결측치를 \"None\"로 대체한다. \n",
        "- 모든 피처에 대한 결측치 처리를 마치고 결측치가 남아있는지 확인하기 위해 결측치 비율을 구하는 과정을 반복한다.\n",
        "- 데이터프레임의 값이 비어있는 것을 통해 남아있는 결측치가 없다는 것을 확인할 수 있다."
      ],
      "metadata": {
        "id": "EI9dt3MlQcPN"
      }
    },
    {
      "cell_type": "code",
      "source": [
        "all_data['MasVnrType'] = all_data['MasVnrType'].fillna(\"None\")\n",
        "all_data['MasVnrArea'] = all_data['MasVnrArea'].fillna(0)"
      ],
      "metadata": {
        "id": "Mr0IwpJKQ1SH"
      },
      "execution_count": null,
      "outputs": []
    },
    {
      "cell_type": "code",
      "source": [
        "all_data = all_data.drop(['Utilities'], axis=1)"
      ],
      "metadata": {
        "id": "Cg2-u3YaS8qd"
      },
      "execution_count": null,
      "outputs": []
    },
    {
      "cell_type": "code",
      "source": [
        "all_data['Functional'] = all_data['Functional'].fillna(\"Typ\")\n",
        "all_data['MSZoning'] = all_data['MSZoning'].fillna(all_data['MSZoning'].mode()[0])\n",
        "all_data['Electrical'] = all_data['Electrical'].fillna(all_data['Electrical'].mode()[0])\n",
        "all_data['KitchenQual'] = all_data['KitchenQual'].fillna(all_data['KitchenQual'].mode()[0])\n",
        "all_data['Exterior1st'] = all_data['Exterior1st'].fillna(all_data['Exterior1st'].mode()[0])\n",
        "all_data['Exterior2nd'] = all_data['Exterior2nd'].fillna(all_data['Exterior2nd'].mode()[0])\n",
        "all_data['SaleType'] = all_data['SaleType'].fillna(all_data['SaleType'].mode()[0])\n",
        "all_data['MSSubClass'] = all_data['MSSubClass'].fillna(\"None\")"
      ],
      "metadata": {
        "id": "2McqBoMaTBjo"
      },
      "execution_count": null,
      "outputs": []
    },
    {
      "cell_type": "code",
      "source": [
        "all_data_na = (all_data.isnull().sum()/len(all_data)) * 100\n",
        "all_data_na = all_data_na.drop(all_data_na[all_data_na==0].index).sort_values(ascending=False)[:30]\n",
        "missing_data = pd.DataFrame({\"Missing Ratio\": all_data_na})\n",
        "missing_data.head()"
      ],
      "metadata": {
        "colab": {
          "base_uri": "https://localhost:8080/",
          "height": 49
        },
        "id": "BFx7bAOHT-QW",
        "outputId": "d5f1a61e-0f00-4762-ce61-15b48b50396a"
      },
      "execution_count": null,
      "outputs": [
        {
          "output_type": "execute_result",
          "data": {
            "text/plain": [
              "Empty DataFrame\n",
              "Columns: [Missing Ratio]\n",
              "Index: []"
            ],
            "text/html": [
              "\n",
              "  <div id=\"df-1aea90da-2773-4545-b189-bc170862bbba\">\n",
              "    <div class=\"colab-df-container\">\n",
              "      <div>\n",
              "<style scoped>\n",
              "    .dataframe tbody tr th:only-of-type {\n",
              "        vertical-align: middle;\n",
              "    }\n",
              "\n",
              "    .dataframe tbody tr th {\n",
              "        vertical-align: top;\n",
              "    }\n",
              "\n",
              "    .dataframe thead th {\n",
              "        text-align: right;\n",
              "    }\n",
              "</style>\n",
              "<table border=\"1\" class=\"dataframe\">\n",
              "  <thead>\n",
              "    <tr style=\"text-align: right;\">\n",
              "      <th></th>\n",
              "      <th>Missing Ratio</th>\n",
              "    </tr>\n",
              "  </thead>\n",
              "  <tbody>\n",
              "  </tbody>\n",
              "</table>\n",
              "</div>\n",
              "      <button class=\"colab-df-convert\" onclick=\"convertToInteractive('df-1aea90da-2773-4545-b189-bc170862bbba')\"\n",
              "              title=\"Convert this dataframe to an interactive table.\"\n",
              "              style=\"display:none;\">\n",
              "        \n",
              "  <svg xmlns=\"http://www.w3.org/2000/svg\" height=\"24px\"viewBox=\"0 0 24 24\"\n",
              "       width=\"24px\">\n",
              "    <path d=\"M0 0h24v24H0V0z\" fill=\"none\"/>\n",
              "    <path d=\"M18.56 5.44l.94 2.06.94-2.06 2.06-.94-2.06-.94-.94-2.06-.94 2.06-2.06.94zm-11 1L8.5 8.5l.94-2.06 2.06-.94-2.06-.94L8.5 2.5l-.94 2.06-2.06.94zm10 10l.94 2.06.94-2.06 2.06-.94-2.06-.94-.94-2.06-.94 2.06-2.06.94z\"/><path d=\"M17.41 7.96l-1.37-1.37c-.4-.4-.92-.59-1.43-.59-.52 0-1.04.2-1.43.59L10.3 9.45l-7.72 7.72c-.78.78-.78 2.05 0 2.83L4 21.41c.39.39.9.59 1.41.59.51 0 1.02-.2 1.41-.59l7.78-7.78 2.81-2.81c.8-.78.8-2.07 0-2.86zM5.41 20L4 18.59l7.72-7.72 1.47 1.35L5.41 20z\"/>\n",
              "  </svg>\n",
              "      </button>\n",
              "      \n",
              "  <style>\n",
              "    .colab-df-container {\n",
              "      display:flex;\n",
              "      flex-wrap:wrap;\n",
              "      gap: 12px;\n",
              "    }\n",
              "\n",
              "    .colab-df-convert {\n",
              "      background-color: #E8F0FE;\n",
              "      border: none;\n",
              "      border-radius: 50%;\n",
              "      cursor: pointer;\n",
              "      display: none;\n",
              "      fill: #1967D2;\n",
              "      height: 32px;\n",
              "      padding: 0 0 0 0;\n",
              "      width: 32px;\n",
              "    }\n",
              "\n",
              "    .colab-df-convert:hover {\n",
              "      background-color: #E2EBFA;\n",
              "      box-shadow: 0px 1px 2px rgba(60, 64, 67, 0.3), 0px 1px 3px 1px rgba(60, 64, 67, 0.15);\n",
              "      fill: #174EA6;\n",
              "    }\n",
              "\n",
              "    [theme=dark] .colab-df-convert {\n",
              "      background-color: #3B4455;\n",
              "      fill: #D2E3FC;\n",
              "    }\n",
              "\n",
              "    [theme=dark] .colab-df-convert:hover {\n",
              "      background-color: #434B5C;\n",
              "      box-shadow: 0px 1px 3px 1px rgba(0, 0, 0, 0.15);\n",
              "      filter: drop-shadow(0px 1px 2px rgba(0, 0, 0, 0.3));\n",
              "      fill: #FFFFFF;\n",
              "    }\n",
              "  </style>\n",
              "\n",
              "      <script>\n",
              "        const buttonEl =\n",
              "          document.querySelector('#df-1aea90da-2773-4545-b189-bc170862bbba button.colab-df-convert');\n",
              "        buttonEl.style.display =\n",
              "          google.colab.kernel.accessAllowed ? 'block' : 'none';\n",
              "\n",
              "        async function convertToInteractive(key) {\n",
              "          const element = document.querySelector('#df-1aea90da-2773-4545-b189-bc170862bbba');\n",
              "          const dataTable =\n",
              "            await google.colab.kernel.invokeFunction('convertToInteractive',\n",
              "                                                     [key], {});\n",
              "          if (!dataTable) return;\n",
              "\n",
              "          const docLinkHtml = 'Like what you see? Visit the ' +\n",
              "            '<a target=\"_blank\" href=https://colab.research.google.com/notebooks/data_table.ipynb>data table notebook</a>'\n",
              "            + ' to learn more about interactive tables.';\n",
              "          element.innerHTML = '';\n",
              "          dataTable['output_type'] = 'display_data';\n",
              "          await google.colab.output.renderOutput(dataTable, element);\n",
              "          const docLink = document.createElement('div');\n",
              "          docLink.innerHTML = docLinkHtml;\n",
              "          element.appendChild(docLink);\n",
              "        }\n",
              "      </script>\n",
              "    </div>\n",
              "  </div>\n",
              "  "
            ]
          },
          "metadata": {},
          "execution_count": 134
        }
      ]
    },
    {
      "cell_type": "markdown",
      "source": [
        "### 2. 데이터 전처리\n",
        "### 2-4. More Features Engineering\n",
        "### 1) Transforming some numerical variables that are really categorical\n",
        "- MSSubClass, OverallCond, YrSold, MoSold는 숫자형 변수지만 실제 피처의 값이 카테고리의 범주를 의미하는 칼럼이다.\n",
        "- 이 피처들에 형변환을 적용하여 문자형으로 변환한다."
      ],
      "metadata": {
        "id": "AsCPp2vMUVlv"
      }
    },
    {
      "cell_type": "code",
      "source": [
        "all_data['MSSubClass'] = all_data['MSSubClass'].apply(str)\n",
        "all_data['OverallCond'] = all_data['OverallCond'].apply(str)\n",
        "all_data['YrSold'] = all_data['YrSold'].apply(str)\n",
        "all_data['MoSold'] = all_data['MoSold'].apply(str)"
      ],
      "metadata": {
        "id": "6ZUQo3eHYUEh"
      },
      "execution_count": null,
      "outputs": []
    },
    {
      "cell_type": "markdown",
      "source": [
        "### 2. 데이터 전처리\n",
        "### 2-4. More Features Engineering\n",
        "### 2) Label Encoding some categorical variables that may contain information in their ordering set\n",
        "- 몇개의 카테고리형 변수에 대해 사이킷런의 **`LabelEncoder`**를 이용하여 Label Encoding을 진행한다."
      ],
      "metadata": {
        "id": "ejX6Ak1hYsjg"
      }
    },
    {
      "cell_type": "code",
      "source": [
        "cols = ('FireplaceQu', 'BsmtQual', 'BsmtCond', 'GarageQual', 'GarageCond', \n",
        "        'ExterQual', 'ExterCond','HeatingQC', 'PoolQC', 'KitchenQual', 'BsmtFinType1', \n",
        "        'BsmtFinType2', 'Functional', 'Fence', 'BsmtExposure', 'GarageFinish', 'LandSlope',\n",
        "        'LotShape', 'PavedDrive', 'Street', 'Alley', 'CentralAir', 'MSSubClass', 'OverallCond', \n",
        "        'YrSold', 'MoSold')\n",
        "\n",
        "from sklearn.preprocessing import LabelEncoder\n",
        "for c in cols:\n",
        "    lbl = LabelEncoder()\n",
        "    lbl.fit(list(all_data[c].values))\n",
        "    all_data[c] = lbl.transform(list(all_data[c].values))\n",
        "\n",
        "print(\"Shape all_data : {}\".format(all_data.shape))"
      ],
      "metadata": {
        "colab": {
          "base_uri": "https://localhost:8080/"
        },
        "id": "EO73rETZYqK9",
        "outputId": "84c71700-5e26-4c41-ba9c-872e137c3da7"
      },
      "execution_count": null,
      "outputs": [
        {
          "output_type": "stream",
          "name": "stdout",
          "text": [
            "Shape all_data : (2917, 78)\n"
          ]
        }
      ]
    },
    {
      "cell_type": "markdown",
      "source": [
        "### 2. 데이터 전처리\n",
        "### 2-4. More Features Engineering\n",
        "### 3) Adding one more important feature\n",
        "- 면적과 관련된 피처들은 집의 가격을 결정하는데 매우 중요하다.\n",
        "- 따라서 집의 베이스 땅의 면적과 1층, 2층의 면적을 모두 더하여 **총 면적**을 나타내는 새로운 피처를 생성한다."
      ],
      "metadata": {
        "id": "Tc2suzKjZnGG"
      }
    },
    {
      "cell_type": "code",
      "source": [
        "all_data['TotalSF'] = all_data['TotalBsmtSF'] + all_data['1stFlrSF'] + all_data['2ndFlrSF']"
      ],
      "metadata": {
        "id": "LO5xrlNnaB8y"
      },
      "execution_count": null,
      "outputs": []
    },
    {
      "cell_type": "markdown",
      "source": [
        "### 2. 데이터 전처리\n",
        "### 2-4. More Features Engineering\n",
        "### 4) Skewed features\n",
        "- 모든 숫자형 변수에 대해 피처에 대하여 **`skew`**를 이용하여 왜곡된 정도를 구한다.\n",
        "- 왜곡 정도를 내림차순으로 정렬하여 새로운 DataFrame을 생성한다."
      ],
      "metadata": {
        "id": "Ah7jp1vuaCDv"
      }
    },
    {
      "cell_type": "code",
      "source": [
        "numeric_feats = all_data.dtypes[all_data.dtypes != \"object\"].index\n",
        "\n",
        "skewed_feats = all_data[numeric_feats].apply(lambda x: skew(x.dropna())).sort_values(ascending=False)\n",
        "print(\"Skew in numerical features: \\n\")\n",
        "skewness = pd.DataFrame({\"skew\": skewed_feats})\n",
        "skewness.head(10)"
      ],
      "metadata": {
        "colab": {
          "base_uri": "https://localhost:8080/",
          "height": 398
        },
        "id": "7oHqinsLZW_r",
        "outputId": "8b88f4cf-ec55-49d6-dc67-9c58ab962b59"
      },
      "execution_count": null,
      "outputs": [
        {
          "output_type": "stream",
          "name": "stdout",
          "text": [
            "Skew in numerical features: \n",
            "\n"
          ]
        },
        {
          "output_type": "execute_result",
          "data": {
            "text/plain": [
              "                skew\n",
              "MiscVal       21.940\n",
              "PoolArea      17.689\n",
              "LotArea       13.109\n",
              "LowQualFinSF  12.085\n",
              "3SsnPorch     11.372\n",
              "LandSlope      4.973\n",
              "KitchenAbvGr   4.301\n",
              "BsmtFinSF2     4.145\n",
              "EnclosedPorch  4.002\n",
              "ScreenPorch    3.945"
            ],
            "text/html": [
              "\n",
              "  <div id=\"df-9c8738e4-e38b-4bb4-948a-6d5504f8c98c\">\n",
              "    <div class=\"colab-df-container\">\n",
              "      <div>\n",
              "<style scoped>\n",
              "    .dataframe tbody tr th:only-of-type {\n",
              "        vertical-align: middle;\n",
              "    }\n",
              "\n",
              "    .dataframe tbody tr th {\n",
              "        vertical-align: top;\n",
              "    }\n",
              "\n",
              "    .dataframe thead th {\n",
              "        text-align: right;\n",
              "    }\n",
              "</style>\n",
              "<table border=\"1\" class=\"dataframe\">\n",
              "  <thead>\n",
              "    <tr style=\"text-align: right;\">\n",
              "      <th></th>\n",
              "      <th>skew</th>\n",
              "    </tr>\n",
              "  </thead>\n",
              "  <tbody>\n",
              "    <tr>\n",
              "      <th>MiscVal</th>\n",
              "      <td>21.940</td>\n",
              "    </tr>\n",
              "    <tr>\n",
              "      <th>PoolArea</th>\n",
              "      <td>17.689</td>\n",
              "    </tr>\n",
              "    <tr>\n",
              "      <th>LotArea</th>\n",
              "      <td>13.109</td>\n",
              "    </tr>\n",
              "    <tr>\n",
              "      <th>LowQualFinSF</th>\n",
              "      <td>12.085</td>\n",
              "    </tr>\n",
              "    <tr>\n",
              "      <th>3SsnPorch</th>\n",
              "      <td>11.372</td>\n",
              "    </tr>\n",
              "    <tr>\n",
              "      <th>LandSlope</th>\n",
              "      <td>4.973</td>\n",
              "    </tr>\n",
              "    <tr>\n",
              "      <th>KitchenAbvGr</th>\n",
              "      <td>4.301</td>\n",
              "    </tr>\n",
              "    <tr>\n",
              "      <th>BsmtFinSF2</th>\n",
              "      <td>4.145</td>\n",
              "    </tr>\n",
              "    <tr>\n",
              "      <th>EnclosedPorch</th>\n",
              "      <td>4.002</td>\n",
              "    </tr>\n",
              "    <tr>\n",
              "      <th>ScreenPorch</th>\n",
              "      <td>3.945</td>\n",
              "    </tr>\n",
              "  </tbody>\n",
              "</table>\n",
              "</div>\n",
              "      <button class=\"colab-df-convert\" onclick=\"convertToInteractive('df-9c8738e4-e38b-4bb4-948a-6d5504f8c98c')\"\n",
              "              title=\"Convert this dataframe to an interactive table.\"\n",
              "              style=\"display:none;\">\n",
              "        \n",
              "  <svg xmlns=\"http://www.w3.org/2000/svg\" height=\"24px\"viewBox=\"0 0 24 24\"\n",
              "       width=\"24px\">\n",
              "    <path d=\"M0 0h24v24H0V0z\" fill=\"none\"/>\n",
              "    <path d=\"M18.56 5.44l.94 2.06.94-2.06 2.06-.94-2.06-.94-.94-2.06-.94 2.06-2.06.94zm-11 1L8.5 8.5l.94-2.06 2.06-.94-2.06-.94L8.5 2.5l-.94 2.06-2.06.94zm10 10l.94 2.06.94-2.06 2.06-.94-2.06-.94-.94-2.06-.94 2.06-2.06.94z\"/><path d=\"M17.41 7.96l-1.37-1.37c-.4-.4-.92-.59-1.43-.59-.52 0-1.04.2-1.43.59L10.3 9.45l-7.72 7.72c-.78.78-.78 2.05 0 2.83L4 21.41c.39.39.9.59 1.41.59.51 0 1.02-.2 1.41-.59l7.78-7.78 2.81-2.81c.8-.78.8-2.07 0-2.86zM5.41 20L4 18.59l7.72-7.72 1.47 1.35L5.41 20z\"/>\n",
              "  </svg>\n",
              "      </button>\n",
              "      \n",
              "  <style>\n",
              "    .colab-df-container {\n",
              "      display:flex;\n",
              "      flex-wrap:wrap;\n",
              "      gap: 12px;\n",
              "    }\n",
              "\n",
              "    .colab-df-convert {\n",
              "      background-color: #E8F0FE;\n",
              "      border: none;\n",
              "      border-radius: 50%;\n",
              "      cursor: pointer;\n",
              "      display: none;\n",
              "      fill: #1967D2;\n",
              "      height: 32px;\n",
              "      padding: 0 0 0 0;\n",
              "      width: 32px;\n",
              "    }\n",
              "\n",
              "    .colab-df-convert:hover {\n",
              "      background-color: #E2EBFA;\n",
              "      box-shadow: 0px 1px 2px rgba(60, 64, 67, 0.3), 0px 1px 3px 1px rgba(60, 64, 67, 0.15);\n",
              "      fill: #174EA6;\n",
              "    }\n",
              "\n",
              "    [theme=dark] .colab-df-convert {\n",
              "      background-color: #3B4455;\n",
              "      fill: #D2E3FC;\n",
              "    }\n",
              "\n",
              "    [theme=dark] .colab-df-convert:hover {\n",
              "      background-color: #434B5C;\n",
              "      box-shadow: 0px 1px 3px 1px rgba(0, 0, 0, 0.15);\n",
              "      filter: drop-shadow(0px 1px 2px rgba(0, 0, 0, 0.3));\n",
              "      fill: #FFFFFF;\n",
              "    }\n",
              "  </style>\n",
              "\n",
              "      <script>\n",
              "        const buttonEl =\n",
              "          document.querySelector('#df-9c8738e4-e38b-4bb4-948a-6d5504f8c98c button.colab-df-convert');\n",
              "        buttonEl.style.display =\n",
              "          google.colab.kernel.accessAllowed ? 'block' : 'none';\n",
              "\n",
              "        async function convertToInteractive(key) {\n",
              "          const element = document.querySelector('#df-9c8738e4-e38b-4bb4-948a-6d5504f8c98c');\n",
              "          const dataTable =\n",
              "            await google.colab.kernel.invokeFunction('convertToInteractive',\n",
              "                                                     [key], {});\n",
              "          if (!dataTable) return;\n",
              "\n",
              "          const docLinkHtml = 'Like what you see? Visit the ' +\n",
              "            '<a target=\"_blank\" href=https://colab.research.google.com/notebooks/data_table.ipynb>data table notebook</a>'\n",
              "            + ' to learn more about interactive tables.';\n",
              "          element.innerHTML = '';\n",
              "          dataTable['output_type'] = 'display_data';\n",
              "          await google.colab.output.renderOutput(dataTable, element);\n",
              "          const docLink = document.createElement('div');\n",
              "          docLink.innerHTML = docLinkHtml;\n",
              "          element.appendChild(docLink);\n",
              "        }\n",
              "      </script>\n",
              "    </div>\n",
              "  </div>\n",
              "  "
            ]
          },
          "metadata": {},
          "execution_count": 138
        }
      ]
    },
    {
      "cell_type": "markdown",
      "source": [
        "### 2. 데이터 전처리\n",
        "### 2-4. More Features Engineering\n",
        "### 5) Box-Cox Transformation of (highly) skewed features\n",
        "- **`scipy.special`**의 **`boxcox1p`**를 이용하여 the Box-Cox transformation of $1+x$를 구할 수 있다. \n",
        "- 이때 $λ=0$로 설정한다면 타겟 변수에 log1p를 사용하는 것과 동일하다.\n",
        "- 앞서 구한 왜곡 정도의 절대값이 0.75 이상인 피처를 구하면 59개로, 이 피처에 대해 Box-Cox Transformation을 수행한다.\n",
        "- $λ$ 값을 0.15로 설정하고, boxcox1p를 적용한다."
      ],
      "metadata": {
        "id": "zrMhOKEmbY1x"
      }
    },
    {
      "cell_type": "code",
      "source": [
        "skewness = skewness[abs(skewness) > 0.75]\n",
        "print(\"There are {} skewed numerical features to Box Cox transform.\".format(skewness.shape[0]))"
      ],
      "metadata": {
        "colab": {
          "base_uri": "https://localhost:8080/"
        },
        "id": "16LolFBFadi6",
        "outputId": "fcace4ec-1de7-4902-88c7-a00f9d3989ec"
      },
      "execution_count": null,
      "outputs": [
        {
          "output_type": "stream",
          "name": "stdout",
          "text": [
            "There are 59 skewed numerical features to Box Cox transform.\n"
          ]
        }
      ]
    },
    {
      "cell_type": "code",
      "source": [
        "from scipy.special import boxcox1p\n",
        "skewed_features = skewness.index\n",
        "lam = 0.15\n",
        "for feat in skewed_features:\n",
        "    all_data[feat] = boxcox1p(all_data[feat], lam)"
      ],
      "metadata": {
        "id": "P_mmdaf9d-Q6"
      },
      "execution_count": null,
      "outputs": []
    },
    {
      "cell_type": "markdown",
      "source": [
        "### 2. 데이터 전처리\n",
        "### 2-4. More Features Engineering\n",
        "### 6) Getting dummy categorical features\n",
        "- 카테고리형 변수에 대해 판다스의 **`get_dummies`**를 적용하여 원핫 인코딩을 수행한다.\n",
        "- 기존에 78개였던 칼럼의 개수가 220개로 증가한다.\n",
        "- 전체 데이터인 all_data를 다시 train data와 test data로 분할한다."
      ],
      "metadata": {
        "id": "VjgmZENBecJX"
      }
    },
    {
      "cell_type": "code",
      "source": [
        "all_data = pd.get_dummies(all_data)\n",
        "all_data.shape"
      ],
      "metadata": {
        "colab": {
          "base_uri": "https://localhost:8080/"
        },
        "id": "HrB_nmhveZgD",
        "outputId": "7213b05a-9bc0-41c7-887c-37dbed720674"
      },
      "execution_count": null,
      "outputs": [
        {
          "output_type": "execute_result",
          "data": {
            "text/plain": [
              "(2917, 220)"
            ]
          },
          "metadata": {},
          "execution_count": 141
        }
      ]
    },
    {
      "cell_type": "code",
      "source": [
        "ntrain = train.shape[0]\n",
        "ntest = test.shape[0]\n",
        "\n",
        "train = all_data[:ntrain]\n",
        "test = all_data[ntrain:]"
      ],
      "metadata": {
        "id": "xuab4XlZesSi"
      },
      "execution_count": null,
      "outputs": []
    },
    {
      "cell_type": "markdown",
      "source": [
        "### 3. 모델링\n",
        "### 3-1. Import Libraries\n",
        "- 모델의 훈련, 학습, 평가를 위해 필요한 라이브러리를 임포트한다."
      ],
      "metadata": {
        "id": "AI1UGsRjfVL3"
      }
    },
    {
      "cell_type": "code",
      "source": [
        "from sklearn.linear_model import ElasticNet, Lasso,  BayesianRidge, LassoLarsIC\n",
        "from sklearn.ensemble import RandomForestRegressor,  GradientBoostingRegressor\n",
        "from sklearn.kernel_ridge import KernelRidge\n",
        "import xgboost as xgb\n",
        "import lightgbm as lgb\n",
        "\n",
        "from sklearn.pipeline import make_pipeline\n",
        "from sklearn.preprocessing import RobustScaler\n",
        "from sklearn.base import BaseEstimator, TransformerMixin, RegressorMixin, clone\n",
        "from sklearn.model_selection import KFold, cross_val_score, train_test_split\n",
        "from sklearn.metrics import mean_squared_error"
      ],
      "metadata": {
        "id": "MDcth2tAfUTZ"
      },
      "execution_count": null,
      "outputs": []
    },
    {
      "cell_type": "markdown",
      "source": [
        "### 3. 모델링\n",
        "### 3-2. Define a cross validation strategy\n",
        "- 사이킷런의 **`cross_val_score`**를 이용하여 교차검증을 수행하기 위한 함수를 정의한다.\n",
        "- 그러나`cross_val_score`에는 셔플의 속성이 없으므로, **`KFold`**를 이용하여 교차검증에 앞서 먼저 데이터 셔플을 수행해야 한다. \n",
        "- **`get_n_splits`**를 적용하면 교차 검증기에서 분할 반복 횟수를 반환한다."
      ],
      "metadata": {
        "id": "suZNDi2gf1gx"
      }
    },
    {
      "cell_type": "code",
      "source": [
        "n_folds = 5\n",
        "\n",
        "def rmsle_cv(model):\n",
        "    kf = KFold(n_folds, shuffle=True, random_state=42).get_n_splits(train.values)\n",
        "    rmse = np.sqrt(-cross_val_score(model, train.values, y_train, scoring=\"neg_mean_squared_error\", cv=kf))\n",
        "    return rmse"
      ],
      "metadata": {
        "id": "oA1A_FnogUfr"
      },
      "execution_count": null,
      "outputs": []
    },
    {
      "cell_type": "markdown",
      "source": [
        "### 3. 모델링\n",
        "### 3-3. Base Models\n",
        "### 1) LASSO Regression\n",
        "- 라쏘 회귀는 이상치에 매우 민감하므로, 모델을 더 강력하게 만들 필요가 있다.\n",
        "- **`RobustScaler`**는 특성들이 같은 스케일을 갖게 되지만 평균대신 중앙값을 사용하여 극단값에 영향을 받지 않으므로, **이상치의 영향을 최소화**할 수 있다.\n",
        "- 따라서 **`make_pipeline`**을 이용하여 파이프라인에 alpha 값이 0.005인 **`Lasso`**와 **`RobustScaler`**를 함께 사용한다.\n",
        "\n",
        "### 2) Elastic Net Regression\n",
        "- 라쏘 회귀와 마찬가지로 파이프라인에 alpha 값이 0.005이고 l1_ratio가 0.9인 **`ElasticNet`**과 **`RobustScaler`**를 함께 사용한다.\n",
        "\n",
        "### 3) Kernel Ridge Regression\n",
        "- alpha값을 0.6, kernel을 'polynomial', degree는 2, coef0은 2.5로 지정한다."
      ],
      "metadata": {
        "id": "wS4ro8v1hwnF"
      }
    },
    {
      "cell_type": "code",
      "source": [
        "lasso = make_pipeline(RobustScaler(), Lasso(alpha=0.005, random_state=1))"
      ],
      "metadata": {
        "id": "6bBr0BYchm4m"
      },
      "execution_count": null,
      "outputs": []
    },
    {
      "cell_type": "code",
      "source": [
        "ENet = make_pipeline(RobustScaler(), ElasticNet(alpha=0.005, l1_ratio=0.9, random_state=3))"
      ],
      "metadata": {
        "id": "w9T5hr2XsADC"
      },
      "execution_count": null,
      "outputs": []
    },
    {
      "cell_type": "code",
      "source": [
        "KRR = KernelRidge(alpha=0.6, kernel='polynomial', degree=2, coef0=2.5)"
      ],
      "metadata": {
        "id": "zewj4edVsIAZ"
      },
      "execution_count": null,
      "outputs": []
    },
    {
      "cell_type": "markdown",
      "source": [
        "### 3. 모델링\n",
        "### 3-3. Base Models\n",
        "### 4) Gradient Boosting Regression\n",
        "- 이상치에 민감한 경우에 **`GradientBoostingRegressor`**의 손실함수 loss에 'huber'를 지정한다.\n",
        "\n",
        "### 5) XGBoost\n",
        "\n",
        "### 6) LightGBM"
      ],
      "metadata": {
        "id": "qHjODdA8sVPx"
      }
    },
    {
      "cell_type": "code",
      "source": [
        "GBoost = GradientBoostingRegressor(n_estimators=3000, learning_rate=0.05, max_depth=4, max_features='sqrt', \n",
        "                                   min_samples_leaf=15, min_samples_split=10, loss='huber', random_state=5)"
      ],
      "metadata": {
        "id": "V85OVNjBsUTa"
      },
      "execution_count": null,
      "outputs": []
    },
    {
      "cell_type": "code",
      "source": [
        "model_xgb = xgb.XGBRegressor(colsample_bytree=0.4603, gamma=0.0468, learning_rate=0.05, max_depth=3, min_child_weight=1.7817,\n",
        "                             n_estimators=2200, reg_alpha=0.4640, reg_lambda=0.8571, subsample=0.5213, silent=1, random_state=7, nthread=-1)"
      ],
      "metadata": {
        "id": "Iv1RsQudtdYk"
      },
      "execution_count": null,
      "outputs": []
    },
    {
      "cell_type": "code",
      "source": [
        "model_lgb = lgb.LGBMRegressor(objective='regression', num_leaves=5, learning_rate=0.05, n_estimators=720, max_bin=55, bagging_function=0.8,\n",
        "                              bagging_freq=5, feature_fraction=0.2319, feature_fraction_seed=9, bagging_seed=9, min_data_in_leaf=6, min_sum_hessian_in_leaf=11)"
      ],
      "metadata": {
        "id": "B-yzWB4jtzLB"
      },
      "execution_count": null,
      "outputs": []
    },
    {
      "cell_type": "markdown",
      "source": [
        "### 3. 모델링\n",
        "### 3-3. Base Models\n",
        "### 7) Base models scores\n",
        "- 앞서 정의한 rmsle_cv 함수를 이용하여 모델을 학습시키고 예측을 진행하여 교차검증 에러를 평가한다."
      ],
      "metadata": {
        "id": "9MCPF3HVuXuY"
      }
    },
    {
      "cell_type": "code",
      "source": [
        "score = rmsle_cv(lasso)\n",
        "print(\"Lasso score: {:.4f} ({:.4f})\".format(score.mean(), score.std()))"
      ],
      "metadata": {
        "colab": {
          "base_uri": "https://localhost:8080/"
        },
        "id": "YMXOjdfYuQQv",
        "outputId": "c7417e8c-3391-4708-903b-c89b9ae70385"
      },
      "execution_count": null,
      "outputs": [
        {
          "output_type": "stream",
          "name": "stdout",
          "text": [
            "Lasso score: 0.1247 (0.0075)\n"
          ]
        }
      ]
    },
    {
      "cell_type": "code",
      "source": [
        "score = rmsle_cv(ENet)\n",
        "print(\"ElasticNet score: {:.4f} ({:.4f})\".format(score.mean(), score.std()))"
      ],
      "metadata": {
        "colab": {
          "base_uri": "https://localhost:8080/"
        },
        "id": "5o7btcWBu0ye",
        "outputId": "15999008-4ffe-4dd2-b9d1-867a240bf457"
      },
      "execution_count": null,
      "outputs": [
        {
          "output_type": "stream",
          "name": "stdout",
          "text": [
            "ElasticNet score: 0.1240 (0.0076)\n"
          ]
        }
      ]
    },
    {
      "cell_type": "code",
      "source": [
        "score = rmsle_cv(KRR)\n",
        "print(\"Kernel Ridge score: {:.4f} ({:.4f})\".format(score.mean(), score.std()))"
      ],
      "metadata": {
        "colab": {
          "base_uri": "https://localhost:8080/"
        },
        "id": "aHg74GfUvJhB",
        "outputId": "4e451315-e0de-4a2b-cfbf-d7efb90bc51f"
      },
      "execution_count": null,
      "outputs": [
        {
          "output_type": "stream",
          "name": "stdout",
          "text": [
            "Kernel Ridge score: 0.1153 (0.0075)\n"
          ]
        }
      ]
    },
    {
      "cell_type": "code",
      "source": [
        "score = rmsle_cv(GBoost)\n",
        "print(\"Gradient Boosting score: {:.4f} ({:.4f})\".format(score.mean(), score.std()))"
      ],
      "metadata": {
        "colab": {
          "base_uri": "https://localhost:8080/"
        },
        "id": "gpsCSCewvNO5",
        "outputId": "25e0ea78-3b2d-4867-ae1e-6267fc21387a"
      },
      "execution_count": null,
      "outputs": [
        {
          "output_type": "stream",
          "name": "stdout",
          "text": [
            "Gradient Boosting score: 0.1167 (0.0083)\n"
          ]
        }
      ]
    },
    {
      "cell_type": "code",
      "source": [
        "score = rmsle_cv(model_xgb)\n",
        "print(\"XGboost score: {:.4f} ({:.4f})\".format(score.mean(), score.std()))"
      ],
      "metadata": {
        "colab": {
          "base_uri": "https://localhost:8080/"
        },
        "id": "EFcHUFw3Hkz1",
        "outputId": "a92c9f17-de00-4623-8833-f8d32b4b4cc2"
      },
      "execution_count": null,
      "outputs": [
        {
          "output_type": "stream",
          "name": "stdout",
          "text": [
            "XGboost score: 0.1150 (0.0066)\n"
          ]
        }
      ]
    },
    {
      "cell_type": "code",
      "source": [
        "score = rmsle_cv(model_lgb)\n",
        "print(\"LGBM score: {:.4f} ({:.4f})\".format(score.mean(), score.std()))"
      ],
      "metadata": {
        "colab": {
          "base_uri": "https://localhost:8080/"
        },
        "id": "27b2jYtSHk18",
        "outputId": "a1671093-27a5-4c80-df5e-68a491504f95"
      },
      "execution_count": null,
      "outputs": [
        {
          "output_type": "stream",
          "name": "stdout",
          "text": [
            "LGBM score: 0.1172 (0.0069)\n"
          ]
        }
      ]
    },
    {
      "cell_type": "markdown",
      "source": [
        "### 3. 모델링\n",
        "### 3-4. Stacking Models\n",
        "### 1) Simplest Stacking approach : Averaging base models\n",
        "- 기본 모델을 이용하여 학습, 예측하고 평균을 구하는 새로운 클래스 **AveragingModels**를 생성한다.\n",
        "- **ENet, GBoost, KRR, Lasso** 4가지 모델에 대해 클래스를 적용하여 평균을 구한다."
      ],
      "metadata": {
        "id": "ZDPCXOa4H0GY"
      }
    },
    {
      "cell_type": "code",
      "source": [
        "class AveragingModels(BaseEstimator, RegressorMixin, TransformerMixin):\n",
        "    def __init__(self, models):\n",
        "        self.models = models\n",
        "    \n",
        "    # Define clones of the original models to fit the data in\n",
        "    def fit(self, X, y):\n",
        "        self.models_ = [clone(x) for x in self.models]\n",
        "\n",
        "        # Train cloned base models\n",
        "        for model in self.models_:\n",
        "            model.fit(X, y)\n",
        "\n",
        "        return self\n",
        "    \n",
        "    # Do the predictions for cloned models and average them\n",
        "    def predict(self, X):\n",
        "        predictions = np.column_stack([\n",
        "            model.predict(X) for model in self.models_\n",
        "        ])\n",
        "        return np.mean(predictions, axis=1)"
      ],
      "metadata": {
        "id": "5kYtwwDfIl6P"
      },
      "execution_count": null,
      "outputs": []
    },
    {
      "cell_type": "code",
      "source": [
        "averaged_models = AveragingModels(models = (ENet, GBoost, KRR, lasso))\n",
        "score = rmsle_cv(averaged_models)\n",
        "print(\"Averaged base models score: {:.4f} ({:.4f})\".format(score.mean(), score.std()))"
      ],
      "metadata": {
        "colab": {
          "base_uri": "https://localhost:8080/"
        },
        "id": "Oa9hykLlMTev",
        "outputId": "e0552de0-3d42-4ce8-a846-39e94d6c4b4f"
      },
      "execution_count": null,
      "outputs": [
        {
          "output_type": "stream",
          "name": "stdout",
          "text": [
            "Averaged base models score: 0.1124 (0.0077)\n"
          ]
        }
      ]
    },
    {
      "cell_type": "markdown",
      "source": [
        "### 3. 모델링\n",
        "### 3-4. Stacking Models\n",
        "### 2) Less simple Stacking : Adding a Meta-model\n",
        "In this approach, we add a meta-model on averaged base models and use the out-of-folds predictions of these base models to train our meta-model.\n",
        "The procedure, for the training part, may be described as follows:\n",
        "1. Split the total training set into two disjoint sets (here train and .holdout )\n",
        "2. Train several base models on the first part (train)\n",
        "3. Test these base models on the second part (holdout)\n",
        "4. Use the predictions from 3) (called out-of-folds predictions) as the inputs, and the correct responses (target variable) as the outputs to train a higher level learner called meta-model.\n",
        "\n",
        "The first three steps are done iteratively . If we take for example a 5-fold stacking , we first split the training data into 5 folds. Then we will do 5 iterations. In each iteration, we train every base model on 4 folds and predict on the remaining fold (holdout fold).\n",
        "\n",
        "So, we will be sure, after 5 iterations , that the entire data is used to get out-of-folds predictions that we will then use as new feature to train our meta-model in the step 4.\n",
        "\n",
        "For the prediction part , We average the predictions of all base models on the test data and used them as meta-features on which, the final prediction is done with the meta-model.\n",
        "\n",
        "- 새로운 클래스 **StackingAveragedModels**를 생성한다."
      ],
      "metadata": {
        "id": "xOl5q9kLM3x5"
      }
    },
    {
      "cell_type": "code",
      "source": [
        "class StackingAveragedModels(BaseEstimator, RegressorMixin, TransformerMixin):\n",
        "    def __init__(self, base_models, meta_model, n_folds=5):\n",
        "        self.base_models = base_models\n",
        "        self.meta_model = meta_model\n",
        "        self.n_folds = n_folds\n",
        "\n",
        "    # Fit the data on clones of the original models\n",
        "    def fit(self, X, y):\n",
        "        self.base_models = [list() for x in self.base_models]\n",
        "        self.meta_model_ = clone(self.meta_model)\n",
        "        kfold = KFold(n_splits=self.n_folds, shuffle=True, random_state=156)\n",
        "\n",
        "        # Train cloned base models then create out-of-fold predictions\n",
        "        # that are needed to train the cloned meta-model\n",
        "        out_of_fold_predictions = np.zeros(X.shape[0], len(self.base_models))\n",
        "        for i, model in enumerate(self.base_models):\n",
        "            for train_index, holdout_index in kfold.split(X, y):\n",
        "                instance = clone(model)\n",
        "                self.base_models_[i].append(instance)\n",
        "                instance.fit(X[train_index], y[train_index])\n",
        "                y_pred = instance.predict(X[holdout_index])\n",
        "                out_of_fold_predictions[holdout_index, i] = y_pred\n",
        "        \n",
        "        # Train the cloned meta-model using the out-of-fold predictions as new feature\n",
        "        self.meta_model_.fit(out_of_fold_predictions, y)\n",
        "        return self\n",
        "\n",
        "    # Do the predictions of all base models on the test data and use the averaged predictions as meta-features for the final prediction which is done by the meta-model\n",
        "    def predict(self, X):\n",
        "        meta_features = np.column_stack([\n",
        "            np.column_stack([model.predict(X) for model in base_models]).mean(axis=1)\n",
        "            for base_models in self.base_models_        ])\n",
        "        return self.meta_model_.predict(meta_features)"
      ],
      "metadata": {
        "id": "T3-_ILw9Qpr_"
      },
      "execution_count": null,
      "outputs": []
    },
    {
      "cell_type": "code",
      "source": [
        "stacked_averaged_models = StackingAveragedModels(base_models=(ENet, GBoost, KRR), meta_model=lasso)\n",
        "\n",
        "score = rmsle_cv(stacked_averaged_models)\n",
        "print(\"Stacking Averaged models score : {:.4f} ({:.4f})\".format(score.mean(), score.std()))"
      ],
      "metadata": {
        "colab": {
          "base_uri": "https://localhost:8080/"
        },
        "id": "gzMNqROaS_KL",
        "outputId": "5814bf97-8728-43d9-8f38-aa6397612811"
      },
      "execution_count": null,
      "outputs": [
        {
          "output_type": "stream",
          "name": "stdout",
          "text": [
            "Stacking Averaged models score : nan (nan)\n"
          ]
        }
      ]
    },
    {
      "cell_type": "code",
      "source": [
        "class StackingAveragedModels(BaseEstimator, RegressorMixin, TransformerMixin):\n",
        "    def __init__(self, base_models, meta_model, n_folds=5):\n",
        "        self.base_models = base_models\n",
        "        self.meta_model = meta_model\n",
        "        self.n_folds = n_folds\n",
        "   \n",
        "    # We again fit the data on clones of the original models\n",
        "    def fit(self, X, y):\n",
        "        self.base_models_ = [list() for x in self.base_models]\n",
        "        self.meta_model_ = clone(self.meta_model)\n",
        "        kfold = KFold(n_splits=self.n_folds, shuffle=True, random_state=156)\n",
        "        \n",
        "        # Train cloned base models then create out-of-fold predictions\n",
        "        # that are needed to train the cloned meta-model\n",
        "        out_of_fold_predictions = np.zeros((X.shape[0], len(self.base_models)))\n",
        "        for i, model in enumerate(self.base_models):\n",
        "            for train_index, holdout_index in kfold.split(X, y):\n",
        "                instance = clone(model)\n",
        "                self.base_models_[i].append(instance)\n",
        "                instance.fit(X[train_index], y[train_index])\n",
        "                y_pred = instance.predict(X[holdout_index])\n",
        "                out_of_fold_predictions[holdout_index, i] = y_pred\n",
        "                \n",
        "        # Now train the cloned  meta-model using the out-of-fold predictions as new feature\n",
        "        self.meta_model_.fit(out_of_fold_predictions, y)\n",
        "        return self\n",
        "   \n",
        "    #Do the predictions of all base models on the test data and use the averaged predictions as \n",
        "    #meta-features for the final prediction which is done by the meta-model\n",
        "    def predict(self, X):\n",
        "        meta_features = np.column_stack([\n",
        "            np.column_stack([model.predict(X) for model in base_models]).mean(axis=1)\n",
        "            for base_models in self.base_models_ ])\n",
        "        return self.meta_model_.predict(meta_features)"
      ],
      "metadata": {
        "id": "iTHDieEHTmWV"
      },
      "execution_count": null,
      "outputs": []
    },
    {
      "cell_type": "code",
      "source": [
        "stacked_averaged_models = StackingAveragedModels(base_models = (ENet, GBoost, KRR),\n",
        "                                                 meta_model = lasso)\n",
        "\n",
        "score = rmsle_cv(stacked_averaged_models)\n",
        "print(\"Stacking Averaged models score: {:.4f} ({:.4f})\".format(score.mean(), score.std()))"
      ],
      "metadata": {
        "colab": {
          "base_uri": "https://localhost:8080/"
        },
        "id": "9jwgiZisT0Mz",
        "outputId": "165d6d91-504f-43ad-b346-8efe0eb4f937"
      },
      "execution_count": null,
      "outputs": [
        {
          "output_type": "stream",
          "name": "stdout",
          "text": [
            "Stacking Averaged models score: 0.1098 (0.0071)\n"
          ]
        }
      ]
    },
    {
      "cell_type": "markdown",
      "source": [
        "### 3. 모델링\n",
        "### 3-5. Ensembling StackedRegressor, XGBoost and LightGBM\n",
        "- 이전에 정의한 StackedRegressor에 XGBoost와 LightGBM을 추가한다.\n",
        "- RMSE를 평가하는 함수 rmsle를 정의하여 모델 평가에 이용한다.\n"
      ],
      "metadata": {
        "id": "9PhHBaRUUUQU"
      }
    },
    {
      "cell_type": "code",
      "source": [
        "def rmsle(y, y_pred):\n",
        "    return np.sqrt(mean_squared_error(y, y_pred))"
      ],
      "metadata": {
        "id": "qlzSOGDpUk3G"
      },
      "execution_count": null,
      "outputs": []
    },
    {
      "cell_type": "markdown",
      "source": [
        "### 3. 모델링\n",
        "### 3-5. Ensembling StackedRegressor, XGBoost and LightGBM\n",
        "- 먼저 3개의 모델에 대해 각각 train data로 학습 및 예측을 진행한다. train_pred로 저장하고 앞서 정의한 rmsle를 이용해서 평가하여 RMSE를 구한다.\n",
        "- 3개의 모델에 각각 가중치를 곱하여 최종 train data 앙상블 예측값을 구한다. StackedRegressor은 0.70, XGBoost는 0.15, LightGBM은 0.15이다.\n",
        "---\n",
        "- 마찬가지로 test data를 이용하여 예측한 값을 pred로 저장하고, 각 모델에 가중치를 곱하여 최종 test data 앙상블 예측값을 구한다."
      ],
      "metadata": {
        "id": "ltDkfLyvWp2g"
      }
    },
    {
      "cell_type": "code",
      "source": [
        "# StackedRegressor\n",
        "stacked_averaged_models = StackingAveragedModels(base_models = (ENet, GBoost, KRR), meta_model = lasso)\n",
        "stacked_averaged_models.fit(train.values, y_train)\n",
        "stacked_train_pred = stacked_averaged_models.predict(train.values)\n",
        "print(rmsle(y_train, stacked_train_pred))\n",
        "\n",
        "stacked_pred = np.expm1(stacked_averaged_models.predict(test.values))"
      ],
      "metadata": {
        "colab": {
          "base_uri": "https://localhost:8080/"
        },
        "id": "iyrpnO47VC_B",
        "outputId": "5b7471f0-3c2e-42bc-8d62-b1231339acf4"
      },
      "execution_count": null,
      "outputs": [
        {
          "output_type": "stream",
          "name": "stdout",
          "text": [
            "0.07481099320685435\n"
          ]
        }
      ]
    },
    {
      "cell_type": "code",
      "source": [
        "# XGBoost\n",
        "model_xgb.fit(train, y_train)\n",
        "xgb_train_pred = model_xgb.predict(train)\n",
        "print(rmsle(y_train, xgb_train_pred))\n",
        "\n",
        "xgb_pred = np.expm1(model_xgb.predict(test))"
      ],
      "metadata": {
        "colab": {
          "base_uri": "https://localhost:8080/"
        },
        "id": "rLrlEkFqYAfg",
        "outputId": "67fd5542-4c88-441f-9793-37dbce15fabb"
      },
      "execution_count": null,
      "outputs": [
        {
          "output_type": "stream",
          "name": "stdout",
          "text": [
            "0.0788580427618937\n"
          ]
        }
      ]
    },
    {
      "cell_type": "code",
      "source": [
        "# LightGBM\n",
        "model_lgb.fit(train, y_train)\n",
        "lgb_train_pred = model_lgb.predict(train)\n",
        "print(rmsle(y_train, lgb_train_pred))\n",
        "\n",
        "lgb_pred = np.expm1(model_lgb.predict(test.values))"
      ],
      "metadata": {
        "colab": {
          "base_uri": "https://localhost:8080/"
        },
        "id": "LT-29JfnXipb",
        "outputId": "dfd1def0-dd9a-4a64-a968-d41b6f50171f"
      },
      "execution_count": null,
      "outputs": [
        {
          "output_type": "stream",
          "name": "stdout",
          "text": [
            "0.07317036069198961\n"
          ]
        }
      ]
    },
    {
      "cell_type": "code",
      "source": [
        "print(\"RMSLE score on train data:\")\n",
        "print(rmsle(y_train, stacked_train_pred*0.70 + xgb_train_pred*0.15 + lgb_train_pred*0.15))"
      ],
      "metadata": {
        "colab": {
          "base_uri": "https://localhost:8080/"
        },
        "id": "4J7TRdvRXarM",
        "outputId": "269e444d-812f-4b8f-d019-cf71dfcb73d3"
      },
      "execution_count": null,
      "outputs": [
        {
          "output_type": "stream",
          "name": "stdout",
          "text": [
            "RMSLE score on train data:\n",
            "0.07321640116316387\n"
          ]
        }
      ]
    },
    {
      "cell_type": "code",
      "source": [
        "# test data를 이용한 최종 앙상블 예측\n",
        "ensemble = stacked_pred*0.70 + xgb_pred*0.15 + lgb_pred*0.15"
      ],
      "metadata": {
        "id": "yVb4j7y2YntR"
      },
      "execution_count": null,
      "outputs": []
    },
    {
      "cell_type": "markdown",
      "source": [
        "### 4. 최종 결과 제출"
      ],
      "metadata": {
        "id": "EE5Gurw1Ziie"
      }
    },
    {
      "cell_type": "code",
      "source": [
        "submission = pd.read_csv(\"/content/drive/MyDrive/ESAA/data/sample_submission.csv\")\n",
        "submission.head(5)"
      ],
      "metadata": {
        "colab": {
          "base_uri": "https://localhost:8080/",
          "height": 206
        },
        "id": "mUxIPjT6YwcX",
        "outputId": "e96df2b9-daee-4b60-e372-b1d2f2f24abc"
      },
      "execution_count": null,
      "outputs": [
        {
          "output_type": "execute_result",
          "data": {
            "text/plain": [
              "     Id  SalePrice\n",
              "0  1461 169277.052\n",
              "1  1462 187758.394\n",
              "2  1463 183583.684\n",
              "3  1464 179317.478\n",
              "4  1465 150730.080"
            ],
            "text/html": [
              "\n",
              "  <div id=\"df-e9c9a8ea-b093-478e-ad58-b41205e19e5d\">\n",
              "    <div class=\"colab-df-container\">\n",
              "      <div>\n",
              "<style scoped>\n",
              "    .dataframe tbody tr th:only-of-type {\n",
              "        vertical-align: middle;\n",
              "    }\n",
              "\n",
              "    .dataframe tbody tr th {\n",
              "        vertical-align: top;\n",
              "    }\n",
              "\n",
              "    .dataframe thead th {\n",
              "        text-align: right;\n",
              "    }\n",
              "</style>\n",
              "<table border=\"1\" class=\"dataframe\">\n",
              "  <thead>\n",
              "    <tr style=\"text-align: right;\">\n",
              "      <th></th>\n",
              "      <th>Id</th>\n",
              "      <th>SalePrice</th>\n",
              "    </tr>\n",
              "  </thead>\n",
              "  <tbody>\n",
              "    <tr>\n",
              "      <th>0</th>\n",
              "      <td>1461</td>\n",
              "      <td>169277.052</td>\n",
              "    </tr>\n",
              "    <tr>\n",
              "      <th>1</th>\n",
              "      <td>1462</td>\n",
              "      <td>187758.394</td>\n",
              "    </tr>\n",
              "    <tr>\n",
              "      <th>2</th>\n",
              "      <td>1463</td>\n",
              "      <td>183583.684</td>\n",
              "    </tr>\n",
              "    <tr>\n",
              "      <th>3</th>\n",
              "      <td>1464</td>\n",
              "      <td>179317.478</td>\n",
              "    </tr>\n",
              "    <tr>\n",
              "      <th>4</th>\n",
              "      <td>1465</td>\n",
              "      <td>150730.080</td>\n",
              "    </tr>\n",
              "  </tbody>\n",
              "</table>\n",
              "</div>\n",
              "      <button class=\"colab-df-convert\" onclick=\"convertToInteractive('df-e9c9a8ea-b093-478e-ad58-b41205e19e5d')\"\n",
              "              title=\"Convert this dataframe to an interactive table.\"\n",
              "              style=\"display:none;\">\n",
              "        \n",
              "  <svg xmlns=\"http://www.w3.org/2000/svg\" height=\"24px\"viewBox=\"0 0 24 24\"\n",
              "       width=\"24px\">\n",
              "    <path d=\"M0 0h24v24H0V0z\" fill=\"none\"/>\n",
              "    <path d=\"M18.56 5.44l.94 2.06.94-2.06 2.06-.94-2.06-.94-.94-2.06-.94 2.06-2.06.94zm-11 1L8.5 8.5l.94-2.06 2.06-.94-2.06-.94L8.5 2.5l-.94 2.06-2.06.94zm10 10l.94 2.06.94-2.06 2.06-.94-2.06-.94-.94-2.06-.94 2.06-2.06.94z\"/><path d=\"M17.41 7.96l-1.37-1.37c-.4-.4-.92-.59-1.43-.59-.52 0-1.04.2-1.43.59L10.3 9.45l-7.72 7.72c-.78.78-.78 2.05 0 2.83L4 21.41c.39.39.9.59 1.41.59.51 0 1.02-.2 1.41-.59l7.78-7.78 2.81-2.81c.8-.78.8-2.07 0-2.86zM5.41 20L4 18.59l7.72-7.72 1.47 1.35L5.41 20z\"/>\n",
              "  </svg>\n",
              "      </button>\n",
              "      \n",
              "  <style>\n",
              "    .colab-df-container {\n",
              "      display:flex;\n",
              "      flex-wrap:wrap;\n",
              "      gap: 12px;\n",
              "    }\n",
              "\n",
              "    .colab-df-convert {\n",
              "      background-color: #E8F0FE;\n",
              "      border: none;\n",
              "      border-radius: 50%;\n",
              "      cursor: pointer;\n",
              "      display: none;\n",
              "      fill: #1967D2;\n",
              "      height: 32px;\n",
              "      padding: 0 0 0 0;\n",
              "      width: 32px;\n",
              "    }\n",
              "\n",
              "    .colab-df-convert:hover {\n",
              "      background-color: #E2EBFA;\n",
              "      box-shadow: 0px 1px 2px rgba(60, 64, 67, 0.3), 0px 1px 3px 1px rgba(60, 64, 67, 0.15);\n",
              "      fill: #174EA6;\n",
              "    }\n",
              "\n",
              "    [theme=dark] .colab-df-convert {\n",
              "      background-color: #3B4455;\n",
              "      fill: #D2E3FC;\n",
              "    }\n",
              "\n",
              "    [theme=dark] .colab-df-convert:hover {\n",
              "      background-color: #434B5C;\n",
              "      box-shadow: 0px 1px 3px 1px rgba(0, 0, 0, 0.15);\n",
              "      filter: drop-shadow(0px 1px 2px rgba(0, 0, 0, 0.3));\n",
              "      fill: #FFFFFF;\n",
              "    }\n",
              "  </style>\n",
              "\n",
              "      <script>\n",
              "        const buttonEl =\n",
              "          document.querySelector('#df-e9c9a8ea-b093-478e-ad58-b41205e19e5d button.colab-df-convert');\n",
              "        buttonEl.style.display =\n",
              "          google.colab.kernel.accessAllowed ? 'block' : 'none';\n",
              "\n",
              "        async function convertToInteractive(key) {\n",
              "          const element = document.querySelector('#df-e9c9a8ea-b093-478e-ad58-b41205e19e5d');\n",
              "          const dataTable =\n",
              "            await google.colab.kernel.invokeFunction('convertToInteractive',\n",
              "                                                     [key], {});\n",
              "          if (!dataTable) return;\n",
              "\n",
              "          const docLinkHtml = 'Like what you see? Visit the ' +\n",
              "            '<a target=\"_blank\" href=https://colab.research.google.com/notebooks/data_table.ipynb>data table notebook</a>'\n",
              "            + ' to learn more about interactive tables.';\n",
              "          element.innerHTML = '';\n",
              "          dataTable['output_type'] = 'display_data';\n",
              "          await google.colab.output.renderOutput(dataTable, element);\n",
              "          const docLink = document.createElement('div');\n",
              "          docLink.innerHTML = docLinkHtml;\n",
              "          element.appendChild(docLink);\n",
              "        }\n",
              "      </script>\n",
              "    </div>\n",
              "  </div>\n",
              "  "
            ]
          },
          "metadata": {},
          "execution_count": 179
        }
      ]
    },
    {
      "cell_type": "code",
      "source": [
        "submission['SalePrice'] = ensemble\n",
        "submission.head()"
      ],
      "metadata": {
        "colab": {
          "base_uri": "https://localhost:8080/",
          "height": 206
        },
        "id": "VOOuw7rwZofq",
        "outputId": "f457f1f6-a0f1-4144-e198-c9ccd8373696"
      },
      "execution_count": null,
      "outputs": [
        {
          "output_type": "execute_result",
          "data": {
            "text/plain": [
              "     Id  SalePrice\n",
              "0  1461 120308.568\n",
              "1  1462 164049.647\n",
              "2  1463 186961.688\n",
              "3  1464 194745.452\n",
              "4  1465 190473.655"
            ],
            "text/html": [
              "\n",
              "  <div id=\"df-eeac977a-15bf-4729-9f13-233885022870\">\n",
              "    <div class=\"colab-df-container\">\n",
              "      <div>\n",
              "<style scoped>\n",
              "    .dataframe tbody tr th:only-of-type {\n",
              "        vertical-align: middle;\n",
              "    }\n",
              "\n",
              "    .dataframe tbody tr th {\n",
              "        vertical-align: top;\n",
              "    }\n",
              "\n",
              "    .dataframe thead th {\n",
              "        text-align: right;\n",
              "    }\n",
              "</style>\n",
              "<table border=\"1\" class=\"dataframe\">\n",
              "  <thead>\n",
              "    <tr style=\"text-align: right;\">\n",
              "      <th></th>\n",
              "      <th>Id</th>\n",
              "      <th>SalePrice</th>\n",
              "    </tr>\n",
              "  </thead>\n",
              "  <tbody>\n",
              "    <tr>\n",
              "      <th>0</th>\n",
              "      <td>1461</td>\n",
              "      <td>120308.568</td>\n",
              "    </tr>\n",
              "    <tr>\n",
              "      <th>1</th>\n",
              "      <td>1462</td>\n",
              "      <td>164049.647</td>\n",
              "    </tr>\n",
              "    <tr>\n",
              "      <th>2</th>\n",
              "      <td>1463</td>\n",
              "      <td>186961.688</td>\n",
              "    </tr>\n",
              "    <tr>\n",
              "      <th>3</th>\n",
              "      <td>1464</td>\n",
              "      <td>194745.452</td>\n",
              "    </tr>\n",
              "    <tr>\n",
              "      <th>4</th>\n",
              "      <td>1465</td>\n",
              "      <td>190473.655</td>\n",
              "    </tr>\n",
              "  </tbody>\n",
              "</table>\n",
              "</div>\n",
              "      <button class=\"colab-df-convert\" onclick=\"convertToInteractive('df-eeac977a-15bf-4729-9f13-233885022870')\"\n",
              "              title=\"Convert this dataframe to an interactive table.\"\n",
              "              style=\"display:none;\">\n",
              "        \n",
              "  <svg xmlns=\"http://www.w3.org/2000/svg\" height=\"24px\"viewBox=\"0 0 24 24\"\n",
              "       width=\"24px\">\n",
              "    <path d=\"M0 0h24v24H0V0z\" fill=\"none\"/>\n",
              "    <path d=\"M18.56 5.44l.94 2.06.94-2.06 2.06-.94-2.06-.94-.94-2.06-.94 2.06-2.06.94zm-11 1L8.5 8.5l.94-2.06 2.06-.94-2.06-.94L8.5 2.5l-.94 2.06-2.06.94zm10 10l.94 2.06.94-2.06 2.06-.94-2.06-.94-.94-2.06-.94 2.06-2.06.94z\"/><path d=\"M17.41 7.96l-1.37-1.37c-.4-.4-.92-.59-1.43-.59-.52 0-1.04.2-1.43.59L10.3 9.45l-7.72 7.72c-.78.78-.78 2.05 0 2.83L4 21.41c.39.39.9.59 1.41.59.51 0 1.02-.2 1.41-.59l7.78-7.78 2.81-2.81c.8-.78.8-2.07 0-2.86zM5.41 20L4 18.59l7.72-7.72 1.47 1.35L5.41 20z\"/>\n",
              "  </svg>\n",
              "      </button>\n",
              "      \n",
              "  <style>\n",
              "    .colab-df-container {\n",
              "      display:flex;\n",
              "      flex-wrap:wrap;\n",
              "      gap: 12px;\n",
              "    }\n",
              "\n",
              "    .colab-df-convert {\n",
              "      background-color: #E8F0FE;\n",
              "      border: none;\n",
              "      border-radius: 50%;\n",
              "      cursor: pointer;\n",
              "      display: none;\n",
              "      fill: #1967D2;\n",
              "      height: 32px;\n",
              "      padding: 0 0 0 0;\n",
              "      width: 32px;\n",
              "    }\n",
              "\n",
              "    .colab-df-convert:hover {\n",
              "      background-color: #E2EBFA;\n",
              "      box-shadow: 0px 1px 2px rgba(60, 64, 67, 0.3), 0px 1px 3px 1px rgba(60, 64, 67, 0.15);\n",
              "      fill: #174EA6;\n",
              "    }\n",
              "\n",
              "    [theme=dark] .colab-df-convert {\n",
              "      background-color: #3B4455;\n",
              "      fill: #D2E3FC;\n",
              "    }\n",
              "\n",
              "    [theme=dark] .colab-df-convert:hover {\n",
              "      background-color: #434B5C;\n",
              "      box-shadow: 0px 1px 3px 1px rgba(0, 0, 0, 0.15);\n",
              "      filter: drop-shadow(0px 1px 2px rgba(0, 0, 0, 0.3));\n",
              "      fill: #FFFFFF;\n",
              "    }\n",
              "  </style>\n",
              "\n",
              "      <script>\n",
              "        const buttonEl =\n",
              "          document.querySelector('#df-eeac977a-15bf-4729-9f13-233885022870 button.colab-df-convert');\n",
              "        buttonEl.style.display =\n",
              "          google.colab.kernel.accessAllowed ? 'block' : 'none';\n",
              "\n",
              "        async function convertToInteractive(key) {\n",
              "          const element = document.querySelector('#df-eeac977a-15bf-4729-9f13-233885022870');\n",
              "          const dataTable =\n",
              "            await google.colab.kernel.invokeFunction('convertToInteractive',\n",
              "                                                     [key], {});\n",
              "          if (!dataTable) return;\n",
              "\n",
              "          const docLinkHtml = 'Like what you see? Visit the ' +\n",
              "            '<a target=\"_blank\" href=https://colab.research.google.com/notebooks/data_table.ipynb>data table notebook</a>'\n",
              "            + ' to learn more about interactive tables.';\n",
              "          element.innerHTML = '';\n",
              "          dataTable['output_type'] = 'display_data';\n",
              "          await google.colab.output.renderOutput(dataTable, element);\n",
              "          const docLink = document.createElement('div');\n",
              "          docLink.innerHTML = docLinkHtml;\n",
              "          element.appendChild(docLink);\n",
              "        }\n",
              "      </script>\n",
              "    </div>\n",
              "  </div>\n",
              "  "
            ]
          },
          "metadata": {},
          "execution_count": 180
        }
      ]
    }
  ]
}