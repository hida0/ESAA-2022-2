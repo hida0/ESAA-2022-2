{
  "nbformat": 4,
  "nbformat_minor": 0,
  "metadata": {
    "colab": {
      "provenance": [],
      "collapsed_sections": [],
      "mount_file_id": "1UBFKePqjm6OFA7DoFbtPREPXZf4JAtdp",
      "authorship_tag": "ABX9TyPfrYiZqYtLPcaJ04SRSotN",
      "include_colab_link": true
    },
    "kernelspec": {
      "name": "python3",
      "display_name": "Python 3"
    },
    "language_info": {
      "name": "python"
    }
  },
  "cells": [
    {
      "cell_type": "markdown",
      "metadata": {
        "id": "view-in-github",
        "colab_type": "text"
      },
      "source": [
        "<a href=\"https://colab.research.google.com/github/hida0/ESAA-2022-2/blob/HW/Week08_HW1_Sentiment_Analysis.ipynb\" target=\"_parent\"><img src=\"https://colab.research.google.com/assets/colab-badge.svg\" alt=\"Open In Colab\"/></a>"
      ]
    },
    {
      "cell_type": "markdown",
      "source": [
        "### 교재 필사\n",
        "(파이썬 머신러닝 완벽 가이드 ch8. 5 pg. 497~512)"
      ],
      "metadata": {
        "id": "-isX7p9hyja8"
      }
    },
    {
      "cell_type": "markdown",
      "source": [
        "### 5. 감성 분석\n",
        "- **감성 분석(Sentiment Analysis)**은 문서의 주관적인 감성/의견/감정/기분 등을 파악하기 위한 방법으로 소셜 미디어, 여론조사, 온라인 리뷰, 피드백 등 다양한 분야에서 활용된다.\n",
        "- 감성 분석은 **문서 내 텍스트가 나타내는 여러 가지 주관적인 단어와 문맥을 기반으로 감성 수치를 계산**하는 방법을 이용한다. 이러한 감성 지수는 긍정 감성 지수와 부정 감성 지수로 구성되며 이들 지수를 합산하여 긍정 감성 또는 부정 감성을 결정한다.\n",
        "- 이러한 감성 분석은 머신러닝 관점에서 **지도학습과 비지도학습** 방식으로 나눌 수 있다.\n",
        " - **지도학습**은 **학습 데이터와 타겟 레이블 값을 기반으로 감성 분석 학습**을 수행한 뒤, **이를 기반으로 다른 데이터의 감성 분석을 예측**하는 일반적인 텍스트 기반의 분류와 거의 동일하다.\n",
        " - **비지도학습**은 **'Lexicon'**이라는 일종의 **감성 어휘 사전을 이용**한다. Lexicon은 **감성 분석을 위한 용어와 문맥에 대한 다양한 정보**를 가지고 있으며, 이를 이용하여 **문서의 긍정적, 부정적 감성 여부를 판단**한다."
      ],
      "metadata": {
        "id": "1mLwfCkmXsMK"
      }
    },
    {
      "cell_type": "markdown",
      "source": [
        "### 5-1. 지도학습 기반 감성 분석 실습 - IMDB 영화평\n",
        "- 지도학습 기반 감성 분석은 텍스트 기반의 이진 분류라고도 표현할 수 있다.\n",
        "- 유명한 IMDB 영화 사이트의 영화평을 이용하여, 영화평의 텍스트를 분석해 감성 분석 결과가 긍정 또는 부정인지를 예측하는 모델을 만든다.\n",
        "- 주어진 데이터는 탭(\\t)으로 분리된 파일로, 판다스의 `read_csv( )`를 이용하면 인자로 `sep='\\t'`를 명시하여 로드할 수 있다.\n",
        "- 사용되는 피처는 다음과 같다.\n",
        " - id: 각 데이터의 id\n",
        " - sentiment: 영화평(review)의 Sentiment 결과값(Target Label). **1은 긍정적 평가, 0은 부정적 평가를 의미**\n",
        " - review: 영화평의 텍스트"
      ],
      "metadata": {
        "id": "OsGPQnPyYuA9"
      }
    },
    {
      "cell_type": "code",
      "source": [
        "import pandas as pd\n",
        "review_df = pd.read_csv('/content/drive/MyDrive/ESAA/data/labeledTrainData.tsv', header=0, sep='\\t', quoting=3)\n",
        "review_df.head(3)"
      ],
      "metadata": {
        "colab": {
          "base_uri": "https://localhost:8080/",
          "height": 143
        },
        "id": "qSsM9C5TZxye",
        "outputId": "d5397281-141f-40ce-e4c4-9449e49b7d7b"
      },
      "execution_count": null,
      "outputs": [
        {
          "output_type": "execute_result",
          "data": {
            "text/plain": [
              "         id  sentiment                                             review\n",
              "0  \"5814_8\"          1  \"With all this stuff going down at the moment ...\n",
              "1  \"2381_9\"          1  \"\\\"The Classic War of the Worlds\\\" by Timothy ...\n",
              "2  \"7759_3\"          0  \"The film starts with a manager (Nicholas Bell..."
            ],
            "text/html": [
              "\n",
              "  <div id=\"df-03201614-551f-49a4-a1dc-c526ea238607\">\n",
              "    <div class=\"colab-df-container\">\n",
              "      <div>\n",
              "<style scoped>\n",
              "    .dataframe tbody tr th:only-of-type {\n",
              "        vertical-align: middle;\n",
              "    }\n",
              "\n",
              "    .dataframe tbody tr th {\n",
              "        vertical-align: top;\n",
              "    }\n",
              "\n",
              "    .dataframe thead th {\n",
              "        text-align: right;\n",
              "    }\n",
              "</style>\n",
              "<table border=\"1\" class=\"dataframe\">\n",
              "  <thead>\n",
              "    <tr style=\"text-align: right;\">\n",
              "      <th></th>\n",
              "      <th>id</th>\n",
              "      <th>sentiment</th>\n",
              "      <th>review</th>\n",
              "    </tr>\n",
              "  </thead>\n",
              "  <tbody>\n",
              "    <tr>\n",
              "      <th>0</th>\n",
              "      <td>\"5814_8\"</td>\n",
              "      <td>1</td>\n",
              "      <td>\"With all this stuff going down at the moment ...</td>\n",
              "    </tr>\n",
              "    <tr>\n",
              "      <th>1</th>\n",
              "      <td>\"2381_9\"</td>\n",
              "      <td>1</td>\n",
              "      <td>\"\\\"The Classic War of the Worlds\\\" by Timothy ...</td>\n",
              "    </tr>\n",
              "    <tr>\n",
              "      <th>2</th>\n",
              "      <td>\"7759_3\"</td>\n",
              "      <td>0</td>\n",
              "      <td>\"The film starts with a manager (Nicholas Bell...</td>\n",
              "    </tr>\n",
              "  </tbody>\n",
              "</table>\n",
              "</div>\n",
              "      <button class=\"colab-df-convert\" onclick=\"convertToInteractive('df-03201614-551f-49a4-a1dc-c526ea238607')\"\n",
              "              title=\"Convert this dataframe to an interactive table.\"\n",
              "              style=\"display:none;\">\n",
              "        \n",
              "  <svg xmlns=\"http://www.w3.org/2000/svg\" height=\"24px\"viewBox=\"0 0 24 24\"\n",
              "       width=\"24px\">\n",
              "    <path d=\"M0 0h24v24H0V0z\" fill=\"none\"/>\n",
              "    <path d=\"M18.56 5.44l.94 2.06.94-2.06 2.06-.94-2.06-.94-.94-2.06-.94 2.06-2.06.94zm-11 1L8.5 8.5l.94-2.06 2.06-.94-2.06-.94L8.5 2.5l-.94 2.06-2.06.94zm10 10l.94 2.06.94-2.06 2.06-.94-2.06-.94-.94-2.06-.94 2.06-2.06.94z\"/><path d=\"M17.41 7.96l-1.37-1.37c-.4-.4-.92-.59-1.43-.59-.52 0-1.04.2-1.43.59L10.3 9.45l-7.72 7.72c-.78.78-.78 2.05 0 2.83L4 21.41c.39.39.9.59 1.41.59.51 0 1.02-.2 1.41-.59l7.78-7.78 2.81-2.81c.8-.78.8-2.07 0-2.86zM5.41 20L4 18.59l7.72-7.72 1.47 1.35L5.41 20z\"/>\n",
              "  </svg>\n",
              "      </button>\n",
              "      \n",
              "  <style>\n",
              "    .colab-df-container {\n",
              "      display:flex;\n",
              "      flex-wrap:wrap;\n",
              "      gap: 12px;\n",
              "    }\n",
              "\n",
              "    .colab-df-convert {\n",
              "      background-color: #E8F0FE;\n",
              "      border: none;\n",
              "      border-radius: 50%;\n",
              "      cursor: pointer;\n",
              "      display: none;\n",
              "      fill: #1967D2;\n",
              "      height: 32px;\n",
              "      padding: 0 0 0 0;\n",
              "      width: 32px;\n",
              "    }\n",
              "\n",
              "    .colab-df-convert:hover {\n",
              "      background-color: #E2EBFA;\n",
              "      box-shadow: 0px 1px 2px rgba(60, 64, 67, 0.3), 0px 1px 3px 1px rgba(60, 64, 67, 0.15);\n",
              "      fill: #174EA6;\n",
              "    }\n",
              "\n",
              "    [theme=dark] .colab-df-convert {\n",
              "      background-color: #3B4455;\n",
              "      fill: #D2E3FC;\n",
              "    }\n",
              "\n",
              "    [theme=dark] .colab-df-convert:hover {\n",
              "      background-color: #434B5C;\n",
              "      box-shadow: 0px 1px 3px 1px rgba(0, 0, 0, 0.15);\n",
              "      filter: drop-shadow(0px 1px 2px rgba(0, 0, 0, 0.3));\n",
              "      fill: #FFFFFF;\n",
              "    }\n",
              "  </style>\n",
              "\n",
              "      <script>\n",
              "        const buttonEl =\n",
              "          document.querySelector('#df-03201614-551f-49a4-a1dc-c526ea238607 button.colab-df-convert');\n",
              "        buttonEl.style.display =\n",
              "          google.colab.kernel.accessAllowed ? 'block' : 'none';\n",
              "\n",
              "        async function convertToInteractive(key) {\n",
              "          const element = document.querySelector('#df-03201614-551f-49a4-a1dc-c526ea238607');\n",
              "          const dataTable =\n",
              "            await google.colab.kernel.invokeFunction('convertToInteractive',\n",
              "                                                     [key], {});\n",
              "          if (!dataTable) return;\n",
              "\n",
              "          const docLinkHtml = 'Like what you see? Visit the ' +\n",
              "            '<a target=\"_blank\" href=https://colab.research.google.com/notebooks/data_table.ipynb>data table notebook</a>'\n",
              "            + ' to learn more about interactive tables.';\n",
              "          element.innerHTML = '';\n",
              "          dataTable['output_type'] = 'display_data';\n",
              "          await google.colab.output.renderOutput(dataTable, element);\n",
              "          const docLink = document.createElement('div');\n",
              "          docLink.innerHTML = docLinkHtml;\n",
              "          element.appendChild(docLink);\n",
              "        }\n",
              "      </script>\n",
              "    </div>\n",
              "  </div>\n",
              "  "
            ]
          },
          "metadata": {},
          "execution_count": 2
        }
      ]
    },
    {
      "cell_type": "code",
      "source": [
        "print(review_df['review'][0])"
      ],
      "metadata": {
        "colab": {
          "base_uri": "https://localhost:8080/"
        },
        "id": "8_e346mqaDHF",
        "outputId": "e195eb52-1fd2-4edf-98ce-55d3b8b2b2dd"
      },
      "execution_count": null,
      "outputs": [
        {
          "output_type": "stream",
          "name": "stdout",
          "text": [
            "\"With all this stuff going down at the moment with MJ i've started listening to his music, watching the odd documentary here and there, watched The Wiz and watched Moonwalker again. Maybe i just want to get a certain insight into this guy who i thought was really cool in the eighties just to maybe make up my mind whether he is guilty or innocent. Moonwalker is part biography, part feature film which i remember going to see at the cinema when it was originally released. Some of it has subtle messages about MJ's feeling towards the press and also the obvious message of drugs are bad m'kay.<br /><br />Visually impressive but of course this is all about Michael Jackson so unless you remotely like MJ in anyway then you are going to hate this and find it boring. Some may call MJ an egotist for consenting to the making of this movie BUT MJ and most of his fans would say that he made it for the fans which if true is really nice of him.<br /><br />The actual feature film bit when it finally starts is only on for 20 minutes or so excluding the Smooth Criminal sequence and Joe Pesci is convincing as a psychopathic all powerful drug lord. Why he wants MJ dead so bad is beyond me. Because MJ overheard his plans? Nah, Joe Pesci's character ranted that he wanted people to know it is he who is supplying drugs etc so i dunno, maybe he just hates MJ's music.<br /><br />Lots of cool things in this like MJ turning into a car and a robot and the whole Speed Demon sequence. Also, the director must have had the patience of a saint when it came to filming the kiddy Bad sequence as usually directors hate working with one kid let alone a whole bunch of them performing a complex dance scene.<br /><br />Bottom line, this movie is for people who like MJ on one level or another (which i think is most people). If not, then stay away. It does try and give off a wholesome message and ironically MJ's bestest buddy in this movie is a girl! Michael Jackson is truly one of the most talented people ever to grace this planet but is he guilty? Well, with all the attention i've gave this subject....hmmm well i don't know because people can be different behind closed doors, i know this for a fact. He is either an extremely nice but stupid guy or one of the most sickest liars. I hope he is not the latter.\"\n"
          ]
        }
      ]
    },
    {
      "cell_type": "markdown",
      "source": [
        "### 5-1. 지도학습 기반 감성 분석 실습 - IMDB 영화평\n",
        "- 여전히 <br \\>가 존재하며, 이 문자열은 피처로 만들 필요가 없으므로 삭제한다.\n",
        "- 판다스의 DataFrame과 Series는 문자열 연산을 지원하기 위해 **`str`** 속성을 이용한다. **DataFrame/Series 객체에서 `str`을 적용하면 다양한 문자열 연산을 수행**할 수 있다. \n",
        "- **`str`에  `replace( )`를 적용**하여 **<br \\> 태그를 공백으로** 모두 바꾼다.\n",
        "- **영어가 아닌 숫자와 특수문자** 역시 Sentiment를 위한 피처로는 별 의미가 없어 보이므로 이들도 **모두 공백으로 변경**한다. 숫자/특수문자를 찾고 이를 **변환하는 것은 정규 표현식을 이용**한다.\n",
        "- 파이썬의 **`re`** 모듈은 편리하게 정규 표현식을 지원한다. 정규 표현식 **[^a-zA-Z]의 의미는 영어 대/소문자가 아닌 모든 문자를 찾는 것**이다.\n",
        "- **`re.sub('[^a-zA-Z]', ' ', x)`**는 **영어 대/소문자가 아닌 모든 문자를 찾아서 공백으로 변경**한다. `lambda` 식을 이용하여 적용한다.\n",
        "---\n",
        "- 결정값 클래스인 sentiment 칼럼을 별도로 추출하여 결정값 데이터 세트를 만들고, 원본 데이터에서 id와 sentiment 칼럼을 삭제하여 피처 데이터 세트를 생성한다.\n",
        "- `train_test_split( )`을 이용하여 학습용과 테스트용 데이터 세트로 분리한다. 테스트용 데이터 세트의 비율을 30%로 지정한다.\n",
        "- 학습용 데이터는 17500개의 리뷰, 테스트용 데이터는 7500개의 리뷰로 구성된다."
      ],
      "metadata": {
        "id": "IXeWfFGHa6L9"
      }
    },
    {
      "cell_type": "code",
      "source": [
        "#<br> html 태그는 replace 함수를 이용하여 공백으로 변환\n",
        "review_df['review'] = review_df['review'].str.replace('<br \\>', ' ')\n",
        "\n",
        "import re\n",
        "#파이썬의 정규 표현식 모듈인 re를 이용하여 영어 문자열이 아닌 문자는 모두 공백으로 변환\n",
        "review_df['review'] = review_df['review'].apply(lambda x: re.sub('[^a-zA-Z]', ' ', x))"
      ],
      "metadata": {
        "id": "qfx-75Kca0gZ"
      },
      "execution_count": null,
      "outputs": []
    },
    {
      "cell_type": "code",
      "source": [
        "class_df = review_df['sentiment']\n",
        "feature_df = review_df.drop(['id', 'sentiment'], axis=1, inplace=False)\n",
        "\n",
        "from sklearn.model_selection import train_test_split\n",
        "X_train, X_test, y_train, y_test = train_test_split(feature_df, class_df, test_size=0.3, random_state=156)\n",
        "print(X_train.shape, X_test.shape)"
      ],
      "metadata": {
        "colab": {
          "base_uri": "https://localhost:8080/"
        },
        "id": "yiEleqxueeh5",
        "outputId": "49a68684-ca8c-4d60-b211-bc074253487a"
      },
      "execution_count": null,
      "outputs": [
        {
          "output_type": "stream",
          "name": "stdout",
          "text": [
            "(17500, 1) (7500, 1)\n"
          ]
        }
      ]
    },
    {
      "cell_type": "markdown",
      "source": [
        "### 5-1. 지도학습 기반 감성 분석 실습 - IMDB 영화평\n",
        "- 감상평(Review) 텍스트를 **피처 벡터화**한 후에 **ML 분류 알고리즘을 적용하여 예측 성능을 측정**한다. **`Pipeline`** 객체를 이용하여 이 두가지를 한꺼번에 수행한다.\n",
        "- 먼저 **Count 벡터화**를 적용하여 예측 성능을 측정하고, 다음으로 **TF-IDF 벡터화**를 적용한다.\n",
        "- ML 분류 알고리즘으로는 **`LogisticRegression`**을 이용한다.\n",
        "- 예측 성능 평가는 이진 분류임을 고려하여 **테스트 데이터 세트의 정확도와 ROC-AUC**를 모두 측정한다.\n",
        "- **`CountVectorizer`**로 Count 벡터화를 적용하여 예측 성능을 측정한다."
      ],
      "metadata": {
        "id": "0xUosFo5f0F4"
      }
    },
    {
      "cell_type": "code",
      "source": [
        "from sklearn.feature_extraction.text import CountVectorizer, TfidfVectorizer\n",
        "from sklearn.pipeline import Pipeline\n",
        "from sklearn.linear_model import LogisticRegression\n",
        "from sklearn.metrics import accuracy_score, roc_auc_score\n",
        "\n",
        "#stopwords는 English, filtering, ngram은 (1, 2)로 설정하여 CountVectorization 수행\n",
        "#LogisticRegression의 C는 10으로 설정\n",
        "pipeline = Pipeline([\n",
        "    ('cnt_vect', CountVectorizer(stop_words='english', ngram_range=(1,2))),\n",
        "    ('lr_clf', LogisticRegression(C=10))\n",
        "])\n",
        "\n",
        "#Pipeline 객체를 이용하여 fit(), predict()로 학습/예측 수행. predict_proba()는 roc_auc 때문에 수행\n",
        "pipeline.fit(X_train['review'], y_train)\n",
        "pred = pipeline.predict(X_test['review'])\n",
        "pred_probas = pipeline.predict_proba(X_test['review'])[:, 1]\n",
        "print(\"예측 정확도는 {0:.4f}, ROC-AUC는 {1:.4}\".format(accuracy_score(y_test, pred), roc_auc_score(y_test, pred_probas)))"
      ],
      "metadata": {
        "colab": {
          "base_uri": "https://localhost:8080/"
        },
        "id": "Qu4H-vjQfoLJ",
        "outputId": "8dc75d16-9510-4af9-9ef0-2a8b452729d9"
      },
      "execution_count": null,
      "outputs": [
        {
          "output_type": "stream",
          "name": "stdout",
          "text": [
            "예측 정확도는 0.8865, ROC-AUC는 0.9506\n"
          ]
        }
      ]
    },
    {
      "cell_type": "markdown",
      "source": [
        "### 5-1. 지도학습 기반 감성 분석 실습 - IMDB 영화평\n",
        "- 이번에는 **`TfidfVectorizer`**로 TF-IDF 벡터화를 적용하여 다시 예측 성능을 측정한다.\n",
        "- 코드는 위와 거의 동일하며, Pipeline에서 CountVectorizer를 TfidfVectorizer로 변경하면 된다.\n",
        "- 예측 정확도와 ROC-AUC 모두 Count 기반 피처 벡터화보다 TF-IDF 기반 피처 벡터화의 예측 성능이 조금 더 향상되었다."
      ],
      "metadata": {
        "id": "Brm-QSy0mPVN"
      }
    },
    {
      "cell_type": "code",
      "source": [
        "#stopwords는 English, filtering, ngram은 (1, 2)로 설정하여 TF-IDFVectorization 수행\n",
        "#LogisticRegression의 C는 10으로 설정\n",
        "pipeline = Pipeline([\n",
        "    ('tfidf_vect', TfidfVectorizer(stop_words='english', ngram_range=(1,2))),\n",
        "    ('lr_clf', LogisticRegression(C=10))\n",
        "])\n",
        "\n",
        "#Pipeline 객체를 이용하여 fit(), predict()로 학습/예측 수행. predict_proba()는 roc_auc 때문에 수행\n",
        "pipeline.fit(X_train['review'], y_train)\n",
        "pred = pipeline.predict(X_test['review'])\n",
        "pred_probas = pipeline.predict_proba(X_test['review'])[:, 1]\n",
        "print(\"예측 정확도는 {0:.4f}, ROC-AUC는 {1:.4}\".format(accuracy_score(y_test, pred), roc_auc_score(y_test, pred_probas)))"
      ],
      "metadata": {
        "colab": {
          "base_uri": "https://localhost:8080/"
        },
        "id": "7Q--IeOTmLJq",
        "outputId": "5bd7cd2e-5e95-47f7-a885-81a1e2881b0d"
      },
      "execution_count": null,
      "outputs": [
        {
          "output_type": "stream",
          "name": "stdout",
          "text": [
            "예측 정확도는 0.8932, ROC-AUC는 0.96\n"
          ]
        }
      ]
    },
    {
      "cell_type": "markdown",
      "source": [
        "### 5-2. 비지도학습 기반 감성 분석\n",
        "- 지도 감성 분석은 데이터 세트가 레이블 값을 가지고 있다. 하지만 많은 감성 분석용 데이터는 이러한 **결정된 레이블 값을 가지고 있지 않다**.\n",
        "- 이러한 경우에 수행하는 **비지도 감성 분석은 Lexicon을 기반**으로 하며 비록 한글을 지원하지 않지만 유용하게 사용된다. \n",
        "- **Lexicon은** 일반적으로 어휘집을 의미하지만 여기서는 **주로 감성만을 분석하기 위해 지원하는 감성 어휘 사전**이다. \n",
        "- 감성 사전은 긍정 감성 또는 부정 감성 정도를 의미하는 수치를 가지고 있으며, 이를 **감성 지수**(Polarity score)라고 한다. 감성 지수는 단어의 위치나 주변 단어, 문맥 등을 참고하여 결정된다.\n",
        "- 이러한 **감성 사전을 구현한 대표격은 `NLTK` 패키지**이다. 이것은 많은 서브 모듈을 가지고 있으며 그 중에 감성 사전인 **`Lexicon`** 모듈도 포함되어 있다.\n",
        "---\n",
        "- **`NLP`**에서 제공하는 **`WordNet`** 모듈은 **방대한 영어 어휘 사전**으로, 단순한 어휘 사전이 아닌 **시맨틱 분석을 제공**하는 어휘 사전이다.\n",
        "- 텍스트 분석을 공부하면 '시맨틱(semantic)'이라는 용어를 자주 접하게 되는 이는 '문맥상 의미'를 의미한다. 동일한 단어나 문장이라도 다른 환경과 문맥에서는 다르게 표현되거나 이해될 수 있다.\n",
        "- 언어학에서는 이러한 시맨틱을 표현하기 위해 여러 가지 규칙을 정해왔으며, NLP 패키지는 시맨틱을 프로그램적으로 인터페이스할 수 있는 다양한 방법을 제공한다.\n",
        "- **WordNet은 다양한 상황에서 같은 어휘라도 다르게 사용되는 어휘의 시맨틱 정보를 제공**하며, 이를 위해 **각각의 품사로 구성된 개별 단어를 Synset이라는 개념을 이용해 표현**한다. **Synset**은 단순한 하나의 단어가 아니라 **그 단어가 가지는 문맥, 시맨틱 정보를 제공하는 WordNet의 핵심 개념**이다."
      ],
      "metadata": {
        "id": "ZbEEi63unjO4"
      }
    },
    {
      "cell_type": "markdown",
      "source": [
        "### 5-2. 비지도학습 기반 감성 분석\n",
        "- **`NLTK`의 감성 사전이 감성에 대한 훌륭한 사전 역할을 제공**한다는 장점이 있지만, 아쉽게도 **예측 성능은 그리 좋지 못하다**는 단점도 있다.  그리하여 실제 업무의 적용은 NLTK 패키지가 아닌 다른 감성 사전을 적용하는 것이 일반적이다.\n",
        "- NLTK를 포함한 **대표적인 감성 사전**은 다음과 같다.\n",
        " - **SentiWordNet**: NLTK 패키지의 WordNet과 유사하게 **감성 단어 전용의 WordNet을 구현**한 것으로, **WordNet의 Synset 개념을 감성 분석에 적용한 것**이다. **WordNet의 Synset별로 3가지 감성 점수(긍정 감성 지수, 부정 감성 지수, 객관성 지수)를 할당**한다. 긍정 감성 지수는 해당 단어가 감성적으로 얼마나 긍정적인가를, 부정 지수는 얼마나 감성적으로 부정적인가를 수치로 나타낸 것이다. 객관성 지수는 긍정/부정 감성 지수와 완전히 반대되는 개념으로 단어가 감성과 관계없이 얼마나 객관적인지를 수치로 나타낸 것이다. **문장별로 단어의 긍정 감성 지수와 부정 감성 지수를 합산하여 최종 감성 지수를 계산**하고, 이에 기반하여 **감성이 긍정인지 부정인지를 결정**한다.\n",
        " - **VADER**: **주로 소셜 미디어의 텍스트에 대한 감성 분석**을 제공하기 위한 패키지이다. **뛰어난 감성 분석 결과를 제공**하며, **비교적 빠른 수행 시간**을 보장해 대용량 텍스트 데이터에 잘 사용되는 패키지이다.\n",
        " - **Pattern**: **예측 성능** 측면에서 가장 주목받는 패키지이다.\n",
        "---\n",
        "- **`SentiWordNet`**과 **`VADER`** 감성 사전을 이용하여 감성 분석을 수행한 뒤 예측 성능을 지도학습 기반의 분류와 비교한다."
      ],
      "metadata": {
        "id": "CZd_HHYQvzrm"
      }
    },
    {
      "cell_type": "markdown",
      "source": [
        "### 5-3. SentiWordNet을 이용한 감성 분석\n",
        "#### 1) WordNet Synset과 SentiWordNet SentiSynset 클래스의 이해\n",
        "- SentiWordNet은 WordNet 기반의 Synset을 이용하므로 먼저 Synset에 대한 개념을 알아본다.\n",
        "- **`WordNet`**을 이용하기 위해서는 **`NLTK`**를 셋업한 후에 WordNet 서브패키지와 데이터 세트를 내려받아야 한다. **`download('all')`**로 모든 데이터 세트와 패키지를 내려받는다.\n",
        "- NLTK의 모든 데이터 세트를 내려받은 뒤에 **`WordNet`** 모듈을 임포트해서 'present' 단어에 대한 Synset을 추출한다. **`WordNet`**의 **`synsets( )`**는 **파라미터로 지정된 단어에 대해 WordNet에 등재된 모든 Synset 객체를 반환**한다.\n",
        "---\n",
        "- **`synsets( )`** 호출 시 반환되는 것은 **여러 개의 Synset 객체를 가지는 리스트**이다. 총 18개의 서로 다른 시맨틱을 가지는 Synset 객체가 반환되었다.\n",
        "- Synset('present.n.01')와 같이 Synset 객체의 파라미터 'present.n.01'은 POS 태그를 나타낸다. 'present.n.01'에서 **present는 의미**, **n은 명사 품사**, **01은 present가 명사로서 가지는 의미**가 여러개이므로 **이를 구분하는 인덱스**이다.\n"
      ],
      "metadata": {
        "id": "OoPLgUVuxgj4"
      }
    },
    {
      "cell_type": "code",
      "source": [
        "import nltk\n",
        "nltk.download('all')"
      ],
      "metadata": {
        "id": "p-2xmOcwnDEN"
      },
      "execution_count": null,
      "outputs": []
    },
    {
      "cell_type": "code",
      "source": [
        "from nltk.corpus import wordnet as wn\n",
        "term='present'\n",
        "\n",
        "#'present'라는 단어로 WordNet의 synsets 생성\n",
        "synsets = wn.synsets(term)\n",
        "print('synsets( ) 반환 type:', type(synsets))\n",
        "print('synsets( ) 반환 값 개수:', len(synsets))\n",
        "print('synsets( ) 반환 값:' , synsets)"
      ],
      "metadata": {
        "colab": {
          "base_uri": "https://localhost:8080/"
        },
        "id": "OTMPhDkwyCQy",
        "outputId": "8a8e1fb5-1b00-479d-fb56-dc8d4ca69ae1"
      },
      "execution_count": null,
      "outputs": [
        {
          "output_type": "stream",
          "name": "stdout",
          "text": [
            "synsets( ) 반환 type: <class 'list'>\n",
            "synsets( ) 반환 값 개수: 18\n",
            "synsets( ) 반환 값: [Synset('present.n.01'), Synset('present.n.02'), Synset('present.n.03'), Synset('show.v.01'), Synset('present.v.02'), Synset('stage.v.01'), Synset('present.v.04'), Synset('present.v.05'), Synset('award.v.01'), Synset('give.v.08'), Synset('deliver.v.01'), Synset('introduce.v.01'), Synset('portray.v.04'), Synset('confront.v.03'), Synset('present.v.12'), Synset('salute.v.06'), Synset('present.a.01'), Synset('present.a.02')]\n"
          ]
        }
      ]
    },
    {
      "cell_type": "markdown",
      "source": [
        "### 5-3. SentiWordNet을 이용한 감성 분석\n",
        "#### 1) WordNet Synset과 SentiWordNet SentiSynset 클래스의 이해\n",
        "- Synset 객체가 가지는 여러 가지 속성을 살펴본다. **`Synset`**은 **POS(Part of Speech, 우리말로 하면 품사), 정의(Definition), 부명제(Lemma)** 등으로 **시맨틱적인 요소를 표현**할 수 있다.\n",
        "- **Synset('present.n.01')**과 **Synset('present.n.02')**는 명사지만 서로 다른 의미를 가진다.\n",
        " - Synset('present.n.01')는 POS가 noun.time이며 Definition을 살펴보면 '시간적인 의미로 현재'를 나타낸다. \n",
        " - Synset('present.n.02')는 POS가 noun.possession이며 Definition은  '선물'이다.\n",
        "- Synset('show.v.01')은 POS가 verb.perception이며 Definition은 '관객에게 전시물 등을 보여주다'라는 뜻이다. \n",
        "- 이처럼 **`Synset`**은 **하나의 단어가 가질 수 있는 여러 가지 시맨틱 정보를 개별 클래스로 나타낸 것**이다.\n",
        "\n",
        "\n",
        "\n",
        "\n",
        "\n"
      ],
      "metadata": {
        "id": "yKzrnV4dzrTq"
      }
    },
    {
      "cell_type": "code",
      "source": [
        "for synset in synsets:\n",
        "    print(\"##### Synset name: \", synset.name(), \"#####\")\n",
        "    print(\"POS: \", synset.lexname())\n",
        "    print(\"Definition: \", synset.definition())\n",
        "    print(\"Lemmas: \", synset.lemma_names())"
      ],
      "metadata": {
        "colab": {
          "base_uri": "https://localhost:8080/"
        },
        "id": "m8ITTEf9z_sZ",
        "outputId": "d9001053-8e5a-4417-8139-e26f0e57f3bf"
      },
      "execution_count": null,
      "outputs": [
        {
          "output_type": "stream",
          "name": "stdout",
          "text": [
            "##### Synset name:  present.n.01 #####\n",
            "POS:  noun.time\n",
            "Definition:  the period of time that is happening now; any continuous stretch of time including the moment of speech\n",
            "Lemmas:  ['present', 'nowadays']\n",
            "##### Synset name:  present.n.02 #####\n",
            "POS:  noun.possession\n",
            "Definition:  something presented as a gift\n",
            "Lemmas:  ['present']\n",
            "##### Synset name:  present.n.03 #####\n",
            "POS:  noun.communication\n",
            "Definition:  a verb tense that expresses actions or states at the time of speaking\n",
            "Lemmas:  ['present', 'present_tense']\n",
            "##### Synset name:  show.v.01 #####\n",
            "POS:  verb.perception\n",
            "Definition:  give an exhibition of to an interested audience\n",
            "Lemmas:  ['show', 'demo', 'exhibit', 'present', 'demonstrate']\n",
            "##### Synset name:  present.v.02 #####\n",
            "POS:  verb.communication\n",
            "Definition:  bring forward and present to the mind\n",
            "Lemmas:  ['present', 'represent', 'lay_out']\n",
            "##### Synset name:  stage.v.01 #####\n",
            "POS:  verb.creation\n",
            "Definition:  perform (a play), especially on a stage\n",
            "Lemmas:  ['stage', 'present', 'represent']\n",
            "##### Synset name:  present.v.04 #####\n",
            "POS:  verb.possession\n",
            "Definition:  hand over formally\n",
            "Lemmas:  ['present', 'submit']\n",
            "##### Synset name:  present.v.05 #####\n",
            "POS:  verb.stative\n",
            "Definition:  introduce\n",
            "Lemmas:  ['present', 'pose']\n",
            "##### Synset name:  award.v.01 #####\n",
            "POS:  verb.possession\n",
            "Definition:  give, especially as an honor or reward\n",
            "Lemmas:  ['award', 'present']\n",
            "##### Synset name:  give.v.08 #####\n",
            "POS:  verb.possession\n",
            "Definition:  give as a present; make a gift of\n",
            "Lemmas:  ['give', 'gift', 'present']\n",
            "##### Synset name:  deliver.v.01 #####\n",
            "POS:  verb.communication\n",
            "Definition:  deliver (a speech, oration, or idea)\n",
            "Lemmas:  ['deliver', 'present']\n",
            "##### Synset name:  introduce.v.01 #####\n",
            "POS:  verb.communication\n",
            "Definition:  cause to come to know personally\n",
            "Lemmas:  ['introduce', 'present', 'acquaint']\n",
            "##### Synset name:  portray.v.04 #####\n",
            "POS:  verb.creation\n",
            "Definition:  represent abstractly, for example in a painting, drawing, or sculpture\n",
            "Lemmas:  ['portray', 'present']\n",
            "##### Synset name:  confront.v.03 #####\n",
            "POS:  verb.communication\n",
            "Definition:  present somebody with something, usually to accuse or criticize\n",
            "Lemmas:  ['confront', 'face', 'present']\n",
            "##### Synset name:  present.v.12 #####\n",
            "POS:  verb.communication\n",
            "Definition:  formally present a debutante, a representative of a country, etc.\n",
            "Lemmas:  ['present']\n",
            "##### Synset name:  salute.v.06 #####\n",
            "POS:  verb.communication\n",
            "Definition:  recognize with a gesture prescribed by a military regulation; assume a prescribed position\n",
            "Lemmas:  ['salute', 'present']\n",
            "##### Synset name:  present.a.01 #####\n",
            "POS:  adj.all\n",
            "Definition:  temporal sense; intermediate between past and future; now existing or happening or in consideration\n",
            "Lemmas:  ['present']\n",
            "##### Synset name:  present.a.02 #####\n",
            "POS:  adj.all\n",
            "Definition:  being or existing in a specified place\n",
            "Lemmas:  ['present']\n"
          ]
        }
      ]
    },
    {
      "cell_type": "markdown",
      "source": [
        "### 5-3. SentiWordNet을 이용한 감성 분석\n",
        "#### 1) WordNet Synset과 SentiWordNet SentiSynset 클래스의 이해\n",
        "- WordNet은 **어떤 어휘와 다른 어휘 간의 관계를 유사도로 나타낼 수 있다**. \n",
        "- **`Synset`** 객체는 **단어 간의 유사도**를 나타내기 위해 **`path_similarity( )` 메서드를 제공**한다.\n",
        "- `path_similarity( )`를 이용하여 'tree', 'lion', 'tiger', 'cat', 'dog' 라는 단어의 상호 유사도를 살펴본다.\n",
        "- lion은 tree와의 상호 유사도가 0.07로 가장 작고, tiger와의 상호 유사도가 0.33으로 가장 크다."
      ],
      "metadata": {
        "id": "pv6iuRHn1WxQ"
      }
    },
    {
      "cell_type": "code",
      "source": [
        "#synset 객체를 단어별로 생성\n",
        "tree = wn.synset('tree.n.01')\n",
        "lion = wn.synset('lion.n.01')\n",
        "tiger = wn.synset('tiger.n.02')\n",
        "cat = wn.synset('cat.n.01')\n",
        "dog = wn.synset('dog.n.01')"
      ],
      "metadata": {
        "id": "x8hAdzsR0Tl_"
      },
      "execution_count": null,
      "outputs": []
    },
    {
      "cell_type": "code",
      "source": [
        "entities = [tree, lion, tiger, cat, dog] #synset 객체\n",
        "similarities = []\n",
        "entity_names = [entity.name().split('.')[0] for entity in entities]\n",
        "#entities[0].name() : 'tree.n.01' \n",
        "#entities[0].name().split('.') : ['tree', 'n', '01']\n",
        "\n",
        "#단어별 synset을 반복하면서 다른 단어의 synset과 유사도를 측정\n",
        "for entity in entities:\n",
        "    similarity = [round(entity.path_similarity(compared_entity), 2) for compared_entity in entities]\n",
        "    similarities.append(similarity)\n",
        "\n",
        "#개별 단어별 synset과 다른 단어의 synset과의 유사도를 DataFrame으로 저장\n",
        "similarity_df = pd.DataFrame(similarities, columns=entity_names, index=entity_names)\n",
        "similarity_df"
      ],
      "metadata": {
        "colab": {
          "base_uri": "https://localhost:8080/",
          "height": 206
        },
        "id": "Tx8xivvb2YPV",
        "outputId": "df3b1b94-e8dd-4cbe-d25c-54415f752947"
      },
      "execution_count": null,
      "outputs": [
        {
          "output_type": "execute_result",
          "data": {
            "text/plain": [
              "       tree  lion  tiger   cat   dog\n",
              "tree   1.00  0.07   0.07  0.08  0.12\n",
              "lion   0.07  1.00   0.33  0.25  0.17\n",
              "tiger  0.07  0.33   1.00  0.25  0.17\n",
              "cat    0.08  0.25   0.25  1.00  0.20\n",
              "dog    0.12  0.17   0.17  0.20  1.00"
            ],
            "text/html": [
              "\n",
              "  <div id=\"df-e0da580d-3016-456e-b773-923bb99e67be\">\n",
              "    <div class=\"colab-df-container\">\n",
              "      <div>\n",
              "<style scoped>\n",
              "    .dataframe tbody tr th:only-of-type {\n",
              "        vertical-align: middle;\n",
              "    }\n",
              "\n",
              "    .dataframe tbody tr th {\n",
              "        vertical-align: top;\n",
              "    }\n",
              "\n",
              "    .dataframe thead th {\n",
              "        text-align: right;\n",
              "    }\n",
              "</style>\n",
              "<table border=\"1\" class=\"dataframe\">\n",
              "  <thead>\n",
              "    <tr style=\"text-align: right;\">\n",
              "      <th></th>\n",
              "      <th>tree</th>\n",
              "      <th>lion</th>\n",
              "      <th>tiger</th>\n",
              "      <th>cat</th>\n",
              "      <th>dog</th>\n",
              "    </tr>\n",
              "  </thead>\n",
              "  <tbody>\n",
              "    <tr>\n",
              "      <th>tree</th>\n",
              "      <td>1.00</td>\n",
              "      <td>0.07</td>\n",
              "      <td>0.07</td>\n",
              "      <td>0.08</td>\n",
              "      <td>0.12</td>\n",
              "    </tr>\n",
              "    <tr>\n",
              "      <th>lion</th>\n",
              "      <td>0.07</td>\n",
              "      <td>1.00</td>\n",
              "      <td>0.33</td>\n",
              "      <td>0.25</td>\n",
              "      <td>0.17</td>\n",
              "    </tr>\n",
              "    <tr>\n",
              "      <th>tiger</th>\n",
              "      <td>0.07</td>\n",
              "      <td>0.33</td>\n",
              "      <td>1.00</td>\n",
              "      <td>0.25</td>\n",
              "      <td>0.17</td>\n",
              "    </tr>\n",
              "    <tr>\n",
              "      <th>cat</th>\n",
              "      <td>0.08</td>\n",
              "      <td>0.25</td>\n",
              "      <td>0.25</td>\n",
              "      <td>1.00</td>\n",
              "      <td>0.20</td>\n",
              "    </tr>\n",
              "    <tr>\n",
              "      <th>dog</th>\n",
              "      <td>0.12</td>\n",
              "      <td>0.17</td>\n",
              "      <td>0.17</td>\n",
              "      <td>0.20</td>\n",
              "      <td>1.00</td>\n",
              "    </tr>\n",
              "  </tbody>\n",
              "</table>\n",
              "</div>\n",
              "      <button class=\"colab-df-convert\" onclick=\"convertToInteractive('df-e0da580d-3016-456e-b773-923bb99e67be')\"\n",
              "              title=\"Convert this dataframe to an interactive table.\"\n",
              "              style=\"display:none;\">\n",
              "        \n",
              "  <svg xmlns=\"http://www.w3.org/2000/svg\" height=\"24px\"viewBox=\"0 0 24 24\"\n",
              "       width=\"24px\">\n",
              "    <path d=\"M0 0h24v24H0V0z\" fill=\"none\"/>\n",
              "    <path d=\"M18.56 5.44l.94 2.06.94-2.06 2.06-.94-2.06-.94-.94-2.06-.94 2.06-2.06.94zm-11 1L8.5 8.5l.94-2.06 2.06-.94-2.06-.94L8.5 2.5l-.94 2.06-2.06.94zm10 10l.94 2.06.94-2.06 2.06-.94-2.06-.94-.94-2.06-.94 2.06-2.06.94z\"/><path d=\"M17.41 7.96l-1.37-1.37c-.4-.4-.92-.59-1.43-.59-.52 0-1.04.2-1.43.59L10.3 9.45l-7.72 7.72c-.78.78-.78 2.05 0 2.83L4 21.41c.39.39.9.59 1.41.59.51 0 1.02-.2 1.41-.59l7.78-7.78 2.81-2.81c.8-.78.8-2.07 0-2.86zM5.41 20L4 18.59l7.72-7.72 1.47 1.35L5.41 20z\"/>\n",
              "  </svg>\n",
              "      </button>\n",
              "      \n",
              "  <style>\n",
              "    .colab-df-container {\n",
              "      display:flex;\n",
              "      flex-wrap:wrap;\n",
              "      gap: 12px;\n",
              "    }\n",
              "\n",
              "    .colab-df-convert {\n",
              "      background-color: #E8F0FE;\n",
              "      border: none;\n",
              "      border-radius: 50%;\n",
              "      cursor: pointer;\n",
              "      display: none;\n",
              "      fill: #1967D2;\n",
              "      height: 32px;\n",
              "      padding: 0 0 0 0;\n",
              "      width: 32px;\n",
              "    }\n",
              "\n",
              "    .colab-df-convert:hover {\n",
              "      background-color: #E2EBFA;\n",
              "      box-shadow: 0px 1px 2px rgba(60, 64, 67, 0.3), 0px 1px 3px 1px rgba(60, 64, 67, 0.15);\n",
              "      fill: #174EA6;\n",
              "    }\n",
              "\n",
              "    [theme=dark] .colab-df-convert {\n",
              "      background-color: #3B4455;\n",
              "      fill: #D2E3FC;\n",
              "    }\n",
              "\n",
              "    [theme=dark] .colab-df-convert:hover {\n",
              "      background-color: #434B5C;\n",
              "      box-shadow: 0px 1px 3px 1px rgba(0, 0, 0, 0.15);\n",
              "      filter: drop-shadow(0px 1px 2px rgba(0, 0, 0, 0.3));\n",
              "      fill: #FFFFFF;\n",
              "    }\n",
              "  </style>\n",
              "\n",
              "      <script>\n",
              "        const buttonEl =\n",
              "          document.querySelector('#df-e0da580d-3016-456e-b773-923bb99e67be button.colab-df-convert');\n",
              "        buttonEl.style.display =\n",
              "          google.colab.kernel.accessAllowed ? 'block' : 'none';\n",
              "\n",
              "        async function convertToInteractive(key) {\n",
              "          const element = document.querySelector('#df-e0da580d-3016-456e-b773-923bb99e67be');\n",
              "          const dataTable =\n",
              "            await google.colab.kernel.invokeFunction('convertToInteractive',\n",
              "                                                     [key], {});\n",
              "          if (!dataTable) return;\n",
              "\n",
              "          const docLinkHtml = 'Like what you see? Visit the ' +\n",
              "            '<a target=\"_blank\" href=https://colab.research.google.com/notebooks/data_table.ipynb>data table notebook</a>'\n",
              "            + ' to learn more about interactive tables.';\n",
              "          element.innerHTML = '';\n",
              "          dataTable['output_type'] = 'display_data';\n",
              "          await google.colab.output.renderOutput(dataTable, element);\n",
              "          const docLink = document.createElement('div');\n",
              "          docLink.innerHTML = docLinkHtml;\n",
              "          element.appendChild(docLink);\n",
              "        }\n",
              "      </script>\n",
              "    </div>\n",
              "  </div>\n",
              "  "
            ]
          },
          "metadata": {},
          "execution_count": 37
        }
      ]
    },
    {
      "cell_type": "markdown",
      "source": [
        "### 5-3. SentiWordNet을 이용한 감성 분석\n",
        "#### 1) WordNet Synset과 SentiWordNet SentiSynset 클래스의 이해\n",
        "- **SentiWordNet**은 WordNet의 Synset과 유사한 **Senti_Synset클래스**를 가지고 있다.\n",
        "- **`Sentiwordnet`** 모듈의 **`senti_synsets( )`**는 WordNet 모듈이라서 `synsets( )`와 비슷하게 **Senti_Synset 클래스를 리스트 형태로 반환**한다.\n",
        "---\n",
        "- SentiWordNet 객체는 **단어의 감성을 나타내는 감성 지수**와 **객관성을 나타내는 객관성 지수**를 가지고 있다. \n",
        "- 어떤 단어가 전혀 감성적이지 않으면 객관성 지수는 1이 되고, 감성 지수는 모두 0이 된다. 감성 지수는 다시 긍정 감성 지수와 부정 감성 지수로 나뉜다.\n",
        "- 다음은 father(아버지)라는 단어와 fabulous(아주 멋진)라는 2개 단어의 감성 지수와 객관성 지수를 알아본 것이다.\n",
        "- 원하는 단어에 대하여 생성한 SentiWordNet 객체에 긍정 감성 지수는 **`pos_score( )`**, 부정 감성 지수는 **`neg_score( )`**, 객관성 지수는 **`obj_score( )`**를 이용하여 확인할 수 있다.\n",
        "- father는 객관적인 단어로 객관성 지수가 1.0이고, 긍정/부정 감성 지수는 모두 0이다. 반면 fabulous는 감성 단어로 긍정 감성 지수가 0.875, 부정 감성 지수가 0.125이다."
      ],
      "metadata": {
        "id": "9Vrg3WBE36Gx"
      }
    },
    {
      "cell_type": "code",
      "source": [
        "import nltk\n",
        "from nltk.corpus import sentiwordnet as swn\n",
        "\n",
        "#'slow'라는 단어로 SentiWordNet의 synsets 생성\n",
        "senti_synsets = list(swn.senti_synsets('slow'))\n",
        "print('senti_synsets( ) 반환 type:', type(senti_synsets))\n",
        "print('senti_synsets( ) 반환 값 개수:', len(senti_synsets))\n",
        "print('senti_synsets( ) 반환 값:' , senti_synsets)"
      ],
      "metadata": {
        "colab": {
          "base_uri": "https://localhost:8080/"
        },
        "id": "d6VtBNeW2tPk",
        "outputId": "b6eabc6c-292c-4474-a6a4-d3f8a939756d"
      },
      "execution_count": null,
      "outputs": [
        {
          "output_type": "stream",
          "name": "stdout",
          "text": [
            "senti_synsets( ) 반환 type: <class 'list'>\n",
            "senti_synsets( ) 반환 값 개수: 11\n",
            "senti_synsets( ) 반환 값: [SentiSynset('decelerate.v.01'), SentiSynset('slow.v.02'), SentiSynset('slow.v.03'), SentiSynset('slow.a.01'), SentiSynset('slow.a.02'), SentiSynset('dense.s.04'), SentiSynset('slow.a.04'), SentiSynset('boring.s.01'), SentiSynset('dull.s.08'), SentiSynset('slowly.r.01'), SentiSynset('behind.r.03')]\n"
          ]
        }
      ]
    },
    {
      "cell_type": "code",
      "source": [
        "father = swn.senti_synset('father.n.01')\n",
        "print(\"father 긍정 감성 지수: \", father.pos_score())\n",
        "print(\"father 부정 감성 지수: \", father.neg_score())\n",
        "print(\"father 객관성 지수: \", father.obj_score())"
      ],
      "metadata": {
        "colab": {
          "base_uri": "https://localhost:8080/"
        },
        "id": "lBozoxVp5gUi",
        "outputId": "a14ec8a9-dbda-4a6d-a6c3-d05df4e31489"
      },
      "execution_count": null,
      "outputs": [
        {
          "output_type": "stream",
          "name": "stdout",
          "text": [
            "father 긍정 감성 지수:  0.0\n",
            "father 부정 감성 지수:  0.0\n",
            "father 객관성 지수:  1.0\n"
          ]
        }
      ]
    },
    {
      "cell_type": "code",
      "source": [
        "fabulous = swn.senti_synset('fabulous.a.01')\n",
        "print(\"fabulous 긍정 감성 지수: \", fabulous.pos_score())\n",
        "print(\"fabulous 부정 감성 지수: \", fabulous.neg_score())"
      ],
      "metadata": {
        "colab": {
          "base_uri": "https://localhost:8080/"
        },
        "id": "B6iLj2X368DH",
        "outputId": "068d0a91-53ba-4838-93bc-ff50742233d0"
      },
      "execution_count": null,
      "outputs": [
        {
          "output_type": "stream",
          "name": "stdout",
          "text": [
            "fabulous 긍정 감성 지수:  0.875\n",
            "fabulous 부정 감성 지수:  0.125\n"
          ]
        }
      ]
    },
    {
      "cell_type": "markdown",
      "source": [
        "### 5-3. SentiWordNet을 이용한 감성 분석\n",
        "#### 2) SentiWordNet을 이용한 영화 감상평 감성 분석\n",
        "- 앞의 예제에서 적용한 IMDB 영화 감상평 분석을 SentiWordNet Lexicon 기반으로 수행한다.\n",
        "- SentiWordNet을 이용해 감성 분석을 수행하는 개략적인 순서는 다음과 같다.\n",
        " 1. 문서(Document)를 문장(Sentence) 단위로 분해\n",
        " 2. 다시 문장을 단어(Word) 단위로 토큰화하고 품사 태깅\n",
        " 3. 품사 태깅된 단어 기반으로 Synset 객체와 Senti_synset 객체를 생성\n",
        " 4. Senti_synset 객체에서 긍정/부정 감성 지수를 구하고, 이를 모두 합산하여 특정 임계치 값 이상일 때 긍정 감성으로, 그렇지 않을 때 부정 감성으로 결정\n",
        "- SentiWordNet을 이용하기 위해서 **WordNet을 이용해 문서를 다시 단어로 토큰화**한 뒤 **어근 추출(Lemmatization)과 품사 태깅(POS Tagging)**을 적용해야 한다.\n",
        "---\n",
        "- 먼저 **품사 태깅을 수행**하는 내부 함수를 생성한다.\n",
        "- 다음으로 **(문서 -> 문장 -> 단어)로 토큰 -> 품사 태깅** 후에 **SentiSynset 클래스를 생성하고 감성 지수를 합산**하는 함수를 생성한다. 각 단어의 긍정 감성 지수와 부정 감성 지수를 모두 합한 **총 감성 지수가 0 이상일 경우 긍정 감성으로, 그렇지 않을 경우 부정 감성으로 예측**한다."
      ],
      "metadata": {
        "id": "x49m-bdc7yEF"
      }
    },
    {
      "cell_type": "code",
      "source": [
        "from nltk.corpus import wordnet as wn\n",
        "\n",
        "#간단한 NLTK PennTreebank Tag를 기반으로 WordNet 기반의 품사 Tag로 변환\n",
        "def penn_to_wn(tag):\n",
        "    if tag.startswith('J'):\n",
        "        return wn.ADJ\n",
        "    elif tag.startswith('N'):\n",
        "        return wn.NOUN\n",
        "    elif tag.startswith('R'):\n",
        "        return wn.ADV\n",
        "    elif tag.startswith('V'):\n",
        "        return wn.VERB"
      ],
      "metadata": {
        "id": "vDWK3W5w7kDN"
      },
      "execution_count": null,
      "outputs": []
    },
    {
      "cell_type": "code",
      "source": [
        "from nltk.stem import WordNetLemmatizer\n",
        "from nltk.corpus import sentiwordnet as swn\n",
        "from nltk import sent_tokenize, word_tokenize, pos_tag\n",
        "\n",
        "def swn_polarity(text):\n",
        "    #감성 지수 초기화\n",
        "    sentiment = 0.0\n",
        "    tokens_count = 0\n",
        "    \n",
        "    lemmatizer = WordNetLemmatizer() \n",
        "\n",
        "    #분해된 문장별로 단어 토큰 -> 품사 태깅 후 SentiSynset 생성 -> 감성 지수 합산\n",
        "    raw_sentences = sent_tokenize(text) #문장 분해\n",
        "    for raw_sentence in raw_sentences:\n",
        "        #NLTK 기반의 품사 태깅 문장 추출\n",
        "        tagged_sentence = pos_tag(word_tokenize(raw_sentence))\n",
        "\n",
        "        for word, tag in tagged_sentence:\n",
        "            #WordNet 기반의 품사 태깅과 어근 추출\n",
        "            wn_tag = penn_to_wn(tag)\n",
        "            if wn_tag not in (wn.NOUN, wn.ADJ, wn.ADV):\n",
        "                continue\n",
        "            lemma = lemmatizer.lemmatize(word, pos=wn_tag)\n",
        "            if not lemma:\n",
        "                continue\n",
        "            #어근을 추출한 단어와 WordNet 기반 품사 태깅을 입력해 Synset 객체를 생성\n",
        "            synsets = wn.synsets(lemma, pos=wn_tag)\n",
        "            if not synsets:\n",
        "                continue\n",
        "            #sentiwordnt의 감성 단어 분석으로 감성 synset 추출\n",
        "            #모든 단어에 대해 긍정 감성 지수는 +로, 부정 감성 지수는 -로 합산하여 감성 지수 계산\n",
        "            synset = synsets[0]\n",
        "            swn_synset = swn.senti_synset(synset.name())\n",
        "            sentiment += (swn_synset.pos_score()-swn_synset.neg_score())\n",
        "            tokens_count += 1\n",
        "\n",
        "        if not tokens_count:\n",
        "            return 0\n",
        "        \n",
        "        #총 score가 0 이상일 경우 긍정 감성으로 1, 그렇지 않을 경우 부정 감성으로 0 반환\n",
        "        if sentiment >= 0:\n",
        "            return 1\n",
        "\n",
        "        return 0"
      ],
      "metadata": {
        "id": "7nJqGkZQFNZm"
      },
      "execution_count": null,
      "outputs": []
    },
    {
      "cell_type": "markdown",
      "source": [
        "### 5-3. SentiWordNet을 이용한 감성 분석\n",
        "#### 2) SentiWordNet을 이용한 영화 감상평 감성 분석\n",
        "- 생성한 함수를 IMDB 감상평의 개별 문서에 적용하여 긍정 및 부정 감성을 예측한다.\n",
        "- 판다스의 `apply lambda` 구문을 이용해 swn_polarity(text)를 개별 감상평 텍스트에 적용한다. 반환된 감성 평가를 review_df의 새로운 칼럼 'preds'로 추가한다.\n",
        "- 실제 감성 평가인 'sentiment'과 예측 결과인 'preds'에 대하여 정확도, 정밀도, 재현율 값을 측정한다.\n",
        "- 정확도가 약 66.1%, 정밀도가 약 64.7%, 재현율이 약 67.64%이다. "
      ],
      "metadata": {
        "id": "1DgEU6cmI0sQ"
      }
    },
    {
      "cell_type": "code",
      "source": [
        "review_df = pd.read_csv('/content/drive/MyDrive/ESAA/data/labeledTrainData.tsv', header=0, sep='\\t', quoting=3)\n",
        "review_df['review'] = review_df['review'].str.replace('<br \\>', ' ')\n",
        "review_df['review'] = review_df['review'].apply(lambda x: re.sub('[^a-zA-Z]', ' ', x))"
      ],
      "metadata": {
        "id": "BghlBXIpJD-K"
      },
      "execution_count": null,
      "outputs": []
    },
    {
      "cell_type": "code",
      "source": [
        "review_df['preds'] = review_df['review'].apply(lambda x: swn_polarity(x))\n",
        "\n",
        "#실제값\n",
        "y_target = review_df['sentiment'].values\n",
        "#예측값\n",
        "preds = review_df['preds'].values"
      ],
      "metadata": {
        "id": "tJOuv4wvIxNi"
      },
      "execution_count": null,
      "outputs": []
    },
    {
      "cell_type": "code",
      "source": [
        "from sklearn.metrics import accuracy_score, confusion_matrix, precision_score, recall_score, f1_score, roc_auc_score\n",
        "import numpy as np\n",
        "print(confusion_matrix(y_target, preds))\n",
        "print(\"정확도: \", np.round(accuracy_score(y_target, preds), 4))\n",
        "print(\"정밀도: \", np.round(precision_score(y_target, preds), 4))\n",
        "print(\"재현율: \", np.round(f1_score(y_target, preds), 4))"
      ],
      "metadata": {
        "colab": {
          "base_uri": "https://localhost:8080/"
        },
        "id": "2IJB4QTDJoFR",
        "outputId": "303bcd8d-34d0-4746-c2e6-5468589a071c"
      },
      "execution_count": null,
      "outputs": [
        {
          "output_type": "stream",
          "name": "stdout",
          "text": [
            "[[7669 4831]\n",
            " [3644 8856]]\n",
            "정확도:  0.661\n",
            "정밀도:  0.647\n",
            "재현율:  0.6764\n"
          ]
        }
      ]
    },
    {
      "cell_type": "markdown",
      "source": [
        "### 5-4. VADER을 이용한 감성 분석\n",
        "- 또 다른 Lexicon인 **VADER Lexicon**이 있다. VADER는 소셜 미디어의 감성 분석 용도로 만들어진 룰 기반의 Lexicon이다. \n",
        "- VADER는 **`SentimentIntensityAnalyzer`** 클래스를 이용해 쉽게 감성 분석을 제공한다.\n",
        "- VADER는 NLTK 패키지의 서브 모듈로 제공될 수도 있고, 단독 패키지로 제공될 수도 있다. \n",
        "- NLTK의 서브 모듈로 **`SentimentIntensityAnalyzer`**을 임포트하고, 간략하게 IMDB의 감상평 1개만 감성 분석을 수행하여 결과를 살펴본다.\n",
        "---\n",
        "- 먼저 **`SentimentIntensityAnalyzer`** 객체를 생성한 뒤에 문서별로 **`polarity_scores( )`** 메서드를 호출하여 **감성 점수**를 구한다. 해당 문서의 감성 점수가 특정 임계값 이상이면 긍정 감성, 그렇지 않으면 부정 감성으로 판단한다.\n",
        "-  SentimentIntensityAnalyzer 객체의 `polarity_scores( )` 메서드는 **딕셔너리 형태의 감성 점수를 반환**한다. 'neg'는 부정 감성 지수, 'neu'는 중립적 감성 지수, 'pos'는 긍정 감성 지수, 'compound'는 neg, neu, pos score를 적절하게 조합하여 -1에서 1 사이의 감성 지수를 표현한 값이다. \n",
        "- compound score를 기반으로 부정 감성 또는 긍정 감성 여부를 결정한다. 보통 0.1 이상이면 긍정 감성, 그 이하이면 부정 감성으로 판단하며 상황에 따라 임계값을 적절하게 조절하여 예측 성능을 조절한다."
      ],
      "metadata": {
        "id": "Ez9x2FmrOw4C"
      }
    },
    {
      "cell_type": "code",
      "source": [
        "from nltk.sentiment.vader import SentimentIntensityAnalyzer\n",
        "senti_analyzer = SentimentIntensityAnalyzer()\n",
        "senti_scores = senti_analyzer.polarity_scores(review_df['review'][0])\n",
        "print(senti_scores)"
      ],
      "metadata": {
        "colab": {
          "base_uri": "https://localhost:8080/"
        },
        "id": "mmI5uUPDOVwf",
        "outputId": "21aff633-40a3-4c11-9b52-2bff7971eedb"
      },
      "execution_count": null,
      "outputs": [
        {
          "output_type": "stream",
          "name": "stdout",
          "text": [
            "{'neg': 0.127, 'neu': 0.747, 'pos': 0.125, 'compound': -0.7943}\n"
          ]
        }
      ]
    },
    {
      "cell_type": "markdown",
      "source": [
        "### 5-4. VADER을 이용한 감성 분석\n",
        "- VADER를 이용해 IMDB 감성 분석을 수행하기 위해 vader_polarity( ) 함수를 생성한다. 이 함수는 **입력 파라미터로 영화 감상평 텍스트와 긍정/부정을 결정하는 임계값**을 가지며, **SentimentIntensityAnalyzer 객체의 `polarity_scores( )` 메서드를 호출하여 감성 결과를 반환**한다.\n",
        "- review_df에 `apply lambda` 식을 이용해 vader_polarity( ) 함수를 호출하여 각 문서별로 구한 감성 결과를 새로운 칼럼 'vader_preds'로 추가한다. 그리고 저장된 감성 분석 결과를 기반으로 VADER의 예측 성능을 측정한다.\n",
        "- 정확도가 약 69.57%, 정밀도가 약 64.92%, 재현율이 약 73.67%이다. (SentiWordNet을 이용한 결과: 정확도 약 66.1%, 정밀도 약 64.7%, 재현율 약 67.64%) 세 측정 지표에서 모두 상승했으며, 특히 재현율에서 많이 향상되었다.\n",
        "- 감성 사전을 이용한 감성 분석 예측 성능은 지도학습 분류 기반의 예측 성능에 비하면 아직 낮은 수준이지만, 결정 클래스 값이 없는 상황을 고려한다면 어느 정도 만족할 만한 수준이다."
      ],
      "metadata": {
        "id": "XOuWYHruRMwX"
      }
    },
    {
      "cell_type": "code",
      "source": [
        "def vader_polarity(review, threshold=0.1):\n",
        "    analyzer = SentimentIntensityAnalyzer()\n",
        "    scores = analyzer.polarity_scores(review)\n",
        "\n",
        "    #compound 값에 기반하여 threshold인 0.1보다 크면 긍정 감성으로 1, 그렇지 않으면 부정 감성으로 0을 반환\n",
        "    agg_score = scores['compound']\n",
        "    final_sentiment = 1 if agg_score >= threshold else 0\n",
        "    return final_sentiment"
      ],
      "metadata": {
        "id": "td7Kdj1IRMUP"
      },
      "execution_count": null,
      "outputs": []
    },
    {
      "cell_type": "code",
      "source": [
        "#apply lambda 식을 이용하여 레코드별로 vader_polarity()를 수행하고 그 결과를 'vader_preds'에 저장\n",
        "review_df['vader_preds'] = review_df['review'].apply(lambda x: vader_polarity(x, 0.1))\n",
        "\n",
        "y_target = review_df['sentiment'].values\n",
        "vader_preds = review_df['vader_preds'].values\n",
        "\n",
        "print(confusion_matrix(y_target, vader_preds))\n",
        "print(\"정확도: \", np.round(accuracy_score(y_target, vader_preds), 4))\n",
        "print(\"정밀도: \", np.round(precision_score(y_target, vader_preds), 4))\n",
        "print(\"재현율: \", np.round(f1_score(y_target, vader_preds), 4))"
      ],
      "metadata": {
        "colab": {
          "base_uri": "https://localhost:8080/"
        },
        "id": "IpGuzYBkShlN",
        "outputId": "6d535d55-a322-4e87-e1af-71a7f04da85f"
      },
      "execution_count": null,
      "outputs": [
        {
          "output_type": "stream",
          "name": "stdout",
          "text": [
            "[[ 6749  5751]\n",
            " [ 1856 10644]]\n",
            "정확도:  0.6957\n",
            "정밀도:  0.6492\n",
            "재현율:  0.7367\n"
          ]
        }
      ]
    }
  ]
}